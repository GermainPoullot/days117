{
 "cells": [
  {
   "cell_type": "markdown",
   "id": "90ea19c9",
   "metadata": {},
   "source": [
    "$$\n",
    "\\def\\CC{\\bf C}\n",
    "\\def\\QQ{\\bf Q}\n",
    "\\def\\RR{\\bf R}\n",
    "\\def\\ZZ{\\bf Z}\n",
    "\\def\\NN{\\bf N}\n",
    "$$\n",
    "# Group Theory and Sage\n",
    "\n",
    "Robert A. Beezer, University of Puget Sound\n",
    "\n",
    "This compilation collects Sage commands that are useful for a student in\n",
    "an introductory course on group theory. It is not intended to teach Sage\n",
    "or to teach group theory. (There are many introductory texts on group\n",
    "theory and more information on Sage can be found via\n",
    "[www.sagemath.org](www.sagemath.org)) Rather, by presenting commands\n",
    "roughly in the order a student would learn the corresponding mathematics\n",
    "they might be encouraged to experiment and learn more about mathematics\n",
    "and learn more about Sage. Not coincidentally, when Sage was the acronym\n",
    "SAGE, the \"E\" in Sage stood for \"Experimentation.\"\n",
    "\n",
    "This guide is also distributed in PDF format and as a Sage worksheet.\n",
    "The worksheet version can be imported into the Sage notebook environment\n",
    "running in a web browser, and then the displayed chunks of code may be\n",
    "executed by Sage if one clicks on the small \"evaluate\" link below each\n",
    "cell, for a fully interactive experience. A PDF and Sage worksheet\n",
    "versions of this tutorial are available at\n",
    "<http://abstract.ups.edu/sage-aata.html>.\n",
    "\n",
    "Table of contents\n",
    "\n",
    "Changelog:\n",
    "\n",
    "-   2009/01/30 Version 1.0, first complete release\n",
    "-   2009/03/03 Version 1.1, added cyclic group size interact\n",
    "-   2010/03/10 Version 1.3, dropped US on license, some edits.\n",
    "\n",
    "## Basic properties of the integers\n",
    "\n",
    "### Integer division\n",
    "\n",
    "The command `a % b` will return the remainder upon division of $a$ by\n",
    "$b$. In other words, the value is the unique integer $r$ such that:\n",
    "\n",
    "1.  $0 \\leq r < b$; and\n",
    "2.  $a = bq + r$ for some integer $q$ (the quotient).\n",
    "\n",
    "Then $(a - r) / b$ will equal $q$. For example:"
   ]
  },
  {
   "cell_type": "code",
   "execution_count": null,
   "id": "cfc1508e",
   "metadata": {},
   "outputs": [
    {
     "data": {
      "text/plain": [
       "(2, 4)"
      ]
     },
     "execution_count": 1,
     "metadata": {},
     "output_type": "execute_result"
    }
   ],
   "source": [
    "r = 14 % 3\n",
    "q = (14 - r) / 3\n",
    "r, q"
   ]
  },
  {
   "cell_type": "markdown",
   "id": "6f126168",
   "metadata": {},
   "source": [
    "will return `2` for the value of `r` and `4` for the value of `q`. Note\n",
    "that the \"`/`\" is *integer* division, where any remainder is cast away\n",
    "and the result is always an integer. So, for example, `14 / 3` will\n",
    "again equal `4`, not `4.66666`.\n",
    "\n",
    "### Greatest common divisor\n",
    "\n",
    "The greatest common divisor of $a$ and $b$ is obtained with the command\n",
    "`gcd(a,b)`, where in our first uses, $a$ and $b$ are integers. Later,\n",
    "$a$ and $b$ can be other objects with a notion of divisibility and\n",
    "\"greatness,\" such as polynomials. For example:"
   ]
  },
  {
   "cell_type": "code",
   "execution_count": null,
   "id": "309e2ce4",
   "metadata": {},
   "outputs": [
    {
     "data": {
      "text/plain": [
       "4"
      ]
     },
     "execution_count": 1,
     "metadata": {},
     "output_type": "execute_result"
    }
   ],
   "source": [
    "gcd(2776, 2452)"
   ]
  },
  {
   "cell_type": "markdown",
   "id": "6f14e1ad",
   "metadata": {},
   "source": [
    "### Extended greatest common divisor\n",
    "\n",
    "The command `xgcd(a, b)` (\"eXtended GCD\") returns a triple where the\n",
    "first element is the greatest common divisor of $a$ and $b$ (as with the\n",
    "`gcd(a, b)` command above), but the next two elements are the values of\n",
    "$r$ and $s$ such that $ra + sb = \\gcd(a, b)$. For example,\n",
    "`xgcd(633, 331)` returns `(1, 194, -371)`. Portions of the triple can be\n",
    "extracted using `[ ]` to access the entries of the triple, starting with\n",
    "the first as number `0`. For example, the following should return the\n",
    "result `True` (even if you change the values of `a` and `b`). Studying\n",
    "this block of code will go a long way towards helping you get the most\n",
    "out of Sage's output. (Note that \"`=`\" is how a value is assigned to a\n",
    "variable, while as in the last line, \"`==`\" is how we determine equality\n",
    "of two items.) :"
   ]
  },
  {
   "cell_type": "code",
   "execution_count": null,
   "id": "34d762e3",
   "metadata": {},
   "outputs": [
    {
     "data": {
      "text/plain": [
       "True"
      ]
     },
     "execution_count": 1,
     "metadata": {},
     "output_type": "execute_result"
    }
   ],
   "source": [
    "a = 633\n",
    "b = 331\n",
    "extended = xgcd(a, b)\n",
    "g = extended[0]\n",
    "r = extended[1]\n",
    "s = extended[2]\n",
    "g == r*a + s*b"
   ]
  },
  {
   "cell_type": "markdown",
   "id": "2c178f52",
   "metadata": {},
   "source": [
    "### Divisibility\n",
    "\n",
    "A remainder of zero indicates divisibility. So `(a % b) == 0` will\n",
    "return `True` if $b$ divides $a$, and will otherwise return `False`. For\n",
    "example, `(9 % 3) == 0` is `True`, but `(9 % 4) == 0` is `False`. Try\n",
    "predicting the output of the following before executing it in Sage. :"
   ]
  },
  {
   "cell_type": "code",
   "execution_count": null,
   "id": "6eef32f3",
   "metadata": {},
   "outputs": [
    {
     "data": {
      "text/plain": [
       "(True, False)"
      ]
     },
     "execution_count": 1,
     "metadata": {},
     "output_type": "execute_result"
    }
   ],
   "source": [
    "answer1 = ((20 % 5) == 0)\n",
    "answer2 = ((17 % 4) == 0)\n",
    "answer1, answer2"
   ]
  },
  {
   "cell_type": "markdown",
   "id": "2aad14dc",
   "metadata": {},
   "source": [
    "### Factoring\n",
    "\n",
    "As promised by the Fundamental Theorem of Arithmetic, `factor(a)` will\n",
    "return a unique expression for $a$ as a product of powers of primes. It\n",
    "will print in a nicely-readable form, but can also be manipulated with\n",
    "Python as a list of pairs $(p_i, e_i)$ containing primes as bases, and\n",
    "their associated exponents. For example:"
   ]
  },
  {
   "cell_type": "code",
   "execution_count": null,
   "id": "22f03b5b",
   "metadata": {},
   "outputs": [
    {
     "data": {
      "text/plain": [
       "2^3 * 5^2 * 13"
      ]
     },
     "execution_count": 1,
     "metadata": {},
     "output_type": "execute_result"
    }
   ],
   "source": [
    "factor(2600)"
   ]
  },
  {
   "cell_type": "markdown",
   "id": "93fdcc7f",
   "metadata": {},
   "source": [
    "If you just want the prime divisors of an integer, then use the\n",
    "`prime_divisors(a)` command, which will return a list of all the prime\n",
    "divisors of $a$. For example:"
   ]
  },
  {
   "cell_type": "code",
   "execution_count": null,
   "id": "787e38f8",
   "metadata": {},
   "outputs": [
    {
     "data": {
      "text/plain": [
       "[2, 5, 13]"
      ]
     },
     "execution_count": 1,
     "metadata": {},
     "output_type": "execute_result"
    }
   ],
   "source": [
    "prime_divisors(2600)"
   ]
  },
  {
   "cell_type": "markdown",
   "id": "a22c59a6",
   "metadata": {},
   "source": [
    "We can strip off other pieces of the prime decomposition using two\n",
    "levels of `[ ]`. This is another good example to study in order to learn\n",
    "about how to drill down into Python lists. :"
   ]
  },
  {
   "cell_type": "code",
   "execution_count": null,
   "id": "eede94ac",
   "metadata": {},
   "outputs": [
    {
     "data": {
      "text/plain": [
       "2600 decomposes as 2^3 * 5^2 * 13"
      ]
     },
     "execution_count": 1,
     "metadata": {},
     "output_type": "execute_result"
    }
   ],
   "source": [
    "n = 2600\n",
    "decomposition = factor(n)\n",
    "print(\"{} decomposes as {}\".format(n, decomposition))"
   ]
  },
  {
   "cell_type": "code",
   "execution_count": null,
   "id": "c151249f",
   "metadata": {},
   "outputs": [
    {
     "data": {
      "text/plain": [
       "Base and exponent (pair) for second prime: (5, 2)"
      ]
     },
     "execution_count": 1,
     "metadata": {},
     "output_type": "execute_result"
    }
   ],
   "source": [
    "secondterm = decomposition[1]\n",
    "print(\"Base and exponent (pair) for second prime: \"+str(secondterm))"
   ]
  },
  {
   "cell_type": "code",
   "execution_count": null,
   "id": "61919fdb",
   "metadata": {},
   "outputs": [
    {
     "data": {
      "text/plain": [
       "Base is 5"
      ]
     },
     "execution_count": 1,
     "metadata": {},
     "output_type": "execute_result"
    }
   ],
   "source": [
    "base = secondterm[0]\n",
    "exponent = secondterm[1]\n",
    "print(\"Base is \"+str(base))"
   ]
  },
  {
   "cell_type": "code",
   "execution_count": null,
   "id": "296d1ca0",
   "metadata": {},
   "outputs": [
    {
     "data": {
      "text/plain": [
       "Exponent is 2"
      ]
     },
     "execution_count": 1,
     "metadata": {},
     "output_type": "execute_result"
    }
   ],
   "source": [
    "print(\"Exponent is \"+str(exponent))"
   ]
  },
  {
   "cell_type": "code",
   "execution_count": null,
   "id": "b30c2e1c",
   "metadata": {},
   "outputs": [
    {
     "data": {
      "text/plain": [
       "Base of third term is 13 with exponent  1"
      ]
     },
     "execution_count": 1,
     "metadata": {},
     "output_type": "execute_result"
    }
   ],
   "source": [
    "thirdbase = decomposition[2][0]\n",
    "thirdexponent = decomposition[2][1]\n",
    "print(\"Base of third term is {} with exponent {}\".format(thirdbase, thirdexponent))"
   ]
  },
  {
   "cell_type": "markdown",
   "id": "a7a6006d",
   "metadata": {},
   "source": [
    "With a bit more work, the `factor()` command can be used to factor more\n",
    "complicated items, such as polynomials.\n",
    "\n",
    "### Multiplicative inverse, modular arithmetic\n",
    "\n",
    "The command `inverse_mod(a, n)` yields the multiplicative inverse of $a$\n",
    "mod $n$ (or an error if it doesn't exist). For example:"
   ]
  },
  {
   "cell_type": "code",
   "execution_count": null,
   "id": "80158f90",
   "metadata": {},
   "outputs": [
    {
     "data": {
      "text/plain": [
       "508"
      ]
     },
     "execution_count": 1,
     "metadata": {},
     "output_type": "execute_result"
    }
   ],
   "source": [
    "inverse_mod(352, 917)"
   ]
  },
  {
   "cell_type": "markdown",
   "id": "cdb6eb36",
   "metadata": {},
   "source": [
    "(As a check, find the integer $m$ such that `352*508 == m*917+1`.) Then\n",
    "try :"
   ]
  },
  {
   "cell_type": "code",
   "execution_count": null,
   "id": "194a0bc7",
   "metadata": {},
   "outputs": [
    {
     "data": {
      "text/plain": [
       "Traceback (most recent call last):\n",
       "...\n",
       "ZeroDivisionError: inverse of Mod(4, 24) does not exist"
      ]
     },
     "execution_count": 1,
     "metadata": {},
     "output_type": "execute_result"
    }
   ],
   "source": [
    "inverse_mod(4, 24)"
   ]
  },
  {
   "cell_type": "markdown",
   "id": "e296b15e",
   "metadata": {},
   "source": [
    "and explain the result.\n",
    "\n",
    "### Powers with modular arithmetic\n",
    "\n",
    "The command `power_mod(a, m, n)` yields $a^m$ mod $n$. For example:"
   ]
  },
  {
   "cell_type": "code",
   "execution_count": null,
   "id": "1c2ff18e",
   "metadata": {},
   "outputs": [
    {
     "data": {
      "text/plain": [
       "10"
      ]
     },
     "execution_count": 1,
     "metadata": {},
     "output_type": "execute_result"
    }
   ],
   "source": [
    "power_mod(15, 831, 23)"
   ]
  },
  {
   "cell_type": "markdown",
   "id": "4ea39be2",
   "metadata": {},
   "source": [
    "If $m = -1$, then this command will duplicate the function of\n",
    "`inverse_mod()`.\n",
    "\n",
    "### Euler $\\phi$-function\n",
    "\n",
    "The command `euler_phi(n)` will return the number of positive integers\n",
    "less than $n$ and relatively prime to $n$ (i.e. having greatest common\n",
    "divisor with $n$ equal to 1). For example:"
   ]
  },
  {
   "cell_type": "code",
   "execution_count": null,
   "id": "8015458a",
   "metadata": {},
   "outputs": [
    {
     "data": {
      "text/plain": [
       "176"
      ]
     },
     "execution_count": 1,
     "metadata": {},
     "output_type": "execute_result"
    }
   ],
   "source": [
    "euler_phi(345)"
   ]
  },
  {
   "cell_type": "markdown",
   "id": "ccab0bec",
   "metadata": {},
   "source": [
    "Experiment by running the following code several times:"
   ]
  },
  {
   "cell_type": "code",
   "execution_count": null,
   "id": "79b79e77",
   "metadata": {},
   "outputs": [
    {
     "data": {
      "text/plain": [
       "True"
      ]
     },
     "execution_count": 1,
     "metadata": {},
     "output_type": "execute_result"
    }
   ],
   "source": [
    "m = random_prime(10000)\n",
    "n = random_prime(10000)\n",
    "euler_phi(m*n) == euler_phi(m) * euler_phi(n)"
   ]
  },
  {
   "cell_type": "markdown",
   "id": "d656e7ad",
   "metadata": {},
   "source": [
    "Feel a conjecture coming on? Can you generalize this result?\n",
    "\n",
    "### Primes\n",
    "\n",
    "The command `is_prime(a)` returns `True` or `False` depending on if $a$\n",
    "is prime or not. For example, :"
   ]
  },
  {
   "cell_type": "code",
   "execution_count": null,
   "id": "d77e3776",
   "metadata": {},
   "outputs": [
    {
     "data": {
      "text/plain": [
       "True"
      ]
     },
     "execution_count": 1,
     "metadata": {},
     "output_type": "execute_result"
    }
   ],
   "source": [
    "is_prime(117371)"
   ]
  },
  {
   "cell_type": "markdown",
   "id": "e5b33ba1",
   "metadata": {},
   "source": [
    "while :"
   ]
  },
  {
   "cell_type": "code",
   "execution_count": null,
   "id": "df91e385",
   "metadata": {},
   "outputs": [
    {
     "data": {
      "text/plain": [
       "False"
      ]
     },
     "execution_count": 1,
     "metadata": {},
     "output_type": "execute_result"
    }
   ],
   "source": [
    "is_prime(14547073)"
   ]
  },
  {
   "cell_type": "markdown",
   "id": "d4e351bf",
   "metadata": {},
   "source": [
    "since $14547073 = 1597 * 9109$ (as you could determine with the\n",
    "`factor()` command).\n",
    "\n",
    "The command `random_prime(a, True)` will return a random prime between 2\n",
    "and $a$. Experiment with:"
   ]
  },
  {
   "cell_type": "code",
   "execution_count": null,
   "id": "c688ff6b",
   "metadata": {},
   "outputs": [
    {
     "data": {
      "text/plain": [
       "True"
      ]
     },
     "execution_count": 1,
     "metadata": {},
     "output_type": "execute_result"
    }
   ],
   "source": [
    "p = random_prime(10^21, True)\n",
    "is_prime(p)"
   ]
  },
  {
   "cell_type": "markdown",
   "id": "c25c93dc",
   "metadata": {},
   "source": [
    "(Replacing `True` by `False` will speed up the search, but there will be\n",
    "a very small probability the result will not be prime.)\n",
    "\n",
    "The command `prime_range(a, b)` returns an ordered list of all the\n",
    "primes from $a$ to $b - 1$, inclusive. For example, :"
   ]
  },
  {
   "cell_type": "code",
   "execution_count": null,
   "id": "9d6dbba1",
   "metadata": {},
   "outputs": [
    {
     "data": {
      "text/plain": [
       "[503, 509, 521, 523, 541, 547]"
      ]
     },
     "execution_count": 1,
     "metadata": {},
     "output_type": "execute_result"
    }
   ],
   "source": [
    "prime_range(500, 550)"
   ]
  },
  {
   "cell_type": "markdown",
   "id": "ea5982e5",
   "metadata": {},
   "source": [
    "The commands `next_prime(a)` and `previous_prime(a)` are other ways to\n",
    "get a single prime number of a desired size. Give them a try.\n",
    "\n",
    "## Permutation groups\n",
    "\n",
    "A good portion of Sage's support for group theory is based on routines\n",
    "from GAP (Groups, Algorithms, and Programming at\n",
    "<https://www.gap-system.org>. Groups can be described in many different\n",
    "ways, such as sets of matrices or sets of symbols subject to a few\n",
    "defining relations. A very concrete way to represent groups is via\n",
    "permutations (one-to-one and onto functions of the integers 1 through\n",
    "$n$), using function composition as the operation in the group. Sage has\n",
    "many routines designed to work with groups of this type and they are\n",
    "also a good way for those learning group theory to gain experience with\n",
    "the basic ideas of group theory. For both these reasons, we will\n",
    "concentrate on these types of groups.\n",
    "\n",
    "### Writing permutations\n",
    "\n",
    "Sage uses \"disjoint cycle notation\" for permutations, see any\n",
    "introductory text on group theory (such as Judson, Section 4.1) for more\n",
    "on this. Composition occurs *left to right*, which is not what you might\n",
    "expect and is exactly the reverse of what Judson and many others use.\n",
    "(There are good reasons to support either direction, you just need to be\n",
    "certain you know which one is in play.) There are two ways to write the\n",
    "permutation $\\sigma = (1\\,3) (2\\,5\\,4)$ :\n",
    "\n",
    "1.  As a text string (include quotes): `\"(1,3) (2,5,4)\"`\n",
    "2.  As a Python list of \"tuples\": `[(1,3), (2,5,4)]`\n",
    "\n",
    "### Groups\n",
    "\n",
    "Sage knows many popular groups as sets of permutations. More are listed\n",
    "below, but for starters, the full \"symmetric group\" of all possible\n",
    "permutations of 1 through $n$ can be built with the command\n",
    "`SymmetricGroup(n)`.\n",
    "\n",
    "**Permutation elements** Elements of a group can be created, and\n",
    "composed, as follows :"
   ]
  },
  {
   "cell_type": "code",
   "execution_count": null,
   "id": "5a3c1152",
   "metadata": {},
   "outputs": [
    {
     "data": {
      "text/plain": [
       "(1,2,4)(3,5)"
      ]
     },
     "execution_count": 1,
     "metadata": {},
     "output_type": "execute_result"
    }
   ],
   "source": [
    "G = SymmetricGroup(5)\n",
    "sigma = G(\"(1,3) (2,5,4)\")\n",
    "rho = G([(2,4), (1,5)])\n",
    "rho^(-1) * sigma * rho"
   ]
  },
  {
   "cell_type": "markdown",
   "id": "05ef4640",
   "metadata": {},
   "source": [
    "Available functions for elements of a permutation group include finding\n",
    "the order of an element, i.e. for a permutation $\\sigma$ the order is\n",
    "the smallest power of $k$ such that $\\sigma^k$ equals the identity\n",
    "element $()$. For example:"
   ]
  },
  {
   "cell_type": "code",
   "execution_count": null,
   "id": "3147c115",
   "metadata": {},
   "outputs": [
    {
     "data": {
      "text/plain": [
       "6"
      ]
     },
     "execution_count": 1,
     "metadata": {},
     "output_type": "execute_result"
    }
   ],
   "source": [
    "G = SymmetricGroup(5)\n",
    "sigma = G(\"(1,3) (2,5,4)\")\n",
    "sigma.order()"
   ]
  },
  {
   "cell_type": "markdown",
   "id": "c8e8e98c",
   "metadata": {},
   "source": [
    "The sign of the permutation $\\sigma$ is defined to be 1 for an even\n",
    "permutation and $-1$ for an odd permutation. For example:"
   ]
  },
  {
   "cell_type": "code",
   "execution_count": null,
   "id": "397eedca",
   "metadata": {},
   "outputs": [
    {
     "data": {
      "text/plain": [
       "-1"
      ]
     },
     "execution_count": 1,
     "metadata": {},
     "output_type": "execute_result"
    }
   ],
   "source": [
    "G = SymmetricGroup(5)\n",
    "sigma = G(\"(1,3) (2,5,4)\")\n",
    "sigma.sign()"
   ]
  },
  {
   "cell_type": "markdown",
   "id": "8ccff1bc",
   "metadata": {},
   "source": [
    "since $\\sigma$ is an odd permutation.\n",
    "\n",
    "Many more available functions that can be applied to a permutation can\n",
    "be found via \"tab-completion.\" With `sigma` defined as an element of a\n",
    "permutation group, in a Sage cell, type `sigma.` (Note the \"`.`\") and\n",
    "then press the `Tab` key. You will get a list of available functions\n",
    "(you may need to scroll down to see the whole list). Experiment and\n",
    "explore! It is what Sage is all about. You really cannot break anything.\n",
    "\n",
    "### Creating groups\n",
    "\n",
    "This is an annotated list of some small well-known permutation groups\n",
    "that can be created simply in Sage. You can find more in the source code\n",
    "file :"
   ]
  },
  {
   "cell_type": "code",
   "execution_count": null,
   "id": "b93816f2",
   "metadata": {},
   "outputs": [],
   "source": [
    "SAGE_ROOT/src/sage/groups/perm_gps/permgroup_named.py"
   ]
  },
  {
   "cell_type": "markdown",
   "id": "7af33c66",
   "metadata": {},
   "source": [
    "-   `SymmetricGroup(n)` : All $n!$ permutations on $n$ symbols.\n",
    "-   `DihedralGroup(n)` : Symmetries of an $n$-gon. Rotations and flips,\n",
    "    $2n$ in total.\n",
    "-   `CyclicPermutationGroup(n)` : Rotations of an $n$-gon (no flips),\n",
    "    $n$ in total.\n",
    "-   `AlternatingGroup(n)` : Alternating group on $n$ symbols having\n",
    "    $n!/2$ elements.\n",
    "-   `KleinFourGroup()` : The non-cyclic group of order 4.\n",
    "\n",
    "## Group functions\n",
    "\n",
    "Individual elements of permutation groups are important, but we\n",
    "primarily wish to study groups as objects on their own. So a wide\n",
    "variety of computations are available for groups. Define a group, for\n",
    "example :"
   ]
  },
  {
   "cell_type": "code",
   "execution_count": null,
   "id": "17c69c0e",
   "metadata": {},
   "outputs": [
    {
     "data": {
      "text/plain": [
       "Dihedral group of order 12 as a permutation group"
      ]
     },
     "execution_count": 1,
     "metadata": {},
     "output_type": "execute_result"
    }
   ],
   "source": [
    "H = DihedralGroup(6)\n",
    "H"
   ]
  },
  {
   "cell_type": "markdown",
   "id": "ddae1a32",
   "metadata": {},
   "source": [
    "and then a variety of functions become available.\n",
    "\n",
    "After trying the examples below, experiment with tab-completion. Having\n",
    "defined `H`, type `H.` (note the \"`.`\") and then press the `Tab` key.\n",
    "You will get a list of available functions (you may need to scroll down\n",
    "to see the whole list). As before, *experiment and explore*---it is\n",
    "really hard to break anything.\n",
    "\n",
    "Here is another couple of ways to experiment and explore. Find a\n",
    "function that looks interesting, say `is_abelian()`. Type\n",
    "`H.is_abelian?` (note the question mark) followed by the `Enter` key.\n",
    "This will display a portion of the source code for the `is_abelian()`\n",
    "function, describing the inputs and output, possibly illustrated with\n",
    "example uses.\n",
    "\n",
    "If you want to learn more about how Sage works, or possibly extend its\n",
    "functionality, then you can start by examining the complete Python\n",
    "source code. For example, try `H.is_abelian??`, which will allow you to\n",
    "determine that the `is_abelian()` function is basically riding on GAP's\n",
    "`IsAbelian()` command and asking GAP do the heavy-lifting for us. (To\n",
    "get the maximum advantage of using Sage it helps to know some basic\n",
    "Python programming, but it is not required.)\n",
    "\n",
    "OK, on to some popular command for groups. If you are using the\n",
    "worksheet, be sure you have defined the group $H$ as the dihedral group\n",
    "$D_6$, since we will not keep repeating its definition below.\n",
    "\n",
    "### Abelian?\n",
    "\n",
    "The command :"
   ]
  },
  {
   "cell_type": "code",
   "execution_count": null,
   "id": "b2ff6842",
   "metadata": {},
   "outputs": [
    {
     "data": {
      "text/plain": [
       "False"
      ]
     },
     "execution_count": 1,
     "metadata": {},
     "output_type": "execute_result"
    }
   ],
   "source": [
    "H = DihedralGroup(6)\n",
    "H.is_abelian()"
   ]
  },
  {
   "cell_type": "markdown",
   "id": "33bcada8",
   "metadata": {},
   "source": [
    "will return `False` since $D_6$ is a non-abelian group.\n",
    "\n",
    "### Order\n",
    "\n",
    "The command :"
   ]
  },
  {
   "cell_type": "code",
   "execution_count": null,
   "id": "4a304d38",
   "metadata": {},
   "outputs": [
    {
     "data": {
      "text/plain": [
       "12"
      ]
     },
     "execution_count": 1,
     "metadata": {},
     "output_type": "execute_result"
    }
   ],
   "source": [
    "H = DihedralGroup(6)\n",
    "H.order()"
   ]
  },
  {
   "cell_type": "markdown",
   "id": "f3ae6d54",
   "metadata": {},
   "source": [
    "will return `12` since $D_6$ is a group of with 12 elements.\n",
    "\n",
    "### All elements\n",
    "\n",
    "The command :"
   ]
  },
  {
   "cell_type": "code",
   "execution_count": null,
   "id": "dbb56a8b",
   "metadata": {},
   "outputs": [
    {
     "data": {
      "text/plain": [
       "[(),\n",
       " (1,5,3)(2,6,4),\n",
       " (1,3,5)(2,4,6),\n",
       " (1,6,5,4,3,2),\n",
       " (1,4)(2,5)(3,6),\n",
       " (1,2,3,4,5,6),\n",
       " (2,6)(3,5),\n",
       " (1,5)(2,4),\n",
       " (1,3)(4,6),\n",
       " (1,6)(2,5)(3,4),\n",
       " (1,4)(2,3)(5,6),\n",
       " (1,2)(3,6)(4,5)]"
      ]
     },
     "execution_count": 1,
     "metadata": {},
     "output_type": "execute_result"
    }
   ],
   "source": [
    "H = DihedralGroup(6)\n",
    "H.list()"
   ]
  },
  {
   "cell_type": "markdown",
   "id": "2aec46d2",
   "metadata": {},
   "source": [
    "will return all of the elements of $H$ in a fixed order as a Python\n",
    "list. Indexing (`[ ]`) can be used to extract the individual elements of\n",
    "the list, remembering that counting the elements of the list begins at\n",
    "zero. :"
   ]
  },
  {
   "cell_type": "code",
   "execution_count": null,
   "id": "51fe82f1",
   "metadata": {},
   "outputs": [
    {
     "data": {
      "text/plain": [
       "(1,3,5)(2,4,6)"
      ]
     },
     "execution_count": 1,
     "metadata": {},
     "output_type": "execute_result"
    }
   ],
   "source": [
    "H = DihedralGroup(6)\n",
    "elements = H.list()\n",
    "elements[2]"
   ]
  },
  {
   "cell_type": "markdown",
   "id": "f7c95d06",
   "metadata": {},
   "source": [
    "### Cayley table\n",
    "\n",
    "The command :"
   ]
  },
  {
   "cell_type": "code",
   "execution_count": null,
   "id": "c99c1d31",
   "metadata": {},
   "outputs": [
    {
     "data": {
      "text/plain": [
       "*  a b c d e f g h i j k l\n",
       " +------------------------\n",
       "a| a b c d e f g h i j k l\n",
       "b| b a d c f e h g j i l k\n",
       "c| c k a e d g f i h l b j\n",
       "d| d l b f c h e j g k a i\n",
       "e| e j k g a i d l f b c h\n",
       "f| f i l h b j c k e a d g\n",
       "g| g h j i k l a b d c e f\n",
       "h| h g i j l k b a c d f e\n",
       "i| i f h l j b k c a e g d\n",
       "j| j e g k i a l d b f h c\n",
       "k| k c e a g d i f l h j b\n",
       "l| l d f b h c j e k g i a"
      ]
     },
     "execution_count": 1,
     "metadata": {},
     "output_type": "execute_result"
    }
   ],
   "source": [
    "H = DihedralGroup(6)\n",
    "H.cayley_table()"
   ]
  },
  {
   "cell_type": "markdown",
   "id": "72e350ed",
   "metadata": {},
   "source": [
    "will construct the Cayley table (or \"multiplication table\") of $H$. By\n",
    "default the table uses lowercase Latin letters to name the elements of\n",
    "the group. The actual elements used can be found using the `row_keys()`\n",
    "or `column_keys()` commands for the table. For example to determine the\n",
    "fifth element in the table, the element named `e` :"
   ]
  },
  {
   "cell_type": "code",
   "execution_count": null,
   "id": "0263336b",
   "metadata": {},
   "outputs": [
    {
     "data": {
      "text/plain": [
       "(1,3)(4,6)"
      ]
     },
     "execution_count": 1,
     "metadata": {},
     "output_type": "execute_result"
    }
   ],
   "source": [
    "H = DihedralGroup(6)\n",
    "T = H.cayley_table()\n",
    "headings = T.row_keys()\n",
    "headings[4]"
   ]
  },
  {
   "cell_type": "markdown",
   "id": "e4d670c9",
   "metadata": {},
   "source": [
    "### Center\n",
    "\n",
    "The command `H.center()` will return a subgroup that is the center of\n",
    "the group $H$ (see Exercise 2.46 in Judson). Try :"
   ]
  },
  {
   "cell_type": "code",
   "execution_count": null,
   "id": "eff3c3ff",
   "metadata": {},
   "outputs": [
    {
     "data": {
      "text/plain": [
       "[(), (1,4)(2,5)(3,6)]"
      ]
     },
     "execution_count": 1,
     "metadata": {},
     "output_type": "execute_result"
    }
   ],
   "source": [
    "H = DihedralGroup(6)\n",
    "H.center().list()"
   ]
  },
  {
   "cell_type": "markdown",
   "id": "9b43a561",
   "metadata": {},
   "source": [
    "to see which elements of $H$ commute with *every* element of $H$.\n",
    "\n",
    "### Cayley graph\n",
    "\n",
    "For fun, try `show(H.cayley_graph())`.\n",
    "\n",
    "## Subgroups\n",
    "\n",
    "### Cyclic subgroups\n",
    "\n",
    "If `G` is a group and `a` is an element of the group (try\n",
    "`a = G.random_element()`), then :"
   ]
  },
  {
   "cell_type": "code",
   "execution_count": null,
   "id": "ec53f696",
   "metadata": {},
   "outputs": [],
   "source": [
    "a = G.random_element()\n",
    "H = G.subgroup([a])"
   ]
  },
  {
   "cell_type": "markdown",
   "id": "2c3d5e74",
   "metadata": {},
   "source": [
    "will create `H` as the cyclic subgroup of `G` with generator `a`.\n",
    "\n",
    "For example the code below will:\n",
    "\n",
    "1.  create `G` as the symmetric group on five symbols;\n",
    "2.  specify `sigma` as an element of `G`;\n",
    "3.  use `sigma` as the generator of a cyclic subgroup `H`;\n",
    "4.  list all the elements of `H`.\n",
    "\n",
    "In more mathematical notation, we might write\n",
    "$\\langle (1\\,2\\,3) (4\\,5) \\rangle = H \\subseteq G = S_5$. :"
   ]
  },
  {
   "cell_type": "code",
   "execution_count": null,
   "id": "fc2938cc",
   "metadata": {},
   "outputs": [
    {
     "data": {
      "text/plain": [
       "[(), (1,2,3)(4,5), (1,3,2), (4,5), (1,2,3), (1,3,2)(4,5)]"
      ]
     },
     "execution_count": 1,
     "metadata": {},
     "output_type": "execute_result"
    }
   ],
   "source": [
    "G = SymmetricGroup(5)\n",
    "sigma = G(\"(1,2,3) (4,5)\")\n",
    "H = G.subgroup([sigma])\n",
    "H.list()"
   ]
  },
  {
   "cell_type": "markdown",
   "id": "71d7693a",
   "metadata": {},
   "source": [
    "Experiment by trying different permutations for `sigma` and observing\n",
    "the effect on `H`.\n",
    "\n",
    "### Cyclic groups\n",
    "\n",
    "Groups that are cyclic themselves are both important and rich in\n",
    "structure. The command `CyclicPermutationGroup(n)` will create a\n",
    "permutation group that is cyclic with `n` elements. Consider the\n",
    "following example (note that the indentation of the third line is\n",
    "critical) which will list the elements of a cyclic group of order 20,\n",
    "preceded by the order of each element. :"
   ]
  },
  {
   "cell_type": "code",
   "execution_count": null,
   "id": "aa524977",
   "metadata": {},
   "outputs": [
    {
     "data": {
      "text/plain": [
       "1   ()\n",
       "20   (1,2,3,4,5,6,7,8,9,10,11,12,13,14,15,16,17,18,19,20)\n",
       "10   (1,3,5,7,9,11,13,15,17,19)(2,4,6,8,10,12,14,16,18,20)\n",
       "20   (1,4,7,10,13,16,19,2,5,8,11,14,17,20,3,6,9,12,15,18)\n",
       "5   (1,5,9,13,17)(2,6,10,14,18)(3,7,11,15,19)(4,8,12,16,20)\n",
       "4   (1,6,11,16)(2,7,12,17)(3,8,13,18)(4,9,14,19)(5,10,15,20)\n",
       "10   (1,7,13,19,5,11,17,3,9,15)(2,8,14,20,6,12,18,4,10,16)\n",
       "20   (1,8,15,2,9,16,3,10,17,4,11,18,5,12,19,6,13,20,7,14)\n",
       "5   (1,9,17,5,13)(2,10,18,6,14)(3,11,19,7,15)(4,12,20,8,16)\n",
       "20   (1,10,19,8,17,6,15,4,13,2,11,20,9,18,7,16,5,14,3,12)\n",
       "2   (1,11)(2,12)(3,13)(4,14)(5,15)(6,16)(7,17)(8,18)(9,19)(10,20)\n",
       "20   (1,12,3,14,5,16,7,18,9,20,11,2,13,4,15,6,17,8,19,10)\n",
       "5   (1,13,5,17,9)(2,14,6,18,10)(3,15,7,19,11)(4,16,8,20,12)\n",
       "20   (1,14,7,20,13,6,19,12,5,18,11,4,17,10,3,16,9,2,15,8)\n",
       "10   (1,15,9,3,17,11,5,19,13,7)(2,16,10,4,18,12,6,20,14,8)\n",
       "4   (1,16,11,6)(2,17,12,7)(3,18,13,8)(4,19,14,9)(5,20,15,10)\n",
       "5   (1,17,13,9,5)(2,18,14,10,6)(3,19,15,11,7)(4,20,16,12,8)\n",
       "20   (1,18,15,12,9,6,3,20,17,14,11,8,5,2,19,16,13,10,7,4)\n",
       "10   (1,19,17,15,13,11,9,7,5,3)(2,20,18,16,14,12,10,8,6,4)\n",
       "20   (1,20,19,18,17,16,15,14,13,12,11,10,9,8,7,6,5,4,3,2)"
      ]
     },
     "execution_count": 1,
     "metadata": {},
     "output_type": "execute_result"
    }
   ],
   "source": [
    "n = 20\n",
    "CN = CyclicPermutationGroup(n)\n",
    "for g in CN:\n",
    "    print(\"{}   {}\".format(g.order(), g))"
   ]
  },
  {
   "cell_type": "markdown",
   "id": "7c42c521",
   "metadata": {},
   "source": [
    "By varying the size of the group (change the value of `n`) you can begin\n",
    "to illustrate some of the structure of a cyclic group (for example, try\n",
    "a prime).\n",
    "\n",
    "We can cut/paste an element of order 5 from the output above (in the\n",
    "case when the cyclic group has 20 elements) and quickly build a\n",
    "subgroup:"
   ]
  },
  {
   "cell_type": "code",
   "execution_count": null,
   "id": "87b79972",
   "metadata": {},
   "outputs": [
    {
     "data": {
      "text/plain": [
       "[(),\n",
       " (1,17,13,9,5)(2,18,14,10,6)(3,19,15,11,7)(4,20,16,12,8),\n",
       " (1,13,5,17,9)(2,14,6,18,10)(3,15,7,19,11)(4,16,8,20,12),\n",
       " (1,9,17,5,13)(2,10,18,6,14)(3,11,19,7,15)(4,12,20,8,16),\n",
       " (1,5,9,13,17)(2,6,10,14,18)(3,7,11,15,19)(4,8,12,16,20)]"
      ]
     },
     "execution_count": 1,
     "metadata": {},
     "output_type": "execute_result"
    }
   ],
   "source": [
    "C20 = CyclicPermutationGroup(20)\n",
    "rho = C20(\"(1,17,13,9,5)(2,18,14,10,6)(3,19,15,11,7)(4,20,16,12,8)\")\n",
    "H = C20.subgroup([rho])\n",
    "H.list()"
   ]
  },
  {
   "cell_type": "markdown",
   "id": "f33dcba3",
   "metadata": {},
   "source": [
    "For a cyclic group, the following command will list *all* of the\n",
    "subgroups. :"
   ]
  },
  {
   "cell_type": "code",
   "execution_count": null,
   "id": "b034d39f",
   "metadata": {},
   "outputs": [
    {
     "data": {
      "text/plain": [
       "[Subgroup generated by [()] of (Cyclic group of order 20 as a permutation group),\n",
       " Subgroup generated by [(1,11)(2,12)(3,13)(4,14)(5,15)(6,16)(7,17)(8,18)(9,19)(10,20)] of (Cyclic group of order 20 as a permutation group),\n",
       " Subgroup generated by [(1,6,11,16)(2,7,12,17)(3,8,13,18)(4,9,14,19)(5,10,15,20), (1,11)(2,12)(3,13)(4,14)(5,15)(6,16)(7,17)(8,18)(9,19)(10,20)] of (Cyclic group of order 20 as a permutation group),\n",
       " Subgroup generated by [(1,5,9,13,17)(2,6,10,14,18)(3,7,11,15,19)(4,8,12,16,20)] of (Cyclic group of order 20 as a permutation group),\n",
       " Subgroup generated by [(1,3,5,7,9,11,13,15,17,19)(2,4,6,8,10,12,14,16,18,20), (1,5,9,13,17)(2,6,10,14,18)(3,7,11,15,19)(4,8,12,16,20)] of (Cyclic group of order 20 as a permutation group),\n",
       " Subgroup generated by [(1,2,3,4,5,6,7,8,9,10,11,12,13,14,15,16,17,18,19,20), (1,3,5,7,9,11,13,15,17,19)(2,4,6,8,10,12,14,16,18,20), (1,5,9,13,17)(2,6,10,14,18)(3,7,11,15,19)(4,8,12,16,20)] of (Cyclic group of order 20 as a permutation group)]"
      ]
     },
     "execution_count": 1,
     "metadata": {},
     "output_type": "execute_result"
    }
   ],
   "source": [
    "C20 = CyclicPermutationGroup(20)\n",
    "C20.conjugacy_classes_subgroups()"
   ]
  },
  {
   "cell_type": "markdown",
   "id": "ad6b157b",
   "metadata": {},
   "source": [
    "Be careful, this command uses some more advanced ideas and will not\n",
    "usually list *all* of the subgroups of a group. Here we are relying on\n",
    "special properties of cyclic groups (but see the next section).\n",
    "\n",
    "If you are viewing this as a PDF, you can safely skip over the next bit\n",
    "of code. However, if you are viewing this as a worksheet in Sage, then\n",
    "this is a place where you can experiment with the structure of the\n",
    "subgroups of a cyclic group. In the input box, enter the order of a\n",
    "cyclic group (numbers between 1 and 40 are good initial choices) and\n",
    "Sage will list each subgroup as a cyclic group with its generator. The\n",
    "factorization at the bottom might help you formulate a conjecture. :"
   ]
  },
  {
   "cell_type": "code",
   "execution_count": null,
   "id": "8d27e4a5",
   "metadata": {},
   "outputs": [],
   "source": [
    "%auto\n",
    "@interact\n",
    "def _(n = input_box(default=12, label = \"Cyclic group of order:\", type=Integer) ):\n",
    "    cyclic = CyclicPermutationGroup(n)\n",
    "    subgroups = cyclic.conjugacy_classes_subgroups()\n",
    "    html( \"All subgroups of a cyclic group of order $%s$\\n\" % latex(n) )\n",
    "    table = \"$\\\\begin{array}{ll}\"\n",
    "    for sg in subgroups:\n",
    "      table = table + latex(sg.order()) + \\\n",
    "              \" & \\\\left\\\\langle\" + latex(sg.gens()[0]) + \\\n",
    "              \"\\\\right\\\\rangle\\\\\\\\\"\n",
    "    table = table + \"\\\\end{array}$\"\n",
    "    html(table)\n",
    "    html(\"\\nHint: $%s$ factors as $%s$\" % ( latex(n), latex(factor(n)) ) )"
   ]
  },
  {
   "cell_type": "markdown",
   "id": "5b72475a",
   "metadata": {},
   "source": [
    "### All subgroups\n",
    "\n",
    "If $H$ is a subgroup of $G$ and $g \\in G$, then\n",
    "$gHg^{-1} = \\{ghg^{-1} \\mid h \\in G\\}$ will also be a subgroup of $G$.\n",
    "If `G` is a group, then the command `G.conjugacy_classes_subgroups()`\n",
    "will return a list of subgroups of `G`, but not all of the subgroups.\n",
    "However, every subgroup can be constructed from one on the list by the\n",
    "$gHg^{-1}$ construction with a suitable $g$. As an illustration, the\n",
    "code below:\n",
    "\n",
    "1.  creates `K` as the dihedral group of order 24, $D_{12}$;\n",
    "2.  stores the list of subgroups output by\n",
    "    `K.conjugacy_classes_subgroups()` in the variable `sg`;\n",
    "3.  prints the elements of the list;\n",
    "4.  selects the second subgroup in the list, and lists its elements."
   ]
  },
  {
   "cell_type": "code",
   "execution_count": null,
   "id": "3d461c20",
   "metadata": {},
   "outputs": [
    {
     "data": {
      "text/plain": [
       "[Subgroup generated by [()] of (Dihedral group of order 24 as a permutation group),\n",
       " Subgroup generated by [(1,7)(2,8)(3,9)(4,10)(5,11)(6,12)] of (Dihedral group of order 24 as a permutation group),\n",
       " Subgroup generated by [(2,12)(3,11)(4,10)(5,9)(6,8)] of (Dihedral group of order 24 as a permutation group),\n",
       " Subgroup generated by [(1,2)(3,12)(4,11)(5,10)(6,9)(7,8)] of (Dihedral group of order 24 as a permutation group),\n",
       " Subgroup generated by [(1,5,9)(2,6,10)(3,7,11)(4,8,12)] of (Dihedral group of order 24 as a permutation group),\n",
       " Subgroup generated by [(2,12)(3,11)(4,10)(5,9)(6,8), (1,7)(2,8)(3,9)(4,10)(5,11)(6,12)] of (Dihedral group of order 24 as a permutation group),\n",
       " Subgroup generated by [(1,7)(2,8)(3,9)(4,10)(5,11)(6,12), (1,10,7,4)(2,11,8,5)(3,12,9,6)] of (Dihedral group of order 24 as a permutation group),\n",
       " Subgroup generated by [(1,2)(3,12)(4,11)(5,10)(6,9)(7,8), (1,7)(2,8)(3,9)(4,10)(5,11)(6,12)] of (Dihedral group of order 24 as a permutation group),\n",
       " Subgroup generated by [(1,3,5,7,9,11)(2,4,6,8,10,12), (1,5,9)(2,6,10)(3,7,11)(4,8,12)] of (Dihedral group of order 24 as a permutation group),\n",
       " Subgroup generated by [(2,12)(3,11)(4,10)(5,9)(6,8), (1,5,9)(2,6,10)(3,7,11)(4,8,12)] of (Dihedral group of order 24 as a permutation group),\n",
       " Subgroup generated by [(1,2)(3,12)(4,11)(5,10)(6,9)(7,8), (1,5,9)(2,6,10)(3,7,11)(4,8,12)] of (Dihedral group of order 24 as a permutation group),\n",
       " Subgroup generated by [(2,12)(3,11)(4,10)(5,9)(6,8), (1,7)(2,8)(3,9)(4,10)(5,11)(6,12), (1,10,7,4)(2,11,8,5)(3,12,9,6)] of (Dihedral group of order 24 as a permutation group),\n",
       " Subgroup generated by [(2,12)(3,11)(4,10)(5,9)(6,8), (1,3,5,7,9,11)(2,4,6,8,10,12), (1,5,9)(2,6,10)(3,7,11)(4,8,12)] of (Dihedral group of order 24 as a permutation group),\n",
       " Subgroup generated by [(1,2,3,4,5,6,7,8,9,10,11,12), (1,3,5,7,9,11)(2,4,6,8,10,12), (1,5,9)(2,6,10)(3,7,11)(4,8,12)] of (Dihedral group of order 24 as a permutation group),\n",
       " Subgroup generated by [(1,2)(3,12)(4,11)(5,10)(6,9)(7,8), (1,3,5,7,9,11)(2,4,6,8,10,12), (1,5,9)(2,6,10)(3,7,11)(4,8,12)] of (Dihedral group of order 24 as a permutation group),\n",
       " Subgroup generated by [(2,12)(3,11)(4,10)(5,9)(6,8), (1,2,3,4,5,6,7,8,9,10,11,12), (1,3,5,7,9,11)(2,4,6,8,10,12), (1,5,9)(2,6,10)(3,7,11)(4,8,12)] of (Dihedral group of order 24 as a permutation group)]\n"
      ]
     },
     "execution_count": 1,
     "metadata": {},
     "output_type": "execute_result"
    }
   ],
   "source": [
    "K = DihedralGroup(12)\n",
    "sg = K.conjugacy_classes_subgroups()\n",
    "sg"
   ]
  },
  {
   "cell_type": "code",
   "execution_count": null,
   "id": "45c0551e",
   "metadata": {},
   "outputs": [
    {
     "data": {
      "text/plain": [
       "An order two subgroup:\n",
       "[(), (1,7)(2,8)(3,9)(4,10)(5,11)(6,12)]"
      ]
     },
     "execution_count": 1,
     "metadata": {},
     "output_type": "execute_result"
    }
   ],
   "source": [
    "print(\"An order two subgroup:\\n{}\".format(sg[1].list()))"
   ]
  },
  {
   "cell_type": "markdown",
   "id": "7901b755",
   "metadata": {},
   "source": [
    "It is important to note that this is a nice long list of subgroups, but\n",
    "will rarely create *every* such subgroup. For example, the code below:\n",
    "\n",
    "1.  creates `rho` as an element of the group `K`;\n",
    "2.  creates `L` as a cyclic subgroup of `K`;\n",
    "3.  prints the two elements of `L`; and finally\n",
    "4.  tests to see if this subgroup is part of the output of the list `sg`\n",
    "    created just above (it is not)."
   ]
  },
  {
   "cell_type": "code",
   "execution_count": null,
   "id": "180a6c1f",
   "metadata": {},
   "outputs": [
    {
     "data": {
      "text/plain": [
       "[(), (1,4)(2,3)(5,12)(6,11)(7,10)(8,9)]"
      ]
     },
     "execution_count": 1,
     "metadata": {},
     "output_type": "execute_result"
    }
   ],
   "source": [
    "K = DihedralGroup(12)\n",
    "sg = K.conjugacy_classes_subgroups()\n",
    "rho = K(\"(1,4) (2,3) (5,12) (6,11) (7,10) (8,9)\")\n",
    "L = PermutationGroup([rho])\n",
    "L.list()"
   ]
  },
  {
   "cell_type": "code",
   "execution_count": null,
   "id": "f718fca4",
   "metadata": {},
   "outputs": [
    {
     "data": {
      "text/plain": [
       "False"
      ]
     },
     "execution_count": 1,
     "metadata": {},
     "output_type": "execute_result"
    }
   ],
   "source": [
    "L in sg"
   ]
  },
  {
   "cell_type": "markdown",
   "id": "968f4b13",
   "metadata": {},
   "source": [
    "## Symmetry groups\n",
    "\n",
    "You can give Sage a short list of elements of a permutation group and\n",
    "Sage will find the smallest subgroup that contains those elements. We\n",
    "say the list \"generates\" the subgroup. We list a few interesting\n",
    "subgroups you can create this way.\n",
    "\n",
    "### Symmetries of an equilateral triangle\n",
    "\n",
    "Label the vertices of an equilateral triangle as 1, 2 and 3. Then *any*\n",
    "permutation of the vertices will be a symmetry of the triangle. So\n",
    "either `SymmetricGroup(3)` or `DihedralGroup(3)` will create the full\n",
    "symmetry group.\n",
    "\n",
    "### Symmetries of an $n$-gon\n",
    "\n",
    "A regular, $n$-sided figure in the plane (an $n$-gon) has $2n$\n",
    "symmetries, comprised of $n$ rotations (including the trivial one) and\n",
    "$n$ \"flips\" about various axes. The dihedral group `DihedralGroup(n)` is\n",
    "frequently defined as exactly the symmetry group of an $n$-gon.\n",
    "\n",
    "### Symmetries of a tetrahedron\n",
    "\n",
    "Label the 4 vertices of a regular tetrahedron as 1, 2, 3 and 4. Fix the\n",
    "vertex labeled 4 and rotate the opposite face through 120 degrees. This\n",
    "will create the permutation/symmetry $(1\\,2\\, 3)$. Similarly, fixing\n",
    "vertex 1, and rotating the opposite face will create the permutation\n",
    "$(2\\,3\\,4)$. These two permutations are enough to generate the full\n",
    "group of the twelve symmetries of the tetrahedron. Another symmetry can\n",
    "be visualized by running an axis through the midpoint of an edge of the\n",
    "tetrahedron through to the midpoint of the opposite edge, and then\n",
    "rotating by 180 degrees about this axis. For example, the 1--2 edge is\n",
    "opposite the 3--4 edge, and the symmetry is described by the permutation\n",
    "$(1\\,2) (3\\,4)$. This permutation, along with either of the above\n",
    "permutations will also generate the group. So here are two ways to\n",
    "create this group:"
   ]
  },
  {
   "cell_type": "code",
   "execution_count": null,
   "id": "6fb9cdc3",
   "metadata": {},
   "outputs": [
    {
     "data": {
      "text/plain": [
       "Permutation Group with generators [(2,3,4), (1,2,3)]"
      ]
     },
     "execution_count": 1,
     "metadata": {},
     "output_type": "execute_result"
    }
   ],
   "source": [
    "tetra_one = PermutationGroup([\"(1,2,3)\", \"(2,3,4)\"])\n",
    "tetra_one"
   ]
  },
  {
   "cell_type": "code",
   "execution_count": null,
   "id": "18ca2749",
   "metadata": {},
   "outputs": [
    {
     "data": {
      "text/plain": [
       "Permutation Group with generators [(1,2)(3,4), (1,2,3)]"
      ]
     },
     "execution_count": 1,
     "metadata": {},
     "output_type": "execute_result"
    }
   ],
   "source": [
    "tetra_two = PermutationGroup([\"(1,2,3)\", \"(1,2)(3,4)\"])\n",
    "tetra_two"
   ]
  },
  {
   "cell_type": "markdown",
   "id": "0d9468dc",
   "metadata": {},
   "source": [
    "This group has a variety of interesting properties, so it is worth\n",
    "experimenting with. You may also know it as the \"alternating group on 4\n",
    "symbols,\" which Sage will create with the command `AlternatingGroup(4)`.\n",
    "\n",
    "### Symmetries of a cube\n",
    "\n",
    "Label vertices of one face of a cube with 1, 2, 3 and 4, and on the\n",
    "opposite face label the vertices 5, 6, 7 and 8 (5 opposite 1, 6 opposite\n",
    "2, etc.). Consider three axes that run from the center of a face to the\n",
    "center of the opposite face, and consider a quarter-turn rotation about\n",
    "each axis. These three rotations will construct the entire symmetry\n",
    "group. Use :"
   ]
  },
  {
   "cell_type": "code",
   "execution_count": null,
   "id": "e78a4eb2",
   "metadata": {},
   "outputs": [
    {
     "data": {
      "text/plain": [
       "[(),\n",
       " (1,3)(2,4)(5,7)(6,8),\n",
       " (1,6)(2,5)(3,8)(4,7),\n",
       " (1,8)(2,7)(3,6)(4,5),\n",
       " (1,4,3,2)(5,8,7,6),\n",
       " (1,2,3,4)(5,6,7,8),\n",
       " (1,5)(2,8)(3,7)(4,6),\n",
       " (1,7)(2,6)(3,5)(4,8),\n",
       " (2,5,4)(3,6,8),\n",
       " (1,3,8)(2,7,5),\n",
       " (1,6,3)(4,5,7),\n",
       " (1,8,6)(2,4,7),\n",
       " (1,4)(2,8)(3,5)(6,7),\n",
       " (1,2,6,5)(3,7,8,4),\n",
       " (1,5,6,2)(3,4,8,7),\n",
       " (1,7)(2,3)(4,6)(5,8),\n",
       " (2,4,5)(3,8,6),\n",
       " (1,3,6)(4,7,5),\n",
       " (1,6,8)(2,7,4),\n",
       " (1,8,3)(2,5,7),\n",
       " (1,4,8,5)(2,3,7,6),\n",
       " (1,2)(3,5)(4,6)(7,8),\n",
       " (1,5,8,4)(2,6,7,3),\n",
       " (1,7)(2,8)(3,4)(5,6)]"
      ]
     },
     "execution_count": 1,
     "metadata": {},
     "output_type": "execute_result"
    }
   ],
   "source": [
    "cube = PermutationGroup([\"(3,2,6,7)(4,1,5,8)\",\n",
    "    \"(1,2,6,5)(4,3,7,8)\", \"(1,2,3,4)(5,6,7,8)\"])\n",
    "cube.list()"
   ]
  },
  {
   "cell_type": "markdown",
   "id": "dbc2f397",
   "metadata": {},
   "source": [
    "A cube has four distinct diagonals (joining opposite vertices through\n",
    "the center of the cube). Each symmetry of the cube will cause the\n",
    "diagonals to arrange differently. In this way, we can view an element of\n",
    "the symmetry group as a permutation of four \"symbols\"---the diagonals.\n",
    "It happens that *each* of the 24 permutations of the diagonals is\n",
    "created by exactly one symmetry of the 8 vertices of the cube. So this\n",
    "subgroup of $S_8$ is \"the same as\" $S_4$. In Sage:"
   ]
  },
  {
   "cell_type": "code",
   "execution_count": null,
   "id": "9e43acba",
   "metadata": {},
   "outputs": [
    {
     "data": {
      "text/plain": [
       "True"
      ]
     },
     "execution_count": 1,
     "metadata": {},
     "output_type": "execute_result"
    }
   ],
   "source": [
    "cube = PermutationGroup([\"(3,2,6,7)(4,1,5,8)\",\n",
    "    \"(1,2,6,5)(4,3,7,8)\", \"(1,2,3,4)(5,6,7,8)\"])\n",
    "cube.is_isomorphic(SymmetricGroup(4))"
   ]
  },
  {
   "cell_type": "markdown",
   "id": "364ac116",
   "metadata": {},
   "source": [
    "will test to see if the group of symmetries of the cube are \"the same\n",
    "as\" $S_4$ and so will return `True`.\n",
    "\n",
    "Here is an another way to create the symmetries of a cube. Number the\n",
    "six *faces* of the cube as follows: 1 on top, 2 on the bottom, 3 in\n",
    "front, 4 on the right, 5 in back, 6 on the left. Now the same rotations\n",
    "as before (quarter-turns about axes through the centers of two opposite\n",
    "faces) can be used as generators of the symmetry group:"
   ]
  },
  {
   "cell_type": "code",
   "execution_count": null,
   "id": "fb24bff3",
   "metadata": {},
   "outputs": [
    {
     "data": {
      "text/plain": [
       "[(),\n",
       " (3,5)(4,6),\n",
       " (1,6,5)(2,4,3),\n",
       " (1,6,3)(2,4,5),\n",
       " (1,5,6)(2,3,4),\n",
       " (1,5,4)(2,3,6),\n",
       " (1,2)(4,6),\n",
       " (1,2)(3,5),\n",
       " (1,4,5)(2,6,3),\n",
       " (1,4,3)(2,6,5),\n",
       " (1,3,4)(2,5,6),\n",
       " (1,3,6)(2,5,4),\n",
       " (1,4,2,6),\n",
       " (1,6)(2,4)(3,5),\n",
       " (1,3,2,5),\n",
       " (1,5,2,3),\n",
       " (1,2)(3,4)(5,6),\n",
       " (3,6,5,4),\n",
       " (1,6,2,4),\n",
       " (1,4)(2,6)(3,5),\n",
       " (1,5)(2,3)(4,6),\n",
       " (1,3)(2,5)(4,6),\n",
       " (3,4,5,6),\n",
       " (1,2)(3,6)(4,5)]"
      ]
     },
     "execution_count": 1,
     "metadata": {},
     "output_type": "execute_result"
    }
   ],
   "source": [
    "cubeface = PermutationGroup([\"(1,3,2,5)\", \"(1,4,2,6)\", \"(3,4,5,6)\"])\n",
    "cubeface.list()"
   ]
  },
  {
   "cell_type": "markdown",
   "id": "64fc5e2a",
   "metadata": {},
   "source": [
    "Again, this subgroup of $S_6$ is \"same as\" the full symmetric group,\n",
    "$S_4$ :"
   ]
  },
  {
   "cell_type": "code",
   "execution_count": null,
   "id": "d409635b",
   "metadata": {},
   "outputs": [
    {
     "data": {
      "text/plain": [
       "True"
      ]
     },
     "execution_count": 1,
     "metadata": {},
     "output_type": "execute_result"
    }
   ],
   "source": [
    "cubeface = PermutationGroup([\"(1,3,2,5)\", \"(1,4,2,6)\", \"(3,4,5,6)\"])\n",
    "cubeface.is_isomorphic(SymmetricGroup(4))"
   ]
  },
  {
   "cell_type": "markdown",
   "id": "cd981d92",
   "metadata": {},
   "source": [
    "It turns out that in each of the above constructions, it is sufficient\n",
    "to use just two of the three generators (any two). But one generator is\n",
    "not enough. Give it a try and use Sage to convince yourself that a\n",
    "generator can be sacrificed in each case.\n",
    "\n",
    "## Normal subgroups\n",
    "\n",
    "### Checking normality\n",
    "\n",
    "The code below:\n",
    "\n",
    "1.  begins with the alternating group $A_4$;\n",
    "2.  specifies three elements of the group (the three symmetries of the\n",
    "    tetrahedron that are 180 degree rotations about axes through\n",
    "    midpoints of opposite edges);\n",
    "3.  uses these three elements to generate a subgroup; and finally\n",
    "4.  illustrates the command for testing if the subgroup `H` is a normal\n",
    "    subgroup of the group `A4`."
   ]
  },
  {
   "cell_type": "code",
   "execution_count": null,
   "id": "72df3840",
   "metadata": {},
   "outputs": [
    {
     "data": {
      "text/plain": [
       "True"
      ]
     },
     "execution_count": 1,
     "metadata": {},
     "output_type": "execute_result"
    }
   ],
   "source": [
    "A4 = AlternatingGroup(4)\n",
    "r1 = A4(\"(1,2) (3,4)\")\n",
    "r2 = A4(\"(1,3) (2,4)\")\n",
    "r3 = A4(\"(1,4) (2,3)\")\n",
    "H = A4.subgroup([r1, r2, r3])\n",
    "H.is_normal(A4)"
   ]
  },
  {
   "cell_type": "markdown",
   "id": "8fee9e34",
   "metadata": {},
   "source": [
    "### Quotient group\n",
    "\n",
    "Extending the previous example, we can create the quotient (factor)\n",
    "group of $A_4$ by $H$. The commands :"
   ]
  },
  {
   "cell_type": "code",
   "execution_count": null,
   "id": "230f33d4",
   "metadata": {},
   "outputs": [
    {
     "data": {
      "text/plain": [
       "Permutation Group with generators [(1,2,3)]"
      ]
     },
     "execution_count": 1,
     "metadata": {},
     "output_type": "execute_result"
    }
   ],
   "source": [
    "A4 = AlternatingGroup(4)\n",
    "r1 = A4(\"(1,2) (3,4)\")\n",
    "r2 = A4(\"(1,3) (2,4)\")\n",
    "r3 = A4(\"(1,4) (2,3)\")\n",
    "H = A4.subgroup([r1, r2, r3])\n",
    "A4.quotient(H)"
   ]
  },
  {
   "cell_type": "markdown",
   "id": "c1fed662",
   "metadata": {},
   "source": [
    "returns a permutation group generated by `(1,2,3)`. As expected this is\n",
    "a group of order 3. Notice that we do not get back a group of the actual\n",
    "cosets, but instead we get a group *isomorphic* to the factor group.\n",
    "\n",
    "### Simple groups\n",
    "\n",
    "It is easy to check to see if a group is void of any normal subgroups.\n",
    "The commands :"
   ]
  },
  {
   "cell_type": "code",
   "execution_count": null,
   "id": "e292ac46",
   "metadata": {},
   "outputs": [
    {
     "data": {
      "text/plain": [
       "True"
      ]
     },
     "execution_count": 1,
     "metadata": {},
     "output_type": "execute_result"
    }
   ],
   "source": [
    "AlternatingGroup(5).is_simple()"
   ]
  },
  {
   "cell_type": "code",
   "execution_count": null,
   "id": "0e64c39a",
   "metadata": {},
   "outputs": [
    {
     "data": {
      "text/plain": [
       "False"
      ]
     },
     "execution_count": 1,
     "metadata": {},
     "output_type": "execute_result"
    }
   ],
   "source": [
    "AlternatingGroup(4).is_simple()"
   ]
  },
  {
   "cell_type": "markdown",
   "id": "6928eabf",
   "metadata": {},
   "source": [
    "prints `True` and then `False`.\n",
    "\n",
    "### Composition series\n",
    "\n",
    "For any group, it is easy to obtain a composition series. There is an\n",
    "element of randomness in the algorithm, so you may not always get the\n",
    "same results. (But the list of factor groups is unique, according to the\n",
    "Jordan-Hölder theorem.) Also, the subgroups generated sometimes have\n",
    "more generators than necessary, so you might want to \"study\" each\n",
    "subgroup carefully by checking properties like its order.\n",
    "\n",
    "An interesting example is:"
   ]
  },
  {
   "cell_type": "code",
   "execution_count": null,
   "id": "a6ca7d38",
   "metadata": {},
   "outputs": [],
   "source": [
    "DihedralGroup(105).composition_series()"
   ]
  },
  {
   "cell_type": "markdown",
   "id": "a03c35d8",
   "metadata": {},
   "source": [
    "The output will be a list of 5 subgroups of $D_{105}$, each a normal\n",
    "subgroup of its predecessor.\n",
    "\n",
    "Several other series are possible, such as the derived series. Use\n",
    "tab-completion to see the possibilities.\n",
    "\n",
    "## Conjugacy\n",
    "\n",
    "Given a group $G$, we can define a relation $\\sim$ on $G$ by: for\n",
    "$a,b \\in G$, $a \\sim b$ if and only if there exists an element $g \\in G$\n",
    "such that $gag^{-1} = b$.\n",
    "\n",
    "Since this is an equivalence relation, there is an associated partition\n",
    "of the elements of $G$ into equivalence classes. For this very important\n",
    "relation, the classes are known as \"conjugacy classes.\" A representative\n",
    "of each of these equivalence classes can be found as follows. Suppose\n",
    "`G` is a permutation group, then `G.conjugacy_classes_representatives()`\n",
    "will return a list of elements of \\$G\\$, one per conjugacy class.\n",
    "\n",
    "Given an element $g \\in G$, the \"centralizer\" of $g$ is the set\n",
    "$C(g) = \\{h \\in G \\mid hgh^{-1} = g\\}$, which is a subgroup of $G$. A\n",
    "theorem tells us that the size of each conjugacy class is the order of\n",
    "the group divided by the order of the centralizer of an element of the\n",
    "class. With the following code we can determine the size of the\n",
    "conjugacy classes of the full symmetric group on 5 symbols:"
   ]
  },
  {
   "cell_type": "code",
   "execution_count": null,
   "id": "f0aa3ddb",
   "metadata": {},
   "outputs": [
    {
     "data": {
      "text/plain": [
       "[1, 10, 15, 20, 20, 30, 24]"
      ]
     },
     "execution_count": 1,
     "metadata": {},
     "output_type": "execute_result"
    }
   ],
   "source": [
    "G = SymmetricGroup(5)\n",
    "group_order = G.order()\n",
    "reps = G.conjugacy_classes_representatives()\n",
    "class_sizes = []\n",
    "for g in reps:\n",
    "    class_sizes.append(group_order / G.centralizer(g).order())\n",
    "class_sizes"
   ]
  },
  {
   "cell_type": "markdown",
   "id": "bdec0af1",
   "metadata": {},
   "source": [
    "This should produce the list `[1, 10, 15, 20, 20, 30, 24]` which you can\n",
    "check sums to 120, the order of the group. You might be able to produce\n",
    "this list by counting elements of the group $S_5$ with identical cycle\n",
    "structure (which will require a few simple combinatorial arguments).\n",
    "\n",
    "## Sylow subgroups\n",
    "\n",
    "Sylow's Theorems assert the existence of certain subgroups. For example,\n",
    "if $p$ is a prime, and $p^r$ divides the order of a group $G$, then $G$\n",
    "must have a subgroup of order $p^r$. Such a subgroup could be found\n",
    "among the output of the `conjugacy_classes_subgroups()` command by\n",
    "checking the orders of the subgroups produced. The `map()` command is a\n",
    "quick way to do this. The symmetric group on 7 symbols, $S_7$, has order\n",
    "$7! = 5040$ and is divisible by $2^4 = 16$. Let's find one example of a\n",
    "subgroup of permutations on 4 symbols with order 16:"
   ]
  },
  {
   "cell_type": "code",
   "execution_count": null,
   "id": "0c71e078",
   "metadata": {},
   "outputs": [
    {
     "data": {
      "text/plain": [
       "[1, 2, 2, 2, 3, 3, 4, 4, 4, 4, 4, 4, 4, 5, 6, 6, 6, 6, 6, 6, 6, 6, 7, 8, 8, 8, 8, 8, 8, 8, 9, 10, 10, 10, 12, 12, 12, 12, 12, 12, 12, 12, 12, 12, 12, 12, 12, 14, 16, 18, 18, 18, 20, 20, 20, 21, 24, 24, 24, 24, 24, 24, 24, 24, 24, 24, 24, 24, 24, 24, 36, 36, 36, 36, 40, 42, 48, 48, 48, 60, 60, 72, 72, 72, 72, 120, 120, 120, 120, 144, 168, 240, 360, 720, 2520, 5040]"
      ]
     },
     "execution_count": 1,
     "metadata": {},
     "output_type": "execute_result"
    }
   ],
   "source": [
    "G = SymmetricGroup(7)\n",
    "subgroups = G.conjugacy_classes_subgroups()\n",
    "list(map(order, subgroups))"
   ]
  },
  {
   "cell_type": "markdown",
   "id": "98827f64",
   "metadata": {},
   "source": [
    "The `map(order, subgroups)` command will apply the `order()` function to\n",
    "each of the subgroups in the list `subgroups`. The output is thus a\n",
    "large list of the orders of many subgroups (96 to be precise). If you\n",
    "count carefully, you will see that the 49-th subgroup has order 16. You\n",
    "can retrieve this group for further study by referencing it as\n",
    "`subgroups[48]` (remember that counting starts at zero).\n",
    "\n",
    "If $p^r$ is the highest power of $p$ to divide the order of $G$, then a\n",
    "subgroup of order $p^r$ is known as a \"Sylow $p$-subgroup.\" Sylow's\n",
    "Theorems also say any two Sylow $p$-subgroups are conjugate, so the\n",
    "output of `conjugacy_classes_subgroups()` should only contain each Sylow\n",
    "$p$-subgroup once. But there is an easier way, `sylow_subgroup(p)` will\n",
    "return one. Notice that the argument of the command is just the prime\n",
    "\\$p\\$, not the full power $p^r$. Failure to use a prime will generate an\n",
    "informative error message.\n",
    "\n",
    "## Groups of small order as permutation groups\n",
    "\n",
    "We list here constructions, as permutation groups, for all of the groups\n",
    "of order less than 16."
   ]
  },
  {
   "cell_type": "code",
   "execution_count": null,
   "id": "f3de040d",
   "metadata": {},
   "outputs": [],
   "source": [
    "---------------------------------------------------------------------------------------------\n",
    "Size  Construction                                Notes\n",
    "---------------------------------------------------------------------------------------------\n",
    "1     SymmetricGroup(1)                           Trivial\n",
    "2     SymmetricGroup(2)                           Also CyclicPermutationGroup(2)\n",
    "3     CyclicPermutationGroup(3)                   Prime order\n",
    "4     CyclicPermutationGroup(4)                   Cyclic\n",
    "4     KleinFourGroup()                            Abelian, non-cyclic\n",
    "5     CyclicPermutationGroup(5)                   Prime order\n",
    "6     CyclicPermutationGroup(6)                   Cyclic\n",
    "6     SymmetricGroup(3)                           Non-abelian, also DihedralGroup(3)\n",
    "7     CyclicPermutationGroup(7)                   Prime order\n",
    "8     CyclicPermutationGroup(8)                   Cyclic\n",
    "8     D1 = CyclicPermutationGroup(4)\n",
    "      D2 = CyclicPermutationGroup(2)\n",
    "      G = direct_product_permgroups([D1,D2])      Abelian, non-cyclic\n",
    "8     D1 = CyclicPermutationGroup(2)\n",
    "      D2 = CyclicPermutationGroup(2)\n",
    "      D3 = CyclicPermutationGroup(2)\n",
    "      G = direct_product_permgroups([D1,D2,D3])   Abelian, non-cyclic\n",
    "8     DihedralGroup(4)                            Non-abelian\n",
    "8     QuaternionGroup()                           Quaternions, also DiCyclicGroup(2)\n",
    "9     CyclicPermutationGroup(9)                   Cyclic\n",
    "9     D1 = CyclicPermutationGroup(3)\n",
    "      D2 = CyclicPermutationGroup(3)\n",
    "      G = direct_product_permgroups([D1,D2])      Abelian, non-cyclic\n",
    "10    CyclicPermutationGroup(10)                  Cyclic\n",
    "10    DihedralGroup(5)                            Non-abelian\n",
    "11    CyclicPermutationGroup(11)                  Prime order\n",
    "12    CyclicPermutationGroup(12)                  Cyclic\n",
    "12    D1 = CyclicPermutationGroup(6)\n",
    "      D2 = CyclicPermutationGroup(2)\n",
    "      G = direct_product_permgroups([D1,D2])      Abelian, non-cyclic\n",
    "12    DihedralGroup(6)                            Non-abelian\n",
    "12    AlternatingGroup(4)                         Non-abelian, symmetries of tetrahedron\n",
    "12    DiCyclicGroup(3)                            Non-abelian\n",
    "                                                  Also semi-direct  product $Z_3 \\rtimes Z_4$\n",
    "13    CyclicPermutationGroup(13)                  Prime order\n",
    "14    CyclicPermutationGroup(14)                  Cyclic\n",
    "14    DihedralGroup(7)                            Non-abelian\n",
    "15    CyclicPermutationGroup(15)                  Cyclic\n",
    "----------------------------------------------------------------------------------------------"
   ]
  },
  {
   "cell_type": "markdown",
   "id": "df7eb116",
   "metadata": {},
   "source": [
    "## Acknowledgements\n",
    "\n",
    "The construction of Sage is the work of many people, and the group\n",
    "theory portion is made possible by the extensive work of the creators of\n",
    "GAP. However, we will single out three people from the Sage team to\n",
    "thank for major contributions toward bringing you the group theory\n",
    "portion of Sage: David Joyner, William Stein, and Robert Bradshaw.\n",
    "Thanks!"
   ]
  }
 ],
 "metadata": {},
 "nbformat": 4,
 "nbformat_minor": 5
}
