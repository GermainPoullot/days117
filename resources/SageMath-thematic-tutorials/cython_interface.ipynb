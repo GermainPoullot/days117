{
 "cells": [
  {
   "cell_type": "markdown",
   "id": "b4e29484",
   "metadata": {},
   "source": [
    "$$\n",
    "\\def\\CC{\\bf C}\n",
    "\\def\\QQ{\\bf Q}\n",
    "\\def\\RR{\\bf R}\n",
    "\\def\\ZZ{\\bf Z}\n",
    "\\def\\NN{\\bf N}\n",
    "$$\n",
    "# How to call a C code (or a compiled library) from Sage ?\n",
    "\n",
    "If you have some C/C++ code that you would like to call from Sage for\n",
    "your own use, this document is for you.\n",
    "\n",
    "-   Do you want to **contribute** to Sage by adding your interface to\n",
    "    its code? The (more complex) instructions are [available\n",
    "    here](http://doc.sagemath.org/html/en/developer/index.html#packaging-third-party-code).\n",
    "\n",
    "## Calling \"hello\\_world()\" from hello.c\n",
    "\n",
    "Let us suppose that you have a file named `~/my_dir/hello.c` containing:"
   ]
  },
  {
   "cell_type": "code",
   "execution_count": null,
   "id": "a9ea99fd",
   "metadata": {},
   "outputs": [],
   "source": [
    "#include <stdio.h>\n",
    "\n",
    "void hello_world(){\n",
    "    printf(\"Hello World\\n\");\n",
    "}"
   ]
  },
  {
   "cell_type": "markdown",
   "id": "2e16c297",
   "metadata": {},
   "source": [
    "In order to call this function from Sage, you must create a Cython file\n",
    "(i.e. a file whose extension is .pyx). Here, `~/my_dir/hello_sage.pyx`\n",
    "contains a header describing the signature of the function that you want\n",
    "to call:"
   ]
  },
  {
   "cell_type": "code",
   "execution_count": null,
   "id": "5e34ef3a",
   "metadata": {},
   "outputs": [],
   "source": [
    "cdef extern from \"hello.c\":\n",
    "    void hello_world()\n",
    "\n",
    "def my_bridge_function():\n",
    "    hello_world() # This is the C function from hello.c"
   ]
  },
  {
   "cell_type": "markdown",
   "id": "9188fdd6",
   "metadata": {},
   "source": [
    "You can now load this file in Sage, and call the C code though the\n",
    "Python function `my_bridge_function` :"
   ]
  },
  {
   "cell_type": "code",
   "execution_count": null,
   "id": "720cc3e0",
   "metadata": {},
   "outputs": [
    {
     "data": {
      "text/plain": [
       "Compiling ./hello_sage.pyx..."
      ]
     },
     "execution_count": 1,
     "metadata": {},
     "output_type": "execute_result"
    }
   ],
   "source": [
    "%runfile hello_sage.pyx"
   ]
  },
  {
   "cell_type": "code",
   "execution_count": null,
   "id": "b1c1275a",
   "metadata": {},
   "outputs": [
    {
     "data": {
      "text/plain": [
       "Hello World"
      ]
     },
     "execution_count": 1,
     "metadata": {},
     "output_type": "execute_result"
    }
   ],
   "source": [
    "my_bridge_function()"
   ]
  },
  {
   "cell_type": "markdown",
   "id": "ce732cea",
   "metadata": {},
   "source": [
    "## Arguments and return value\n",
    "\n",
    "Calling function with more complex arguments and return values works the\n",
    "same way. To learn more about the Cython language, [click\n",
    "here](http://docs.cython.org/src/reference/language_basics.html)\n",
    "\n",
    "The following example defines a function taking and returning `int *`\n",
    "pointers, and involves some memory allocation. The C code defines a\n",
    "function whose purpose is to return the sum of two vectors as a third\n",
    "vector.\n",
    "\n",
    "**The C file** (`double_vector.c`)"
   ]
  },
  {
   "cell_type": "code",
   "execution_count": null,
   "id": "e8732bcd",
   "metadata": {},
   "outputs": [],
   "source": [
    "#include <string.h>\n",
    "\n",
    "int * sum_of_two_vectors(int n, int * vec1, int * vec2){\n",
    "  /*\n",
    "     INPUT : two arrays vec1,vec2 of n integers\n",
    "     OUTPUT: an array of size n equal to vec1+vec2\n",
    "  */\n",
    "  int * sum = (int *) malloc(n*sizeof(int));\n",
    "  int i;\n",
    "\n",
    "  for(i=0;i<n;i++)\n",
    "    sum[i] = vec1[i] + vec2[i];\n",
    "  return sum;\n",
    "}"
   ]
  },
  {
   "cell_type": "markdown",
   "id": "28db4752",
   "metadata": {},
   "source": [
    "**The Cython file** (`double_vector_sage.pyx`)"
   ]
  },
  {
   "cell_type": "code",
   "execution_count": null,
   "id": "72a0bd21",
   "metadata": {},
   "outputs": [],
   "source": [
    "cdef extern from \"double_vector.c\":\n",
    "    int * sum_of_two_vectors(int n, int * vec1, int * vec2)\n",
    "\n",
    "from libc.stdlib cimport malloc, free\n",
    "\n",
    "def sage_sum_of_vectors(n, list1, list2):\n",
    "    cdef int * vec1 = <int *> malloc(n*sizeof(int))\n",
    "    cdef int * vec2 = <int *> malloc(n*sizeof(int))\n",
    "\n",
    "    # Fill the vectors\n",
    "    for i in range(n):\n",
    "        vec1[i] = list1[i]\n",
    "        vec2[i] = list2[i]\n",
    "\n",
    "    # Call the C function\n",
    "    cdef int * vec3 = sum_of_two_vectors(n,vec1,vec2)\n",
    "\n",
    "    # Save the answer in a Python object\n",
    "    answer = [vec3[i] for i in range(n)]\n",
    "\n",
    "    free(vec1)\n",
    "    free(vec2)\n",
    "    free(vec3)\n",
    "\n",
    "    return answer"
   ]
  },
  {
   "cell_type": "markdown",
   "id": "3d17d54b",
   "metadata": {},
   "source": [
    "**Call from Sage**:"
   ]
  },
  {
   "cell_type": "code",
   "execution_count": null,
   "id": "9ae02fff",
   "metadata": {},
   "outputs": [
    {
     "data": {
      "text/plain": [
       "Compiling ./double_vector_sage.pyx..."
      ]
     },
     "execution_count": 1,
     "metadata": {},
     "output_type": "execute_result"
    }
   ],
   "source": [
    "%runfile double_vector_sage.pyx"
   ]
  },
  {
   "cell_type": "code",
   "execution_count": null,
   "id": "b3912b90",
   "metadata": {},
   "outputs": [
    {
     "data": {
      "text/plain": [
       "[3, 4, 5]"
      ]
     },
     "execution_count": 1,
     "metadata": {},
     "output_type": "execute_result"
    }
   ],
   "source": [
    "sage_sum_of_vectors(3,[1,1,1],[2,3,4])"
   ]
  },
  {
   "cell_type": "markdown",
   "id": "bd9bc94b",
   "metadata": {},
   "source": [
    "## Calling code from a compiled library\n",
    "\n",
    "The procedure is very similar again. For our purposes, we build a\n",
    "library from the file `~/my_dir/hello.c` :"
   ]
  },
  {
   "cell_type": "code",
   "execution_count": null,
   "id": "951c25a4",
   "metadata": {},
   "outputs": [],
   "source": [
    "#include <stdio.h>\n",
    "\n",
    "void hello_world(){\n",
    "    printf(\"Hello World\\n\");\n",
    "}"
   ]
  },
  {
   "cell_type": "markdown",
   "id": "707a7576",
   "metadata": {},
   "source": [
    "We also need a `~/my_dir/hello.h` header file:"
   ]
  },
  {
   "cell_type": "code",
   "execution_count": null,
   "id": "aea837ea",
   "metadata": {},
   "outputs": [],
   "source": [
    "void hello_world();"
   ]
  },
  {
   "cell_type": "markdown",
   "id": "531d93de",
   "metadata": {},
   "source": [
    "We can now **compile it** as a library:"
   ]
  },
  {
   "cell_type": "code",
   "execution_count": null,
   "id": "babda296",
   "metadata": {},
   "outputs": [],
   "source": [
    "[user@localhost ~/my_dir/] gcc -c -Wall -Werror -fpic hello.c\n",
    "[user@localhost ~/my_dir/] gcc -shared -o libhello.so hello.o"
   ]
  },
  {
   "cell_type": "markdown",
   "id": "552c425d",
   "metadata": {},
   "source": [
    "The only files that we need now are `hello.h` and `libhello.so` (you can\n",
    "remove the others if you like). We must now indicate the location of the\n",
    "`.so` and `.h` files in the header of our `~/my_dir/hello_sage.pyx`\n",
    "file:"
   ]
  },
  {
   "cell_type": "code",
   "execution_count": null,
   "id": "c1c9ae99",
   "metadata": {},
   "outputs": [],
   "source": [
    "# distutils: libraries = /home/username/my_dir/hello\n",
    "\n",
    "cdef extern from \"hello.h\":\n",
    "    void hello_world()\n",
    "\n",
    "def my_bridge_function():\n",
    "    hello_world() # This is the C function from hello.c"
   ]
  },
  {
   "cell_type": "markdown",
   "id": "cb8269d3",
   "metadata": {},
   "source": [
    "Note\n",
    "\n",
    "The instruction `# distutils: libraries = /home/username/my_dir/hello`\n",
    "indicates that the library is actually named\n",
    "`/home/username/my_dir/hello`. Change it according to your needs. For\n",
    "more information about these instructions, see\n",
    "<http://cython.readthedocs.io/en/latest/src/reference/compilation.html#configuring-the-c-build>\n",
    "\n",
    "We can now **load** this file in Sage and **call** the function:"
   ]
  },
  {
   "cell_type": "code",
   "execution_count": null,
   "id": "e7e6c112",
   "metadata": {},
   "outputs": [
    {
     "data": {
      "text/plain": [
       "Compiling ./hello_sage.pyx..."
      ]
     },
     "execution_count": 1,
     "metadata": {},
     "output_type": "execute_result"
    }
   ],
   "source": [
    "%runfile hello_sage.pyx"
   ]
  },
  {
   "cell_type": "code",
   "execution_count": null,
   "id": "e1ec9a22",
   "metadata": {},
   "outputs": [
    {
     "data": {
      "text/plain": [
       "Hello World"
      ]
     },
     "execution_count": 1,
     "metadata": {},
     "output_type": "execute_result"
    }
   ],
   "source": [
    "my_bridge_function()"
   ]
  }
 ],
 "metadata": {},
 "nbformat": 4,
 "nbformat_minor": 5
}
