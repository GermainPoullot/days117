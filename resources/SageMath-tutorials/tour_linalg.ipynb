{
 "cells": [
  {
   "cell_type": "markdown",
   "id": "0d3c3be7",
   "metadata": {},
   "source": [
    "$$\n",
    "\\def\\CC{\\bf C}\n",
    "\\def\\QQ{\\bf Q}\n",
    "\\def\\RR{\\bf R}\n",
    "\\def\\ZZ{\\bf Z}\n",
    "\\def\\NN{\\bf N}\n",
    "$$\n",
    "# Linear Algebra\n",
    "\n",
    "Sage provides standard constructions from linear algebra, e.g., the\n",
    "characteristic polynomial, echelon form, trace, decomposition, etc., of\n",
    "a matrix.\n",
    "\n",
    "Creation of matrices and matrix multiplication is easy and natural:"
   ]
  },
  {
   "cell_type": "code",
   "execution_count": null,
   "id": "0397546b",
   "metadata": {},
   "outputs": [
    {
     "data": {
      "text/plain": [
       "(0, 0, 0)"
      ]
     },
     "execution_count": 1,
     "metadata": {},
     "output_type": "execute_result"
    }
   ],
   "source": [
    "A = Matrix([[1,2,3],[3,2,1],[1,1,1]])\n",
    "w = vector([1,1,-4])\n",
    "w*A"
   ]
  },
  {
   "cell_type": "code",
   "execution_count": null,
   "id": "534428af",
   "metadata": {},
   "outputs": [
    {
     "data": {
      "text/plain": [
       "(-9, 1, -2)"
      ]
     },
     "execution_count": 1,
     "metadata": {},
     "output_type": "execute_result"
    }
   ],
   "source": [
    "A*w"
   ]
  },
  {
   "cell_type": "code",
   "execution_count": null,
   "id": "95f084e6",
   "metadata": {},
   "outputs": [
    {
     "data": {
      "text/plain": [
       "Free module of degree 3 and rank 1 over Integer Ring\n",
       "Echelon basis matrix:\n",
       "[ 1  1 -4]"
      ]
     },
     "execution_count": 1,
     "metadata": {},
     "output_type": "execute_result"
    }
   ],
   "source": [
    "kernel(A)"
   ]
  },
  {
   "cell_type": "markdown",
   "id": "2e8f8eb5",
   "metadata": {},
   "source": [
    "Note that in Sage, the kernel of a matrix $A$ is the \"left kernel\", i.e.\n",
    "the space of vectors $w$ such that $wA=0$.\n",
    "\n",
    "Solving matrix equations is easy, using the method `solve_right`.\n",
    "Evaluating `A.solve_right(Y)` returns a matrix (or vector) $X$ so that\n",
    "$AX=Y$ :"
   ]
  },
  {
   "cell_type": "code",
   "execution_count": null,
   "id": "856eb2c5",
   "metadata": {},
   "outputs": [
    {
     "data": {
      "text/plain": [
       "(-2, 1, 0)"
      ]
     },
     "execution_count": 1,
     "metadata": {},
     "output_type": "execute_result"
    }
   ],
   "source": [
    "Y = vector([0, -4, -1])\n",
    "X = A.solve_right(Y)\n",
    "X"
   ]
  },
  {
   "cell_type": "code",
   "execution_count": null,
   "id": "6e226129",
   "metadata": {},
   "outputs": [
    {
     "data": {
      "text/plain": [
       "(0, -4, -1)"
      ]
     },
     "execution_count": 1,
     "metadata": {},
     "output_type": "execute_result"
    }
   ],
   "source": [
    "A * X   # checking our answer..."
   ]
  },
  {
   "cell_type": "markdown",
   "id": "c10e8760",
   "metadata": {},
   "source": [
    "A backslash `\\` can be used in the place of `solve_right`; use `A \\ Y`\n",
    "instead of `A.solve_right(Y)`."
   ]
  },
  {
   "cell_type": "code",
   "execution_count": null,
   "id": "9d8692bd",
   "metadata": {},
   "outputs": [
    {
     "data": {
      "text/plain": [
       "(-2, 1, 0)"
      ]
     },
     "execution_count": 1,
     "metadata": {},
     "output_type": "execute_result"
    }
   ],
   "source": [
    "A \\ Y"
   ]
  },
  {
   "cell_type": "markdown",
   "id": "9f184833",
   "metadata": {},
   "source": [
    "If there is no solution, Sage returns an error:"
   ]
  },
  {
   "cell_type": "code",
   "execution_count": null,
   "id": "4d1b8d34",
   "metadata": {},
   "outputs": [
    {
     "data": {
      "text/plain": [
       "Traceback (most recent call last):\n",
       "...\n",
       "ValueError: matrix equation has no solutions"
      ]
     },
     "execution_count": 1,
     "metadata": {},
     "output_type": "execute_result"
    }
   ],
   "source": [
    "A.solve_right(w)"
   ]
  },
  {
   "cell_type": "markdown",
   "id": "fdd500cb",
   "metadata": {},
   "source": [
    "Similarly, use `A.solve_left(Y)` to solve for $X$ in $XA=Y$.\n",
    "\n",
    "Sage can also compute eigenvalues and eigenvectors:"
   ]
  },
  {
   "cell_type": "code",
   "execution_count": null,
   "id": "cffa07a9",
   "metadata": {},
   "outputs": [
    {
     "data": {
      "text/plain": [
       "[-2*I, 2*I]"
      ]
     },
     "execution_count": 1,
     "metadata": {},
     "output_type": "execute_result"
    }
   ],
   "source": [
    "A = matrix([[0, 4], [-1, 0]])\n",
    "A.eigenvalues ()"
   ]
  },
  {
   "cell_type": "code",
   "execution_count": null,
   "id": "b1069301",
   "metadata": {},
   "outputs": [
    {
     "data": {
      "text/plain": [
       "[(4, [\n",
       "(1, 1)\n",
       "], 1), (-2, [\n",
       "(1, -1)\n",
       "], 1)]"
      ]
     },
     "execution_count": 1,
     "metadata": {},
     "output_type": "execute_result"
    }
   ],
   "source": [
    "B = matrix([[1, 3], [3, 1]])\n",
    "B.eigenvectors_left()"
   ]
  },
  {
   "cell_type": "markdown",
   "id": "0cd314be",
   "metadata": {},
   "source": [
    "(The syntax for the output of `eigenvectors_left` is a list of triples:\n",
    "(eigenvalue, eigenvector, multiplicity).) Eigenvalues and eigenvectors\n",
    "over `QQ` or `RR` can also be computed using Maxima (see\n",
    "[section-maxima](section-maxima.ipynb) below).\n",
    "\n",
    "As noted in [section-rings](section-rings.ipynb), the ring over which a\n",
    "matrix is defined affects some of its properties. In the following, the\n",
    "first argument to the `matrix` command tells Sage to view the matrix as\n",
    "a matrix of integers (the `ZZ` case), a matrix of rational numbers\n",
    "(`QQ`), or a matrix of reals (`RR`):"
   ]
  },
  {
   "cell_type": "code",
   "execution_count": null,
   "id": "e2c0d5c8",
   "metadata": {},
   "outputs": [
    {
     "data": {
      "text/plain": [
       "[2 0]\n",
       "[0 1]"
      ]
     },
     "execution_count": 1,
     "metadata": {},
     "output_type": "execute_result"
    }
   ],
   "source": [
    "AZ = matrix(ZZ, [[2,0], [0,1]])\n",
    "AQ = matrix(QQ, [[2,0], [0,1]])\n",
    "AR = matrix(RR, [[2,0], [0,1]])\n",
    "AZ.echelon_form()"
   ]
  },
  {
   "cell_type": "code",
   "execution_count": null,
   "id": "6ccd7383",
   "metadata": {},
   "outputs": [
    {
     "data": {
      "text/plain": [
       "[1 0]\n",
       "[0 1]"
      ]
     },
     "execution_count": 1,
     "metadata": {},
     "output_type": "execute_result"
    }
   ],
   "source": [
    "AQ.echelon_form()"
   ]
  },
  {
   "cell_type": "code",
   "execution_count": null,
   "id": "45560f35",
   "metadata": {},
   "outputs": [
    {
     "data": {
      "text/plain": [
       "[ 1.00000000000000 0.000000000000000]\n",
       "[0.000000000000000  1.00000000000000]"
      ]
     },
     "execution_count": 1,
     "metadata": {},
     "output_type": "execute_result"
    }
   ],
   "source": [
    "AR.echelon_form()"
   ]
  },
  {
   "cell_type": "markdown",
   "id": "b4a0301f",
   "metadata": {},
   "source": [
    "For computing eigenvalues and eigenvectors of matrices over floating\n",
    "point real or complex numbers, the matrix should be defined over `RDF`\n",
    "(Real Double Field) or `CDF` (Complex Double Field), respectively. If no\n",
    "ring is specified and floating point real or complex numbers are used\n",
    "then by default the matrix is defined over the `RR` or `CC` fields,\n",
    "respectively, which do not support these computations for all the cases:"
   ]
  },
  {
   "cell_type": "code",
   "execution_count": null,
   "id": "21755720",
   "metadata": {},
   "outputs": [
    {
     "data": {
      "text/plain": [
       "[-0.09317121994613098, 4.293171219946131]"
      ]
     },
     "execution_count": 1,
     "metadata": {},
     "output_type": "execute_result"
    }
   ],
   "source": [
    "ARDF = matrix(RDF, [[1.2, 2], [2, 3]])\n",
    "ARDF.eigenvalues()  # rel tol 8e-16"
   ]
  },
  {
   "cell_type": "code",
   "execution_count": null,
   "id": "af28ce0f",
   "metadata": {},
   "outputs": [
    {
     "data": {
      "text/plain": [
       "[(0.8818456983293743 - 0.8209140653434135*I, [(0.7505608183809549, -0.616145932704589 + 0.2387941530333261*I)], 1),\n",
       "(3.3181543016706256 + 0.8209140653434133*I, [(0.14559469829270957 + 0.3756690858502104*I, 0.9152458258662108)], 1)]"
      ]
     },
     "execution_count": 1,
     "metadata": {},
     "output_type": "execute_result"
    }
   ],
   "source": [
    "ACDF = matrix(CDF, [[1.2, I], [2, 3]])\n",
    "ACDF.eigenvectors_right()  # rel tol 3e-15"
   ]
  },
  {
   "cell_type": "markdown",
   "id": "5222a9a1",
   "metadata": {},
   "source": [
    "## Matrix spaces\n",
    "\n",
    "We create the space $\\text{Mat}_{3\\times 3}(\\QQ)$ of $3 \\times\n",
    "3$ matrices with rational entries:"
   ]
  },
  {
   "cell_type": "code",
   "execution_count": null,
   "id": "331d007b",
   "metadata": {},
   "outputs": [
    {
     "data": {
      "text/plain": [
       "Full MatrixSpace of 3 by 3 dense matrices over Rational Field"
      ]
     },
     "execution_count": 1,
     "metadata": {},
     "output_type": "execute_result"
    }
   ],
   "source": [
    "M = MatrixSpace(QQ,3)\n",
    "M"
   ]
  },
  {
   "cell_type": "markdown",
   "id": "ac03805e",
   "metadata": {},
   "source": [
    "(To specify the space of 3 by 4 matrices, you would use\n",
    "`MatrixSpace(QQ,3,4)`. If the number of columns is omitted, it defaults\n",
    "to the number of rows, so `MatrixSpace(QQ,3)` is a synonym for\n",
    "`MatrixSpace(QQ,3,3)`.) The space of matrices is equipped with its\n",
    "canonical basis:"
   ]
  },
  {
   "cell_type": "code",
   "execution_count": null,
   "id": "d7bab6a4",
   "metadata": {},
   "outputs": [
    {
     "data": {
      "text/plain": [
       "9"
      ]
     },
     "execution_count": 1,
     "metadata": {},
     "output_type": "execute_result"
    }
   ],
   "source": [
    "B = M.basis()\n",
    "len(B)"
   ]
  },
  {
   "cell_type": "code",
   "execution_count": null,
   "id": "3f4ec77b",
   "metadata": {},
   "outputs": [
    {
     "data": {
      "text/plain": [
       "[0 1 0]\n",
       "[0 0 0]\n",
       "[0 0 0]"
      ]
     },
     "execution_count": 1,
     "metadata": {},
     "output_type": "execute_result"
    }
   ],
   "source": [
    "B[0,1]"
   ]
  },
  {
   "cell_type": "markdown",
   "id": "740750b9",
   "metadata": {},
   "source": [
    "We create a matrix as an element of `M`."
   ]
  },
  {
   "cell_type": "code",
   "execution_count": null,
   "id": "52d05f8e",
   "metadata": {},
   "outputs": [
    {
     "data": {
      "text/plain": [
       "[0 1 2]\n",
       "[3 4 5]\n",
       "[6 7 8]"
      ]
     },
     "execution_count": 1,
     "metadata": {},
     "output_type": "execute_result"
    }
   ],
   "source": [
    "A = M(range(9)); A"
   ]
  },
  {
   "cell_type": "markdown",
   "id": "b02acdb0",
   "metadata": {},
   "source": [
    "Next we compute its reduced row echelon form and kernel."
   ]
  },
  {
   "cell_type": "code",
   "execution_count": null,
   "id": "b885cb7b",
   "metadata": {},
   "outputs": [
    {
     "data": {
      "text/plain": [
       "[ 1  0 -1]\n",
       "[ 0  1  2]\n",
       "[ 0  0  0]"
      ]
     },
     "execution_count": 1,
     "metadata": {},
     "output_type": "execute_result"
    }
   ],
   "source": [
    "A.echelon_form()"
   ]
  },
  {
   "cell_type": "code",
   "execution_count": null,
   "id": "d64b6f93",
   "metadata": {},
   "outputs": [
    {
     "data": {
      "text/plain": [
       "Vector space of degree 3 and dimension 1 over Rational Field\n",
       "Basis matrix:\n",
       "[ 1 -2  1]"
      ]
     },
     "execution_count": 1,
     "metadata": {},
     "output_type": "execute_result"
    }
   ],
   "source": [
    "A.kernel()"
   ]
  },
  {
   "cell_type": "markdown",
   "id": "eb55c58e",
   "metadata": {},
   "source": [
    "Next we illustrate computation of matrices defined over finite fields:"
   ]
  },
  {
   "cell_type": "code",
   "execution_count": null,
   "id": "1e564f27",
   "metadata": {},
   "outputs": [
    {
     "data": {
      "text/plain": [
       "[1 1 0 0 1 1 1 1]\n",
       "[0 1 0 0 1 0 1 1]\n",
       "[0 0 1 0 1 1 0 1]\n",
       "[0 0 1 1 1 1 1 0]"
      ]
     },
     "execution_count": 1,
     "metadata": {},
     "output_type": "execute_result"
    }
   ],
   "source": [
    "M = MatrixSpace(GF(2),4,8)\n",
    "A = M([1,1,0,0, 1,1,1,1, 0,1,0,0, 1,0,1,1,\n",
    "       0,0,1,0, 1,1,0,1, 0,0,1,1, 1,1,1,0])\n",
    "A"
   ]
  },
  {
   "cell_type": "code",
   "execution_count": null,
   "id": "595cabb9",
   "metadata": {},
   "outputs": [
    {
     "data": {
      "text/plain": [
       "[(1, 0, 0, 0), (1, 1, 0, 0), (0, 0, 1, 1), (0, 0, 0, 1),\n",
       " (1, 1, 1, 1), (1, 0, 1, 1), (1, 1, 0, 1), (1, 1, 1, 0)]"
      ]
     },
     "execution_count": 1,
     "metadata": {},
     "output_type": "execute_result"
    }
   ],
   "source": [
    "rows = A.rows()\n",
    "A.columns()"
   ]
  },
  {
   "cell_type": "code",
   "execution_count": null,
   "id": "af257491",
   "metadata": {},
   "outputs": [
    {
     "data": {
      "text/plain": [
       "[(1, 1, 0, 0, 1, 1, 1, 1), (0, 1, 0, 0, 1, 0, 1, 1),\n",
       " (0, 0, 1, 0, 1, 1, 0, 1), (0, 0, 1, 1, 1, 1, 1, 0)]"
      ]
     },
     "execution_count": 1,
     "metadata": {},
     "output_type": "execute_result"
    }
   ],
   "source": [
    "rows"
   ]
  },
  {
   "cell_type": "markdown",
   "id": "e4164b5c",
   "metadata": {},
   "source": [
    "We make the subspace over $\\GF{2}$ spanned by the above rows."
   ]
  },
  {
   "cell_type": "code",
   "execution_count": null,
   "id": "80b7805a",
   "metadata": {},
   "outputs": [
    {
     "data": {
      "text/plain": [
       "Vector space of degree 8 and dimension 4 over Finite Field of size 2\n",
       "Basis matrix:\n",
       "[1 0 0 0 0 1 0 0]\n",
       "[0 1 0 0 1 0 1 1]\n",
       "[0 0 1 0 1 1 0 1]\n",
       "[0 0 0 1 0 0 1 1]"
      ]
     },
     "execution_count": 1,
     "metadata": {},
     "output_type": "execute_result"
    }
   ],
   "source": [
    "V = VectorSpace(GF(2),8)\n",
    "S = V.subspace(rows)\n",
    "S"
   ]
  },
  {
   "cell_type": "code",
   "execution_count": null,
   "id": "4b5b8022",
   "metadata": {},
   "outputs": [
    {
     "data": {
      "text/plain": [
       "[1 0 0 0 0 1 0 0]\n",
       "[0 1 0 0 1 0 1 1]\n",
       "[0 0 1 0 1 1 0 1]\n",
       "[0 0 0 1 0 0 1 1]"
      ]
     },
     "execution_count": 1,
     "metadata": {},
     "output_type": "execute_result"
    }
   ],
   "source": [
    "A.echelon_form()"
   ]
  },
  {
   "cell_type": "markdown",
   "id": "50f4084f",
   "metadata": {},
   "source": [
    "The basis of $S$ used by Sage is obtained from the non-zero rows of the\n",
    "reduced row echelon form of the matrix of generators of $S$.\n",
    "\n",
    "## Sparse Linear Algebra\n",
    "\n",
    "Sage has support for sparse linear algebra over PIDs."
   ]
  },
  {
   "cell_type": "code",
   "execution_count": null,
   "id": "0819519d",
   "metadata": {},
   "outputs": [],
   "source": [
    "M = MatrixSpace(QQ, 100, sparse=True)\n",
    "A = M.random_element(density = 0.05)\n",
    "E = A.echelon_form()"
   ]
  },
  {
   "cell_type": "markdown",
   "id": "2f411b73",
   "metadata": {},
   "source": [
    "The multi-modular algorithm in Sage is good for square matrices (but not\n",
    "so good for non-square matrices):"
   ]
  },
  {
   "cell_type": "code",
   "execution_count": null,
   "id": "4c1c3e94",
   "metadata": {},
   "outputs": [],
   "source": [
    "M = MatrixSpace(QQ, 50, 100, sparse=True)\n",
    "A = M.random_element(density = 0.05)\n",
    "E = A.echelon_form()\n",
    "M = MatrixSpace(GF(2), 20, 40, sparse=True)\n",
    "A = M.random_element()\n",
    "E = A.echelon_form()"
   ]
  },
  {
   "cell_type": "markdown",
   "id": "18e8d6a9",
   "metadata": {},
   "source": [
    "Note that Python is case sensitive:"
   ]
  },
  {
   "cell_type": "code",
   "execution_count": null,
   "id": "c2dfcb21",
   "metadata": {},
   "outputs": [
    {
     "data": {
      "text/plain": [
       "Traceback (most recent call last):\n",
       "...\n",
       "TypeError: ...__init__() got an unexpected keyword argument 'Sparse'"
      ]
     },
     "execution_count": 1,
     "metadata": {},
     "output_type": "execute_result"
    }
   ],
   "source": [
    "M = MatrixSpace(QQ, 10,10, Sparse=True)"
   ]
  }
 ],
 "metadata": {},
 "nbformat": 4,
 "nbformat_minor": 5
}
