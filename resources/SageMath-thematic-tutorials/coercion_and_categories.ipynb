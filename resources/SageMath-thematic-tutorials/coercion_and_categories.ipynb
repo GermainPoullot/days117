{
 "cells": [
  {
   "cell_type": "markdown",
   "id": "9d89cc49",
   "metadata": {},
   "source": [
    "$$\n",
    "\\def\\CC{\\bf C}\n",
    "\\def\\QQ{\\bf Q}\n",
    "\\def\\RR{\\bf R}\n",
    "\\def\\ZZ{\\bf Z}\n",
    "\\def\\NN{\\bf N}\n",
    "$$\n",
    "# How to implement new algebraic structures in Sage\n",
    "\n",
    "## Sage's category and coercion framework\n",
    "\n",
    "Simon King, Friedrich-Schiller-Universität Jena,\n",
    "\\<<simon.king@uni-jena.de>\\> © 2011/2013\n",
    "\n",
    "The aim of this tutorial is to explain how one can benefit from Sage's\n",
    "category framework and coercion model when implementing new algebraic\n",
    "structures. It is based on a worksheet created in 2011.\n",
    "\n",
    "We illustrate the concepts of Sage's category framework and coercion\n",
    "model by means of a detailed example, namely a toy implementation of\n",
    "fraction fields. The code is developed step by step, so that the reader\n",
    "can focus on one detail in each part of this tutorial. The complete code\n",
    "can be found in the appendix.\n",
    "\n",
    "### Outline\n",
    "\n",
    "-   Use existing base classes"
   ]
  },
  {
   "cell_type": "markdown",
   "id": "87c9ab76",
   "metadata": {},
   "source": [
    "\n",
    "    For using Sage's coercion system, it is essential to work with\n",
    "    sub--classes of `sage.structure.parent.Parent` or\n",
    "    `sage.structure.element.Element`, respectively. They provide default\n",
    "    implementations of many \"magical\" double-underscore Python methods,\n",
    "    which must not be overridden. Instead, the actual implementation\n",
    "    should be in *single underscore* methods, such as `_add_` or\n",
    "    `_mul_`.\n"
   ]
  },
  {
   "cell_type": "markdown",
   "id": "96818f6d",
   "metadata": {},
   "source": [
    "-   Turn your parent structure into an object of a category"
   ]
  },
  {
   "cell_type": "markdown",
   "id": "2b8a9141",
   "metadata": {},
   "source": [
    "\n",
    "    Declare the category during initialisation---Your parent structure\n",
    "    will inherit further useful methods and consistency tests.\n"
   ]
  },
  {
   "cell_type": "markdown",
   "id": "75244800",
   "metadata": {},
   "source": [
    "-   Provide your parent structure with an element class"
   ]
  },
  {
   "cell_type": "markdown",
   "id": "9c681d11",
   "metadata": {},
   "source": [
    "\n",
    "    Assign to it an attribute called `Element`---The elements will\n",
    "    inherit further useful methods from the category. In addition, some\n",
    "    basic conversions will immediately work.\n"
   ]
  },
  {
   "cell_type": "markdown",
   "id": "1d9c20d2",
   "metadata": {},
   "source": [
    "-   Implement further conversions"
   ]
  },
  {
   "cell_type": "markdown",
   "id": "d81ae97f",
   "metadata": {},
   "source": [
    "\n",
    "    Never override a parent's `__call__` method! Provide the method\n",
    "    `_element_constructor_` instead.\n"
   ]
  },
  {
   "cell_type": "markdown",
   "id": "76fd25b4",
   "metadata": {},
   "source": [
    "-   Declare coercions"
   ]
  },
  {
   "cell_type": "markdown",
   "id": "fa0ba7c9",
   "metadata": {},
   "source": [
    "\n",
    "    If a conversion happens to be a morphism, you may consider to turn\n",
    "    it into a coercion. It will then *implicitly* be used in arithmetic\n",
    "    operations.\n"
   ]
  },
  {
   "cell_type": "markdown",
   "id": "6bbdbe79",
   "metadata": {},
   "source": [
    "-   Advanced coercion: Define construction functors for your parent\n",
    "    structure"
   ]
  },
  {
   "cell_type": "markdown",
   "id": "780edb45",
   "metadata": {},
   "source": [
    "\n",
    "    Sage will automatically create new parents for you when needed, by\n",
    "    the so--called `sage.categories.pushout.pushout` construction.\n"
   ]
  },
  {
   "cell_type": "markdown",
   "id": "1a792206",
   "metadata": {},
   "source": [
    "-   Run the automatic test suites"
   ]
  },
  {
   "cell_type": "markdown",
   "id": "3fcc4f24",
   "metadata": {},
   "source": [
    "\n",
    "    Each method should be documented and provide a doc test (we are not\n",
    "    giving examples here). In addition, any method defined for the\n",
    "    objects or elements of a category should be supported by a test\n",
    "    method, that is executed when running the test suite.\n"
   ]
  },
  {
   "cell_type": "markdown",
   "id": "1840e409",
   "metadata": {},
   "source": [
    "### Base classes\n",
    "\n",
    "In Sage, a \"Parent\" is an object of a category and contains elements.\n",
    "Parents should inherit from `sage.structure.parent.Parent` and their\n",
    "elements from `sage.structure.element.Element`.\n",
    "\n",
    "Sage provides appropriate sub--classes of\n",
    "`~sage.structure.parent.Parent` and `~sage.structure.element.Element`\n",
    "for a variety of more concrete algebraic structures, such as groups,\n",
    "rings, or fields, and of their elements. But some old stuff in Sage\n",
    "doesn't use it. **Volunteers for refactoring are welcome!**\n",
    "\n",
    "#### The parent\n",
    "\n",
    "Since we wish to implement a special kind of fields, namely fraction\n",
    "fields, it makes sense to build on top of the base class\n",
    "`sage.rings.ring.Field` provided by Sage. :"
   ]
  },
  {
   "cell_type": "code",
   "execution_count": null,
   "id": "2dad97d6",
   "metadata": {},
   "outputs": [],
   "source": [
    "from sage.rings.ring import Field"
   ]
  },
  {
   "cell_type": "markdown",
   "id": "074f9001",
   "metadata": {},
   "source": [
    "This base class provides a lot more methods than a general parent:"
   ]
  },
  {
   "cell_type": "code",
   "execution_count": null,
   "id": "7274ca94",
   "metadata": {},
   "outputs": [
    {
     "data": {
      "text/plain": [
       "['__fraction_field',\n",
       " '__ideal_monoid',\n",
       " '__iter__',\n",
       " '__len__',\n",
       " '__rxor__',\n",
       " '__xor__',\n",
       " '_an_element_impl',\n",
       " '_coerce_',\n",
       " '_coerce_c',\n",
       " '_coerce_impl',\n",
       " '_coerce_try',\n",
       " '_default_category',\n",
       " '_gens',\n",
       " '_ideal_class_',\n",
       " '_latex_names',\n",
       " '_list',\n",
       " '_one_element',\n",
       " '_pseudo_fraction_field',\n",
       " '_random_nonzero_element',\n",
       " '_unit_ideal',\n",
       " '_zero_element',\n",
       " '_zero_ideal',\n",
       " 'algebraic_closure',\n",
       " 'base_extend',\n",
       " 'class_group',\n",
       " 'content',\n",
       " 'derivation',\n",
       " 'derivation_module',\n",
       " 'divides',\n",
       " 'epsilon',\n",
       " 'extension',\n",
       " 'fraction_field',\n",
       " 'frobenius_endomorphism',\n",
       " 'gcd',\n",
       " 'gen',\n",
       " 'gens',\n",
       " 'ideal',\n",
       " 'ideal_monoid',\n",
       " 'integral_closure',\n",
       " 'is_commutative',\n",
       " 'is_field',\n",
       " 'is_integral_domain',\n",
       " 'is_integrally_closed',\n",
       " 'is_noetherian',\n",
       " 'is_prime_field',\n",
       " 'is_subring',\n",
       " 'krull_dimension',\n",
       " 'localization',\n",
       " 'ngens',\n",
       " 'one',\n",
       " 'order',\n",
       " 'prime_subfield',\n",
       " 'principal_ideal',\n",
       " 'random_element',\n",
       " 'unit_ideal',\n",
       " 'zero',\n",
       " 'zero_ideal',\n",
       " 'zeta',\n",
       " 'zeta_order']"
      ]
     },
     "execution_count": 1,
     "metadata": {},
     "output_type": "execute_result"
    }
   ],
   "source": [
    "[p for p in dir(Field) if p not in dir(Parent)]"
   ]
  },
  {
   "cell_type": "markdown",
   "id": "c851af5c",
   "metadata": {},
   "source": [
    "The following is a very basic implementation of fraction fields, that\n",
    "needs to be complemented later. :"
   ]
  },
  {
   "cell_type": "code",
   "execution_count": null,
   "id": "7d4f9df3",
   "metadata": {},
   "outputs": [],
   "source": [
    "from sage.structure.unique_representation import UniqueRepresentation\n",
    "class MyFrac(UniqueRepresentation, Field):\n",
    "    def __init__(self, base):\n",
    "        if base not in IntegralDomains():\n",
    "            raise ValueError(\"%s is no integral domain\" % base)\n",
    "        Field.__init__(self, base)\n",
    "    def _repr_(self):\n",
    "        return \"NewFrac(%s)\"%repr(self.base())\n",
    "    def base_ring(self):\n",
    "        return self.base().base_ring()\n",
    "    def characteristic(self):\n",
    "        return self.base().characteristic()"
   ]
  },
  {
   "cell_type": "markdown",
   "id": "6b725710",
   "metadata": {},
   "source": [
    "This basic implementation is formed by the following steps:\n",
    "\n",
    "-   Any ring in Sage has a **base** and a **base ring**. The \"usual\"\n",
    "    fraction field of a ring $R$ has the base $R$ and the base ring\n",
    "    `R.base_ring()` :"
   ]
  },
  {
   "cell_type": "code",
   "execution_count": null,
   "id": "d3a8296f",
   "metadata": {},
   "outputs": [
    {
     "data": {
      "text/plain": [
       "(Univariate Polynomial Ring in x over Rational Field, Rational Field)"
      ]
     },
     "execution_count": 1,
     "metadata": {},
     "output_type": "execute_result"
    }
   ],
   "source": [
    "    Frac(QQ['x']).base(), Frac(QQ['x']).base_ring()"
   ]
  },
  {
   "cell_type": "markdown",
   "id": "a5c6d6e9",
   "metadata": {},
   "source": [
    "\n",
    "    Declaring the base is easy: We just pass it as an argument to the\n",
    "    field constructor. :\n",
    "```{.python .input}\n",
    "    Field(ZZ['x']).base()\n",
    "```\n",
    "```{.json .output}\n",
    "    [{\"data\": {\"text/plain\": \"Univariate Polynomial Ring in x over Integer Ring\"}, \"execution_count\": 1, \"metadata\": {}, \"output_type\": \"execute_result\"}]\n",
    "```\n",
    "\n",
    "    We are implementing a separate method returning the base ring.\n"
   ]
  },
  {
   "cell_type": "markdown",
   "id": "1a66467d",
   "metadata": {},
   "source": [
    "-   Python uses double--underscore methods for arithmetic methods and\n",
    "    string representations. Sage's base classes often have a default\n",
    "    implementation, and it is requested to **implement SINGLE underscore\n",
    "    methods \\_repr\\_, and similarly \\_add\\_, \\_mul\\_ etc.**\n",
    "\n",
    "-   You are encouraged to **make your parent \"unique\"**. That's to say,\n",
    "    parents should only evaluate equal if they are identical. Sage\n",
    "    provides frameworks to create unique parents. We use here the most\n",
    "    easy one: Inheriting from the class\n",
    "    `sage.structure.unique_representation.UniqueRepresentation` is\n",
    "    enough. Making parents unique can be quite important for an\n",
    "    efficient implementation, because the repeated creation of \"the\n",
    "    same\" parent would take a lot of time.\n",
    "\n",
    "-   Fraction fields are only defined for integral domains. Hence, we\n",
    "    raise an error if the given ring does not belong to the category of\n",
    "    integral domains. This is our first use case of categories.\n",
    "\n",
    "-   Last, we add a method that returns the characteristic of the field.\n",
    "    We don't go into details, but some automated tests that we study\n",
    "    below implicitly rely on this method.\n",
    "\n",
    "We see that our basic implementation correctly refuses a ring that is\n",
    "not an integral domain:"
   ]
  },
  {
   "cell_type": "code",
   "execution_count": null,
   "id": "510965f0",
   "metadata": {},
   "outputs": [
    {
     "data": {
      "text/plain": [
       "NewFrac(Univariate Polynomial Ring in x over Integer Ring)"
      ]
     },
     "execution_count": 1,
     "metadata": {},
     "output_type": "execute_result"
    }
   ],
   "source": [
    "MyFrac(ZZ['x'])"
   ]
  },
  {
   "cell_type": "code",
   "execution_count": null,
   "id": "6372ff99",
   "metadata": {},
   "outputs": [
    {
     "data": {
      "text/plain": [
       "Traceback (most recent call last):\n",
       "...\n",
       "ValueError: Ring of integers modulo 15 is no integral domain"
      ]
     },
     "execution_count": 1,
     "metadata": {},
     "output_type": "execute_result"
    }
   ],
   "source": [
    "MyFrac(Integers(15))"
   ]
  },
  {
   "cell_type": "markdown",
   "id": "f88f76a9",
   "metadata": {},
   "source": [
    "Note\n",
    "\n",
    "Inheritance from\n",
    "`~sage.structure.unique_representation.UniqueRepresentation`\n",
    "automatically provides our class with pickling, preserving the unique\n",
    "parent condition. If we had defined the class in some external module or\n",
    "in an interactive session, pickling would work immediately.\n",
    "\n",
    "However, for making the following example work in Sage's doctesting\n",
    "framework, we need to assign our class as an attribute of the `__main__`\n",
    "module, so that the class can be looked up during unpickling."
   ]
  },
  {
   "cell_type": "code",
   "execution_count": null,
   "id": "d0a35456",
   "metadata": {},
   "outputs": [
    {
     "data": {
      "text/plain": [
       "True"
      ]
     },
     "execution_count": 1,
     "metadata": {},
     "output_type": "execute_result"
    }
   ],
   "source": [
    "import __main__\n",
    "__main__.MyFrac = MyFrac\n",
    "loads(dumps(MyFrac(ZZ))) is MyFrac(ZZ)"
   ]
  },
  {
   "cell_type": "markdown",
   "id": "89ba81d8",
   "metadata": {},
   "source": [
    "Note\n",
    "\n",
    "In the following sections, we will successively add or change details of\n",
    "`MyFrac`. Rather than giving a full class definition in each step, we\n",
    "define new versions of `MyFrac` by inheriting from the previously\n",
    "defined version of `MyFrac`. We believe this will help the reader to\n",
    "focus on the single detail that is relevant in each section.\n",
    "\n",
    "The complete code can be found in the appendix.\n",
    "\n",
    "#### The elements\n",
    "\n",
    "We use the base class `sage.structure.element.FieldElement`. Note that\n",
    "in the creation of field elements it is not tested that the given parent\n",
    "is a field:"
   ]
  },
  {
   "cell_type": "code",
   "execution_count": null,
   "id": "38b6277b",
   "metadata": {},
   "outputs": [
    {
     "data": {
      "text/plain": [
       "Generic element of a structure"
      ]
     },
     "execution_count": 1,
     "metadata": {},
     "output_type": "execute_result"
    }
   ],
   "source": [
    "from sage.structure.element import FieldElement\n",
    "FieldElement(ZZ)"
   ]
  },
  {
   "cell_type": "markdown",
   "id": "f4f5c310",
   "metadata": {},
   "source": [
    "Our toy implementation of fraction field elements is based on the\n",
    "following considerations:\n",
    "\n",
    "-   A fraction field element is defined by numerator and denominator,\n",
    "    which both need to be elements of the base. There should be methods\n",
    "    returning numerator resp. denominator.\n",
    "\n",
    "-   The denominator must not be zero, and (provided that the base is an\n",
    "    ordered ring) we can make it non-negative, without loss of\n",
    "    generality. By default, the denominator is one.\n",
    "\n",
    "-   The string representation is returned by the single--underscore\n",
    "    method `_repr_`. In order to make our fraction field elements\n",
    "    distinguishable from those already present in Sage, we use a\n",
    "    different string representation.\n",
    "\n",
    "-   Arithmetic is implemented in single--underscore method `_add_`,\n",
    "    `_mul_`, etc. **We do not override the default double underscore\n",
    "    \\_\\_add\\_\\_, \\_\\_mul\\_\\_**, since otherwise, we could not use Sage's\n",
    "    coercion model.\n",
    "\n",
    "-   Comparisons can be implemented using `_richcmp_`. This automatically\n",
    "    makes the relational operators like `==` and `<` work. Inside this\n",
    "    method, you can use the `richcmp` functions and related tools\n",
    "    provided by sage."
   ]
  },
  {
   "cell_type": "markdown",
   "id": "e15611e4",
   "metadata": {},
   "source": [
    "\n",
    "    Note that `_richcmp_` should be provided, since otherwise comparison\n",
    "    does not work:\n",
    "```{.python .input}\n",
    "    class Foo(sage.structure.element.Element):\n",
    "     def __init__(self, parent, x):\n",
    "         self.x = x\n",
    "     def _repr_(self):\n",
    "         return \"<%s>\" % self.x\n",
    "    a = Foo(ZZ, 1)\n",
    "    b = Foo(ZZ, 2)\n",
    "    a <= b\n",
    "```\n",
    "```{.json .output}\n",
    "    [{\"data\": {\"text/plain\": \"Traceback (most recent call last):\\n...\\nTypeError: '<=' not supported between instances of 'Foo' and 'Foo'\"}, \"execution_count\": 1, \"metadata\": {}, \"output_type\": \"execute_result\"}]\n",
    "```\n"
   ]
  },
  {
   "cell_type": "markdown",
   "id": "63639efe",
   "metadata": {},
   "source": [
    "-   In the single underscore methods, we can assume that *both arguments\n",
    "    belong to the same parent*. This is one benefit of the coercion\n",
    "    model.\n",
    "\n",
    "-   When constructing new elements as the result of arithmetic\n",
    "    operations, we do not directly name our class, but we use\n",
    "    `self.__class__`. Later, this will come in handy.\n",
    "\n",
    "This gives rise to the following code:"
   ]
  },
  {
   "cell_type": "code",
   "execution_count": null,
   "id": "50ec79f0",
   "metadata": {},
   "outputs": [],
   "source": [
    "class MyElement(FieldElement):\n",
    "    def __init__(self, parent,n,d=None):\n",
    "        B = parent.base()\n",
    "        if d is None:\n",
    "            d = B.one()\n",
    "        if n not in B or d not in B:\n",
    "            raise ValueError(\"Numerator and denominator must be elements of %s\"%B)\n",
    "        # Numerator and denominator should not just be \"in\" B,\n",
    "        # but should be defined as elements of B\n",
    "        d = B(d)\n",
    "        n = B(n)\n",
    "        if d==0:\n",
    "            raise ZeroDivisionError(\"The denominator must not be zero\")\n",
    "        if d<0:\n",
    "            self.n = -n\n",
    "            self.d = -d\n",
    "        else:\n",
    "            self.n = n\n",
    "            self.d = d\n",
    "        FieldElement.__init__(self,parent)\n",
    "    def numerator(self):\n",
    "        return self.n\n",
    "    def denominator(self):\n",
    "        return self.d\n",
    "    def _repr_(self):\n",
    "        return \"(%s):(%s)\"%(self.n,self.d)\n",
    "    def _richcmp_(self, other, op):\n",
    "        from sage.structure.richcmp import richcmp\n",
    "        return richcmp(self.n*other.denominator(), other.numerator()*self.d, op)\n",
    "    def _add_(self, other):\n",
    "        C = self.__class__\n",
    "        D = self.d*other.denominator()\n",
    "        return C(self.parent(), self.n*other.denominator()+self.d*other.numerator(), D)\n",
    "    def _sub_(self, other):\n",
    "        C = self.__class__\n",
    "        D = self.d*other.denominator()\n",
    "        return C(self.parent(), self.n*other.denominator()-self.d*other.numerator(),D)\n",
    "    def _mul_(self, other):\n",
    "        C = self.__class__\n",
    "        return C(self.parent(), self.n*other.numerator(), self.d*other.denominator())\n",
    "    def _div_(self, other):\n",
    "        C = self.__class__\n",
    "        return C(self.parent(), self.n*other.denominator(), self.d*other.numerator())"
   ]
  },
  {
   "cell_type": "markdown",
   "id": "541614d8",
   "metadata": {},
   "source": [
    "##### Features and limitations of the basic implementation\n",
    "\n",
    "Thanks to the single underscore methods, some basic arithmetics works,\n",
    "**if** we stay inside a single parent structure:"
   ]
  },
  {
   "cell_type": "code",
   "execution_count": null,
   "id": "90b57671",
   "metadata": {},
   "outputs": [
    {
     "data": {
      "text/plain": [
       "((10):(8), (2):(8), (3):(8), (6):(4))"
      ]
     },
     "execution_count": 1,
     "metadata": {},
     "output_type": "execute_result"
    }
   ],
   "source": [
    "P = MyFrac(ZZ)\n",
    "a = MyElement(P, 3, 4)\n",
    "b = MyElement(P, 1, 2)\n",
    "a+b, a-b, a*b, a/b"
   ]
  },
  {
   "cell_type": "code",
   "execution_count": null,
   "id": "e81552a7",
   "metadata": {},
   "outputs": [
    {
     "data": {
      "text/plain": [
       "True"
      ]
     },
     "execution_count": 1,
     "metadata": {},
     "output_type": "execute_result"
    }
   ],
   "source": [
    "a-b == MyElement(P, 1, 4)"
   ]
  },
  {
   "cell_type": "markdown",
   "id": "d64d45b5",
   "metadata": {},
   "source": [
    "There is a default implementation of element tests. We can already do :"
   ]
  },
  {
   "cell_type": "code",
   "execution_count": null,
   "id": "37da8633",
   "metadata": {},
   "outputs": [
    {
     "data": {
      "text/plain": [
       "True"
      ]
     },
     "execution_count": 1,
     "metadata": {},
     "output_type": "execute_result"
    }
   ],
   "source": [
    "a in P"
   ]
  },
  {
   "cell_type": "markdown",
   "id": "168ca918",
   "metadata": {},
   "source": [
    "since $a$ is defined as an element of $P$. However, we cannot verify yet\n",
    "that the integers are contained in the fraction field of the ring of\n",
    "integers. It does not even give a wrong answer, but results in an error:"
   ]
  },
  {
   "cell_type": "code",
   "execution_count": null,
   "id": "f83fa461",
   "metadata": {},
   "outputs": [
    {
     "data": {
      "text/plain": [
       "Traceback (most recent call last):\n",
       "...\n",
       "NotImplementedError: cannot construct elements of NewFrac(Integer Ring)"
      ]
     },
     "execution_count": 1,
     "metadata": {},
     "output_type": "execute_result"
    }
   ],
   "source": [
    "1 in P"
   ]
  },
  {
   "cell_type": "markdown",
   "id": "a6c68fe7",
   "metadata": {},
   "source": [
    "We will take care of this later.\n",
    "\n",
    "### Categories in Sage\n",
    "\n",
    "Sometimes the base classes do not reflect the mathematics: The set of\n",
    "$m\\times\n",
    "n$ matrices over a field forms, in general, not more than a vector\n",
    "space. Hence, this set (called `~sage.matrix.matrix_space.MatrixSpace`)\n",
    "is not implemented on top of `sage.rings.ring.Ring`. However, if $m=n$,\n",
    "then the matrix space is an algebra, thus, is a ring.\n",
    "\n",
    "From the point of view of Python base classes, both cases are the same:"
   ]
  },
  {
   "cell_type": "code",
   "execution_count": null,
   "id": "cb758847",
   "metadata": {},
   "outputs": [
    {
     "data": {
      "text/plain": [
       "False"
      ]
     },
     "execution_count": 1,
     "metadata": {},
     "output_type": "execute_result"
    }
   ],
   "source": [
    "MS1 = MatrixSpace(QQ,2,3)\n",
    "isinstance(MS1, Ring)"
   ]
  },
  {
   "cell_type": "code",
   "execution_count": null,
   "id": "525f465e",
   "metadata": {},
   "outputs": [
    {
     "data": {
      "text/plain": [
       "False"
      ]
     },
     "execution_count": 1,
     "metadata": {},
     "output_type": "execute_result"
    }
   ],
   "source": [
    "MS2 = MatrixSpace(QQ,2)\n",
    "isinstance(MS2, Ring)"
   ]
  },
  {
   "cell_type": "markdown",
   "id": "ffd2fe93",
   "metadata": {},
   "source": [
    "Sage's category framework can differentiate the two cases:"
   ]
  },
  {
   "cell_type": "code",
   "execution_count": null,
   "id": "7b7bc2b5",
   "metadata": {},
   "outputs": [
    {
     "data": {
      "text/plain": [
       "Category of rings"
      ]
     },
     "execution_count": 1,
     "metadata": {},
     "output_type": "execute_result"
    }
   ],
   "source": [
    "Rings()"
   ]
  },
  {
   "cell_type": "code",
   "execution_count": null,
   "id": "cc88c27f",
   "metadata": {},
   "outputs": [
    {
     "data": {
      "text/plain": [
       "False"
      ]
     },
     "execution_count": 1,
     "metadata": {},
     "output_type": "execute_result"
    }
   ],
   "source": [
    "MS1 in Rings()"
   ]
  },
  {
   "cell_type": "code",
   "execution_count": null,
   "id": "003c4c2c",
   "metadata": {},
   "outputs": [
    {
     "data": {
      "text/plain": [
       "True"
      ]
     },
     "execution_count": 1,
     "metadata": {},
     "output_type": "execute_result"
    }
   ],
   "source": [
    "MS2 in Rings()"
   ]
  },
  {
   "cell_type": "markdown",
   "id": "90fc0109",
   "metadata": {},
   "source": [
    "And indeed, `MS2` has *more* methods than `MS1` :"
   ]
  },
  {
   "cell_type": "code",
   "execution_count": null,
   "id": "926e686c",
   "metadata": {},
   "outputs": [
    {
     "data": {
      "text/plain": [
       "True"
      ]
     },
     "execution_count": 1,
     "metadata": {},
     "output_type": "execute_result"
    }
   ],
   "source": [
    "import inspect\n",
    "L1 = len([s for s in dir(MS1) if inspect.ismethod(getattr(MS1,s,None))])\n",
    "L2 = len([s for s in dir(MS2) if inspect.ismethod(getattr(MS2,s,None))])\n",
    "L1 < L2"
   ]
  },
  {
   "cell_type": "markdown",
   "id": "ba7a305a",
   "metadata": {},
   "source": [
    "This is because the class of `MS2` also inherits from the parent class\n",
    "for algebras:"
   ]
  },
  {
   "cell_type": "code",
   "execution_count": null,
   "id": "8ecf693a",
   "metadata": {},
   "outputs": [
    {
     "data": {
      "text/plain": [
       "(<class 'sage.matrix.matrix_space.MatrixSpace'>,\n",
       "<class 'sage.categories.category.JoinCategory.parent_class'>)"
      ]
     },
     "execution_count": 1,
     "metadata": {},
     "output_type": "execute_result"
    }
   ],
   "source": [
    "MS1.__class__.__bases__"
   ]
  },
  {
   "cell_type": "code",
   "execution_count": null,
   "id": "989b5bf7",
   "metadata": {},
   "outputs": [
    {
     "data": {
      "text/plain": [
       "(<class 'sage.matrix.matrix_space.MatrixSpace'>,\n",
       "<class 'sage.categories.category.JoinCategory.parent_class'>)"
      ]
     },
     "execution_count": 1,
     "metadata": {},
     "output_type": "execute_result"
    }
   ],
   "source": [
    "MS2.__class__.__bases__"
   ]
  },
  {
   "cell_type": "markdown",
   "id": "a6582986",
   "metadata": {},
   "source": [
    "Below, we will explain how this can be taken advantage of.\n",
    "\n",
    "It is no surprise that our parent $P$ defined above knows that it\n",
    "belongs to the category of fields, as it is derived from the base class\n",
    "of fields."
   ]
  },
  {
   "cell_type": "code",
   "execution_count": null,
   "id": "67050803",
   "metadata": {},
   "outputs": [
    {
     "data": {
      "text/plain": [
       "Category of fields"
      ]
     },
     "execution_count": 1,
     "metadata": {},
     "output_type": "execute_result"
    }
   ],
   "source": [
    "P.category()"
   ]
  },
  {
   "cell_type": "markdown",
   "id": "e33604e4",
   "metadata": {},
   "source": [
    "However, we could choose a smaller category, namely the category of\n",
    "quotient fields.\n",
    "\n",
    "#### Why should one choose a category?\n",
    "\n",
    "One can provide **default methods** *for all objects* of a category, and\n",
    "*for all elements* of such objects. Hence, the category framework is a\n",
    "way to inherit useful stuff that is not present in the base classes.\n",
    "These default methods do not rely on implementation details, but on\n",
    "mathematical concepts.\n",
    "\n",
    "In addition, the categories define **test suites** for their objects and\n",
    "elements---see the last section. Hence, one also gets basic sanity tests\n",
    "for free.\n",
    "\n",
    "##### How does the *category framework* work?\n",
    "\n",
    "Abstract base classes for the objects (\"parent\\_class\") and the elements\n",
    "of objects (\"element\\_class\") are provided by attributes of the\n",
    "category. During initialisation of a parent, the class of the parent is\n",
    "*dynamically changed* into a sub--class of the category's parent class.\n",
    "Likewise, sub--classes of the category's element class are available for\n",
    "the creation of elements of the parent, as explained below.\n",
    "\n",
    "A dynamic change of classes does not work in Cython. Nevertheless,\n",
    "method inheritance still works, by virtue of a `__getattr__` method.\n",
    "\n",
    "Note\n",
    "\n",
    "It is strongly recommended to use the category framework both in Python\n",
    "and in Cython.\n",
    "\n",
    "Let us see whether there is any gain in choosing the category of\n",
    "quotient fields instead of the category of fields:"
   ]
  },
  {
   "cell_type": "code",
   "execution_count": null,
   "id": "7c6641e0",
   "metadata": {},
   "outputs": [
    {
     "data": {
      "text/plain": [
       "(<class 'sage.categories.quotient_fields.QuotientFields.parent_class'>,\n",
       " <class 'sage.categories.quotient_fields.QuotientFields.element_class'>)"
      ]
     },
     "execution_count": 1,
     "metadata": {},
     "output_type": "execute_result"
    }
   ],
   "source": [
    "QuotientFields().parent_class, QuotientFields().element_class"
   ]
  },
  {
   "cell_type": "code",
   "execution_count": null,
   "id": "c603ccbf",
   "metadata": {},
   "outputs": [
    {
     "data": {
      "text/plain": [
       "[]"
      ]
     },
     "execution_count": 1,
     "metadata": {},
     "output_type": "execute_result"
    }
   ],
   "source": [
    "[p for p in dir(QuotientFields().parent_class) if p not in dir(Fields().parent_class)]"
   ]
  },
  {
   "cell_type": "code",
   "execution_count": null,
   "id": "06927916",
   "metadata": {},
   "outputs": [
    {
     "data": {
      "text/plain": [
       "['_derivative',\n",
       " 'denominator',\n",
       " 'derivative',\n",
       " 'numerator',\n",
       " 'partial_fraction_decomposition']"
      ]
     },
     "execution_count": 1,
     "metadata": {},
     "output_type": "execute_result"
    }
   ],
   "source": [
    "[p for p in dir(QuotientFields().element_class) if p not in dir(Fields().element_class)]"
   ]
  },
  {
   "cell_type": "markdown",
   "id": "f42e1677",
   "metadata": {},
   "source": [
    "So, there is no immediate gain for our fraction fields, but additional\n",
    "methods become available to our fraction field elements. Note that some\n",
    "of these methods are place-holders: There is no default implementation,\n",
    "but it is *required* (respectively is *optional*) to implement these\n",
    "methods:"
   ]
  },
  {
   "cell_type": "code",
   "execution_count": null,
   "id": "0c6467ce",
   "metadata": {},
   "outputs": [
    {
     "data": {
      "text/plain": [
       "<abstract method denominator at ...>"
      ]
     },
     "execution_count": 1,
     "metadata": {},
     "output_type": "execute_result"
    }
   ],
   "source": [
    "QuotientFields().element_class.denominator"
   ]
  },
  {
   "cell_type": "code",
   "execution_count": null,
   "id": "ed69e649",
   "metadata": {},
   "outputs": [
    {
     "data": {
      "text/plain": [
       "['_add_', '_mul_']"
      ]
     },
     "execution_count": 1,
     "metadata": {},
     "output_type": "execute_result"
    }
   ],
   "source": [
    "from sage.misc.abstract_method import abstract_methods_of_class\n",
    "abstract_methods_of_class(QuotientFields().element_class)['optional']"
   ]
  },
  {
   "cell_type": "code",
   "execution_count": null,
   "id": "ebef4804",
   "metadata": {},
   "outputs": [
    {
     "data": {
      "text/plain": [
       "['__bool__', 'denominator', 'numerator']"
      ]
     },
     "execution_count": 1,
     "metadata": {},
     "output_type": "execute_result"
    }
   ],
   "source": [
    "abstract_methods_of_class(QuotientFields().element_class)['required']"
   ]
  },
  {
   "cell_type": "markdown",
   "id": "1e3d526a",
   "metadata": {},
   "source": [
    "Hence, when implementing elements of a quotient field, it is *required*\n",
    "to implement methods returning the denominator and the numerator, and a\n",
    "method that tells whether the element is nonzero, and in addition, it is\n",
    "*optional* (but certainly recommended) to provide some arithmetic\n",
    "methods. If one forgets to implement the required methods, the test\n",
    "suites of the category framework will complain---see below.\n",
    "\n",
    "#### Implementing the category framework for the parent\n",
    "\n",
    "We simply need to declare the correct category by an optional argument\n",
    "of the field constructor, where we provide the possibility to override\n",
    "the default category:"
   ]
  },
  {
   "cell_type": "code",
   "execution_count": null,
   "id": "0c064ebd",
   "metadata": {},
   "outputs": [],
   "source": [
    "from sage.categories.quotient_fields import QuotientFields\n",
    "class MyFrac(MyFrac):\n",
    "    def __init__(self, base, category=None):\n",
    "        if base not in IntegralDomains():\n",
    "            raise ValueError(\"%s is no integral domain\" % base)\n",
    "        Field.__init__(self, base, category=category or QuotientFields())"
   ]
  },
  {
   "cell_type": "markdown",
   "id": "9174017c",
   "metadata": {},
   "source": [
    "When constructing instances of `MyFrac`, their class is dynamically\n",
    "changed into a new class called `MyFrac_with_category`. It is a common\n",
    "sub--class of `MyFrac` and of the category's parent class:"
   ]
  },
  {
   "cell_type": "code",
   "execution_count": null,
   "id": "a371f3e7",
   "metadata": {},
   "outputs": [
    {
     "data": {
      "text/plain": [
       "<class '__main__.MyFrac_with_category'>"
      ]
     },
     "execution_count": 1,
     "metadata": {},
     "output_type": "execute_result"
    }
   ],
   "source": [
    "P = MyFrac(ZZ)\n",
    "type(P)"
   ]
  },
  {
   "cell_type": "code",
   "execution_count": null,
   "id": "e51dcc91",
   "metadata": {},
   "outputs": [
    {
     "data": {
      "text/plain": [
       "True"
      ]
     },
     "execution_count": 1,
     "metadata": {},
     "output_type": "execute_result"
    }
   ],
   "source": [
    "isinstance(P,MyFrac)"
   ]
  },
  {
   "cell_type": "code",
   "execution_count": null,
   "id": "ebcc452f",
   "metadata": {},
   "outputs": [
    {
     "data": {
      "text/plain": [
       "True"
      ]
     },
     "execution_count": 1,
     "metadata": {},
     "output_type": "execute_result"
    }
   ],
   "source": [
    "isinstance(P,QuotientFields().parent_class)"
   ]
  },
  {
   "cell_type": "markdown",
   "id": "9bc7f1fa",
   "metadata": {},
   "source": [
    "The fraction field $P$ inherits additional methods. For example, the\n",
    "base class `~sage.rings.fields.Field` does not have a method `sum`. But\n",
    "$P$ inherits such method from the category of commutative additive\n",
    "monoids---see\n",
    "`~sage.categories.commutative_additive_monoids.CommutativeAdditiveMonoids.ParentMethods.sum`\n",
    ":"
   ]
  },
  {
   "cell_type": "code",
   "execution_count": null,
   "id": "f3e4af17",
   "metadata": {},
   "outputs": [
    {
     "data": {
      "text/plain": [
       "'sage.categories.additive_monoids'"
      ]
     },
     "execution_count": 1,
     "metadata": {},
     "output_type": "execute_result"
    }
   ],
   "source": [
    "P.sum.__module__"
   ]
  },
  {
   "cell_type": "markdown",
   "id": "41d1f645",
   "metadata": {},
   "source": [
    "We have seen above that we can add elements. Nevertheless, the `sum`\n",
    "method does not work, yet:"
   ]
  },
  {
   "cell_type": "code",
   "execution_count": null,
   "id": "9c43936b",
   "metadata": {},
   "outputs": [
    {
     "data": {
      "text/plain": [
       "Traceback (most recent call last):\n",
       "...\n",
       "NotImplementedError: cannot construct elements of NewFrac(Integer Ring)"
      ]
     },
     "execution_count": 1,
     "metadata": {},
     "output_type": "execute_result"
    }
   ],
   "source": [
    "a = MyElement(P, 3, 4)\n",
    "b = MyElement(P, 1, 2)\n",
    "c = MyElement(P, -1, 2)\n",
    "P.sum([a, b, c])"
   ]
  },
  {
   "cell_type": "markdown",
   "id": "2ab612a6",
   "metadata": {},
   "source": [
    "The reason is that the `sum` method starts with the return value of\n",
    "`P.zero()`, which defaults to `P(0)`---but the conversion of integers\n",
    "into `P` is not implemented, yet.\n",
    "\n",
    "#### Implementing the category framework for the elements\n",
    "\n",
    "Similar to what we have seen for parents, a new class is dynamically\n",
    "created that combines the element class of the parent's category with\n",
    "the class that we have implemented above. However, the category\n",
    "framework is implemented in a different way for elements than for\n",
    "parents:\n",
    "\n",
    "-   We provide the parent $P$ (or its class) with an attribute called\n",
    "    \"`Element`\", whose value is a class.\n",
    "-   The parent *automatically* obtains an attribute `P.element_class`,\n",
    "    that subclasses both `P.Element` and `P.category().element_class`.\n",
    "\n",
    "Hence, for providing our fraction fields with their own element classes,\n",
    "**we just need to add a single line to our class**:"
   ]
  },
  {
   "cell_type": "code",
   "execution_count": null,
   "id": "8c786263",
   "metadata": {},
   "outputs": [],
   "source": [
    "class MyFrac(MyFrac):\n",
    "    Element = MyElement"
   ]
  },
  {
   "cell_type": "markdown",
   "id": "7f9f62fc",
   "metadata": {},
   "source": [
    "This little change provides several benefits:\n",
    "\n",
    "-   We can now create elements by simply calling the parent:"
   ]
  },
  {
   "cell_type": "code",
   "execution_count": null,
   "id": "d6700bb3",
   "metadata": {},
   "outputs": [
    {
     "data": {
      "text/plain": [
       "((1):(1), (2):(3))"
      ]
     },
     "execution_count": 1,
     "metadata": {},
     "output_type": "execute_result"
    }
   ],
   "source": [
    "    P = MyFrac(ZZ)\n",
    "    P(1), P(2,3)"
   ]
  },
  {
   "cell_type": "markdown",
   "id": "4beadc9a",
   "metadata": {},
   "source": [
    "-   There is a method `zero` returning the expected result:"
   ]
  },
  {
   "cell_type": "code",
   "execution_count": null,
   "id": "b07f4062",
   "metadata": {},
   "outputs": [
    {
     "data": {
      "text/plain": [
       "(0):(1)"
      ]
     },
     "execution_count": 1,
     "metadata": {},
     "output_type": "execute_result"
    }
   ],
   "source": [
    "    P.zero()"
   ]
  },
  {
   "cell_type": "markdown",
   "id": "8553f865",
   "metadata": {},
   "source": [
    "-   The `sum` method mentioned above suddenly works:"
   ]
  },
  {
   "cell_type": "code",
   "execution_count": null,
   "id": "2266a35f",
   "metadata": {},
   "outputs": [
    {
     "data": {
      "text/plain": [
       "(36):(16)"
      ]
     },
     "execution_count": 1,
     "metadata": {},
     "output_type": "execute_result"
    }
   ],
   "source": [
    "    a = MyElement(P, 9, 4)\n",
    "    b = MyElement(P, 1, 2)\n",
    "    c = MyElement(P, -1, 2)\n",
    "    P.sum([a,b,c])"
   ]
  },
  {
   "cell_type": "markdown",
   "id": "62a96bae",
   "metadata": {},
   "source": [
    "-   Exponentiation now works out of the box using the multiplication\n",
    "    that we defined:"
   ]
  },
  {
   "cell_type": "code",
   "execution_count": null,
   "id": "18f071a8",
   "metadata": {},
   "outputs": [
    {
     "data": {
      "text/plain": [
       "(729):(64)"
      ]
     },
     "execution_count": 1,
     "metadata": {},
     "output_type": "execute_result"
    }
   ],
   "source": [
    "    a^3"
   ]
  },
  {
   "cell_type": "markdown",
   "id": "2ff31f57",
   "metadata": {},
   "source": [
    "##### What did happen behind the scenes to make this work?\n",
    "\n",
    "We provided `P.Element`, and thus obtain `P.element_class`, which is a\n",
    "*lazy attribute*. It provides a *dynamic* class, which is a sub--class\n",
    "of both `MyElement` defined above and of `P.category().element_class` :"
   ]
  },
  {
   "cell_type": "code",
   "execution_count": null,
   "id": "89ccf029",
   "metadata": {},
   "outputs": [
    {
     "data": {
      "text/plain": [
       "<sage.misc.lazy_attribute.lazy_attribute object at ...>"
      ]
     },
     "execution_count": 1,
     "metadata": {},
     "output_type": "execute_result"
    }
   ],
   "source": [
    "P.__class__.element_class"
   ]
  },
  {
   "cell_type": "code",
   "execution_count": null,
   "id": "37d6ab69",
   "metadata": {},
   "outputs": [
    {
     "data": {
      "text/plain": [
       "<class '__main__.MyFrac_with_category.element_class'>"
      ]
     },
     "execution_count": 1,
     "metadata": {},
     "output_type": "execute_result"
    }
   ],
   "source": [
    "P.element_class"
   ]
  },
  {
   "cell_type": "code",
   "execution_count": null,
   "id": "6b94b393",
   "metadata": {},
   "outputs": [
    {
     "data": {
      "text/plain": [
       "<class 'sage.structure.dynamic_class.DynamicInheritComparisonMetaclass'>"
      ]
     },
     "execution_count": 1,
     "metadata": {},
     "output_type": "execute_result"
    }
   ],
   "source": [
    "type(P.element_class)"
   ]
  },
  {
   "cell_type": "code",
   "execution_count": null,
   "id": "41625aca",
   "metadata": {},
   "outputs": [
    {
     "data": {
      "text/plain": [
       "True"
      ]
     },
     "execution_count": 1,
     "metadata": {},
     "output_type": "execute_result"
    }
   ],
   "source": [
    "issubclass(P.element_class, MyElement)"
   ]
  },
  {
   "cell_type": "code",
   "execution_count": null,
   "id": "a44d60b2",
   "metadata": {},
   "outputs": [
    {
     "data": {
      "text/plain": [
       "True"
      ]
     },
     "execution_count": 1,
     "metadata": {},
     "output_type": "execute_result"
    }
   ],
   "source": [
    "issubclass(P.element_class,P.category().element_class)"
   ]
  },
  {
   "cell_type": "markdown",
   "id": "2a390568",
   "metadata": {},
   "source": [
    "The *default* `__call__` method of $P$ passes the given arguments to\n",
    "`P.element_class`, adding the argument `parent=P`. This is why we are\n",
    "now able to create elements by calling the parent.\n",
    "\n",
    "In particular, these elements are instances of that new dynamic class:"
   ]
  },
  {
   "cell_type": "code",
   "execution_count": null,
   "id": "0df104a9",
   "metadata": {},
   "outputs": [
    {
     "data": {
      "text/plain": [
       "<class '__main__.MyFrac_with_category.element_class'>"
      ]
     },
     "execution_count": 1,
     "metadata": {},
     "output_type": "execute_result"
    }
   ],
   "source": [
    "type(P(2,3))"
   ]
  },
  {
   "cell_type": "markdown",
   "id": "48ad3031",
   "metadata": {},
   "source": [
    "Note\n",
    "\n",
    "*All* elements of $P$ should use the element class. In order to make\n",
    "sure that this also holds for the result of arithmetic operations, we\n",
    "created them as instances of `self.__class__` in the arithmetic methods\n",
    "of `MyElement`.\n",
    "\n",
    "`P.zero()` defaults to returning `P(0)` and thus returns an instance of\n",
    "`P.element_class`. Since `P.sum([...])` starts the summation with\n",
    "`P.zero()` and the class of the sum only depends on the first summand,\n",
    "by our implementation, we have:"
   ]
  },
  {
   "cell_type": "code",
   "execution_count": null,
   "id": "44eb6da9",
   "metadata": {},
   "outputs": [
    {
     "data": {
      "text/plain": [
       "<class '__main__.MyElement'>"
      ]
     },
     "execution_count": 1,
     "metadata": {},
     "output_type": "execute_result"
    }
   ],
   "source": [
    "type(a)"
   ]
  },
  {
   "cell_type": "code",
   "execution_count": null,
   "id": "1effc42c",
   "metadata": {},
   "outputs": [
    {
     "data": {
      "text/plain": [
       "False"
      ]
     },
     "execution_count": 1,
     "metadata": {},
     "output_type": "execute_result"
    }
   ],
   "source": [
    "isinstance(a,P.element_class)"
   ]
  },
  {
   "cell_type": "code",
   "execution_count": null,
   "id": "771989c2",
   "metadata": {},
   "outputs": [
    {
     "data": {
      "text/plain": [
       "<class '__main__.MyFrac_with_category.element_class'>"
      ]
     },
     "execution_count": 1,
     "metadata": {},
     "output_type": "execute_result"
    }
   ],
   "source": [
    "type(P.sum([a,b,c]))"
   ]
  },
  {
   "cell_type": "markdown",
   "id": "09ecfe2b",
   "metadata": {},
   "source": [
    "The method `factor` provided by `P.category().element_class` (see above)\n",
    "simply works:"
   ]
  },
  {
   "cell_type": "code",
   "execution_count": null,
   "id": "2fbda568",
   "metadata": {},
   "outputs": [
    {
     "data": {
      "text/plain": [
       "(9):(4)\n",
       "2^-2 * 3^2\n",
       "2^-1 * 3"
      ]
     },
     "execution_count": 1,
     "metadata": {},
     "output_type": "execute_result"
    }
   ],
   "source": [
    "a; a.factor(); P(6,4).factor()"
   ]
  },
  {
   "cell_type": "markdown",
   "id": "6a175865",
   "metadata": {},
   "source": [
    "But that's surprising: The element $a$ is just an instance of\n",
    "`MyElement`, but not of `P.element_class`, and its class does not know\n",
    "about the factor method. In fact, this is due to a `__getattr__` method\n",
    "defined for `sage.structure.element.Element`. :"
   ]
  },
  {
   "cell_type": "code",
   "execution_count": null,
   "id": "e36f1bfb",
   "metadata": {},
   "outputs": [
    {
     "data": {
      "text/plain": [
       "False"
      ]
     },
     "execution_count": 1,
     "metadata": {},
     "output_type": "execute_result"
    }
   ],
   "source": [
    "hasattr(type(a), 'factor')"
   ]
  },
  {
   "cell_type": "code",
   "execution_count": null,
   "id": "ee27a23e",
   "metadata": {},
   "outputs": [
    {
     "data": {
      "text/plain": [
       "True"
      ]
     },
     "execution_count": 1,
     "metadata": {},
     "output_type": "execute_result"
    }
   ],
   "source": [
    "hasattr(P.element_class, 'factor')"
   ]
  },
  {
   "cell_type": "code",
   "execution_count": null,
   "id": "f5c08eb8",
   "metadata": {},
   "outputs": [
    {
     "data": {
      "text/plain": [
       "True"
      ]
     },
     "execution_count": 1,
     "metadata": {},
     "output_type": "execute_result"
    }
   ],
   "source": [
    "hasattr(a, 'factor')"
   ]
  },
  {
   "cell_type": "markdown",
   "id": "158d8c38",
   "metadata": {},
   "source": [
    "#### A first note on performance\n",
    "\n",
    "The category framework is sometimes blamed for speed regressions, as in\n",
    "`9138` and `11900`. But if the category framework is *used properly*,\n",
    "then it is fast. For illustration, we determine the time needed to\n",
    "access an attribute inherited from the element class. First, we consider\n",
    "an element that uses the class that we implemented above, but does not\n",
    "use the category framework properly:"
   ]
  },
  {
   "cell_type": "code",
   "execution_count": null,
   "id": "d1a194f2",
   "metadata": {},
   "outputs": [
    {
     "data": {
      "text/plain": [
       "<class '__main__.MyElement'>"
      ]
     },
     "execution_count": 1,
     "metadata": {},
     "output_type": "execute_result"
    }
   ],
   "source": [
    "type(a)"
   ]
  },
  {
   "cell_type": "code",
   "execution_count": null,
   "id": "717be8ea",
   "metadata": {},
   "outputs": [
    {
     "data": {
      "text/plain": [
       "1000 loops, best of 3: 2 us per loop"
      ]
     },
     "execution_count": 1,
     "metadata": {},
     "output_type": "execute_result"
    }
   ],
   "source": [
    "timeit('a.factor',number=1000)     # random"
   ]
  },
  {
   "cell_type": "markdown",
   "id": "eda8dd72",
   "metadata": {},
   "source": [
    "Now, we consider an element that is equal to $a$, but uses the category\n",
    "framework properly:"
   ]
  },
  {
   "cell_type": "code",
   "execution_count": null,
   "id": "ba78e521",
   "metadata": {},
   "outputs": [
    {
     "data": {
      "text/plain": [
       "True"
      ]
     },
     "execution_count": 1,
     "metadata": {},
     "output_type": "execute_result"
    }
   ],
   "source": [
    "a2 = P(9,4)\n",
    "a2 == a"
   ]
  },
  {
   "cell_type": "code",
   "execution_count": null,
   "id": "4e0be09e",
   "metadata": {},
   "outputs": [
    {
     "data": {
      "text/plain": [
       "<class '__main__.MyFrac_with_category.element_class'>"
      ]
     },
     "execution_count": 1,
     "metadata": {},
     "output_type": "execute_result"
    }
   ],
   "source": [
    "type(a2)"
   ]
  },
  {
   "cell_type": "code",
   "execution_count": null,
   "id": "5cae173a",
   "metadata": {},
   "outputs": [
    {
     "data": {
      "text/plain": [
       "1000 loops, best of 3: 365 ns per loop"
      ]
     },
     "execution_count": 1,
     "metadata": {},
     "output_type": "execute_result"
    }
   ],
   "source": [
    "timeit('a2.factor',number=1000)    # random"
   ]
  },
  {
   "cell_type": "markdown",
   "id": "86374304",
   "metadata": {},
   "source": [
    "So, *don't be afraid of using categories!*\n",
    "\n",
    "### Coercion---the basics\n",
    "\n",
    "#### Theoretical background\n",
    "\n",
    "##### Coercion is not just *type conversion*\n",
    "\n",
    "\"Coercion\" in the C programming language means \"automatic type\n",
    "conversion\". However, in Sage, coercion is involved if one wants to be\n",
    "able to do arithmetic, comparisons, etc. between elements of distinct\n",
    "parents. Hence, **coercion is not about a change of types, but about a\n",
    "change of parents.**\n",
    "\n",
    "As an illustration, we show that elements of the same type may very well\n",
    "belong to rather different parents:"
   ]
  },
  {
   "cell_type": "code",
   "execution_count": null,
   "id": "c962a76e",
   "metadata": {},
   "outputs": [
    {
     "data": {
      "text/plain": [
       "True"
      ]
     },
     "execution_count": 1,
     "metadata": {},
     "output_type": "execute_result"
    }
   ],
   "source": [
    "P1 = QQ['v,w']; P2 = ZZ['w,v']\n",
    "type(P1.gen()) == type(P2.gen())"
   ]
  },
  {
   "cell_type": "code",
   "execution_count": null,
   "id": "2500ee6a",
   "metadata": {},
   "outputs": [
    {
     "data": {
      "text/plain": [
       "False"
      ]
     },
     "execution_count": 1,
     "metadata": {},
     "output_type": "execute_result"
    }
   ],
   "source": [
    "P1 == P2"
   ]
  },
  {
   "cell_type": "markdown",
   "id": "bd6a31ac",
   "metadata": {},
   "source": [
    "$P_2$ naturally is a sub--ring of $P_1$. So, it makes sense to be able\n",
    "to add elements of the two rings---the result should then live in $P_1$,\n",
    "and indeed it does:"
   ]
  },
  {
   "cell_type": "code",
   "execution_count": null,
   "id": "f71bc9a9",
   "metadata": {},
   "outputs": [
    {
     "data": {
      "text/plain": [
       "True"
      ]
     },
     "execution_count": 1,
     "metadata": {},
     "output_type": "execute_result"
    }
   ],
   "source": [
    "(P1.gen()+P2.gen()).parent() is P1"
   ]
  },
  {
   "cell_type": "markdown",
   "id": "6e7b1461",
   "metadata": {},
   "source": [
    "It would be rather inconvenient if one needed to *manually* convert an\n",
    "element of $P_2$ into $P_1$ before adding. The coercion system does that\n",
    "conversion automatically.\n",
    "\n",
    "##### Not every conversion is a coercion\n",
    "\n",
    "A coercion happens implicitly, without being explicitly requested by the\n",
    "user. Hence, coercion must be based on mathematical rigour. In our\n",
    "example, any element of $P_2$ can be naturally interpreted as an element\n",
    "of $P_1$. We thus have:"
   ]
  },
  {
   "cell_type": "code",
   "execution_count": null,
   "id": "18c9167a",
   "metadata": {},
   "outputs": [
    {
     "data": {
      "text/plain": [
       "True"
      ]
     },
     "execution_count": 1,
     "metadata": {},
     "output_type": "execute_result"
    }
   ],
   "source": [
    "P1.has_coerce_map_from(P2)"
   ]
  },
  {
   "cell_type": "code",
   "execution_count": null,
   "id": "525dd639",
   "metadata": {},
   "outputs": [
    {
     "data": {
      "text/plain": [
       "Coercion map:\n",
       "  From: Multivariate Polynomial Ring in w, v over Integer Ring\n",
       "  To:   Multivariate Polynomial Ring in v, w over Rational Field"
      ]
     },
     "execution_count": 1,
     "metadata": {},
     "output_type": "execute_result"
    }
   ],
   "source": [
    "P1.coerce_map_from(P2)"
   ]
  },
  {
   "cell_type": "markdown",
   "id": "69421069",
   "metadata": {},
   "source": [
    "While there is a conversion from $P_1$ to $P_2$ (namely restricted to\n",
    "polynomials with integral coefficients), this conversion is not a\n",
    "coercion:"
   ]
  },
  {
   "cell_type": "code",
   "execution_count": null,
   "id": "3b0e0202",
   "metadata": {},
   "outputs": [
    {
     "data": {
      "text/plain": [
       "Conversion map:\n",
       "  From: Multivariate Polynomial Ring in v, w over Rational Field\n",
       "  To:   Multivariate Polynomial Ring in w, v over Integer Ring"
      ]
     },
     "execution_count": 1,
     "metadata": {},
     "output_type": "execute_result"
    }
   ],
   "source": [
    "P2.convert_map_from(P1)"
   ]
  },
  {
   "cell_type": "code",
   "execution_count": null,
   "id": "bc27d108",
   "metadata": {},
   "outputs": [
    {
     "data": {
      "text/plain": [
       "False"
      ]
     },
     "execution_count": 1,
     "metadata": {},
     "output_type": "execute_result"
    }
   ],
   "source": [
    "P2.has_coerce_map_from(P1)"
   ]
  },
  {
   "cell_type": "code",
   "execution_count": null,
   "id": "8a0ae2be",
   "metadata": {},
   "outputs": [
    {
     "data": {
      "text/plain": [
       "True"
      ]
     },
     "execution_count": 1,
     "metadata": {},
     "output_type": "execute_result"
    }
   ],
   "source": [
    "P2.coerce_map_from(P1) is None"
   ]
  },
  {
   "cell_type": "markdown",
   "id": "14275016",
   "metadata": {},
   "source": [
    "###### The four axioms requested for coercions\n",
    "\n",
    "1.  A coercion is a morphism in an appropriate category."
   ]
  },
  {
   "cell_type": "markdown",
   "id": "2826415c",
   "metadata": {},
   "source": [
    "\n",
    "    This first axiom has two implications:\n",
    "\n",
    "    1.  A coercion is defined on all elements of a parent.\n",
    "\n",
    "        A polynomial of degree zero over the integers can be interpreted\n",
    "        as an integer---but the attempt to convert a polynomial of\n",
    "        non-zero degree would result in an error:\n",
    "```{.python .input}\n",
    "        ZZ(P2.one())\n",
    "```\n",
    "```{.json .output}\n",
    "        [{\"data\": {\"text/plain\": \"1\"}, \"execution_count\": 1, \"metadata\": {}, \"output_type\": \"execute_result\"}]\n",
    "```\n",
    "```{.python .input}\n",
    "        ZZ(P2.gen(1))\n",
    "```\n",
    "```{.json .output}\n",
    "        [{\"data\": {\"text/plain\": \"Traceback (most recent call last):\\n...\\nTypeError: not a constant polynomial\"}, \"execution_count\": 1, \"metadata\": {}, \"output_type\": \"execute_result\"}]\n",
    "```\n",
    "\n",
    "        Hence, we only have a *partial* map. This is fine for a\n",
    "        *conversion*, but a partial map does not qualify as a\n",
    "        *coercion*.\n",
    "\n",
    "    2.  Coercions are structure preserving.\n",
    "\n",
    "        Any real number can be converted to an integer, namely by\n",
    "        rounding. However, such a conversion is not useful in arithmetic\n",
    "        operations, since the underlying algebraic structure is not\n",
    "        preserved:\n",
    "```{.python .input}\n",
    "        int(1.6)+int(2.7) == int(1.6+2.7)\n",
    "```\n",
    "```{.json .output}\n",
    "        [{\"data\": {\"text/plain\": \"False\"}, \"execution_count\": 1, \"metadata\": {}, \"output_type\": \"execute_result\"}]\n",
    "```\n",
    "\n",
    "        The structure that is to be preserved depends on the category of\n",
    "        the involved parents. For example, the coercion from the\n",
    "        integers into the rational field is a homomorphism of euclidean\n",
    "        domains:\n",
    "```{.python .input}\n",
    "        QQ.coerce_map_from(ZZ).category_for()\n",
    "```\n",
    "```{.json .output}\n",
    "        [{\"data\": {\"text/plain\": \"Join of Category of euclidean domains and Category of infinite sets\\nand Category of metric spaces\"}, \"execution_count\": 1, \"metadata\": {}, \"output_type\": \"execute_result\"}]\n",
    "```\n"
   ]
  },
  {
   "cell_type": "markdown",
   "id": "74b38813",
   "metadata": {},
   "source": [
    "2.  There is at most one coercion from one parent to another"
   ]
  },
  {
   "cell_type": "markdown",
   "id": "334a6dd7",
   "metadata": {},
   "source": [
    "\n",
    "    In addition, if there is a *coercion* from $P_2$ to $P_1$, then a\n",
    "    *conversion* from $P_2$ to $P_1$ is defined for all elements of\n",
    "    $P_2$ and coincides with the coercion. Nonetheless, user-exposed\n",
    "    maps are copies of the internally used maps whence the lack of\n",
    "    identity between different instantiations:\n",
    "```{.python .input}\n",
    "    P1.coerce_map_from(P2) is P1.convert_map_from(P2)\n",
    "```\n",
    "```{.json .output}\n",
    "    [{\"data\": {\"text/plain\": \"False\"}, \"execution_count\": 1, \"metadata\": {}, \"output_type\": \"execute_result\"}]\n",
    "```\n",
    "\n",
    "    For internally used maps, the maps are identical:\n",
    "```{.python .input}\n",
    "    P1._internal_coerce_map_from(P2) is P1._internal_convert_map_from(P2)\n",
    "```\n",
    "```{.json .output}\n",
    "    [{\"data\": {\"text/plain\": \"True\"}, \"execution_count\": 1, \"metadata\": {}, \"output_type\": \"execute_result\"}]\n",
    "```\n"
   ]
  },
  {
   "cell_type": "markdown",
   "id": "0e537989",
   "metadata": {},
   "source": [
    "3.  Coercions can be composed"
   ]
  },
  {
   "cell_type": "markdown",
   "id": "478c9354",
   "metadata": {},
   "source": [
    "\n",
    "    If there is a coercion $\\varphi: P_1 \\to P_2$ and another coercion\n",
    "    $\\psi:\n",
    "    P_2 \\to P_3$, then the composition of $\\varphi$ followed by $\\psi$\n",
    "    must yield the unique coercion from $P_1$ to $P_3$.\n"
   ]
  },
  {
   "cell_type": "markdown",
   "id": "72e94da3",
   "metadata": {},
   "source": [
    "4.  The identity is a coercion"
   ]
  },
  {
   "cell_type": "markdown",
   "id": "e8640720",
   "metadata": {},
   "source": [
    "\n",
    "    Together with the two preceding axioms, it follows: If there are\n",
    "    coercions from $P_1$ to $P_2$ and from $P_2$ to $P_1$, then they are\n",
    "    mutually inverse.\n"
   ]
  },
  {
   "cell_type": "markdown",
   "id": "c4fc3eed",
   "metadata": {},
   "source": [
    "#### Implementing a conversion\n",
    "\n",
    "We have seen above that some conversions into our fraction fields became\n",
    "available after providing the attribute `Element`. However, we cannot\n",
    "convert elements of a fraction field into elements of another fraction\n",
    "field, yet:"
   ]
  },
  {
   "cell_type": "code",
   "execution_count": null,
   "id": "7e4617bd",
   "metadata": {},
   "outputs": [
    {
     "data": {
      "text/plain": [
       "Traceback (most recent call last):\n",
       "...\n",
       "ValueError: Numerator and denominator must be elements of Integer Ring"
      ]
     },
     "execution_count": 1,
     "metadata": {},
     "output_type": "execute_result"
    }
   ],
   "source": [
    "P(2/3)"
   ]
  },
  {
   "cell_type": "markdown",
   "id": "fdd801f7",
   "metadata": {},
   "source": [
    "For implementing a conversion, **the default \\_\\_call\\_\\_ method should\n",
    "(almost) never be overridden.** Instead, **we implement the method\n",
    "\\_element\\_constructor\\_**, that should return an instance of the\n",
    "parent's element class. Some old parent classes violate that\n",
    "rule---please help to refactor them! :"
   ]
  },
  {
   "cell_type": "code",
   "execution_count": null,
   "id": "4b2e7c2b",
   "metadata": {},
   "outputs": [],
   "source": [
    "class MyFrac(MyFrac):\n",
    "    def _element_constructor_(self, *args, **kwds):\n",
    "        if len(args)!=1:\n",
    "            return self.element_class(self, *args, **kwds)\n",
    "        x = args[0]\n",
    "        try:\n",
    "            P = x.parent()\n",
    "        except AttributeError:\n",
    "            return self.element_class(self, x, **kwds)\n",
    "        if P in QuotientFields() and P != self.base():\n",
    "            return self.element_class(self, x.numerator(), x.denominator(), **kwds)\n",
    "        return self.element_class(self, x, **kwds)"
   ]
  },
  {
   "cell_type": "markdown",
   "id": "02aeb54a",
   "metadata": {},
   "source": [
    "In addition to the conversion from the base ring and from pairs of base\n",
    "ring elements, we now also have a conversion from the rationals to our\n",
    "fraction field of $\\ZZ$ :"
   ]
  },
  {
   "cell_type": "code",
   "execution_count": null,
   "id": "f819e800",
   "metadata": {},
   "outputs": [
    {
     "data": {
      "text/plain": [
       "(2):(1)\n",
       "(2):(3)\n",
       "(3):(4)"
      ]
     },
     "execution_count": 1,
     "metadata": {},
     "output_type": "execute_result"
    }
   ],
   "source": [
    "P = MyFrac(ZZ)\n",
    "P(2); P(2,3); P(3/4)"
   ]
  },
  {
   "cell_type": "markdown",
   "id": "600285eb",
   "metadata": {},
   "source": [
    "Recall that above, the test $1 \\in P$ failed with an error. We try again\n",
    "and find that the error has disappeared. This is because we are now able\n",
    "to convert the integer $1$ into $P$. But the containment test still\n",
    "yields a wrong answer:"
   ]
  },
  {
   "cell_type": "code",
   "execution_count": null,
   "id": "0cacb9c0",
   "metadata": {},
   "outputs": [
    {
     "data": {
      "text/plain": [
       "False"
      ]
     },
     "execution_count": 1,
     "metadata": {},
     "output_type": "execute_result"
    }
   ],
   "source": [
    "1 in P"
   ]
  },
  {
   "cell_type": "markdown",
   "id": "d35d12b9",
   "metadata": {},
   "source": [
    "The technical reason: We have a conversion $P(1)$ of $1$ into $P$, but\n",
    "this is not known as a coercion---yet! :"
   ]
  },
  {
   "cell_type": "code",
   "execution_count": null,
   "id": "82c37d0f",
   "metadata": {},
   "outputs": [
    {
     "data": {
      "text/plain": [
       "(False, False)"
      ]
     },
     "execution_count": 1,
     "metadata": {},
     "output_type": "execute_result"
    }
   ],
   "source": [
    "P.has_coerce_map_from(ZZ), P.has_coerce_map_from(QQ)"
   ]
  },
  {
   "cell_type": "markdown",
   "id": "01914c15",
   "metadata": {},
   "source": [
    "#### Establishing a coercion\n",
    "\n",
    "There are two main ways to make Sage use a particular conversion as a\n",
    "coercion:\n",
    "\n",
    "-   One can use `sage.structure.parent.Parent.register_coercion`,\n",
    "    normally during initialisation of the parent (see documentation of\n",
    "    the method).\n",
    "-   A more flexible way is to provide a method `_coerce_map_from_` for\n",
    "    the parent.\n",
    "\n",
    "Let $P$ and $R$ be parents. If `P._coerce_map_from_(R)` returns `False`\n",
    "or `None`, then there is no coercion from $R$ to $P$. If it returns a\n",
    "map with domain $R$ and codomain $P$, then this map is used for\n",
    "coercion. If it returns `True`, then the conversion from $R$ to $P$ is\n",
    "used as coercion.\n",
    "\n",
    "Note that in the following implementation, we need a special case for\n",
    "the rational field, since `QQ.base()` is not the ring of integers. :"
   ]
  },
  {
   "cell_type": "code",
   "execution_count": null,
   "id": "63676f11",
   "metadata": {},
   "outputs": [],
   "source": [
    "class MyFrac(MyFrac):\n",
    "    def _coerce_map_from_(self, S):\n",
    "        if self.base().has_coerce_map_from(S):\n",
    "            return True\n",
    "        if S in QuotientFields():\n",
    "            if self.base().has_coerce_map_from(S.base()):\n",
    "                return True\n",
    "            if hasattr(S,'ring_of_integers') and self.base().has_coerce_map_from(S.ring_of_integers()):\n",
    "                return True"
   ]
  },
  {
   "cell_type": "markdown",
   "id": "1d80f2a8",
   "metadata": {},
   "source": [
    "By the method above, a parent coercing into the base ring will also\n",
    "coerce into the fraction field, and a fraction field coerces into\n",
    "another fraction field if there is a coercion of the corresponding base\n",
    "rings. Now, we have:"
   ]
  },
  {
   "cell_type": "code",
   "execution_count": null,
   "id": "a8f903b4",
   "metadata": {},
   "outputs": [
    {
     "data": {
      "text/plain": [
       "(True, True, True)"
      ]
     },
     "execution_count": 1,
     "metadata": {},
     "output_type": "execute_result"
    }
   ],
   "source": [
    "P = MyFrac(QQ['x'])\n",
    "P.has_coerce_map_from(ZZ['x']), P.has_coerce_map_from(Frac(ZZ['x'])), P.has_coerce_map_from(QQ)"
   ]
  },
  {
   "cell_type": "markdown",
   "id": "b8688473",
   "metadata": {},
   "source": [
    "We can now use coercion from $\\ZZ[x]$ and from $\\QQ$ into $P$ for\n",
    "arithmetic operations between the two rings:"
   ]
  },
  {
   "cell_type": "code",
   "execution_count": null,
   "id": "f9977134",
   "metadata": {},
   "outputs": [
    {
     "data": {
      "text/plain": [
       "((4*x + 11):(4), True)"
      ]
     },
     "execution_count": 1,
     "metadata": {},
     "output_type": "execute_result"
    }
   ],
   "source": [
    "3/4+P(2)+ZZ['x'].gen(), (P(2)+ZZ['x'].gen()).parent() is P"
   ]
  },
  {
   "cell_type": "markdown",
   "id": "abcc12ee",
   "metadata": {},
   "source": [
    "##### Equality and element containment\n",
    "\n",
    "Recall that above, the test $1 \\in P$ gave a wrong answer. Let us repeat\n",
    "the test now:"
   ]
  },
  {
   "cell_type": "code",
   "execution_count": null,
   "id": "ebb032b2",
   "metadata": {},
   "outputs": [
    {
     "data": {
      "text/plain": [
       "True"
      ]
     },
     "execution_count": 1,
     "metadata": {},
     "output_type": "execute_result"
    }
   ],
   "source": [
    "1 in P"
   ]
  },
  {
   "cell_type": "markdown",
   "id": "0ecf8774",
   "metadata": {},
   "source": [
    "Why is that?\n",
    "\n",
    "The default element containment test $x \\in P$ is based on the interplay\n",
    "of three building blocks: conversion, coercion, and equality test.\n",
    "\n",
    "1.  Clearly, if the conversion $P(x)$ raises an error, then $x$ cannot\n",
    "    be seen as an element of $P$. On the other hand, a conversion $P(x)$\n",
    "    can generally do very nasty things. So, the fact that $P(x)$ works\n",
    "    without error is necessary, but not sufficient for $x \\in P$.\n",
    "2.  If $P$ is the parent of $x$, then the conversion $P(x)$ will not\n",
    "    change $x$ (at least, that's the default). Hence, we will have\n",
    "    $x=P(x)$.\n",
    "3.  Sage uses coercion not only for arithmetic operations, but also for\n",
    "    comparison: *If* there is a coercion from the parent of $x$ to $P$,\n",
    "    then the equality test `x==P(x)` reduces to `P(x)==P(x)`. Otherwise,\n",
    "    `x==P(x)` will evaluate as false.\n",
    "\n",
    "That leads to the following default implementation of element\n",
    "containment testing:\n",
    "\n",
    "Note\n",
    "\n",
    "$x \\in P$ holds if and only if the test `x==P(x)` does not raise an\n",
    "error and evaluates as true.\n",
    "\n",
    "If the user is not happy with that behaviour, the \"magical\" Python\n",
    "method `__contains__` can be overridden.\n",
    "\n",
    "### Coercion---the advanced parts\n",
    "\n",
    "So far, we are able to add integers and rational numbers to elements of\n",
    "our new implementation of the fraction field of $\\ZZ$."
   ]
  },
  {
   "cell_type": "code",
   "execution_count": null,
   "id": "07f9c9e8",
   "metadata": {},
   "outputs": [],
   "source": [
    "P = MyFrac(ZZ)"
   ]
  },
  {
   "cell_type": "code",
   "execution_count": null,
   "id": "19518276",
   "metadata": {},
   "outputs": [
    {
     "data": {
      "text/plain": [
       "(13):(6)"
      ]
     },
     "execution_count": 1,
     "metadata": {},
     "output_type": "execute_result"
    }
   ],
   "source": [
    "1/2+P(2,3)+1"
   ]
  },
  {
   "cell_type": "markdown",
   "id": "5ebbeb35",
   "metadata": {},
   "source": [
    "Surprisingly, we can even add a polynomial over the integers to an\n",
    "element of $P$, even though the *result lives in a new parent*, namely\n",
    "in a polynomial ring over $P$ :"
   ]
  },
  {
   "cell_type": "code",
   "execution_count": null,
   "id": "67bbfeb9",
   "metadata": {},
   "outputs": [
    {
     "data": {
      "text/plain": [
       "((1):(1)*x + (1):(2), True)"
      ]
     },
     "execution_count": 1,
     "metadata": {},
     "output_type": "execute_result"
    }
   ],
   "source": [
    "P(1/2) + ZZ['x'].gen(), (P(1/2) + ZZ['x'].gen()).parent() is P['x']"
   ]
  },
  {
   "cell_type": "markdown",
   "id": "5cf2df45",
   "metadata": {},
   "source": [
    "In the next, seemingly more easy example, there \"obviously\" is a\n",
    "coercion from the fraction field of $\\ZZ$ to the fraction field of\n",
    "$\\ZZ[x]$. However, Sage does not know enough about our new\n",
    "implementation of fraction fields. Hence, it does not recognise the\n",
    "coercion:"
   ]
  },
  {
   "cell_type": "code",
   "execution_count": null,
   "id": "27436a25",
   "metadata": {},
   "outputs": [
    {
     "data": {
      "text/plain": [
       "False"
      ]
     },
     "execution_count": 1,
     "metadata": {},
     "output_type": "execute_result"
    }
   ],
   "source": [
    "Frac(ZZ['x']).has_coerce_map_from(P)"
   ]
  },
  {
   "cell_type": "markdown",
   "id": "6d2e5c37",
   "metadata": {},
   "source": [
    "Two obvious questions arise:\n",
    "\n",
    "1.  How / why has the new ring been constructed in the example above?\n",
    "2.  How can we establish a coercion from $P$ to $\\mathrm{Frac}(\\ZZ[x])$?\n",
    "\n",
    "The key to answering both question is the construction of parents from\n",
    "simpler pieces, that we are studying now. Note that we will answer the\n",
    "second question *not* by providing a coercion from $P$ to\n",
    "$\\mathrm{Frac}(\\ZZ[x])$, but by teaching Sage to automatically construct\n",
    "$\\mathrm{MyFrac}(\\ZZ[x])$ and coerce both $P$ and\n",
    "$\\mathrm{Frac}(\\ZZ[x])$ into it.\n",
    "\n",
    "If we are lucky, a parent can tell how it has been constructed:"
   ]
  },
  {
   "cell_type": "code",
   "execution_count": null,
   "id": "e8473687",
   "metadata": {},
   "outputs": [
    {
     "data": {
      "text/plain": [
       "(Poly[x], Rational Field)"
      ]
     },
     "execution_count": 1,
     "metadata": {},
     "output_type": "execute_result"
    }
   ],
   "source": [
    "Poly,R = QQ['x'].construction()\n",
    "Poly,R"
   ]
  },
  {
   "cell_type": "code",
   "execution_count": null,
   "id": "4be49243",
   "metadata": {},
   "outputs": [
    {
     "data": {
      "text/plain": [
       "(FractionField, Integer Ring)"
      ]
     },
     "execution_count": 1,
     "metadata": {},
     "output_type": "execute_result"
    }
   ],
   "source": [
    "Fract,R = QQ.construction()\n",
    "Fract,R"
   ]
  },
  {
   "cell_type": "markdown",
   "id": "e119ba62",
   "metadata": {},
   "source": [
    "In both cases, the first value returned by\n",
    "`~sage.structure.parent.Parent.construction` is a mathematical\n",
    "construction, called *construction functor*---see\n",
    "`~sage.categories.pushout.ConstructionFunctor`. The second return value\n",
    "is a simpler parent to which the construction functor is applied.\n",
    "\n",
    "Being functors, the same construction can be applied to different\n",
    "objects of a category:"
   ]
  },
  {
   "cell_type": "code",
   "execution_count": null,
   "id": "f3a59bf7",
   "metadata": {},
   "outputs": [
    {
     "data": {
      "text/plain": [
       "True"
      ]
     },
     "execution_count": 1,
     "metadata": {},
     "output_type": "execute_result"
    }
   ],
   "source": [
    "Poly(QQ) is QQ['x']"
   ]
  },
  {
   "cell_type": "code",
   "execution_count": null,
   "id": "6b15ef33",
   "metadata": {},
   "outputs": [
    {
     "data": {
      "text/plain": [
       "True"
      ]
     },
     "execution_count": 1,
     "metadata": {},
     "output_type": "execute_result"
    }
   ],
   "source": [
    "Poly(ZZ) is ZZ['x']"
   ]
  },
  {
   "cell_type": "code",
   "execution_count": null,
   "id": "8be8de49",
   "metadata": {},
   "outputs": [
    {
     "data": {
      "text/plain": [
       "True"
      ]
     },
     "execution_count": 1,
     "metadata": {},
     "output_type": "execute_result"
    }
   ],
   "source": [
    "Poly(P) is P['x']"
   ]
  },
  {
   "cell_type": "code",
   "execution_count": null,
   "id": "e40c4878",
   "metadata": {},
   "outputs": [
    {
     "data": {
      "text/plain": [
       "Fraction Field of Univariate Polynomial Ring in x over Rational Field"
      ]
     },
     "execution_count": 1,
     "metadata": {},
     "output_type": "execute_result"
    }
   ],
   "source": [
    "Fract(QQ['x'])"
   ]
  },
  {
   "cell_type": "markdown",
   "id": "8f6c8a31",
   "metadata": {},
   "source": [
    "Let us see on which categories these construction functors are defined:"
   ]
  },
  {
   "cell_type": "code",
   "execution_count": null,
   "id": "41a24a41",
   "metadata": {},
   "outputs": [
    {
     "data": {
      "text/plain": [
       "Category of rings"
      ]
     },
     "execution_count": 1,
     "metadata": {},
     "output_type": "execute_result"
    }
   ],
   "source": [
    "Poly.domain()"
   ]
  },
  {
   "cell_type": "code",
   "execution_count": null,
   "id": "2cd39081",
   "metadata": {},
   "outputs": [
    {
     "data": {
      "text/plain": [
       "Category of rings"
      ]
     },
     "execution_count": 1,
     "metadata": {},
     "output_type": "execute_result"
    }
   ],
   "source": [
    "Poly.codomain()"
   ]
  },
  {
   "cell_type": "code",
   "execution_count": null,
   "id": "c733b3f7",
   "metadata": {},
   "outputs": [
    {
     "data": {
      "text/plain": [
       "Category of integral domains"
      ]
     },
     "execution_count": 1,
     "metadata": {},
     "output_type": "execute_result"
    }
   ],
   "source": [
    "Fract.domain()"
   ]
  },
  {
   "cell_type": "code",
   "execution_count": null,
   "id": "532f6a74",
   "metadata": {},
   "outputs": [
    {
     "data": {
      "text/plain": [
       "Category of fields"
      ]
     },
     "execution_count": 1,
     "metadata": {},
     "output_type": "execute_result"
    }
   ],
   "source": [
    "Fract.codomain()"
   ]
  },
  {
   "cell_type": "markdown",
   "id": "c189f0ee",
   "metadata": {},
   "source": [
    "In particular, the construction functors can be composed:"
   ]
  },
  {
   "cell_type": "code",
   "execution_count": null,
   "id": "cc510ad9",
   "metadata": {},
   "outputs": [
    {
     "data": {
      "text/plain": [
       "Poly[x](FractionField(...))"
      ]
     },
     "execution_count": 1,
     "metadata": {},
     "output_type": "execute_result"
    }
   ],
   "source": [
    "Poly*Fract"
   ]
  },
  {
   "cell_type": "code",
   "execution_count": null,
   "id": "ce26f517",
   "metadata": {},
   "outputs": [
    {
     "data": {
      "text/plain": [
       "True"
      ]
     },
     "execution_count": 1,
     "metadata": {},
     "output_type": "execute_result"
    }
   ],
   "source": [
    "(Poly*Fract)(ZZ) is QQ['x']"
   ]
  },
  {
   "cell_type": "markdown",
   "id": "7bd9b508",
   "metadata": {},
   "source": [
    "In addition, it is often assumed that we have a coercion from input to\n",
    "output of the construction functor:"
   ]
  },
  {
   "cell_type": "code",
   "execution_count": null,
   "id": "f58039ed",
   "metadata": {},
   "outputs": [
    {
     "data": {
      "text/plain": [
       "Composite map:\n",
       "  From: Integer Ring\n",
       "  To:   Univariate Polynomial Ring in x over Rational Field\n",
       "  Defn:   Natural morphism:\n",
       "          From: Integer Ring\n",
       "          To:   Rational Field\n",
       "        then\n",
       "          Polynomial base injection morphism:\n",
       "          From: Rational Field\n",
       "          To:   Univariate Polynomial Ring in x over Rational Field"
      ]
     },
     "execution_count": 1,
     "metadata": {},
     "output_type": "execute_result"
    }
   ],
   "source": [
    "((Poly*Fract)(ZZ)).coerce_map_from(ZZ)"
   ]
  },
  {
   "cell_type": "markdown",
   "id": "0ef18212",
   "metadata": {},
   "source": [
    "Construction functors do not necessarily commute:"
   ]
  },
  {
   "cell_type": "code",
   "execution_count": null,
   "id": "d7d54368",
   "metadata": {},
   "outputs": [
    {
     "data": {
      "text/plain": [
       "Fraction Field of Univariate Polynomial Ring in x over Integer Ring"
      ]
     },
     "execution_count": 1,
     "metadata": {},
     "output_type": "execute_result"
    }
   ],
   "source": [
    "(Fract*Poly)(ZZ)"
   ]
  },
  {
   "cell_type": "markdown",
   "id": "1bdcb5a7",
   "metadata": {},
   "source": [
    "#### The pushout of construction functors\n",
    "\n",
    "We can now formulate our problem. We have parents $P_1$, $P_2$ and $R$,\n",
    "and construction functors $F_1$, $F_2$, such that $P_1 = F_1(R)$ and\n",
    "$P_2 =\n",
    "F_2(R)$. We want to find a new construction functor $F_3$, such that\n",
    "both $P_1$ and $P_2$ coerce into $P_3 = F_3(R)$.\n",
    "\n",
    "In analogy to a notion of category theory, $P_3$ is called the\n",
    "`~sage.categories.pushout.pushout` of $P_1$ and $P_2$; and similarly\n",
    "$F_3$ is called the pushout of $F_1$ and $F_2$. :"
   ]
  },
  {
   "cell_type": "code",
   "execution_count": null,
   "id": "9c8d75ca",
   "metadata": {},
   "outputs": [
    {
     "data": {
      "text/plain": [
       "Univariate Polynomial Ring in x over Rational Field"
      ]
     },
     "execution_count": 1,
     "metadata": {},
     "output_type": "execute_result"
    }
   ],
   "source": [
    "from sage.categories.pushout import pushout\n",
    "pushout(Fract(ZZ),Poly(ZZ))"
   ]
  },
  {
   "cell_type": "markdown",
   "id": "d1b21bed",
   "metadata": {},
   "source": [
    "$F_1\\circ F_2$ and $F_2\\circ F_1$ are natural candidates for the pushout\n",
    "of $F_1$ and $F_2$. However, the order of the functors must rely on a\n",
    "canonical choice. \"Indecomposable\" construction functors have a *rank*,\n",
    "and this allows to order them canonically:\n",
    "\n",
    "Note\n",
    "\n",
    "If `F1.rank` is smaller than `F2.rank`, then the pushout is $F_2\\circ\n",
    "F_1$ (hence, $F_1$ is applied first).\n",
    "\n",
    "We have :"
   ]
  },
  {
   "cell_type": "code",
   "execution_count": null,
   "id": "e264c4d5",
   "metadata": {},
   "outputs": [
    {
     "data": {
      "text/plain": [
       "(5, 9)"
      ]
     },
     "execution_count": 1,
     "metadata": {},
     "output_type": "execute_result"
    }
   ],
   "source": [
    "Fract.rank, Poly.rank"
   ]
  },
  {
   "cell_type": "markdown",
   "id": "1670edf9",
   "metadata": {},
   "source": [
    "and thus the pushout is :"
   ]
  },
  {
   "cell_type": "code",
   "execution_count": null,
   "id": "019620f7",
   "metadata": {},
   "outputs": [
    {
     "data": {
      "text/plain": [
       "(Poly[x](FractionField(...)), Poly[x](FractionField(...)))"
      ]
     },
     "execution_count": 1,
     "metadata": {},
     "output_type": "execute_result"
    }
   ],
   "source": [
    "Fract.pushout(Poly), Poly.pushout(Fract)"
   ]
  },
  {
   "cell_type": "markdown",
   "id": "30949f12",
   "metadata": {},
   "source": [
    "This is why the example above has worked.\n",
    "\n",
    "However, only \"elementary\" construction functors have a rank:"
   ]
  },
  {
   "cell_type": "code",
   "execution_count": null,
   "id": "0c93c801",
   "metadata": {},
   "outputs": [
    {
     "data": {
      "text/plain": [
       "Traceback (most recent call last):\n",
       "...\n",
       "AttributeError: 'CompositeConstructionFunctor' object has no attribute 'rank'"
      ]
     },
     "execution_count": 1,
     "metadata": {},
     "output_type": "execute_result"
    }
   ],
   "source": [
    "(Fract*Poly).rank"
   ]
  },
  {
   "cell_type": "markdown",
   "id": "3ebada5f",
   "metadata": {},
   "source": [
    "##### Shuffling composite construction functors\n",
    "\n",
    "If composed construction fuctors $...\\circ F_2\\circ F_1$ and $...\\circ\n",
    "G_2\\circ G_1$ are given, then Sage determines their pushout by\n",
    "*shuffling* the constituents:\n",
    "\n",
    "-   If `F1.rank < G1.rank` then we apply $F_1$ first, and continue with\n",
    "    $...\\circ F_3\\circ F_2$ and $...\\circ G_2\\circ G_1$.\n",
    "-   If `F1.rank > G1.rank` then we apply $G_1$ first, and continue with\n",
    "    $...\\circ F_2\\circ F_1$ and $...\\circ G_3\\circ G_2$.\n",
    "\n",
    "If `F1.rank == G1.rank`, then the tie needs to be broken by other\n",
    "techniques (see below).\n",
    "\n",
    "As an illustration, we first get us some functors and then see how\n",
    "chains of functors are shuffled. :"
   ]
  },
  {
   "cell_type": "code",
   "execution_count": null,
   "id": "a9a3ec8e",
   "metadata": {},
   "outputs": [
    {
     "data": {
      "text/plain": [
       "AlgebraicClosureFunctor"
      ]
     },
     "execution_count": 1,
     "metadata": {},
     "output_type": "execute_result"
    }
   ],
   "source": [
    "AlgClos, R = CC.construction(); AlgClos"
   ]
  },
  {
   "cell_type": "code",
   "execution_count": null,
   "id": "b3c1c5e8",
   "metadata": {},
   "outputs": [
    {
     "data": {
      "text/plain": [
       "Completion[+Infinity, prec=53]"
      ]
     },
     "execution_count": 1,
     "metadata": {},
     "output_type": "execute_result"
    }
   ],
   "source": [
    "Compl, R = RR.construction(); Compl"
   ]
  },
  {
   "cell_type": "code",
   "execution_count": null,
   "id": "7b62a5d2",
   "metadata": {},
   "outputs": [
    {
     "data": {
      "text/plain": [
       "MatrixFunctor"
      ]
     },
     "execution_count": 1,
     "metadata": {},
     "output_type": "execute_result"
    }
   ],
   "source": [
    "Matr, R = (MatrixSpace(ZZ,3)).construction(); Matr"
   ]
  },
  {
   "cell_type": "code",
   "execution_count": null,
   "id": "72be46a8",
   "metadata": {},
   "outputs": [
    {
     "data": {
      "text/plain": [
       "(3, 4, 5, 9, 10)"
      ]
     },
     "execution_count": 1,
     "metadata": {},
     "output_type": "execute_result"
    }
   ],
   "source": [
    "AlgClos.rank, Compl.rank, Fract.rank, Poly.rank, Matr.rank"
   ]
  },
  {
   "cell_type": "markdown",
   "id": "3f8b8ff2",
   "metadata": {},
   "source": [
    "When we apply `Fract`, `AlgClos`, `Poly` and `Fract` to the ring of\n",
    "integers, we obtain:"
   ]
  },
  {
   "cell_type": "code",
   "execution_count": null,
   "id": "f4e1c628",
   "metadata": {},
   "outputs": [
    {
     "data": {
      "text/plain": [
       "Fraction Field of Univariate Polynomial Ring in x over Algebraic Field"
      ]
     },
     "execution_count": 1,
     "metadata": {},
     "output_type": "execute_result"
    }
   ],
   "source": [
    "(Fract*Poly*AlgClos*Fract)(ZZ)"
   ]
  },
  {
   "cell_type": "markdown",
   "id": "f6826532",
   "metadata": {},
   "source": [
    "When we apply `Compl`, `Matr` and `Poly` to the ring of integers, we\n",
    "obtain:"
   ]
  },
  {
   "cell_type": "code",
   "execution_count": null,
   "id": "cea85892",
   "metadata": {},
   "outputs": [
    {
     "data": {
      "text/plain": [
       "Univariate Polynomial Ring in x over Full MatrixSpace of 3 by 3 dense matrices over Integer Ring"
      ]
     },
     "execution_count": 1,
     "metadata": {},
     "output_type": "execute_result"
    }
   ],
   "source": [
    "(Poly*Matr*Compl)(ZZ)"
   ]
  },
  {
   "cell_type": "markdown",
   "id": "d19860a7",
   "metadata": {},
   "source": [
    "Applying the shuffling procedure yields :"
   ]
  },
  {
   "cell_type": "code",
   "execution_count": null,
   "id": "829a6ba5",
   "metadata": {},
   "outputs": [
    {
     "data": {
      "text/plain": [
       "Univariate Polynomial Ring in x over Full MatrixSpace of 3 by 3 dense matrices over Fraction Field of Univariate Polynomial Ring in x over Algebraic Field"
      ]
     },
     "execution_count": 1,
     "metadata": {},
     "output_type": "execute_result"
    }
   ],
   "source": [
    "(Poly*Matr*Fract*Poly*AlgClos*Fract*Compl)(ZZ)"
   ]
  },
  {
   "cell_type": "markdown",
   "id": "b0a297c0",
   "metadata": {},
   "source": [
    "and this is indeed equal to the pushout found by Sage:"
   ]
  },
  {
   "cell_type": "code",
   "execution_count": null,
   "id": "353f2292",
   "metadata": {},
   "outputs": [
    {
     "data": {
      "text/plain": [
       "Univariate Polynomial Ring in x over Full MatrixSpace of 3 by 3 dense matrices over Fraction Field of Univariate Polynomial Ring in x over Algebraic Field"
      ]
     },
     "execution_count": 1,
     "metadata": {},
     "output_type": "execute_result"
    }
   ],
   "source": [
    "pushout((Fract*Poly*AlgClos*Fract)(ZZ), (Poly*Matr*Compl)(ZZ))"
   ]
  },
  {
   "cell_type": "markdown",
   "id": "46c36242",
   "metadata": {},
   "source": [
    "##### Breaking the tie\n",
    "\n",
    "If `F1.rank==G1.rank` then Sage's pushout constructions offers two ways\n",
    "to proceed:\n",
    "\n",
    "1.  Construction functors have a method\n",
    "    `~sage.categories.pushout.ConstructionFunctor.merge` that either\n",
    "    returns `None` or returns a construction functor---see below. If\n",
    "    either `F1.merge(G1)` or `G1.merge(F1)` returns a construction\n",
    "    functor $H_1$, then we apply $H_1$ and continue with\n",
    "    $...\\circ F_3\\circ F_2$ and $...\\circ G_3\\circ G_2$.\n",
    "2.  Construction functors have a method\n",
    "    `~sage.categories.pushout.ConstructionFunctor.commutes`. If either\n",
    "    `F1.commutes(G1)` or `G1.commutes(F1)` returns `True`, then we apply\n",
    "    both $F_1$ and $G_1$ in any order, and continue with\n",
    "    $...\\circ F_3\\circ F_2$ and $...\\circ G_3\\circ G_2$.\n",
    "\n",
    "By default, `F1.merge(G1)` returns `F1` if `F1==G1`, and returns `None`\n",
    "otherwise. The `commutes()` method exists, but it seems that so far\n",
    "nobody has implemented two functors of the same rank that commute.\n",
    "\n",
    "#### Establishing a default implementation\n",
    "\n",
    "The typical application of\n",
    "`~sage.categories.pushout.ConstructionFunctor.merge` is to provide a\n",
    "coercion between *different implementations* of the *same algebraic\n",
    "structure*.\n",
    "\n",
    "Note\n",
    "\n",
    "If `F1(P)` and `F2(P)` are different implementations of the same thing,\n",
    "then `F1.merge(F2)(P)` should return the default implementation.\n",
    "\n",
    "We want to boldly turn our toy implementation of fraction fields into\n",
    "the new default implementation. Hence:\n",
    "\n",
    "-   Next, we implement a new version of the \"usual\" fraction field\n",
    "    functor, having the same rank, but returning our new implementation.\n",
    "-   We make our new implementation the default, by virtue of a merge\n",
    "    method.\n",
    "-   Since our fraction fields accept an optional argument `category`, we\n",
    "    pass the optional arguments to the construction functor, which will\n",
    "    in turn use it to create a fraction field.\n",
    "\n",
    "Warning\n",
    "\n",
    "-   Do not override the default `__call__` method of\n",
    "    `~sage.categories.pushout.ConstructionFunctor`---implement\n",
    "    `_apply_functor` instead.\n",
    "-   Declare domain and codomain of the functor during initialisation."
   ]
  },
  {
   "cell_type": "code",
   "execution_count": null,
   "id": "bb1a48de",
   "metadata": {},
   "outputs": [],
   "source": [
    "from sage.categories.pushout import ConstructionFunctor\n",
    "class MyFracFunctor(ConstructionFunctor):\n",
    "    rank = 5\n",
    "    def __init__(self, args=None, kwds=None):\n",
    "        self.args = args or ()\n",
    "        self.kwds = kwds or {}\n",
    "        ConstructionFunctor.__init__(self, IntegralDomains(), Fields())\n",
    "    def _apply_functor(self, R):\n",
    "        return MyFrac(R,*self.args,**self.kwds)\n",
    "    def merge(self, other):\n",
    "        if isinstance(other, (type(self), sage.categories.pushout.FractionField)):\n",
    "            return self"
   ]
  },
  {
   "cell_type": "code",
   "execution_count": null,
   "id": "0ca39e65",
   "metadata": {},
   "outputs": [
    {
     "data": {
      "text/plain": [
       "MyFracFunctor"
      ]
     },
     "execution_count": 1,
     "metadata": {},
     "output_type": "execute_result"
    }
   ],
   "source": [
    "MyFracFunctor()"
   ]
  },
  {
   "cell_type": "markdown",
   "id": "dff7eb60",
   "metadata": {},
   "source": [
    "We verify that our functor can really be used to construct our\n",
    "implementation of fraction fields, and that it can be merged with either\n",
    "itself or the usual fraction field constructor:"
   ]
  },
  {
   "cell_type": "code",
   "execution_count": null,
   "id": "54866656",
   "metadata": {},
   "outputs": [
    {
     "data": {
      "text/plain": [
       "NewFrac(Integer Ring)"
      ]
     },
     "execution_count": 1,
     "metadata": {},
     "output_type": "execute_result"
    }
   ],
   "source": [
    "MyFracFunctor()(ZZ)"
   ]
  },
  {
   "cell_type": "code",
   "execution_count": null,
   "id": "9f4065d6",
   "metadata": {},
   "outputs": [
    {
     "data": {
      "text/plain": [
       "MyFracFunctor"
      ]
     },
     "execution_count": 1,
     "metadata": {},
     "output_type": "execute_result"
    }
   ],
   "source": [
    "MyFracFunctor().merge(MyFracFunctor())"
   ]
  },
  {
   "cell_type": "code",
   "execution_count": null,
   "id": "636422ae",
   "metadata": {},
   "outputs": [
    {
     "data": {
      "text/plain": [
       "MyFracFunctor"
      ]
     },
     "execution_count": 1,
     "metadata": {},
     "output_type": "execute_result"
    }
   ],
   "source": [
    "MyFracFunctor().merge(Fract)"
   ]
  },
  {
   "cell_type": "markdown",
   "id": "0f4d0819",
   "metadata": {},
   "source": [
    "There remains to let our new fraction fields know about the new\n",
    "construction functor. The arguments that were used when creating the\n",
    "fraction field are stored as an attribute---this is a feature provided\n",
    "by `~sage.structure.unique_representation.CachedRepresentation`. We pass\n",
    "all but the first of these arguments to the construction functor, such\n",
    "that the construction functor is able to reconstruct the fraction field."
   ]
  },
  {
   "cell_type": "code",
   "execution_count": null,
   "id": "651a5d1e",
   "metadata": {},
   "outputs": [],
   "source": [
    "class MyFrac(MyFrac):\n",
    "    def construction(self):\n",
    "        return MyFracFunctor(self._reduction[1][1:], self._reduction[2]), self.base()"
   ]
  },
  {
   "cell_type": "code",
   "execution_count": null,
   "id": "7057f3ab",
   "metadata": {},
   "outputs": [
    {
     "data": {
      "text/plain": [
       "(MyFracFunctor, Univariate Polynomial Ring in x over Integer Ring)"
      ]
     },
     "execution_count": 1,
     "metadata": {},
     "output_type": "execute_result"
    }
   ],
   "source": [
    "MyFrac(ZZ['x']).construction()"
   ]
  },
  {
   "cell_type": "markdown",
   "id": "3cf08e10",
   "metadata": {},
   "source": [
    "Due to merging, we have:"
   ]
  },
  {
   "cell_type": "code",
   "execution_count": null,
   "id": "9b3ac0b1",
   "metadata": {},
   "outputs": [
    {
     "data": {
      "text/plain": [
       "NewFrac(Univariate Polynomial Ring in x over Rational Field)"
      ]
     },
     "execution_count": 1,
     "metadata": {},
     "output_type": "execute_result"
    }
   ],
   "source": [
    "pushout(MyFrac(ZZ['x']), Frac(QQ['x']))"
   ]
  },
  {
   "cell_type": "markdown",
   "id": "98956379",
   "metadata": {},
   "source": [
    "#### A second note on performance\n",
    "\n",
    "Being able to do arithmetics involving elements of different parents,\n",
    "with the automatic creation of a pushout to contain the result, is\n",
    "certainly convenient---but one should not rely on it, if speed matters.\n",
    "Simply the conversion of elements into different parents takes time.\n",
    "Moreover, by `14058`, the pushout may be subject to Python's cyclic\n",
    "garbage collection. Hence, if one does not keep a strong reference to\n",
    "it, the same parent may be created repeatedly, which is a waste of time.\n",
    "In the following example, we illustrate the slow--down resulting from\n",
    "blindly relying on coercion:"
   ]
  },
  {
   "cell_type": "code",
   "execution_count": null,
   "id": "365758bc",
   "metadata": {},
   "outputs": [
    {
     "data": {
      "text/plain": [
       "10000 loops, best of 3: 172 us per loop"
      ]
     },
     "execution_count": 1,
     "metadata": {},
     "output_type": "execute_result"
    }
   ],
   "source": [
    "ZZxy = ZZ['x','y']\n",
    "a = ZZxy('x')\n",
    "b = 1/2\n",
    "timeit(\"c = a+b\")    # random"
   ]
  },
  {
   "cell_type": "code",
   "execution_count": null,
   "id": "e4268932",
   "metadata": {},
   "outputs": [
    {
     "data": {
      "text/plain": [
       "10000 loops, best of 3: 168 us per loop"
      ]
     },
     "execution_count": 1,
     "metadata": {},
     "output_type": "execute_result"
    }
   ],
   "source": [
    "QQxy = QQ['x','y']\n",
    "timeit(\"c2 = QQxy(a)+QQxy(b)\") # random"
   ]
  },
  {
   "cell_type": "code",
   "execution_count": null,
   "id": "a8220a5a",
   "metadata": {},
   "outputs": [
    {
     "data": {
      "text/plain": [
       "100000 loops, best of 3: 10.5 us per loop"
      ]
     },
     "execution_count": 1,
     "metadata": {},
     "output_type": "execute_result"
    }
   ],
   "source": [
    "a2 = QQxy(a)\n",
    "b2 = QQxy(b)\n",
    "timeit(\"c2 = a2+b2\") # random"
   ]
  },
  {
   "cell_type": "markdown",
   "id": "752e81ca",
   "metadata": {},
   "source": [
    "Hence, if one avoids the explicit or implicit conversion into the\n",
    "pushout, but works in the pushout right away, one can get a more than\n",
    "10--fold speed--up.\n",
    "\n",
    "### The test suites of the category framework\n",
    "\n",
    "The category framework does not only provide functionality but also a\n",
    "test framework. This section logically belongs to the section on\n",
    "categories, but without the bits that we have implemented in the section\n",
    "on coercion, our implementation of fraction fields would not have passed\n",
    "the tests yet.\n",
    "\n",
    "#### \"Abstract\" methods\n",
    "\n",
    "We have already seen above that a category can require/suggest certain\n",
    "parent or element methods, that the user must/should implement. This is\n",
    "in order to smoothly blend with the methods that already exist in Sage.\n",
    "\n",
    "The methods that ought to be provided are called\n",
    "`~sage.misc.abstract_method.abstract_method`. Let us see what methods\n",
    "are needed for quotient fields and their elements:"
   ]
  },
  {
   "cell_type": "code",
   "execution_count": null,
   "id": "842afa36",
   "metadata": {},
   "outputs": [],
   "source": [
    "from sage.misc.abstract_method import abstract_methods_of_class"
   ]
  },
  {
   "cell_type": "code",
   "execution_count": null,
   "id": "90b82df0",
   "metadata": {},
   "outputs": [
    {
     "data": {
      "text/plain": [
       "[]"
      ]
     },
     "execution_count": 1,
     "metadata": {},
     "output_type": "execute_result"
    }
   ],
   "source": [
    "abstract_methods_of_class(QuotientFields().parent_class)['optional']"
   ]
  },
  {
   "cell_type": "code",
   "execution_count": null,
   "id": "f1827658",
   "metadata": {},
   "outputs": [
    {
     "data": {
      "text/plain": [
       "['__contains__']"
      ]
     },
     "execution_count": 1,
     "metadata": {},
     "output_type": "execute_result"
    }
   ],
   "source": [
    "abstract_methods_of_class(QuotientFields().parent_class)['required']"
   ]
  },
  {
   "cell_type": "markdown",
   "id": "3d21ceb7",
   "metadata": {},
   "source": [
    "Hence, the only required method (that is actually required for all\n",
    "parents that belong to the category of sets) is an element containment\n",
    "test. That's fine, because the base class\n",
    "`~sage.structure.parent.Parent` provides a default containment test.\n",
    "\n",
    "The elements have to provide more:"
   ]
  },
  {
   "cell_type": "code",
   "execution_count": null,
   "id": "1411725a",
   "metadata": {},
   "outputs": [
    {
     "data": {
      "text/plain": [
       "['_add_', '_mul_']"
      ]
     },
     "execution_count": 1,
     "metadata": {},
     "output_type": "execute_result"
    }
   ],
   "source": [
    "abstract_methods_of_class(QuotientFields().element_class)['optional']"
   ]
  },
  {
   "cell_type": "code",
   "execution_count": null,
   "id": "2a41906f",
   "metadata": {},
   "outputs": [
    {
     "data": {
      "text/plain": [
       "['__bool__', 'denominator', 'numerator']"
      ]
     },
     "execution_count": 1,
     "metadata": {},
     "output_type": "execute_result"
    }
   ],
   "source": [
    "abstract_methods_of_class(QuotientFields().element_class)['required']"
   ]
  },
  {
   "cell_type": "markdown",
   "id": "6864a87e",
   "metadata": {},
   "source": [
    "Hence, the elements must provide `denominator()` and `numerator()`\n",
    "methods, and must be able to tell whether they are zero or not. The base\n",
    "class `~sage.structure.element.Element` provides a default `__bool__()`\n",
    "method. In addition, the elements may provide Sage's single underscore\n",
    "arithmetic methods (actually any ring element *should* provide them).\n",
    "\n",
    "#### The `_test_...` methods\n",
    "\n",
    "If a parent or element method's name start with \"\\_[test]()\", it gives\n",
    "rise to a test in the automatic test suite. For example, it is tested\n",
    "\n",
    "-   whether a parent $P$ actually is an instance of the parent class of\n",
    "    the category of $P$,\n",
    "-   whether the user has implemented the required abstract methods,\n",
    "-   whether some defining structural properties (e.g., commutativity)\n",
    "    hold.\n",
    "\n",
    "For example, if one forgets to implement required methods, one obtains\n",
    "the following error:"
   ]
  },
  {
   "cell_type": "code",
   "execution_count": null,
   "id": "221f27e7",
   "metadata": {},
   "outputs": [
    {
     "data": {
      "text/plain": [
       "Traceback (most recent call last):\n",
       "...\n",
       "AssertionError: Not implemented method: denominator"
      ]
     },
     "execution_count": 1,
     "metadata": {},
     "output_type": "execute_result"
    }
   ],
   "source": [
    "class Foo(Parent):\n",
    " Element = sage.structure.element.Element\n",
    " def __init__(self):\n",
    "     Parent.__init__(self, category=QuotientFields())\n",
    "Bar = Foo()\n",
    "bar = Bar.element_class(Bar)\n",
    "bar._test_not_implemented_methods()"
   ]
  },
  {
   "cell_type": "markdown",
   "id": "8a2f9885",
   "metadata": {},
   "source": [
    "Here are the tests that form the test suite of quotient fields:"
   ]
  },
  {
   "cell_type": "code",
   "execution_count": null,
   "id": "41303f1b",
   "metadata": {},
   "outputs": [
    {
     "data": {
      "text/plain": [
       "['_test_additive_associativity',\n",
       " '_test_an_element',\n",
       " '_test_associativity',\n",
       " '_test_cardinality',\n",
       " '_test_characteristic',\n",
       " '_test_characteristic_fields',\n",
       " '_test_construction',\n",
       " '_test_distributivity',\n",
       " '_test_divides',\n",
       " '_test_elements',\n",
       " '_test_elements_eq_reflexive',\n",
       " '_test_elements_eq_symmetric',\n",
       " '_test_elements_eq_transitive',\n",
       " '_test_elements_neq',\n",
       " '_test_euclidean_degree',\n",
       " '_test_fraction_field',\n",
       " '_test_gcd_vs_xgcd',\n",
       " '_test_one',\n",
       " '_test_prod',\n",
       " '_test_quo_rem',\n",
       " '_test_some_elements',\n",
       " '_test_zero',\n",
       " '_test_zero_divisors']"
      ]
     },
     "execution_count": 1,
     "metadata": {},
     "output_type": "execute_result"
    }
   ],
   "source": [
    "[t for t in dir(QuotientFields().parent_class) if t.startswith('_test_')]"
   ]
  },
  {
   "cell_type": "markdown",
   "id": "5db05afb",
   "metadata": {},
   "source": [
    "We have implemented all abstract methods (or inherit them from base\n",
    "classes), we use the category framework, and we have implemented\n",
    "coercions. So, we are confident that the test suite runs without an\n",
    "error. In fact, it does!\n",
    "\n",
    "Note\n",
    "\n",
    "The following trick with the `__main__` module is only needed in\n",
    "doctests, not in an interactive session or when defining the classes\n",
    "externally."
   ]
  },
  {
   "cell_type": "code",
   "execution_count": null,
   "id": "ab8d6a71",
   "metadata": {},
   "outputs": [],
   "source": [
    "__main__.MyFrac = MyFrac\n",
    "__main__.MyElement = MyElement\n",
    "P = MyFrac(ZZ['x'])\n",
    "TestSuite(P).run()"
   ]
  },
  {
   "cell_type": "markdown",
   "id": "4b3f3ecb",
   "metadata": {},
   "source": [
    "Let us see what tests are actually performed:"
   ]
  },
  {
   "cell_type": "code",
   "execution_count": null,
   "id": "f95d457d",
   "metadata": {},
   "outputs": [
    {
     "data": {
      "text/plain": [
       "running ._test_additive_associativity() . . . pass\n",
       "running ._test_an_element() . . . pass\n",
       "running ._test_associativity() . . . pass\n",
       "running ._test_cardinality() . . . pass\n",
       "running ._test_category() . . . pass\n",
       "running ._test_characteristic() . . . pass\n",
       "running ._test_characteristic_fields() . . . pass\n",
       "running ._test_construction() . . . pass\n",
       "running ._test_distributivity() . . . pass\n",
       "running ._test_divides() . . . pass\n",
       "running ._test_elements() . . .\n",
       "  Running the test suite of self.an_element()\n",
       "  running ._test_category() . . . pass\n",
       "  running ._test_eq() . . . pass\n",
       "  running ._test_new() . . . pass\n",
       "  running ._test_nonzero_equal() . . . pass\n",
       "  running ._test_not_implemented_methods() . . . pass\n",
       "  running ._test_pickling() . . . pass\n",
       "  pass\n",
       "running ._test_elements_eq_reflexive() . . . pass\n",
       "running ._test_elements_eq_symmetric() . . . pass\n",
       "running ._test_elements_eq_transitive() . . . pass\n",
       "running ._test_elements_neq() . . . pass\n",
       "running ._test_eq() . . . pass\n",
       "running ._test_euclidean_degree() . . . pass\n",
       "running ._test_fraction_field() . . . pass\n",
       "running ._test_gcd_vs_xgcd() . . . pass\n",
       "running ._test_new() . . . pass\n",
       "running ._test_not_implemented_methods() . . . pass\n",
       "running ._test_one() . . . pass\n",
       "running ._test_pickling() . . . pass\n",
       "running ._test_prod() . . . pass\n",
       "running ._test_quo_rem() . . . pass\n",
       "running ._test_some_elements() . . . pass\n",
       "running ._test_zero() . . . pass\n",
       "running ._test_zero_divisors() . . . pass"
      ]
     },
     "execution_count": 1,
     "metadata": {},
     "output_type": "execute_result"
    }
   ],
   "source": [
    "TestSuite(P).run(verbose=True)"
   ]
  },
  {
   "cell_type": "markdown",
   "id": "fe775d9f",
   "metadata": {},
   "source": [
    "#### Implementing a new category with additional tests\n",
    "\n",
    "As one can see, tests are also performed on elements. There are methods\n",
    "that return one element or a list of some elements, relying on \"typical\"\n",
    "elements that can be found in most algebraic structures. :"
   ]
  },
  {
   "cell_type": "code",
   "execution_count": null,
   "id": "95bc68d1",
   "metadata": {},
   "outputs": [
    {
     "data": {
      "text/plain": [
       "(2):(1)\n",
       "[(2):(1)]"
      ]
     },
     "execution_count": 1,
     "metadata": {},
     "output_type": "execute_result"
    }
   ],
   "source": [
    "P.an_element(); P.some_elements()"
   ]
  },
  {
   "cell_type": "markdown",
   "id": "ab563285",
   "metadata": {},
   "source": [
    "Unfortunately, the list of elements that is returned by the default\n",
    "method is of length one, and that single element could also be a bit\n",
    "more interesting. The method an\\_element relies on a method\n",
    "`_an_element_()`, so, we implement that. We also override the\n",
    "some\\_elements method. :"
   ]
  },
  {
   "cell_type": "code",
   "execution_count": null,
   "id": "46a7b3d9",
   "metadata": {},
   "outputs": [],
   "source": [
    "class MyFrac(MyFrac):\n",
    "    def _an_element_(self):\n",
    "        a = self.base().an_element()\n",
    "        b = self.base_ring().an_element()\n",
    "        if (a+b)!=0:\n",
    "            return self(a)**2/(self(a+b)**3)\n",
    "        if b != 0:\n",
    "            return self(a)/self(b)**2\n",
    "        return self(a)**2*self(b)**3\n",
    "    def some_elements(self):\n",
    "        return [self.an_element(),self(self.base().an_element()),self(self.base_ring().an_element())]"
   ]
  },
  {
   "cell_type": "code",
   "execution_count": null,
   "id": "4969c0ad",
   "metadata": {},
   "outputs": [
    {
     "data": {
      "text/plain": [
       "(x^2):(x^3 + 3*x^2 + 3*x + 1)\n",
       "[(x^2):(x^3 + 3*x^2 + 3*x + 1), (x):(1), (1):(1)]"
      ]
     },
     "execution_count": 1,
     "metadata": {},
     "output_type": "execute_result"
    }
   ],
   "source": [
    "P = MyFrac(ZZ['x'])\n",
    "P.an_element(); P.some_elements()"
   ]
  },
  {
   "cell_type": "markdown",
   "id": "9f050d5e",
   "metadata": {},
   "source": [
    "Now, as we have more interesting elements, we may also add a test for\n",
    "the \"factor\" method. Recall that the method was inherited from the\n",
    "category, but it appears that it is not tested.\n",
    "\n",
    "Normally, a test for a method defined by a category should be provided\n",
    "by the same category. Hence, since `factor` is defined in the category\n",
    "of quotient fields, a test should be added there. But we won't change\n",
    "source code here and will instead create a sub--category.\n",
    "\n",
    "Apparently, If $e$ is an element of a quotient field, the product of the\n",
    "factors returned by `e.factor()` should be equal to $e$. For forming the\n",
    "product, we use the `prod` method, that, no surprise, is inherited from\n",
    "another category:"
   ]
  },
  {
   "cell_type": "code",
   "execution_count": null,
   "id": "621ac2b2",
   "metadata": {},
   "outputs": [
    {
     "data": {
      "text/plain": [
       "'sage.categories.monoids'"
      ]
     },
     "execution_count": 1,
     "metadata": {},
     "output_type": "execute_result"
    }
   ],
   "source": [
    "P.prod.__module__"
   ]
  },
  {
   "cell_type": "markdown",
   "id": "89f1befe",
   "metadata": {},
   "source": [
    "When we want to create a sub--category, we need to provide a method\n",
    "`~sage.categories.category.Category.super_categories`, that returns a\n",
    "list of all immediate super categories (here: category of quotient\n",
    "fields).\n",
    "\n",
    "Warning\n",
    "\n",
    "A sub--category $S$ of a category $C$ is *not* implemented as a\n",
    "sub--class of `C.__class__`! $S$ becomes a sub--category of $C$ only if\n",
    "`S.super_categories()` returns (a sub--category of) $C$!\n",
    "\n",
    "The parent and element methods of a category are provided as methods of\n",
    "classes that are the attributes `ParentMethods` and `Element Methods` of\n",
    "the category, as follows:"
   ]
  },
  {
   "cell_type": "code",
   "execution_count": null,
   "id": "761bbe28",
   "metadata": {},
   "outputs": [],
   "source": [
    "from sage.categories.category import Category\n",
    "class QuotientFieldsWithTest(Category): # do *not* inherit from QuotientFields, but ...\n",
    "    def super_categories(self):\n",
    "        return [QuotientFields()]       # ... declare QuotientFields as a super category!\n",
    "    class ParentMethods:\n",
    "        pass\n",
    "    class ElementMethods:\n",
    "        def _test_factorisation(self, **options):\n",
    "            P = self.parent()\n",
    "            assert self == P.prod([P(b)**e for b,e in self.factor()])"
   ]
  },
  {
   "cell_type": "markdown",
   "id": "2de5aab3",
   "metadata": {},
   "source": [
    "We provide an instance of our quotient field implementation with that\n",
    "new category. Note that categories have a default `_repr_` method, that\n",
    "guesses a good string representation from the name of the class:\n",
    "`QuotientFieldsWithTest` becomes \"quotient fields with test\".\n",
    "\n",
    "Note\n",
    "\n",
    "The following trick with the `__main__` module is only needed in\n",
    "doctests, not in an interactive session or when defining the classes\n",
    "externally."
   ]
  },
  {
   "cell_type": "code",
   "execution_count": null,
   "id": "43f7ca99",
   "metadata": {},
   "outputs": [
    {
     "data": {
      "text/plain": [
       "Category of quotient fields with test"
      ]
     },
     "execution_count": 1,
     "metadata": {},
     "output_type": "execute_result"
    }
   ],
   "source": [
    "__main__.MyFrac = MyFrac\n",
    "__main__.MyElement = MyElement\n",
    "__main__.QuotientFieldsWithTest = QuotientFieldsWithTest\n",
    "P = MyFrac(ZZ['x'], category=QuotientFieldsWithTest())\n",
    "P.category()"
   ]
  },
  {
   "cell_type": "markdown",
   "id": "b01d29ab",
   "metadata": {},
   "source": [
    "The new test is inherited from the category. Since `an_element()` is\n",
    "returning a complicated element, `_test_factorisation` is a serious\n",
    "test:"
   ]
  },
  {
   "cell_type": "code",
   "execution_count": null,
   "id": "9045174d",
   "metadata": {},
   "outputs": [
    {
     "data": {
      "text/plain": [
       "<bound method QuotientFieldsWithTest.ElementMethods._test_factorisation of (x^2):(x^3 + 3*x^2 + 3*x + 1)>"
      ]
     },
     "execution_count": 1,
     "metadata": {},
     "output_type": "execute_result"
    }
   ],
   "source": [
    "P.an_element()._test_factorisation"
   ]
  },
  {
   "cell_type": "code",
   "execution_count": null,
   "id": "7935580d",
   "metadata": {},
   "outputs": [
    {
     "data": {
      "text/plain": [
       "(x + 1)^-3 * x^2"
      ]
     },
     "execution_count": 1,
     "metadata": {},
     "output_type": "execute_result"
    }
   ],
   "source": [
    "P.an_element().factor()"
   ]
  },
  {
   "cell_type": "markdown",
   "id": "4f148d66",
   "metadata": {},
   "source": [
    "Last, we observe that the new test has automatically become part of the\n",
    "test suite. We remark that the existing tests became more serious as\n",
    "well, since we made `sage.structure.parent.Parent.an_element` return\n",
    "something more interesting. :"
   ]
  },
  {
   "cell_type": "code",
   "execution_count": null,
   "id": "982a4c2f",
   "metadata": {},
   "outputs": [
    {
     "data": {
      "text/plain": [
       "running ._test_additive_associativity() . . . pass\n",
       "running ._test_an_element() . . . pass\n",
       "running ._test_associativity() . . . pass\n",
       "running ._test_cardinality() . . . pass\n",
       "running ._test_category() . . . pass\n",
       "running ._test_characteristic() . . . pass\n",
       "running ._test_characteristic_fields() . . . pass\n",
       "running ._test_construction() . . . pass\n",
       "running ._test_distributivity() . . . pass\n",
       "running ._test_divides() . . . pass\n",
       "running ._test_elements() . . .\n",
       "  Running the test suite of self.an_element()\n",
       "  running ._test_category() . . . pass\n",
       "  running ._test_eq() . . . pass\n",
       "  running ._test_factorisation() . . . pass\n",
       "  running ._test_new() . . . pass\n",
       "  running ._test_nonzero_equal() . . . pass\n",
       "  running ._test_not_implemented_methods() . . . pass\n",
       "  running ._test_pickling() . . . pass\n",
       "  pass\n",
       "running ._test_elements_eq_reflexive() . . . pass\n",
       "running ._test_elements_eq_symmetric() . . . pass\n",
       "running ._test_elements_eq_transitive() . . . pass\n",
       "running ._test_elements_neq() . . . pass\n",
       "running ._test_eq() . . . pass\n",
       "running ._test_euclidean_degree() . . . pass\n",
       "running ._test_fraction_field() . . . pass\n",
       "running ._test_gcd_vs_xgcd() . . . pass\n",
       "running ._test_new() . . . pass\n",
       "running ._test_not_implemented_methods() . . . pass\n",
       "running ._test_one() . . . pass\n",
       "running ._test_pickling() . . . pass\n",
       "running ._test_prod() . . . pass\n",
       "running ._test_quo_rem() . . . pass\n",
       "running ._test_some_elements() . . . pass\n",
       "running ._test_zero() . . . pass\n",
       "running ._test_zero_divisors() . . . pass"
      ]
     },
     "execution_count": 1,
     "metadata": {},
     "output_type": "execute_result"
    }
   ],
   "source": [
    "TestSuite(P).run(verbose=True)"
   ]
  },
  {
   "cell_type": "markdown",
   "id": "dd619d1a",
   "metadata": {},
   "source": [
    "### Appendix: The complete code"
   ]
  },
  {
   "cell_type": "code",
   "execution_count": null,
   "id": "5fc2b052",
   "metadata": {},
   "outputs": [],
   "source": [
    "# Importing base classes, ...\n",
    "import sage\n",
    "from sage.rings.ring import Field\n",
    "from sage.structure.element import FieldElement\n",
    "from sage.categories.category import Category\n",
    "# ... the UniqueRepresentation tool,\n",
    "from sage.structure.unique_representation import UniqueRepresentation\n",
    "# ... some categories, and ...\n",
    "from sage.categories.fields import Fields\n",
    "from sage.categories.quotient_fields import QuotientFields\n",
    "from sage.categories.integral_domains import IntegralDomains\n",
    "# construction functors\n",
    "from sage.categories.pushout import ConstructionFunctor\n",
    "\n",
    "# Fraction field elements\n",
    "class MyElement(FieldElement):\n",
    "    def __init__(self, parent, n, d=None):\n",
    "        if parent is None:\n",
    "            raise ValueError(\"The parent must be provided\")\n",
    "        B = parent.base()\n",
    "        if d is None:\n",
    "            # The default denominator is one\n",
    "            d = B.one()\n",
    "        # verify that both numerator and denominator belong to the base\n",
    "        if n not in B or d not in B:\n",
    "            raise ValueError(\"Numerator and denominator must be elements of %s\"%B)\n",
    "        # Numerator and denominator should not just be \"in\" B,\n",
    "        # but should be defined as elements of B\n",
    "        d = B(d)\n",
    "        n = B(n)\n",
    "        # the denominator must not be zero\n",
    "        if d==0:\n",
    "            raise ZeroDivisionError(\"The denominator must not be zero\")\n",
    "        # normalize the denominator: WLOG, it shall be non-negative.\n",
    "        if d<0:\n",
    "            self.n = -n\n",
    "            self.d = -d\n",
    "        else:\n",
    "            self.n = n\n",
    "            self.d = d\n",
    "        FieldElement.__init__(self,parent)\n",
    "\n",
    "    # Methods required by the category of fraction fields:\n",
    "    def numerator(self):\n",
    "        return self.n\n",
    "    def denominator(self):\n",
    "        return self.d\n",
    "\n",
    "    # String representation (single underscore!)\n",
    "    def _repr_(self):\n",
    "        return \"(%s):(%s)\"%(self.n,self.d)\n",
    "\n",
    "    # Comparison: We can assume that both arguments are coerced\n",
    "    # into the same parent, which is a fraction field. Hence, we\n",
    "    # are allowed to use the denominator() and numerator() methods\n",
    "    # on the second argument.\n",
    "    def _richcmp_(self, other, op):\n",
    "        from sage.structure.richcmp import richcmp\n",
    "        return richcmp(self.n*other.denominator(), other.numerator()*self.d, op)\n",
    "\n",
    "    # Arithmetic methods, single underscore. We can assume that both\n",
    "    # arguments are coerced into the same parent.\n",
    "    # We return instances of self.__class__, because self.__class__ will\n",
    "    # eventually be a sub-class of MyElement.\n",
    "    def _add_(self, other):\n",
    "        C = self.__class__\n",
    "        D = self.d*other.denominator()\n",
    "        return C(self.parent(), self.n*other.denominator()+self.d*other.numerator(),D)\n",
    "    def _sub_(self, other):\n",
    "        C = self.__class__\n",
    "        D = self.d*other.denominator()\n",
    "        return C(self.parent(), self.n*other.denominator()-self.d*other.numerator(),D)\n",
    "    def _mul_(self, other):\n",
    "        C = self.__class__\n",
    "        return C(self.parent(), self.n*other.numerator(), self.d*other.denominator())\n",
    "    def _div_(self, other):\n",
    "        C = self.__class__\n",
    "        return C(self.parent(), self.n*other.denominator(), self.d*other.numerator())\n",
    "\n",
    "# Inheritance from UniqueRepresentation implements the unique parent\n",
    "# behaviour. Moreover, it implements pickling (provided that Python\n",
    "# succeeds to look up the class definition).\n",
    "class MyFrac(UniqueRepresentation, Field):\n",
    "    # Implement the category framework for elements, which also\n",
    "    # makes some basic conversions work.\n",
    "    Element = MyElement\n",
    "\n",
    "    # Allow to pass to a different category, by an optional argument\n",
    "    def __init__(self, base, category=None):\n",
    "        # Fraction fields only exist for integral domains\n",
    "        if base not in IntegralDomains():\n",
    "            raise ValueError(\"%s is no integral domain\" % base)\n",
    "        # Implement the category framework for the parent\n",
    "        Field.__init__(self, base, category=category or QuotientFields())\n",
    "\n",
    "    # Single-underscore method for string representation\n",
    "    def _repr_(self):\n",
    "        return \"NewFrac(%s)\"%repr(self.base())\n",
    "\n",
    "    # Two methods that are implicitly used in some tests\n",
    "    def base_ring(self):\n",
    "        return self.base().base_ring()\n",
    "    def characteristic(self):\n",
    "        return self.base().characteristic()\n",
    "\n",
    "    # Implement conversions. Do not override __call__!\n",
    "    def _element_constructor_(self, *args, **kwds):\n",
    "        if len(args)!=1:\n",
    "           return self.element_class(self, *args, **kwds)\n",
    "        x = args[0]\n",
    "        try:\n",
    "            P = x.parent()\n",
    "        except AttributeError:\n",
    "            return self.element_class(self, x, **kwds)\n",
    "        if P in QuotientFields() and P != self.base():\n",
    "            return self.element_class(self, x.numerator(), x.denominator(), **kwds)\n",
    "        return self.element_class(self, x, **kwds)\n",
    "\n",
    "    # Implement coercion from the base and from fraction fields\n",
    "    # over a ring that coerces into the base\n",
    "    def _coerce_map_from_(self, S):\n",
    "        if self.base().has_coerce_map_from(S):\n",
    "            return True\n",
    "        if S in QuotientFields():\n",
    "            if self.base().has_coerce_map_from(S.base()):\n",
    "                return True\n",
    "            if hasattr(S,'ring_of_integers') and self.base().has_coerce_map_from(S.ring_of_integers()):\n",
    "                return True\n",
    "    # Tell how this parent was constructed, in order to enable pushout constructions\n",
    "    def construction(self):\n",
    "        return MyFracFunctor(), self.base()\n",
    "\n",
    "    # return some elements of this parent\n",
    "    def _an_element_(self):\n",
    "        a = self.base().an_element()\n",
    "        b = self.base_ring().an_element()\n",
    "        if (a+b)!=0:\n",
    "            return self(a)**2/(self(a+b)**3)\n",
    "        if b != 0:\n",
    "            return self(a)/self(b)**2\n",
    "        return self(a)**2*self(b)**3\n",
    "    def some_elements(self):\n",
    "        return [self.an_element(),self(self.base().an_element()),self(self.base_ring().an_element())]\n",
    "\n",
    "\n",
    "# A construction functor for our implementation of fraction fields\n",
    "class MyFracFunctor(ConstructionFunctor):\n",
    "    # The rank is the same for Sage's original fraction field functor\n",
    "    rank = 5\n",
    "    def __init__(self):\n",
    "        # The fraction field construction is a functor\n",
    "        # from the category of integral domains into the category of\n",
    "        # fields\n",
    "        # NOTE: We could actually narrow the codomain and use the\n",
    "        # category QuotientFields()\n",
    "        ConstructionFunctor.__init__(self, IntegralDomains(), Fields())\n",
    "    # Applying the functor to an object. Do not override __call__!\n",
    "    def _apply_functor(self, R):\n",
    "        return MyFrac(R)\n",
    "    # Note: To apply the functor to morphisms, implement\n",
    "    #       _apply_functor_to_morphism\n",
    "\n",
    "    # Make sure that arithmetic involving elements of Frac(R) and\n",
    "    # MyFrac(R) works and yields elements of MyFrac(R)\n",
    "    def merge(self, other):\n",
    "        if isinstance(other, (type(self), sage.categories.pushout.FractionField)):\n",
    "            return self\n",
    "\n",
    "# A quotient field category with additional tests.\n",
    "# Notes:\n",
    "# - Category inherits from UniqueRepresentation. Hence, there\n",
    "#   is only one category for given arguments.\n",
    "# - Since QuotientFieldsWithTest is a singleton (there is only\n",
    "#   one instance of this class), we could inherit from\n",
    "#   sage.categories.category_singleton.Category_singleton\n",
    "#   rather than from sage.categories.category.Category\n",
    "class QuotientFieldsWithTest(Category):\n",
    "    # Our category is a sub-category of the category of quotient fields,\n",
    "    # by means of the following method.\n",
    "    def super_categories(self):\n",
    "        return [QuotientFields()]\n",
    "\n",
    "    # Here, we could implement methods that are available for\n",
    "    # all objects in this category.\n",
    "    class ParentMethods:\n",
    "        pass\n",
    "\n",
    "    # Here, we add a new test that is available for all elements\n",
    "    # of any object in this category.\n",
    "    class ElementMethods:\n",
    "        def _test_factorisation(self, **options):\n",
    "            P = self.parent()\n",
    "            # The methods prod() and factor() are inherited from\n",
    "            # some other categories.\n",
    "            assert self == P.prod([P(b)**e for b,e in self.factor()])"
   ]
  }
 ],
 "metadata": {},
 "nbformat": 4,
 "nbformat_minor": 5
}
