{
 "cells": [
  {
   "cell_type": "markdown",
   "id": "c9b11eda",
   "metadata": {},
   "source": [
    "$$\n",
    "\\def\\CC{\\bf C}\n",
    "\\def\\QQ{\\bf Q}\n",
    "\\def\\RR{\\bf R}\n",
    "\\def\\ZZ{\\bf Z}\n",
    "\\def\\NN{\\bf N}\n",
    "$$\n",
    "# Steenrod Algebra Modules\n",
    "\n",
    "Robert R. Bruner, Michael J. Catanzaro, Sverre Lunoee--Nielsen, and Koen\n",
    "van Woerden\n",
    "\n",
    "Let $p$ be a prime number. The mod $p$ Steenrod algebra $A$ is a\n",
    "connected algebra over $\\GF{p}$, the finite field of $p$ elements. All\n",
    "modules presented here will be defined over $A$ or one of its sub-Hopf\n",
    "algebras. E.g.:"
   ]
  },
  {
   "cell_type": "code",
   "execution_count": null,
   "id": "5e5580f3",
   "metadata": {},
   "outputs": [],
   "source": [
    "A = SteenrodAlgebra(p=2)"
   ]
  },
  {
   "cell_type": "markdown",
   "id": "e5958713",
   "metadata": {},
   "source": [
    "The constructor of the module class takes as arguments an ordered tuple\n",
    "of degrees and the algebra over which the module is defined, together\n",
    "with an optional set of relations:"
   ]
  },
  {
   "cell_type": "code",
   "execution_count": null,
   "id": "bbba25d2",
   "metadata": {},
   "outputs": [
    {
     "data": {
      "text/plain": [
       "Free graded left module on 3 generators over mod 2 Steenrod algebra, milnor basis"
      ]
     },
     "execution_count": 1,
     "metadata": {},
     "output_type": "execute_result"
    }
   ],
   "source": [
    "from sage.modules.fp_graded.steenrod.module import SteenrodFPModule\n",
    "F = SteenrodFPModule(A, [0, 1, 7]); F"
   ]
  },
  {
   "cell_type": "markdown",
   "id": "f2795c96",
   "metadata": {},
   "source": [
    "Denote the module generators of an $A$-module $M$ by\n",
    "$g_{d_1}, \\ldots, g_{d_N}$, where subscripts denote their degrees. A\n",
    "homogeneous relation of degree $n$ has the form\n",
    "\n",
    "$$\\sum_{i=1}^N a_i\\cdot g_{d_i} = 0,$$\n",
    "\n",
    "where the homogeneous coefficients $a_1, \\ldots, a_N$ lie in $A$, such\n",
    "that $\\deg(a_i) + \\deg(g_{d_i}) = n$ for $i = 1, \\ldots, N$. To create a\n",
    "module with relations, the coefficients for each relation is given:"
   ]
  },
  {
   "cell_type": "code",
   "execution_count": null,
   "id": "b84ed81e",
   "metadata": {},
   "outputs": [
    {
     "data": {
      "text/plain": [
       "Finitely presented left module on 3 generators and 2 relations over mod 2 Steenrod algebra, milnor basis"
      ]
     },
     "execution_count": 1,
     "metadata": {},
     "output_type": "execute_result"
    }
   ],
   "source": [
    "r1 = [Sq(8), Sq(7), 0]   # First relation\n",
    "r2 = [Sq(7), 0, 1]       # Second relation\n",
    "M = SteenrodFPModule(A, [0, 1, 7], relations=[r1, r2]); M"
   ]
  },
  {
   "cell_type": "markdown",
   "id": "c9dd3a35",
   "metadata": {},
   "source": [
    "The resulting module will have three generators in the degrees we gave\n",
    "them:"
   ]
  },
  {
   "cell_type": "code",
   "execution_count": null,
   "id": "b392656a",
   "metadata": {},
   "outputs": [
    {
     "data": {
      "text/plain": [
       "(0, 1, 7)"
      ]
     },
     "execution_count": 1,
     "metadata": {},
     "output_type": "execute_result"
    }
   ],
   "source": [
    "M.generator_degrees()"
   ]
  },
  {
   "cell_type": "markdown",
   "id": "461624a3",
   "metadata": {},
   "source": [
    "The connectivity of a module over a connected graded algebra is the\n",
    "minimum degree of all its module generators. Thus, if the module is\n",
    "non-trivial, the connectivity is an integer:"
   ]
  },
  {
   "cell_type": "code",
   "execution_count": null,
   "id": "08529193",
   "metadata": {},
   "outputs": [
    {
     "data": {
      "text/plain": [
       "0"
      ]
     },
     "execution_count": 1,
     "metadata": {},
     "output_type": "execute_result"
    }
   ],
   "source": [
    "M.connectivity()"
   ]
  },
  {
   "cell_type": "markdown",
   "id": "65148969",
   "metadata": {},
   "source": [
    "Each module is defined over a Steenrod algebra or some sub-Hopf algebra\n",
    "of it, given by its base ring:"
   ]
  },
  {
   "cell_type": "code",
   "execution_count": null,
   "id": "c335e7a1",
   "metadata": {},
   "outputs": [
    {
     "data": {
      "text/plain": [
       "mod 2 Steenrod algebra, milnor basis"
      ]
     },
     "execution_count": 1,
     "metadata": {},
     "output_type": "execute_result"
    }
   ],
   "source": [
    "M.base_ring()"
   ]
  },
  {
   "cell_type": "code",
   "execution_count": null,
   "id": "5fb6bfe6",
   "metadata": {},
   "outputs": [
    {
     "data": {
      "text/plain": [
       "sub-Hopf algebra of mod 2 Steenrod algebra, milnor basis, profile function\n",
       "[3, 2, 1]"
      ]
     },
     "execution_count": 1,
     "metadata": {},
     "output_type": "execute_result"
    }
   ],
   "source": [
    "SteenrodFPModule(SteenrodAlgebra(p=2,profile=(3,2,1)), [0]).base_ring()"
   ]
  },
  {
   "cell_type": "markdown",
   "id": "c2445dea",
   "metadata": {},
   "source": [
    "Note\n",
    "\n",
    "Calling `algebra()` will not return the desired algebra. Users should\n",
    "use the `base_ring()` method.\n",
    "\n",
    "## Module elements\n",
    "\n",
    "Module elements are displayed in terms of generators, which by default\n",
    "are called `g[degree]` :"
   ]
  },
  {
   "cell_type": "code",
   "execution_count": null,
   "id": "808eb97b",
   "metadata": {},
   "outputs": [
    {
     "data": {
      "text/plain": [
       "Sq(2,1)*g[0] + Sq(4)*g[1]\n"
      ]
     },
     "execution_count": 1,
     "metadata": {},
     "output_type": "execute_result"
    }
   ],
   "source": [
    "M.an_element(n=5)"
   ]
  },
  {
   "cell_type": "code",
   "execution_count": null,
   "id": "f3997b71",
   "metadata": {},
   "outputs": [
    {
     "data": {
      "text/plain": [
       "Sq(0,0,0,1)*g[0] + Sq(1,2,1)*g[1] + Sq(8)*g[7]"
      ]
     },
     "execution_count": 1,
     "metadata": {},
     "output_type": "execute_result"
    }
   ],
   "source": [
    "e = M.an_element(n=15); e"
   ]
  },
  {
   "cell_type": "code",
   "execution_count": null,
   "id": "2c90dc16",
   "metadata": {},
   "outputs": [
    {
     "data": {
      "text/plain": [
       "[Sq(0,0,0,1), Sq(1,2,1), Sq(8)]"
      ]
     },
     "execution_count": 1,
     "metadata": {},
     "output_type": "execute_result"
    }
   ],
   "source": [
    "e.dense_coefficient_list()"
   ]
  },
  {
   "cell_type": "markdown",
   "id": "11d49162",
   "metadata": {},
   "source": [
    "The generators are themselves elements of the module:"
   ]
  },
  {
   "cell_type": "code",
   "execution_count": null,
   "id": "507a2ba6",
   "metadata": {},
   "outputs": [
    {
     "data": {
      "text/plain": [
       "(g[0], g[1], g[7])"
      ]
     },
     "execution_count": 1,
     "metadata": {},
     "output_type": "execute_result"
    }
   ],
   "source": [
    "gens = M.generators(); gens"
   ]
  },
  {
   "cell_type": "code",
   "execution_count": null,
   "id": "90f2da06",
   "metadata": {},
   "outputs": [
    {
     "data": {
      "text/plain": [
       "True"
      ]
     },
     "execution_count": 1,
     "metadata": {},
     "output_type": "execute_result"
    }
   ],
   "source": [
    "gens[0] in M"
   ]
  },
  {
   "cell_type": "markdown",
   "id": "35d1661c",
   "metadata": {},
   "source": [
    "One can produce an element from a given set of algebra coefficients:"
   ]
  },
  {
   "cell_type": "code",
   "execution_count": null,
   "id": "bdc1a477",
   "metadata": {},
   "outputs": [
    {
     "data": {
      "text/plain": [
       "Sq(15)*g[0] + (Sq(4,1,1)+Sq(7,0,1)+Sq(11,1))*g[1] + Sq(8)*g[7]"
      ]
     },
     "execution_count": 1,
     "metadata": {},
     "output_type": "execute_result"
    }
   ],
   "source": [
    "coeffs = [Sq(15), Sq(10)*Sq(1,1), Sq(8)]\n",
    "x = M(coeffs); x"
   ]
  },
  {
   "cell_type": "markdown",
   "id": "ce7a1e95",
   "metadata": {},
   "source": [
    "The module action produces new elements:"
   ]
  },
  {
   "cell_type": "code",
   "execution_count": null,
   "id": "6cbca1af",
   "metadata": {},
   "outputs": [
    {
     "data": {
      "text/plain": [
       "Sq(14,1)*g[0] + (Sq(7,1)+Sq(10))*g[7]"
      ]
     },
     "execution_count": 1,
     "metadata": {},
     "output_type": "execute_result"
    }
   ],
   "source": [
    "Sq(2) * x"
   ]
  },
  {
   "cell_type": "markdown",
   "id": "06e337d5",
   "metadata": {},
   "source": [
    "Each non-zero homogeneous element has a well-defined degree:"
   ]
  },
  {
   "cell_type": "code",
   "execution_count": null,
   "id": "e4fdf00f",
   "metadata": {},
   "outputs": [
    {
     "data": {
      "text/plain": [
       "15"
      ]
     },
     "execution_count": 1,
     "metadata": {},
     "output_type": "execute_result"
    }
   ],
   "source": [
    "x.degree()"
   ]
  },
  {
   "cell_type": "markdown",
   "id": "ba08f4bb",
   "metadata": {},
   "source": [
    "but the zero element does not:"
   ]
  },
  {
   "cell_type": "code",
   "execution_count": null,
   "id": "f19d8232",
   "metadata": {},
   "outputs": [
    {
     "data": {
      "text/plain": [
       "0"
      ]
     },
     "execution_count": 1,
     "metadata": {},
     "output_type": "execute_result"
    }
   ],
   "source": [
    "zero = M.zero(); zero"
   ]
  },
  {
   "cell_type": "code",
   "execution_count": null,
   "id": "d7e3ed8a",
   "metadata": {},
   "outputs": [
    {
     "data": {
      "text/plain": [
       "Traceback (most recent call last):\n",
       "...\n",
       "ValueError: the zero element does not have a well-defined degree"
      ]
     },
     "execution_count": 1,
     "metadata": {},
     "output_type": "execute_result"
    }
   ],
   "source": [
    "zero.degree()"
   ]
  },
  {
   "cell_type": "markdown",
   "id": "537580ad",
   "metadata": {},
   "source": [
    "At this point it may be useful to point out that elements are not\n",
    "reduced to a minimal representation when they are created. A\n",
    "normalization can be enforced, however:"
   ]
  },
  {
   "cell_type": "code",
   "execution_count": null,
   "id": "ebe2b3ac",
   "metadata": {},
   "outputs": [
    {
     "data": {
      "text/plain": [
       "g[7]"
      ]
     },
     "execution_count": 1,
     "metadata": {},
     "output_type": "execute_result"
    }
   ],
   "source": [
    "g7 = M([0, 0, 1]); g7"
   ]
  },
  {
   "cell_type": "code",
   "execution_count": null,
   "id": "e0cf1de5",
   "metadata": {},
   "outputs": [
    {
     "data": {
      "text/plain": [
       "Sq(7)*g[0]"
      ]
     },
     "execution_count": 1,
     "metadata": {},
     "output_type": "execute_result"
    }
   ],
   "source": [
    "g7.normalize()"
   ]
  },
  {
   "cell_type": "code",
   "execution_count": null,
   "id": "edc7b9c3",
   "metadata": {},
   "outputs": [
    {
     "data": {
      "text/plain": [
       "True\n"
      ]
     },
     "execution_count": 1,
     "metadata": {},
     "output_type": "execute_result"
    }
   ],
   "source": [
    "g7 == g7.normalize()"
   ]
  },
  {
   "cell_type": "code",
   "execution_count": null,
   "id": "095386a0",
   "metadata": {},
   "outputs": [
    {
     "data": {
      "text/plain": [
       "Sq(7)*g[0] + g[7]"
      ]
     },
     "execution_count": 1,
     "metadata": {},
     "output_type": "execute_result"
    }
   ],
   "source": [
    "m = M([Sq(7), 0, 0])\n",
    "s = m + g7; s         # m and g7 are related by m = Sq(7)*g[0] = g[7],"
   ]
  },
  {
   "cell_type": "code",
   "execution_count": null,
   "id": "e3db655b",
   "metadata": {},
   "outputs": [
    {
     "data": {
      "text/plain": [
       "True"
      ]
     },
     "execution_count": 1,
     "metadata": {},
     "output_type": "execute_result"
    }
   ],
   "source": [
    "s == 0                # so their sum should zero."
   ]
  },
  {
   "cell_type": "code",
   "execution_count": null,
   "id": "f0a20a48",
   "metadata": {},
   "outputs": [
    {
     "data": {
      "text/plain": [
       "0"
      ]
     },
     "execution_count": 1,
     "metadata": {},
     "output_type": "execute_result"
    }
   ],
   "source": [
    "s.normalize()         # Its normalized form is more revealing."
   ]
  },
  {
   "cell_type": "markdown",
   "id": "aa0957a6",
   "metadata": {},
   "source": [
    "For every integer $n$, the set of module elements of degree $n$ form a\n",
    "vector space over the ground field $\\GF{p}$. A basis for this vector\n",
    "space can be computed:"
   ]
  },
  {
   "cell_type": "code",
   "execution_count": null,
   "id": "8961838f",
   "metadata": {},
   "outputs": [
    {
     "data": {
      "text/plain": [
       "(Sq(0,0,1)*g[0],\n",
       " Sq(1,2)*g[0],\n",
       " Sq(4,1)*g[0],\n",
       " Sq(7)*g[0],\n",
       " Sq(0,2)*g[1],\n",
       " Sq(3,1)*g[1],\n",
       " Sq(6)*g[1])"
      ]
     },
     "execution_count": 1,
     "metadata": {},
     "output_type": "execute_result"
    }
   ],
   "source": [
    "M.basis_elements(7)"
   ]
  },
  {
   "cell_type": "markdown",
   "id": "7661ec6f",
   "metadata": {},
   "source": [
    "Note that the third generator $g_7$ of degree 7 is apparently missing\n",
    "from the basis above. This is because of the relation\n",
    "$\\operatorname{Sq}^7(g_0) = g_7$.\n",
    "\n",
    "A vector space presentation can be produced:"
   ]
  },
  {
   "cell_type": "code",
   "execution_count": null,
   "id": "97139b7e",
   "metadata": {},
   "outputs": [
    {
     "data": {
      "text/plain": [
       "Vector space quotient V/W of dimension 4 over Finite Field of size 2 where\n",
       "V: Vector space of dimension 4 over Finite Field of size 2\n",
       "W: Vector space of degree 4 and dimension 0 over Finite Field of size 2\n",
       "Basis matrix:\n",
       "[]"
      ]
     },
     "execution_count": 1,
     "metadata": {},
     "output_type": "execute_result"
    }
   ],
   "source": [
    "M.vector_presentation(5)"
   ]
  },
  {
   "cell_type": "markdown",
   "id": "b857bc41",
   "metadata": {},
   "source": [
    "Given any element, its coordinates with respect to this basis can be\n",
    "computed:"
   ]
  },
  {
   "cell_type": "code",
   "execution_count": null,
   "id": "03395ad8",
   "metadata": {},
   "outputs": [
    {
     "data": {
      "text/plain": [
       "Sq(0,0,1)*g[0] + Sq(3,1)*g[1] + g[7]"
      ]
     },
     "execution_count": 1,
     "metadata": {},
     "output_type": "execute_result"
    }
   ],
   "source": [
    "x = M.an_element(7); x"
   ]
  },
  {
   "cell_type": "code",
   "execution_count": null,
   "id": "eeee4367",
   "metadata": {},
   "outputs": [
    {
     "data": {
      "text/plain": [
       "(1, 0, 0, 1, 0, 1, 0)"
      ]
     },
     "execution_count": 1,
     "metadata": {},
     "output_type": "execute_result"
    }
   ],
   "source": [
    "v = x.vector_presentation(); v"
   ]
  },
  {
   "cell_type": "markdown",
   "id": "690255cd",
   "metadata": {},
   "source": [
    "Going the other way, any element can be constructed by specifying its\n",
    "coordinates:"
   ]
  },
  {
   "cell_type": "code",
   "execution_count": null,
   "id": "e6c950a6",
   "metadata": {},
   "outputs": [
    {
     "data": {
      "text/plain": [
       "(Sq(0,0,1)+Sq(7))*g[0] + Sq(3,1)*g[1]"
      ]
     },
     "execution_count": 1,
     "metadata": {},
     "output_type": "execute_result"
    }
   ],
   "source": [
    "x_ = M.element_from_coordinates((1, 0, 0, 1, 0, 1, 0), 7)\n",
    "x_"
   ]
  },
  {
   "cell_type": "code",
   "execution_count": null,
   "id": "ab42b33f",
   "metadata": {},
   "outputs": [
    {
     "data": {
      "text/plain": [
       "True"
      ]
     },
     "execution_count": 1,
     "metadata": {},
     "output_type": "execute_result"
    }
   ],
   "source": [
    "x_ == x"
   ]
  },
  {
   "cell_type": "markdown",
   "id": "c2feeb7f",
   "metadata": {},
   "source": [
    "## Module homomorphisms\n",
    "\n",
    "Homomorphisms of $A$-modules $M\\to N$ are linear maps of their\n",
    "underlying $\\GF{p}$-vector spaces which commute with the $A$-module\n",
    "structure. Homomorphisms are required to be homogeneneous but need not\n",
    "be degree zero.\n",
    "\n",
    "To create a homomorphism, first create the object modeling the set of\n",
    "all such homomorphisms using the function `Hom` :"
   ]
  },
  {
   "cell_type": "code",
   "execution_count": null,
   "id": "c31eb317",
   "metadata": {},
   "outputs": [
    {
     "data": {
      "text/plain": [
       "Set of Morphisms from Finitely presented left module on 1 generator and 2 relations\n",
       "  over mod 2 Steenrod algebra, milnor basis\n",
       " to Finitely presented left module on 1 generator and 2 relations\n",
       "  over mod 2 Steenrod algebra, milnor basis\n",
       " in Category of finitely presented graded modules over mod 2 Steenrod algebra, milnor basis"
      ]
     },
     "execution_count": 1,
     "metadata": {},
     "output_type": "execute_result"
    }
   ],
   "source": [
    "Hko = SteenrodFPModule(A, [0], [[Sq(2)], [Sq(1)]])\n",
    "homspace = Hom(Hko, Hko); homspace"
   ]
  },
  {
   "cell_type": "markdown",
   "id": "c74f9cb6",
   "metadata": {},
   "source": [
    "Just as with module elements, homomorphisms are created using the\n",
    "homspace. The only argument is a list of elements in the codomain,\n",
    "giving the images of the module generators of the domain:"
   ]
  },
  {
   "cell_type": "code",
   "execution_count": null,
   "id": "380df561",
   "metadata": {},
   "outputs": [
    {
     "data": {
      "text/plain": [
       "[Sq(0,0,1)*g[0]]"
      ]
     },
     "execution_count": 1,
     "metadata": {},
     "output_type": "execute_result"
    }
   ],
   "source": [
    "gen = Hko.generator(0)  # the generator of the codomain module\n",
    "values = [Sq(0, 0, 1) * gen]; values"
   ]
  },
  {
   "cell_type": "code",
   "execution_count": null,
   "id": "3c4087a9",
   "metadata": {},
   "outputs": [],
   "source": [
    "f = homspace(values)"
   ]
  },
  {
   "cell_type": "markdown",
   "id": "e579a9e8",
   "metadata": {},
   "source": [
    "The resulting homomorphism is the one sending the $i$-th generator of\n",
    "the domain to the $i$-th codomain value given:"
   ]
  },
  {
   "cell_type": "code",
   "execution_count": null,
   "id": "8567184c",
   "metadata": {},
   "outputs": [
    {
     "data": {
      "text/plain": [
       "Module endomorphism of Finitely presented left module on 1 generator and 2 relations over mod 2 Steenrod algebra, milnor basis\n",
       "  Defn: g[0] |--> Sq(0,0,1)*g[0]"
      ]
     },
     "execution_count": 1,
     "metadata": {},
     "output_type": "execute_result"
    }
   ],
   "source": [
    "f"
   ]
  },
  {
   "cell_type": "markdown",
   "id": "58fa4b36",
   "metadata": {},
   "source": [
    "Homomorphisms can be evaluated on elements of the domain module:"
   ]
  },
  {
   "cell_type": "code",
   "execution_count": null,
   "id": "f1a65171",
   "metadata": {},
   "outputs": [
    {
     "data": {
      "text/plain": [
       "Sq(4,0,1)*g[0]\n"
      ]
     },
     "execution_count": 1,
     "metadata": {},
     "output_type": "execute_result"
    }
   ],
   "source": [
    "v1 = f(Sq(4)*gen); v1"
   ]
  },
  {
   "cell_type": "code",
   "execution_count": null,
   "id": "9cc71f80",
   "metadata": {},
   "outputs": [
    {
     "data": {
      "text/plain": [
       "(Sq(3,1,1)+Sq(6,0,1))*g[0]"
      ]
     },
     "execution_count": 1,
     "metadata": {},
     "output_type": "execute_result"
    }
   ],
   "source": [
    "v2 = f(Sq(2)*Sq(4)*gen); v2"
   ]
  },
  {
   "cell_type": "markdown",
   "id": "2444e6c9",
   "metadata": {},
   "source": [
    "and they respect the module action:"
   ]
  },
  {
   "cell_type": "code",
   "execution_count": null,
   "id": "e635a5ba",
   "metadata": {},
   "outputs": [
    {
     "data": {
      "text/plain": [
       "True\n"
      ]
     },
     "execution_count": 1,
     "metadata": {},
     "output_type": "execute_result"
    }
   ],
   "source": [
    "f(Sq(4)*gen) == Sq(4)*f(gen)"
   ]
  },
  {
   "cell_type": "code",
   "execution_count": null,
   "id": "8a61250d",
   "metadata": {},
   "outputs": [
    {
     "data": {
      "text/plain": [
       "True"
      ]
     },
     "execution_count": 1,
     "metadata": {},
     "output_type": "execute_result"
    }
   ],
   "source": [
    "f(Sq(2)*Sq(4)*gen) == Sq(2)*Sq(4)*f(gen)"
   ]
  },
  {
   "cell_type": "markdown",
   "id": "4b820b1e",
   "metadata": {},
   "source": [
    "Convenience methods exist for creating the trivial morphism:"
   ]
  },
  {
   "cell_type": "code",
   "execution_count": null,
   "id": "31db8416",
   "metadata": {},
   "outputs": [
    {
     "data": {
      "text/plain": [
       "False"
      ]
     },
     "execution_count": 1,
     "metadata": {},
     "output_type": "execute_result"
    }
   ],
   "source": [
    "x = Sq(4)*Sq(7)*gen\n",
    "x == 0"
   ]
  },
  {
   "cell_type": "code",
   "execution_count": null,
   "id": "49445b45",
   "metadata": {},
   "outputs": [
    {
     "data": {
      "text/plain": [
       "Module endomorphism of Finitely presented left module on 1 generator and 2 relations over mod 2 Steenrod algebra, milnor basis\n",
       "  Defn: g[0] |--> 0"
      ]
     },
     "execution_count": 1,
     "metadata": {},
     "output_type": "execute_result"
    }
   ],
   "source": [
    "zero_map = homspace.zero(); zero_map"
   ]
  },
  {
   "cell_type": "code",
   "execution_count": null,
   "id": "a0ef5b0f",
   "metadata": {},
   "outputs": [
    {
     "data": {
      "text/plain": [
       "0"
      ]
     },
     "execution_count": 1,
     "metadata": {},
     "output_type": "execute_result"
    }
   ],
   "source": [
    "zero_map(x)"
   ]
  },
  {
   "cell_type": "code",
   "execution_count": null,
   "id": "5829a7e1",
   "metadata": {},
   "outputs": [
    {
     "data": {
      "text/plain": [
       "True"
      ]
     },
     "execution_count": 1,
     "metadata": {},
     "output_type": "execute_result"
    }
   ],
   "source": [
    "zero_map(x).is_zero()"
   ]
  },
  {
   "cell_type": "markdown",
   "id": "5c34d490",
   "metadata": {},
   "source": [
    "as well as the identity endomorphism:"
   ]
  },
  {
   "cell_type": "code",
   "execution_count": null,
   "id": "c69cd5dc",
   "metadata": {},
   "outputs": [
    {
     "data": {
      "text/plain": [
       "Module endomorphism of Finitely presented left module on 1 generator and 2 relations over mod 2 Steenrod algebra, milnor basis\n",
       "  Defn: g[0] |--> g[0]"
      ]
     },
     "execution_count": 1,
     "metadata": {},
     "output_type": "execute_result"
    }
   ],
   "source": [
    "one = Hom(Hko, Hko).identity(); one"
   ]
  },
  {
   "cell_type": "code",
   "execution_count": null,
   "id": "99f0d854",
   "metadata": {},
   "outputs": [
    {
     "data": {
      "text/plain": [
       "True"
      ]
     },
     "execution_count": 1,
     "metadata": {},
     "output_type": "execute_result"
    }
   ],
   "source": [
    "one.is_endomorphism()"
   ]
  },
  {
   "cell_type": "code",
   "execution_count": null,
   "id": "de292329",
   "metadata": {},
   "outputs": [
    {
     "data": {
      "text/plain": [
       "True"
      ]
     },
     "execution_count": 1,
     "metadata": {},
     "output_type": "execute_result"
    }
   ],
   "source": [
    "one(x) == x"
   ]
  },
  {
   "cell_type": "code",
   "execution_count": null,
   "id": "9c28856d",
   "metadata": {},
   "outputs": [
    {
     "data": {
      "text/plain": [
       "True"
      ]
     },
     "execution_count": 1,
     "metadata": {},
     "output_type": "execute_result"
    }
   ],
   "source": [
    "one.is_identity()"
   ]
  },
  {
   "cell_type": "markdown",
   "id": "42239842",
   "metadata": {},
   "source": [
    "Any non-trivial homomorphism has a well defined degree:"
   ]
  },
  {
   "cell_type": "code",
   "execution_count": null,
   "id": "21c6a3dc",
   "metadata": {},
   "outputs": [
    {
     "data": {
      "text/plain": [
       "7"
      ]
     },
     "execution_count": 1,
     "metadata": {},
     "output_type": "execute_result"
    }
   ],
   "source": [
    "f.degree()"
   ]
  },
  {
   "cell_type": "markdown",
   "id": "3fd12f3e",
   "metadata": {},
   "source": [
    "but just as for module elements, the trivial homomorphism does not:"
   ]
  },
  {
   "cell_type": "code",
   "execution_count": null,
   "id": "d27f2563",
   "metadata": {},
   "outputs": [
    {
     "data": {
      "text/plain": [
       "Traceback (most recent call last):\n",
       "...\n",
       "ValueError: the zero morphism does not have a well-defined degree"
      ]
     },
     "execution_count": 1,
     "metadata": {},
     "output_type": "execute_result"
    }
   ],
   "source": [
    "zero_map = homspace.zero()\n",
    "zero_map.degree()"
   ]
  },
  {
   "cell_type": "markdown",
   "id": "f36bed99",
   "metadata": {},
   "source": [
    "Any two homomorphisms can be added as long as they are of the same\n",
    "degree:"
   ]
  },
  {
   "cell_type": "code",
   "execution_count": null,
   "id": "930d22ef",
   "metadata": {},
   "outputs": [
    {
     "data": {
      "text/plain": [
       "False"
      ]
     },
     "execution_count": 1,
     "metadata": {},
     "output_type": "execute_result"
    }
   ],
   "source": [
    "f1 = homspace([Hko([Sq(0,0,3) + Sq(0,2,0,1)])])\n",
    "f2 = homspace([Hko([Sq(8,2,1)])])\n",
    "(f1 + f2).is_zero()"
   ]
  },
  {
   "cell_type": "code",
   "execution_count": null,
   "id": "a3d4d02e",
   "metadata": {},
   "outputs": [
    {
     "data": {
      "text/plain": [
       "Module endomorphism of Finitely presented left module on 1 generator and 2 relations over mod 2 Steenrod algebra, milnor basis\n",
       "  Defn: g[0] |--> (Sq(0,0,3)+Sq(0,2,0,1)+Sq(8,2,1))*g[0]"
      ]
     },
     "execution_count": 1,
     "metadata": {},
     "output_type": "execute_result"
    }
   ],
   "source": [
    "f1 + f2"
   ]
  },
  {
   "cell_type": "markdown",
   "id": "e9f16771",
   "metadata": {},
   "source": [
    "or when at least one of them is zero:"
   ]
  },
  {
   "cell_type": "code",
   "execution_count": null,
   "id": "209bbd48",
   "metadata": {},
   "outputs": [
    {
     "data": {
      "text/plain": [
       "True"
      ]
     },
     "execution_count": 1,
     "metadata": {},
     "output_type": "execute_result"
    }
   ],
   "source": [
    "f + zero_map == f"
   ]
  },
  {
   "cell_type": "markdown",
   "id": "b5bb5582",
   "metadata": {},
   "source": [
    "but not if they have different degrees:"
   ]
  },
  {
   "cell_type": "code",
   "execution_count": null,
   "id": "8cac2475",
   "metadata": {},
   "outputs": [
    {
     "data": {
      "text/plain": [
       "Traceback (most recent call last):\n",
       "...\n",
       "ValueError: morphisms do not have the same degree"
      ]
     },
     "execution_count": 1,
     "metadata": {},
     "output_type": "execute_result"
    }
   ],
   "source": [
    "F = SteenrodFPModule(A, [0])\n",
    "b4 = Hom(F, F)([Sq(4) * F.generator(0)])\n",
    "b8 = Hom(F, F)([Sq(8) * F.generator(0)])\n",
    "b4 + b8"
   ]
  },
  {
   "cell_type": "markdown",
   "id": "15f94e9a",
   "metadata": {},
   "source": [
    "Finally, additive inverses exist:"
   ]
  },
  {
   "cell_type": "code",
   "execution_count": null,
   "id": "575caeff",
   "metadata": {},
   "outputs": [
    {
     "data": {
      "text/plain": [
       "True"
      ]
     },
     "execution_count": 1,
     "metadata": {},
     "output_type": "execute_result"
    }
   ],
   "source": [
    "(f - f) == 0"
   ]
  },
  {
   "cell_type": "markdown",
   "id": "1da0e840",
   "metadata": {},
   "source": [
    "The restriction of a homomorphism to the vector space of $n$-dimensional\n",
    "module elements is a linear transformation:"
   ]
  },
  {
   "cell_type": "code",
   "execution_count": null,
   "id": "304d8c62",
   "metadata": {},
   "outputs": [
    {
     "data": {
      "text/plain": [
       "Vector space morphism represented by the matrix:\n",
       "[1 0 0 0 0 0]\n",
       "[0 0 0 0 0 0]\n",
       "[1 0 0 0 0 0]\n",
       "Domain: Vector space quotient V/W of dimension 3 over Finite Field of size 2 where\n",
       "V: Vector space of dimension 20 over Finite Field of size 2\n",
       "W: Vector space of degree 20 and dimension 17 over Finite Field of size 2\n",
       "Basis matrix:\n",
       "[1 0 0 0 0 0 0 0 0 0 0 0 1 0 0 0 0 0 0 0]\n",
       "[0 1 0 0 0 0 0 0 0 0 0 0 0 0 0 0 0 0 0 0]\n",
       "[0 0 1 0 0 0 0 0 0 0 0 0 1 0 0 0 0 0 0 0]\n",
       "[0 0 0 1 0 0 0 0 0 0 0 0 1 0 0 1 0 0 0 1]\n",
       "[0 0 0 0 1 0 0 0 0 0 0 0 0 0 0 1 0 0 0 1]\n",
       "[0 0 0 0 0 1 0 0 0 0 0 0 1 0 0 1 0 0 0 1]\n",
       "[0 0 0 0 0 0 1 0 0 0 0 0 0 0 0 1 0 0 0 1]\n",
       "[0 0 0 0 0 0 0 1 0 0 0 0 1 0 0 1 0 0 0 1]\n",
       "[0 0 0 0 0 0 0 0 1 0 0 0 0 0 0 0 0 0 0 0]\n",
       "[0 0 0 0 0 0 0 0 0 1 0 0 0 0 0 0 0 0 0 1]\n",
       "[0 0 0 0 0 0 0 0 0 0 1 0 0 0 0 0 0 0 0 0]\n",
       "[0 0 0 0 0 0 0 0 0 0 0 1 0 0 0 0 0 0 0 1]\n",
       "[0 0 0 0 0 0 0 0 0 0 0 0 0 1 0 1 0 0 0 1]\n",
       "[0 0 0 0 0 0 0 0 0 0 0 0 0 0 1 1 0 0 0 1]\n",
       "[0 0 0 0 0 0 0 0 0 0 0 0 0 0 0 0 1 0 0 1]\n",
       "[0 0 0 0 0 0 0 0 0 0 0 0 0 0 0 0 0 1 0 0]\n",
       "[0 0 0 0 0 0 0 0 0 0 0 0 0 0 0 0 0 0 1 1]\n",
       "Codomain: Vector space quotient V/W of dimension 6 over Finite Field of size 2 where\n",
       "V: Vector space of dimension 35 over Finite Field of size 2\n",
       "W: Vector space of degree 35 and dimension 29 over Finite Field of size 2\n",
       "Basis matrix:\n",
       "29 x 35 dense matrix over Finite Field of size 2"
      ]
     },
     "execution_count": 1,
     "metadata": {},
     "output_type": "execute_result"
    }
   ],
   "source": [
    "f_21 = f.vector_presentation(21); f_21"
   ]
  },
  {
   "cell_type": "markdown",
   "id": "820a55d4",
   "metadata": {},
   "source": [
    "This is compatible with the vector presentations of its domain and\n",
    "codomain modules:"
   ]
  },
  {
   "cell_type": "code",
   "execution_count": null,
   "id": "60b3b5f2",
   "metadata": {},
   "outputs": [
    {
     "data": {
      "text/plain": [
       "True"
      ]
     },
     "execution_count": 1,
     "metadata": {},
     "output_type": "execute_result"
    }
   ],
   "source": [
    "f.domain() is Hko"
   ]
  },
  {
   "cell_type": "code",
   "execution_count": null,
   "id": "3e740819",
   "metadata": {},
   "outputs": [
    {
     "data": {
      "text/plain": [
       "True"
      ]
     },
     "execution_count": 1,
     "metadata": {},
     "output_type": "execute_result"
    }
   ],
   "source": [
    "f.codomain() is Hko"
   ]
  },
  {
   "cell_type": "code",
   "execution_count": null,
   "id": "c1784756",
   "metadata": {},
   "outputs": [
    {
     "data": {
      "text/plain": [
       "True"
      ]
     },
     "execution_count": 1,
     "metadata": {},
     "output_type": "execute_result"
    }
   ],
   "source": [
    "f_21.domain() is Hko.vector_presentation(21)"
   ]
  },
  {
   "cell_type": "code",
   "execution_count": null,
   "id": "3e389b2f",
   "metadata": {},
   "outputs": [
    {
     "data": {
      "text/plain": [
       "True"
      ]
     },
     "execution_count": 1,
     "metadata": {},
     "output_type": "execute_result"
    }
   ],
   "source": [
    "f_21.codomain() is Hko.vector_presentation(21 + f.degree())"
   ]
  },
  {
   "cell_type": "markdown",
   "id": "72c882c1",
   "metadata": {},
   "source": [
    "Elements in the preimage of a homomorphism can be found:"
   ]
  },
  {
   "cell_type": "code",
   "execution_count": null,
   "id": "785844d8",
   "metadata": {},
   "outputs": [
    {
     "data": {
      "text/plain": [
       "Sq(0,2)*g[0]\n"
      ]
     },
     "execution_count": 1,
     "metadata": {},
     "output_type": "execute_result"
    }
   ],
   "source": [
    "f.solve(Sq(2)*Sq(4)*Sq(7)*gen)"
   ]
  },
  {
   "cell_type": "code",
   "execution_count": null,
   "id": "2de641ba",
   "metadata": {},
   "outputs": [
    {
     "data": {
      "text/plain": [
       "True"
      ]
     },
     "execution_count": 1,
     "metadata": {},
     "output_type": "execute_result"
    }
   ],
   "source": [
    "f.solve(Sq(8)*gen) is None"
   ]
  },
  {
   "cell_type": "markdown",
   "id": "874aeebe",
   "metadata": {},
   "source": [
    "Homomorphisms can be composed as expected:"
   ]
  },
  {
   "cell_type": "code",
   "execution_count": null,
   "id": "4ccccb16",
   "metadata": {},
   "outputs": [
    {
     "data": {
      "text/plain": [
       "Module endomorphism of Finitely presented left module on 1 generator and 2 relations\n",
       " over mod 2 Steenrod algebra, milnor basis\n",
       "  Defn: g[0] |--> Sq(0,0,0,1)*g[0]\n"
      ]
     },
     "execution_count": 1,
     "metadata": {},
     "output_type": "execute_result"
    }
   ],
   "source": [
    "g = homspace([Sq(0, 0, 0, 1)*gen]); g"
   ]
  },
  {
   "cell_type": "code",
   "execution_count": null,
   "id": "dfd51f0e",
   "metadata": {},
   "outputs": [
    {
     "data": {
      "text/plain": [
       "Module endomorphism of Finitely presented left module on 1 generator and 2 relations\n",
       " over mod 2 Steenrod algebra, milnor basis\n",
       "  Defn: g[0] |--> Sq(0,0,1,1)*g[0]\n"
      ]
     },
     "execution_count": 1,
     "metadata": {},
     "output_type": "execute_result"
    }
   ],
   "source": [
    "g*f"
   ]
  },
  {
   "cell_type": "code",
   "execution_count": null,
   "id": "5eaedc26",
   "metadata": {},
   "outputs": [
    {
     "data": {
      "text/plain": [
       "True"
      ]
     },
     "execution_count": 1,
     "metadata": {},
     "output_type": "execute_result"
    }
   ],
   "source": [
    "one = homspace.identity()\n",
    "f*one == f"
   ]
  },
  {
   "cell_type": "markdown",
   "id": "6a470b2f",
   "metadata": {},
   "source": [
    "### Homological algebra\n",
    "\n",
    "The category of modules over $A$ is Abelian, so kernels, images and\n",
    "cokernels all exist and can be computed using `the morphisms\n",
    "<sage.modules.fp_graded.steenrod.morphism.SteenrodFPModuleMorphism>`.\n",
    "\n",
    "Note\n",
    "\n",
    "Methods for morphisms like\n",
    "\n",
    "-   `~sage.modules.fp_graded.steenrod.morphism.SteenrodFPModuleMorphism.kernel_inclusion`,\n",
    "-   `~sage.modules.fp_graded.steenrod.morphism.SteenrodFPModuleMorphism.cokernel_projection`,\n",
    "-   `~sage.modules.fp_graded.steenrod.morphism.SteenrodFPModuleMorphism.image`,\n",
    "-   `~sage.modules.fp_graded.morphism.FPModuleMorphism.homology`\n",
    "\n",
    "compute sub- and quotient modules related to homomorphisms, but they do\n",
    "not return instances of the module class. Rather, they return the\n",
    "natural homomorphisms which connect these modules to the modules that\n",
    "gave rise to them.\n",
    "\n",
    "For example the function\n",
    "`~sage.modules.fp_graded.steenrod.morphism.SteenrodFPModuleMorphism.kernel_inclusion`\n",
    "returns an injective homomorphism which is onto the kernel submodule we\n",
    "asked it to compute, while the function\n",
    "`~sage.modules.fp_graded.steenrod.morphism.SteenrodFPModuleMorphism.cokernel_projection`\n",
    "provides a surjective homomorphism onto the cokernel module.\n",
    "\n",
    "In each case, getting a reference to the module instance requires\n",
    "calling `~sage.categories.morphism.Morphism.domain` or\n",
    "`~sage.categories.morphism.Morphism.codomain` on the returned\n",
    "homomorphism, depending on the case.\n",
    "\n",
    "Refer to each function's documentation for specific details.\n",
    "\n",
    "### Cokernels\n",
    "\n",
    "In the following example, we define a cyclic module $H\\ZZ$ with one\n",
    "relation in two ways: first explicitly, and then as the cokernel of a\n",
    "homomorphism of free modules. We then construct a candidate for an\n",
    "isomorphism and check that it is both injective and surjective:"
   ]
  },
  {
   "cell_type": "code",
   "execution_count": null,
   "id": "a3a54ad0",
   "metadata": {},
   "outputs": [
    {
     "data": {
      "text/plain": [
       "Finitely presented left module on 1 generator and 1 relation over mod 2 Steenrod algebra, milnor basis\n"
      ]
     },
     "execution_count": 1,
     "metadata": {},
     "output_type": "execute_result"
    }
   ],
   "source": [
    "HZ = SteenrodFPModule(A, [0], [[Sq(1)]]); HZ"
   ]
  },
  {
   "cell_type": "code",
   "execution_count": null,
   "id": "35c4ed2d",
   "metadata": {},
   "outputs": [
    {
     "data": {
      "text/plain": [
       "Finitely presented left module on 1 generator and 1 relation over mod 2 Steenrod algebra, milnor basis\n"
      ]
     },
     "execution_count": 1,
     "metadata": {},
     "output_type": "execute_result"
    }
   ],
   "source": [
    "F = SteenrodFPModule(A, [0])\n",
    "j = Hom(F, F)([Sq(1)*F.generator(0)])\n",
    "coker = j.cokernel_projection() # the natural quotient homomorphism onto the cokernel.\n",
    "hz = coker.codomain(); hz"
   ]
  },
  {
   "cell_type": "code",
   "execution_count": null,
   "id": "415405b4",
   "metadata": {},
   "outputs": [
    {
     "data": {
      "text/plain": [
       "True"
      ]
     },
     "execution_count": 1,
     "metadata": {},
     "output_type": "execute_result"
    }
   ],
   "source": [
    "a = Hom(HZ, hz)([hz.generator(0)])\n",
    "a.is_injective()"
   ]
  },
  {
   "cell_type": "code",
   "execution_count": null,
   "id": "2b2e9f3f",
   "metadata": {},
   "outputs": [
    {
     "data": {
      "text/plain": [
       "True"
      ]
     },
     "execution_count": 1,
     "metadata": {},
     "output_type": "execute_result"
    }
   ],
   "source": [
    "a.is_surjective()"
   ]
  },
  {
   "cell_type": "markdown",
   "id": "366ea5a1",
   "metadata": {},
   "source": [
    "### Kernels\n",
    "\n",
    "When computing the kernel of a homomorphism $f$, the result is an\n",
    "injective homomorphism into the domain of $f$ :"
   ]
  },
  {
   "cell_type": "code",
   "execution_count": null,
   "id": "37c8c85b",
   "metadata": {},
   "outputs": [
    {
     "data": {
      "text/plain": [
       "Module morphism:\n",
       "  From: Finitely presented left module on 1 generator and 3 relations over mod 2 Steenrod algebra, milnor basis\n",
       "  To:   Finitely presented left module on 1 generator and 2 relations over mod 2 Steenrod algebra, milnor basis\n",
       "  Defn: g[7] |--> Sq(0,0,1)*g[0]"
      ]
     },
     "execution_count": 1,
     "metadata": {},
     "output_type": "execute_result"
    }
   ],
   "source": [
    "k = f.kernel_inclusion(); k"
   ]
  },
  {
   "cell_type": "code",
   "execution_count": null,
   "id": "53a21426",
   "metadata": {},
   "outputs": [
    {
     "data": {
      "text/plain": [
       "True"
      ]
     },
     "execution_count": 1,
     "metadata": {},
     "output_type": "execute_result"
    }
   ],
   "source": [
    "k.codomain() == f.domain()"
   ]
  },
  {
   "cell_type": "code",
   "execution_count": null,
   "id": "52370bf4",
   "metadata": {},
   "outputs": [
    {
     "data": {
      "text/plain": [
       "True\n"
      ]
     },
     "execution_count": 1,
     "metadata": {},
     "output_type": "execute_result"
    }
   ],
   "source": [
    "k.is_injective()"
   ]
  },
  {
   "cell_type": "code",
   "execution_count": null,
   "id": "1f762cc6",
   "metadata": {},
   "outputs": [
    {
     "data": {
      "text/plain": [
       "Finitely presented left module on 1 generator and 3 relations over mod 2 Steenrod algebra, milnor basis"
      ]
     },
     "execution_count": 1,
     "metadata": {},
     "output_type": "execute_result"
    }
   ],
   "source": [
    "ker = k.domain()\n",
    "ker"
   ]
  },
  {
   "cell_type": "markdown",
   "id": "5a8f5e3f",
   "metadata": {},
   "source": [
    "We can check that the injective image of $k$ is the kernel of $f$ by\n",
    "showing that $f$ factors as $h\\circ c$, where $c$ is the quotient map to\n",
    "the cokernel of $k$, and $h$ is injective:"
   ]
  },
  {
   "cell_type": "code",
   "execution_count": null,
   "id": "83370dc5",
   "metadata": {},
   "outputs": [
    {
     "data": {
      "text/plain": [
       "True"
      ]
     },
     "execution_count": 1,
     "metadata": {},
     "output_type": "execute_result"
    }
   ],
   "source": [
    "K = k.codomain()        # We want to check that this really is the kernel of f.\n",
    "coker = k.cokernel_projection()    # coker is the natural map: Hko -> coker(f) with kernel K.\n",
    "h = Hom(coker.codomain(), Hko)(f.values())\n",
    "h*coker == f            # Is K contained in ker(f) ?"
   ]
  },
  {
   "cell_type": "code",
   "execution_count": null,
   "id": "8a0937e5",
   "metadata": {},
   "outputs": [
    {
     "data": {
      "text/plain": [
       "True"
      ]
     },
     "execution_count": 1,
     "metadata": {},
     "output_type": "execute_result"
    }
   ],
   "source": [
    "h.is_injective()        # Is ker(f) contained in K ?"
   ]
  },
  {
   "cell_type": "markdown",
   "id": "a011e129",
   "metadata": {},
   "source": [
    "### Images\n",
    "\n",
    "The method\n",
    "`~sage.modules.fp_graded.steenrod.morphism.SteenrodFPModuleMorphism.image`\n",
    "behaves similarly, returning an injective homomorphism with image equal\n",
    "to the submodule $\\operatorname{im}(f)$ :"
   ]
  },
  {
   "cell_type": "code",
   "execution_count": null,
   "id": "e53b7aa5",
   "metadata": {},
   "outputs": [
    {
     "data": {
      "text/plain": [
       "Module morphism:\n",
       "  From: Finitely presented left module on 1 generator and 3 relations over mod 2 Steenrod algebra, milnor basis\n",
       "  To:   Finitely presented left module on 1 generator and 2 relations over mod 2 Steenrod algebra, milnor basis\n",
       "  Defn: g[7] |--> Sq(0,0,1)*g[0]"
      ]
     },
     "execution_count": 1,
     "metadata": {},
     "output_type": "execute_result"
    }
   ],
   "source": [
    "i = f.image(); i"
   ]
  },
  {
   "cell_type": "code",
   "execution_count": null,
   "id": "d3e050a0",
   "metadata": {},
   "outputs": [
    {
     "data": {
      "text/plain": [
       "True"
      ]
     },
     "execution_count": 1,
     "metadata": {},
     "output_type": "execute_result"
    }
   ],
   "source": [
    "i.codomain() == f.codomain()"
   ]
  },
  {
   "cell_type": "code",
   "execution_count": null,
   "id": "6d14e36d",
   "metadata": {},
   "outputs": [
    {
     "data": {
      "text/plain": [
       "True"
      ]
     },
     "execution_count": 1,
     "metadata": {},
     "output_type": "execute_result"
    }
   ],
   "source": [
    "i.is_injective()"
   ]
  },
  {
   "cell_type": "markdown",
   "id": "900faaea",
   "metadata": {},
   "source": [
    "We can check that the injective image of $i$ is the image of $f$ by\n",
    "lifting $f$ over $i$, and showing that the lift is surjective:"
   ]
  },
  {
   "cell_type": "code",
   "execution_count": null,
   "id": "6734c790",
   "metadata": {},
   "outputs": [
    {
     "data": {
      "text/plain": [
       "Module morphism:\n",
       "  From: Finitely presented left module on 1 generator and 2 relations over mod 2 Steenrod algebra, milnor basis\n",
       "  To:   Finitely presented left module on 1 generator and 3 relations over mod 2 Steenrod algebra, milnor basis\n",
       "  Defn: g[0] |--> g[7]"
      ]
     },
     "execution_count": 1,
     "metadata": {},
     "output_type": "execute_result"
    }
   ],
   "source": [
    "f_ = f.lift(i); f_"
   ]
  },
  {
   "cell_type": "code",
   "execution_count": null,
   "id": "29418a9a",
   "metadata": {},
   "outputs": [
    {
     "data": {
      "text/plain": [
       "True"
      ]
     },
     "execution_count": 1,
     "metadata": {},
     "output_type": "execute_result"
    }
   ],
   "source": [
    "i*f_ == f             # Is im(i) contained in im(f) ?"
   ]
  },
  {
   "cell_type": "code",
   "execution_count": null,
   "id": "b1d8fdb0",
   "metadata": {},
   "outputs": [
    {
     "data": {
      "text/plain": [
       "True"
      ]
     },
     "execution_count": 1,
     "metadata": {},
     "output_type": "execute_result"
    }
   ],
   "source": [
    "f_.is_surjective()    # Is im(f) contained in im(i) ?"
   ]
  },
  {
   "cell_type": "markdown",
   "id": "3e5d5c9d",
   "metadata": {},
   "source": [
    "When a pair of composable homomorphisms $g\\circ f: M\\to N\\to L$ satisfy\n",
    "the condition $g\\circ f = 0$, the sub-quotient\n",
    "$\\ker(g) / \\operatorname{im}(f)$ can be computed and is given by the\n",
    "natural quotient homomorphism with domain $\\ker(g)$ :"
   ]
  },
  {
   "cell_type": "code",
   "execution_count": null,
   "id": "688c8e0d",
   "metadata": {},
   "outputs": [
    {
     "data": {
      "text/plain": [
       "True"
      ]
     },
     "execution_count": 1,
     "metadata": {},
     "output_type": "execute_result"
    }
   ],
   "source": [
    "f * f == 0        # Does the kernel of f contain the image of f ?"
   ]
  },
  {
   "cell_type": "code",
   "execution_count": null,
   "id": "3e45fabc",
   "metadata": {},
   "outputs": [
    {
     "data": {
      "text/plain": [
       "Finitely presented left module on 1 generator and 4 relations over mod 2 Steenrod algebra, milnor basis"
      ]
     },
     "execution_count": 1,
     "metadata": {},
     "output_type": "execute_result"
    }
   ],
   "source": [
    "K = f.kernel_inclusion()    # k: ker(f) -> Hko\n",
    "h = f.homology(f) # h: ker(f) -> ker(f) / im(f)\n",
    "h.codomain()      # This is the homology module."
   ]
  },
  {
   "cell_type": "markdown",
   "id": "23003d4a",
   "metadata": {},
   "source": [
    "### Free resolutions\n",
    "\n",
    "Finally, free resolutions can be computed. These calculations usually\n",
    "take some time to complete, so it is usually a good idea to raise the\n",
    "verbose flag to output progress information.\n",
    "\n",
    "The following examples are taken from [Michael Catanzaro's\n",
    "thesis](https://digitalcommons.wayne.edu/oa_theses/602/) where the first\n",
    "version of this software appeared:"
   ]
  },
  {
   "cell_type": "code",
   "execution_count": null,
   "id": "b8eb36e3",
   "metadata": {},
   "outputs": [
    {
     "data": {
      "text/plain": [
       "Computing f_1 (1/6)\n",
       "Computing f_2 (2/6)\n",
       "Computing using the profile:\n",
       "(2, 1)\n",
       "Resolving the kernel in the range of dimensions [1, 8]: 1 2 3 4 5 6 7 8.\n",
       "Computing f_3 (3/6)\n",
       "Computing using the profile:\n",
       "(2, 1)\n",
       "Resolving the kernel in the range of dimensions [2, 10]: 2 3 4 5 6 7 8 9 10.\n",
       "Computing f_4 (4/6)\n",
       "Computing using the profile:\n",
       "(2, 1)\n",
       "Resolving the kernel in the range of dimensions [3, 13]: 3 4 5 6 7 8 9 10 11 12 13.\n",
       "Computing f_5 (5/6)\n",
       "Computing using the profile:\n",
       "(2, 1)\n",
       "Resolving the kernel in the range of dimensions [4, 18]: 4 5 6 7 8 9 10 11 12 13 14 15 16 17 18.\n",
       "Computing f_6 (6/6)\n",
       "Computing using the profile:\n",
       "(2, 1)\n",
       "Resolving the kernel in the range of dimensions [5, 20]: 5 6 7 8 9 10 11 12 13 14 15 16 17 18 19 20."
      ]
     },
     "execution_count": 1,
     "metadata": {},
     "output_type": "execute_result"
    }
   ],
   "source": [
    "res = Hko.resolution(6, verbose=True)"
   ]
  },
  {
   "cell_type": "markdown",
   "id": "025d5039",
   "metadata": {},
   "source": [
    "The result of the calculation is a list of all the maps in the\n",
    "resolution:"
   ]
  },
  {
   "cell_type": "code",
   "execution_count": null,
   "id": "2862630b",
   "metadata": {},
   "outputs": [
    {
     "data": {
      "text/plain": [
       "[Free graded left module on 1 generator over mod 2 Steenrod algebra, milnor basis,\n",
       " Free graded left module on 2 generators over mod 2 Steenrod algebra, milnor basis,\n",
       " Free graded left module on 2 generators over mod 2 Steenrod algebra, milnor basis,\n",
       " Free graded left module on 2 generators over mod 2 Steenrod algebra, milnor basis,\n",
       " Free graded left module on 3 generators over mod 2 Steenrod algebra, milnor basis,\n",
       " Free graded left module on 4 generators over mod 2 Steenrod algebra, milnor basis,\n",
       " Free graded left module on 4 generators over mod 2 Steenrod algebra, milnor basis]\n"
      ]
     },
     "execution_count": 1,
     "metadata": {},
     "output_type": "execute_result"
    }
   ],
   "source": [
    "[f.domain() for f in res]"
   ]
  },
  {
   "cell_type": "code",
   "execution_count": null,
   "id": "cd4549f1",
   "metadata": {},
   "outputs": [
    {
     "data": {
      "text/plain": [
       "....:"
      ]
     },
     "execution_count": 1,
     "metadata": {},
     "output_type": "execute_result"
    }
   ],
   "source": [
    "def is_complex(res):\n",
    "    for i in range(len(res)-1):\n",
    "        f = (res[i]*res[i+1])\n",
    "        if not f.is_zero():\n",
    "            return False\n",
    "    return True"
   ]
  },
  {
   "cell_type": "code",
   "execution_count": null,
   "id": "f2670808",
   "metadata": {},
   "outputs": [
    {
     "data": {
      "text/plain": [
       "True\n"
      ]
     },
     "execution_count": 1,
     "metadata": {},
     "output_type": "execute_result"
    }
   ],
   "source": [
    "is_complex(res)"
   ]
  },
  {
   "cell_type": "code",
   "execution_count": null,
   "id": "e81725cc",
   "metadata": {},
   "outputs": [],
   "source": [
    "def is_exact(res):\n",
    "    for i in range(len(res)-1):\n",
    "        h = res[i].homology(res[i+1])\n",
    "        if not h.codomain().is_trivial():\n",
    "            return False\n",
    "    return True"
   ]
  },
  {
   "cell_type": "code",
   "execution_count": null,
   "id": "2cbead47",
   "metadata": {},
   "outputs": [
    {
     "data": {
      "text/plain": [
       "True\n"
      ]
     },
     "execution_count": 1,
     "metadata": {},
     "output_type": "execute_result"
    }
   ],
   "source": [
    "is_exact(res)"
   ]
  },
  {
   "cell_type": "code",
   "execution_count": null,
   "id": "542a40f1",
   "metadata": {},
   "outputs": [
    {
     "data": {
      "text/plain": [
       "[(0,), (0,), (2, 1), (2, 4), (3, 7), (4, 8, 12), (5, 9, 13, 14)]\n"
      ]
     },
     "execution_count": 1,
     "metadata": {},
     "output_type": "execute_result"
    }
   ],
   "source": [
    "[r.codomain().generator_degrees() for r in res]"
   ]
  },
  {
   "cell_type": "code",
   "execution_count": null,
   "id": "6f974ac8",
   "metadata": {},
   "outputs": [
    {
     "data": {
      "text/plain": [
       "[(g[0],),\n",
       " (Sq(2)*g[0], Sq(1)*g[0]),\n",
       " (Sq(1)*g[1], Sq(3)*g[1] + Sq(2)*g[2]),\n",
       " (Sq(1)*g[2], Sq(2,1)*g[2] + Sq(3)*g[4]),\n",
       " (Sq(1)*g[3], Sq(2,1)*g[3] + Sq(1)*g[7], Sq(2,1)*g[7]),\n",
       " (Sq(1)*g[4],\n",
       "  Sq(2,1)*g[4] + Sq(1)*g[8],\n",
       "  Sq(2,1)*g[8] + Sq(1)*g[12],\n",
       "  Sq(2)*g[12]),\n",
       " (Sq(1)*g[5],\n",
       "  Sq(2,1)*g[5] + Sq(1)*g[9],\n",
       "  Sq(2,1)*g[9] + Sq(1)*g[13],\n",
       "  Sq(0,1)*g[13] + Sq(2)*g[14])]"
      ]
     },
     "execution_count": 1,
     "metadata": {},
     "output_type": "execute_result"
    }
   ],
   "source": [
    "[r.values() for r in res]"
   ]
  },
  {
   "cell_type": "markdown",
   "id": "bfca8b09",
   "metadata": {},
   "source": [
    "## Example: Counting lifts\n",
    "\n",
    "In this more elaborate example we show how to find all possible lifts of\n",
    "a particular homomorphism. We will do this in two ways, and as a check\n",
    "of validity, we will compare the results in the end.\n",
    "\n",
    "We will work with the following modules over the mod 2 Steenrod algebra\n",
    "$A$ :\n",
    "\n",
    "$$\\begin{aligned}\n",
    "\\begin{align}\n",
    "    H\\ZZ &= A/A\\cdot \\operatorname{Sq}(1)\\\\\n",
    "    Hko &= A/A\\cdot \\{\\operatorname{Sq}(2), \\operatorname{Sq}(1)\\} \\,.\n",
    "\\end{align}\n",
    "\\end{aligned}$$\n",
    "\n",
    "There is a natural projection $q: H\\ZZ\\to Hko$, and a non-trivial\n",
    "endomorphism of degree 28, represented as a degree zero map\n",
    "$f: \\Sigma^{28}Hko\\to Hko$ that we define below.\n",
    "\n",
    "The problem we will solve is to find all possible homomorphisms\n",
    "$f': \\Sigma^{28}Hko\\to H\\ZZ$, making the following diagram into a\n",
    "commuting triangle:\n",
    "\n",
    "$$H\\ZZ\\xrightarrow{q} Hko \\xleftarrow{f} \\Sigma^{28} Hko.$$\n",
    "\n",
    "We begin by defining the modules and the homomorphisms $f$ and $q$. In\n",
    "the following, we let $L = \\Sigma^{28}Hko$ :"
   ]
  },
  {
   "cell_type": "code",
   "execution_count": null,
   "id": "e6160a7b",
   "metadata": {},
   "outputs": [],
   "source": [
    "from sage.modules.fp_graded.steenrod.module import SteenrodFPModule\n",
    "A = SteenrodAlgebra(2)\n",
    "Hko = SteenrodFPModule(A, [0], [[Sq(2)],[Sq(1)]])\n",
    "HZ = SteenrodFPModule(A, [0], [[Sq(1)]])\n",
    "L = Hko.suspension(28)"
   ]
  },
  {
   "cell_type": "markdown",
   "id": "7c339534",
   "metadata": {},
   "source": [
    "The projection:"
   ]
  },
  {
   "cell_type": "code",
   "execution_count": null,
   "id": "eee21311",
   "metadata": {},
   "outputs": [
    {
     "data": {
      "text/plain": [
       "Module morphism:\n",
       "  From: Finitely presented left module on 1 generator and 1 relation over mod 2 Steenrod algebra, milnor basis\n",
       "  To:   Finitely presented left module on 1 generator and 2 relations over mod 2 Steenrod algebra, milnor basis\n",
       "  Defn: g[0] |--> g[0]"
      ]
     },
     "execution_count": 1,
     "metadata": {},
     "output_type": "execute_result"
    }
   ],
   "source": [
    "q = Hom(HZ, Hko)([Hko.generator(0)])\n",
    "q"
   ]
  },
  {
   "cell_type": "markdown",
   "id": "79adab01",
   "metadata": {},
   "source": [
    "The map to lift over $q$ :"
   ]
  },
  {
   "cell_type": "code",
   "execution_count": null,
   "id": "73815230",
   "metadata": {},
   "outputs": [
    {
     "data": {
      "text/plain": [
       "Module morphism:\n",
       "  From: Finitely presented left module on 1 generator and 2 relations over mod 2 Steenrod algebra, milnor basis\n",
       "  To:   Finitely presented left module on 1 generator and 2 relations over mod 2 Steenrod algebra, milnor basis\n",
       "  Defn: g[28] |--> Sq(0,2,1,1)*g[0]\n"
      ]
     },
     "execution_count": 1,
     "metadata": {},
     "output_type": "execute_result"
    }
   ],
   "source": [
    "f = Hom(L, Hko)([Sq(0,2,1,1)*Hko.generator(0)])\n",
    "f"
   ]
  },
  {
   "cell_type": "code",
   "execution_count": null,
   "id": "719909c5",
   "metadata": {},
   "outputs": [
    {
     "data": {
      "text/plain": [
       "False"
      ]
     },
     "execution_count": 1,
     "metadata": {},
     "output_type": "execute_result"
    }
   ],
   "source": [
    "f.is_zero()   # f is non-trivial."
   ]
  },
  {
   "cell_type": "markdown",
   "id": "e7855e44",
   "metadata": {},
   "source": [
    "We will count the number of different lifts in two ways. First, we will\n",
    "simply compute the vector space of all possible maps $L \\to H\\ZZ$, and\n",
    "then check which of those become $f$ when composed with $q$ :"
   ]
  },
  {
   "cell_type": "code",
   "execution_count": null,
   "id": "27707032",
   "metadata": {},
   "outputs": [],
   "source": [
    "basis = Hom(L, HZ).basis_elements(0)   # The basis for the vector space of degree 0 maps L -> HZ"
   ]
  },
  {
   "cell_type": "code",
   "execution_count": null,
   "id": "ae252717",
   "metadata": {},
   "outputs": [],
   "source": [
    "from itertools import product\n",
    "def from_coords(c):\n",
    "    '''\n",
    "    Create a linear combination of the three basis homomorphisms.\n",
    "    '''\n",
    "    return c[0]*basis[0] + c[1]*basis[1] + c[2]*basis[2]"
   ]
  },
  {
   "cell_type": "code",
   "execution_count": null,
   "id": "43b649f7",
   "metadata": {},
   "outputs": [
    {
     "data": {
      "text/plain": [
       "(0, 0, 0): False\n",
       "(0, 0, 1): False\n",
       "(0, 1, 0): True\n",
       "(0, 1, 1): True\n",
       "(1, 0, 0): True\n",
       "(1, 0, 1): True\n",
       "(1, 1, 0): False\n",
       "(1, 1, 1): False"
      ]
     },
     "execution_count": 1,
     "metadata": {},
     "output_type": "execute_result"
    }
   ],
   "source": [
    "for coords in product([0,1], repeat=3):\n",
    "    print('%s: %s' % (coords, q*from_coords(coords) == f))"
   ]
  },
  {
   "cell_type": "markdown",
   "id": "6d58d58f",
   "metadata": {},
   "source": [
    "From this we conclude that four out of eight different homomorphisms\n",
    "$L \\to H\\ZZ$ are lifts of $f$ :"
   ]
  },
  {
   "cell_type": "code",
   "execution_count": null,
   "id": "7e6d44a0",
   "metadata": {},
   "outputs": [
    {
     "data": {
      "text/plain": [
       "[Module morphism:\n",
       "   From: Finitely presented left module on 1 generator and 2 relations over mod 2 Steenrod algebra, milnor basis\n",
       "   To:   Finitely presented left module on 1 generator and 1 relation over mod 2 Steenrod algebra, milnor basis\n",
       "   Defn: g[28] |--> Sq(6,5,1)*g[0],\n",
       " Module morphism:\n",
       "   From: Finitely presented left module on 1 generator and 2 relations over mod 2 Steenrod algebra, milnor basis\n",
       "   To:   Finitely presented left module on 1 generator and 1 relation over mod 2 Steenrod algebra, milnor basis\n",
       "   Defn: g[28] |--> (Sq(6,5,1)+Sq(18,1,1))*g[0],\n",
       " Module morphism:\n",
       "   From: Finitely presented left module on 1 generator and 2 relations over mod 2 Steenrod algebra, milnor basis\n",
       "   To:   Finitely presented left module on 1 generator and 1 relation over mod 2 Steenrod algebra, milnor basis\n",
       "   Defn: g[28] |--> Sq(10,1,0,1)*g[0],\n",
       " Module morphism:\n",
       "   From: Finitely presented left module on 1 generator and 2 relations over mod 2 Steenrod algebra, milnor basis\n",
       "   To:   Finitely presented left module on 1 generator and 1 relation over mod 2 Steenrod algebra, milnor basis\n",
       "   Defn: g[28] |--> (Sq(10,1,0,1)+Sq(18,1,1))*g[0]]"
      ]
     },
     "execution_count": 1,
     "metadata": {},
     "output_type": "execute_result"
    }
   ],
   "source": [
    "lifts = [from_coords((0,1,0)),\n",
    "         from_coords((0,1,1)),\n",
    "         from_coords((1,0,0)),\n",
    "         from_coords((1,0,1))]\n",
    "lifts"
   ]
  },
  {
   "cell_type": "markdown",
   "id": "1c0bc2c6",
   "metadata": {},
   "source": [
    "Alternatively we can use left-exactness of the functor\n",
    "$\\operatorname{Hom}_A(L, -)$ to enumerate all possible lifts of $f$.\n",
    "Start by finding a single lift of $f$ over the projection $q$ :"
   ]
  },
  {
   "cell_type": "code",
   "execution_count": null,
   "id": "15bce942",
   "metadata": {},
   "outputs": [
    {
     "data": {
      "text/plain": [
       "Module morphism:\n",
       "  From: Finitely presented left module on 1 generator and 2 relations over mod 2 Steenrod algebra, milnor basis\n",
       "  To:   Finitely presented left module on 1 generator and 1 relation over mod 2 Steenrod algebra, milnor basis\n",
       "  Defn: g[28] |--> (Sq(4,3,0,1)+Sq(6,0,1,1)+Sq(7,2,0,1)+Sq(10,1,0,1))*g[0]"
      ]
     },
     "execution_count": 1,
     "metadata": {},
     "output_type": "execute_result"
    }
   ],
   "source": [
    "fl = f.lift(q); fl"
   ]
  },
  {
   "cell_type": "markdown",
   "id": "b56462fc",
   "metadata": {},
   "source": [
    "We verify that `fl` is indeed a lift:"
   ]
  },
  {
   "cell_type": "code",
   "execution_count": null,
   "id": "cc68b33c",
   "metadata": {},
   "outputs": [
    {
     "data": {
      "text/plain": [
       "True"
      ]
     },
     "execution_count": 1,
     "metadata": {},
     "output_type": "execute_result"
    }
   ],
   "source": [
    "q * fl == f"
   ]
  },
  {
   "cell_type": "markdown",
   "id": "46e95e3d",
   "metadata": {},
   "source": [
    "There is an exact sequence\n",
    "\n",
    "$$0 \\to \\operatorname{Hom}_A(L, \\ker(q)) \\xrightarrow{iK_*}\n",
    "\\operatorname{Hom}_A(L, H\\ZZ) \\xrightarrow{q_*} \\operatorname{Hom}_A(L, Hko),$$\n",
    "\n",
    "which means that the indeterminacy of choosing a lift for\n",
    "$f \\in \\operatorname{Hom}_A(L, Hko)$ is represented by an element in\n",
    "$\\operatorname{Hom}_A(L,\\ker(q))$. Therefore, we can proceed to count\n",
    "the number of lifts by computing this vector space of homomorphisms:"
   ]
  },
  {
   "cell_type": "code",
   "execution_count": null,
   "id": "536d3be1",
   "metadata": {},
   "outputs": [
    {
     "data": {
      "text/plain": [
       "(2,)"
      ]
     },
     "execution_count": 1,
     "metadata": {},
     "output_type": "execute_result"
    }
   ],
   "source": [
    "iK = q.kernel_inclusion()\n",
    "K = iK.domain()\n",
    "K.generator_degrees()"
   ]
  },
  {
   "cell_type": "code",
   "execution_count": null,
   "id": "9742904d",
   "metadata": {},
   "outputs": [
    {
     "data": {
      "text/plain": [
       "(Sq(2)*g[2],)"
      ]
     },
     "execution_count": 1,
     "metadata": {},
     "output_type": "execute_result"
    }
   ],
   "source": [
    "K.relations()"
   ]
  },
  {
   "cell_type": "code",
   "execution_count": null,
   "id": "c0973b3e",
   "metadata": {},
   "outputs": [
    {
     "data": {
      "text/plain": [
       "2"
      ]
     },
     "execution_count": 1,
     "metadata": {},
     "output_type": "execute_result"
    }
   ],
   "source": [
    "ind = Hom(L, K).basis_elements(0); len(ind)"
   ]
  },
  {
   "cell_type": "markdown",
   "id": "0d81b9b8",
   "metadata": {},
   "source": [
    "So now we know that the vector space of indeterminacies is 2-dimensional\n",
    "over the field of two elements. This means that there are four distinct\n",
    "lifts of $f$ over $q$, and we can construct these by taking the one lift\n",
    "we already found, and add to it all the different elements in the image\n",
    "of $iK_*$ :"
   ]
  },
  {
   "cell_type": "code",
   "execution_count": null,
   "id": "6a6efc8c",
   "metadata": {},
   "outputs": [
    {
     "data": {
      "text/plain": [
       "[Module morphism:\n",
       "   From: Finitely presented left module on 1 generator and 2 relations over mod 2 Steenrod algebra, milnor basis\n",
       "   To:   Finitely presented left module on 1 generator and 1 relation over mod 2 Steenrod algebra, milnor basis\n",
       "   Defn: g[28] |--> (Sq(4,3,0,1)+Sq(6,0,1,1)+Sq(7,2,0,1)+Sq(10,1,0,1))*g[0],\n",
       " Module morphism:\n",
       "   From: Finitely presented left module on 1 generator and 2 relations over mod 2 Steenrod algebra, milnor basis\n",
       "   To:   Finitely presented left module on 1 generator and 1 relation over mod 2 Steenrod algebra, milnor basis\n",
       "   Defn: g[28] |--> (Sq(0,7,1)+Sq(3,6,1)+Sq(4,1,3)+Sq(6,0,1,1)+Sq(6,5,1)+Sq(7,0,3))*g[0],\n",
       " Module morphism:\n",
       "   From: Finitely presented left module on 1 generator and 2 relations over mod 2 Steenrod algebra, milnor basis\n",
       "   To:   Finitely presented left module on 1 generator and 1 relation over mod 2 Steenrod algebra, milnor basis\n",
       "   Defn: g[28] |--> (Sq(4,3,0,1)+Sq(6,0,1,1)+Sq(7,2,0,1)+Sq(10,1,0,1)+Sq(12,3,1)+Sq(15,2,1)+Sq(18,1,1))*g[0],\n",
       " Module morphism:\n",
       "   From: Finitely presented left module on 1 generator and 2 relations over mod 2 Steenrod algebra, milnor basis\n",
       "   To:   Finitely presented left module on 1 generator and 1 relation over mod 2 Steenrod algebra, milnor basis\n",
       "   Defn: g[28] |--> (Sq(0,7,1)+Sq(3,6,1)+Sq(4,1,3)+Sq(6,0,1,1)+Sq(6,5,1)+Sq(7,0,3)+Sq(12,3,1)+Sq(15,2,1)+Sq(18,1,1))*g[0]]"
      ]
     },
     "execution_count": 1,
     "metadata": {},
     "output_type": "execute_result"
    }
   ],
   "source": [
    "flift = [fl,\n",
    "         fl + iK * ind[0],\n",
    "         fl + iK * ind[1],\n",
    "         fl + iK * (ind[0] + ind[1])]\n",
    "flift"
   ]
  },
  {
   "cell_type": "markdown",
   "id": "1dd60509",
   "metadata": {},
   "source": [
    "As a test of correctness, we now compare the two sets of lifts. As they\n",
    "stand, it is not obvious that the lists `flift` and `lifts` are the same\n",
    "(up to a re-ordering of list elements), so the following comparison is\n",
    "reassuring:"
   ]
  },
  {
   "cell_type": "code",
   "execution_count": null,
   "id": "da14b2e6",
   "metadata": {},
   "outputs": [
    {
     "data": {
      "text/plain": [
       "True"
      ]
     },
     "execution_count": 1,
     "metadata": {},
     "output_type": "execute_result"
    }
   ],
   "source": [
    "flift[0] == lifts[2]"
   ]
  },
  {
   "cell_type": "code",
   "execution_count": null,
   "id": "a6921020",
   "metadata": {},
   "outputs": [
    {
     "data": {
      "text/plain": [
       "True"
      ]
     },
     "execution_count": 1,
     "metadata": {},
     "output_type": "execute_result"
    }
   ],
   "source": [
    "flift[1] == lifts[0]"
   ]
  },
  {
   "cell_type": "code",
   "execution_count": null,
   "id": "98f47ab9",
   "metadata": {},
   "outputs": [
    {
     "data": {
      "text/plain": [
       "True"
      ]
     },
     "execution_count": 1,
     "metadata": {},
     "output_type": "execute_result"
    }
   ],
   "source": [
    "flift[2] == lifts[3]"
   ]
  },
  {
   "cell_type": "code",
   "execution_count": null,
   "id": "608ef77d",
   "metadata": {},
   "outputs": [
    {
     "data": {
      "text/plain": [
       "True"
      ]
     },
     "execution_count": 1,
     "metadata": {},
     "output_type": "execute_result"
    }
   ],
   "source": [
    "flift[3] == lifts[1]"
   ]
  }
 ],
 "metadata": {},
 "nbformat": 4,
 "nbformat_minor": 5
}
