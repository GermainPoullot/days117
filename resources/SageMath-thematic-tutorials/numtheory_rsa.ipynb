{
 "cells": [
  {
   "cell_type": "markdown",
   "id": "7c60d433",
   "metadata": {},
   "source": [
    "$$\n",
    "\\def\\CC{\\bf C}\n",
    "\\def\\QQ{\\bf Q}\n",
    "\\def\\RR{\\bf R}\n",
    "\\def\\ZZ{\\bf Z}\n",
    "\\def\\NN{\\bf N}\n",
    "$$\n",
    "# Number Theory and the RSA Public Key Cryptosystem\n",
    "\n",
    "Minh Van Nguyen \\<<nguyenminh2@gmail.com>\\>\n",
    "\n",
    "This tutorial uses Sage to study elementary number theory and the RSA\n",
    "public key cryptosystem. A number of Sage commands will be presented\n",
    "that help us to perform basic number theoretic operations such as\n",
    "greatest common divisor and Euler's phi function. We then present the\n",
    "RSA cryptosystem and use Sage's built-in commands to encrypt and decrypt\n",
    "data via the RSA algorithm. Note that this tutorial on RSA is for\n",
    "pedagogy purposes only. For further details on cryptography or the\n",
    "security of various cryptosystems, consult specialized texts such as\n",
    "<a href=\"#MenezesEtAl1996\" class=\"citation\">[MenezesEtAl1996]</a>,\n",
    "<a href=\"#Stinson2006\" class=\"citation\">[Stinson2006]</a>, and\n",
    "<a href=\"#TrappeWashington2006\" class=\"citation\">[TrappeWashington2006]</a>.\n",
    "\n",
    "## Elementary number theory\n",
    "\n",
    "We first review basic concepts from elementary number theory, including\n",
    "the notion of primes, greatest common divisors, congruences and Euler's\n",
    "phi function. The number theoretic concepts and Sage commands introduced\n",
    "will be referred to in later sections when we present the RSA algorithm.\n",
    "\n",
    "### Prime numbers\n",
    "\n",
    "Public key cryptography uses many fundamental concepts from number\n",
    "theory, such as prime numbers and greatest common divisors. A positive\n",
    "integer $n > 1$ is said to be *prime* if its factors are exclusively 1\n",
    "and itself. In Sage, we can obtain the first 20 prime numbers using the\n",
    "command `primes_first_n` :"
   ]
  },
  {
   "cell_type": "code",
   "execution_count": null,
   "id": "32dd77e6",
   "metadata": {},
   "outputs": [
    {
     "data": {
      "text/plain": [
       "[2, 3, 5, 7, 11, 13, 17, 19, 23, 29, 31, 37, 41, 43, 47, 53, 59, 61, 67, 71]"
      ]
     },
     "execution_count": 1,
     "metadata": {},
     "output_type": "execute_result"
    }
   ],
   "source": [
    "primes_first_n(20)"
   ]
  },
  {
   "cell_type": "markdown",
   "id": "66b49a4d",
   "metadata": {},
   "source": [
    "### Greatest common divisors\n",
    "\n",
    "Let $a$ and $b$ be integers, not both zero. Then the greatest common\n",
    "divisor (GCD) of $a$ and $b$ is the largest positive integer which is a\n",
    "factor of both $a$ and $b$. We use $\\gcd(a,b)$ to denote this largest\n",
    "positive factor. One can extend this definition by setting\n",
    "$\\gcd(0,0) = 0$. Sage uses `gcd(a, b)` to denote the GCD of $a$ and $b$.\n",
    "The GCD of any two distinct primes is 1, and the GCD of 18 and 27 is 9.\n",
    ":"
   ]
  },
  {
   "cell_type": "code",
   "execution_count": null,
   "id": "0066d2bf",
   "metadata": {},
   "outputs": [
    {
     "data": {
      "text/plain": [
       "1"
      ]
     },
     "execution_count": 1,
     "metadata": {},
     "output_type": "execute_result"
    }
   ],
   "source": [
    "gcd(3, 59)"
   ]
  },
  {
   "cell_type": "code",
   "execution_count": null,
   "id": "618a547f",
   "metadata": {},
   "outputs": [
    {
     "data": {
      "text/plain": [
       "9"
      ]
     },
     "execution_count": 1,
     "metadata": {},
     "output_type": "execute_result"
    }
   ],
   "source": [
    "gcd(18, 27)"
   ]
  },
  {
   "cell_type": "markdown",
   "id": "c5d71a08",
   "metadata": {},
   "source": [
    "If $\\gcd(a,b) = 1$, we say that $a$ is *coprime* (or relatively prime)\n",
    "to $b$. In particular, $\\gcd(3, 59) = 1$ so 3 is coprime to 59 and vice\n",
    "versa.\n",
    "\n",
    "### Congruences\n",
    "\n",
    "When one integer is divided by a non-zero integer, we usually get a\n",
    "remainder. For example, upon dividing 23 by 5, we get a remainder of 3;\n",
    "when 8 is divided by 5, the remainder is again 3. The notion of\n",
    "congruence helps us to describe the situation in which two integers have\n",
    "the same remainder upon division by a non-zero integer. Let\n",
    "$a,b,n \\in \\ZZ$ such that $n \\neq 0$. If $a$ and $b$ have the same\n",
    "remainder upon division by $n$, then we say that $a$ is *congruent* to\n",
    "$b$ modulo $n$ and denote this relationship by\n",
    "\n",
    "$$a \\equiv b \\pmod{n}$$\n",
    "\n",
    "This definition is equivalent to saying that $n$ divides the difference\n",
    "of $a$ and $b$, i.e. $n \\;|\\; (a - b)$. Thus $23 \\equiv 8 \\pmod{5}$\n",
    "because when both 23 and 8 are divided by 5, we end up with a remainder\n",
    "of 3. The command `mod` allows us to compute such a remainder:"
   ]
  },
  {
   "cell_type": "code",
   "execution_count": null,
   "id": "c846537a",
   "metadata": {},
   "outputs": [
    {
     "data": {
      "text/plain": [
       "3"
      ]
     },
     "execution_count": 1,
     "metadata": {},
     "output_type": "execute_result"
    }
   ],
   "source": [
    "mod(23, 5)"
   ]
  },
  {
   "cell_type": "code",
   "execution_count": null,
   "id": "432fdad9",
   "metadata": {},
   "outputs": [
    {
     "data": {
      "text/plain": [
       "3"
      ]
     },
     "execution_count": 1,
     "metadata": {},
     "output_type": "execute_result"
    }
   ],
   "source": [
    "mod(8, 5)"
   ]
  },
  {
   "cell_type": "markdown",
   "id": "b41792f8",
   "metadata": {},
   "source": [
    "### Euler's phi function\n",
    "\n",
    "Consider all the integers from 1 to 20, inclusive. List all those\n",
    "integers that are coprime to 20. In other words, we want to find those\n",
    "integers $n$, where $1 \\leq n \\leq 20$, such that $\\gcd(n,20) = 1$. The\n",
    "latter task can be easily accomplished with a little bit of Sage\n",
    "programming:"
   ]
  },
  {
   "cell_type": "code",
   "execution_count": null,
   "id": "72cdae4f",
   "metadata": {},
   "outputs": [
    {
     "data": {
      "text/plain": [
       "[1, 3, 7, 9, 11, 13, 17, 19]"
      ]
     },
     "execution_count": 1,
     "metadata": {},
     "output_type": "execute_result"
    }
   ],
   "source": [
    "L = []\n",
    "for n in range(1, 21):\n",
    "    if gcd(n, 20) == 1:\n",
    "        L.append(n)\n",
    "L"
   ]
  },
  {
   "cell_type": "markdown",
   "id": "082596f8",
   "metadata": {},
   "source": [
    "The above programming statements can be saved to a text file called,\n",
    "say, `/home/mvngu/totient.sage`, organizing it as follows to enhance\n",
    "readability."
   ]
  },
  {
   "cell_type": "code",
   "execution_count": null,
   "id": "95f0f80b",
   "metadata": {},
   "outputs": [],
   "source": [
    "L = []\n",
    "for n in range(1, 21):\n",
    "    if gcd(n, 20) == 1:\n",
    "        L.append(n)\n",
    "L"
   ]
  },
  {
   "cell_type": "markdown",
   "id": "86a53006",
   "metadata": {},
   "source": [
    "We refer to `totient.sage` as a Sage script, just as one would refer to\n",
    "a file containing Python code as a Python script. We use 4 space\n",
    "indentations, which is a coding convention in Sage as well as Python\n",
    "programming, instead of tabs.\n",
    "\n",
    "The command `load` can be used to read the file containing our\n",
    "programming statements into Sage and, upon loading the content of the\n",
    "file, have Sage execute those statements:"
   ]
  },
  {
   "cell_type": "code",
   "execution_count": null,
   "id": "7f3b96e5",
   "metadata": {},
   "outputs": [],
   "source": [
    "load(\"/home/mvngu/totient.sage\")\n",
    "[1, 3, 7, 9, 11, 13, 17, 19]"
   ]
  },
  {
   "cell_type": "markdown",
   "id": "774ee0a7",
   "metadata": {},
   "source": [
    "From the latter list, there are 8 integers in the closed interval\n",
    "$[1, 20]$ that are coprime to 20. Without explicitly generating the list"
   ]
  },
  {
   "cell_type": "code",
   "execution_count": null,
   "id": "374e2222",
   "metadata": {},
   "outputs": [],
   "source": [
    "1  3  7  9  11  13  17  19"
   ]
  },
  {
   "cell_type": "markdown",
   "id": "be2889ac",
   "metadata": {},
   "source": [
    "how can we compute the number of integers in $[1, 20]$ that are coprime\n",
    "to 20? This is where Euler's phi function comes in handy. Let\n",
    "$n \\in \\ZZ$ be positive. Then *Euler's phi function* counts the number\n",
    "of integers $a$, with $1 \\leq a \\leq n$, such that $\\gcd(a,n) = 1$. This\n",
    "number is denoted by $\\varphi(n)$. Euler's phi function is sometimes\n",
    "referred to as Euler's totient function, hence the name `totient.sage`\n",
    "for the above Sage script. The command `euler_phi` implements Euler's\n",
    "phi function. To compute $\\varphi(20)$ without explicitly generating the\n",
    "above list, we proceed as follows:"
   ]
  },
  {
   "cell_type": "code",
   "execution_count": null,
   "id": "b5a1498e",
   "metadata": {},
   "outputs": [
    {
     "data": {
      "text/plain": [
       "8"
      ]
     },
     "execution_count": 1,
     "metadata": {},
     "output_type": "execute_result"
    }
   ],
   "source": [
    "euler_phi(20)"
   ]
  },
  {
   "cell_type": "markdown",
   "id": "608fd3ab",
   "metadata": {},
   "source": [
    "## How to keep a secret?\n",
    "\n",
    "*Cryptography* is the science (some might say art) of concealing data.\n",
    "Imagine that we are composing a confidential email to someone. Having\n",
    "written the email, we can send it in one of two ways. The first, and\n",
    "usually convenient, way is to simply press the send button and not care\n",
    "about how our email will be delivered. Sending an email in this manner\n",
    "is similar to writing our confidential message on a postcard and post it\n",
    "without enclosing our postcard inside an envelope. Anyone who can access\n",
    "our postcard can see our message. On the other hand, before sending our\n",
    "email, we can scramble the confidential message and then press the send\n",
    "button. Scrambling our message is similar to enclosing our postcard\n",
    "inside an envelope. While not 100% secure, at least we know that anyone\n",
    "wanting to read our postcard has to open the envelope.\n",
    "\n",
    "In cryptography parlance, our message is called *plaintext*. The process\n",
    "of scrambling our message is referred to as *encryption*. After\n",
    "encrypting our message, the scrambled version is called *ciphertext*.\n",
    "From the ciphertext, we can recover our original unscrambled message via\n",
    "*decryption*. The following figure illustrates the processes of\n",
    "encryption and decryption. A *cryptosystem* is comprised of a pair of\n",
    "related encryption and decryption processes."
   ]
  },
  {
   "cell_type": "code",
   "execution_count": null,
   "id": "882318ea",
   "metadata": {},
   "outputs": [],
   "source": [
    "+ ---------+   encrypt    +------------+   decrypt    +-----------+\n",
    "| plaintext| -----------> | ciphertext | -----------> | plaintext |\n",
    "+----------+              +------------+              +-----------+"
   ]
  },
  {
   "cell_type": "markdown",
   "id": "31454a94",
   "metadata": {},
   "source": [
    "The following table provides a very simple method of scrambling a\n",
    "message written in English and using only upper case letters, excluding\n",
    "punctuation characters."
   ]
  },
  {
   "cell_type": "code",
   "execution_count": null,
   "id": "4bc351a3",
   "metadata": {},
   "outputs": [],
   "source": [
    "+----------------------------------------------------+\n",
    "| A   B   C   D   E   F   G   H   I   J   K   L   M  |\n",
    "| 65  66  67  68  69  70  71  72  73  74  75  76  77 |\n",
    "+----------------------------------------------------+\n",
    "| N   O   P   Q   R   S   T   U   V   W   X   Y   Z  |\n",
    "| 78  79  80  81  82  83  84  85  86  87  88  89  90 |\n",
    "+----------------------------------------------------+"
   ]
  },
  {
   "cell_type": "markdown",
   "id": "888a4f9c",
   "metadata": {},
   "source": [
    "Formally, let\n",
    "\n",
    "$$\\Sigma\n",
    "=\n",
    "\\{ \\mathtt{A}, \\mathtt{B}, \\mathtt{C}, \\dots, \\mathtt{Z} \\}$$\n",
    "\n",
    "be the set of capital letters of the English alphabet. Furthermore, let\n",
    "\n",
    "$$\\Phi\n",
    "=\n",
    "\\{ 65, 66, 67, \\dots, 90 \\}$$\n",
    "\n",
    "be the American Standard Code for Information Interchange (ASCII)\n",
    "encodings of the upper case English letters. Then the above table\n",
    "explicitly describes the mapping $f: \\Sigma \\longrightarrow \\Phi$. (For\n",
    "those familiar with ASCII, $f$ is actually a common process for\n",
    "*encoding* elements of $\\Sigma$, rather than a cryptographic\n",
    "\"scrambling\" process *per se*.) To scramble a message written using the\n",
    "alphabet $\\Sigma$, we simply replace each capital letter of the message\n",
    "with its corresponding ASCII encoding. However, the scrambling process\n",
    "described in the above table provides, cryptographically speaking, very\n",
    "little to no security at all and we strongly discourage its use in\n",
    "practice.\n",
    "\n",
    "## Keeping a secret with two keys\n",
    "\n",
    "The Rivest, Shamir, Adleman (RSA) cryptosystem is an example of a\n",
    "*public key cryptosystem*. RSA uses a *public key* to encrypt messages\n",
    "and decryption is performed using a corresponding *private key*. We can\n",
    "distribute our public keys, but for security reasons we should keep our\n",
    "private keys to ourselves. The encryption and decryption processes draw\n",
    "upon techniques from elementary number theory. The algorithm below is\n",
    "adapted from page 165 of\n",
    "<a href=\"#TrappeWashington2006\" class=\"citation\">[TrappeWashington2006]</a>.\n",
    "It outlines the RSA procedure for encryption and decryption.\n",
    "\n",
    "1.  Choose two primes $p$ and $q$ and let $n = pq$.\n",
    "2.  Let $e \\in \\ZZ$ be positive such that\n",
    "    $\\gcd \\big( e, \\varphi(n) \\big) = 1$.\n",
    "3.  Compute a value for $d \\in \\ZZ$ such that\n",
    "    $de \\equiv 1 \\pmod{\\varphi(n)}$.\n",
    "4.  Our public key is the pair $(n, e)$ and our private key is the\n",
    "    triple $(p,q,d)$.\n",
    "5.  For any non-zero integer $m < n$, encrypt $m$ using\n",
    "    $c \\equiv m^e \\pmod{n}$.\n",
    "6.  Decrypt $c$ using $m \\equiv c^d \\pmod{n}$.\n",
    "\n",
    "The next two sections will step through the RSA algorithm, using Sage to\n",
    "generate public and private keys, and perform encryption and decryption\n",
    "based on those keys.\n",
    "\n",
    "## Generating public and private keys\n",
    "\n",
    "Positive integers of the form $M_m = 2^m - 1$ are called *Mersenne\n",
    "numbers*. If $p$ is prime and $M_p = 2^p - 1$ is also prime, then $M_p$\n",
    "is called a *Mersenne prime*. For example, 31 is prime and\n",
    "$M_{31} = 2^{31} - 1$ is a Mersenne prime, as can be verified using the\n",
    "command `is_prime(p)`. This command returns `True` if its argument `p`\n",
    "is precisely a prime number; otherwise it returns `False`. By\n",
    "definition, a prime must be a positive integer, hence `is_prime(-2)`\n",
    "returns `False` although we know that 2 is prime. Indeed, the number\n",
    "$M_{61} = 2^{61} - 1$ is also a Mersenne prime. We can use $M_{31}$ and\n",
    "$M_{61}$ to work through step 1 in the RSA algorithm:"
   ]
  },
  {
   "cell_type": "code",
   "execution_count": null,
   "id": "9d41625e",
   "metadata": {},
   "outputs": [
    {
     "data": {
      "text/plain": [
       "True"
      ]
     },
     "execution_count": 1,
     "metadata": {},
     "output_type": "execute_result"
    }
   ],
   "source": [
    "p = (2^31) - 1\n",
    "is_prime(p)"
   ]
  },
  {
   "cell_type": "code",
   "execution_count": null,
   "id": "8ad0f670",
   "metadata": {},
   "outputs": [
    {
     "data": {
      "text/plain": [
       "True"
      ]
     },
     "execution_count": 1,
     "metadata": {},
     "output_type": "execute_result"
    }
   ],
   "source": [
    "q = (2^61) - 1\n",
    "is_prime(q)"
   ]
  },
  {
   "cell_type": "code",
   "execution_count": null,
   "id": "34142728",
   "metadata": {},
   "outputs": [
    {
     "data": {
      "text/plain": [
       "4951760154835678088235319297"
      ]
     },
     "execution_count": 1,
     "metadata": {},
     "output_type": "execute_result"
    }
   ],
   "source": [
    "n = p * q ; n"
   ]
  },
  {
   "cell_type": "markdown",
   "id": "31a4a1b4",
   "metadata": {},
   "source": [
    "A word of warning is in order here. In the above code example, the\n",
    "choice of $p$ and $q$ as Mersenne primes, and with so many digits far\n",
    "apart from each other, is a very bad choice in terms of cryptographic\n",
    "security. However, we shall use the above chosen numeric values for $p$\n",
    "and $q$ for the remainder of this tutorial, always bearing in mind that\n",
    "they have been chosen for pedagogy purposes only. Refer to\n",
    "<a href=\"#MenezesEtAl1996\" class=\"citation\">[MenezesEtAl1996]</a>,\n",
    "<a href=\"#Stinson2006\" class=\"citation\">[Stinson2006]</a>, and\n",
    "<a href=\"#TrappeWashington2006\" class=\"citation\">[TrappeWashington2006]</a>\n",
    "for in-depth discussions on the security of RSA, or consult other\n",
    "specialized texts.\n",
    "\n",
    "For step 2, we need to find a positive integer that is coprime to\n",
    "$\\varphi(n)$. The set of integers is implemented within the Sage module\n",
    "`sage.rings.integer_ring`. Various operations on integers can be\n",
    "accessed via the `ZZ.*` family of functions. For instance, the command\n",
    "`ZZ.random_element(n)` returns a pseudo-random integer uniformly\n",
    "distributed within the closed interval $[0, n-1]$.\n",
    "\n",
    "We can compute the value $\\varphi(n)$ by calling the sage function\n",
    "`euler_phi(n)`, but for arbitrarily large prime numbers $p$ and $q$,\n",
    "this can take an enormous amount of time. Indeed, the private key can be\n",
    "quickly deduced from the public key once you know $\\varphi(n)$, so it is\n",
    "an important part of the security of the RSA cryptosystem that\n",
    "$\\varphi(n)$ cannot be computed in a short time, if only $n$ is known.\n",
    "On the other hand, if the private key is available, we can compute\n",
    "$\\varphi(n)=(p-1)(q-1)$ in a very short time.\n",
    "\n",
    "Using a simple programming loop, we can compute the required value of\n",
    "$e$ as follows:"
   ]
  },
  {
   "cell_type": "code",
   "execution_count": null,
   "id": "7dc2ae4d",
   "metadata": {},
   "outputs": [
    {
     "data": {
      "text/plain": [
       "4951760152529835076874141700"
      ]
     },
     "execution_count": 1,
     "metadata": {},
     "output_type": "execute_result"
    }
   ],
   "source": [
    "p = (2^31) - 1\n",
    "q = (2^61) - 1\n",
    "n = p * q\n",
    "phi = (p - 1)*(q - 1); phi"
   ]
  },
  {
   "cell_type": "code",
   "execution_count": null,
   "id": "e8dc222a",
   "metadata": {},
   "outputs": [
    {
     "data": {
      "text/plain": [
       "1850567623300615966303954877"
      ]
     },
     "execution_count": 1,
     "metadata": {},
     "output_type": "execute_result"
    }
   ],
   "source": [
    "e = ZZ.random_element(phi)\n",
    "while gcd(e, phi) != 1:\n",
    "    e = ZZ.random_element(phi)\n",
    "e  # random"
   ]
  },
  {
   "cell_type": "code",
   "execution_count": null,
   "id": "0b522361",
   "metadata": {},
   "outputs": [
    {
     "data": {
      "text/plain": [
       "True"
      ]
     },
     "execution_count": 1,
     "metadata": {},
     "output_type": "execute_result"
    }
   ],
   "source": [
    "e < n"
   ]
  },
  {
   "cell_type": "markdown",
   "id": "2f943ba7",
   "metadata": {},
   "source": [
    "As `e` is a pseudo-random integer, its numeric value changes after each\n",
    "execution of `e = ZZ.random_element(phi)`.\n",
    "\n",
    "To calculate a value for `d` in step 3 of the RSA algorithm, we use the\n",
    "extended Euclidean algorithm. By definition of congruence,\n",
    "$de \\equiv 1 \\pmod{\\varphi(n)}$ is equivalent to\n",
    "\n",
    "$$de - k \\cdot \\varphi(n) = 1$$\n",
    "\n",
    "where $k \\in \\ZZ$. From steps 1 and 2, we already know the numeric\n",
    "values of $e$ and $\\varphi(n)$. The extended Euclidean algorithm allows\n",
    "us to compute $d$ and $-k$. In Sage, this can be accomplished via the\n",
    "command `xgcd`. Given two integers $x$ and $y$, `xgcd(x, y)` returns a\n",
    "3-tuple `(g, s, t)` that satisfies the Bézout identity\n",
    "$g = \\gcd(x,y) = sx + ty$. Having computed a value for `d`, we then use\n",
    "the command `mod(d*e, phi)` to check that `d*e` is indeed congruent to 1\n",
    "modulo `phi`. :"
   ]
  },
  {
   "cell_type": "code",
   "execution_count": null,
   "id": "64f3b7dd",
   "metadata": {},
   "outputs": [
    {
     "data": {
      "text/plain": [
       "(1, 4460824882019967172592779313, -1667095708515377925087033035)"
      ]
     },
     "execution_count": 1,
     "metadata": {},
     "output_type": "execute_result"
    }
   ],
   "source": [
    "n = 4951760154835678088235319297\n",
    "e = 1850567623300615966303954877\n",
    "phi = 4951760152529835076874141700\n",
    "bezout = xgcd(e, phi); bezout  # random"
   ]
  },
  {
   "cell_type": "code",
   "execution_count": null,
   "id": "460350cc",
   "metadata": {},
   "outputs": [
    {
     "data": {
      "text/plain": [
       "4460824882019967172592779313"
      ]
     },
     "execution_count": 1,
     "metadata": {},
     "output_type": "execute_result"
    }
   ],
   "source": [
    "d = Integer(mod(bezout[1], phi)) ; d  # random"
   ]
  },
  {
   "cell_type": "code",
   "execution_count": null,
   "id": "dc079af6",
   "metadata": {},
   "outputs": [
    {
     "data": {
      "text/plain": [
       "1"
      ]
     },
     "execution_count": 1,
     "metadata": {},
     "output_type": "execute_result"
    }
   ],
   "source": [
    "mod(d * e, phi)"
   ]
  },
  {
   "cell_type": "markdown",
   "id": "338c137e",
   "metadata": {},
   "source": [
    "Thus, our RSA public key is\n",
    "\n",
    "$$(n, e)\n",
    "=\n",
    "(4951760154835678088235319297,\\, 1850567623300615966303954877)$$\n",
    "\n",
    "and our corresponding private key is\n",
    "\n",
    "$$(p, q, d)\n",
    "=\n",
    "(2147483647,\\, 2305843009213693951,\\, 4460824882019967172592779313)$$\n",
    "\n",
    "## Encryption and decryption\n",
    "\n",
    "Suppose we want to scramble the message `HELLOWORLD` using RSA\n",
    "encryption. From the above ASCII table, our message maps to integers of\n",
    "the ASCII encodings as given below."
   ]
  },
  {
   "cell_type": "code",
   "execution_count": null,
   "id": "b0125d7b",
   "metadata": {},
   "outputs": [],
   "source": [
    "+----------------------------------------+\n",
    "| H   E   L   L   O   W   O   R   L   D  |\n",
    "| 72  69  76  76  79  87  79  82  76  68 |\n",
    "+----------------------------------------+"
   ]
  },
  {
   "cell_type": "markdown",
   "id": "b9a88bfe",
   "metadata": {},
   "source": [
    "Concatenating all the integers in the last table, our message can be\n",
    "represented by the integer\n",
    "\n",
    "$$m = 72697676798779827668$$\n",
    "\n",
    "There are other more cryptographically secure means for representing our\n",
    "message as an integer. The above process is used for demonstration\n",
    "purposes only and we strongly discourage its use in practice. In Sage,\n",
    "we can obtain an integer representation of our message as follows:"
   ]
  },
  {
   "cell_type": "code",
   "execution_count": null,
   "id": "174eb49f",
   "metadata": {},
   "outputs": [
    {
     "data": {
      "text/plain": [
       "[72, 69, 76, 76, 79, 87, 79, 82, 76, 68]"
      ]
     },
     "execution_count": 1,
     "metadata": {},
     "output_type": "execute_result"
    }
   ],
   "source": [
    "m = \"HELLOWORLD\"\n",
    "m = [ord(x) for x in m]; m"
   ]
  },
  {
   "cell_type": "code",
   "execution_count": null,
   "id": "9cef2974",
   "metadata": {},
   "outputs": [
    {
     "data": {
      "text/plain": [
       "72697676798779827668"
      ]
     },
     "execution_count": 1,
     "metadata": {},
     "output_type": "execute_result"
    }
   ],
   "source": [
    "m = ZZ(list(reversed(m)), 100) ; m"
   ]
  },
  {
   "cell_type": "markdown",
   "id": "54f67479",
   "metadata": {},
   "source": [
    "To encrypt our message, we raise $m$ to the power of $e$ and reduce the\n",
    "result modulo $n$. The command `mod(a^b, n)` first computes `a^b` and\n",
    "then reduces the result modulo `n`. If the exponent `b` is a \"large\"\n",
    "integer, say with more than 20 digits, then performing modular\n",
    "exponentiation in this naive manner takes quite some time. Brute force\n",
    "(or naive) modular exponentiation is inefficient and, when performed\n",
    "using a computer, can quickly consume a huge quantity of the computer's\n",
    "memory or result in overflow messages. For instance, if we perform naive\n",
    "modular exponentiation using the command `mod(m^e, n)`, where `m`, `n`\n",
    "and `e` are as given above, we would get an error message similar to the\n",
    "following:"
   ]
  },
  {
   "cell_type": "code",
   "execution_count": null,
   "id": "9f2a344e",
   "metadata": {},
   "outputs": [],
   "source": [
    "mod(m^e, n)\n",
    "Traceback (most recent call last)\n",
    "...<ipython console> in <module>()\n",
    ".../sage/rings/integer.so\n",
    "in sage.rings.integer.Integer.__pow__ (sage/rings/integer.c:9650)()\n",
    "RuntimeError: exponent must be at most 2147483647"
   ]
  },
  {
   "cell_type": "markdown",
   "id": "5481325d",
   "metadata": {},
   "source": [
    "There is a trick to efficiently perform modular exponentiation, called\n",
    "the method of repeated squaring, cf. page 879 of\n",
    "<a href=\"#CormenEtAl2001\" class=\"citation\">[CormenEtAl2001]</a>. Suppose\n",
    "we want to compute $a^b \\mod n$. First, let $d \\mathrel{\\mathop:}= 1$\n",
    "and obtain the binary representation of $b$, say\n",
    "$(b_1, b_2, \\dots, b_k)$ where each $b_i \\in \\ZZ/2\\ZZ$. For\n",
    "$i \\mathrel{\\mathop:}= 1, \\dots, k$, let\n",
    "$d \\mathrel{\\mathop:}= d^2 \\mod n$ and if $b_i = 1$ then let\n",
    "$d \\mathrel{\\mathop:}= da \\mod n$. This algorithm is implemented in the\n",
    "function `power_mod`. We now use the function `power_mod` to encrypt our\n",
    "message:"
   ]
  },
  {
   "cell_type": "code",
   "execution_count": null,
   "id": "f3ded74a",
   "metadata": {},
   "outputs": [
    {
     "data": {
      "text/plain": [
       "630913632577520058415521090"
      ]
     },
     "execution_count": 1,
     "metadata": {},
     "output_type": "execute_result"
    }
   ],
   "source": [
    "m = 72697676798779827668\n",
    "e = 1850567623300615966303954877\n",
    "n = 4951760154835678088235319297\n",
    "c = power_mod(m, e, n); c"
   ]
  },
  {
   "cell_type": "markdown",
   "id": "c3b537f3",
   "metadata": {},
   "source": [
    "Thus $c = 630913632577520058415521090$ is the ciphertext. To recover our\n",
    "plaintext, we raise `c` to the power of `d` and reduce the result modulo\n",
    "`n`. Again, we use modular exponentiation via repeated squaring in the\n",
    "decryption process:"
   ]
  },
  {
   "cell_type": "code",
   "execution_count": null,
   "id": "33c60b48",
   "metadata": {},
   "outputs": [
    {
     "data": {
      "text/plain": [
       "72697676798779827668"
      ]
     },
     "execution_count": 1,
     "metadata": {},
     "output_type": "execute_result"
    }
   ],
   "source": [
    "m = 72697676798779827668\n",
    "c = 630913632577520058415521090\n",
    "d = 4460824882019967172592779313\n",
    "n = 4951760154835678088235319297\n",
    "power_mod(c, d, n)"
   ]
  },
  {
   "cell_type": "code",
   "execution_count": null,
   "id": "e30df875",
   "metadata": {},
   "outputs": [
    {
     "data": {
      "text/plain": [
       "True"
      ]
     },
     "execution_count": 1,
     "metadata": {},
     "output_type": "execute_result"
    }
   ],
   "source": [
    "power_mod(c, d, n) == m"
   ]
  },
  {
   "cell_type": "markdown",
   "id": "3ca3c8a6",
   "metadata": {},
   "source": [
    "Notice in the last output that the value 72697676798779827668 is the\n",
    "same as the integer that represents our original message. Hence we have\n",
    "recovered our plaintext.\n",
    "\n",
    "## Acknowledgements\n",
    "\n",
    "1.  2009-07-25: Ron Evans (Department of Mathematics, UCSD) reported a\n",
    "    typo in the definition of greatest common divisors. The revised\n",
    "    definition incorporates his suggestions.\n",
    "2.  2008-11-04: Martin Albrecht (Information Security Group, Royal\n",
    "    Holloway, University of London), John Cremona (Mathematics\n",
    "    Institute, University of Warwick) and William Stein (Department of\n",
    "    Mathematics, University of Washington) reviewed this tutorial. Many\n",
    "    of their invaluable suggestions have been incorporated into this\n",
    "    document.\n",
    "\n",
    "## Bibliography\n",
    "\n",
    "<span id=\"CormenEtAl2001\" class=\"citation-label\">CormenEtAl2001</span>  \n",
    "T. H. Cormen, C. E. Leiserson, R. L. Rivest, and C. Stein. *Introduction\n",
    "to Algorithms*. The MIT Press, USA, 2nd edition, 2001.\n",
    "\n",
    "<span id=\"MenezesEtAl1996\" class=\"citation-label\">MenezesEtAl1996</span>  \n",
    "A. J. Menezes, P. C. van Oorschot, and S. A. Vanstone. *Handbook of\n",
    "Applied Cryptography*. CRC Press, Boca Raton, FL, USA, 1996.\n",
    "\n",
    "<span id=\"Stinson2006\" class=\"citation-label\">Stinson2006</span>  \n",
    "D. R. Stinson. *Cryptography: Theory and Practice*. Chapman & Hall/CRC,\n",
    "Boca Raton, USA, 3rd edition, 2006.\n",
    "\n",
    "<span id=\"TrappeWashington2006\" class=\"citation-label\">TrappeWashington2006</span>  \n",
    "W. Trappe and L. C. Washington. *Introduction to Cryptography with\n",
    "Coding Theory*. Pearson Prentice Hall, Upper Saddle River, New Jersey,\n",
    "USA, 2nd edition, 2006."
   ]
  }
 ],
 "metadata": {},
 "nbformat": 4,
 "nbformat_minor": 5
}
