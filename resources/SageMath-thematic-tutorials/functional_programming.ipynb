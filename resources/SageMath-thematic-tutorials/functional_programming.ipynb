{
 "cells": [
  {
   "cell_type": "markdown",
   "id": "0c98a035",
   "metadata": {},
   "source": [
    "$$\n",
    "\\def\\CC{\\bf C}\n",
    "\\def\\QQ{\\bf Q}\n",
    "\\def\\RR{\\bf R}\n",
    "\\def\\ZZ{\\bf Z}\n",
    "\\def\\NN{\\bf N}\n",
    "$$\n",
    "# Functional Programming for Mathematicians\n",
    "\n",
    "Minh Van Nguyen \\<<nguyenminh2@gmail.com>\\>\n",
    "\n",
    "This tutorial discusses some techniques of functional programming that\n",
    "might be of interest to mathematicians or people who use Python for\n",
    "scientific computation. We start off with a brief overview of procedural\n",
    "and object-oriented programming, and then discuss functional programming\n",
    "techniques. Along the way, we briefly review Python's built-in support\n",
    "for functional programming, including\n",
    "[filter](http://docs.python.org/library/functions.html#filter),\n",
    "[lambda](http://docs.python.org/reference/expressions.html#lambda),\n",
    "[map](http://docs.python.org/library/functions.html#map) and\n",
    "[reduce](http://docs.python.org/library/functions.html#reduce). The\n",
    "tutorial concludes with some resources on detailed information on\n",
    "functional programming using Python.\n",
    "\n",
    "## Styles of programming\n",
    "\n",
    "Python supports several styles of programming. You could program in the\n",
    "procedural style by writing a program as a list of instructions. Say you\n",
    "want to implement addition and multiplication over the integers. A\n",
    "procedural program to do so would be as follows:"
   ]
  },
  {
   "cell_type": "code",
   "execution_count": null,
   "id": "8ce455f4",
   "metadata": {},
   "outputs": [
    {
     "data": {
      "text/plain": [
       "5"
      ]
     },
     "execution_count": 1,
     "metadata": {},
     "output_type": "execute_result"
    }
   ],
   "source": [
    "def add_ZZ(a, b):\n",
    "    return a + b\n",
    "def mult_ZZ(a, b):\n",
    "    return a * b\n",
    "add_ZZ(2, 3)"
   ]
  },
  {
   "cell_type": "code",
   "execution_count": null,
   "id": "94478fc7",
   "metadata": {},
   "outputs": [
    {
     "data": {
      "text/plain": [
       "6"
      ]
     },
     "execution_count": 1,
     "metadata": {},
     "output_type": "execute_result"
    }
   ],
   "source": [
    "mult_ZZ(2, 3)"
   ]
  },
  {
   "cell_type": "markdown",
   "id": "4549b972",
   "metadata": {},
   "source": [
    "The Python module\n",
    "[operator](http://docs.python.org/library/operator.html) defines several\n",
    "common arithmetic and comparison operators as named functions. Addition\n",
    "is defined in the built-in function `operator.add` and multiplication is\n",
    "defined in `operator.mul`. The above example can be worked through as\n",
    "follows:"
   ]
  },
  {
   "cell_type": "code",
   "execution_count": null,
   "id": "b1d85506",
   "metadata": {},
   "outputs": [
    {
     "data": {
      "text/plain": [
       "5"
      ]
     },
     "execution_count": 1,
     "metadata": {},
     "output_type": "execute_result"
    }
   ],
   "source": [
    "from operator import add\n",
    "from operator import mul\n",
    "add(2, 3)"
   ]
  },
  {
   "cell_type": "code",
   "execution_count": null,
   "id": "9c8e4cb4",
   "metadata": {},
   "outputs": [
    {
     "data": {
      "text/plain": [
       "6"
      ]
     },
     "execution_count": 1,
     "metadata": {},
     "output_type": "execute_result"
    }
   ],
   "source": [
    "mul(2, 3)"
   ]
  },
  {
   "cell_type": "markdown",
   "id": "1c60e796",
   "metadata": {},
   "source": [
    "Another common style of programming is called object-oriented\n",
    "programming. Think of an object as code that encapsulates both data and\n",
    "functionalities. You could encapsulate integer addition and\n",
    "multiplication as in the following object-oriented implementation:"
   ]
  },
  {
   "cell_type": "code",
   "execution_count": null,
   "id": "c755226e",
   "metadata": {},
   "outputs": [
    {
     "data": {
      "text/plain": [
       "'infinite'"
      ]
     },
     "execution_count": 1,
     "metadata": {},
     "output_type": "execute_result"
    }
   ],
   "source": [
    "class MyInteger:\n",
    "    def __init__(self):\n",
    "        self.cardinality = \"infinite\"\n",
    "    def add(self, a, b):\n",
    "        return a + b\n",
    "    def mult(self, a, b):\n",
    "        return a * b\n",
    "myZZ = MyInteger()\n",
    "myZZ.cardinality"
   ]
  },
  {
   "cell_type": "code",
   "execution_count": null,
   "id": "8cb4fbcf",
   "metadata": {},
   "outputs": [
    {
     "data": {
      "text/plain": [
       "5"
      ]
     },
     "execution_count": 1,
     "metadata": {},
     "output_type": "execute_result"
    }
   ],
   "source": [
    "myZZ.add(2, 3)"
   ]
  },
  {
   "cell_type": "code",
   "execution_count": null,
   "id": "77c25516",
   "metadata": {},
   "outputs": [
    {
     "data": {
      "text/plain": [
       "6"
      ]
     },
     "execution_count": 1,
     "metadata": {},
     "output_type": "execute_result"
    }
   ],
   "source": [
    "myZZ.mult(2, 3)"
   ]
  },
  {
   "cell_type": "markdown",
   "id": "05a9ffa3",
   "metadata": {},
   "source": [
    "## Functional programming using map\n",
    "\n",
    "Functional programming is yet another style of programming in which a\n",
    "program is decomposed into various functions. The Python built-in\n",
    "functions `map`, `reduce` and `filter` allow you to program in the\n",
    "functional style. Note that in Python 3 (as compared to Python 2), these\n",
    "functions have different behaviors, and `reduce` has been removed: if\n",
    "you want to use `reduce` in Python 3, you must import it from\n",
    "`functools`.\n",
    "\n",
    "The function :"
   ]
  },
  {
   "cell_type": "code",
   "execution_count": null,
   "id": "60c531c9",
   "metadata": {},
   "outputs": [],
   "source": [
    "map(func, seq1, seq2, ...)"
   ]
  },
  {
   "cell_type": "markdown",
   "id": "adf09f0a",
   "metadata": {},
   "source": [
    "takes a function `func` and one or more sequences, and apply `func` to\n",
    "elements of those sequences. In particular, you end up with a list like\n",
    "so:"
   ]
  },
  {
   "cell_type": "code",
   "execution_count": null,
   "id": "108f6858",
   "metadata": {},
   "outputs": [],
   "source": [
    "[func(seq1[0], seq2[0], ...), func(seq1[1], seq2[1], ...), ...]"
   ]
  },
  {
   "cell_type": "markdown",
   "id": "d4203e9e",
   "metadata": {},
   "source": [
    "In many cases, using `map` allows you to express the logic of your\n",
    "program in a concise manner without using list comprehension. For\n",
    "example, say you have two lists of integers and you want to add them\n",
    "element-wise. A list comprehension to accomplish this would be as\n",
    "follows:"
   ]
  },
  {
   "cell_type": "code",
   "execution_count": null,
   "id": "6e45a546",
   "metadata": {},
   "outputs": [
    {
     "data": {
      "text/plain": [
       "[3, 5, 8, 11]"
      ]
     },
     "execution_count": 1,
     "metadata": {},
     "output_type": "execute_result"
    }
   ],
   "source": [
    "A = [1, 2, 3, 4]\n",
    "B = [2, 3, 5, 7]\n",
    "[A[i] + B[i] for i in range(len(A))]"
   ]
  },
  {
   "cell_type": "markdown",
   "id": "6a88425c",
   "metadata": {},
   "source": [
    "Alternatively, you could use the Python built-in addition function\n",
    "`operator.add` together with `map` to achieve the same result:"
   ]
  },
  {
   "cell_type": "code",
   "execution_count": null,
   "id": "9abdaad8",
   "metadata": {},
   "outputs": [
    {
     "data": {
      "text/plain": [
       "[3, 5, 8, 11]"
      ]
     },
     "execution_count": 1,
     "metadata": {},
     "output_type": "execute_result"
    }
   ],
   "source": [
    "from operator import add\n",
    "A = [1, 2, 3, 4]\n",
    "B = [2, 3, 5, 7]\n",
    "list(map(add, A, B))"
   ]
  },
  {
   "cell_type": "markdown",
   "id": "12442df1",
   "metadata": {},
   "source": [
    "An advantage of `map` is that you do not need to explicitly define a for\n",
    "loop as was done in the above list comprehension.\n",
    "\n",
    "## Define small functions using lambda\n",
    "\n",
    "There are times when you want to write a short, one-liner function. You\n",
    "could re-write the above addition function as follows:"
   ]
  },
  {
   "cell_type": "code",
   "execution_count": null,
   "id": "0173094d",
   "metadata": {},
   "outputs": [],
   "source": [
    "def add_ZZ(a, b): return a + b"
   ]
  },
  {
   "cell_type": "markdown",
   "id": "4a216e26",
   "metadata": {},
   "source": [
    "Or you could use a `lambda` statement to do the same thing in a much\n",
    "clearer style. The above addition and multiplication functions could be\n",
    "written using `lambda` as follows:"
   ]
  },
  {
   "cell_type": "code",
   "execution_count": null,
   "id": "72a32e10",
   "metadata": {},
   "outputs": [
    {
     "data": {
      "text/plain": [
       "5"
      ]
     },
     "execution_count": 1,
     "metadata": {},
     "output_type": "execute_result"
    }
   ],
   "source": [
    "add_ZZ = lambda a, b: a + b\n",
    "mult_ZZ = lambda a, b: a * b\n",
    "add_ZZ(2, 3)"
   ]
  },
  {
   "cell_type": "code",
   "execution_count": null,
   "id": "dd7df8c8",
   "metadata": {},
   "outputs": [
    {
     "data": {
      "text/plain": [
       "6"
      ]
     },
     "execution_count": 1,
     "metadata": {},
     "output_type": "execute_result"
    }
   ],
   "source": [
    "mult_ZZ(2, 3)"
   ]
  },
  {
   "cell_type": "markdown",
   "id": "cad9bdd7",
   "metadata": {},
   "source": [
    "Things get more interesting once you combine `map` with the `lambda`\n",
    "statement. As an exercise, you might try to write a simple function that\n",
    "implements a constructive algorithm for the [Chinese Remainder\n",
    "Theorem](http://en.wikipedia.org/wiki/Chinese_remainder_theorem). You\n",
    "could use list comprehension together with `map` and `lambda` as shown\n",
    "below. Here, the parameter `A` is a list of integers and `M` is a list\n",
    "of moduli. :"
   ]
  },
  {
   "cell_type": "code",
   "execution_count": null,
   "id": "c5600edb",
   "metadata": {},
   "outputs": [
    {
     "data": {
      "text/plain": [
       "11"
      ]
     },
     "execution_count": 1,
     "metadata": {},
     "output_type": "execute_result"
    }
   ],
   "source": [
    "def crt(A, M):\n",
    "    Mprod = prod(M)\n",
    "    Mdiv = list(map(lambda x: Integer(Mprod / x), M))\n",
    "    X = list(map(inverse_mod, Mdiv, M))\n",
    "    x = sum([A[i]*X[i]*Mdiv[i] for i in range(len(A))])\n",
    "    return mod(x, Mprod).lift()\n",
    "A = [2, 3, 1]\n",
    "M = [3, 4, 5]\n",
    "x = crt(A, M); x"
   ]
  },
  {
   "cell_type": "code",
   "execution_count": null,
   "id": "4e8333dc",
   "metadata": {},
   "outputs": [
    {
     "data": {
      "text/plain": [
       "2"
      ]
     },
     "execution_count": 1,
     "metadata": {},
     "output_type": "execute_result"
    }
   ],
   "source": [
    "mod(x, 3)"
   ]
  },
  {
   "cell_type": "code",
   "execution_count": null,
   "id": "558ac6f4",
   "metadata": {},
   "outputs": [
    {
     "data": {
      "text/plain": [
       "3"
      ]
     },
     "execution_count": 1,
     "metadata": {},
     "output_type": "execute_result"
    }
   ],
   "source": [
    "mod(x, 4)"
   ]
  },
  {
   "cell_type": "code",
   "execution_count": null,
   "id": "88caea5d",
   "metadata": {},
   "outputs": [
    {
     "data": {
      "text/plain": [
       "1"
      ]
     },
     "execution_count": 1,
     "metadata": {},
     "output_type": "execute_result"
    }
   ],
   "source": [
    "mod(x, 5)"
   ]
  },
  {
   "cell_type": "markdown",
   "id": "0e30e58c",
   "metadata": {},
   "source": [
    "To produce a random matrix over a ring, say $\\ZZ$, you could start by\n",
    "defining a matrix space and then obtain a random element of that matrix\n",
    "space:"
   ]
  },
  {
   "cell_type": "code",
   "execution_count": null,
   "id": "91caf634",
   "metadata": {},
   "outputs": [
    {
     "data": {
      "text/plain": [
       "<BLANKLINE>\n",
       "[ 6  1  0]\n",
       "[-1  5  0]\n",
       "[-1  0  0]\n",
       "[-5  0  1]\n",
       "[ 1 -1 -3]"
      ]
     },
     "execution_count": 1,
     "metadata": {},
     "output_type": "execute_result"
    }
   ],
   "source": [
    "MS = MatrixSpace(ZZ, nrows=5, ncols=3)\n",
    "MS.random_element()  # random"
   ]
  },
  {
   "cell_type": "markdown",
   "id": "a142fd97",
   "metadata": {},
   "source": [
    "Or you could use the function `random_matrix` :"
   ]
  },
  {
   "cell_type": "code",
   "execution_count": null,
   "id": "91ca6a14",
   "metadata": {},
   "outputs": [
    {
     "data": {
      "text/plain": [
       "<BLANKLINE>\n",
       "[  2 -50   0]\n",
       "[ -1   0  -6]\n",
       "[ -4  -1  -1]\n",
       "[  1   1   3]\n",
       "[  2  -1  -1]"
      ]
     },
     "execution_count": 1,
     "metadata": {},
     "output_type": "execute_result"
    }
   ],
   "source": [
    "random_matrix(ZZ, nrows=5, ncols=3)  # random"
   ]
  },
  {
   "cell_type": "markdown",
   "id": "2d42f98d",
   "metadata": {},
   "source": [
    "The next example uses `map` to construct a list of random integer\n",
    "matrices:"
   ]
  },
  {
   "cell_type": "code",
   "execution_count": null,
   "id": "197ea07b",
   "metadata": {},
   "outputs": [
    {
     "data": {
      "text/plain": [
       "<BLANKLINE>\n",
       "[ -1  -3  -1 -37   1  -1  -4   5]\n",
       "[  2   1   1   5   2   1  -2   1]\n",
       "[ -1   0  -4   0  -2   1  -2   1]"
      ]
     },
     "execution_count": 1,
     "metadata": {},
     "output_type": "execute_result"
    }
   ],
   "source": [
    "rows = [randint(1, 10) for i in range(10)]\n",
    "cols = [randint(1, 10) for i in range(10)]\n",
    "rings = [ZZ]*10\n",
    "M = list(map(random_matrix, rings, rows, cols))\n",
    "M[0]  # random"
   ]
  },
  {
   "cell_type": "markdown",
   "id": "617241b5",
   "metadata": {},
   "source": [
    "If you want more control over the entries of your matrices than the\n",
    "`random_matrix` function permits, you could use `lambda` together with\n",
    "`map` as follows:"
   ]
  },
  {
   "cell_type": "code",
   "execution_count": null,
   "id": "0d867366",
   "metadata": {},
   "outputs": [
    {
     "data": {
      "text/plain": [
       "<BLANKLINE>\n",
       "[ 2  9 10]\n",
       "[ 8  8  9]\n",
       "[ 6  7  6]\n",
       "[ 9  2 10]\n",
       "[ 2  6  2]"
      ]
     },
     "execution_count": 1,
     "metadata": {},
     "output_type": "execute_result"
    }
   ],
   "source": [
    "rand_row = lambda n: [randint(1, 10) for i in range(n)]\n",
    "rand_mat = lambda nrows, ncols: [rand_row(ncols) for i in range(nrows)]\n",
    "matrix(rand_mat(5, 3))  # random"
   ]
  },
  {
   "cell_type": "code",
   "execution_count": null,
   "id": "cebe4a29",
   "metadata": {},
   "outputs": [
    {
     "data": {
      "text/plain": [
       "<BLANKLINE>\n",
       "[ 9  1  5  2 10 10  1]\n",
       "[ 3  4  3  7  4  3  7]\n",
       "[ 4  8  7  6  4  2 10]\n",
       "[ 1  6  3  3  6  2  1]\n",
       "[ 5  5  2  6  4  3  4]\n",
       "[ 6  6  2  9  4  5  1]\n",
       "[10  2  5  5  7 10  4]\n",
       "[ 2  7  3  5 10  8  1]\n",
       "[ 1  5  1  7  8  8  6]"
      ]
     },
     "execution_count": 1,
     "metadata": {},
     "output_type": "execute_result"
    }
   ],
   "source": [
    "rows = [randint(1, 10) for i in range(10)]\n",
    "cols = [randint(1, 10) for i in range(10)]\n",
    "M = list(map(rand_mat, rows, cols))\n",
    "M = list(map(matrix, M))\n",
    "M[0]  # random"
   ]
  },
  {
   "cell_type": "markdown",
   "id": "08a4b181",
   "metadata": {},
   "source": [
    "## Reducing a sequence to a value\n",
    "\n",
    "The function `reduce` takes a function of two arguments and apply it to\n",
    "a given sequence to reduce that sequence to a single value. The function\n",
    "[sum](http://docs.python.org/library/functions.html#sum) is an example\n",
    "of a `reduce` function. The following sample code uses `reduce` and the\n",
    "built-in function `operator.add` to add together all integers in a given\n",
    "list. This is followed by using `sum` to accomplish the same task:"
   ]
  },
  {
   "cell_type": "code",
   "execution_count": null,
   "id": "9e6231db",
   "metadata": {},
   "outputs": [
    {
     "data": {
      "text/plain": [
       "55"
      ]
     },
     "execution_count": 1,
     "metadata": {},
     "output_type": "execute_result"
    }
   ],
   "source": [
    "from functools import reduce\n",
    "from operator import add\n",
    "L = [1, 2, 3, 4, 5, 6, 7, 8, 9, 10]\n",
    "reduce(add, L)"
   ]
  },
  {
   "cell_type": "code",
   "execution_count": null,
   "id": "c579d2b4",
   "metadata": {},
   "outputs": [
    {
     "data": {
      "text/plain": [
       "55"
      ]
     },
     "execution_count": 1,
     "metadata": {},
     "output_type": "execute_result"
    }
   ],
   "source": [
    "sum(L)"
   ]
  },
  {
   "cell_type": "markdown",
   "id": "656f801e",
   "metadata": {},
   "source": [
    "In the following sample code, we consider a vector as a list of real\n",
    "numbers. The [dot product](http://en.wikipedia.org/wiki/Dot_product) is\n",
    "then implemented using the functions `operator.add` and `operator.mul`,\n",
    "in conjunction with the built-in Python functions `reduce` and `map`. We\n",
    "then show how `sum` and `map` could be combined to produce the same\n",
    "result. :"
   ]
  },
  {
   "cell_type": "code",
   "execution_count": null,
   "id": "84224006",
   "metadata": {},
   "outputs": [
    {
     "data": {
      "text/plain": [
       "23"
      ]
     },
     "execution_count": 1,
     "metadata": {},
     "output_type": "execute_result"
    }
   ],
   "source": [
    "from functools import reduce\n",
    "from operator import add\n",
    "from operator import mul\n",
    "U = [1, 2, 3]\n",
    "V = [2, 3, 5]\n",
    "reduce(add, map(mul, U, V))"
   ]
  },
  {
   "cell_type": "code",
   "execution_count": null,
   "id": "d3b37b55",
   "metadata": {},
   "outputs": [
    {
     "data": {
      "text/plain": [
       "23"
      ]
     },
     "execution_count": 1,
     "metadata": {},
     "output_type": "execute_result"
    }
   ],
   "source": [
    "sum(map(mul, U, V))"
   ]
  },
  {
   "cell_type": "markdown",
   "id": "a024c60c",
   "metadata": {},
   "source": [
    "Or you could use Sage's built-in support for the dot product:"
   ]
  },
  {
   "cell_type": "code",
   "execution_count": null,
   "id": "c0d9240b",
   "metadata": {},
   "outputs": [
    {
     "data": {
      "text/plain": [
       "23"
      ]
     },
     "execution_count": 1,
     "metadata": {},
     "output_type": "execute_result"
    }
   ],
   "source": [
    "u = vector([1, 2, 3])\n",
    "v = vector([2, 3, 5])\n",
    "u.dot_product(v)"
   ]
  },
  {
   "cell_type": "markdown",
   "id": "032b03bd",
   "metadata": {},
   "source": [
    "Here is an implementation of the Chinese Remainder Theorem without using\n",
    "`sum` as was done previously. The version below uses `operator.add` and\n",
    "defines `mul3` to multiply three numbers instead of two. :"
   ]
  },
  {
   "cell_type": "code",
   "execution_count": null,
   "id": "16ab11a8",
   "metadata": {},
   "outputs": [
    {
     "data": {
      "text/plain": [
       "11"
      ]
     },
     "execution_count": 1,
     "metadata": {},
     "output_type": "execute_result"
    }
   ],
   "source": [
    "from functools import reduce\n",
    "def crt(A, M):\n",
    "    from operator import add\n",
    "    Mprod = prod(M)\n",
    "    Mdiv = list(map(lambda x: Integer(Mprod / x), M))\n",
    "    X = map(inverse_mod, Mdiv, M)\n",
    "    mul3 = lambda a, b, c: a * b * c\n",
    "    x = reduce(add, map(mul3, A, X, Mdiv))\n",
    "    return mod(x, Mprod).lift()\n",
    "A = [2, 3, 1]\n",
    "M = [3, 4, 5]\n",
    "x = crt(A, M); x"
   ]
  },
  {
   "cell_type": "markdown",
   "id": "7b9c502f",
   "metadata": {},
   "source": [
    "## Filtering with filter\n",
    "\n",
    "The Python built-in function `filter` takes a function of one argument\n",
    "and a sequence. It then returns a list of all those items from the given\n",
    "sequence such that any item in the new list results in the given\n",
    "function returning `True`. In a sense, you are filtering out all items\n",
    "that satisfy some condition(s) defined in the given function. For\n",
    "example, you could use `filter` to filter out all primes between 1 and\n",
    "50, inclusive. :"
   ]
  },
  {
   "cell_type": "code",
   "execution_count": null,
   "id": "c578e050",
   "metadata": {},
   "outputs": [
    {
     "data": {
      "text/plain": [
       "[2, 3, 5, 7, 11, 13, 17, 19, 23, 29, 31, 37, 41, 43, 47]"
      ]
     },
     "execution_count": 1,
     "metadata": {},
     "output_type": "execute_result"
    }
   ],
   "source": [
    "list(filter(is_prime, [1..50]))"
   ]
  },
  {
   "cell_type": "markdown",
   "id": "bbe19257",
   "metadata": {},
   "source": [
    "For a given positive integer $n$, the [Euler phi\n",
    "function](http://en.wikipedia.org/wiki/Euler%27s_totient_function)\n",
    "counts the number of integers $a$, with $1 \\leq a \\leq n$, such that\n",
    "$\\gcd(a, n) = 1$. You could use list comprehension to obtain all such\n",
    "$a$'s when $n = 20$ :"
   ]
  },
  {
   "cell_type": "code",
   "execution_count": null,
   "id": "ce7d6a96",
   "metadata": {},
   "outputs": [
    {
     "data": {
      "text/plain": [
       "[1, 3, 7, 9, 11, 13, 17, 19]"
      ]
     },
     "execution_count": 1,
     "metadata": {},
     "output_type": "execute_result"
    }
   ],
   "source": [
    "[k for k in range(1, 21) if gcd(k, 20) == 1]"
   ]
  },
  {
   "cell_type": "markdown",
   "id": "c75c1d9d",
   "metadata": {},
   "source": [
    "A functional approach is to use `lambda` to define a function that\n",
    "determines whether or not a given integer is relatively prime to 20.\n",
    "Then you could use `filter` instead of list comprehension to obtain all\n",
    "the required $a$'s. :"
   ]
  },
  {
   "cell_type": "code",
   "execution_count": null,
   "id": "e6136ade",
   "metadata": {},
   "outputs": [
    {
     "data": {
      "text/plain": [
       "[1, 3, 7, 9, 11, 13, 17, 19]"
      ]
     },
     "execution_count": 1,
     "metadata": {},
     "output_type": "execute_result"
    }
   ],
   "source": [
    "is_coprime = lambda k: gcd(k, 20) == 1\n",
    "list(filter(is_coprime, range(1, 21)))"
   ]
  },
  {
   "cell_type": "markdown",
   "id": "fc95cecf",
   "metadata": {},
   "source": [
    "The function `primroots` defined below returns all primitive roots\n",
    "modulo a given positive prime integer $p$. It uses `filter` to obtain a\n",
    "list of integers between $1$ and $p - 1$, inclusive, each integer in the\n",
    "list being relatively prime to the order of the multiplicative group\n",
    "$(\\ZZ/p\\ZZ)^{\\ast}$. :"
   ]
  },
  {
   "cell_type": "code",
   "execution_count": null,
   "id": "02f44a78",
   "metadata": {},
   "outputs": [
    {
     "data": {
      "text/plain": [
       "[2]"
      ]
     },
     "execution_count": 1,
     "metadata": {},
     "output_type": "execute_result"
    }
   ],
   "source": [
    "def primroots(p):\n",
    "    g = primitive_root(p)\n",
    "    znorder = p - 1\n",
    "    is_coprime = lambda x: gcd(x, znorder) == 1\n",
    "    good_odd_integers = filter(is_coprime, [1..p-1, step=2])\n",
    "    all_primroots = [power_mod(g, k, p) for k in good_odd_integers]\n",
    "    all_primroots.sort()\n",
    "    return all_primroots\n",
    "primroots(3)"
   ]
  },
  {
   "cell_type": "code",
   "execution_count": null,
   "id": "1003ce11",
   "metadata": {},
   "outputs": [
    {
     "data": {
      "text/plain": [
       "[2, 3]"
      ]
     },
     "execution_count": 1,
     "metadata": {},
     "output_type": "execute_result"
    }
   ],
   "source": [
    "primroots(5)"
   ]
  },
  {
   "cell_type": "code",
   "execution_count": null,
   "id": "0efa5d57",
   "metadata": {},
   "outputs": [
    {
     "data": {
      "text/plain": [
       "[3, 5]"
      ]
     },
     "execution_count": 1,
     "metadata": {},
     "output_type": "execute_result"
    }
   ],
   "source": [
    "primroots(7)"
   ]
  },
  {
   "cell_type": "code",
   "execution_count": null,
   "id": "895a9264",
   "metadata": {},
   "outputs": [
    {
     "data": {
      "text/plain": [
       "[2, 6, 7, 8]"
      ]
     },
     "execution_count": 1,
     "metadata": {},
     "output_type": "execute_result"
    }
   ],
   "source": [
    "primroots(11)"
   ]
  },
  {
   "cell_type": "code",
   "execution_count": null,
   "id": "4dcbc1fd",
   "metadata": {},
   "outputs": [
    {
     "data": {
      "text/plain": [
       "[2, 6, 7, 11]"
      ]
     },
     "execution_count": 1,
     "metadata": {},
     "output_type": "execute_result"
    }
   ],
   "source": [
    "primroots(13)"
   ]
  },
  {
   "cell_type": "code",
   "execution_count": null,
   "id": "2e89a9d5",
   "metadata": {},
   "outputs": [
    {
     "data": {
      "text/plain": [
       "[3, 5, 6, 7, 10, 11, 12, 14]"
      ]
     },
     "execution_count": 1,
     "metadata": {},
     "output_type": "execute_result"
    }
   ],
   "source": [
    "primroots(17)"
   ]
  },
  {
   "cell_type": "code",
   "execution_count": null,
   "id": "065f01f2",
   "metadata": {},
   "outputs": [
    {
     "data": {
      "text/plain": [
       "[5, 7, 10, 11, 14, 15, 17, 19, 20, 21]"
      ]
     },
     "execution_count": 1,
     "metadata": {},
     "output_type": "execute_result"
    }
   ],
   "source": [
    "primroots(23)"
   ]
  },
  {
   "cell_type": "code",
   "execution_count": null,
   "id": "030f72f9",
   "metadata": {},
   "outputs": [
    {
     "data": {
      "text/plain": [
       "[2, 3, 8, 10, 11, 14, 15, 18, 19, 21, 26, 27]"
      ]
     },
     "execution_count": 1,
     "metadata": {},
     "output_type": "execute_result"
    }
   ],
   "source": [
    "primroots(29)"
   ]
  },
  {
   "cell_type": "code",
   "execution_count": null,
   "id": "b4e9eda3",
   "metadata": {},
   "outputs": [
    {
     "data": {
      "text/plain": [
       "[3, 11, 12, 13, 17, 21, 22, 24]"
      ]
     },
     "execution_count": 1,
     "metadata": {},
     "output_type": "execute_result"
    }
   ],
   "source": [
    "primroots(31)"
   ]
  },
  {
   "cell_type": "markdown",
   "id": "e4c5e2f2",
   "metadata": {},
   "source": [
    "## Further resources\n",
    "\n",
    "This has been a rather short tutorial to functional programming with\n",
    "Python. The Python standard documentation has a list of built-in\n",
    "functions, many of which are useful in functional programming. For\n",
    "example, you might want to read up on\n",
    "[all](http://docs.python.org/library/functions.html#all),\n",
    "[any](http://docs.python.org/library/functions.html#any),\n",
    "[max](http://docs.python.org/library/functions.html#max),\n",
    "[min](http://docs.python.org/library/functions.html#min), and\n",
    "[zip](http://docs.python.org/library/functions.html#zip). The Python\n",
    "module [operator](http://docs.python.org/library/operator.html) has\n",
    "numerous built-in arithmetic and comparison operators, each operator\n",
    "being implemented as a function whose name reflects its intended\n",
    "purpose. For arithmetic and comparison operations, it is recommended\n",
    "that you consult the `operator` module to determine if there is a\n",
    "built-in function that satisfies your requirement. The module\n",
    "[itertools](http://docs.python.org/library/itertools.html) has numerous\n",
    "built-in functions to efficiently process sequences of items.\n",
    "\n",
    "Another useful resource for functional programming in Python is the\n",
    "[Functional Programming\n",
    "HOWTO](http://docs.python.org/howto/functional.html) by A. M. Kuchling.\n",
    "Steven F. Lott's book [Building Skills in\n",
    "Python](http://homepage.mac.com/s_lott/books/python.html#book-python)\n",
    "has a chapter on [Functional Programming using\n",
    "Collections](http://homepage.mac.com/s_lott/books/python/html/p02/p02c10_adv_seq.html).\n",
    "See also the chapter [Functional\n",
    "Programming](http://www.diveintopython.net/functional_programming/index.html)\n",
    "from Mark Pilgrim's book [Dive Into\n",
    "Python](http://www.diveintopython.net/).\n",
    "\n",
    "You might also want to consider experimenting with\n",
    "[Haskell](http://www.haskell.org) for expressing mathematical concepts.\n",
    "For an example of Haskell in expressing mathematical algorithms, see J.\n",
    "Gibbons' article [Unbounded Spigot Algorithms for the Digits of\n",
    "Pi](http://www.maa.org/pubs/monthly_apr06_toc.html) in the American\n",
    "Mathematical Monthly."
   ]
  }
 ],
 "metadata": {},
 "nbformat": 4,
 "nbformat_minor": 5
}
