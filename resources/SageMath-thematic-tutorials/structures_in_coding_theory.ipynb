{
 "cells": [
  {
   "cell_type": "markdown",
   "id": "93fb8204",
   "metadata": {},
   "source": [
    "$$\n",
    "\\def\\CC{\\bf C}\n",
    "\\def\\QQ{\\bf Q}\n",
    "\\def\\RR{\\bf R}\n",
    "\\def\\ZZ{\\bf Z}\n",
    "\\def\\NN{\\bf N}\n",
    "$$\n",
    "# How to write your own classes for coding theory\n",
    "\n",
    "David Lucas (2016) for initial version. Marketa Slukova (2019) for this\n",
    "version.\n",
    "\n",
    "This tutorial, designed for advanced users who want to build their own\n",
    "classes, will explain step by step what you need to do to write code\n",
    "which integrates well in the framework of coding theory. During this\n",
    "tutorial, we will cover the following parts:\n",
    "\n",
    "-   how to write a new **code family**\n",
    "-   how to write a new **encoder**\n",
    "-   how to write a new **decoder**\n",
    "-   how to write a new **channel**\n",
    "\n",
    "This tutorial focuses on the example of implementation of the repetition\n",
    "code. At the end of each part, we will summarize every important step of\n",
    "the implementation. If one just wants a quick access to the\n",
    "implementation of one of the objects cited above, one can jump directly\n",
    "to the end of related part, which presents a summary of what to do.\n",
    "\n",
    "Table of contents\n",
    "\n",
    "## I. Abstract classes\n",
    "\n",
    "There is a number of abstract classes representing different types of\n",
    "codes in the coding module of Sage. Depending on the type of code you\n",
    "want to implement, you should inherit from different abstract classes.\n",
    "\n",
    "The most generic class is `sage.coding.abstract_code:AbstractCode`. This\n",
    "class makes no assumptions about linearity, metric, finiteness or the\n",
    "number of alphabets. The abstract notion of \"code\" that is implicitly\n",
    "used for this class is any enumerable subset of a cartesian product\n",
    "$A_1 \\times A_2 \\times \\ldots \\times A_n$ for some sets $A_i$.\n",
    "\n",
    "If, for example, you want to create a non-linear code family, this is\n",
    "the class you should inherit from.\n",
    "\n",
    "We give a small example of creating a non-linear code family. Take the\n",
    "code consisting of the following $l$ words:\n",
    "\n",
    "$\\{00 \\ldots 00, 10 \\ldots 00, 11 \\ldots 00, \\ldots , 11 \\ldots 10, 11 \\ldots 11 \\}$.\n",
    "\n",
    "Here is how we can implement it:"
   ]
  },
  {
   "cell_type": "code",
   "execution_count": null,
   "id": "0197bf04",
   "metadata": {},
   "outputs": [],
   "source": [
    "from sage.coding.abstract_code import AbstractCode\n",
    "class ExampleCodeFamily(AbstractCode):\n",
    "    def __init__(self, length):\n",
    "        super(ExampleCodeFamily, self).__init__(length)\n",
    "    def __iter__(self):\n",
    "        for i in range(self.length() + 1):\n",
    "            yield vector([1 for j in range(i)] + [0 for k in range(i, self.length())])\n",
    "    def __contains__(self, word):\n",
    "        return word in list(self)\n",
    "    def _repr_(self):\n",
    "        return \"Dummy code of length {}\".format(self.length())"
   ]
  },
  {
   "cell_type": "code",
   "execution_count": null,
   "id": "cda95784",
   "metadata": {},
   "outputs": [
    {
     "data": {
      "text/plain": [
       "[(0, 0, 0, 0), (1, 0, 0, 0), (1, 1, 0, 0), (1, 1, 1, 0), (1, 1, 1, 1)]"
      ]
     },
     "execution_count": 1,
     "metadata": {},
     "output_type": "execute_result"
    }
   ],
   "source": [
    "C = ExampleCodeFamily(4) # check that this works.\n",
    "C.list()"
   ]
  },
  {
   "cell_type": "markdown",
   "id": "a72ffb7c",
   "metadata": {},
   "source": [
    "Focusing on linear codes, the most generic representative is the class\n",
    "`sage.coding.linear_code_no_metric:AbstractLinearCodeNoMetric` which\n",
    "contains all the methods that all linear codes share regardless of what\n",
    "their metric is. If you want to implement a linear code over some metric\n",
    "which has not been implemented in Sage yet, this is the class you should\n",
    "be inheriting from.\n",
    "\n",
    "We have two metric specific abstract linear code classes,\n",
    "`sage.coding.linear_code:AbstractLinearCode` for Hamming metric and\n",
    "`sage.coding.linear_rank_metric:AbstractLinearRankMetricCode` for rank\n",
    "metric. If you wish to implement a linear code class over one of these\n",
    "metrics, you should inherit from the given abstract class.\n",
    "\n",
    "## II. The repetition code\n",
    "\n",
    "We want to implement in Sage the well-known repetition code. Its\n",
    "definition follows:\n",
    "\n",
    "the $(n, 1)$-repetition code over $\\GF{q}$ is the code formed by all the\n",
    "vectors of $\\GF{q}^{n}$ of the form $(i, i, i, \\dots, i)$ for all\n",
    "$i \\in \\GF{q}$.\n",
    "\n",
    "For example, the $(3, 1)$-repetition code over $\\GF{2}$ is:\n",
    "$C = \\{(0, 0, 0), (1, 1, 1)\\}$.\n",
    "\n",
    "The encoding is very simple, it only consists in repeating $n$ times the\n",
    "input symbol and pick the vector thus formed.\n",
    "\n",
    "The decoding uses majority voting to select the right symbol (over\n",
    "$\\GF{2}$). If we receive the word $(1, 0, 1)$ (example cont'd), we\n",
    "deduce that the original word was $(1)$. It can correct up to\n",
    "$\\left\\lceil \\frac{n-1}{2} \\right\\rceil$ errors.\n",
    "\n",
    "Through all this tutorial, we will illustrate the implementation of the\n",
    "$(n, 1)$-repetition code over $\\GF{2}$.\n",
    "\n",
    "## III. Write a new code class\n",
    "\n",
    "The first thing to do to write a new code class is to identify which\n",
    "abstract class to inherit from. Since the repetition code is linear and\n",
    "we take it over the Hamming metric, this means that we will inherit from\n",
    "`sage.coding.linear_code.AbstractLinearCode`.\n",
    "\n",
    "Now we have to identify the initializing parameters of this class, which\n",
    "are:\n",
    "\n",
    "-   the length of the code,\n",
    "-   the base field of the code,\n",
    "-   the default encoder for the code,\n",
    "-   the default decoder for the code and\n",
    "-   any other useful argument we want to set at construction time.\n",
    "\n",
    "For our code, we know its length, its dimension, its base field, one\n",
    "encoder and one decoder.\n",
    "\n",
    "Now we isolated the parameters of the code, we can write the constructor\n",
    "of our class. As we said, every linear code class over the Hamming\n",
    "metric must inherit from `sage.coding.linear_code.AbstractLinearCode`.\n",
    "This class provides a lot of useful methods and, as we illustrate\n",
    "thereafter, a default constructor which sets the *length*, the *base\n",
    "field*, the *default encoder* and the *default decoder* as class\n",
    "parameters. We also need to create the dictionary of known encoders and\n",
    "decoders for the class.\n",
    "\n",
    "Let us now write the constructor for our code class, that we store in\n",
    "some file called `repetition_code.py` :"
   ]
  },
  {
   "cell_type": "code",
   "execution_count": null,
   "id": "5b22841c",
   "metadata": {},
   "outputs": [],
   "source": [
    "from sage.coding.linear_code import AbstractLinearCode\n",
    "from sage.rings.finite_rings.finite_field_constructor import FiniteField as GF\n",
    "class BinaryRepetitionCode(AbstractLinearCode):\n",
    "    _registered_encoders = {}\n",
    "    _registered_decoders = {}\n",
    "    def __init__(self, length):\n",
    "        super(BinaryRepetitionCode, self).__init__(GF(2), length,\n",
    "          \"RepetitionGeneratorMatrixEncoder\", \"MajorityVoteDecoder\")\n",
    "        self._dimension = 1"
   ]
  },
  {
   "cell_type": "markdown",
   "id": "ccad0354",
   "metadata": {},
   "source": [
    "As you notice, the constructor is really simple. Most of the work is\n",
    "indeed managed by the topclass through the `super` statement. Note that\n",
    "the dimension is not set by the abstract class, because for some code\n",
    "families the exact dimension is hard to compute. If the exact dimension\n",
    "is known, set it using `_dimension` as a class parameter.\n",
    "\n",
    "We can now write representation methods for our code class:"
   ]
  },
  {
   "cell_type": "code",
   "execution_count": null,
   "id": "32531cc2",
   "metadata": {},
   "outputs": [],
   "source": [
    "def _repr_(self):\n",
    "    return \"Binary repetition code of length %s\" % self.length()\n",
    "def _latex_(self):\n",
    "    return \"\\textnormal{Binary repetition code of length } %s\" % self.length()"
   ]
  },
  {
   "cell_type": "markdown",
   "id": "f0a614ed",
   "metadata": {},
   "source": [
    "We also write a method to check equality:"
   ]
  },
  {
   "cell_type": "code",
   "execution_count": null,
   "id": "9596f09f",
   "metadata": {},
   "outputs": [],
   "source": [
    "def __eq__(self, other):\n",
    "    return (isinstance(other, BinaryRepetitionCode)\n",
    "            and self.length() == other.length()\n",
    "            and self.dimension() == other.dimension())"
   ]
  },
  {
   "cell_type": "markdown",
   "id": "ecfbda1e",
   "metadata": {},
   "source": [
    "After these examples, you probably noticed that we use two methods,\n",
    "namely `length()` and `dimension()` without defining them. That is\n",
    "because their implementation is provided in parent classes of\n",
    "`sage.coding.linear_code.AbstractLinearCode`, which are\n",
    "`sage.coding.linear_code_no_metric.AbstractLinearCodeNoMetric` and\n",
    "`sage.coding.abstract_code.AbstractCode`\n",
    "\n",
    "They provide a default implementation of the following getter methods:\n",
    "\n",
    "-   `sage.coding.abstract_code.AbstractCode.length`,\n",
    "-   `sage.coding.linear_code_no_metric.AbstractLinearCodeNoMetric.dimension`,\n",
    "-   `sage.coding.linear_code_no_metric.AbstractLinearCodeNoMetric.base_field`\n",
    "    and\n",
    "-   `sage.coding.linear_code_no_metric.AbstractLinearCodeNoMetric.ambient_space`.\n",
    "\n",
    "They also provide several other useful methods, such as `__contains__`.\n",
    "Note that a lot of these other methods rely on the computation of a\n",
    "generator matrix. It is thus highly recommended to set an encoder which\n",
    "knows how to compute such a matrix as default encoder. As default\n",
    "encoder will be used by all these methods which expect a generator\n",
    "matrix, if one provides a default encoder which does not have a\n",
    "`generator_matrix` method, a lot of generic methods will fail.\n",
    "\n",
    "As our code family is really simple, we do not need anything else, and\n",
    "the code provided above is enough to describe properly a repetition\n",
    "code.\n",
    "\n",
    "### Summary of the implementation for linear codes over the Hamming metric\n",
    "\n",
    "1.  Inherit from `sage.coding.linear_code.AbstractLinearCode`.\n",
    "\n",
    "2.  Add `_registered_encoders =  {}` and `_registered_decoders = {}` as\n",
    "    class variables.\n",
    "\n",
    "3.  Add this line in the class' constructor:"
   ]
  },
  {
   "cell_type": "code",
   "execution_count": null,
   "id": "3564c297",
   "metadata": {},
   "outputs": [],
   "source": [
    "    super(ClassName, self).__init__(base_field, length, \"DefaultEncoder\", \"DefaultDecoder\")"
   ]
  },
  {
   "cell_type": "markdown",
   "id": "a36710cc",
   "metadata": {},
   "source": [
    "4.  Implement representation methods (not mandatory, but highly advised)\n",
    "    `_repr_` and `_latex_`.\n",
    "\n",
    "5.  Implement `__eq__`.\n",
    "\n",
    "6.  `__ne__`, `length` and `dimension` come with the abstract class.\n",
    "\n",
    "Please note that `dimension` will not work is there is no field\n",
    "`_dimension` as class parameter.\n",
    "\n",
    "We now know how to write a new code class. Let us see how to write a new\n",
    "encoder and a new decoder.\n",
    "\n",
    "## IV. Write a new encoder class\n",
    "\n",
    "Let us continue our example. We ask the same question as before: what do\n",
    "we need to describe the encoder? For most of the cases (this one\n",
    "included), we only need the associated code. In that case, writing the\n",
    "constructor is really straightforward (we store the code in the same\n",
    "`.py` file as the code class):"
   ]
  },
  {
   "cell_type": "code",
   "execution_count": null,
   "id": "0a22e6e9",
   "metadata": {},
   "outputs": [],
   "source": [
    "from sage.coding.encoder import Encoder\n",
    "class BinaryRepetitionCodeGeneratorMatrixEncoder(Encoder):\n",
    "    def __init__(self, code):\n",
    "        super(BinaryRepetitionCodeGeneratorMatrixEncoder, self).__init__(code)"
   ]
  },
  {
   "cell_type": "markdown",
   "id": "79a389f7",
   "metadata": {},
   "source": [
    "Same thing as before, as an encoder always needs to know its associated\n",
    "code, the work can be done by the base class. Remember to inherit from\n",
    "`sage.coding.encoder.Encoder`!\n",
    "\n",
    "We also want to override representation methods `_repr_` and `_latex_` :"
   ]
  },
  {
   "cell_type": "code",
   "execution_count": null,
   "id": "7e01bb5f",
   "metadata": {},
   "outputs": [],
   "source": [
    "def _repr_(self):\n",
    "    return \"Binary repetition encoder for the %s\" % self.code()\n",
    "def _latex_(self):\n",
    "    return \"\\textnormal{Binary repetition encoder for the } %s\" % self.code()"
   ]
  },
  {
   "cell_type": "markdown",
   "id": "5d9e7b20",
   "metadata": {},
   "source": [
    "And we want to have an equality check too:"
   ]
  },
  {
   "cell_type": "code",
   "execution_count": null,
   "id": "9ee5e8e3",
   "metadata": {},
   "outputs": [],
   "source": [
    "def __eq__(self, other):\n",
    "    return (isinstance(other, BinaryRepetitionCodeGeneratorMatrixEncoder)\n",
    "            and self.code() == other.code())"
   ]
  },
  {
   "cell_type": "markdown",
   "id": "ce91c168",
   "metadata": {},
   "source": [
    "As before, default getter method is provided by the topclass, namely\n",
    "`sage.coding.encoder.Encoder.code`.\n",
    "\n",
    "All we have to do is to implement the methods related to the encoding.\n",
    "This implementation changes quite a lot whether we have a generator\n",
    "matrix or not.\n",
    "\n",
    "### We have a generator matrix\n",
    "\n",
    "In that case, the message space is a vector space, and it is especially\n",
    "easy: the only method you need to implement is `generator_matrix`.\n",
    "\n",
    "Continuing our example, it will be:"
   ]
  },
  {
   "cell_type": "code",
   "execution_count": null,
   "id": "a0e13889",
   "metadata": {},
   "outputs": [],
   "source": [
    "def generator_matrix(self):\n",
    "    n = self.code().length()\n",
    "    return Matrix(GF(2), 1, n, [GF(2).one()] * n)"
   ]
  },
  {
   "cell_type": "markdown",
   "id": "bbcaaee7",
   "metadata": {},
   "source": [
    "As the topclass provides default implementation for encode and the\n",
    "inverse operation, that we call *unencode* (see:\n",
    "`sage.coding.encoder.Encoder.encode` and\n",
    "`sage.coding.encoder.Encoder.unencode`), alongside with a default\n",
    "implementation of `sage.coding.encoder.Encoder.message_space`, our work\n",
    "here is done.\n",
    "\n",
    "Note\n",
    "\n",
    "Default `encode` method multiplies the provide word by the generator\n",
    "matrix, while default `unencode` computes an information set for the\n",
    "generator matrix, inverses it and performs a matrix-vector\n",
    "multiplication to recover the original message. If one has a better\n",
    "implementation for one's specific code family, one should obviously\n",
    "override the default `encode` and `unencode`.\n",
    "\n",
    "### We do not have any generator matrix\n",
    "\n",
    "In that case, we need to override several methods, namely `encode`,\n",
    "`unencode_nocheck` and probably `message_space` (in the case where the\n",
    "message space is not a vector space). Note that the default\n",
    "implementation of `sage.coding.encoder.Encoder.unencode` relies on\n",
    "`unencode_nocheck`, so reimplementing the former is not necessary.\n",
    "\n",
    "In our example, it is easy to create an encoder which does not need a\n",
    "generator matrix to perform the encoding and the unencoding. We propose\n",
    "the following implementation:"
   ]
  },
  {
   "cell_type": "code",
   "execution_count": null,
   "id": "39ece70a",
   "metadata": {},
   "outputs": [],
   "source": [
    "def encode(self, message):\n",
    "    return vector(GF(2), [message] * self.code().length())"
   ]
  },
  {
   "cell_type": "code",
   "execution_count": null,
   "id": "61987b46",
   "metadata": {},
   "outputs": [],
   "source": [
    "def unencode_nocheck(self, word):\n",
    "    return word[0]"
   ]
  },
  {
   "cell_type": "code",
   "execution_count": null,
   "id": "fb8cb2d6",
   "metadata": {},
   "outputs": [],
   "source": [
    "def message_space(self):\n",
    "    return GF(2)"
   ]
  },
  {
   "cell_type": "markdown",
   "id": "0a40ef81",
   "metadata": {},
   "source": [
    "Our work here is done.\n",
    "\n",
    "We need to do one extra thing: set this encoder in the dictionary of\n",
    "known encoders for the associated code class. To do that, just add the\n",
    "following line at the end of your file:"
   ]
  },
  {
   "cell_type": "code",
   "execution_count": null,
   "id": "7ded090a",
   "metadata": {},
   "outputs": [],
   "source": [
    "BinaryRepetitionCode._registered_encoders[\"RepetitionGeneratorMatrixEncoder\"] = BinaryRepetitionCodeGeneratorMatrixEncoder"
   ]
  },
  {
   "cell_type": "markdown",
   "id": "332a89a1",
   "metadata": {},
   "source": [
    "Note\n",
    "\n",
    "In case you are implementing a generic encoder (an encoder which works\n",
    "with any family of linear codes), please add the following statement in\n",
    "`AbstractLinearCode`'s constructor instead:\n",
    "`self._registered_encoders[\"EncName\"] = MyGenericEncoder`. This will\n",
    "make it immediately available to any code class which inherits from\n",
    "$AbstractLinearCode$.\n",
    "\n",
    "### Summary of the implementation for encoders\n",
    "\n",
    "1.  Inherit from `sage.coding.encoder.Encoder`.\n",
    "\n",
    "2.  Add this line in the class' constructor:"
   ]
  },
  {
   "cell_type": "code",
   "execution_count": null,
   "id": "3cded419",
   "metadata": {},
   "outputs": [],
   "source": [
    "    super(ClassName, self).__init__(associated_code)"
   ]
  },
  {
   "cell_type": "markdown",
   "id": "74762fd0",
   "metadata": {},
   "source": [
    "3.  Implement representation methods (not mandatory) `_repr_` and\n",
    "    `_latex_`.\n",
    "\n",
    "4.  Implement `__eq__`\n",
    "\n",
    "5.  `__ne__`, `code` come with the abstract class.\n",
    "\n",
    "6.  If a generator matrix is known, override `generator_matrix`.\n",
    "\n",
    "7.  Else override `encode`, `unencode_nocheck` and if needed\n",
    "    `message_space`.\n",
    "\n",
    "8.  Add the encoder to `CodeClass._registered_encoders`.\n",
    "\n",
    "## V. Write a new decoder class\n",
    "\n",
    "Let us continue by writing a decoder. As before, we need to know what is\n",
    "required to describe a decoder. We need of course the associated code of\n",
    "the decoder. We also want to know which `Encoder` we should use when we\n",
    "try to recover the original message from a received word containing\n",
    "errors. We call this encoder `connected_encoder`. As different decoding\n",
    "algorithms do not have the same behaviour (e.g. probabilistic decoding\n",
    "vs deterministic), we would like to give a few clues about the type of a\n",
    "decoder. So we can store a list of keywords in the class parameter\n",
    "`_decoder_type`. Eventually, we also need to know the input space of the\n",
    "decoder. As usual, initializing these parameters can be delegated to the\n",
    "topclass, and our constructor looks like that:"
   ]
  },
  {
   "cell_type": "code",
   "execution_count": null,
   "id": "2c9a6cb8",
   "metadata": {},
   "outputs": [],
   "source": [
    "from sage.coding.decoder import Decoder\n",
    "class BinaryRepetitionCodeMajorityVoteDecoder(Decoder):\n",
    "    def __init__(self, code):\n",
    "        super((BinaryRepetitionCodeMajorityVoteDecoder, self).__init__(code,\n",
    "           code.ambient_space(), \"RepetitionGeneratorMatrixEncoder\"))"
   ]
  },
  {
   "cell_type": "markdown",
   "id": "d4efaa2f",
   "metadata": {},
   "source": [
    "Remember to inherit from `sage.coding.decoder.Decoder`!\n",
    "\n",
    "As `_decoder_type` is actually a class parameter, one should set it in\n",
    "the file itself, outside of any method. For readability, we suggest to\n",
    "add this statement at the bottom of the file. We'll get back to this in\n",
    "a moment.\n",
    "\n",
    "We also want to override representation methods `_repr_` and `_latex_` :"
   ]
  },
  {
   "cell_type": "code",
   "execution_count": null,
   "id": "36e834fa",
   "metadata": {},
   "outputs": [],
   "source": [
    "def _repr_(self):\n",
    "    return \"Majority vote-based decoder for the %s\" % self.code()\n",
    "def _latex_(self):\n",
    "    return \"\\textnormal{Majority vote based-decoder for the } %s\" % self.code()"
   ]
  },
  {
   "cell_type": "markdown",
   "id": "6dacdb0c",
   "metadata": {},
   "source": [
    "And we want to have an equality check too:"
   ]
  },
  {
   "cell_type": "code",
   "execution_count": null,
   "id": "04527d21",
   "metadata": {},
   "outputs": [],
   "source": [
    "def __eq__(self, other):\n",
    "    return isinstance((other, BinaryRepetitionCodeMajorityVoteDecoder)\n",
    "          and self.code() == other.code())"
   ]
  },
  {
   "cell_type": "markdown",
   "id": "00bf9bed",
   "metadata": {},
   "source": [
    "As before, default getter methods are provided by the topclass, namely\n",
    "`sage.coding.decoder.Decoder.code`,\n",
    "`sage.coding.decoder.Decoder.input_space`,\n",
    "`sage.coding.decoder.Decoder.decoder_type` and\n",
    "`sage.coding.decoder.Decoder.connected_encoder`.\n",
    "\n",
    "All we have to do know is to implement the methods related to the\n",
    "decoding.\n",
    "\n",
    "There are two methods, namely\n",
    "`sage.coding.decoder.Decoder.decode_to_code` and\n",
    "`sage.coding.decoder.Decoder.decode_to_message`.\n",
    "\n",
    "By the magic of default implementation, these two are linked, as\n",
    "`decode_to_message` calls first `decode_to_code` and then `unencode`,\n",
    "while `decode_to_code` calls successively `decode_to_message` and\n",
    "`encode`. So we only need to implement one of these two, and we choose\n",
    "to override `decode_to_code` :"
   ]
  },
  {
   "cell_type": "code",
   "execution_count": null,
   "id": "c9343063",
   "metadata": {},
   "outputs": [],
   "source": [
    "def decode_to_code(self, word):\n",
    "    list_word = word.list()\n",
    "    count_one = list_word.count(GF(2).one())\n",
    "    n = self.code().length()\n",
    "    length = len(list_word)\n",
    "    F = GF(2)\n",
    "    if count_one > length / 2:\n",
    "        return vector(F, [F.one()] * n)\n",
    "    elif count_one < length / 2:\n",
    "        return vector(F, [F.zero()] * n)\n",
    "    else:\n",
    "        raise DecodingError(\"impossible to find a majority\")"
   ]
  },
  {
   "cell_type": "markdown",
   "id": "59af148c",
   "metadata": {},
   "source": [
    "Note\n",
    "\n",
    "One notices that if default `decode_to_code` calls default\n",
    "`decode_to_message` and default `decode_to_message` calls default\n",
    "`decode_to_code`, if none is overridden and one is called, it will end\n",
    "up stuck in an infinite loop. We added a trigger guard against this, so\n",
    "if none is overridden and one is called, an exception will be raised.\n",
    "\n",
    "Only one method is missing: one to provide to the user the number of\n",
    "errors our decoder can decode. This is the method\n",
    "`sage.coding.decoder.Decoder.decoding_radius`, which we override:"
   ]
  },
  {
   "cell_type": "code",
   "execution_count": null,
   "id": "3692c962",
   "metadata": {},
   "outputs": [],
   "source": [
    "def decoding_radius(self):\n",
    "    return (self.code().length()-1) // 2"
   ]
  },
  {
   "cell_type": "markdown",
   "id": "180f348d",
   "metadata": {},
   "source": [
    "As for some cases, the decoding might not be precisely known, its\n",
    "implementation is not mandatory in `sage.coding.decoder.Decoder`'s\n",
    "subclasses.\n",
    "\n",
    "We need to do one extra thing: set this encoder in the dictionary of\n",
    "known decoders for the associated code class. To do that, just add the\n",
    "following line at the end of your file:"
   ]
  },
  {
   "cell_type": "code",
   "execution_count": null,
   "id": "4ca61510",
   "metadata": {},
   "outputs": [],
   "source": [
    "BinaryRepetitionCode._registered_decoders[\"MajorityVoteDecoder\"] = BinaryRepetitionCodeMajorityVoteDecoder"
   ]
  },
  {
   "cell_type": "markdown",
   "id": "c44af9bb",
   "metadata": {},
   "source": [
    "Also put this line to set `decoder_type` :"
   ]
  },
  {
   "cell_type": "code",
   "execution_count": null,
   "id": "1fc7f02e",
   "metadata": {},
   "outputs": [],
   "source": [
    "BinaryRepetitionCode._decoder_type = {\"hard-decision\", \"unique\"}"
   ]
  },
  {
   "cell_type": "markdown",
   "id": "e53a1584",
   "metadata": {},
   "source": [
    "Note\n",
    "\n",
    "In case you are implementing a generic decoder (a decoder which works\n",
    "with any family of linear codes), please add the following statement in\n",
    "`AbstractLinearCode`'s constructor instead:\n",
    "`self._registered_decoders[\"DecName\"] = MyGenericDecoder`. This will\n",
    "make it immediately available to any code class which inherits from\n",
    "$AbstractLinearCode$.\n",
    "\n",
    "### Summary of the implementation for decoders\n",
    "\n",
    "1.  Inherit from `sage.coding.decoder.Decoder`.\n",
    "\n",
    "2.  Add this line in the class' constructor:"
   ]
  },
  {
   "cell_type": "code",
   "execution_count": null,
   "id": "453d7b76",
   "metadata": {},
   "outputs": [],
   "source": [
    "    super(ClassName, self).__init__(associated_code, input_space, connected_encoder_name, decoder_type)"
   ]
  },
  {
   "cell_type": "markdown",
   "id": "d34ccc80",
   "metadata": {},
   "source": [
    "3.  Implement representation methods (not mandatory) `_repr_` and\n",
    "    `_latex_`.\n",
    "\n",
    "4.  Implement `__eq__`.\n",
    "\n",
    "5.  `__ne__`, `code`, `connected_encoder`, `decoder_type` come with the\n",
    "    abstract class.\n",
    "\n",
    "6.  Override `decode_to_code` or `decode_to_message` and\n",
    "    `decoding_radius`.\n",
    "\n",
    "7.  Add the encoder to `CodeClass._registered_decoders`.\n",
    "\n",
    "## VI. Write a new channel class\n",
    "\n",
    "Alongside all these new structures directly related to codes, we also\n",
    "propose a whole new and shiny structure to experiment on codes, and more\n",
    "specifically on their decoding.\n",
    "\n",
    "Indeed, we implemented a structure to emulate real-world communication\n",
    "channels.\n",
    "\n",
    "I'll propose here a step-by-step implementation of a dummy channel for\n",
    "example's sake.\n",
    "\n",
    "We will implement a very naive channel which works only for words over\n",
    "$\\GF{2}$ and flips as many bits as requested by the user.\n",
    "\n",
    "As channels are not directly related to code families, but more to\n",
    "vectors and words, we have a specific file, `channel.py` to store them.\n",
    "\n",
    "So we will just add our new class in this file.\n",
    "\n",
    "For starters, we ask ourselves the eternal question: What do we need to\n",
    "describe a channel? Well, we mandatorily need its `input_space` and its\n",
    "`output_space`. Of course, in most of the cases, the user will be able\n",
    "to provide some extra information on the channel's behaviour. In our\n",
    "case, it will be the number of bits to flip (aka the number of errors).\n",
    "\n",
    "As you might have guess, there is an abstract class to take care of the\n",
    "mandatory arguments! Plus, in our case, as this channel only works for\n",
    "vectors over $\\GF{2}$, the input and output spaces are the same. Let us\n",
    "write the constructor of our new channel class:"
   ]
  },
  {
   "cell_type": "code",
   "execution_count": null,
   "id": "c58ef759",
   "metadata": {},
   "outputs": [],
   "source": [
    "from sage.coding.channel import Channel\n",
    "class BinaryStaticErrorRateChannel(Channel):\n",
    "    def __init__(self, space, number_errors):\n",
    "        if space.base_ring() is not GF(2):\n",
    "            raise ValueError(\"Provided space must be a vector space over GF(2)\")\n",
    "        if number_errors > space.dimension():\n",
    "            raise ValueErrors(\"number_errors cannot be bigger than input space's dimension\")\n",
    "        super(BinaryStaticErrorRateChannel, self).__init__(space, space)\n",
    "        self._number_errors = number_errors"
   ]
  },
  {
   "cell_type": "markdown",
   "id": "a055880d",
   "metadata": {},
   "source": [
    "Remember to inherit from `sage.coding.channel.Channel`!\n",
    "\n",
    "We also want to override representation methods `_repr_` and `_latex_` :"
   ]
  },
  {
   "cell_type": "code",
   "execution_count": null,
   "id": "b162195e",
   "metadata": {},
   "outputs": [],
   "source": [
    "def _repr_(self):\n",
    "    return (\"Binary static error rate channel creating %s errors, of input and output space %s\"\n",
    "            % (format_interval(no_err), self.input_space()))"
   ]
  },
  {
   "cell_type": "code",
   "execution_count": null,
   "id": "d9e9ad8c",
   "metadata": {},
   "outputs": [],
   "source": [
    "def _latex_(self):\n",
    "    return (\"\\\\textnormal{Static error rate channel creating %s errors, of input and output space %s}\"\n",
    "            % (format_interval(no_err), self.input_space()))"
   ]
  },
  {
   "cell_type": "markdown",
   "id": "34cbea49",
   "metadata": {},
   "source": [
    "We don't really see any use case for equality methods (`__eq__` and\n",
    "`__ne__`) so do not provide any default implementation. If one needs\n",
    "these, one can of course override Python's default methods.\n",
    "\n",
    "We of course want getter methods. There is a provided default\n",
    "implementation for `input_space` and `output_space`, so we only need one\n",
    "for `number_errors` :"
   ]
  },
  {
   "cell_type": "code",
   "execution_count": null,
   "id": "03d6f077",
   "metadata": {},
   "outputs": [],
   "source": [
    "def number_errors(self):\n",
    "    return self._number_errors"
   ]
  },
  {
   "cell_type": "markdown",
   "id": "0430ed87",
   "metadata": {},
   "source": [
    "So, now we want a method to actually add errors to words. As it is the\n",
    "same thing as transmitting messages over a real-world channel, we\n",
    "propose two methods, `transmit` and `transmit_unsafe`. As you can guess,\n",
    "`transmit_unsafe` tries to transmit the message without checking if it\n",
    "is in the input space or not, while `transmit` checks this before the\n",
    "transmission... Which means that `transmit` has a default implementation\n",
    "which calls `transmit_unsafe`. So we only need to override\n",
    "`transmit_unsafe`! Let us do it:"
   ]
  },
  {
   "cell_type": "code",
   "execution_count": null,
   "id": "b0fa6f0d",
   "metadata": {},
   "outputs": [],
   "source": [
    "def transmit_unsafe(self, message):\n",
    "    w = copy(message)\n",
    "    number_err = self.number_errors()\n",
    "    V = self.input_space()\n",
    "    F = GF(2)\n",
    "    for i in sample(range(V.dimension()), number_err):\n",
    "        w[i] += F.one()\n",
    "    return w"
   ]
  },
  {
   "cell_type": "markdown",
   "id": "867d4c02",
   "metadata": {},
   "source": [
    "That is it, we now have our new channel class ready to use!\n",
    "\n",
    "### Summary of the implementation for channels\n",
    "\n",
    "1.  Inherit from `sage.coding.channel.Channel`.\n",
    "\n",
    "2.  Add this line in the class' constructor:"
   ]
  },
  {
   "cell_type": "code",
   "execution_count": null,
   "id": "311cd04c",
   "metadata": {},
   "outputs": [],
   "source": [
    "    super(ClassName, self).__init__(input_space, output_space)"
   ]
  },
  {
   "cell_type": "markdown",
   "id": "d1b2c895",
   "metadata": {},
   "source": [
    "3.  Implement representation methods (not mandatory) `_repr_` and\n",
    "    `_latex_`.\n",
    "\n",
    "4.  `input_space` and `output_space` getter methods come with the\n",
    "    abstract class.\n",
    "\n",
    "5.  Override `transmit_unsafe`.\n",
    "\n",
    "## VII. Sort our new elements\n",
    "\n",
    "As there is many code families and channels in the coding theory\n",
    "library, we do not wish to store all our classes directly in Sage's\n",
    "global namespace.\n",
    "\n",
    "We propose several catalog files to store our constructions, namely:\n",
    "\n",
    "-   `codes_catalog.py`,\n",
    "-   `encoders_catalog.py`,\n",
    "-   `decoders_catalog.py` and\n",
    "-   `channels_catalog.py`.\n",
    "\n",
    "Every time one creates a new object, it should be added in the dedicated\n",
    "catalog file instead of coding theory folder's `all.py`.\n",
    "\n",
    "Here it means the following:\n",
    "\n",
    "-   add the following in `codes_catalog.py` :"
   ]
  },
  {
   "cell_type": "markdown",
   "id": "1cb1fae9",
   "metadata": {},
   "source": [
    "\n",
    "    > ```{.python .input}\n",
    "    > from sage.coding.repetition_code import BinaryRepetitionCode\n",
    "    > ```\n"
   ]
  },
  {
   "cell_type": "markdown",
   "id": "5f9c873b",
   "metadata": {},
   "source": [
    "-   add the following in `encoders_catalog.py` :"
   ]
  },
  {
   "cell_type": "markdown",
   "id": "35486ec2",
   "metadata": {},
   "source": [
    "\n",
    "    > ```{.python .input}\n",
    "    > from sage.coding.repetition_code import BinaryRepetitionCodeGeneratorMatrixEncoder\n",
    "    > ```\n"
   ]
  },
  {
   "cell_type": "markdown",
   "id": "2f00e5d7",
   "metadata": {},
   "source": [
    "-   add the following in `decoders_catalog.py` :"
   ]
  },
  {
   "cell_type": "markdown",
   "id": "c5ea7bcb",
   "metadata": {},
   "source": [
    "\n",
    "    > ```{.python .input}\n",
    "    > from sage.coding.repetition_code import BinaryRepetitionCodeMajorityVoteDecoder\n",
    "    > ```\n"
   ]
  },
  {
   "cell_type": "markdown",
   "id": "f3e9bfc5",
   "metadata": {},
   "source": [
    "-   add the following in `channels_catalog.py` :"
   ]
  },
  {
   "cell_type": "markdown",
   "id": "0e209c4a",
   "metadata": {},
   "source": [
    "\n",
    "    > ```{.python .input}\n",
    "    > from sage.coding.channel import BinaryStaticErrorRateChannel\n",
    "    > ```\n"
   ]
  },
  {
   "cell_type": "markdown",
   "id": "952f56cd",
   "metadata": {},
   "source": [
    "## VIII. Complete code of this tutorial\n",
    "\n",
    "If you need some base code to start from, feel free to copy-paste and\n",
    "derive from the one that follows.\n",
    "\n",
    "`repetition_code.py` (with two encoders):"
   ]
  },
  {
   "cell_type": "code",
   "execution_count": null,
   "id": "5a000d5c",
   "metadata": {},
   "outputs": [],
   "source": [
    "from sage.coding.linear_code import AbstractLinearCode\n",
    "from sage.coding.encoder import Encoder\n",
    "from sage.coding.decoder import Decoder\n",
    "from sage.rings.finite_rings.finite_field_constructor import FiniteField as GF\n",
    "\n",
    "class BinaryRepetitionCode(AbstractLinearCode):\n",
    "\n",
    "    _registered_encoders = {}\n",
    "    _registered_decoders = {}\n",
    "\n",
    "    def __init__(self, length):\n",
    "        super(BinaryRepetitionCode, self).__init__(GF(2), length, \"RepetitionGeneratorMatrixEncoder\", \"MajorityVoteDecoder\")\n",
    "        self._dimension = 1\n",
    "\n",
    "    def _repr_(self):\n",
    "        return \"Binary repetition code of length %s\" % self.length()\n",
    "\n",
    "    def _latex_(self):\n",
    "        return \"\\textnormal{Binary repetition code of length } %s\" % self.length()\n",
    "\n",
    "    def __eq__(self, other):\n",
    "        return (isinstance(other, BinaryRepetitionCode)\n",
    "           and self.length() == other.length()\n",
    "           and self.dimension() == other.dimension())\n",
    "\n",
    "\n",
    "\n",
    "class BinaryRepetitionCodeGeneratorMatrixEncoder(Encoder):\n",
    "\n",
    "    def __init__(self, code):\n",
    "        super(BinaryRepetitionCodeGeneratorMatrixEncoder, self).__init__(code)\n",
    "\n",
    "    def _repr_(self):\n",
    "        return \"Binary repetition encoder for the %s\" % self.code()\n",
    "\n",
    "    def _latex_(self):\n",
    "        return \"\\textnormal{Binary repetition encoder for the } %s\" % self.code()\n",
    "\n",
    "    def __eq__(self, other):\n",
    "        return (isinstance(other, BinaryRepetitionCodeGeneratorMatrixEncoder)\n",
    "           and self.code() == other.code())\n",
    "\n",
    "    def generator_matrix(self):\n",
    "        n = self.code().length()\n",
    "        return Matrix(GF(2), 1, n, [GF(2).one()] * n)\n",
    "\n",
    "\n",
    "\n",
    "class BinaryRepetitionCodeStraightforwardEncoder(Encoder):\n",
    "\n",
    "    def __init__(self, code):\n",
    "        super(BinaryRepetitionCodeStraightforwardEncoder, self).__init__(code)\n",
    "\n",
    "    def _repr_(self):\n",
    "        return \"Binary repetition encoder for the %s\" % self.code()\n",
    "\n",
    "    def _latex_(self):\n",
    "        return \"\\textnormal{Binary repetition encoder for the } %s\" % self.code()\n",
    "\n",
    "    def __eq__(self, other):\n",
    "        return (isinstance(other, BinaryRepetitionCodeStraightforwardEncoder)\n",
    "           and self.code() == other.code())\n",
    "\n",
    "    def encode(self, message):\n",
    "        return vector(GF(2), [message] * self.code().length())\n",
    "\n",
    "    def unencode_nocheck(self, word):\n",
    "        return word[0]\n",
    "\n",
    "    def message_space(self):\n",
    "        return GF(2)\n",
    "\n",
    "\n",
    "\n",
    "class BinaryRepetitionCodeMajorityVoteDecoder(Decoder):\n",
    "\n",
    "    def __init__(self, code):\n",
    "        super(BinaryRepetitionCodeMajorityVoteDecoder, self).__init__(code, code.ambient_space(),\n",
    "           \"RepetitionGeneratorMatrixEncoder\")\n",
    "\n",
    "    def _repr_(self):\n",
    "        return \"Majority vote-based decoder for the %s\" % self.code()\n",
    "\n",
    "    def _latex_(self):\n",
    "        return \"\\textnormal{Majority vote based-decoder for the } %s\" % self.code()\n",
    "\n",
    "\n",
    "    def __eq__(self, other):\n",
    "        return (isinstance(other, BinaryRepetitionCodeMajorityVoteDecoder)\n",
    "           and self.code() == other.code())\n",
    "\n",
    "    def decode_to_code(self, word):\n",
    "        list_word = word.list()\n",
    "        count_one = list_word.count(GF(2).one())\n",
    "        n = self.code().length()\n",
    "        length = len(list_word)\n",
    "        F = GF(2)\n",
    "        if count_one > length / 2:\n",
    "            return vector(F, [F.one()] * n)\n",
    "        elif count_one < length / 2:\n",
    "           return vector(F, [F.zero()] * n)\n",
    "        else:\n",
    "           raise DecodingError(\"impossible to find a majority\")\n",
    "\n",
    "    def decoding_radius(self):\n",
    "        return (self.code().length()-1) // 2\n",
    "\n",
    "\n",
    "\n",
    "BinaryRepetitionCode._registered_encoders[\"RepetitionGeneratorMatrixEncoder\"] = BinaryRepetitionCodeGeneratorMatrixEncoder\n",
    "BinaryRepetitionCode._registered_encoders[\"RepetitionStraightforwardEncoder\"] = BinaryRepetitionCodeStraightforwardEncoder\n",
    "BinaryRepetitionCode._registered_decoders[\"MajorityVoteDecoder\"] = BinaryRepetitionCodeMajorityVoteDecoder\n",
    "BinaryRepetitionCodeMajorityVoteDecoder._decoder_type = {\"hard-decision\", \"unique\"}"
   ]
  },
  {
   "cell_type": "markdown",
   "id": "c6f870d4",
   "metadata": {},
   "source": [
    "`channel.py` (continued):"
   ]
  },
  {
   "cell_type": "code",
   "execution_count": null,
   "id": "ff860064",
   "metadata": {},
   "outputs": [],
   "source": [
    "class BinaryStaticErrorRateChannel(Channel):\n",
    "\n",
    "    def __init__(self, space, number_errors):\n",
    "        if space.base_ring() is not GF(2):\n",
    "            raise ValueError(\"Provided space must be a vector space over GF(2)\")\n",
    "        if number_errors > space.dimension():\n",
    "            raise ValueErrors(\"number_errors cannot be bigger than input space's dimension\")\n",
    "        super(BinaryStaticErrorRateChannel, self).__init__(space, space)\n",
    "        self._number_errors = number_errors\n",
    "\n",
    "    def _repr_(self):\n",
    "      return (\"Binary static error rate channel creating %s errors, of input and output space %s\"\n",
    "              % (format_interval(no_err), self.input_space()))\n",
    "\n",
    "    def _latex_(self):\n",
    "      return (\"\\\\textnormal{Static error rate channel creating %s errors, of input and output space %s}\"\n",
    "              % (format_interval(no_err), self.input_space()))\n",
    "\n",
    "    def number_errors(self):\n",
    "      return self._number_errors\n",
    "\n",
    "    def transmit_unsafe(self, message):\n",
    "        w = copy(message)\n",
    "        number_err = self.number_errors()\n",
    "        V = self.input_space()\n",
    "        F = GF(2)\n",
    "        for i in sample(range(V.dimension()), number_err):\n",
    "            w[i] += F.one()\n",
    "        return w"
   ]
  },
  {
   "cell_type": "markdown",
   "id": "fbfb5d7c",
   "metadata": {},
   "source": [
    "`codes_catalog.py` (continued):"
   ]
  },
  {
   "cell_type": "code",
   "execution_count": null,
   "id": "68b42c2a",
   "metadata": {},
   "outputs": [],
   "source": [
    "from sage.coding.repetition_code import BinaryRepetitionCode"
   ]
  },
  {
   "cell_type": "markdown",
   "id": "f650b6de",
   "metadata": {},
   "source": [
    "`encoders_catalog.py` (continued):"
   ]
  },
  {
   "cell_type": "code",
   "execution_count": null,
   "id": "0066107c",
   "metadata": {},
   "outputs": [],
   "source": [
    "from sage.coding.repetition_code import (BinaryRepetitionCodeGeneratorMatrixEncoder, BinaryRepetitionCodeStraightforwardEncoder)"
   ]
  },
  {
   "cell_type": "markdown",
   "id": "1aaa920f",
   "metadata": {},
   "source": [
    "`decoders_catalog.py` (continued):"
   ]
  },
  {
   "cell_type": "code",
   "execution_count": null,
   "id": "8c6774e5",
   "metadata": {},
   "outputs": [],
   "source": [
    "from sage.coding.repetition_code import BinaryRepetitionCodeMajorityVoteDecoder"
   ]
  },
  {
   "cell_type": "markdown",
   "id": "1993dfb0",
   "metadata": {},
   "source": [
    "`channels_catalog.py` (continued):"
   ]
  },
  {
   "cell_type": "code",
   "execution_count": null,
   "id": "8e502956",
   "metadata": {},
   "outputs": [],
   "source": [
    "from sage.coding.channel import (ErrorErasureChannel, StaticErrorRateChannel, BinaryStaticErrorRateChannel)"
   ]
  }
 ],
 "metadata": {},
 "nbformat": 4,
 "nbformat_minor": 5
}
