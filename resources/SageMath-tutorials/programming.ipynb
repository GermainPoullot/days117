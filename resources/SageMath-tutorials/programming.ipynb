{
 "cells": [
  {
   "cell_type": "markdown",
   "id": "d69beb94",
   "metadata": {},
   "source": [
    "$$\n",
    "\\def\\CC{\\bf C}\n",
    "\\def\\QQ{\\bf Q}\n",
    "\\def\\RR{\\bf R}\n",
    "\\def\\ZZ{\\bf Z}\n",
    "\\def\\NN{\\bf N}\n",
    "$$\n",
    "# Programming\n",
    "\n",
    "## Loading and Attaching Sage files\n",
    "\n",
    "Next we illustrate how to load programs written in a separate file into\n",
    "Sage. Create a file called `example.sage` with the following content:"
   ]
  },
  {
   "cell_type": "code",
   "execution_count": null,
   "id": "cda10d21",
   "metadata": {},
   "outputs": [],
   "source": [
    "print(\"Hello World\")\n",
    "print(2^3)"
   ]
  },
  {
   "cell_type": "markdown",
   "id": "94a00703",
   "metadata": {},
   "source": [
    "You can read in and execute `example.sage` file using the `load`\n",
    "command."
   ]
  },
  {
   "cell_type": "code",
   "execution_count": null,
   "id": "3afeeb96",
   "metadata": {},
   "outputs": [
    {
     "data": {
      "text/plain": [
       "Hello World\n",
       "8"
      ]
     },
     "execution_count": 1,
     "metadata": {},
     "output_type": "execute_result"
    }
   ],
   "source": [
    "load(\"example.sage\")"
   ]
  },
  {
   "cell_type": "markdown",
   "id": "1b53df7d",
   "metadata": {},
   "source": [
    "You can also attach a Sage file to a running session using the `attach`\n",
    "command:"
   ]
  },
  {
   "cell_type": "code",
   "execution_count": null,
   "id": "b0ae52a9",
   "metadata": {},
   "outputs": [
    {
     "data": {
      "text/plain": [
       "Hello World\n",
       "8"
      ]
     },
     "execution_count": 1,
     "metadata": {},
     "output_type": "execute_result"
    }
   ],
   "source": [
    "attach(\"example.sage\")"
   ]
  },
  {
   "cell_type": "markdown",
   "id": "27eb1e16",
   "metadata": {},
   "source": [
    "Now if you change `example.sage` and enter one blank line into Sage\n",
    "(i.e., hit `return`), then the contents of `example.sage` will be\n",
    "automatically reloaded into Sage.\n",
    "\n",
    "In particular, `attach` automatically reloads a file whenever it\n",
    "changes, which is handy when debugging code, whereas `load` only loads a\n",
    "file once.\n",
    "\n",
    "When Sage loads `example.sage` it converts it to Python, which is then\n",
    "executed by the Python interpreter. This conversion is minimal; it\n",
    "mainly involves wrapping integer literals in `Integer()` floating point\n",
    "literals in `RealNumber()`, replacing `^`'s by `**`'s, and replacing\n",
    "e.g., `R.2` by `R.gen(2)`. The converted version of `example.sage` is\n",
    "contained in the same directory as `example.sage` and is called\n",
    "`example.sage.py`. This file contains the following code:"
   ]
  },
  {
   "cell_type": "code",
   "execution_count": null,
   "id": "213b9882",
   "metadata": {},
   "outputs": [],
   "source": [
    "print(\"Hello World\")\n",
    "print(Integer(2)**Integer(3))"
   ]
  },
  {
   "cell_type": "markdown",
   "id": "de6f422a",
   "metadata": {},
   "source": [
    "Integer literals are wrapped and the `^` is replaced by a `**`. (In\n",
    "Python `^` means \"exclusive or\" and `**` means \"exponentiation\".)\n",
    "\n",
    "(This preparsing is implemented in `sage/misc/interpreter.py`.)\n",
    "\n",
    "You can paste multi-line indented code into Sage as long as there are\n",
    "newlines to make new blocks (this is not necessary in files). However,\n",
    "the best way to enter such code into Sage is to save it to a file and\n",
    "use `attach`, as described above.\n",
    "\n",
    "## Creating Compiled Code\n",
    "\n",
    "Speed is crucial in mathematical computations. Though Python is a\n",
    "convenient very high-level language, certain calculations can be several\n",
    "orders of magnitude faster than in Python if they are implemented using\n",
    "static types in a compiled language. Some aspects of Sage would have\n",
    "been too slow if it had been written entirely in Python. To deal with\n",
    "this, Sage supports a compiled \"version\" of Python called Cython\n",
    "([\\[Cyt\\]]() and [\\[Pyr\\]]()). Cython is simultaneously similar to both\n",
    "Python and C. Most Python constructions, including list comprehensions,\n",
    "conditional expressions, code like `+=` are allowed; you can also import\n",
    "code that you have written in other Python modules. Moreover, you can\n",
    "declare arbitrary C variables, and arbitrary C library calls can be made\n",
    "directly. The resulting code is converted to C and compiled using a C\n",
    "compiler.\n",
    "\n",
    "In order to make your own compiled Sage code, give the file an `.spyx`\n",
    "extension (instead of `.sage`). If you are working with the command-line\n",
    "interface, you can attach and load compiled code exactly like with\n",
    "interpreted code (at the moment, attaching and loading Cython code is\n",
    "not supported with the notebook interface). The actual compilation is\n",
    "done \"behind the scenes\" without your having to do anything explicit.\n",
    "The compiled shared object library is stored under\n",
    "`$HOME/.sage/temp/hostname/pid/spyx`. These files are deleted when you\n",
    "exit Sage.\n",
    "\n",
    "NO Sage preparsing is applied to spyx files, e.g., `1/3` will result in\n",
    "0 in a spyx file instead of the rational number $1/3$. If `foo` is a\n",
    "function in the Sage library, to use it from a spyx file import\n",
    "`sage.all` and use `sage.all.foo`."
   ]
  },
  {
   "cell_type": "code",
   "execution_count": null,
   "id": "aa7abf8b",
   "metadata": {},
   "outputs": [],
   "source": [
    "import sage.all\n",
    "def foo(n):\n",
    "    return sage.all.factorial(n)"
   ]
  },
  {
   "cell_type": "markdown",
   "id": "d5a75822",
   "metadata": {},
   "source": [
    "### Accessing C Functions in Separate Files\n",
    "\n",
    "It is also easy to access C functions defined in separate \\*.c files.\n",
    "Here's an example. Create files `test.c` and `test.spyx` in the same\n",
    "directory with contents:\n",
    "\n",
    "The pure C code: `test.c`"
   ]
  },
  {
   "cell_type": "code",
   "execution_count": null,
   "id": "a0a17382",
   "metadata": {},
   "outputs": [],
   "source": [
    "int add_one(int n) {\n",
    "  return n + 1;\n",
    "}"
   ]
  },
  {
   "cell_type": "markdown",
   "id": "ebaff839",
   "metadata": {},
   "source": [
    "The Cython code: `test.spyx` :"
   ]
  },
  {
   "cell_type": "code",
   "execution_count": null,
   "id": "2069f5d5",
   "metadata": {},
   "outputs": [],
   "source": [
    "cdef extern from \"test.c\":\n",
    "    int add_one(int n)\n",
    "\n",
    "def test(n):\n",
    "    return add_one(n)"
   ]
  },
  {
   "cell_type": "markdown",
   "id": "c7d140b8",
   "metadata": {},
   "source": [
    "Then the following works:"
   ]
  },
  {
   "cell_type": "code",
   "execution_count": null,
   "id": "b8390c18",
   "metadata": {},
   "outputs": [
    {
     "data": {
      "text/plain": [
       "Compiling (...)/test.spyx..."
      ]
     },
     "execution_count": 1,
     "metadata": {},
     "output_type": "execute_result"
    }
   ],
   "source": [
    "attach(\"test.spyx\")"
   ]
  },
  {
   "cell_type": "code",
   "execution_count": null,
   "id": "fd652f4b",
   "metadata": {},
   "outputs": [
    {
     "data": {
      "text/plain": [
       "11"
      ]
     },
     "execution_count": 1,
     "metadata": {},
     "output_type": "execute_result"
    }
   ],
   "source": [
    "test(10)"
   ]
  },
  {
   "cell_type": "markdown",
   "id": "f819f409",
   "metadata": {},
   "source": [
    "If an additional library `foo` is needed to compile the C code generated\n",
    "from a Cython file, add the line `clib foo` to the Cython source.\n",
    "Similarly, an additional C file `bar` can be included in the compilation\n",
    "with the declaration `cfile bar`.\n",
    "\n",
    "## Standalone Python/Sage Scripts\n",
    "\n",
    "The following standalone Sage script factors integers, polynomials, etc:"
   ]
  },
  {
   "cell_type": "code",
   "execution_count": null,
   "id": "8de924cc",
   "metadata": {},
   "outputs": [],
   "source": [
    "#!/usr/bin/env sage\n",
    "\n",
    "import sys\n",
    "from sage.all import *\n",
    "\n",
    "if len(sys.argv) != 2:\n",
    "    print(\"Usage: %s <n>\" % sys.argv[0])\n",
    "    print(\"Outputs the prime factorization of n.\")\n",
    "    sys.exit(1)\n",
    "\n",
    "print(factor(sage_eval(sys.argv[1])))"
   ]
  },
  {
   "cell_type": "markdown",
   "id": "3217e546",
   "metadata": {},
   "source": [
    "In order to use this script, your `SAGE_ROOT` must be in your PATH. If\n",
    "the above script is called `factor`, here is an example usage:"
   ]
  },
  {
   "cell_type": "code",
   "execution_count": null,
   "id": "b2e4a008",
   "metadata": {},
   "outputs": [],
   "source": [
    "$ ./factor 2006\n",
    "2 * 17 * 59"
   ]
  },
  {
   "cell_type": "markdown",
   "id": "9e446ae1",
   "metadata": {},
   "source": [
    "## Data Types\n",
    "\n",
    "Every object in Sage has a well-defined type. Python has a wide range of\n",
    "basic built-in types, and the Sage library adds many more. Some built-in\n",
    "Python types include strings, lists, tuples, ints and floats, as\n",
    "illustrated:"
   ]
  },
  {
   "cell_type": "code",
   "execution_count": null,
   "id": "e0c16b8e",
   "metadata": {},
   "outputs": [
    {
     "data": {
      "text/plain": [
       "<... 'str'>"
      ]
     },
     "execution_count": 1,
     "metadata": {},
     "output_type": "execute_result"
    }
   ],
   "source": [
    "s = \"sage\"; type(s)"
   ]
  },
  {
   "cell_type": "code",
   "execution_count": null,
   "id": "ed6cdd38",
   "metadata": {},
   "outputs": [
    {
     "data": {
      "text/plain": [
       "<... 'str'>"
      ]
     },
     "execution_count": 1,
     "metadata": {},
     "output_type": "execute_result"
    }
   ],
   "source": [
    "s = 'sage'; type(s)      # you can use either single or double quotes"
   ]
  },
  {
   "cell_type": "code",
   "execution_count": null,
   "id": "c7b4eea7",
   "metadata": {},
   "outputs": [
    {
     "data": {
      "text/plain": [
       "<... 'list'>"
      ]
     },
     "execution_count": 1,
     "metadata": {},
     "output_type": "execute_result"
    }
   ],
   "source": [
    "s = [1,2,3,4]; type(s)"
   ]
  },
  {
   "cell_type": "code",
   "execution_count": null,
   "id": "4aa6a478",
   "metadata": {},
   "outputs": [
    {
     "data": {
      "text/plain": [
       "<... 'tuple'>"
      ]
     },
     "execution_count": 1,
     "metadata": {},
     "output_type": "execute_result"
    }
   ],
   "source": [
    "s = (1,2,3,4); type(s)"
   ]
  },
  {
   "cell_type": "code",
   "execution_count": null,
   "id": "220f9447",
   "metadata": {},
   "outputs": [
    {
     "data": {
      "text/plain": [
       "<... 'int'>"
      ]
     },
     "execution_count": 1,
     "metadata": {},
     "output_type": "execute_result"
    }
   ],
   "source": [
    "s = int(2006); type(s)"
   ]
  },
  {
   "cell_type": "code",
   "execution_count": null,
   "id": "1e73b90b",
   "metadata": {},
   "outputs": [
    {
     "data": {
      "text/plain": [
       "<... 'float'>"
      ]
     },
     "execution_count": 1,
     "metadata": {},
     "output_type": "execute_result"
    }
   ],
   "source": [
    "s = float(2006); type(s)"
   ]
  },
  {
   "cell_type": "markdown",
   "id": "a105c404",
   "metadata": {},
   "source": [
    "To this, Sage adds many other types. E.g., vector spaces:"
   ]
  },
  {
   "cell_type": "code",
   "execution_count": null,
   "id": "173846a3",
   "metadata": {},
   "outputs": [
    {
     "data": {
      "text/plain": [
       "Vector space of dimension 1000000 over Rational Field"
      ]
     },
     "execution_count": 1,
     "metadata": {},
     "output_type": "execute_result"
    }
   ],
   "source": [
    "V = VectorSpace(QQ, 1000000); V"
   ]
  },
  {
   "cell_type": "code",
   "execution_count": null,
   "id": "2e92ec5a",
   "metadata": {},
   "outputs": [
    {
     "data": {
      "text/plain": [
       "<class 'sage.modules.free_module.FreeModule_ambient_field_with_category'>"
      ]
     },
     "execution_count": 1,
     "metadata": {},
     "output_type": "execute_result"
    }
   ],
   "source": [
    "type(V)"
   ]
  },
  {
   "cell_type": "markdown",
   "id": "a13812e2",
   "metadata": {},
   "source": [
    "Only certain functions can be called on `V`. In other math software\n",
    "systems, these would be called using the \"functional\" notation\n",
    "`foo(V,...)`. In Sage, certain functions are attached to the type (or\n",
    "class) of `V`, and are called using an object-oriented syntax like in\n",
    "Java or C++, e.g., `V.foo(...)`. This helps keep the global namespace\n",
    "from being polluted with tens of thousands of functions, and means that\n",
    "many different functions with different behavior can be named foo,\n",
    "without having to use type-checking of arguments (or case statements) to\n",
    "decide which to call. Also, if you reuse the name of a function, that\n",
    "function is still available (e.g., if you call something `zeta`, then\n",
    "want to compute the value of the Riemann-Zeta function at 0.5, you can\n",
    "still type `s=.5; s.zeta()`)."
   ]
  },
  {
   "cell_type": "code",
   "execution_count": null,
   "id": "83a9e130",
   "metadata": {},
   "outputs": [
    {
     "data": {
      "text/plain": [
       "-1.46035450880959"
      ]
     },
     "execution_count": 1,
     "metadata": {},
     "output_type": "execute_result"
    }
   ],
   "source": [
    "zeta = -1\n",
    "s=.5; s.zeta()"
   ]
  },
  {
   "cell_type": "markdown",
   "id": "90fa2a19",
   "metadata": {},
   "source": [
    "In some very common cases, the usual functional notation is also\n",
    "supported for convenience and because mathematical expressions might\n",
    "look confusing using object-oriented notation. Here are some examples."
   ]
  },
  {
   "cell_type": "code",
   "execution_count": null,
   "id": "c4483153",
   "metadata": {},
   "outputs": [
    {
     "data": {
      "text/plain": [
       "sqrt(2)"
      ]
     },
     "execution_count": 1,
     "metadata": {},
     "output_type": "execute_result"
    }
   ],
   "source": [
    "n = 2; n.sqrt()"
   ]
  },
  {
   "cell_type": "code",
   "execution_count": null,
   "id": "7b6202f0",
   "metadata": {},
   "outputs": [
    {
     "data": {
      "text/plain": [
       "sqrt(2)"
      ]
     },
     "execution_count": 1,
     "metadata": {},
     "output_type": "execute_result"
    }
   ],
   "source": [
    "sqrt(2)"
   ]
  },
  {
   "cell_type": "code",
   "execution_count": null,
   "id": "2a7671bc",
   "metadata": {},
   "outputs": [
    {
     "data": {
      "text/plain": [
       "    [\n",
       "    (1, 0),\n",
       "    (0, 1)\n",
       "    ]"
      ]
     },
     "execution_count": 1,
     "metadata": {},
     "output_type": "execute_result"
    }
   ],
   "source": [
    "V = VectorSpace(QQ,2)\n",
    "V.basis()"
   ]
  },
  {
   "cell_type": "code",
   "execution_count": null,
   "id": "a1715330",
   "metadata": {},
   "outputs": [
    {
     "data": {
      "text/plain": [
       "    [\n",
       "    (1, 0),\n",
       "    (0, 1)\n",
       "    ]"
      ]
     },
     "execution_count": 1,
     "metadata": {},
     "output_type": "execute_result"
    }
   ],
   "source": [
    "basis(V)"
   ]
  },
  {
   "cell_type": "code",
   "execution_count": null,
   "id": "88b3393f",
   "metadata": {},
   "outputs": [
    {
     "data": {
      "text/plain": [
       "Full MatrixSpace of 2 by 2 dense matrices over Finite Field of size 7"
      ]
     },
     "execution_count": 1,
     "metadata": {},
     "output_type": "execute_result"
    }
   ],
   "source": [
    "M = MatrixSpace(GF(7), 2); M"
   ]
  },
  {
   "cell_type": "code",
   "execution_count": null,
   "id": "7ad2d7c8",
   "metadata": {},
   "outputs": [
    {
     "data": {
      "text/plain": [
       "[1 2]\n",
       "[3 4]"
      ]
     },
     "execution_count": 1,
     "metadata": {},
     "output_type": "execute_result"
    }
   ],
   "source": [
    "A = M([1,2,3,4]); A"
   ]
  },
  {
   "cell_type": "code",
   "execution_count": null,
   "id": "f0504c15",
   "metadata": {},
   "outputs": [
    {
     "data": {
      "text/plain": [
       "x^2 + 2*x + 5"
      ]
     },
     "execution_count": 1,
     "metadata": {},
     "output_type": "execute_result"
    }
   ],
   "source": [
    "A.charpoly('x')"
   ]
  },
  {
   "cell_type": "code",
   "execution_count": null,
   "id": "5dd65cfb",
   "metadata": {},
   "outputs": [
    {
     "data": {
      "text/plain": [
       "x^2 + 2*x + 5"
      ]
     },
     "execution_count": 1,
     "metadata": {},
     "output_type": "execute_result"
    }
   ],
   "source": [
    "charpoly(A, 'x')"
   ]
  },
  {
   "cell_type": "markdown",
   "id": "46204635",
   "metadata": {},
   "source": [
    "To list all member functions for $A$, use tab completion. Just type\n",
    "`A.`, then type the `[tab]` key on your keyboard, as explained in\n",
    "[section-tabcompletion](section-tabcompletion.ipynb).\n",
    "\n",
    "## Lists, Tuples, and Sequences\n",
    "\n",
    "The list data type stores elements of arbitrary type. Like in C, C++,\n",
    "etc. (but unlike most standard computer algebra systems), the elements\n",
    "of the list are indexed starting from $0$ :"
   ]
  },
  {
   "cell_type": "code",
   "execution_count": null,
   "id": "993b69a2",
   "metadata": {},
   "outputs": [
    {
     "data": {
      "text/plain": [
       "[2, 3, 5, 'x', Symmetric group of order 3! as a permutation group]"
      ]
     },
     "execution_count": 1,
     "metadata": {},
     "output_type": "execute_result"
    }
   ],
   "source": [
    "v = [2, 3, 5, 'x', SymmetricGroup(3)]; v"
   ]
  },
  {
   "cell_type": "code",
   "execution_count": null,
   "id": "77d833f7",
   "metadata": {},
   "outputs": [
    {
     "data": {
      "text/plain": [
       "<... 'list'>"
      ]
     },
     "execution_count": 1,
     "metadata": {},
     "output_type": "execute_result"
    }
   ],
   "source": [
    "type(v)"
   ]
  },
  {
   "cell_type": "code",
   "execution_count": null,
   "id": "c5f94dcb",
   "metadata": {},
   "outputs": [
    {
     "data": {
      "text/plain": [
       "2"
      ]
     },
     "execution_count": 1,
     "metadata": {},
     "output_type": "execute_result"
    }
   ],
   "source": [
    "v[0]"
   ]
  },
  {
   "cell_type": "code",
   "execution_count": null,
   "id": "c4a40742",
   "metadata": {},
   "outputs": [
    {
     "data": {
      "text/plain": [
       "5"
      ]
     },
     "execution_count": 1,
     "metadata": {},
     "output_type": "execute_result"
    }
   ],
   "source": [
    "v[2]"
   ]
  },
  {
   "cell_type": "markdown",
   "id": "0ba7edeb",
   "metadata": {},
   "source": [
    "(When indexing into a list, it is OK if the index is not a Python int!)\n",
    "A Sage Integer (or Rational, or anything with an `__index__` method)\n",
    "will work just fine."
   ]
  },
  {
   "cell_type": "code",
   "execution_count": null,
   "id": "d1d4bf65",
   "metadata": {},
   "outputs": [
    {
     "data": {
      "text/plain": [
       "3"
      ]
     },
     "execution_count": 1,
     "metadata": {},
     "output_type": "execute_result"
    }
   ],
   "source": [
    "v = [1,2,3]\n",
    "v[2]"
   ]
  },
  {
   "cell_type": "code",
   "execution_count": null,
   "id": "3746a379",
   "metadata": {},
   "outputs": [
    {
     "data": {
      "text/plain": [
       "3"
      ]
     },
     "execution_count": 1,
     "metadata": {},
     "output_type": "execute_result"
    }
   ],
   "source": [
    "n = 2      # Sage Integer\n",
    "v[n]       # Perfectly OK!"
   ]
  },
  {
   "cell_type": "code",
   "execution_count": null,
   "id": "0ff48fe9",
   "metadata": {},
   "outputs": [
    {
     "data": {
      "text/plain": [
       "3"
      ]
     },
     "execution_count": 1,
     "metadata": {},
     "output_type": "execute_result"
    }
   ],
   "source": [
    "v[int(n)]  # Also OK."
   ]
  },
  {
   "cell_type": "markdown",
   "id": "5c2077e9",
   "metadata": {},
   "source": [
    "The `range` function creates a list of Python int's (not Sage Integers):"
   ]
  },
  {
   "cell_type": "code",
   "execution_count": null,
   "id": "2a21fb20",
   "metadata": {},
   "outputs": [
    {
     "data": {
      "text/plain": [
       "[1, 2, 3, 4, 5, 6, 7, 8, 9, 10, 11, 12, 13, 14]"
      ]
     },
     "execution_count": 1,
     "metadata": {},
     "output_type": "execute_result"
    }
   ],
   "source": [
    "list(range(1, 15))"
   ]
  },
  {
   "cell_type": "markdown",
   "id": "4c6bbfcf",
   "metadata": {},
   "source": [
    "This is useful when using list comprehensions to construct lists:"
   ]
  },
  {
   "cell_type": "code",
   "execution_count": null,
   "id": "376d54f9",
   "metadata": {},
   "outputs": [
    {
     "data": {
      "text/plain": [
       "[1, 2, 3, 2^2, 5, 2 * 3, 7, 2^3, 3^2, 2 * 5, 11, 2^2 * 3, 13, 2 * 7]"
      ]
     },
     "execution_count": 1,
     "metadata": {},
     "output_type": "execute_result"
    }
   ],
   "source": [
    "L = [factor(n) for n in range(1, 15)]\n",
    "L"
   ]
  },
  {
   "cell_type": "code",
   "execution_count": null,
   "id": "d9906936",
   "metadata": {},
   "outputs": [
    {
     "data": {
      "text/plain": [
       "13"
      ]
     },
     "execution_count": 1,
     "metadata": {},
     "output_type": "execute_result"
    }
   ],
   "source": [
    "L[12]"
   ]
  },
  {
   "cell_type": "code",
   "execution_count": null,
   "id": "1fa974ef",
   "metadata": {},
   "outputs": [
    {
     "data": {
      "text/plain": [
       "<class 'sage.structure.factorization_integer.IntegerFactorization'>"
      ]
     },
     "execution_count": 1,
     "metadata": {},
     "output_type": "execute_result"
    }
   ],
   "source": [
    "type(L[12])"
   ]
  },
  {
   "cell_type": "code",
   "execution_count": null,
   "id": "dd05c1d1",
   "metadata": {},
   "outputs": [
    {
     "data": {
      "text/plain": [
       "[1, 3, 5, 7, 3^2, 11, 13]"
      ]
     },
     "execution_count": 1,
     "metadata": {},
     "output_type": "execute_result"
    }
   ],
   "source": [
    "[factor(n) for n in range(1, 15) if is_odd(n)]"
   ]
  },
  {
   "cell_type": "markdown",
   "id": "348daf90",
   "metadata": {},
   "source": [
    "For more about how to create lists using list comprehensions, see\n",
    "[\\[PyT\\]]().\n",
    "\n",
    "List slicing is a wonderful feature. If `L` is a list, then `L[m:n]`\n",
    "returns the sublist of `L` obtained by starting at the $m^{th}$ element\n",
    "and stopping at the $(n-1)^{st}$ element, as illustrated below."
   ]
  },
  {
   "cell_type": "code",
   "execution_count": null,
   "id": "5894d8d8",
   "metadata": {},
   "outputs": [
    {
     "data": {
      "text/plain": [
       "[5, 2 * 3, 7, 2^3, 3^2]"
      ]
     },
     "execution_count": 1,
     "metadata": {},
     "output_type": "execute_result"
    }
   ],
   "source": [
    "L = [factor(n) for n in range(1, 20)]\n",
    "L[4:9]"
   ]
  },
  {
   "cell_type": "code",
   "execution_count": null,
   "id": "19838d14",
   "metadata": {},
   "outputs": [
    {
     "data": {
      "text/plain": [
       "[1, 2, 3, 2^2]"
      ]
     },
     "execution_count": 1,
     "metadata": {},
     "output_type": "execute_result"
    }
   ],
   "source": [
    "L[:4]"
   ]
  },
  {
   "cell_type": "code",
   "execution_count": null,
   "id": "d650dc50",
   "metadata": {},
   "outputs": [
    {
     "data": {
      "text/plain": [
       "[]"
      ]
     },
     "execution_count": 1,
     "metadata": {},
     "output_type": "execute_result"
    }
   ],
   "source": [
    "L[14:4]"
   ]
  },
  {
   "cell_type": "code",
   "execution_count": null,
   "id": "3d069ee6",
   "metadata": {},
   "outputs": [
    {
     "data": {
      "text/plain": [
       "[3 * 5, 2^4, 17, 2 * 3^2, 19]"
      ]
     },
     "execution_count": 1,
     "metadata": {},
     "output_type": "execute_result"
    }
   ],
   "source": [
    "L[14:]"
   ]
  },
  {
   "cell_type": "markdown",
   "id": "e1a4432e",
   "metadata": {},
   "source": [
    "Tuples are similar to lists, except they are immutable, meaning once\n",
    "they are created they can't be changed."
   ]
  },
  {
   "cell_type": "code",
   "execution_count": null,
   "id": "479ad213",
   "metadata": {},
   "outputs": [
    {
     "data": {
      "text/plain": [
       "(1, 2, 3, 4)"
      ]
     },
     "execution_count": 1,
     "metadata": {},
     "output_type": "execute_result"
    }
   ],
   "source": [
    "v = (1,2,3,4); v"
   ]
  },
  {
   "cell_type": "code",
   "execution_count": null,
   "id": "22f01490",
   "metadata": {},
   "outputs": [
    {
     "data": {
      "text/plain": [
       "<... 'tuple'>"
      ]
     },
     "execution_count": 1,
     "metadata": {},
     "output_type": "execute_result"
    }
   ],
   "source": [
    "type(v)"
   ]
  },
  {
   "cell_type": "code",
   "execution_count": null,
   "id": "58fe9f89",
   "metadata": {},
   "outputs": [
    {
     "data": {
      "text/plain": [
       "Traceback (most recent call last):\n",
       "...\n",
       "TypeError: 'tuple' object does not support item assignment"
      ]
     },
     "execution_count": 1,
     "metadata": {},
     "output_type": "execute_result"
    }
   ],
   "source": [
    "v[1] = 5"
   ]
  },
  {
   "cell_type": "markdown",
   "id": "6384ef74",
   "metadata": {},
   "source": [
    "Sequences are a third list-oriented Sage type. Unlike lists and tuples,\n",
    "Sequence is not a built-in Python type. By default, a sequence is\n",
    "mutable, but using the `Sequence` class method `set_immutable`, it can\n",
    "be set to be immutable, as the following example illustrates. All\n",
    "elements of a sequence have a common parent, called the sequences\n",
    "universe."
   ]
  },
  {
   "cell_type": "code",
   "execution_count": null,
   "id": "f6515876",
   "metadata": {},
   "outputs": [
    {
     "data": {
      "text/plain": [
       "[1, 2, 3, 4/5]"
      ]
     },
     "execution_count": 1,
     "metadata": {},
     "output_type": "execute_result"
    }
   ],
   "source": [
    "v = Sequence([1,2,3,4/5])\n",
    "v"
   ]
  },
  {
   "cell_type": "code",
   "execution_count": null,
   "id": "538a95e1",
   "metadata": {},
   "outputs": [
    {
     "data": {
      "text/plain": [
       "<class 'sage.structure.sequence.Sequence_generic'>"
      ]
     },
     "execution_count": 1,
     "metadata": {},
     "output_type": "execute_result"
    }
   ],
   "source": [
    "type(v)"
   ]
  },
  {
   "cell_type": "code",
   "execution_count": null,
   "id": "8e8edce3",
   "metadata": {},
   "outputs": [
    {
     "data": {
      "text/plain": [
       "<class 'sage.rings.rational.Rational'>"
      ]
     },
     "execution_count": 1,
     "metadata": {},
     "output_type": "execute_result"
    }
   ],
   "source": [
    "type(v[1])"
   ]
  },
  {
   "cell_type": "code",
   "execution_count": null,
   "id": "aa3a0b91",
   "metadata": {},
   "outputs": [
    {
     "data": {
      "text/plain": [
       "Rational Field"
      ]
     },
     "execution_count": 1,
     "metadata": {},
     "output_type": "execute_result"
    }
   ],
   "source": [
    "v.universe()"
   ]
  },
  {
   "cell_type": "code",
   "execution_count": null,
   "id": "ef95edee",
   "metadata": {},
   "outputs": [
    {
     "data": {
      "text/plain": [
       "False"
      ]
     },
     "execution_count": 1,
     "metadata": {},
     "output_type": "execute_result"
    }
   ],
   "source": [
    "v.is_immutable()"
   ]
  },
  {
   "cell_type": "code",
   "execution_count": null,
   "id": "218016c7",
   "metadata": {},
   "outputs": [
    {
     "data": {
      "text/plain": [
       "Traceback (most recent call last):\n",
       "...\n",
       "ValueError: object is immutable; please change a copy instead."
      ]
     },
     "execution_count": 1,
     "metadata": {},
     "output_type": "execute_result"
    }
   ],
   "source": [
    "v.set_immutable()\n",
    "v[0] = 3"
   ]
  },
  {
   "cell_type": "markdown",
   "id": "df6a3226",
   "metadata": {},
   "source": [
    "Sequences derive from lists and can be used anywhere a list can be used:"
   ]
  },
  {
   "cell_type": "code",
   "execution_count": null,
   "id": "b70a57d8",
   "metadata": {},
   "outputs": [
    {
     "data": {
      "text/plain": [
       "True"
      ]
     },
     "execution_count": 1,
     "metadata": {},
     "output_type": "execute_result"
    }
   ],
   "source": [
    "v = Sequence([1,2,3,4/5])\n",
    "isinstance(v, list)"
   ]
  },
  {
   "cell_type": "code",
   "execution_count": null,
   "id": "e4836083",
   "metadata": {},
   "outputs": [
    {
     "data": {
      "text/plain": [
       "[1, 2, 3, 4/5]"
      ]
     },
     "execution_count": 1,
     "metadata": {},
     "output_type": "execute_result"
    }
   ],
   "source": [
    "list(v)"
   ]
  },
  {
   "cell_type": "code",
   "execution_count": null,
   "id": "eea13c80",
   "metadata": {},
   "outputs": [
    {
     "data": {
      "text/plain": [
       "<... 'list'>"
      ]
     },
     "execution_count": 1,
     "metadata": {},
     "output_type": "execute_result"
    }
   ],
   "source": [
    "type(list(v))"
   ]
  },
  {
   "cell_type": "markdown",
   "id": "e00addb9",
   "metadata": {},
   "source": [
    "As another example, basis for vector spaces are immutable sequences,\n",
    "since it's important that you don't change them."
   ]
  },
  {
   "cell_type": "code",
   "execution_count": null,
   "id": "6bdd82bf",
   "metadata": {},
   "outputs": [
    {
     "data": {
      "text/plain": [
       "[\n",
       "(1, 0, 0),\n",
       "(0, 1, 0),\n",
       "(0, 0, 1)\n",
       "]"
      ]
     },
     "execution_count": 1,
     "metadata": {},
     "output_type": "execute_result"
    }
   ],
   "source": [
    "V = QQ^3; B = V.basis(); B"
   ]
  },
  {
   "cell_type": "code",
   "execution_count": null,
   "id": "939cbe6c",
   "metadata": {},
   "outputs": [
    {
     "data": {
      "text/plain": [
       "<class 'sage.structure.sequence.Sequence_generic'>"
      ]
     },
     "execution_count": 1,
     "metadata": {},
     "output_type": "execute_result"
    }
   ],
   "source": [
    "type(B)"
   ]
  },
  {
   "cell_type": "code",
   "execution_count": null,
   "id": "813ff45d",
   "metadata": {},
   "outputs": [
    {
     "data": {
      "text/plain": [
       "Traceback (most recent call last):\n",
       "...\n",
       "ValueError: object is immutable; please change a copy instead."
      ]
     },
     "execution_count": 1,
     "metadata": {},
     "output_type": "execute_result"
    }
   ],
   "source": [
    "B[0] = B[1]"
   ]
  },
  {
   "cell_type": "code",
   "execution_count": null,
   "id": "fdadc3fe",
   "metadata": {},
   "outputs": [
    {
     "data": {
      "text/plain": [
       "Vector space of dimension 3 over Rational Field"
      ]
     },
     "execution_count": 1,
     "metadata": {},
     "output_type": "execute_result"
    }
   ],
   "source": [
    "B.universe()"
   ]
  },
  {
   "cell_type": "markdown",
   "id": "d2465086",
   "metadata": {},
   "source": [
    "## Dictionaries\n",
    "\n",
    "A dictionary (also sometimes called an associative array) is a mapping\n",
    "from 'hashable' objects (e.g., strings, numbers, and tuples of such; see\n",
    "the Python documentation <http://docs.python.org/tut/node7.html> and\n",
    "<http://docs.python.org/lib/typesmapping.html> for details) to arbitrary\n",
    "objects."
   ]
  },
  {
   "cell_type": "code",
   "execution_count": null,
   "id": "ff3911f4",
   "metadata": {},
   "outputs": [
    {
     "data": {
      "text/plain": [
       "<... 'dict'>"
      ]
     },
     "execution_count": 1,
     "metadata": {},
     "output_type": "execute_result"
    }
   ],
   "source": [
    "d = {1:5, 'sage':17, ZZ:GF(7)}\n",
    "type(d)"
   ]
  },
  {
   "cell_type": "code",
   "execution_count": null,
   "id": "816979ac",
   "metadata": {},
   "outputs": [
    {
     "data": {
      "text/plain": [
       "[1, 'sage', Integer Ring]"
      ]
     },
     "execution_count": 1,
     "metadata": {},
     "output_type": "execute_result"
    }
   ],
   "source": [
    "list(d.keys())"
   ]
  },
  {
   "cell_type": "code",
   "execution_count": null,
   "id": "0eeee2bb",
   "metadata": {},
   "outputs": [
    {
     "data": {
      "text/plain": [
       "17"
      ]
     },
     "execution_count": 1,
     "metadata": {},
     "output_type": "execute_result"
    }
   ],
   "source": [
    "d['sage']"
   ]
  },
  {
   "cell_type": "code",
   "execution_count": null,
   "id": "29ca268a",
   "metadata": {},
   "outputs": [
    {
     "data": {
      "text/plain": [
       "Finite Field of size 7"
      ]
     },
     "execution_count": 1,
     "metadata": {},
     "output_type": "execute_result"
    }
   ],
   "source": [
    "d[ZZ]"
   ]
  },
  {
   "cell_type": "code",
   "execution_count": null,
   "id": "6977732e",
   "metadata": {},
   "outputs": [
    {
     "data": {
      "text/plain": [
       "5"
      ]
     },
     "execution_count": 1,
     "metadata": {},
     "output_type": "execute_result"
    }
   ],
   "source": [
    "d[1]"
   ]
  },
  {
   "cell_type": "markdown",
   "id": "6666bd2f",
   "metadata": {},
   "source": [
    "The third key illustrates that the indexes of a dictionary can be\n",
    "complicated, e.g., the ring of integers.\n",
    "\n",
    "You can turn the above dictionary into a list with the same data:"
   ]
  },
  {
   "cell_type": "code",
   "execution_count": null,
   "id": "0bdae099",
   "metadata": {},
   "outputs": [
    {
     "data": {
      "text/plain": [
       "[(1, 5), ('sage', 17), (Integer Ring, Finite Field of size 7)]"
      ]
     },
     "execution_count": 1,
     "metadata": {},
     "output_type": "execute_result"
    }
   ],
   "source": [
    "list(d.items())"
   ]
  },
  {
   "cell_type": "markdown",
   "id": "c87f441e",
   "metadata": {},
   "source": [
    "A common idiom is to iterate through the pairs in a dictionary:"
   ]
  },
  {
   "cell_type": "code",
   "execution_count": null,
   "id": "e0c3d345",
   "metadata": {},
   "outputs": [
    {
     "data": {
      "text/plain": [
       "[8, 27, 64]"
      ]
     },
     "execution_count": 1,
     "metadata": {},
     "output_type": "execute_result"
    }
   ],
   "source": [
    "d = {2:4, 3:9, 4:16}\n",
    "[a*b for a, b in d.items()]"
   ]
  },
  {
   "cell_type": "markdown",
   "id": "af6c88cc",
   "metadata": {},
   "source": [
    "A dictionary is unordered, as the last output illustrates.\n",
    "\n",
    "## Sets\n",
    "\n",
    "Python has a built-in set type. The main feature it offers is very fast\n",
    "lookup of whether an element is in the set or not, along with standard\n",
    "set-theoretic operations."
   ]
  },
  {
   "cell_type": "code",
   "execution_count": null,
   "id": "9c6bc03a",
   "metadata": {},
   "outputs": [
    {
     "data": {
      "text/plain": [
       "{1, 19, 'a'}"
      ]
     },
     "execution_count": 1,
     "metadata": {},
     "output_type": "execute_result"
    }
   ],
   "source": [
    "X = set([1,19,'a']);   Y = set([1,1,1, 2/3])\n",
    "X   # random sort order"
   ]
  },
  {
   "cell_type": "code",
   "execution_count": null,
   "id": "9bf70d53",
   "metadata": {},
   "outputs": [
    {
     "data": {
      "text/plain": [
       "True"
      ]
     },
     "execution_count": 1,
     "metadata": {},
     "output_type": "execute_result"
    }
   ],
   "source": [
    "X == set(['a', 1, 1, 19])"
   ]
  },
  {
   "cell_type": "code",
   "execution_count": null,
   "id": "b7a49c85",
   "metadata": {},
   "outputs": [
    {
     "data": {
      "text/plain": [
       "{2/3, 1}"
      ]
     },
     "execution_count": 1,
     "metadata": {},
     "output_type": "execute_result"
    }
   ],
   "source": [
    "Y"
   ]
  },
  {
   "cell_type": "code",
   "execution_count": null,
   "id": "a0ca6731",
   "metadata": {},
   "outputs": [
    {
     "data": {
      "text/plain": [
       "True"
      ]
     },
     "execution_count": 1,
     "metadata": {},
     "output_type": "execute_result"
    }
   ],
   "source": [
    "'a' in X"
   ]
  },
  {
   "cell_type": "code",
   "execution_count": null,
   "id": "277c522a",
   "metadata": {},
   "outputs": [
    {
     "data": {
      "text/plain": [
       "False"
      ]
     },
     "execution_count": 1,
     "metadata": {},
     "output_type": "execute_result"
    }
   ],
   "source": [
    "'a' in Y"
   ]
  },
  {
   "cell_type": "code",
   "execution_count": null,
   "id": "5149aa3c",
   "metadata": {},
   "outputs": [
    {
     "data": {
      "text/plain": [
       "{1}"
      ]
     },
     "execution_count": 1,
     "metadata": {},
     "output_type": "execute_result"
    }
   ],
   "source": [
    "X.intersection(Y)"
   ]
  },
  {
   "cell_type": "markdown",
   "id": "f2b108b3",
   "metadata": {},
   "source": [
    "Sage also has its own set type that is (in some cases) implemented using\n",
    "the built-in Python set type, but has a little bit of extra Sage-related\n",
    "functionality. Create a Sage set using `Set(...)`. For example,"
   ]
  },
  {
   "cell_type": "code",
   "execution_count": null,
   "id": "afa91230",
   "metadata": {},
   "outputs": [
    {
     "data": {
      "text/plain": [
       "{'a', 1, 19}"
      ]
     },
     "execution_count": 1,
     "metadata": {},
     "output_type": "execute_result"
    }
   ],
   "source": [
    "X = Set([1,19,'a']);   Y = Set([1,1,1, 2/3])\n",
    "X   # random sort order"
   ]
  },
  {
   "cell_type": "code",
   "execution_count": null,
   "id": "c61bf1d6",
   "metadata": {},
   "outputs": [
    {
     "data": {
      "text/plain": [
       "True"
      ]
     },
     "execution_count": 1,
     "metadata": {},
     "output_type": "execute_result"
    }
   ],
   "source": [
    "X == Set(['a', 1, 1, 19])"
   ]
  },
  {
   "cell_type": "code",
   "execution_count": null,
   "id": "dd671141",
   "metadata": {},
   "outputs": [
    {
     "data": {
      "text/plain": [
       "{1, 2/3}"
      ]
     },
     "execution_count": 1,
     "metadata": {},
     "output_type": "execute_result"
    }
   ],
   "source": [
    "Y"
   ]
  },
  {
   "cell_type": "code",
   "execution_count": null,
   "id": "959e4412",
   "metadata": {},
   "outputs": [
    {
     "data": {
      "text/plain": [
       "{1}"
      ]
     },
     "execution_count": 1,
     "metadata": {},
     "output_type": "execute_result"
    }
   ],
   "source": [
    "X.intersection(Y)"
   ]
  },
  {
   "cell_type": "code",
   "execution_count": null,
   "id": "8b96262c",
   "metadata": {},
   "outputs": [
    {
     "data": {
      "text/plain": [
       "\\left\\{1, \\frac{2}{3}\\right\\}"
      ]
     },
     "execution_count": 1,
     "metadata": {},
     "output_type": "execute_result"
    }
   ],
   "source": [
    "print(latex(Y))"
   ]
  },
  {
   "cell_type": "code",
   "execution_count": null,
   "id": "c90211a9",
   "metadata": {},
   "outputs": [
    {
     "data": {
      "text/plain": [
       "Set of elements of Integer Ring"
      ]
     },
     "execution_count": 1,
     "metadata": {},
     "output_type": "execute_result"
    }
   ],
   "source": [
    "Set(ZZ)"
   ]
  },
  {
   "cell_type": "markdown",
   "id": "d9ec820b",
   "metadata": {},
   "source": [
    "## Iterators\n",
    "\n",
    "Iterators are a recent addition to Python that are particularly useful\n",
    "in mathematics applications. Here are several examples; see [\\[PyT\\]]()\n",
    "for more details. We make an iterator over the squares of the\n",
    "nonnegative integers up to $10000000$."
   ]
  },
  {
   "cell_type": "code",
   "execution_count": null,
   "id": "f633bcc6",
   "metadata": {},
   "outputs": [
    {
     "data": {
      "text/plain": [
       "0"
      ]
     },
     "execution_count": 1,
     "metadata": {},
     "output_type": "execute_result"
    }
   ],
   "source": [
    "v = (n^2 for n in range(10000000))\n",
    "next(v)"
   ]
  },
  {
   "cell_type": "code",
   "execution_count": null,
   "id": "282b24b5",
   "metadata": {},
   "outputs": [
    {
     "data": {
      "text/plain": [
       "1"
      ]
     },
     "execution_count": 1,
     "metadata": {},
     "output_type": "execute_result"
    }
   ],
   "source": [
    "next(v)"
   ]
  },
  {
   "cell_type": "code",
   "execution_count": null,
   "id": "5df97ab9",
   "metadata": {},
   "outputs": [
    {
     "data": {
      "text/plain": [
       "4"
      ]
     },
     "execution_count": 1,
     "metadata": {},
     "output_type": "execute_result"
    }
   ],
   "source": [
    "next(v)"
   ]
  },
  {
   "cell_type": "markdown",
   "id": "6211ec71",
   "metadata": {},
   "source": [
    "We create an iterate over the primes of the form $4p+1$ with $p$ also\n",
    "prime, and look at the first few values."
   ]
  },
  {
   "cell_type": "code",
   "execution_count": null,
   "id": "ecc5420e",
   "metadata": {},
   "outputs": [
    {
     "data": {
      "text/plain": [
       "<generator object at 0xb0853d6c>"
      ]
     },
     "execution_count": 1,
     "metadata": {},
     "output_type": "execute_result"
    }
   ],
   "source": [
    "w = (4*p + 1 for p in Primes() if is_prime(4*p+1))\n",
    "w         # in the next line, 0xb0853d6c is a random 0x number"
   ]
  },
  {
   "cell_type": "code",
   "execution_count": null,
   "id": "79b77825",
   "metadata": {},
   "outputs": [
    {
     "data": {
      "text/plain": [
       "13"
      ]
     },
     "execution_count": 1,
     "metadata": {},
     "output_type": "execute_result"
    }
   ],
   "source": [
    "next(w)"
   ]
  },
  {
   "cell_type": "code",
   "execution_count": null,
   "id": "9820aae1",
   "metadata": {},
   "outputs": [
    {
     "data": {
      "text/plain": [
       "29"
      ]
     },
     "execution_count": 1,
     "metadata": {},
     "output_type": "execute_result"
    }
   ],
   "source": [
    "next(w)"
   ]
  },
  {
   "cell_type": "code",
   "execution_count": null,
   "id": "9e8b3b4c",
   "metadata": {},
   "outputs": [
    {
     "data": {
      "text/plain": [
       "53"
      ]
     },
     "execution_count": 1,
     "metadata": {},
     "output_type": "execute_result"
    }
   ],
   "source": [
    "next(w)"
   ]
  },
  {
   "cell_type": "markdown",
   "id": "30932861",
   "metadata": {},
   "source": [
    "Certain rings, e.g., finite fields and the integers have iterators\n",
    "associated to them:"
   ]
  },
  {
   "cell_type": "code",
   "execution_count": null,
   "id": "7542e7db",
   "metadata": {},
   "outputs": [
    {
     "data": {
      "text/plain": [
       "[0, 1, 2, 3, 4, 5, 6]"
      ]
     },
     "execution_count": 1,
     "metadata": {},
     "output_type": "execute_result"
    }
   ],
   "source": [
    "[x for x in GF(7)]"
   ]
  },
  {
   "cell_type": "code",
   "execution_count": null,
   "id": "c3db22d6",
   "metadata": {},
   "outputs": [
    {
     "data": {
      "text/plain": [
       "(0, 0)"
      ]
     },
     "execution_count": 1,
     "metadata": {},
     "output_type": "execute_result"
    }
   ],
   "source": [
    "W = ((x,y) for x in ZZ for y in ZZ)\n",
    "next(W)"
   ]
  },
  {
   "cell_type": "code",
   "execution_count": null,
   "id": "c1a1d192",
   "metadata": {},
   "outputs": [
    {
     "data": {
      "text/plain": [
       "(0, 1)"
      ]
     },
     "execution_count": 1,
     "metadata": {},
     "output_type": "execute_result"
    }
   ],
   "source": [
    "next(W)"
   ]
  },
  {
   "cell_type": "code",
   "execution_count": null,
   "id": "356f2aee",
   "metadata": {},
   "outputs": [
    {
     "data": {
      "text/plain": [
       "(0, -1)"
      ]
     },
     "execution_count": 1,
     "metadata": {},
     "output_type": "execute_result"
    }
   ],
   "source": [
    "next(W)"
   ]
  },
  {
   "cell_type": "markdown",
   "id": "7336032c",
   "metadata": {},
   "source": [
    "## Loops, Functions, Control Statements, and Comparisons\n",
    "\n",
    "We have seen a few examples already of some common uses of `for` loops.\n",
    "In Python, a `for` loop has an indented structure, such as"
   ]
  },
  {
   "cell_type": "code",
   "execution_count": null,
   "id": "bf96fe93",
   "metadata": {},
   "outputs": [
    {
     "data": {
      "text/plain": [
       "0\n",
       "1\n",
       "2\n",
       "3\n",
       "4"
      ]
     },
     "execution_count": 1,
     "metadata": {},
     "output_type": "execute_result"
    }
   ],
   "source": [
    "for i in range(5):\n",
    "    print(i)"
   ]
  },
  {
   "cell_type": "markdown",
   "id": "3d874bd0",
   "metadata": {},
   "source": [
    "Note the colon at the end of the for statement (there is no \"do\" or \"od\"\n",
    "as in GAP or Maple), and the indentation before the \"body\" of the loop,\n",
    "namely `print(i)`. This indentation is important. In Sage, the\n",
    "indentation is automatically put in for you when you hit `enter` after a\n",
    "\":\", as illustrated below."
   ]
  },
  {
   "cell_type": "code",
   "execution_count": null,
   "id": "5f96e7de",
   "metadata": {},
   "outputs": [
    {
     "data": {
      "text/plain": [
       "....:\n",
       "0\n",
       "1\n",
       "2\n",
       "3\n",
       "4"
      ]
     },
     "execution_count": 1,
     "metadata": {},
     "output_type": "execute_result"
    }
   ],
   "source": [
    "for i in range(5):\n",
    "    print(i)  # now hit enter twice"
   ]
  },
  {
   "cell_type": "markdown",
   "id": "ba8a0f9e",
   "metadata": {},
   "source": [
    "The symbol `=` is used for assignment. The symbol `==` is used to check\n",
    "for equality:"
   ]
  },
  {
   "cell_type": "code",
   "execution_count": null,
   "id": "764d6fe8",
   "metadata": {},
   "outputs": [
    {
     "data": {
      "text/plain": [
       "....:\n",
       "1\n",
       "2\n",
       "4\n",
       "7\n",
       "8\n",
       "11\n",
       "13\n",
       "14"
      ]
     },
     "execution_count": 1,
     "metadata": {},
     "output_type": "execute_result"
    }
   ],
   "source": [
    "for i in range(15):\n",
    "    if gcd(i,15) == 1:\n",
    "        print(i)"
   ]
  },
  {
   "cell_type": "markdown",
   "id": "f144210d",
   "metadata": {},
   "source": [
    "Keep in mind how indentation determines the block structure for `if`,\n",
    "`for`, and `while` statements:"
   ]
  },
  {
   "cell_type": "code",
   "execution_count": null,
   "id": "e9649cef",
   "metadata": {},
   "outputs": [],
   "source": [
    "def legendre(a,p):\n",
    "    is_sqr_modp=-1\n",
    "    for i in range(p):\n",
    "        if a % p == i^2 % p:\n",
    "            is_sqr_modp=1\n",
    "    return is_sqr_modp"
   ]
  },
  {
   "cell_type": "code",
   "execution_count": null,
   "id": "d80ffee9",
   "metadata": {},
   "outputs": [
    {
     "data": {
      "text/plain": [
       "1"
      ]
     },
     "execution_count": 1,
     "metadata": {},
     "output_type": "execute_result"
    }
   ],
   "source": [
    "legendre(2,7)"
   ]
  },
  {
   "cell_type": "code",
   "execution_count": null,
   "id": "636d4432",
   "metadata": {},
   "outputs": [
    {
     "data": {
      "text/plain": [
       "-1"
      ]
     },
     "execution_count": 1,
     "metadata": {},
     "output_type": "execute_result"
    }
   ],
   "source": [
    "legendre(3,7)"
   ]
  },
  {
   "cell_type": "markdown",
   "id": "68292c51",
   "metadata": {},
   "source": [
    "Of course this is not an efficient implementation of the Legendre\n",
    "symbol! It is meant to illustrate various aspects of Python/Sage\n",
    "programming. The function {kronecker}, which comes with Sage, computes\n",
    "the Legendre symbol efficiently via a C-library call to PARI.\n",
    "\n",
    "Finally, we note that comparisons, such as `==`, `!=`, `<=`, `>=`, `>`,\n",
    "`<`, between numbers will automatically convert both numbers into the\n",
    "same type if possible:"
   ]
  },
  {
   "cell_type": "code",
   "execution_count": null,
   "id": "756655f5",
   "metadata": {},
   "outputs": [
    {
     "data": {
      "text/plain": [
       "True\n",
       "False"
      ]
     },
     "execution_count": 1,
     "metadata": {},
     "output_type": "execute_result"
    }
   ],
   "source": [
    "2 < 3.1; 3.1 <= 1"
   ]
  },
  {
   "cell_type": "code",
   "execution_count": null,
   "id": "6976cac3",
   "metadata": {},
   "outputs": [
    {
     "data": {
      "text/plain": [
       "True\n",
       "True"
      ]
     },
     "execution_count": 1,
     "metadata": {},
     "output_type": "execute_result"
    }
   ],
   "source": [
    "2/3 < 3/2;   3/2 < 3/1"
   ]
  },
  {
   "cell_type": "markdown",
   "id": "850bbac1",
   "metadata": {},
   "source": [
    "Use bool for symbolic inequalities:"
   ]
  },
  {
   "cell_type": "code",
   "execution_count": null,
   "id": "494cbc62",
   "metadata": {},
   "outputs": [
    {
     "data": {
      "text/plain": [
       "x < x + 1"
      ]
     },
     "execution_count": 1,
     "metadata": {},
     "output_type": "execute_result"
    }
   ],
   "source": [
    "x < x + 1"
   ]
  },
  {
   "cell_type": "code",
   "execution_count": null,
   "id": "d17f21f0",
   "metadata": {},
   "outputs": [
    {
     "data": {
      "text/plain": [
       "True"
      ]
     },
     "execution_count": 1,
     "metadata": {},
     "output_type": "execute_result"
    }
   ],
   "source": [
    "bool(x < x + 1)"
   ]
  },
  {
   "cell_type": "markdown",
   "id": "1b73bf37",
   "metadata": {},
   "source": [
    "When comparing objects of different types in Sage, in most cases Sage\n",
    "tries to find a canonical coercion of both objects to a common parent\n",
    "(see [section-coercion](section-coercion.ipynb) for more details). If\n",
    "successful, the comparison is performed between the coerced objects; if\n",
    "not successful, the objects are considered not equal. For testing\n",
    "whether two variables reference the same object use `is`. As we see in\n",
    "this example, the Python int `1` is unique, but the Sage Integer `1` is\n",
    "not:"
   ]
  },
  {
   "cell_type": "code",
   "execution_count": null,
   "id": "8ae4b94f",
   "metadata": {},
   "outputs": [
    {
     "data": {
      "text/plain": [
       "False"
      ]
     },
     "execution_count": 1,
     "metadata": {},
     "output_type": "execute_result"
    }
   ],
   "source": [
    "1 is 2/2"
   ]
  },
  {
   "cell_type": "code",
   "execution_count": null,
   "id": "339ef162",
   "metadata": {},
   "outputs": [
    {
     "data": {
      "text/plain": [
       "False"
      ]
     },
     "execution_count": 1,
     "metadata": {},
     "output_type": "execute_result"
    }
   ],
   "source": [
    "1 is 1"
   ]
  },
  {
   "cell_type": "code",
   "execution_count": null,
   "id": "f3667b32",
   "metadata": {},
   "outputs": [
    {
     "data": {
      "text/plain": [
       "True"
      ]
     },
     "execution_count": 1,
     "metadata": {},
     "output_type": "execute_result"
    }
   ],
   "source": [
    "1 == 2/2"
   ]
  },
  {
   "cell_type": "markdown",
   "id": "7eb0e055",
   "metadata": {},
   "source": [
    "In the following two lines, the first equality is `False` because there\n",
    "is no canonical morphism $\\QQ\\to \\GF{5}$, hence no canonical way to\n",
    "compare the $1$ in $\\GF{5}$ to the $1 \\in \\QQ$. In contrast, there is a\n",
    "canonical map $\\ZZ \\to \\GF{5}$, hence the second comparison is `True`.\n",
    "Note also that the order doesn't matter."
   ]
  },
  {
   "cell_type": "code",
   "execution_count": null,
   "id": "2870ba99",
   "metadata": {},
   "outputs": [
    {
     "data": {
      "text/plain": [
       "False\n",
       "False"
      ]
     },
     "execution_count": 1,
     "metadata": {},
     "output_type": "execute_result"
    }
   ],
   "source": [
    "GF(5)(1) == QQ(1); QQ(1) == GF(5)(1)"
   ]
  },
  {
   "cell_type": "code",
   "execution_count": null,
   "id": "8d958837",
   "metadata": {},
   "outputs": [
    {
     "data": {
      "text/plain": [
       "True\n",
       "True"
      ]
     },
     "execution_count": 1,
     "metadata": {},
     "output_type": "execute_result"
    }
   ],
   "source": [
    "GF(5)(1) == ZZ(1); ZZ(1) == GF(5)(1)"
   ]
  },
  {
   "cell_type": "code",
   "execution_count": null,
   "id": "54f701ec",
   "metadata": {},
   "outputs": [
    {
     "data": {
      "text/plain": [
       "True"
      ]
     },
     "execution_count": 1,
     "metadata": {},
     "output_type": "execute_result"
    }
   ],
   "source": [
    "ZZ(1) == QQ(1)"
   ]
  },
  {
   "cell_type": "markdown",
   "id": "9ade8fde",
   "metadata": {},
   "source": [
    "WARNING: Comparison in Sage is more restrictive than in Magma, which\n",
    "declares the $1 \\in \\GF{5}$ equal to $1 \\in \\QQ$."
   ]
  },
  {
   "cell_type": "code",
   "execution_count": null,
   "id": "6e669382",
   "metadata": {},
   "outputs": [
    {
     "data": {
      "text/plain": [
       "true"
      ]
     },
     "execution_count": 1,
     "metadata": {},
     "output_type": "execute_result"
    }
   ],
   "source": [
    "magma('GF(5)!1 eq Rationals()!1')            # optional - magma"
   ]
  },
  {
   "cell_type": "markdown",
   "id": "fdee9a73",
   "metadata": {},
   "source": [
    "## Profiling\n",
    "\n",
    "> \"Premature optimization is the root of all evil.\" - Donald Knuth\n",
    "\n",
    "Martin Albrecht \\<<malb@informatik.uni-bremen.de>\\>\n",
    "\n",
    "Sometimes it is useful to check for bottlenecks in code to understand\n",
    "which parts take the most computational time; this can give a good idea\n",
    "of which parts to optimize. Python and therefore Sage offers several\n",
    "profiling--as this process is called--options.\n",
    "\n",
    "The simplest to use is the `prun` command in the interactive shell. It\n",
    "returns a summary describing which functions took how much computational\n",
    "time. To profile (the currently slow! - as of version 1.0) matrix\n",
    "multiplication over finite fields, for example, do:"
   ]
  },
  {
   "cell_type": "code",
   "execution_count": null,
   "id": "64b9e82c",
   "metadata": {},
   "outputs": [],
   "source": [
    "k,a = GF(2**8, 'a').objgen()\n",
    "A = Matrix(k,10,10,[k.random_element() for _ in range(10*10)])"
   ]
  },
  {
   "cell_type": "code",
   "execution_count": null,
   "id": "7d259dcf",
   "metadata": {},
   "outputs": [
    {
     "data": {
      "text/plain": [
       "       32893 function calls in 1.100 CPU seconds\n",
       "\n",
       "Ordered by: internal time\n",
       "\n",
       "ncalls tottime percall cumtime percall filename:lineno(function)\n",
       " 12127  0.160   0.000   0.160  0.000 :0(isinstance)\n",
       "  2000  0.150   0.000   0.280  0.000 matrix.py:2235(__getitem__)\n",
       "  1000  0.120   0.000   0.370  0.000 finite_field_element.py:392(__mul__)\n",
       "  1903  0.120   0.000   0.200  0.000 finite_field_element.py:47(__init__)\n",
       "  1900  0.090   0.000   0.220  0.000 finite_field_element.py:376(__compat)\n",
       "   900  0.080   0.000   0.260  0.000 finite_field_element.py:380(__add__)\n",
       "     1  0.070   0.070   1.100  1.100 matrix.py:864(__mul__)\n",
       "  2105  0.070   0.000   0.070  0.000 matrix.py:282(ncols)\n",
       "  ..."
      ]
     },
     "execution_count": 1,
     "metadata": {},
     "output_type": "execute_result"
    }
   ],
   "source": [
    "%prun B = A*A"
   ]
  },
  {
   "cell_type": "markdown",
   "id": "4ecfd36e",
   "metadata": {},
   "source": [
    "Here `ncalls` is the number of calls, `tottime` is the total time spent\n",
    "in the given function (and excluding time made in calls to\n",
    "sub-functions), `percall` is the quotient of `tottime` divided by\n",
    "`ncalls`. `cumtime` is the total time spent in this and all\n",
    "sub-functions (i.e., from invocation until exit), `percall` is the\n",
    "quotient of `cumtime` divided by primitive calls, and\n",
    "`filename:lineno(function)` provides the respective data of each\n",
    "function. The rule of thumb here is: The higher the function in that\n",
    "listing, the more expensive it is. Thus it is more interesting for\n",
    "optimization.\n",
    "\n",
    "As usual, `prun?` provides details on how to use the profiler and\n",
    "understand the output.\n",
    "\n",
    "The profiling data may be written to an object as well to allow closer\n",
    "examination:"
   ]
  },
  {
   "cell_type": "code",
   "execution_count": null,
   "id": "7be5dc37",
   "metadata": {},
   "outputs": [],
   "source": [
    "%prun -r A*A\n",
    "stats = _\n",
    "stats?"
   ]
  },
  {
   "cell_type": "markdown",
   "id": "b1919a32",
   "metadata": {},
   "source": [
    "Note: entering `stats = prun -r A\\*A` displays a syntax error message\n",
    "because prun is an IPython shell command, not a regular function.\n",
    "\n",
    "For a nice graphical representation of profiling data, you can use the\n",
    "hotshot profiler, a small script called `hotshot2cachetree` and the\n",
    "program `kcachegrind` (Unix only). The same example with the hotshot\n",
    "profiler:"
   ]
  },
  {
   "cell_type": "code",
   "execution_count": null,
   "id": "a6b64b5c",
   "metadata": {},
   "outputs": [],
   "source": [
    "k,a = GF(2**8, 'a').objgen()\n",
    "A = Matrix(k,10,10,[k.random_element() for _ in range(10*10)])\n",
    "import hotshot\n",
    "filename = \"pythongrind.prof\"\n",
    "prof = hotshot.Profile(filename, lineevents=1)"
   ]
  },
  {
   "cell_type": "code",
   "execution_count": null,
   "id": "b1768a5d",
   "metadata": {},
   "outputs": [
    {
     "data": {
      "text/plain": [
       "<hotshot.Profile instance at 0x414c11ec>"
      ]
     },
     "execution_count": 1,
     "metadata": {},
     "output_type": "execute_result"
    }
   ],
   "source": [
    "prof.run(\"A*A\")"
   ]
  },
  {
   "cell_type": "code",
   "execution_count": null,
   "id": "52081add",
   "metadata": {},
   "outputs": [],
   "source": [
    "prof.close()"
   ]
  },
  {
   "cell_type": "markdown",
   "id": "8882e867",
   "metadata": {},
   "source": [
    "This results in a file `pythongrind.prof` in the current working\n",
    "directory. It can now be converted to the cachegrind format for\n",
    "visualization.\n",
    "\n",
    "On a system shell, type"
   ]
  },
  {
   "cell_type": "code",
   "execution_count": null,
   "id": "19c0c4e3",
   "metadata": {},
   "outputs": [],
   "source": [
    "$ hotshot2calltree -o cachegrind.out.42 pythongrind.prof"
   ]
  },
  {
   "cell_type": "markdown",
   "id": "63a37b2c",
   "metadata": {},
   "source": [
    "The output file `cachegrind.out.42` can now be examined with\n",
    "`kcachegrind`. Please note that the naming convention\n",
    "`cachegrind.out.XX` needs to be obeyed."
   ]
  }
 ],
 "metadata": {},
 "nbformat": 4,
 "nbformat_minor": 5
}
