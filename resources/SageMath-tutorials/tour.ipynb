{
 "cells": [
  {
   "cell_type": "markdown",
   "id": "63044a9b",
   "metadata": {},
   "source": [
    "$$\n",
    "\\def\\CC{\\bf C}\n",
    "\\def\\QQ{\\bf Q}\n",
    "\\def\\RR{\\bf R}\n",
    "\\def\\ZZ{\\bf Z}\n",
    "\\def\\NN{\\bf N}\n",
    "$$\n",
    "# A Guided Tour\n",
    "\n",
    "This section is a guided tour of some of what is available in Sage. For\n",
    "many more examples, see \"Sage Constructions\", which is intended to\n",
    "answer the general question \"How do I construct ...?\". See also the\n",
    "\"Sage Reference Manual\", which has thousands more examples. Also note\n",
    "that you can interactively work through this tour in the Sage notebook\n",
    "by clicking the `Help` link.\n",
    "\n",
    "(If you are viewing the tutorial in the Sage notebook, press\n",
    "`shift-enter` to evaluate any input cell. You can even edit the input\n",
    "before pressing shift-enter. On some Macs you might have to press\n",
    "`shift-return` rather than `shift-enter`.)\n",
    "\n",
    "tour\\_assignment tour\\_help tour\\_algebra tour\\_plotting tour\\_functions\n",
    "tour\\_rings tour\\_linalg tour\\_polynomial tour\\_coercion tour\\_groups\n",
    "tour\\_numtheory tour\\_advanced"
   ]
  }
 ],
 "metadata": {},
 "nbformat": 4,
 "nbformat_minor": 5
}
