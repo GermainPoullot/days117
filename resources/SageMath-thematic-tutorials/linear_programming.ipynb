{
 "cells": [
  {
   "cell_type": "markdown",
   "id": "953dea34",
   "metadata": {},
   "source": [
    "$$\n",
    "\\def\\CC{\\bf C}\n",
    "\\def\\QQ{\\bf Q}\n",
    "\\def\\RR{\\bf R}\n",
    "\\def\\ZZ{\\bf Z}\n",
    "\\def\\NN{\\bf N}\n",
    "$$\n",
    "# Linear Programming (Mixed Integer)\n",
    "\n",
    "This document explains the use of linear programming (LP) -- and of\n",
    "mixed integer linear programming (MILP) -- in Sage by illustrating it\n",
    "with several problems it can solve. Most of the examples given are\n",
    "motivated by graph-theoretic concerns, and should be understandable\n",
    "without any specific knowledge of this field. As a tool in\n",
    "Combinatorics, using linear programming amounts to understanding how to\n",
    "reformulate an optimization (or existence) problem through linear\n",
    "constraints.\n",
    "\n",
    "This is a translation of a chapter from the book [Calcul mathematique\n",
    "avec Sage](https://www.sagemath.org/sagebook/french.html). This book now\n",
    "exists in [English,\n",
    "too](https://www.sagemath.org/sagebook/english.html).\n",
    "\n",
    "## Definition\n",
    "\n",
    "Here we present the usual definition of what a linear program is: it is\n",
    "defined by a matrix $A: \\mathbb{R}^m \\mapsto \\mathbb{R}^n$, along with\n",
    "two vectors $b,c \\in \\mathbb{R}^n$. Solving a linear program is\n",
    "searching for a vector $x$ maximizing an *objective* function and\n",
    "satisfying a set of constraints, i.e.\n",
    "\n",
    "$$c^t x = \\max_{x' \\text{ such that } Ax' \\leq b} c^t x'$$\n",
    "\n",
    "where the ordering $u \\leq u'$ between two vectors means that the\n",
    "entries of $u'$ are pairwise greater than the entries of $u$. We also\n",
    "write:\n",
    "\n",
    "$$\\begin{aligned}\n",
    "\\text{Max: } & c^t x\\\\\n",
    "\\text{Such that: } & Ax \\leq b\n",
    "\\end{aligned}$$\n",
    "\n",
    "Equivalently, we can also say that solving a linear program amounts to\n",
    "maximizing a linear function defined over a polytope (preimage or\n",
    "$A^{-1} (\\leq b)$). These definitions, however, do not tell us how to\n",
    "use linear programming in combinatorics. In the following, we will show\n",
    "how to solve optimization problems like the Knapsack problem, the\n",
    "Maximum Matching problem, and a Flow problem.\n",
    "\n",
    "## Mixed integer linear programming\n",
    "\n",
    "There are bad news coming along with this definition of linear\n",
    "programming: an LP can be solved in polynomial time. This is indeed bad\n",
    "news, because this would mean that unless we define LP of exponential\n",
    "size, we cannot expect LP to solve NP-complete problems, which would be\n",
    "a disappointment. On a brighter side, it becomes NP-complete to solve a\n",
    "linear program if we are allowed to specify constraints of a different\n",
    "kind: requiring that some variables be integers instead of real values.\n",
    "Such an LP is actually called a \"mixed integer linear program\" (some\n",
    "variables can be integers, some other reals). Hence, we can expect to\n",
    "find in the MILP framework a *wide* range of expressivity.\n",
    "\n",
    "## Practical\n",
    "\n",
    "### The `MILP` class\n",
    "\n",
    "The `MILP` class in Sage represents a MILP! It is also used to solve\n",
    "regular LP. It has a very small number of methods, meant to define our\n",
    "set of constraints and variables, then to read the solution found by the\n",
    "solvers once computed. It is also possible to export a MILP defined with\n",
    "Sage to a `.lp` or `.mps` file, understood by most solvers.\n",
    "\n",
    "Let us ask Sage to solve the following LP:\n",
    "\n",
    "$$\\begin{aligned}\n",
    "\\text{Max: } & x + y + 3z\\\\\n",
    "\\text{Such that: } & x + 2y \\leq 4\\\\\n",
    "\\text{} & 5z - y \\leq 8\\\\\n",
    "\\text{} & x,y,z \\geq 0\\\\\n",
    "\\end{aligned}$$\n",
    "\n",
    "To achieve it, we need to define a corresponding `MILP` object, along\n",
    "with 3 variables `x`, `y` and `z` :"
   ]
  },
  {
   "cell_type": "code",
   "execution_count": null,
   "id": "27d6506a",
   "metadata": {},
   "outputs": [],
   "source": [
    "p = MixedIntegerLinearProgram()\n",
    "v = p.new_variable(real=True, nonnegative=True)\n",
    "x, y, z = v['x'], v['y'], v['z']"
   ]
  },
  {
   "cell_type": "markdown",
   "id": "d0dcbf67",
   "metadata": {},
   "source": [
    "Next, we set the objective function"
   ]
  },
  {
   "cell_type": "code",
   "execution_count": null,
   "id": "06f03b83",
   "metadata": {},
   "outputs": [],
   "source": [
    "p.set_objective(x + y + 3*z)"
   ]
  },
  {
   "cell_type": "markdown",
   "id": "3f46e294",
   "metadata": {},
   "source": [
    "And finally we set the constraints"
   ]
  },
  {
   "cell_type": "code",
   "execution_count": null,
   "id": "23db7ee5",
   "metadata": {},
   "outputs": [],
   "source": [
    "p.add_constraint(x + 2*y <= 4)\n",
    "p.add_constraint(5*z - y <= 8)"
   ]
  },
  {
   "cell_type": "markdown",
   "id": "20c6e5f6",
   "metadata": {},
   "source": [
    "The `solve` method returns by default the optimal value reached by the\n",
    "objective function"
   ]
  },
  {
   "cell_type": "code",
   "execution_count": null,
   "id": "7d789166",
   "metadata": {},
   "outputs": [
    {
     "data": {
      "text/plain": [
       "8.8"
      ]
     },
     "execution_count": 1,
     "metadata": {},
     "output_type": "execute_result"
    }
   ],
   "source": [
    "round(p.solve(), 2)"
   ]
  },
  {
   "cell_type": "markdown",
   "id": "5d9671f6",
   "metadata": {},
   "source": [
    "We can read the optimal assignment found by the solver for $x$, $y$ and\n",
    "$z$ through the `get_values` method"
   ]
  },
  {
   "cell_type": "code",
   "execution_count": null,
   "id": "db997090",
   "metadata": {},
   "outputs": [
    {
     "data": {
      "text/plain": [
       "4.0"
      ]
     },
     "execution_count": 1,
     "metadata": {},
     "output_type": "execute_result"
    }
   ],
   "source": [
    "round(p.get_values(x), 2)"
   ]
  },
  {
   "cell_type": "code",
   "execution_count": null,
   "id": "1cc8d38f",
   "metadata": {},
   "outputs": [
    {
     "data": {
      "text/plain": [
       "0.0"
      ]
     },
     "execution_count": 1,
     "metadata": {},
     "output_type": "execute_result"
    }
   ],
   "source": [
    "round(p.get_values(y), 2)"
   ]
  },
  {
   "cell_type": "code",
   "execution_count": null,
   "id": "08516e3f",
   "metadata": {},
   "outputs": [
    {
     "data": {
      "text/plain": [
       "1.6"
      ]
     },
     "execution_count": 1,
     "metadata": {},
     "output_type": "execute_result"
    }
   ],
   "source": [
    "round(p.get_values(z), 2)"
   ]
  },
  {
   "cell_type": "markdown",
   "id": "668e83c7",
   "metadata": {},
   "source": [
    "### Variables\n",
    "\n",
    "In the previous example, we obtained variables through `v['x']`,\n",
    "`v['y']` and `v['z']`. This being said, larger LP/MILP will require us\n",
    "to associate an LP variable to many Sage objects, which can be integers,\n",
    "strings, or even the vertices and edges of a graph. For example:"
   ]
  },
  {
   "cell_type": "code",
   "execution_count": null,
   "id": "53d28a04",
   "metadata": {},
   "outputs": [],
   "source": [
    "x = p.new_variable(real=True, nonnegative=True)"
   ]
  },
  {
   "cell_type": "markdown",
   "id": "bcf8471e",
   "metadata": {},
   "source": [
    "With this new object `x` we can now write constraints using\n",
    "`x[1],...,x[15]`."
   ]
  },
  {
   "cell_type": "code",
   "execution_count": null,
   "id": "77ffe723",
   "metadata": {},
   "outputs": [],
   "source": [
    "p.add_constraint(x[1] + x[12] - x[14] >= 8)"
   ]
  },
  {
   "cell_type": "markdown",
   "id": "74a610b8",
   "metadata": {},
   "source": [
    "Notice that we did not need to define the \"length\" of `x`. Actually, `x`\n",
    "would accept any immutable object as a key, as a dictionary would. We\n",
    "can now write"
   ]
  },
  {
   "cell_type": "code",
   "execution_count": null,
   "id": "81f0a737",
   "metadata": {},
   "outputs": [],
   "source": [
    "p.add_constraint(x[\"I am a valid key\"] +\n",
    "                 x[(\"a\",pi)] <= 3)"
   ]
  },
  {
   "cell_type": "markdown",
   "id": "8b591939",
   "metadata": {},
   "source": [
    "And because any immutable object can be used as a key, doubly indexed\n",
    "variables $x^{1,1}, ..., x^{1,15}, x^{2,1}, ..., x^{15,15}$ can be\n",
    "referenced by `x[1,1],...,x[1,15],x[2,1],...,x[15,15]`"
   ]
  },
  {
   "cell_type": "code",
   "execution_count": null,
   "id": "422fffd9",
   "metadata": {},
   "outputs": [],
   "source": [
    "p.add_constraint(x[3,2] + x[5] == 6)"
   ]
  },
  {
   "cell_type": "markdown",
   "id": "925a0cc7",
   "metadata": {},
   "source": [
    "#### Typed variables and bounds\n",
    "\n",
    "**Types :** If you want a variable to assume only integer or binary\n",
    "values, use the `integer=True` or `binary=True` arguments of the\n",
    "`new_variable` method. Alternatively, call the `set_integer` and\n",
    "`set_binary` methods.\n",
    "\n",
    "**Bounds :** If you want your variables to only take nonnegative values,\n",
    "you can say so when calling `new_variable` with the argument\n",
    "`nonnegative=True`. If you want to set a different upper/lower bound on\n",
    "a variable, add a constraint or use the `set_min`, `set_max` methods.\n",
    "\n",
    "## Basic linear programs\n",
    "\n",
    "### Knapsack\n",
    "\n",
    "The *Knapsack* problem is the following: given a collection of items\n",
    "having both a weight and a *usefulness*, we would like to fill a bag\n",
    "whose capacity is constrained while maximizing the usefulness of the\n",
    "items contained in the bag (we will consider the sum of the items'\n",
    "usefulness). For the purpose of this tutorial, we set the restriction\n",
    "that the bag can only carry a certain total weight.\n",
    "\n",
    "To achieve this, we have to associate to each object $o$ of our\n",
    "collection $C$ a binary variable `taken[o]`, set to 1 when the object is\n",
    "in the bag, and to 0 otherwise. We are trying to solve the following\n",
    "MILP\n",
    "\n",
    "$$\\begin{aligned}\n",
    "\\text{Max: } & \\sum_{o \\in L} \\text{usefulness}_o \\times \\text{taken}_o\\\\\n",
    "\\text{Such that: } & \\sum_{o \\in L} \\text{weight}_o \\times \\text{taken}_o \\leq C\\\\\n",
    "\\end{aligned}$$\n",
    "\n",
    "Using Sage, we will give to our items a random weight:"
   ]
  },
  {
   "cell_type": "code",
   "execution_count": null,
   "id": "0ee48e25",
   "metadata": {},
   "outputs": [],
   "source": [
    "C = 1"
   ]
  },
  {
   "cell_type": "code",
   "execution_count": null,
   "id": "c8646fe7",
   "metadata": {},
   "outputs": [],
   "source": [
    "L = [\"pan\", \"book\", \"knife\", \"gourd\", \"flashlight\"]"
   ]
  },
  {
   "cell_type": "code",
   "execution_count": null,
   "id": "e4363691",
   "metadata": {},
   "outputs": [],
   "source": [
    "L.extend([\"random_stuff_\" + str(i) for i in range(20)])"
   ]
  },
  {
   "cell_type": "code",
   "execution_count": null,
   "id": "814dd31f",
   "metadata": {},
   "outputs": [],
   "source": [
    "weight = {}\n",
    "usefulness = {}"
   ]
  },
  {
   "cell_type": "code",
   "execution_count": null,
   "id": "b643da06",
   "metadata": {},
   "outputs": [],
   "source": [
    "set_random_seed(685474)\n",
    "for o in L:\n",
    "    weight[o] = random()\n",
    "    usefulness[o] = random()"
   ]
  },
  {
   "cell_type": "markdown",
   "id": "43b4dbd3",
   "metadata": {},
   "source": [
    "We can now define the MILP itself"
   ]
  },
  {
   "cell_type": "code",
   "execution_count": null,
   "id": "eb078190",
   "metadata": {},
   "outputs": [],
   "source": [
    "p = MixedIntegerLinearProgram()\n",
    "taken = p.new_variable(binary=True)"
   ]
  },
  {
   "cell_type": "code",
   "execution_count": null,
   "id": "668a792f",
   "metadata": {},
   "outputs": [],
   "source": [
    "p.add_constraint(p.sum(weight[o] * taken[o] for o in L) <= C)"
   ]
  },
  {
   "cell_type": "code",
   "execution_count": null,
   "id": "572b9f36",
   "metadata": {},
   "outputs": [],
   "source": [
    "p.set_objective(p.sum(usefulness[o] * taken[o] for o in L))"
   ]
  },
  {
   "cell_type": "code",
   "execution_count": null,
   "id": "0a10746c",
   "metadata": {},
   "outputs": [
    {
     "data": {
      "text/plain": [
       "3.1502766806530307"
      ]
     },
     "execution_count": 1,
     "metadata": {},
     "output_type": "execute_result"
    }
   ],
   "source": [
    "p.solve() # abs tol 1e-6"
   ]
  },
  {
   "cell_type": "code",
   "execution_count": null,
   "id": "f4f310f2",
   "metadata": {},
   "outputs": [],
   "source": [
    "taken = p.get_values(taken)"
   ]
  },
  {
   "cell_type": "markdown",
   "id": "9b033ac5",
   "metadata": {},
   "source": [
    "The solution found is (of course) admissible"
   ]
  },
  {
   "cell_type": "code",
   "execution_count": null,
   "id": "8d31de21",
   "metadata": {},
   "outputs": [
    {
     "data": {
      "text/plain": [
       "0.6964959796619171"
      ]
     },
     "execution_count": 1,
     "metadata": {},
     "output_type": "execute_result"
    }
   ],
   "source": [
    "sum(weight[o] * taken[o] for o in L)  # abs tol 1e-6"
   ]
  },
  {
   "cell_type": "markdown",
   "id": "77a9b33e",
   "metadata": {},
   "source": [
    "Should we take a flashlight?"
   ]
  },
  {
   "cell_type": "code",
   "execution_count": null,
   "id": "ff2f01b6",
   "metadata": {},
   "outputs": [
    {
     "data": {
      "text/plain": [
       "1.0"
      ]
     },
     "execution_count": 1,
     "metadata": {},
     "output_type": "execute_result"
    }
   ],
   "source": [
    "taken[\"flashlight\"] # abs tol 1e-6"
   ]
  },
  {
   "cell_type": "markdown",
   "id": "6a362cc2",
   "metadata": {},
   "source": [
    "Wise advice. Based on purely random considerations.\n",
    "\n",
    "## Matching\n",
    "\n",
    "Given a graph $G$, a matching is a set of pairwise disjoint edges. The\n",
    "empty set is a trivial matching. So we focus our attention on maximum\n",
    "matchings: we want to find in a graph a matching whose cardinality is\n",
    "maximal. Computing the maximum matching in a graph is a polynomial\n",
    "problem, which is a famous result of Edmonds. Edmonds' algorithm is\n",
    "based on local improvements and the proof that a given matching is\n",
    "maximum if it cannot be improved. This algorithm is not the hardest to\n",
    "implement among those graph theory can offer, though this problem can be\n",
    "modeled with a very simple MILP.\n",
    "\n",
    "To do it, we need -- as previously -- to associate a binary variable to\n",
    "each one of our objects: the edges of our graph (a value of 1 meaning\n",
    "that the corresponding edge is included in the maximum matching). Our\n",
    "constraint on the edges taken being that they are disjoint, it is enough\n",
    "to require that, $x$ and $y$ being two edges and $m_x, m_y$ their\n",
    "associated variables, the inequality $m_x + m_y\n",
    "\\leq 1$ is satisfied, as we are sure that the two of them cannot both\n",
    "belong to the matching. Hence, we are able to write the MILP we want.\n",
    "However, the number of inequalities can be easily decreased by noticing\n",
    "that two edges cannot be taken simultaneously inside a matching if and\n",
    "only if they have a common endpoint $v$. We can then require instead\n",
    "that at most one edge incident to $v$ be taken inside the matching,\n",
    "which is a linear constraint. We will be solving:\n",
    "\n",
    "$$\\begin{aligned}\n",
    "\\text{Max: } & \\sum_{e \\in E(G)} m_e\\\\\n",
    "\\text{Such that: } & \\forall v, \\sum_{\\substack{e \\in E(G) \\\\ v \\sim e}} m_e \\leq 1\n",
    "\\end{aligned}$$\n",
    "\n",
    "Let us write the Sage code of this MILP:"
   ]
  },
  {
   "cell_type": "code",
   "execution_count": null,
   "id": "02dc86ea",
   "metadata": {},
   "outputs": [],
   "source": [
    "g = graphs.PetersenGraph()\n",
    "p = MixedIntegerLinearProgram()\n",
    "matching = p.new_variable(binary=True)"
   ]
  },
  {
   "cell_type": "code",
   "execution_count": null,
   "id": "817ee8ab",
   "metadata": {},
   "outputs": [],
   "source": [
    "p.set_objective(p.sum(matching[e] for e in g.edges(sort=False, labels=False)))"
   ]
  },
  {
   "cell_type": "code",
   "execution_count": null,
   "id": "db034b04",
   "metadata": {},
   "outputs": [],
   "source": [
    "for v in g:\n",
    "    p.add_constraint(p.sum(matching[e]\n",
    "        for e in g.edges_incident(v, labels=False)) <= 1)"
   ]
  },
  {
   "cell_type": "code",
   "execution_count": null,
   "id": "1dda9d68",
   "metadata": {},
   "outputs": [
    {
     "data": {
      "text/plain": [
       "5.0"
      ]
     },
     "execution_count": 1,
     "metadata": {},
     "output_type": "execute_result"
    }
   ],
   "source": [
    "p.solve()"
   ]
  },
  {
   "cell_type": "code",
   "execution_count": null,
   "id": "be2b71de",
   "metadata": {},
   "outputs": [
    {
     "data": {
      "text/plain": [
       "[(0, 4), (1, 6), (2, 3), (5, 8), (7, 9)]"
      ]
     },
     "execution_count": 1,
     "metadata": {},
     "output_type": "execute_result"
    }
   ],
   "source": [
    "matching = p.get_values(matching, convert=bool, tolerance=1e-3)\n",
    "sorted(e for e, b in matching.items() if b)   # random"
   ]
  },
  {
   "cell_type": "code",
   "execution_count": null,
   "id": "593d0e4a",
   "metadata": {},
   "outputs": [
    {
     "data": {
      "text/plain": [
       "5"
      ]
     },
     "execution_count": 1,
     "metadata": {},
     "output_type": "execute_result"
    }
   ],
   "source": [
    "len(_)"
   ]
  },
  {
   "cell_type": "markdown",
   "id": "396696b1",
   "metadata": {},
   "source": [
    "## Flows\n",
    "\n",
    "Yet another fundamental algorithm in graph theory: maximum flow! It\n",
    "consists, given a directed graph and two vertices $s, t$, in sending a\n",
    "maximum *flow* from $s$ to $t$ using the edges of $G$, each of them\n",
    "having a maximal capacity.\n",
    "\n",
    "<img src=\"media/lp_flot1.png\" class=\"align-center\" alt=\"image\" />\n",
    "\n",
    "The definition of this problem is almost its LP formulation. We are\n",
    "looking for real values associated to each edge, which would represent\n",
    "the intensity of flow going through them, under two types of\n",
    "constraints:\n",
    "\n",
    "-   The amount of flow arriving on a vertex (different from $s$ or $t$)\n",
    "    is equal to the amount of flow leaving it.\n",
    "-   The amount of flow going through an edge is bounded by the capacity\n",
    "    of this edge.\n",
    "\n",
    "This being said, we have to maximize the amount of flow leaving $s$ :\n",
    "all of it will end up in $t$, as the other vertices are sending just as\n",
    "much as they receive. We can model the flow problem with the following\n",
    "LP\n",
    "\n",
    "$$\\begin{aligned}\n",
    "\\text{Max: } & \\sum_{sv \\in G} f_{sv}\\\\\n",
    "\\text{Such that: } & \\forall v \\in G, {\\substack{v \\neq s \\\\ v \\neq t}}, \\sum_{vu \\in G} f_{vu} - \\sum_{uv \\in G} f_{uv} = 0\\\\\n",
    "& \\forall uv \\in G, f_{uv} \\leq 1\\\\\n",
    "\\end{aligned}$$\n",
    "\n",
    "We will solve the flow problem on an orientation of Chvatal's graph, in\n",
    "which all the edges have a capacity of 1:"
   ]
  },
  {
   "cell_type": "code",
   "execution_count": null,
   "id": "926161cd",
   "metadata": {},
   "outputs": [],
   "source": [
    "g = graphs.ChvatalGraph()\n",
    "g = g.minimum_outdegree_orientation()"
   ]
  },
  {
   "cell_type": "code",
   "execution_count": null,
   "id": "aeb27db1",
   "metadata": {},
   "outputs": [],
   "source": [
    "p = MixedIntegerLinearProgram()\n",
    "f = p.new_variable(real=True, nonnegative=True)\n",
    "s, t = 0, 2"
   ]
  },
  {
   "cell_type": "code",
   "execution_count": null,
   "id": "e188e5d7",
   "metadata": {},
   "outputs": [],
   "source": [
    "for v in g:\n",
    "    if v != s and v != t:\n",
    "        p.add_constraint(\n",
    "            p.sum(f[v,u] for u in g.neighbors_out(v))\n",
    "            - p.sum(f[u,v] for u in g.neighbors_in(v)) == 0)"
   ]
  },
  {
   "cell_type": "code",
   "execution_count": null,
   "id": "b8344a65",
   "metadata": {},
   "outputs": [],
   "source": [
    "for e in g.edges(sort=False, labels=False):\n",
    "    p.add_constraint(f[e] <= 1)"
   ]
  },
  {
   "cell_type": "code",
   "execution_count": null,
   "id": "111d3108",
   "metadata": {},
   "outputs": [],
   "source": [
    "p.set_objective(p.sum(f[s,u] for u in g.neighbors_out(s)))"
   ]
  },
  {
   "cell_type": "code",
   "execution_count": null,
   "id": "45ac6819",
   "metadata": {},
   "outputs": [
    {
     "data": {
      "text/plain": [
       "2.0"
      ]
     },
     "execution_count": 1,
     "metadata": {},
     "output_type": "execute_result"
    }
   ],
   "source": [
    "p.solve()  # rel tol 2e-11"
   ]
  },
  {
   "cell_type": "markdown",
   "id": "f1e0d54b",
   "metadata": {},
   "source": [
    "<img src=\"media/lp_flot2.png\" class=\"align-center\" alt=\"image\" />\n",
    "\n",
    "## Solvers (backends)\n",
    "\n",
    "Sage solves linear programs by calling specific libraries. The following\n",
    "libraries are currently supported:\n",
    "\n",
    "-   [CBC](https://github.com/coin-or/Cbc): A solver from\n",
    "    [COIN-OR](http://www.coin-or.org/), provided under the Eclipse\n",
    "    Public License (EPL), which is an open source license but\n",
    "    incompatible with GPL. CBC and the Sage CBC backend can be installed\n",
    "    using the shell command:"
   ]
  },
  {
   "cell_type": "code",
   "execution_count": null,
   "id": "398839b5",
   "metadata": {},
   "outputs": [],
   "source": [
    "    $ sage -i -c sage_numerical_backends_coin"
   ]
  },
  {
   "cell_type": "markdown",
   "id": "679b7d55",
   "metadata": {},
   "source": [
    "-   [CPLEX](https://www.ibm.com/products/ilog-cplex-optimization-studio/):\n",
    "    Proprietary, but available for free for researchers and students\n",
    "    through IBM's Academic Initiative. Since `27790`, only versions 12.8\n",
    "    and above are supported."
   ]
  },
  {
   "cell_type": "markdown",
   "id": "4eba31c1",
   "metadata": {},
   "source": [
    "\n",
    "    Install CPLEX according to the instructions on the website, which\n",
    "    includes obtaining a license key.\n",
    "\n",
    "    Then find the installation directory of your ILOG CPLEX Studio\n",
    "    installation, which contains subdirectories `cplex`, `doc`, `opl`,\n",
    "    etc. Set the environment variable `CPLEX_HOME` to this directory;\n",
    "    for example using the following shell command (on macOS):\n",
    "```{.python .input}\n",
    "    $ export CPLEX_HOME=/Applications/CPLEX_Studio1210\n",
    "```\n",
    "\n",
    "    or (on Linux):\n",
    "```{.python .input}\n",
    "    $ export CPLEX_HOME=/opt/ibm/ILOG/CPLEX_Studio1210\n",
    "```\n",
    "\n",
    "    Now verify that the CPLEX binary that you will find in the\n",
    "    subdirectory `cplex/bin/ARCH-OS` starts correctly, for example:\n",
    "```{.python .input}\n",
    "    $ $CPLEX_HOME/cplex/bin/x86-64_osx/cplex\n",
    "    Welcome to IBM(R) ILOG(R) CPLEX(R) Interactive Optimizer...\n",
    "```\n",
    "\n",
    "    This environment variable only needs to be set for the following\n",
    "    step: Install the Sage CPLEX backend using the shell command:\n",
    "```{.python .input}\n",
    "    $ sage -i -c sage_numerical_backends_cplex\n",
    "```\n"
   ]
  },
  {
   "cell_type": "markdown",
   "id": "c220d536",
   "metadata": {},
   "source": [
    "-   [CVXOPT](http://cvxopt.org/): an LP solver from Python Software for\n",
    "    Convex Optimization, uses an interior-point method, always installed\n",
    "    in Sage."
   ]
  },
  {
   "cell_type": "markdown",
   "id": "efb23b14",
   "metadata": {},
   "source": [
    "\n",
    "    Licensed under the GPL.\n"
   ]
  },
  {
   "cell_type": "markdown",
   "id": "567e8228",
   "metadata": {},
   "source": [
    "-   [GLPK](http://www.gnu.org/software/glpk/): A solver from\n",
    "    [GNU](http://www.gnu.org/)"
   ]
  },
  {
   "cell_type": "markdown",
   "id": "32e9fe3c",
   "metadata": {},
   "source": [
    "\n",
    "    Licensed under the GPLv3. This solver is always installed, as the\n",
    "    default one, in Sage.\n"
   ]
  },
  {
   "cell_type": "markdown",
   "id": "747b6e43",
   "metadata": {},
   "source": [
    "-   [Gurobi](https://www.gurobi.com/): Proprietary, but available for\n",
    "    free for researchers and students via Gurobi's Academic Program."
   ]
  },
  {
   "cell_type": "markdown",
   "id": "79ea27f0",
   "metadata": {},
   "source": [
    "\n",
    "    Install Gurobi according to the instructions on the website, which\n",
    "    includes obtaining a license key. The installation should make the\n",
    "    interactive Gurobi shell `gurobi.sh` available in your `PATH`.\n",
    "    Verify this by typing the shell command `gurobi.sh` :\n",
    "```{.python .input}\n",
    "    $ gurobi.sh\n",
    "    Python 3.7.4 (default, Aug 27 2019, 11:27:39)\n",
    "    Gurobi Interactive Shell (mac64), Version 9.0.0\n",
    "    Copyright (c) 2019, Gurobi Optimization, LLC\n",
    "    Type \"help()\" for help\n",
    "    gurobi>\n",
    "```\n",
    "\n",
    "    If this does not work, adjust your `PATH` or create symbolic links\n",
    "    so that `gurobi.sh` is found.\n",
    "\n",
    "    Now install the Sage Gurobi backend using the shell command:\n",
    "```{.python .input}\n",
    "    $ sage -i -c sage_numerical_backends_gurobi\n",
    "```\n"
   ]
  },
  {
   "cell_type": "markdown",
   "id": "4cb6e88e",
   "metadata": {},
   "source": [
    "-   [PPL](http://bugseng.com/products/ppl): A solver from bugSeng."
   ]
  },
  {
   "cell_type": "markdown",
   "id": "c4798e18",
   "metadata": {},
   "source": [
    "\n",
    "    This solver provides exact (arbitrary precision) computation, always\n",
    "    installed in Sage.\n",
    "\n",
    "    Licensed under the GPLv3.\n"
   ]
  }
 ],
 "metadata": {},
 "nbformat": 4,
 "nbformat_minor": 5
}
