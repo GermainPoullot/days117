{
 "cells": [
  {
   "cell_type": "markdown",
   "id": "6e156291",
   "metadata": {},
   "source": [
    "$$\n",
    "\\def\\CC{\\bf C}\n",
    "\\def\\QQ{\\bf Q}\n",
    "\\def\\RR{\\bf R}\n",
    "\\def\\ZZ{\\bf Z}\n",
    "\\def\\NN{\\bf N}\n",
    "$$\n",
    "# Tutorial: Programming in Python and Sage\n",
    "\n",
    "Florent Hivert \\<<florent.hivert@univ-rouen.fr>\\>, Franco Saliola\n",
    "\\<<saliola@gmail.com>\\>, et al.\n",
    "\n",
    "This tutorial is an introduction to basic programming in Python and\n",
    "Sage, for readers with elementary notions of programming but not\n",
    "familiar with the Python language. It is far from exhaustive. For a more\n",
    "complete tutorial, have a look at the [Python\n",
    "Tutorial](http://docs.python.org/release/2.6.4/tutorial/index.html).\n",
    "Also Python's [documentation](http://docs.python.org/release/2.6.4/) and\n",
    "in particular the [standard\n",
    "library](http://docs.python.org/release/2.6.4/library) can be useful.\n",
    "\n",
    "A [more advanced tutorial](tutorial-objects-and-classes.ipynb) presents\n",
    "the notions of objects and classes in Python.\n",
    "\n",
    "Here are further resources to learn Python:\n",
    "\n",
    "-   [Learn Python in 10\n",
    "    minutes](http://www.korokithakis.net/tutorials/python) ou en\n",
    "    français [Python en 10\n",
    "    minutes](http://mat.oxyg3n.org/index.php?post/2009/07/26/Python-en-10-minutes)\n",
    "-   [Dive into Python](http://diveintopython.net/) is a Python book for\n",
    "    experienced programmers. Also available in [other\n",
    "    languages](http://diveintopython.net/#languages).\n",
    "-   [Discover\n",
    "    Python](http://www.ibm.com/developerworks/views/opensource/libraryview.jsp?search_by=Discover+Python+Part%7C)\n",
    "    is a series of articles published in IBM's\n",
    "    [developerWorks](http://www.ibm.com/developerworks/) technical\n",
    "    resource center.\n",
    "\n",
    "## Data structures\n",
    "\n",
    "In Python, *typing is dynamic*; there is no such thing as declaring\n",
    "variables. The function `type` returns the type of an object `obj`. To\n",
    "convert an object to a type `typ` just write `typ(obj)` as in\n",
    "`int(\"123\")`. The command `isinstance(ex, typ)` returns whether the\n",
    "expression `ex` is of type `typ`. Specifically, any value is *an\n",
    "instance of a class* and there is no difference between classes and\n",
    "types.\n",
    "\n",
    "The symbol `=` denotes the affectation to a variable; it should not be\n",
    "confused with `==` which denotes mathematical equality. Inequality is\n",
    "`!=`.\n",
    "\n",
    "The *standard types* are `bool`, `int`, `list`, `tuple`, `set`, `dict`,\n",
    "`str`.\n",
    "\n",
    "-   The type `bool` (*booleans*) has two values: `True` and `False`. The\n",
    "    boolean operators are denoted by their names `or`, `and`, `not`.\n",
    "\n",
    "-   The Python type `int` is used to represent integers of limited size.\n",
    "    To handle arbitrary large integers with exact arithmetic, Sage uses\n",
    "    its own type named `Integer`.\n",
    "\n",
    "-   A *list* is a data structure which groups values. It is constructed\n",
    "    using brackets as in `[1, 3, 4]`. The `range` function creates\n",
    "    integer lists. One can also create lists using *list comprehension*:"
   ]
  },
  {
   "cell_type": "code",
   "execution_count": null,
   "id": "ec05c20b",
   "metadata": {},
   "outputs": [],
   "source": [
    "    [ <expr> for <name> in <iterable> (if <condition>) ]"
   ]
  },
  {
   "cell_type": "markdown",
   "id": "e7559b80",
   "metadata": {},
   "source": [
    "\n",
    "    For example:\n",
    "```{.python .input}\n",
    "    [ i^2 for i in range(10) if i % 2 == 0 ]\n",
    "```\n",
    "```{.json .output}\n",
    "    [{\"data\": {\"text/plain\": \"[0, 4, 16, 36, 64]\"}, \"execution_count\": 1, \"metadata\": {}, \"output_type\": \"execute_result\"}]\n",
    "```\n"
   ]
  },
  {
   "cell_type": "markdown",
   "id": "45c359e6",
   "metadata": {},
   "source": [
    "-   A *tuple* is very similar to a list; it is constructed using\n",
    "    parentheses. The empty tuple is obtained by `()` or by the\n",
    "    constructor `tuple`. If there is only one element, one has to write\n",
    "    `(a,)`. A tuple is *immutable* (one cannot change it) but it is\n",
    "    *hashable* (see below). One can also create tuples using\n",
    "    comprehensions:"
   ]
  },
  {
   "cell_type": "code",
   "execution_count": null,
   "id": "14145520",
   "metadata": {},
   "outputs": [
    {
     "data": {
      "text/plain": [
       "(0, 4, 16, 36, 64)"
      ]
     },
     "execution_count": 1,
     "metadata": {},
     "output_type": "execute_result"
    }
   ],
   "source": [
    "    tuple(i^2 for i in range(10) if i % 2 == 0)"
   ]
  },
  {
   "cell_type": "markdown",
   "id": "1cd74d8b",
   "metadata": {},
   "source": [
    "-   A *set* is a data structure which contains values without\n",
    "    multiplicities or order. One creates it from a list (or any\n",
    "    iterable) with the constructor `set`. The elements of a set must be\n",
    "    hashable:"
   ]
  },
  {
   "cell_type": "code",
   "execution_count": null,
   "id": "858e7ffd",
   "metadata": {},
   "outputs": [
    {
     "data": {
      "text/plain": [
       "{1, 2, 4, 5}\n"
      ]
     },
     "execution_count": 1,
     "metadata": {},
     "output_type": "execute_result"
    }
   ],
   "source": [
    "    set([2,2,1,4,5])"
   ]
  },
  {
   "cell_type": "code",
   "execution_count": null,
   "id": "848a252c",
   "metadata": {},
   "outputs": [
    {
     "data": {
      "text/plain": [
       "Traceback (most recent call last):\n",
       "...\n",
       "TypeError: unhashable type: 'list'"
      ]
     },
     "execution_count": 1,
     "metadata": {},
     "output_type": "execute_result"
    }
   ],
   "source": [
    "    set([ [1], [2] ])"
   ]
  },
  {
   "cell_type": "markdown",
   "id": "e1e1c128",
   "metadata": {},
   "source": [
    "-   A *dictionary* is an association table, which associates values to\n",
    "    keys. Keys must be hashable. One creates dictionaries using the\n",
    "    constructor `dict`, or using the syntax:"
   ]
  },
  {
   "cell_type": "code",
   "execution_count": null,
   "id": "d280821e",
   "metadata": {},
   "outputs": [],
   "source": [
    "    {key1 : value1, key2 : value2 ...}"
   ]
  },
  {
   "cell_type": "markdown",
   "id": "6c978840",
   "metadata": {},
   "source": [
    "\n",
    "    For example:\n",
    "```{.python .input}\n",
    "    age = {'toto' : 8, 'mom' : 27}; age\n",
    "```\n",
    "```{.json .output}\n",
    "    [{\"data\": {\"text/plain\": \"{'mom': 27, 'toto': 8}\"}, \"execution_count\": 1, \"metadata\": {}, \"output_type\": \"execute_result\"}]\n",
    "```\n"
   ]
  },
  {
   "cell_type": "markdown",
   "id": "6acdf859",
   "metadata": {},
   "source": [
    "-   Quotes (simple `' '` or double `\" \"`) enclose *character strings*.\n",
    "    One can concatenate them using `+`.\n",
    "\n",
    "-   For lists, tuples, strings, and dictionaries, the *indexing\n",
    "    operator* is written `l[i]`. For lists, tuples, and strings one can\n",
    "    also uses *slices* as `l[:]`, `l[:b]`, `l[a:]`, or `l[a:b]`.\n",
    "    Negative indices start from the end.\n",
    "\n",
    "-   The `len` function returns the number of elements of a list, a\n",
    "    tuple, a set, a string, or a dictionary. One writes `x in C` to\n",
    "    tests whether `x` is in `C`.\n",
    "\n",
    "-   Finally there is a special value called `None` to denote the absence\n",
    "    of a value.\n",
    "\n",
    "## Control structures\n",
    "\n",
    "In Python, there is no keyword for the beginning and the end of an\n",
    "instructions block. Blocks are delimited solely by means of indentation.\n",
    "Most of the time a new block is introduced by `:`. Python has the\n",
    "following control structures:\n",
    "\n",
    "-   Conditional instruction:"
   ]
  },
  {
   "cell_type": "code",
   "execution_count": null,
   "id": "908a17e4",
   "metadata": {},
   "outputs": [],
   "source": [
    "    if <condition>:\n",
    "        <instruction sequence>\n",
    "    [elif <condition>:\n",
    "        <instruction sequence>]*\n",
    "    [else:\n",
    "        <instruction sequence>]"
   ]
  },
  {
   "cell_type": "markdown",
   "id": "90a7ad22",
   "metadata": {},
   "source": [
    "-   Inside expression exclusively, one can write:"
   ]
  },
  {
   "cell_type": "code",
   "execution_count": null,
   "id": "b77eb59c",
   "metadata": {},
   "outputs": [],
   "source": [
    "    <value> if <condition> else <value>"
   ]
  },
  {
   "cell_type": "markdown",
   "id": "6e3eb6ff",
   "metadata": {},
   "source": [
    "-   Iterative instructions:"
   ]
  },
  {
   "cell_type": "code",
   "execution_count": null,
   "id": "bb984e8d",
   "metadata": {},
   "outputs": [],
   "source": [
    "    for <name> in <iterable>:\n",
    "        <instruction sequence>\n",
    "    [else:\n",
    "        <instruction sequence>]"
   ]
  },
  {
   "cell_type": "code",
   "execution_count": null,
   "id": "e94012c8",
   "metadata": {},
   "outputs": [],
   "source": [
    "    while <condition>:\n",
    "        <instruction sequence>\n",
    "    [else:\n",
    "        <instruction sequence>]"
   ]
  },
  {
   "cell_type": "markdown",
   "id": "716cc00f",
   "metadata": {},
   "source": [
    "\n",
    "    The `else` block is executed at the end of the loop if the loop is\n",
    "    ended normally, that is neither by a `break` nor an exception.\n"
   ]
  },
  {
   "cell_type": "markdown",
   "id": "23a7648b",
   "metadata": {},
   "source": [
    "-   In a loop, `continue` jumps to the next iteration.\n",
    "\n",
    "-   An iterable is an object which can be iterated through. Iterable\n",
    "    types include lists, tuples, dictionaries, and strings.\n",
    "\n",
    "-   An error (also called exception) is raised by:"
   ]
  },
  {
   "cell_type": "code",
   "execution_count": null,
   "id": "05a39f66",
   "metadata": {},
   "outputs": [],
   "source": [
    "    raise <ErrorType> [, error message]"
   ]
  },
  {
   "cell_type": "markdown",
   "id": "4c4a5f7e",
   "metadata": {},
   "source": [
    "\n",
    "    Usual errors include `ValueError` and `TypeError`.\n"
   ]
  },
  {
   "cell_type": "markdown",
   "id": "3da9adb9",
   "metadata": {},
   "source": [
    "## Functions\n",
    "\n",
    "Note\n",
    "\n",
    "Python functions vs. mathematical functions\n",
    "\n",
    "In what follows, we deal with *functions* is the sense of *programming\n",
    "languages*. Mathematical functions, as manipulated in calculus, are\n",
    "handled by Sage in a different way. In particular it doesn't make sense\n",
    "to do mathematical manipulation such as additions or derivations on\n",
    "Python functions.\n",
    "\n",
    "One defines a function using the keyword `def` as:"
   ]
  },
  {
   "cell_type": "code",
   "execution_count": null,
   "id": "fbd6e01a",
   "metadata": {},
   "outputs": [],
   "source": [
    "def <name>(<argument list>):\n",
    "     <instruction sequence>"
   ]
  },
  {
   "cell_type": "markdown",
   "id": "25630f2d",
   "metadata": {},
   "source": [
    "The result of the function is given by the instruction `return`. Very\n",
    "short functions can be created anonymously using `lambda` (remark that\n",
    "there is no instruction `return` here):"
   ]
  },
  {
   "cell_type": "code",
   "execution_count": null,
   "id": "37e2a6f5",
   "metadata": {},
   "outputs": [],
   "source": [
    "lambda <arguments>: <expression>"
   ]
  },
  {
   "cell_type": "markdown",
   "id": "e1cccf87",
   "metadata": {},
   "source": [
    "Note\n",
    "\n",
    "Functional programming\n",
    "\n",
    "Functions are objects as any other objects. One can assign them to\n",
    "variables or return them. For details, see the tutorial on\n",
    "[functional\\_programming](functional_programming.ipynb).\n",
    "\n",
    "## Exercises\n",
    "\n",
    "### Lists\n",
    "\n",
    "#### Creating Lists I: \\[Square brackets\\]\n",
    "\n",
    "**Example:**"
   ]
  },
  {
   "cell_type": "code",
   "execution_count": null,
   "id": "102f4969",
   "metadata": {},
   "outputs": [
    {
     "data": {
      "text/plain": [
       "[3, [5, 1, 4, 2, 3], 17, 17, 3, 51]"
      ]
     },
     "execution_count": 1,
     "metadata": {},
     "output_type": "execute_result"
    }
   ],
   "source": [
    "L = [3, Permutation([5,1,4,2,3]), 17, 17, 3, 51]\n",
    "L"
   ]
  },
  {
   "cell_type": "markdown",
   "id": "31599a98",
   "metadata": {},
   "source": [
    "**Exercise:** Create the list `[63, 12, -10, \"a\", 12]`, assign it to the\n",
    "variable `L`, and print the list."
   ]
  },
  {
   "cell_type": "code",
   "execution_count": null,
   "id": "3d679a99",
   "metadata": {},
   "outputs": [],
   "source": [
    "# edit here"
   ]
  },
  {
   "cell_type": "markdown",
   "id": "c8f714e6",
   "metadata": {},
   "source": [
    "**Exercise:** Create the empty list (you will often need to do this)."
   ]
  },
  {
   "cell_type": "code",
   "execution_count": null,
   "id": "8b1a91d6",
   "metadata": {},
   "outputs": [],
   "source": [
    "# edit here"
   ]
  },
  {
   "cell_type": "markdown",
   "id": "13a67f83",
   "metadata": {},
   "source": [
    "#### Creating Lists II: range\n",
    "\n",
    "The `range` function provides an easy way to construct a list of\n",
    "integers. Here is the documentation of the `range` function:"
   ]
  },
  {
   "cell_type": "code",
   "execution_count": null,
   "id": "549e2a8c",
   "metadata": {},
   "outputs": [],
   "source": [
    "range([start,] stop[, step]) -> list of integers\n",
    "\n",
    "Return a list containing an arithmetic progression of integers.\n",
    "range(i, j) returns [i, i+1, i+2, ..., j-1]; start (!) defaults to 0.\n",
    "When step is given, it specifies the increment (or decrement). For\n",
    "example, range(4) returns [0, 1, 2, 3].  The end point is omitted!\n",
    "These are exactly the valid indices for a list of 4 elements."
   ]
  },
  {
   "cell_type": "markdown",
   "id": "66b3cb21",
   "metadata": {},
   "source": [
    "**Exercise:** Use `range` to construct the list $[1,2,\\ldots,50]$."
   ]
  },
  {
   "cell_type": "code",
   "execution_count": null,
   "id": "b5419874",
   "metadata": {},
   "outputs": [],
   "source": [
    "# edit here"
   ]
  },
  {
   "cell_type": "markdown",
   "id": "5ff9923a",
   "metadata": {},
   "source": [
    "**Exercise:** Use `range` to construct the list of *even* numbers\n",
    "between 1 and 100 (including 100)."
   ]
  },
  {
   "cell_type": "code",
   "execution_count": null,
   "id": "75ec78ae",
   "metadata": {},
   "outputs": [],
   "source": [
    "# edit here"
   ]
  },
  {
   "cell_type": "markdown",
   "id": "6f9e5260",
   "metadata": {},
   "source": [
    "**Exercise:** The `step` argument for the `range` command can be\n",
    "negative. Use range to construct the list $[10, 7, 4, 1, -2]$."
   ]
  },
  {
   "cell_type": "code",
   "execution_count": null,
   "id": "82597fbb",
   "metadata": {},
   "outputs": [],
   "source": [
    "# edit here"
   ]
  },
  {
   "cell_type": "markdown",
   "id": "4e9c6e4b",
   "metadata": {},
   "source": [
    "-   `xrange` : returns an iterator rather than building a list, (only\n",
    "    for Python2, replaced by range in Python 3).\n",
    "-   `srange` : like range but with Sage integers; see below.\n",
    "-   `xsrange` : like xrange but with Sage integers.\n",
    "\n",
    "#### Creating Lists III: list comprehensions\n",
    "\n",
    "*List comprehensions* provide a concise way to create lists from other\n",
    "lists (or other data types).\n",
    "\n",
    "**Example** We already know how to create the list $[1, 2, \\dots, 16]$ :"
   ]
  },
  {
   "cell_type": "code",
   "execution_count": null,
   "id": "9943b813",
   "metadata": {},
   "outputs": [
    {
     "data": {
      "text/plain": [
       "[1, 2, 3, 4, 5, 6, 7, 8, 9, 10, 11, 12, 13, 14, 15, 16]"
      ]
     },
     "execution_count": 1,
     "metadata": {},
     "output_type": "execute_result"
    }
   ],
   "source": [
    "list(range(1,17))"
   ]
  },
  {
   "cell_type": "markdown",
   "id": "d6369d63",
   "metadata": {},
   "source": [
    "Using a *list comprehension*, we can now create the list\n",
    "$[1^2, 2^2, 3^2, \\dots, 16^2]$ as follows:"
   ]
  },
  {
   "cell_type": "code",
   "execution_count": null,
   "id": "542158db",
   "metadata": {},
   "outputs": [
    {
     "data": {
      "text/plain": [
       "[1, 4, 9, 16, 25, 36, 49, 64, 81, 100, 121, 144, 169, 196, 225, 256]"
      ]
     },
     "execution_count": 1,
     "metadata": {},
     "output_type": "execute_result"
    }
   ],
   "source": [
    "[i^2 for i in range(1,17)]"
   ]
  },
  {
   "cell_type": "code",
   "execution_count": null,
   "id": "3fd7bf5e",
   "metadata": {},
   "outputs": [
    {
     "data": {
      "text/plain": [
       "1496"
      ]
     },
     "execution_count": 1,
     "metadata": {},
     "output_type": "execute_result"
    }
   ],
   "source": [
    "sum([i^2 for i in range(1,17)])"
   ]
  },
  {
   "cell_type": "markdown",
   "id": "00881fd3",
   "metadata": {},
   "source": [
    "**Exercise:** \\[[Project Euler, Problem\n",
    "6](http://projecteuler.net/index.php?section=problems&id=6)\\]\n",
    "\n",
    "The sum of the squares of the first ten natural numbers is\n",
    "\n",
    "$$(1^2 + 2^2 + ... + 10^2) = 385$$\n",
    "\n",
    "The square of the sum of the first ten natural numbers is\n",
    "\n",
    "$$(1 + 2 + ... + 10)^2 = 55^2 = 3025$$\n",
    "\n",
    "Hence the difference between the sum of the squares of the first ten\n",
    "natural numbers and the square of the sum is\n",
    "\n",
    "$$3025 - 385 = 2640$$\n",
    "\n",
    "Find the difference between the sum of the squares of the first one\n",
    "hundred natural numbers and the square of the sum."
   ]
  },
  {
   "cell_type": "code",
   "execution_count": null,
   "id": "d1df3856",
   "metadata": {},
   "outputs": [],
   "source": [
    "# edit here"
   ]
  },
  {
   "cell_type": "code",
   "execution_count": null,
   "id": "ea20cb38",
   "metadata": {},
   "outputs": [],
   "source": [
    "# edit here"
   ]
  },
  {
   "cell_type": "code",
   "execution_count": null,
   "id": "76cd83a2",
   "metadata": {},
   "outputs": [],
   "source": [
    "# edit here"
   ]
  },
  {
   "cell_type": "markdown",
   "id": "e7e53755",
   "metadata": {},
   "source": [
    "##### Filtering lists with a list comprehension\n",
    "\n",
    "A list can be *filtered* using a list comprehension.\n",
    "\n",
    "**Example:** To create a list of the squares of the prime numbers\n",
    "between 1 and 100, we use a list comprehension as follows."
   ]
  },
  {
   "cell_type": "code",
   "execution_count": null,
   "id": "80606e3e",
   "metadata": {},
   "outputs": [
    {
     "data": {
      "text/plain": [
       "[4, 9, 25, 49, 121, 169, 289, 361, 529, 841, 961, 1369, 1681, 1849, 2209, 2809, 3481, 3721, 4489, 5041, 5329, 6241, 6889, 7921, 9409]"
      ]
     },
     "execution_count": 1,
     "metadata": {},
     "output_type": "execute_result"
    }
   ],
   "source": [
    "[p^2 for p in [1,2,..,100] if is_prime(p)]"
   ]
  },
  {
   "cell_type": "markdown",
   "id": "2800abf3",
   "metadata": {},
   "source": [
    "**Exercise:** Use a *list comprehension* to list all the natural numbers\n",
    "below 20 that are multiples of 3 or 5. Hint:\n",
    "\n",
    "-   To get the remainder of 7 divided by 3 use `7%3`.\n",
    "-   To test for equality use two equal signs (`==`); for example,\n",
    "    `3 == 7`."
   ]
  },
  {
   "cell_type": "code",
   "execution_count": null,
   "id": "fee97cff",
   "metadata": {},
   "outputs": [],
   "source": [
    "# edit here"
   ]
  },
  {
   "cell_type": "markdown",
   "id": "23173880",
   "metadata": {},
   "source": [
    "[Project Euler, Problem\n",
    "1](http://projecteuler.net/index.php?section=problems&id=1): Find the\n",
    "sum of all the multiples of 3 or 5 below 1000."
   ]
  },
  {
   "cell_type": "code",
   "execution_count": null,
   "id": "ff14f29e",
   "metadata": {},
   "outputs": [],
   "source": [
    "# edit here"
   ]
  },
  {
   "cell_type": "markdown",
   "id": "015ec2e0",
   "metadata": {},
   "source": [
    "##### Nested list comprehensions\n",
    "\n",
    "List comprehensions can be nested!\n",
    "\n",
    "**Examples:**"
   ]
  },
  {
   "cell_type": "code",
   "execution_count": null,
   "id": "f6ca6753",
   "metadata": {},
   "outputs": [
    {
     "data": {
      "text/plain": [
       "[(0, 0), (0, 1), (0, 2), (1, 0), (1, 1), (1, 2), (2, 0), (2, 1), (2, 2), (3, 0), (3, 1), (3, 2), (4, 0), (4, 1), (4, 2)]"
      ]
     },
     "execution_count": 1,
     "metadata": {},
     "output_type": "execute_result"
    }
   ],
   "source": [
    "[(x,y) for x in range(5) for y in range(3)]"
   ]
  },
  {
   "cell_type": "code",
   "execution_count": null,
   "id": "fb040a27",
   "metadata": {},
   "outputs": [
    {
     "data": {
      "text/plain": [
       "[[0, 0, 0], [1, 1, 1], [2, 4, 8], [3, 9, 27], [4, 16, 64], [5, 25, 125]]"
      ]
     },
     "execution_count": 1,
     "metadata": {},
     "output_type": "execute_result"
    }
   ],
   "source": [
    "[[i^j for j in range(1,4)] for i in range(6)]"
   ]
  },
  {
   "cell_type": "code",
   "execution_count": null,
   "id": "1a8338b9",
   "metadata": {},
   "outputs": [
    {
     "data": {
      "text/plain": [
       "[  0   0   0]\n",
       "[  1   1   1]\n",
       "[  2   4   8]\n",
       "[  3   9  27]\n",
       "[  4  16  64]\n",
       "[  5  25 125]"
      ]
     },
     "execution_count": 1,
     "metadata": {},
     "output_type": "execute_result"
    }
   ],
   "source": [
    "matrix([[i^j for j in range(1,4)] for i in range(6)])"
   ]
  },
  {
   "cell_type": "markdown",
   "id": "4925254b",
   "metadata": {},
   "source": [
    "**Exercise:**\n",
    "\n",
    "1.  A *Pythagorean triple* is a triple $(x,y,z)$ of *positive* integers\n",
    "    satisfying $x^2+y^2=z^2$. The Pythagorean triples whose components\n",
    "    are at most $10$ are:"
   ]
  },
  {
   "cell_type": "markdown",
   "id": "c686c9de",
   "metadata": {},
   "source": [
    "\n",
    "    $$[(3, 4, 5), (4, 3, 5), (6, 8, 10), (8, 6, 10)]\\,.$$\n",
    "\n",
    "    Using a filtered list comprehension, construct the list of\n",
    "    Pythagorean triples whose components are at most $50$ :\n",
    "```{.python .input}\n",
    "    # edit here\n",
    "```\n",
    "```{.python .input}\n",
    "    # edit here\n",
    "```\n"
   ]
  },
  {
   "cell_type": "markdown",
   "id": "d30dc5fb",
   "metadata": {},
   "source": [
    "2.  [Project Euler, Problem\n",
    "    9](http://projecteuler.net/index.php?section=problems&id=9): There\n",
    "    exists exactly one Pythagorean triple for which $a + b + c = 1000$.\n",
    "    Find the product $abc$ :"
   ]
  },
  {
   "cell_type": "code",
   "execution_count": null,
   "id": "96f768ee",
   "metadata": {},
   "outputs": [],
   "source": [
    "    # edit here"
   ]
  },
  {
   "cell_type": "markdown",
   "id": "f8adede6",
   "metadata": {},
   "source": [
    "#### Accessing individual elements of lists\n",
    "\n",
    "To access an element of the list `L`, use the syntax `L[i]`, where $i$\n",
    "is the index of the item.\n",
    "\n",
    "**Exercise:**\n",
    "\n",
    "1.  Construct the list `L = [1,2,3,4,3,5,6]`. What is `L[3]`?"
   ]
  },
  {
   "cell_type": "code",
   "execution_count": null,
   "id": "3513d2c3",
   "metadata": {},
   "outputs": [],
   "source": [
    "    # edit here"
   ]
  },
  {
   "cell_type": "markdown",
   "id": "fe94407e",
   "metadata": {},
   "source": [
    "2.  What is `L[1]`?"
   ]
  },
  {
   "cell_type": "code",
   "execution_count": null,
   "id": "04d2f480",
   "metadata": {},
   "outputs": [],
   "source": [
    "    # edit here"
   ]
  },
  {
   "cell_type": "markdown",
   "id": "1a81bfbc",
   "metadata": {},
   "source": [
    "3.  What is the index of the first element of `L`?"
   ]
  },
  {
   "cell_type": "code",
   "execution_count": null,
   "id": "919e8790",
   "metadata": {},
   "outputs": [],
   "source": [
    "    # edit here"
   ]
  },
  {
   "cell_type": "markdown",
   "id": "2385694f",
   "metadata": {},
   "source": [
    "4.  What is `L[-1]`? What is `L[-2]`?"
   ]
  },
  {
   "cell_type": "code",
   "execution_count": null,
   "id": "1bacd9c9",
   "metadata": {},
   "outputs": [],
   "source": [
    "    # edit here"
   ]
  },
  {
   "cell_type": "markdown",
   "id": "c2f81b1f",
   "metadata": {},
   "source": [
    "5.  What is `L.index(2)`? What is `L.index(3)`?"
   ]
  },
  {
   "cell_type": "code",
   "execution_count": null,
   "id": "a71c661a",
   "metadata": {},
   "outputs": [],
   "source": [
    "    # edit here"
   ]
  },
  {
   "cell_type": "markdown",
   "id": "92b0d6fe",
   "metadata": {},
   "source": [
    "#### Modifying lists: changing an element in a list\n",
    "\n",
    "To change the item in position `i` of a list `L` :"
   ]
  },
  {
   "cell_type": "code",
   "execution_count": null,
   "id": "ee8c339a",
   "metadata": {},
   "outputs": [
    {
     "data": {
      "text/plain": [
       "['a', 4, 1, 8]"
      ]
     },
     "execution_count": 1,
     "metadata": {},
     "output_type": "execute_result"
    }
   ],
   "source": [
    "L = [\"a\", 4, 1, 8]\n",
    "L"
   ]
  },
  {
   "cell_type": "code",
   "execution_count": null,
   "id": "bf9f57c4",
   "metadata": {},
   "outputs": [
    {
     "data": {
      "text/plain": [
       "['a', 4, 0, 8]"
      ]
     },
     "execution_count": 1,
     "metadata": {},
     "output_type": "execute_result"
    }
   ],
   "source": [
    "L[2] = 0\n",
    "L"
   ]
  },
  {
   "cell_type": "markdown",
   "id": "f03598c2",
   "metadata": {},
   "source": [
    "#### Modifying lists: append and extend\n",
    "\n",
    "To *append* an object to a list:"
   ]
  },
  {
   "cell_type": "code",
   "execution_count": null,
   "id": "bc04bc02",
   "metadata": {},
   "outputs": [
    {
     "data": {
      "text/plain": [
       "['a', 4, 1, 8]"
      ]
     },
     "execution_count": 1,
     "metadata": {},
     "output_type": "execute_result"
    }
   ],
   "source": [
    "L = [\"a\", 4, 1, 8]\n",
    "L"
   ]
  },
  {
   "cell_type": "code",
   "execution_count": null,
   "id": "bd651472",
   "metadata": {},
   "outputs": [
    {
     "data": {
      "text/plain": [
       "['a', 4, 1, 8, 17]"
      ]
     },
     "execution_count": 1,
     "metadata": {},
     "output_type": "execute_result"
    }
   ],
   "source": [
    "L.append(17)\n",
    "L"
   ]
  },
  {
   "cell_type": "markdown",
   "id": "dfefad99",
   "metadata": {},
   "source": [
    "To *extend* a list by another list:"
   ]
  },
  {
   "cell_type": "code",
   "execution_count": null,
   "id": "8dba8ab2",
   "metadata": {},
   "outputs": [
    {
     "data": {
      "text/plain": [
       "[1, 2, 3]"
      ]
     },
     "execution_count": 1,
     "metadata": {},
     "output_type": "execute_result"
    }
   ],
   "source": [
    "L1 = [1,2,3]\n",
    "L2 = [7,8,9,0]\n",
    "L1"
   ]
  },
  {
   "cell_type": "code",
   "execution_count": null,
   "id": "50f9283b",
   "metadata": {},
   "outputs": [
    {
     "data": {
      "text/plain": [
       "[7, 8, 9, 0]"
      ]
     },
     "execution_count": 1,
     "metadata": {},
     "output_type": "execute_result"
    }
   ],
   "source": [
    "L2"
   ]
  },
  {
   "cell_type": "code",
   "execution_count": null,
   "id": "aea1e61f",
   "metadata": {},
   "outputs": [
    {
     "data": {
      "text/plain": [
       "[1, 2, 3, 7, 8, 9, 0]"
      ]
     },
     "execution_count": 1,
     "metadata": {},
     "output_type": "execute_result"
    }
   ],
   "source": [
    "L1.extend(L2)\n",
    "L1"
   ]
  },
  {
   "cell_type": "markdown",
   "id": "c3a94399",
   "metadata": {},
   "source": [
    "#### Modifying lists: reverse, sort, ..."
   ]
  },
  {
   "cell_type": "code",
   "execution_count": null,
   "id": "cd7a0bf0",
   "metadata": {},
   "outputs": [
    {
     "data": {
      "text/plain": [
       "[4, 2, 5, 1, 3]"
      ]
     },
     "execution_count": 1,
     "metadata": {},
     "output_type": "execute_result"
    }
   ],
   "source": [
    "L = [4,2,5,1,3]\n",
    "L"
   ]
  },
  {
   "cell_type": "code",
   "execution_count": null,
   "id": "f6febb16",
   "metadata": {},
   "outputs": [
    {
     "data": {
      "text/plain": [
       "[3, 1, 5, 2, 4]"
      ]
     },
     "execution_count": 1,
     "metadata": {},
     "output_type": "execute_result"
    }
   ],
   "source": [
    "L.reverse()\n",
    "L"
   ]
  },
  {
   "cell_type": "code",
   "execution_count": null,
   "id": "7af82338",
   "metadata": {},
   "outputs": [
    {
     "data": {
      "text/plain": [
       "[1, 2, 3, 4, 5]"
      ]
     },
     "execution_count": 1,
     "metadata": {},
     "output_type": "execute_result"
    }
   ],
   "source": [
    "L.sort()\n",
    "L"
   ]
  },
  {
   "cell_type": "code",
   "execution_count": null,
   "id": "d39b7372",
   "metadata": {},
   "outputs": [
    {
     "data": {
      "text/plain": [
       "[1, 3, 4, 6]"
      ]
     },
     "execution_count": 1,
     "metadata": {},
     "output_type": "execute_result"
    }
   ],
   "source": [
    "L = [3,1,6,4]\n",
    "sorted(L)"
   ]
  },
  {
   "cell_type": "code",
   "execution_count": null,
   "id": "6bcba633",
   "metadata": {},
   "outputs": [
    {
     "data": {
      "text/plain": [
       "[3, 1, 6, 4]"
      ]
     },
     "execution_count": 1,
     "metadata": {},
     "output_type": "execute_result"
    }
   ],
   "source": [
    "L"
   ]
  },
  {
   "cell_type": "markdown",
   "id": "e0881907",
   "metadata": {},
   "source": [
    "#### Concatenating Lists\n",
    "\n",
    "To concatenate two lists, add them with the operator `+`. This is not a\n",
    "commutative operation!"
   ]
  },
  {
   "cell_type": "code",
   "execution_count": null,
   "id": "b40090b5",
   "metadata": {},
   "outputs": [
    {
     "data": {
      "text/plain": [
       "[1, 2, 3, 7, 8, 9, 0]"
      ]
     },
     "execution_count": 1,
     "metadata": {},
     "output_type": "execute_result"
    }
   ],
   "source": [
    "L1 = [1,2,3]\n",
    "L2 = [7,8,9,0]\n",
    "L1 + L2"
   ]
  },
  {
   "cell_type": "markdown",
   "id": "588fdbd6",
   "metadata": {},
   "source": [
    "#### Slicing Lists\n",
    "\n",
    "You can slice a list using the syntax `L[start : stop : step]`. This\n",
    "will return a sublist of `L`.\n",
    "\n",
    "**Exercise:** Below are some examples of slicing lists. Try to guess\n",
    "what the output will be before evaluating the cell:"
   ]
  },
  {
   "cell_type": "code",
   "execution_count": null,
   "id": "08daeb40",
   "metadata": {},
   "outputs": [
    {
     "data": {
      "text/plain": [
       "[0, 1, 2, 3, 4, 5, 6, 7, 8, 9, 10, 11, 12, 13, 14, 15, 16, 17, 18, 19]"
      ]
     },
     "execution_count": 1,
     "metadata": {},
     "output_type": "execute_result"
    }
   ],
   "source": [
    "L = list(range(20))\n",
    "L"
   ]
  },
  {
   "cell_type": "code",
   "execution_count": null,
   "id": "47fcc382",
   "metadata": {},
   "outputs": [
    {
     "data": {
      "text/plain": [
       "[3, 4, 5, 6, 7, 8, 9, 10, 11, 12, 13, 14]"
      ]
     },
     "execution_count": 1,
     "metadata": {},
     "output_type": "execute_result"
    }
   ],
   "source": [
    "L[3:15]"
   ]
  },
  {
   "cell_type": "code",
   "execution_count": null,
   "id": "4017bfc1",
   "metadata": {},
   "outputs": [
    {
     "data": {
      "text/plain": [
       "[3, 5, 7, 9, 11, 13]"
      ]
     },
     "execution_count": 1,
     "metadata": {},
     "output_type": "execute_result"
    }
   ],
   "source": [
    "L[3:15:2]"
   ]
  },
  {
   "cell_type": "code",
   "execution_count": null,
   "id": "0c664c90",
   "metadata": {},
   "outputs": [
    {
     "data": {
      "text/plain": [
       "[15, 14, 13, 12, 11, 10, 9, 8, 7, 6, 5, 4]"
      ]
     },
     "execution_count": 1,
     "metadata": {},
     "output_type": "execute_result"
    }
   ],
   "source": [
    "L[15:3:-1]"
   ]
  },
  {
   "cell_type": "code",
   "execution_count": null,
   "id": "c568368e",
   "metadata": {},
   "outputs": [
    {
     "data": {
      "text/plain": [
       "[0, 1, 2, 3]"
      ]
     },
     "execution_count": 1,
     "metadata": {},
     "output_type": "execute_result"
    }
   ],
   "source": [
    "L[:4]"
   ]
  },
  {
   "cell_type": "code",
   "execution_count": null,
   "id": "bdf8c48f",
   "metadata": {},
   "outputs": [
    {
     "data": {
      "text/plain": [
       "[0, 1, 2, 3, 4, 5, 6, 7, 8, 9, 10, 11, 12, 13, 14, 15, 16, 17, 18, 19]"
      ]
     },
     "execution_count": 1,
     "metadata": {},
     "output_type": "execute_result"
    }
   ],
   "source": [
    "L[:]"
   ]
  },
  {
   "cell_type": "code",
   "execution_count": null,
   "id": "e06716f0",
   "metadata": {},
   "outputs": [
    {
     "data": {
      "text/plain": [
       "[19, 18, 17, 16, 15, 14, 13, 12, 11, 10, 9, 8, 7, 6, 5, 4, 3, 2, 1, 0]"
      ]
     },
     "execution_count": 1,
     "metadata": {},
     "output_type": "execute_result"
    }
   ],
   "source": [
    "L[::-1]"
   ]
  },
  {
   "cell_type": "markdown",
   "id": "9e208700",
   "metadata": {},
   "source": [
    "**Exercise (Advanced):** The following function combines a loop with\n",
    "some of the list operations above. What does the function do?"
   ]
  },
  {
   "cell_type": "code",
   "execution_count": null,
   "id": "9ff84bb7",
   "metadata": {},
   "outputs": [],
   "source": [
    "def f(number_of_iterations):\n",
    "    L = [1]\n",
    "    for n in range(2, number_of_iterations):\n",
    "        L = [sum(L[:i]) for i in range(n-1, -1, -1)]\n",
    "    return numerical_approx(2*L[0]*len(L)/sum(L), digits=50)"
   ]
  },
  {
   "cell_type": "code",
   "execution_count": null,
   "id": "79776119",
   "metadata": {},
   "outputs": [],
   "source": [
    "# edit here"
   ]
  },
  {
   "cell_type": "markdown",
   "id": "d37b0cd8",
   "metadata": {},
   "source": [
    "### Tuples\n",
    "\n",
    "A *tuple* is an *immutable* list. That is, it cannot be changed once it\n",
    "is created. This can be useful for code safety and foremost because it\n",
    "makes tuple *hashable*. To create a tuple, use parentheses instead of\n",
    "brackets:"
   ]
  },
  {
   "cell_type": "code",
   "execution_count": null,
   "id": "9f721dd1",
   "metadata": {},
   "outputs": [
    {
     "data": {
      "text/plain": [
       "(3, 5, [3, 1], (17, [2, 3], 17), 4)"
      ]
     },
     "execution_count": 1,
     "metadata": {},
     "output_type": "execute_result"
    }
   ],
   "source": [
    "t = (3, 5, [3,1], (17,[2,3],17), 4)\n",
    "t"
   ]
  },
  {
   "cell_type": "markdown",
   "id": "12755c5d",
   "metadata": {},
   "source": [
    "To create a singleton tuple, a comma is required to resolve the\n",
    "ambiguity:"
   ]
  },
  {
   "cell_type": "code",
   "execution_count": null,
   "id": "1d09723b",
   "metadata": {},
   "outputs": [
    {
     "data": {
      "text/plain": [
       "1"
      ]
     },
     "execution_count": 1,
     "metadata": {},
     "output_type": "execute_result"
    }
   ],
   "source": [
    "(1)"
   ]
  },
  {
   "cell_type": "code",
   "execution_count": null,
   "id": "8ba5d45b",
   "metadata": {},
   "outputs": [
    {
     "data": {
      "text/plain": [
       "(1,)"
      ]
     },
     "execution_count": 1,
     "metadata": {},
     "output_type": "execute_result"
    }
   ],
   "source": [
    "(1,)"
   ]
  },
  {
   "cell_type": "markdown",
   "id": "de30ca8e",
   "metadata": {},
   "source": [
    "We can create a tuple from a list, and vice-versa."
   ]
  },
  {
   "cell_type": "code",
   "execution_count": null,
   "id": "4fdec499",
   "metadata": {},
   "outputs": [
    {
     "data": {
      "text/plain": [
       "(0, 1, 2, 3, 4)"
      ]
     },
     "execution_count": 1,
     "metadata": {},
     "output_type": "execute_result"
    }
   ],
   "source": [
    "tuple(range(5))"
   ]
  },
  {
   "cell_type": "code",
   "execution_count": null,
   "id": "656b650c",
   "metadata": {},
   "outputs": [
    {
     "data": {
      "text/plain": [
       "[3, 5, [3, 1], (17, [2, 3], 17), 4]"
      ]
     },
     "execution_count": 1,
     "metadata": {},
     "output_type": "execute_result"
    }
   ],
   "source": [
    "list(t)"
   ]
  },
  {
   "cell_type": "markdown",
   "id": "bba92b86",
   "metadata": {},
   "source": [
    "Tuples behave like lists in many respects:\n",
    "\n",
    "| Operation          | Syntax for lists | Syntax for tuples |\n",
    "|--------------------|------------------|-------------------|\n",
    "| Accessing a letter | `list[3]`        | `tuple[3]`        |\n",
    "| Concatenation      | `list1 + list2`  | `tuple1 + tuple2` |\n",
    "| Slicing            | `list[3:17:2]`   | `tuple[3:17:2]`   |\n",
    "| A reversed copy    | `list[::-1]`     | `tuple[::-1]`     |\n",
    "| Length             | `len(list)`      | `len(tuple)`      |\n",
    "\n",
    "Trying to modify a tuple will fail:"
   ]
  },
  {
   "cell_type": "code",
   "execution_count": null,
   "id": "84862acc",
   "metadata": {},
   "outputs": [
    {
     "data": {
      "text/plain": [
       "(5, 'a', 6/5)"
      ]
     },
     "execution_count": 1,
     "metadata": {},
     "output_type": "execute_result"
    }
   ],
   "source": [
    "t = (5, 'a', 6/5)\n",
    "t"
   ]
  },
  {
   "cell_type": "code",
   "execution_count": null,
   "id": "9bc9a9d3",
   "metadata": {},
   "outputs": [
    {
     "data": {
      "text/plain": [
       "Traceback (most recent call last):\n",
       "...\n",
       "TypeError: 'tuple' object does not support item assignment"
      ]
     },
     "execution_count": 1,
     "metadata": {},
     "output_type": "execute_result"
    }
   ],
   "source": [
    "t[1] = 'b'"
   ]
  },
  {
   "cell_type": "markdown",
   "id": "049e1c1e",
   "metadata": {},
   "source": [
    "### Generators\n",
    "\n",
    "\"Tuple-comprehensions\" do not exist. Instead, the syntax produces\n",
    "something called a generator. A generator allows you to process a\n",
    "sequence of items one at a time. Each item is created when it is needed,\n",
    "and then forgotten. This can be very efficient if we only need to use\n",
    "each item once."
   ]
  },
  {
   "cell_type": "code",
   "execution_count": null,
   "id": "ef280555",
   "metadata": {},
   "outputs": [
    {
     "data": {
      "text/plain": [
       "<generator object <genexpr> at 0x...>"
      ]
     },
     "execution_count": 1,
     "metadata": {},
     "output_type": "execute_result"
    }
   ],
   "source": [
    "(i^2 for i in range(5))"
   ]
  },
  {
   "cell_type": "code",
   "execution_count": null,
   "id": "6cece661",
   "metadata": {},
   "outputs": [
    {
     "data": {
      "text/plain": [
       "Traceback (most recent call last):\n",
       "...\n",
       "TypeError: 'generator' object ..."
      ]
     },
     "execution_count": 1,
     "metadata": {},
     "output_type": "execute_result"
    }
   ],
   "source": [
    "g = (i^2 for i in range(5))\n",
    "g[0]"
   ]
  },
  {
   "cell_type": "code",
   "execution_count": null,
   "id": "b4f0c488",
   "metadata": {},
   "outputs": [
    {
     "data": {
      "text/plain": [
       "[0, 1, 4, 9, 16]"
      ]
     },
     "execution_count": 1,
     "metadata": {},
     "output_type": "execute_result"
    }
   ],
   "source": [
    "[x for x in g]"
   ]
  },
  {
   "cell_type": "markdown",
   "id": "91524d43",
   "metadata": {},
   "source": [
    "`g` is now empty."
   ]
  },
  {
   "cell_type": "code",
   "execution_count": null,
   "id": "ee0fccc5",
   "metadata": {},
   "outputs": [
    {
     "data": {
      "text/plain": [
       "[]"
      ]
     },
     "execution_count": 1,
     "metadata": {},
     "output_type": "execute_result"
    }
   ],
   "source": [
    "[x for x in g]"
   ]
  },
  {
   "cell_type": "markdown",
   "id": "93b57ac0",
   "metadata": {},
   "source": [
    "A nice 'pythonic' trick is to use generators as argument of functions.\n",
    "We do *not* need double parentheses for this:"
   ]
  },
  {
   "cell_type": "code",
   "execution_count": null,
   "id": "4b8580a9",
   "metadata": {},
   "outputs": [
    {
     "data": {
      "text/plain": [
       "333338333350000"
      ]
     },
     "execution_count": 1,
     "metadata": {},
     "output_type": "execute_result"
    }
   ],
   "source": [
    "sum( i^2 for i in srange(100001) )"
   ]
  },
  {
   "cell_type": "markdown",
   "id": "6708c377",
   "metadata": {},
   "source": [
    "### Dictionaries\n",
    "\n",
    "A *dictionary* is another built-in data type. Unlike lists, which are\n",
    "indexed by a range of numbers starting at 0, dictionaries are indexed by\n",
    "*keys*, which can be any immutable objects. Strings and numbers can\n",
    "always be keys (because they are immutable). Dictionaries are sometimes\n",
    "called \"associative arrays\" in other programming languages.\n",
    "\n",
    "There are several ways to define dictionaries. One method is to use\n",
    "braces, `{}`, with comma-separated entries given in the form\n",
    "*key:value*:"
   ]
  },
  {
   "cell_type": "code",
   "execution_count": null,
   "id": "3952e550",
   "metadata": {},
   "outputs": [
    {
     "data": {
      "text/plain": [
       "{0: 'goo', 0.500000000000000: [4, 1, 5, 2, 3], 3/2: 17, 3: 17}"
      ]
     },
     "execution_count": 1,
     "metadata": {},
     "output_type": "execute_result"
    }
   ],
   "source": [
    "d = {3:17, 0.5:[4,1,5,2,3], 0:\"goo\", 3/2 : 17}\n",
    "d"
   ]
  },
  {
   "cell_type": "markdown",
   "id": "54b869e8",
   "metadata": {},
   "source": [
    "A second method is to use the constructor `dict` which admits a list (or\n",
    "actually any iterable) of 2-tuples *(key, value)*:"
   ]
  },
  {
   "cell_type": "code",
   "execution_count": null,
   "id": "d2f640a5",
   "metadata": {},
   "outputs": [
    {
     "data": {
      "text/plain": [
       "{0: 0, 1: 1, 2: 4, 3: 9, 4: 16, 5: 25, 6: 36, 7: 49, 8: 64, 9: 81}"
      ]
     },
     "execution_count": 1,
     "metadata": {},
     "output_type": "execute_result"
    }
   ],
   "source": [
    "dd = dict((i,i^2) for i in range(10))\n",
    "dd"
   ]
  },
  {
   "cell_type": "markdown",
   "id": "cd7ed448",
   "metadata": {},
   "source": [
    "Dictionaries behave as lists and tuples for several important\n",
    "operations.\n",
    "\n",
    "| Operation          | Syntax for lists | Syntax for dictionaries |\n",
    "|--------------------|------------------|-------------------------|\n",
    "| Accessing elements | `list[3]`        | `D[\"key\"]`              |\n",
    "| Length             | `len(list)`      | `len(D)`                |\n",
    "| Modifying          | `L[3] = 17`      | `D[\"key\"] = 17`         |\n",
    "| Deleting items     | `del L[3]`       | `del D[\"key\"]`          |"
   ]
  },
  {
   "cell_type": "code",
   "execution_count": null,
   "id": "7a977551",
   "metadata": {},
   "outputs": [
    {
     "data": {
      "text/plain": [
       "{0: 'goo', 0.500000000000000: [4, 1, 5, 2, 3], 3/2: 17, 3: 17, 10: 'a'}"
      ]
     },
     "execution_count": 1,
     "metadata": {},
     "output_type": "execute_result"
    }
   ],
   "source": [
    "d[10]='a'\n",
    "d"
   ]
  },
  {
   "cell_type": "markdown",
   "id": "afe2cff1",
   "metadata": {},
   "source": [
    "A dictionary can have the same value multiple times, but each key must\n",
    "only appear once and must be immutable:"
   ]
  },
  {
   "cell_type": "code",
   "execution_count": null,
   "id": "6dad98bb",
   "metadata": {},
   "outputs": [
    {
     "data": {
      "text/plain": [
       "{3: 14, 4: 14}"
      ]
     },
     "execution_count": 1,
     "metadata": {},
     "output_type": "execute_result"
    }
   ],
   "source": [
    "d = {3: 14, 4: 14}\n",
    "d"
   ]
  },
  {
   "cell_type": "code",
   "execution_count": null,
   "id": "2ee45236",
   "metadata": {},
   "outputs": [
    {
     "data": {
      "text/plain": [
       "{3: 14}"
      ]
     },
     "execution_count": 1,
     "metadata": {},
     "output_type": "execute_result"
    }
   ],
   "source": [
    "d = {3: 13, 3: 14}\n",
    "d"
   ]
  },
  {
   "cell_type": "code",
   "execution_count": null,
   "id": "d5865835",
   "metadata": {},
   "outputs": [
    {
     "data": {
      "text/plain": [
       "Traceback (most recent call last):\n",
       "...\n",
       "TypeError: unhashable type: 'list'"
      ]
     },
     "execution_count": 1,
     "metadata": {},
     "output_type": "execute_result"
    }
   ],
   "source": [
    "d = {[1,2,3] : 12}"
   ]
  },
  {
   "cell_type": "markdown",
   "id": "473fc2a9",
   "metadata": {},
   "source": [
    "Another way to add items to a dictionary is with the `update()` method\n",
    "which updates the dictionary from another dictionary:"
   ]
  },
  {
   "cell_type": "code",
   "execution_count": null,
   "id": "9288b673",
   "metadata": {},
   "outputs": [
    {
     "data": {
      "text/plain": [
       "{}"
      ]
     },
     "execution_count": 1,
     "metadata": {},
     "output_type": "execute_result"
    }
   ],
   "source": [
    "d = {}\n",
    "d"
   ]
  },
  {
   "cell_type": "code",
   "execution_count": null,
   "id": "f576cf8f",
   "metadata": {},
   "outputs": [
    {
     "data": {
      "text/plain": [
       "{0.500000000000000: [1, 2, 3], 3: 14, 10: 'newvalue', 20: 'newervalue'}"
      ]
     },
     "execution_count": 1,
     "metadata": {},
     "output_type": "execute_result"
    }
   ],
   "source": [
    "d.update({10 : 'newvalue', 20: 'newervalue', 3: 14, 0.5:[1,2,3]})\n",
    "d"
   ]
  },
  {
   "cell_type": "markdown",
   "id": "cbead3bd",
   "metadata": {},
   "source": [
    "We can iterate through the *keys*, or *values*, or both, of a\n",
    "dictionary. Note that, internally, there is no sorting of keys done. In\n",
    "general, the order of keys/values will depend on memory locations can\n",
    "and will differ between different computers and / or repeated runs on\n",
    "the same computer. However, Sage sort the dictionary entries by key when\n",
    "printing the dictionary specifically to make the docstrings more\n",
    "reproducible. However, the Python methods `keys()` and `values()` do not\n",
    "sort for you. If you want your output to be reproducible, then you have\n",
    "to sort it first just like in the examples below:"
   ]
  },
  {
   "cell_type": "code",
   "execution_count": null,
   "id": "890ac5d2",
   "metadata": {},
   "outputs": [],
   "source": [
    "d = {10 : 'newvalue', 20: 'newervalue', 3: 14, 0.5:(1,2,3)}"
   ]
  },
  {
   "cell_type": "code",
   "execution_count": null,
   "id": "c23634d8",
   "metadata": {},
   "outputs": [
    {
     "data": {
      "text/plain": [
       "[0.500000000000000, 3, 10, 20]"
      ]
     },
     "execution_count": 1,
     "metadata": {},
     "output_type": "execute_result"
    }
   ],
   "source": [
    "sorted([key for key in d])"
   ]
  },
  {
   "cell_type": "code",
   "execution_count": null,
   "id": "4da38c16",
   "metadata": {},
   "outputs": [
    {
     "data": {
      "text/plain": [
       "[0.500000000000000, 10, 3, 20]"
      ]
     },
     "execution_count": 1,
     "metadata": {},
     "output_type": "execute_result"
    }
   ],
   "source": [
    "d.keys()   # random order"
   ]
  },
  {
   "cell_type": "code",
   "execution_count": null,
   "id": "a2b0fd7e",
   "metadata": {},
   "outputs": [
    {
     "data": {
      "text/plain": [
       "[0.500000000000000, 3, 10, 20]"
      ]
     },
     "execution_count": 1,
     "metadata": {},
     "output_type": "execute_result"
    }
   ],
   "source": [
    "sorted(d.keys())"
   ]
  },
  {
   "cell_type": "code",
   "execution_count": null,
   "id": "75ada91c",
   "metadata": {},
   "outputs": [
    {
     "data": {
      "text/plain": [
       "[(1, 2, 3), 'newvalue', 14, 'newervalue']"
      ]
     },
     "execution_count": 1,
     "metadata": {},
     "output_type": "execute_result"
    }
   ],
   "source": [
    "d.values()   # random order"
   ]
  },
  {
   "cell_type": "code",
   "execution_count": null,
   "id": "5b79c87e",
   "metadata": {},
   "outputs": [
    {
     "data": {
      "text/plain": [
       "True"
      ]
     },
     "execution_count": 1,
     "metadata": {},
     "output_type": "execute_result"
    }
   ],
   "source": [
    "set(d.values()) == set([14, (1, 2, 3), 'newvalue', 'newervalue'])"
   ]
  },
  {
   "cell_type": "code",
   "execution_count": null,
   "id": "663c14b5",
   "metadata": {},
   "outputs": [
    {
     "data": {
      "text/plain": [
       "[(0.500000000000000, (1, 2, 3)), (10, 'newvalue'), (3, 14), (20, 'newervalue')]"
      ]
     },
     "execution_count": 1,
     "metadata": {},
     "output_type": "execute_result"
    }
   ],
   "source": [
    "d.items()    # random order"
   ]
  },
  {
   "cell_type": "code",
   "execution_count": null,
   "id": "55b0aa07",
   "metadata": {},
   "outputs": [
    {
     "data": {
      "text/plain": [
       "[(0.500000000000000, (1, 2, 3)), (3, 14), (10, 'newvalue'), (20, 'newervalue')]"
      ]
     },
     "execution_count": 1,
     "metadata": {},
     "output_type": "execute_result"
    }
   ],
   "source": [
    "sorted([(key, value) for key, value in d.items()])"
   ]
  },
  {
   "cell_type": "markdown",
   "id": "1fb5601d",
   "metadata": {},
   "source": [
    "**Exercise:** Consider the following directed graph.\n",
    "\n",
    "![image](media/graph0.png)\n",
    "\n",
    "Create a dictionary whose keys are the vertices of the above directed\n",
    "graph, and whose values are the lists of the vertices that it points to.\n",
    "For instance, the vertex 1 points to the vertices 2 and 3, so the\n",
    "dictionary will look like:"
   ]
  },
  {
   "cell_type": "code",
   "execution_count": null,
   "id": "ac067ccc",
   "metadata": {},
   "outputs": [],
   "source": [
    "d = { ..., 1:[2,3], ... }"
   ]
  },
  {
   "cell_type": "code",
   "execution_count": null,
   "id": "28af5833",
   "metadata": {},
   "outputs": [],
   "source": [
    "# edit here"
   ]
  },
  {
   "cell_type": "markdown",
   "id": "964f18be",
   "metadata": {},
   "source": [
    "Then try:"
   ]
  },
  {
   "cell_type": "code",
   "execution_count": null,
   "id": "a1b992a0",
   "metadata": {},
   "outputs": [],
   "source": [
    "g = DiGraph(d)\n",
    "g.plot()"
   ]
  },
  {
   "cell_type": "markdown",
   "id": "ac4f74f8",
   "metadata": {},
   "source": [
    "### Using Sage types: The srange command\n",
    "\n",
    "**Example:** Construct a $3 \\times 3$ matrix whose $(i,j)$ entry is the\n",
    "rational number $\\frac{i}{j}$. The integers generated by `range` are\n",
    "Python `int`'s. As a consequence, dividing them does euclidean division\n",
    "(in Python2):"
   ]
  },
  {
   "cell_type": "code",
   "execution_count": null,
   "id": "2579151a",
   "metadata": {},
   "outputs": [
    {
     "data": {
      "text/plain": [
       "[1 0 0]\n",
       "[2 1 0]\n",
       "[3 1 1]"
      ]
     },
     "execution_count": 1,
     "metadata": {},
     "output_type": "execute_result"
    }
   ],
   "source": [
    "matrix([[i/j for j in range(1,4)] for i in range(1,4)]) # not tested"
   ]
  },
  {
   "cell_type": "markdown",
   "id": "401326b3",
   "metadata": {},
   "source": [
    "In Python3, the division of Python integers returns a float instead.\n",
    "\n",
    "Whereas dividing a Sage `Integer` by a Sage `Integer` produces a\n",
    "rational number:"
   ]
  },
  {
   "cell_type": "code",
   "execution_count": null,
   "id": "9f378601",
   "metadata": {},
   "outputs": [
    {
     "data": {
      "text/plain": [
       "[  1 1/2 1/3]\n",
       "[  2   1 2/3]\n",
       "[  3 3/2   1]"
      ]
     },
     "execution_count": 1,
     "metadata": {},
     "output_type": "execute_result"
    }
   ],
   "source": [
    "matrix([[ i/j for j in srange(1,4)] for i in srange(1,4)])"
   ]
  },
  {
   "cell_type": "markdown",
   "id": "aeb8da45",
   "metadata": {},
   "source": [
    "### Modifying lists has consequences!\n",
    "\n",
    "Try to predict the results of the following commands:"
   ]
  },
  {
   "cell_type": "code",
   "execution_count": null,
   "id": "1d60ddcd",
   "metadata": {},
   "outputs": [
    {
     "data": {
      "text/plain": [
       "[[1, 2, 3], [1, 2, 3], [1, 2, 3]]"
      ]
     },
     "execution_count": 1,
     "metadata": {},
     "output_type": "execute_result"
    }
   ],
   "source": [
    "a = [1, 2, 3]\n",
    "L = [a, a, a]\n",
    "L"
   ]
  },
  {
   "cell_type": "code",
   "execution_count": null,
   "id": "1ad0fa25",
   "metadata": {},
   "outputs": [
    {
     "data": {
      "text/plain": [
       "[[1, 2, 3, 4], [1, 2, 3, 4], [1, 2, 3, 4]]"
      ]
     },
     "execution_count": 1,
     "metadata": {},
     "output_type": "execute_result"
    }
   ],
   "source": [
    "a.append(4)\n",
    "L"
   ]
  },
  {
   "cell_type": "markdown",
   "id": "14be1f72",
   "metadata": {},
   "source": [
    "Now try these:"
   ]
  },
  {
   "cell_type": "code",
   "execution_count": null,
   "id": "914a25a2",
   "metadata": {},
   "outputs": [
    {
     "data": {
      "text/plain": [
       "[[1, 2, 3], [1, 2, 3], [1, 2, 3]]"
      ]
     },
     "execution_count": 1,
     "metadata": {},
     "output_type": "execute_result"
    }
   ],
   "source": [
    "a = [1, 2, 3]\n",
    "L = [a, a, a]\n",
    "L"
   ]
  },
  {
   "cell_type": "code",
   "execution_count": null,
   "id": "93936c25",
   "metadata": {},
   "outputs": [
    {
     "data": {
      "text/plain": [
       "[[1, 2, 3], [1, 2, 3], [1, 2, 3]]"
      ]
     },
     "execution_count": 1,
     "metadata": {},
     "output_type": "execute_result"
    }
   ],
   "source": [
    "a = [1, 2, 3, 4]\n",
    "L"
   ]
  },
  {
   "cell_type": "code",
   "execution_count": null,
   "id": "b7e752e4",
   "metadata": {},
   "outputs": [
    {
     "data": {
      "text/plain": [
       "[[1, 2, 3, 4], [1, 2, 3, 4], [1, 2, 3, 4]]"
      ]
     },
     "execution_count": 1,
     "metadata": {},
     "output_type": "execute_result"
    }
   ],
   "source": [
    "L[0].append(4)\n",
    "L"
   ]
  },
  {
   "cell_type": "markdown",
   "id": "afa06038",
   "metadata": {},
   "source": [
    "This is known as the *reference effect*. You can use the command\n",
    "`deepcopy` to avoid this effect:"
   ]
  },
  {
   "cell_type": "code",
   "execution_count": null,
   "id": "4b3ed64b",
   "metadata": {},
   "outputs": [
    {
     "data": {
      "text/plain": [
       "[[1, 2, 3], [1, 2, 3]]"
      ]
     },
     "execution_count": 1,
     "metadata": {},
     "output_type": "execute_result"
    }
   ],
   "source": [
    "a = [1,2,3]\n",
    "L = [deepcopy(a), deepcopy(a)]\n",
    "L"
   ]
  },
  {
   "cell_type": "code",
   "execution_count": null,
   "id": "4747ca07",
   "metadata": {},
   "outputs": [
    {
     "data": {
      "text/plain": [
       "[[1, 2, 3], [1, 2, 3]]"
      ]
     },
     "execution_count": 1,
     "metadata": {},
     "output_type": "execute_result"
    }
   ],
   "source": [
    "a.append(4)\n",
    "L"
   ]
  },
  {
   "cell_type": "markdown",
   "id": "ec26b982",
   "metadata": {},
   "source": [
    "The same effect occurs with dictionaries:"
   ]
  },
  {
   "cell_type": "code",
   "execution_count": null,
   "id": "8bd0eeb4",
   "metadata": {},
   "outputs": [
    {
     "data": {
      "text/plain": [
       "{1: 'a', 2: 'b', 3: 'c', 4: 'd'}"
      ]
     },
     "execution_count": 1,
     "metadata": {},
     "output_type": "execute_result"
    }
   ],
   "source": [
    "d = {1:'a', 2:'b', 3:'c'}\n",
    "dd = d\n",
    "d.update( { 4:'d' } )\n",
    "dd"
   ]
  },
  {
   "cell_type": "markdown",
   "id": "ecb4ce2c",
   "metadata": {},
   "source": [
    "## Loops and Functions\n",
    "\n",
    "For more verbose explanation of what's going on here, a good place to\n",
    "look at is the following section of the Python tutorial:\n",
    "<http://docs.python.org/tutorial/controlflow.html>\n",
    "\n",
    "### *While* Loops\n",
    "\n",
    "*While* loops tend not to be used nearly as much as *for* loops in\n",
    "Python code:"
   ]
  },
  {
   "cell_type": "code",
   "execution_count": null,
   "id": "2a84bcaf",
   "metadata": {},
   "outputs": [
    {
     "data": {
      "text/plain": [
       "0\n",
       "1\n",
       "2\n",
       "3\n",
       "4\n",
       "5\n",
       "6\n",
       "7\n",
       "8\n",
       "9"
      ]
     },
     "execution_count": 1,
     "metadata": {},
     "output_type": "execute_result"
    }
   ],
   "source": [
    "i = 0\n",
    "while i < 10:\n",
    "    print(i)\n",
    "    i += 1"
   ]
  },
  {
   "cell_type": "code",
   "execution_count": null,
   "id": "8ba401f7",
   "metadata": {},
   "outputs": [
    {
     "data": {
      "text/plain": [
       "0\n",
       "2\n",
       "4\n",
       "6\n",
       "8"
      ]
     },
     "execution_count": 1,
     "metadata": {},
     "output_type": "execute_result"
    }
   ],
   "source": [
    "i = 0\n",
    "while i < 10:\n",
    "    if i % 2 == 1:\n",
    "        i += 1\n",
    "        continue\n",
    "    print(i)\n",
    "    i += 1"
   ]
  },
  {
   "cell_type": "markdown",
   "id": "b403c03c",
   "metadata": {},
   "source": [
    "Note that the truth value of the clause expression in the *while* loop\n",
    "is evaluated using `bool` :"
   ]
  },
  {
   "cell_type": "code",
   "execution_count": null,
   "id": "3fb776bf",
   "metadata": {},
   "outputs": [
    {
     "data": {
      "text/plain": [
       "True"
      ]
     },
     "execution_count": 1,
     "metadata": {},
     "output_type": "execute_result"
    }
   ],
   "source": [
    "bool(True)"
   ]
  },
  {
   "cell_type": "code",
   "execution_count": null,
   "id": "ee9703e0",
   "metadata": {},
   "outputs": [
    {
     "data": {
      "text/plain": [
       "True"
      ]
     },
     "execution_count": 1,
     "metadata": {},
     "output_type": "execute_result"
    }
   ],
   "source": [
    "bool('a')"
   ]
  },
  {
   "cell_type": "code",
   "execution_count": null,
   "id": "ff3e03ee",
   "metadata": {},
   "outputs": [
    {
     "data": {
      "text/plain": [
       "True"
      ]
     },
     "execution_count": 1,
     "metadata": {},
     "output_type": "execute_result"
    }
   ],
   "source": [
    "bool(1)"
   ]
  },
  {
   "cell_type": "code",
   "execution_count": null,
   "id": "d4992e47",
   "metadata": {},
   "outputs": [
    {
     "data": {
      "text/plain": [
       "False"
      ]
     },
     "execution_count": 1,
     "metadata": {},
     "output_type": "execute_result"
    }
   ],
   "source": [
    "bool(0)"
   ]
  },
  {
   "cell_type": "code",
   "execution_count": null,
   "id": "fa5730fb",
   "metadata": {},
   "outputs": [
    {
     "data": {
      "text/plain": [
       "4\n",
       "3\n",
       "2\n",
       "1"
      ]
     },
     "execution_count": 1,
     "metadata": {},
     "output_type": "execute_result"
    }
   ],
   "source": [
    "i = 4\n",
    "while i:\n",
    "    print(i)\n",
    "    i -= 1"
   ]
  },
  {
   "cell_type": "markdown",
   "id": "fb9d32a0",
   "metadata": {},
   "source": [
    "### *For* Loops\n",
    "\n",
    "Here is a basic *for* loop iterating over all of the elements in the\n",
    "list `l` :"
   ]
  },
  {
   "cell_type": "code",
   "execution_count": null,
   "id": "ca61ad0d",
   "metadata": {},
   "outputs": [
    {
     "data": {
      "text/plain": [
       "a\n",
       "b\n",
       "c"
      ]
     },
     "execution_count": 1,
     "metadata": {},
     "output_type": "execute_result"
    }
   ],
   "source": [
    "l = ['a', 'b', 'c']\n",
    "for letter in l:\n",
    "    print(letter)"
   ]
  },
  {
   "cell_type": "markdown",
   "id": "30ec3517",
   "metadata": {},
   "source": [
    "The `range` function is very useful when you want to generate arithmetic\n",
    "progressions to loop over. Note that the end point is never included:"
   ]
  },
  {
   "cell_type": "code",
   "execution_count": null,
   "id": "de903dba",
   "metadata": {},
   "outputs": [],
   "source": [
    "range?"
   ]
  },
  {
   "cell_type": "code",
   "execution_count": null,
   "id": "753c3857",
   "metadata": {},
   "outputs": [
    {
     "data": {
      "text/plain": [
       "[0, 1, 2, 3]"
      ]
     },
     "execution_count": 1,
     "metadata": {},
     "output_type": "execute_result"
    }
   ],
   "source": [
    "list(range(4))"
   ]
  },
  {
   "cell_type": "code",
   "execution_count": null,
   "id": "564c3024",
   "metadata": {},
   "outputs": [
    {
     "data": {
      "text/plain": [
       "[1, 2, 3, 4]"
      ]
     },
     "execution_count": 1,
     "metadata": {},
     "output_type": "execute_result"
    }
   ],
   "source": [
    "list(range(1, 5))"
   ]
  },
  {
   "cell_type": "code",
   "execution_count": null,
   "id": "61c37f43",
   "metadata": {},
   "outputs": [
    {
     "data": {
      "text/plain": [
       "[1, 3, 5, 7, 9]"
      ]
     },
     "execution_count": 1,
     "metadata": {},
     "output_type": "execute_result"
    }
   ],
   "source": [
    "list(range(1, 11, 2))"
   ]
  },
  {
   "cell_type": "code",
   "execution_count": null,
   "id": "b1ff7c91",
   "metadata": {},
   "outputs": [
    {
     "data": {
      "text/plain": [
       "[10, 9, 8, 7, 6, 5, 4, 3, 2, 1]"
      ]
     },
     "execution_count": 1,
     "metadata": {},
     "output_type": "execute_result"
    }
   ],
   "source": [
    "list(range(10, 0, -1))"
   ]
  },
  {
   "cell_type": "code",
   "execution_count": null,
   "id": "64fec41c",
   "metadata": {},
   "outputs": [
    {
     "data": {
      "text/plain": [
       "0 0\n",
       "1 1\n",
       "2 4\n",
       "3 9"
      ]
     },
     "execution_count": 1,
     "metadata": {},
     "output_type": "execute_result"
    }
   ],
   "source": [
    "for i in range(4):\n",
    "    print(\"{} {}\".format(i, i*i))"
   ]
  },
  {
   "cell_type": "markdown",
   "id": "97e0e1c3",
   "metadata": {},
   "source": [
    "You can use the *continue* keyword to immediately go to the next item in\n",
    "the loop:"
   ]
  },
  {
   "cell_type": "code",
   "execution_count": null,
   "id": "cf084df1",
   "metadata": {},
   "outputs": [
    {
     "data": {
      "text/plain": [
       "1\n",
       "3\n",
       "5\n",
       "7\n",
       "9"
      ]
     },
     "execution_count": 1,
     "metadata": {},
     "output_type": "execute_result"
    }
   ],
   "source": [
    "for i in range(10):\n",
    "    if i % 2 == 0:\n",
    "        continue\n",
    "    print(i)"
   ]
  },
  {
   "cell_type": "markdown",
   "id": "63bd73bc",
   "metadata": {},
   "source": [
    "If you want to break out of the loop, use the *break* keyword:"
   ]
  },
  {
   "cell_type": "code",
   "execution_count": null,
   "id": "4e5b37b2",
   "metadata": {},
   "outputs": [
    {
     "data": {
      "text/plain": [
       "1\n",
       "3\n",
       "5"
      ]
     },
     "execution_count": 1,
     "metadata": {},
     "output_type": "execute_result"
    }
   ],
   "source": [
    "for i in range(10):\n",
    "    if i % 2 == 0:\n",
    "        continue\n",
    "    if i == 7:\n",
    "        break\n",
    "    print(i)"
   ]
  },
  {
   "cell_type": "markdown",
   "id": "a275e0b6",
   "metadata": {},
   "source": [
    "If you need to keep track of both the position in the list and its\n",
    "value, one (not so elegant) way would be to do the following:"
   ]
  },
  {
   "cell_type": "code",
   "execution_count": null,
   "id": "ccf5704a",
   "metadata": {},
   "outputs": [
    {
     "data": {
      "text/plain": [
       "0 a\n",
       "1 b\n",
       "2 c"
      ]
     },
     "execution_count": 1,
     "metadata": {},
     "output_type": "execute_result"
    }
   ],
   "source": [
    "l = ['a', 'b', 'c']\n",
    "for i in range(len(l)):\n",
    "    print(\"{} {}\".format(i, l[i]))"
   ]
  },
  {
   "cell_type": "markdown",
   "id": "feae49e3",
   "metadata": {},
   "source": [
    "It's cleaner to use `enumerate` which provides the index as well as the\n",
    "value:"
   ]
  },
  {
   "cell_type": "code",
   "execution_count": null,
   "id": "787bdd5d",
   "metadata": {},
   "outputs": [
    {
     "data": {
      "text/plain": [
       "0 a\n",
       "1 b\n",
       "2 c"
      ]
     },
     "execution_count": 1,
     "metadata": {},
     "output_type": "execute_result"
    }
   ],
   "source": [
    "l = ['a', 'b', 'c']\n",
    "for i, letter in enumerate(l):\n",
    "    print(\"{} {}\".format(i, letter))"
   ]
  },
  {
   "cell_type": "markdown",
   "id": "ece687d0",
   "metadata": {},
   "source": [
    "You could get a similar result to the result of the `enumerate` function\n",
    "by using `zip` to zip two lists together:"
   ]
  },
  {
   "cell_type": "code",
   "execution_count": null,
   "id": "87389f12",
   "metadata": {},
   "outputs": [
    {
     "data": {
      "text/plain": [
       "0 a\n",
       "1 b\n",
       "2 c"
      ]
     },
     "execution_count": 1,
     "metadata": {},
     "output_type": "execute_result"
    }
   ],
   "source": [
    "l = ['a', 'b', 'c']\n",
    "for i, letter in zip(range(len(l)), l):\n",
    "    print(\"{} {}\".format(i, letter))"
   ]
  },
  {
   "cell_type": "markdown",
   "id": "5d9cda69",
   "metadata": {},
   "source": [
    "*For* loops work using Python's iterator protocol. This allows all sorts\n",
    "of different objects to be looped over. For example:"
   ]
  },
  {
   "cell_type": "code",
   "execution_count": null,
   "id": "5707b528",
   "metadata": {},
   "outputs": [
    {
     "data": {
      "text/plain": [
       "0 0\n",
       "1 1\n",
       "2 4\n",
       "3 4\n",
       "4 1"
      ]
     },
     "execution_count": 1,
     "metadata": {},
     "output_type": "execute_result"
    }
   ],
   "source": [
    "for i in GF(5):\n",
    "    print(\"{} {}\".format(i, i*i))"
   ]
  },
  {
   "cell_type": "markdown",
   "id": "57e78174",
   "metadata": {},
   "source": [
    "How does this work?"
   ]
  },
  {
   "cell_type": "code",
   "execution_count": null,
   "id": "b38f8b17",
   "metadata": {},
   "outputs": [
    {
     "data": {
      "text/plain": [
       "<generator object ...__iter__ at 0x...>\n"
      ]
     },
     "execution_count": 1,
     "metadata": {},
     "output_type": "execute_result"
    }
   ],
   "source": [
    "it = iter(GF(5)); it"
   ]
  },
  {
   "cell_type": "code",
   "execution_count": null,
   "id": "505342fa",
   "metadata": {},
   "outputs": [
    {
     "data": {
      "text/plain": [
       "0\n"
      ]
     },
     "execution_count": 1,
     "metadata": {},
     "output_type": "execute_result"
    }
   ],
   "source": [
    "next(it)"
   ]
  },
  {
   "cell_type": "code",
   "execution_count": null,
   "id": "851b8309",
   "metadata": {},
   "outputs": [
    {
     "data": {
      "text/plain": [
       "1\n"
      ]
     },
     "execution_count": 1,
     "metadata": {},
     "output_type": "execute_result"
    }
   ],
   "source": [
    "next(it)"
   ]
  },
  {
   "cell_type": "code",
   "execution_count": null,
   "id": "0061e798",
   "metadata": {},
   "outputs": [
    {
     "data": {
      "text/plain": [
       "2\n"
      ]
     },
     "execution_count": 1,
     "metadata": {},
     "output_type": "execute_result"
    }
   ],
   "source": [
    "next(it)"
   ]
  },
  {
   "cell_type": "code",
   "execution_count": null,
   "id": "5f1edc00",
   "metadata": {},
   "outputs": [
    {
     "data": {
      "text/plain": [
       "3\n"
      ]
     },
     "execution_count": 1,
     "metadata": {},
     "output_type": "execute_result"
    }
   ],
   "source": [
    "next(it)"
   ]
  },
  {
   "cell_type": "code",
   "execution_count": null,
   "id": "49b8c6f0",
   "metadata": {},
   "outputs": [
    {
     "data": {
      "text/plain": [
       "4\n"
      ]
     },
     "execution_count": 1,
     "metadata": {},
     "output_type": "execute_result"
    }
   ],
   "source": [
    "next(it)"
   ]
  },
  {
   "cell_type": "code",
   "execution_count": null,
   "id": "2664a780",
   "metadata": {},
   "outputs": [
    {
     "data": {
      "text/plain": [
       "Traceback (most recent call last):\n",
       "...\n",
       "StopIteration"
      ]
     },
     "execution_count": 1,
     "metadata": {},
     "output_type": "execute_result"
    }
   ],
   "source": [
    "next(it)"
   ]
  },
  {
   "cell_type": "code",
   "execution_count": null,
   "id": "7cb3261d",
   "metadata": {},
   "outputs": [],
   "source": [
    "R = GF(5)\n",
    "R.__iter__??"
   ]
  },
  {
   "cell_type": "markdown",
   "id": "7f3039a5",
   "metadata": {},
   "source": [
    "The command *yield* provides a very convenient way to produce iterators.\n",
    "We'll see more about it in a bit.\n",
    "\n",
    "#### Exercises\n",
    "\n",
    "For each of the following sets, compute the list of its elements and\n",
    "their sum. Use two different ways, if possible: with a loop, and using a\n",
    "list comprehension.\n",
    "\n",
    "1.  The first $n$ terms of the harmonic series:"
   ]
  },
  {
   "cell_type": "markdown",
   "id": "3fc044e5",
   "metadata": {},
   "source": [
    "\n",
    "    $$\\sum_{i=1}^n \\frac{1}{i}$$\n",
    "```{.python .input}\n",
    "    # edit here\n",
    "```\n"
   ]
  },
  {
   "cell_type": "markdown",
   "id": "8dcb1b47",
   "metadata": {},
   "source": [
    "2.  The odd integers between $1$ and $n$ :"
   ]
  },
  {
   "cell_type": "code",
   "execution_count": null,
   "id": "7e0fddd5",
   "metadata": {},
   "outputs": [],
   "source": [
    "    # edit here"
   ]
  },
  {
   "cell_type": "markdown",
   "id": "855febf9",
   "metadata": {},
   "source": [
    "3.  The first $n$ odd positive integers:"
   ]
  },
  {
   "cell_type": "code",
   "execution_count": null,
   "id": "c60b2d04",
   "metadata": {},
   "outputs": [],
   "source": [
    "    # edit here"
   ]
  },
  {
   "cell_type": "markdown",
   "id": "091ef420",
   "metadata": {},
   "source": [
    "4.  The integers between $1$ and $n$ that are neither divisible by $2$\n",
    "    nor by $3$ nor by $5$ :"
   ]
  },
  {
   "cell_type": "code",
   "execution_count": null,
   "id": "f23b7f99",
   "metadata": {},
   "outputs": [],
   "source": [
    "    # edit here"
   ]
  },
  {
   "cell_type": "markdown",
   "id": "91ebbf68",
   "metadata": {},
   "source": [
    "5.  The first $n$ positive integers that are neither divisible by $2$\n",
    "    nor by $3$ nor by $5$ :"
   ]
  },
  {
   "cell_type": "code",
   "execution_count": null,
   "id": "0973cb46",
   "metadata": {},
   "outputs": [],
   "source": [
    "    # edit here"
   ]
  },
  {
   "cell_type": "markdown",
   "id": "31abfeb2",
   "metadata": {},
   "source": [
    "### Functions\n",
    "\n",
    "Functions are defined using the *def* statement, and values are returned\n",
    "using the *return* keyword:"
   ]
  },
  {
   "cell_type": "code",
   "execution_count": null,
   "id": "c3765939",
   "metadata": {},
   "outputs": [],
   "source": [
    "def f(x):\n",
    "    return x*x"
   ]
  },
  {
   "cell_type": "code",
   "execution_count": null,
   "id": "d0e699d7",
   "metadata": {},
   "outputs": [
    {
     "data": {
      "text/plain": [
       "4"
      ]
     },
     "execution_count": 1,
     "metadata": {},
     "output_type": "execute_result"
    }
   ],
   "source": [
    "f(2)"
   ]
  },
  {
   "cell_type": "markdown",
   "id": "681f6991",
   "metadata": {},
   "source": [
    "Functions can be recursive:"
   ]
  },
  {
   "cell_type": "code",
   "execution_count": null,
   "id": "46df7620",
   "metadata": {},
   "outputs": [],
   "source": [
    "def fib(n):\n",
    "    if n <= 1:\n",
    "        return 1\n",
    "    else:\n",
    "        return fib(n-1) + fib(n-2)"
   ]
  },
  {
   "cell_type": "code",
   "execution_count": null,
   "id": "989a841b",
   "metadata": {},
   "outputs": [
    {
     "data": {
      "text/plain": [
       "[1, 1, 2, 3, 5, 8, 13, 21, 34, 55]"
      ]
     },
     "execution_count": 1,
     "metadata": {},
     "output_type": "execute_result"
    }
   ],
   "source": [
    "[fib(i) for i in range(10)]"
   ]
  },
  {
   "cell_type": "markdown",
   "id": "6358e916",
   "metadata": {},
   "source": [
    "Functions are first class objects like any other. For example, they can\n",
    "be passed in as arguments to other functions:"
   ]
  },
  {
   "cell_type": "code",
   "execution_count": null,
   "id": "ff4a1745",
   "metadata": {},
   "outputs": [
    {
     "data": {
      "text/plain": [
       "<function f at 0x...>"
      ]
     },
     "execution_count": 1,
     "metadata": {},
     "output_type": "execute_result"
    }
   ],
   "source": [
    "f"
   ]
  },
  {
   "cell_type": "code",
   "execution_count": null,
   "id": "275f3300",
   "metadata": {},
   "outputs": [],
   "source": [
    "def compose(f, x, n):   # computes f(f(...f(x)))\n",
    "    for i in range(n):\n",
    "        x = f(x)        # this change is local to this function call!\n",
    "    return x"
   ]
  },
  {
   "cell_type": "code",
   "execution_count": null,
   "id": "75890a8b",
   "metadata": {},
   "outputs": [
    {
     "data": {
      "text/plain": [
       "256"
      ]
     },
     "execution_count": 1,
     "metadata": {},
     "output_type": "execute_result"
    }
   ],
   "source": [
    "compose(f, 2, 3)"
   ]
  },
  {
   "cell_type": "code",
   "execution_count": null,
   "id": "9d934cce",
   "metadata": {},
   "outputs": [],
   "source": [
    "def add_one(x):\n",
    "    return x + 1"
   ]
  },
  {
   "cell_type": "code",
   "execution_count": null,
   "id": "88903290",
   "metadata": {},
   "outputs": [
    {
     "data": {
      "text/plain": [
       "5"
      ]
     },
     "execution_count": 1,
     "metadata": {},
     "output_type": "execute_result"
    }
   ],
   "source": [
    "compose(add_one, 2, 3)"
   ]
  },
  {
   "cell_type": "markdown",
   "id": "caf58f00",
   "metadata": {},
   "source": [
    "You can give default values for arguments in functions:"
   ]
  },
  {
   "cell_type": "code",
   "execution_count": null,
   "id": "82ea5e85",
   "metadata": {},
   "outputs": [],
   "source": [
    "def add_n(x, n=1):\n",
    "    return x + n"
   ]
  },
  {
   "cell_type": "code",
   "execution_count": null,
   "id": "f8085ca7",
   "metadata": {},
   "outputs": [
    {
     "data": {
      "text/plain": [
       "5"
      ]
     },
     "execution_count": 1,
     "metadata": {},
     "output_type": "execute_result"
    }
   ],
   "source": [
    "add_n(4)"
   ]
  },
  {
   "cell_type": "code",
   "execution_count": null,
   "id": "bddc217f",
   "metadata": {},
   "outputs": [
    {
     "data": {
      "text/plain": [
       "104"
      ]
     },
     "execution_count": 1,
     "metadata": {},
     "output_type": "execute_result"
    }
   ],
   "source": [
    "add_n(4, n=100)"
   ]
  },
  {
   "cell_type": "code",
   "execution_count": null,
   "id": "374443b1",
   "metadata": {},
   "outputs": [
    {
     "data": {
      "text/plain": [
       "1004"
      ]
     },
     "execution_count": 1,
     "metadata": {},
     "output_type": "execute_result"
    }
   ],
   "source": [
    "add_n(4, 1000)"
   ]
  },
  {
   "cell_type": "markdown",
   "id": "08fd1dac",
   "metadata": {},
   "source": [
    "You can return multiple values from a function:"
   ]
  },
  {
   "cell_type": "code",
   "execution_count": null,
   "id": "75a44809",
   "metadata": {},
   "outputs": [],
   "source": [
    "def g(x):\n",
    "    return x, x*x"
   ]
  },
  {
   "cell_type": "code",
   "execution_count": null,
   "id": "0ebb0b3b",
   "metadata": {},
   "outputs": [
    {
     "data": {
      "text/plain": [
       "(2, 4)"
      ]
     },
     "execution_count": 1,
     "metadata": {},
     "output_type": "execute_result"
    }
   ],
   "source": [
    "g(2)"
   ]
  },
  {
   "cell_type": "code",
   "execution_count": null,
   "id": "ac122c10",
   "metadata": {},
   "outputs": [
    {
     "data": {
      "text/plain": [
       "<... 'function'>"
      ]
     },
     "execution_count": 1,
     "metadata": {},
     "output_type": "execute_result"
    }
   ],
   "source": [
    "type(g)"
   ]
  },
  {
   "cell_type": "code",
   "execution_count": null,
   "id": "b5827066",
   "metadata": {},
   "outputs": [],
   "source": [
    "a,b = g(100)"
   ]
  },
  {
   "cell_type": "code",
   "execution_count": null,
   "id": "9790aea1",
   "metadata": {},
   "outputs": [
    {
     "data": {
      "text/plain": [
       "100"
      ]
     },
     "execution_count": 1,
     "metadata": {},
     "output_type": "execute_result"
    }
   ],
   "source": [
    "a"
   ]
  },
  {
   "cell_type": "code",
   "execution_count": null,
   "id": "6b9f4144",
   "metadata": {},
   "outputs": [
    {
     "data": {
      "text/plain": [
       "10000"
      ]
     },
     "execution_count": 1,
     "metadata": {},
     "output_type": "execute_result"
    }
   ],
   "source": [
    "b"
   ]
  },
  {
   "cell_type": "markdown",
   "id": "444ef5a3",
   "metadata": {},
   "source": [
    "You can also take a variable number of arguments and keyword arguments\n",
    "in a function:"
   ]
  },
  {
   "cell_type": "code",
   "execution_count": null,
   "id": "83cb18f6",
   "metadata": {},
   "outputs": [],
   "source": [
    "def h(*args, **kwds):\n",
    "    print(\"{} {}\".format(type(args), args))\n",
    "    print(\"{} {}\".format(type(kwds), kwds))"
   ]
  },
  {
   "cell_type": "code",
   "execution_count": null,
   "id": "dfe4f98c",
   "metadata": {},
   "outputs": [
    {
     "data": {
      "text/plain": [
       "<... 'tuple'> (1, 2, 3)\n",
       "<... 'dict'> {'n': 4}"
      ]
     },
     "execution_count": 1,
     "metadata": {},
     "output_type": "execute_result"
    }
   ],
   "source": [
    "h(1,2,3,n=4)"
   ]
  },
  {
   "cell_type": "markdown",
   "id": "0c0313e8",
   "metadata": {},
   "source": [
    "Let's use the *yield* instruction to make a generator for the Fibonacci\n",
    "numbers up to $n$ :"
   ]
  },
  {
   "cell_type": "code",
   "execution_count": null,
   "id": "c56b78e5",
   "metadata": {},
   "outputs": [],
   "source": [
    "def fib_gen(n):\n",
    "    if n < 1:\n",
    "        return\n",
    "    a = b = 1\n",
    "    yield b\n",
    "    while b < n:\n",
    "        yield b\n",
    "        a, b = b, b+a"
   ]
  },
  {
   "cell_type": "code",
   "execution_count": null,
   "id": "7a36bb16",
   "metadata": {},
   "outputs": [
    {
     "data": {
      "text/plain": [
       "1\n",
       "1\n",
       "2\n",
       "3\n",
       "5\n",
       "8\n",
       "13\n",
       "21\n",
       "34"
      ]
     },
     "execution_count": 1,
     "metadata": {},
     "output_type": "execute_result"
    }
   ],
   "source": [
    "for i in fib_gen(50):\n",
    "    print(i)"
   ]
  },
  {
   "cell_type": "markdown",
   "id": "f90b7301",
   "metadata": {},
   "source": [
    "#### Exercises\n",
    "\n",
    "1.  Write a function `is_even` which returns `True` if `n` is even and\n",
    "    `False` otherwise.\n",
    "2.  Write a function `every_other` which takes a list `l` as input and\n",
    "    returns a list containing every other element of `l`.\n",
    "3.  Write a generator `every_other` which takes an iterable `l` as\n",
    "    input, and returns every other element of `l`, one after the other.\n",
    "4.  Write a function which computes the $n$-th Fibonacci number. Try to\n",
    "    improve performance.\n",
    "\n",
    "-   Definition of `hashable`\n",
    "-   Introduction to the debugger."
   ]
  }
 ],
 "metadata": {},
 "nbformat": 4,
 "nbformat_minor": 5
}
