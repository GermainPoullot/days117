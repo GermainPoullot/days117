{
 "cells": [
  {
   "cell_type": "markdown",
   "id": "badb7659",
   "metadata": {},
   "source": [
    "$$\n",
    "\\def\\CC{\\bf C}\n",
    "\\def\\QQ{\\bf Q}\n",
    "\\def\\RR{\\bf R}\n",
    "\\def\\ZZ{\\bf Z}\n",
    "\\def\\NN{\\bf N}\n",
    "$$\n",
    "# Interfaces\n",
    "\n",
    "A central facet of Sage is that it supports computation with objects in\n",
    "many different computer algebra systems \"under one roof\" using a common\n",
    "interface and clean programming language.\n",
    "\n",
    "The console and interact methods of an interface do very different\n",
    "things. For example, using GAP as an example:\n",
    "\n",
    "1.  `gap.console()` : This opens the GAP console - it transfers control\n",
    "    to GAP. Here Sage is serving as nothing more than a convenient\n",
    "    program launcher, similar to the Linux bash shell.\n",
    "2.  `gap.interact()` : This is a convenient way to interact with a\n",
    "    running GAP instance that may be \"full of\" Sage objects. You can\n",
    "    import Sage objects into this GAP session (even from the interactive\n",
    "    interface), etc.\n",
    "\n",
    "## GP/PARI\n",
    "\n",
    "PARI is a compact, very mature, highly optimized C program whose primary\n",
    "focus is number theory. There are two very distinct interfaces that you\n",
    "can use in Sage:\n",
    "\n",
    "-   `gp` - the \"**G** o **P** ARI\" interpreter, and\n",
    "-   `pari` - the PARI C library.\n",
    "\n",
    "For example, the following are two ways of doing the same thing. They\n",
    "look identical, but the output is actually different, and what happens\n",
    "behind the scenes is drastically different."
   ]
  },
  {
   "cell_type": "code",
   "execution_count": null,
   "id": "a176b331",
   "metadata": {},
   "outputs": [
    {
     "data": {
      "text/plain": [
       "Mod(5, 10007)"
      ]
     },
     "execution_count": 1,
     "metadata": {},
     "output_type": "execute_result"
    }
   ],
   "source": [
    "gp('znprimroot(10007)')"
   ]
  },
  {
   "cell_type": "code",
   "execution_count": null,
   "id": "0896d5bd",
   "metadata": {},
   "outputs": [
    {
     "data": {
      "text/plain": [
       "Mod(5, 10007)"
      ]
     },
     "execution_count": 1,
     "metadata": {},
     "output_type": "execute_result"
    }
   ],
   "source": [
    "pari('znprimroot(10007)')"
   ]
  },
  {
   "cell_type": "markdown",
   "id": "40624e43",
   "metadata": {},
   "source": [
    "In the first case, a separate copy of the GP interpreter is started as a\n",
    "server, and the string `'znprimroot(10007)'` is sent to it, evaluated by\n",
    "GP, and the result is assigned to a variable in GP (which takes up space\n",
    "in the child GP processes memory that won't be freed). Then the value of\n",
    "that variable is displayed. In the second case, no separate program is\n",
    "started, and the string `'znprimroot(10007)'` is evaluated by a certain\n",
    "PARI C library function. The result is stored in a piece of memory on\n",
    "the Python heap, which is freed when the variable is no longer\n",
    "referenced. The objects have different types:"
   ]
  },
  {
   "cell_type": "code",
   "execution_count": null,
   "id": "e4857bee",
   "metadata": {},
   "outputs": [
    {
     "data": {
      "text/plain": [
       "<class 'sage.interfaces.gp.GpElement'>"
      ]
     },
     "execution_count": 1,
     "metadata": {},
     "output_type": "execute_result"
    }
   ],
   "source": [
    "type(gp('znprimroot(10007)'))"
   ]
  },
  {
   "cell_type": "code",
   "execution_count": null,
   "id": "df8828e9",
   "metadata": {},
   "outputs": [
    {
     "data": {
      "text/plain": [
       "<class 'cypari2.gen.Gen'>"
      ]
     },
     "execution_count": 1,
     "metadata": {},
     "output_type": "execute_result"
    }
   ],
   "source": [
    "type(pari('znprimroot(10007)'))"
   ]
  },
  {
   "cell_type": "markdown",
   "id": "3a0e2063",
   "metadata": {},
   "source": [
    "So which should you use? It depends on what you're doing. The GP\n",
    "interface can do absolutely anything you could do in the usual GP/PARI\n",
    "command line program, since it is running that program. In particular,\n",
    "you can load complicated PARI programs and run them. In contrast, the\n",
    "PARI interface (via the C library) is much more restrictive. First, not\n",
    "all member functions have been implemented. Second, a lot of code, e.g.,\n",
    "involving numerical integration, won't work via the PARI interface. That\n",
    "said, the PARI interface can be significantly faster and more robust\n",
    "than the GP one.\n",
    "\n",
    "(If the GP interface runs out of memory evaluating a given input line,\n",
    "it will silently and automatically double the stack size and retry that\n",
    "input line. Thus your computation won't crash if you didn't correctly\n",
    "anticipate the amount of memory that would be needed. This is a nice\n",
    "trick the usual GP interpreter doesn't seem to provide. Regarding the\n",
    "PARI C library interface, it immediately copies each created object off\n",
    "of the PARI stack, hence the stack never grows. However, each object\n",
    "must not exceed 100MB in size, or the stack will overflow when the\n",
    "object is being created. This extra copying does impose a slight\n",
    "performance penalty.)\n",
    "\n",
    "In summary, Sage uses the PARI C library to provide functionality\n",
    "similar to that provided by the GP/PARI interpreter, except with\n",
    "different sophisticated memory management and the Python programming\n",
    "language.\n",
    "\n",
    "First we create a PARI list from a Python list."
   ]
  },
  {
   "cell_type": "code",
   "execution_count": null,
   "id": "d831048a",
   "metadata": {},
   "outputs": [
    {
     "data": {
      "text/plain": [
       "[1, 2, 3, 4, 5]"
      ]
     },
     "execution_count": 1,
     "metadata": {},
     "output_type": "execute_result"
    }
   ],
   "source": [
    "v = pari([1,2,3,4,5])\n",
    "v"
   ]
  },
  {
   "cell_type": "code",
   "execution_count": null,
   "id": "6b8cc132",
   "metadata": {},
   "outputs": [
    {
     "data": {
      "text/plain": [
       "<class 'cypari2.gen.Gen'>"
      ]
     },
     "execution_count": 1,
     "metadata": {},
     "output_type": "execute_result"
    }
   ],
   "source": [
    "type(v)"
   ]
  },
  {
   "cell_type": "markdown",
   "id": "a340b216",
   "metadata": {},
   "source": [
    "Every PARI object is of type `Gen`. The PARI type of the underlying\n",
    "object can be obtained using the `type` member function."
   ]
  },
  {
   "cell_type": "code",
   "execution_count": null,
   "id": "b4a74228",
   "metadata": {},
   "outputs": [
    {
     "data": {
      "text/plain": [
       "'t_VEC'"
      ]
     },
     "execution_count": 1,
     "metadata": {},
     "output_type": "execute_result"
    }
   ],
   "source": [
    "v.type()"
   ]
  },
  {
   "cell_type": "markdown",
   "id": "ea8b6714",
   "metadata": {},
   "source": [
    "In PARI, to create an elliptic curve we enter `ellinit([1,2,3,4,5])`.\n",
    "Sage is similar, except that `ellinit` is a method that can be called on\n",
    "any PARI object, e.g., our `t_VEC` $v$."
   ]
  },
  {
   "cell_type": "code",
   "execution_count": null,
   "id": "bf0c587a",
   "metadata": {},
   "outputs": [
    {
     "data": {
      "text/plain": [
       "'t_VEC'"
      ]
     },
     "execution_count": 1,
     "metadata": {},
     "output_type": "execute_result"
    }
   ],
   "source": [
    "e = v.ellinit()\n",
    "e.type()"
   ]
  },
  {
   "cell_type": "code",
   "execution_count": null,
   "id": "7a736dab",
   "metadata": {},
   "outputs": [
    {
     "data": {
      "text/plain": [
       "[1, 2, 3, 4, 5, 9, 11, 29, 35, -183, -3429, -10351, 6128487/10351]"
      ]
     },
     "execution_count": 1,
     "metadata": {},
     "output_type": "execute_result"
    }
   ],
   "source": [
    "pari(e)[:13]"
   ]
  },
  {
   "cell_type": "markdown",
   "id": "65796aae",
   "metadata": {},
   "source": [
    "Now that we have an elliptic curve object, we can compute some things\n",
    "about it."
   ]
  },
  {
   "cell_type": "code",
   "execution_count": null,
   "id": "c27ba856",
   "metadata": {},
   "outputs": [
    {
     "data": {
      "text/plain": [
       "[1, [], []]"
      ]
     },
     "execution_count": 1,
     "metadata": {},
     "output_type": "execute_result"
    }
   ],
   "source": [
    "e.elltors()"
   ]
  },
  {
   "cell_type": "code",
   "execution_count": null,
   "id": "97cfff6b",
   "metadata": {},
   "outputs": [
    {
     "data": {
      "text/plain": [
       "[10351, [1, -1, 0, -1], 1, [11, 1; 941, 1], [[1, 5, 0, 1], [1, 5, 0, 1]]]"
      ]
     },
     "execution_count": 1,
     "metadata": {},
     "output_type": "execute_result"
    }
   ],
   "source": [
    "e.ellglobalred()"
   ]
  },
  {
   "cell_type": "code",
   "execution_count": null,
   "id": "6fa042d2",
   "metadata": {},
   "outputs": [
    {
     "data": {
      "text/plain": [
       "[1, -1, 0, 4, 3]"
      ]
     },
     "execution_count": 1,
     "metadata": {},
     "output_type": "execute_result"
    }
   ],
   "source": [
    "f = e.ellchangecurve([1,-1,0,-1])\n",
    "f[:5]"
   ]
  },
  {
   "cell_type": "markdown",
   "id": "2967c596",
   "metadata": {},
   "source": [
    "## GAP\n",
    "\n",
    "Sage comes with GAP for computational discrete mathematics, especially\n",
    "group theory.\n",
    "\n",
    "Here's an example of GAP's `IdGroup` function."
   ]
  },
  {
   "cell_type": "code",
   "execution_count": null,
   "id": "5cb484d6",
   "metadata": {},
   "outputs": [
    {
     "data": {
      "text/plain": [
       "Group( [ (1,2,3)(4,5), (3,4) ] )"
      ]
     },
     "execution_count": 1,
     "metadata": {},
     "output_type": "execute_result"
    }
   ],
   "source": [
    "G = gap('Group((1,2,3)(4,5), (3,4))')\n",
    "G"
   ]
  },
  {
   "cell_type": "code",
   "execution_count": null,
   "id": "658c15a6",
   "metadata": {},
   "outputs": [
    {
     "data": {
      "text/plain": [
       "Group( () )"
      ]
     },
     "execution_count": 1,
     "metadata": {},
     "output_type": "execute_result"
    }
   ],
   "source": [
    "G.Center()"
   ]
  },
  {
   "cell_type": "code",
   "execution_count": null,
   "id": "6746f1b7",
   "metadata": {},
   "outputs": [
    {
     "data": {
      "text/plain": [
       "[ 120, 34 ]"
      ]
     },
     "execution_count": 1,
     "metadata": {},
     "output_type": "execute_result"
    }
   ],
   "source": [
    "G.IdGroup()"
   ]
  },
  {
   "cell_type": "code",
   "execution_count": null,
   "id": "7a1810c3",
   "metadata": {},
   "outputs": [
    {
     "data": {
      "text/plain": [
       "120"
      ]
     },
     "execution_count": 1,
     "metadata": {},
     "output_type": "execute_result"
    }
   ],
   "source": [
    "G.Order()"
   ]
  },
  {
   "cell_type": "markdown",
   "id": "38ecd22b",
   "metadata": {},
   "source": [
    "We can do the same computation in Sage without explicitly invoking the\n",
    "GAP interface as follows:"
   ]
  },
  {
   "cell_type": "code",
   "execution_count": null,
   "id": "f05baba0",
   "metadata": {},
   "outputs": [
    {
     "data": {
      "text/plain": [
       "Subgroup generated by [()] of (Permutation Group with generators [(3,4), (1,2,3)(4,5)])"
      ]
     },
     "execution_count": 1,
     "metadata": {},
     "output_type": "execute_result"
    }
   ],
   "source": [
    "G = PermutationGroup([[(1,2,3),(4,5)],[(3,4)]])\n",
    "G.center()"
   ]
  },
  {
   "cell_type": "code",
   "execution_count": null,
   "id": "ca180ba3",
   "metadata": {},
   "outputs": [
    {
     "data": {
      "text/plain": [
       "[120, 34]"
      ]
     },
     "execution_count": 1,
     "metadata": {},
     "output_type": "execute_result"
    }
   ],
   "source": [
    "G.group_id()"
   ]
  },
  {
   "cell_type": "code",
   "execution_count": null,
   "id": "9079e612",
   "metadata": {},
   "outputs": [
    {
     "data": {
      "text/plain": [
       "120"
      ]
     },
     "execution_count": 1,
     "metadata": {},
     "output_type": "execute_result"
    }
   ],
   "source": [
    "n = G.order(); n"
   ]
  },
  {
   "cell_type": "markdown",
   "id": "9e16f214",
   "metadata": {},
   "source": [
    "For some GAP functionality, you should install an optional Sage\n",
    "packages. This can be done with the command:"
   ]
  },
  {
   "cell_type": "code",
   "execution_count": null,
   "id": "b367bb51",
   "metadata": {},
   "outputs": [],
   "source": [
    "sage -i gap_packages"
   ]
  },
  {
   "cell_type": "markdown",
   "id": "cfedd50a",
   "metadata": {},
   "source": [
    "## Singular\n",
    "\n",
    "Singular provides a massive and mature library for Gröbner bases,\n",
    "multivariate polynomial gcds, bases of Riemann-Roch spaces of a plane\n",
    "curve, and factorizations, among other things. We illustrate\n",
    "multivariate polynomial factorization using the Sage interface to\n",
    "Singular (do not type the `....:`):"
   ]
  },
  {
   "cell_type": "code",
   "execution_count": null,
   "id": "0366f571",
   "metadata": {},
   "outputs": [
    {
     "data": {
      "text/plain": [
       "polynomial ring, over a field, global ordering\n",
       "//   coefficients: QQ\n",
       "//   number of vars : 2\n",
       "//        block   1 : ordering dp\n",
       "//                  : names    x y\n",
       "//        block   2 : ordering C"
      ]
     },
     "execution_count": 1,
     "metadata": {},
     "output_type": "execute_result"
    }
   ],
   "source": [
    "R1 = singular.ring(0, '(x,y)', 'dp')\n",
    "R1"
   ]
  },
  {
   "cell_type": "code",
   "execution_count": null,
   "id": "dd2a66cf",
   "metadata": {},
   "outputs": [],
   "source": [
    "f = singular('9*y^8 - 9*x^2*y^7 - 18*x^3*y^6 - 18*x^5*y^6 +'\n",
    "    '9*x^6*y^4 + 18*x^7*y^5 + 36*x^8*y^4 + 9*x^10*y^4 - 18*x^11*y^2 -'\n",
    "    '9*x^12*y^3 - 18*x^13*y^2 + 9*x^16')"
   ]
  },
  {
   "cell_type": "markdown",
   "id": "32adbb6e",
   "metadata": {},
   "source": [
    "Now that we have defined $f$, we print it and factor."
   ]
  },
  {
   "cell_type": "code",
   "execution_count": null,
   "id": "1547cfa0",
   "metadata": {},
   "outputs": [
    {
     "data": {
      "text/plain": [
       "9*x^16-18*x^13*y^2-9*x^12*y^3+9*x^10*y^4-18*x^11*y^2+36*x^8*y^4+18*x^7*y^5-18*x^5*y^6+9*x^6*y^4-18*x^3*y^6-9*x^2*y^7+9*y^8"
      ]
     },
     "execution_count": 1,
     "metadata": {},
     "output_type": "execute_result"
    }
   ],
   "source": [
    "f"
   ]
  },
  {
   "cell_type": "code",
   "execution_count": null,
   "id": "5eae1b71",
   "metadata": {},
   "outputs": [
    {
     "data": {
      "text/plain": [
       "Singular"
      ]
     },
     "execution_count": 1,
     "metadata": {},
     "output_type": "execute_result"
    }
   ],
   "source": [
    "f.parent()"
   ]
  },
  {
   "cell_type": "code",
   "execution_count": null,
   "id": "24a6939f",
   "metadata": {},
   "outputs": [
    {
     "data": {
      "text/plain": [
       "[1]:\n",
       "   _[1]=9\n",
       "   _[2]=x^6-2*x^3*y^2-x^2*y^3+y^4\n",
       "   _[3]=-x^5+y^2\n",
       "[2]:\n",
       "   1,1,2"
      ]
     },
     "execution_count": 1,
     "metadata": {},
     "output_type": "execute_result"
    }
   ],
   "source": [
    "F = f.factorize(); F"
   ]
  },
  {
   "cell_type": "code",
   "execution_count": null,
   "id": "78e76afa",
   "metadata": {},
   "outputs": [
    {
     "data": {
      "text/plain": [
       "x^6-2*x^3*y^2-x^2*y^3+y^4"
      ]
     },
     "execution_count": 1,
     "metadata": {},
     "output_type": "execute_result"
    }
   ],
   "source": [
    "F[1][2]"
   ]
  },
  {
   "cell_type": "markdown",
   "id": "0d19707f",
   "metadata": {},
   "source": [
    "As with the GAP example in [section-gap](section-gap.ipynb), we can\n",
    "compute the above factorization without explicitly using the Singular\n",
    "interface (however, behind the scenes Sage uses the Singular interface\n",
    "for the actual computation). Do not type the `....:` :"
   ]
  },
  {
   "cell_type": "code",
   "execution_count": null,
   "id": "ef8aad5b",
   "metadata": {},
   "outputs": [
    {
     "data": {
      "text/plain": [
       "(9) * (-x^5 + y^2)^2 * (x^6 - 2*x^3*y^2 - x^2*y^3 + y^4)"
      ]
     },
     "execution_count": 1,
     "metadata": {},
     "output_type": "execute_result"
    }
   ],
   "source": [
    "x, y = QQ['x, y'].gens()\n",
    "f = (9*y^8 - 9*x^2*y^7 - 18*x^3*y^6 - 18*x^5*y^6 + 9*x^6*y^4\n",
    "    + 18*x^7*y^5 + 36*x^8*y^4 + 9*x^10*y^4 - 18*x^11*y^2 - 9*x^12*y^3\n",
    "    - 18*x^13*y^2 + 9*x^16)\n",
    "factor(f)"
   ]
  },
  {
   "cell_type": "markdown",
   "id": "4b516ea9",
   "metadata": {},
   "source": [
    "## Maxima\n",
    "\n",
    "Maxima is included with Sage, as well as a Lisp implementation. The\n",
    "gnuplot package (which Maxima uses by default for plotting) is\n",
    "distributed as a Sage optional package. Among other things, Maxima does\n",
    "symbolic manipulation. Maxima can integrate and differentiate functions\n",
    "symbolically, solve 1st order ODEs, most linear 2nd order ODEs, and has\n",
    "implemented the Laplace transform method for linear ODEs of any degree.\n",
    "Maxima also knows about a wide range of special functions, has plotting\n",
    "capabilities via gnuplot, and has methods to solve and manipulate\n",
    "matrices (such as row reduction, eigenvalues and eigenvectors), and\n",
    "polynomial equations.\n",
    "\n",
    "We illustrate the Sage/Maxima interface by constructing the matrix whose\n",
    "$i,j$ entry is $i/j$, for $i,j=1,\\ldots,4$."
   ]
  },
  {
   "cell_type": "code",
   "execution_count": null,
   "id": "b56bf682",
   "metadata": {},
   "outputs": [
    {
     "data": {
      "text/plain": [
       "matrix([1,1/2,1/3,1/4],[2,1,2/3,1/2],[3,3/2,1,3/4],[4,2,4/3,1])"
      ]
     },
     "execution_count": 1,
     "metadata": {},
     "output_type": "execute_result"
    }
   ],
   "source": [
    "f = maxima.eval('ij_entry[i,j] := i/j')\n",
    "A = maxima('genmatrix(ij_entry,4,4)'); A"
   ]
  },
  {
   "cell_type": "code",
   "execution_count": null,
   "id": "ee71d010",
   "metadata": {},
   "outputs": [
    {
     "data": {
      "text/plain": [
       "0"
      ]
     },
     "execution_count": 1,
     "metadata": {},
     "output_type": "execute_result"
    }
   ],
   "source": [
    "A.determinant()"
   ]
  },
  {
   "cell_type": "code",
   "execution_count": null,
   "id": "123d8866",
   "metadata": {},
   "outputs": [
    {
     "data": {
      "text/plain": [
       "matrix([1,1/2,1/3,1/4],[0,0,0,0],[0,0,0,0],[0,0,0,0])"
      ]
     },
     "execution_count": 1,
     "metadata": {},
     "output_type": "execute_result"
    }
   ],
   "source": [
    "A.echelon()"
   ]
  },
  {
   "cell_type": "code",
   "execution_count": null,
   "id": "f980ab43",
   "metadata": {},
   "outputs": [
    {
     "data": {
      "text/plain": [
       "[[0,4],[3,1]]"
      ]
     },
     "execution_count": 1,
     "metadata": {},
     "output_type": "execute_result"
    }
   ],
   "source": [
    "A.eigenvalues()"
   ]
  },
  {
   "cell_type": "code",
   "execution_count": null,
   "id": "26efdc19",
   "metadata": {},
   "outputs": [
    {
     "data": {
      "text/plain": [
       "[[[0,4],[3,1]],[[[1,0,0,-4],[0,1,0,-2],[0,0,1,-4/3]],[[1,2,3,4]]]]"
      ]
     },
     "execution_count": 1,
     "metadata": {},
     "output_type": "execute_result"
    }
   ],
   "source": [
    "A.eigenvectors()"
   ]
  },
  {
   "cell_type": "markdown",
   "id": "5b5c6b38",
   "metadata": {},
   "source": [
    "Here's another example:"
   ]
  },
  {
   "cell_type": "code",
   "execution_count": null,
   "id": "e9096822",
   "metadata": {},
   "outputs": [
    {
     "data": {
      "text/plain": [
       "[[[-2,-1,1],[1,1,1]],[[[0,0,1]],[[0,1,3]],[[1,1/2,5/6]]]]"
      ]
     },
     "execution_count": 1,
     "metadata": {},
     "output_type": "execute_result"
    }
   ],
   "source": [
    "A = maxima(\"matrix ([1, 0, 0], [1, -1, 0], [1, 3, -2])\")\n",
    "eigA = A.eigenvectors()\n",
    "V = VectorSpace(QQ,3)\n",
    "eigA"
   ]
  },
  {
   "cell_type": "code",
   "execution_count": null,
   "id": "9cce8d85",
   "metadata": {},
   "outputs": [],
   "source": [
    "v1 = V(sage_eval(repr(eigA[1][0][0]))); lambda1 = eigA[0][0][0]\n",
    "v2 = V(sage_eval(repr(eigA[1][1][0]))); lambda2 = eigA[0][0][1]\n",
    "v3 = V(sage_eval(repr(eigA[1][2][0]))); lambda3 = eigA[0][0][2]"
   ]
  },
  {
   "cell_type": "code",
   "execution_count": null,
   "id": "287db4e0",
   "metadata": {},
   "outputs": [
    {
     "data": {
      "text/plain": [
       "True"
      ]
     },
     "execution_count": 1,
     "metadata": {},
     "output_type": "execute_result"
    }
   ],
   "source": [
    "M = MatrixSpace(QQ,3,3)\n",
    "AA = M([[1,0,0],[1, - 1,0],[1,3, - 2]])\n",
    "b1 = v1.base_ring()\n",
    "AA*v1 == b1(lambda1)*v1"
   ]
  },
  {
   "cell_type": "code",
   "execution_count": null,
   "id": "12bc05d4",
   "metadata": {},
   "outputs": [
    {
     "data": {
      "text/plain": [
       "True"
      ]
     },
     "execution_count": 1,
     "metadata": {},
     "output_type": "execute_result"
    }
   ],
   "source": [
    "b2 = v2.base_ring()\n",
    "AA*v2 == b2(lambda2)*v2"
   ]
  },
  {
   "cell_type": "code",
   "execution_count": null,
   "id": "f62405d8",
   "metadata": {},
   "outputs": [
    {
     "data": {
      "text/plain": [
       "True"
      ]
     },
     "execution_count": 1,
     "metadata": {},
     "output_type": "execute_result"
    }
   ],
   "source": [
    "b3 = v3.base_ring()\n",
    "AA*v3 == b3(lambda3)*v3"
   ]
  },
  {
   "cell_type": "markdown",
   "id": "d4800c21",
   "metadata": {},
   "source": [
    "Finally, we give an example of using Sage to plot using `openmath`. Many\n",
    "of these were modified from the Maxima reference manual.\n",
    "\n",
    "A 2D plot of several functions (do not type the `....:`):"
   ]
  },
  {
   "cell_type": "code",
   "execution_count": null,
   "id": "37f7bc60",
   "metadata": {},
   "outputs": [],
   "source": [
    "maxima.plot2d('[cos(7*x),cos(23*x)^4,sin(13*x)^3]','[x,0,1]',  # not tested\n",
    "    '[plot_format,openmath]')"
   ]
  },
  {
   "cell_type": "markdown",
   "id": "25f0725c",
   "metadata": {},
   "source": [
    "A \"live\" 3D plot which you can move with your mouse (do not type the\n",
    "`....:`):"
   ]
  },
  {
   "cell_type": "code",
   "execution_count": null,
   "id": "49a5e0cd",
   "metadata": {},
   "outputs": [],
   "source": [
    "maxima.plot3d (\"2^(-u^2 + v^2)\", \"[u, -3, 3]\", \"[v, -2, 2]\",  # not tested\n",
    "    '[plot_format, openmath]')\n",
    "maxima.plot3d(\"atan(-x^2 + y^3/4)\", \"[x, -4, 4]\", \"[y, -4, 4]\",  # not tested\n",
    "    \"[grid, 50, 50]\",'[plot_format, openmath]')"
   ]
  },
  {
   "cell_type": "markdown",
   "id": "e6c85fa1",
   "metadata": {},
   "source": [
    "The next plot is the famous Möbius strip (do not type the `....:`):"
   ]
  },
  {
   "cell_type": "code",
   "execution_count": null,
   "id": "33156ac0",
   "metadata": {},
   "outputs": [],
   "source": [
    "maxima.plot3d(\"[cos(x)*(3 + y*cos(x/2)), sin(x)*(3 + y*cos(x/2)), y*sin(x/2)]\",  # not tested\n",
    "    \"[x, -4, 4]\", \"[y, -4, 4]\", '[plot_format, openmath]')"
   ]
  },
  {
   "cell_type": "markdown",
   "id": "39b07449",
   "metadata": {},
   "source": [
    "The next plot is the famous Klein bottle (do not type the `....:`):"
   ]
  },
  {
   "cell_type": "code",
   "execution_count": null,
   "id": "8cd8c3cb",
   "metadata": {},
   "outputs": [
    {
     "data": {
      "text/plain": [
       "5*cos(x)*(sin(x/2)*sin(2*y)+cos(x/2)*cos(y)+3.0)-10.0"
      ]
     },
     "execution_count": 1,
     "metadata": {},
     "output_type": "execute_result"
    }
   ],
   "source": [
    "maxima(\"expr_1: 5*cos(x)*(cos(x/2)*cos(y) + sin(x/2)*sin(2*y)+ 3.0) - 10.0\")"
   ]
  },
  {
   "cell_type": "code",
   "execution_count": null,
   "id": "2209cec1",
   "metadata": {},
   "outputs": [
    {
     "data": {
      "text/plain": [
       "-5*sin(x)*(sin(x/2)*sin(2*y)+cos(x/2)*cos(y)+3.0)"
      ]
     },
     "execution_count": 1,
     "metadata": {},
     "output_type": "execute_result"
    }
   ],
   "source": [
    "maxima(\"expr_2: -5*sin(x)*(cos(x/2)*cos(y) + sin(x/2)*sin(2*y)+ 3.0)\")"
   ]
  },
  {
   "cell_type": "code",
   "execution_count": null,
   "id": "9c499028",
   "metadata": {},
   "outputs": [
    {
     "data": {
      "text/plain": [
       "5*(cos(x/2)*sin(2*y)-sin(x/2)*cos(y))"
      ]
     },
     "execution_count": 1,
     "metadata": {},
     "output_type": "execute_result"
    }
   ],
   "source": [
    "maxima(\"expr_3: 5*(-sin(x/2)*cos(y) + cos(x/2)*sin(2*y))\")"
   ]
  },
  {
   "cell_type": "code",
   "execution_count": null,
   "id": "454b25fc",
   "metadata": {},
   "outputs": [],
   "source": [
    "maxima.plot3d (\"[expr_1, expr_2, expr_3]\", \"[x, -%pi, %pi]\",  # not tested\n",
    "    \"[y, -%pi, %pi]\", \"['grid, 40, 40]\", '[plot_format, openmath]')"
   ]
  }
 ],
 "metadata": {},
 "nbformat": 4,
 "nbformat_minor": 5
}
