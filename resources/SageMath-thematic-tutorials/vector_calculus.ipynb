{
 "cells": [
  {
   "cell_type": "markdown",
   "id": "16cf10ea",
   "metadata": {},
   "source": [
    "$$\n",
    "\\def\\CC{\\bf C}\n",
    "\\def\\QQ{\\bf Q}\n",
    "\\def\\RR{\\bf R}\n",
    "\\def\\ZZ{\\bf Z}\n",
    "\\def\\NN{\\bf N}\n",
    "$$\n",
    "# Tutorial: Vector Calculus in Euclidean Spaces\n",
    "\n",
    "Eric Gourgoulhon\n",
    "\n",
    "This document contains various tutorials introducing vector calculus\n",
    "with SageMath. The first one regards vector calculus in the\n",
    "3-dimensional Euclidean space $\\mathbb{E}^3$ in Cartesian coordinates,\n",
    "focusing on the evaluation of the standard vector operators. The second\n",
    "tutorial deals with the same topic but based on curvilinear (spherical\n",
    "and cylindrical) coordinates. The third tutorial is devoted to changes\n",
    "between the various coordinate systems. The fourth tutorial presents\n",
    "some advanced aspects, namely the treatment of $\\mathbb{E}^3$ as a\n",
    "Riemannian manifold. Finally, the last tutorial is devoted to\n",
    "2-dimensional vector calculus, using both Cartesian and polar\n",
    "coordinates in the Euclidean plane $\\mathbb{E}^2$; it combines various\n",
    "features of the other tutorials.\n",
    "\n",
    "vector\\_calculus/vector\\_calc\\_cartesian\n",
    "vector\\_calculus/vector\\_calc\\_curvilinear\n",
    "vector\\_calculus/vector\\_calc\\_change\n",
    "vector\\_calculus/vector\\_calc\\_advanced\n",
    "vector\\_calculus/vector\\_calc\\_plane"
   ]
  }
 ],
 "metadata": {},
 "nbformat": 4,
 "nbformat_minor": 5
}
