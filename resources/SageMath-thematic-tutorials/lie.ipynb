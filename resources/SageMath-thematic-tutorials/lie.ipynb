{
 "cells": [
  {
   "cell_type": "markdown",
   "id": "15840d52",
   "metadata": {},
   "source": [
    "$$\n",
    "\\def\\CC{\\bf C}\n",
    "\\def\\QQ{\\bf Q}\n",
    "\\def\\RR{\\bf R}\n",
    "\\def\\ZZ{\\bf Z}\n",
    "\\def\\NN{\\bf N}\n",
    "$$\n",
    "# Lie Methods and Related Combinatorics in Sage\n",
    "\n",
    "Daniel Bump (Stanford University), Ben Salisbury (Central Michigan\n",
    "University), and Anne Schilling (UC Davis)\n",
    "\n",
    "These notes explain how to use the mathematical software Sage for Lie\n",
    "group computations. Sage also contains many combinatorial algorithms. We\n",
    "will cover only some of these.\n",
    "\n",
    "lie/introduction lie/lie\\_basics lie/weyl\\_character\\_ring\n",
    "lie/branching\\_rules lie/weyl\\_groups lie/crystals lie/affine\n",
    "lie/integrable lie/affine\\_finite\\_crystals lie/affine\\_hw\\_crystals\n",
    "lie/elementary\\_crystals lie/infinity\\_crystals\n",
    "lie/iwahori\\_hecke\\_algebra lie/kazhdan\\_lusztig\\_polynomials\n",
    "lie/bibliography\n",
    "\n",
    "Preparation of this document was supported in part by NSF grants\n",
    "DMS-0652817, DMS-1001079, OCI-1147463, DMS--0652641, DMS--0652652,\n",
    "DMS--1001256, OCI–1147247 and DMS-1601026."
   ]
  }
 ],
 "metadata": {},
 "nbformat": 4,
 "nbformat_minor": 5
}
