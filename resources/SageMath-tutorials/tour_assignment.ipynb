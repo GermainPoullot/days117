{
 "cells": [
  {
   "cell_type": "markdown",
   "id": "e2fc19e6",
   "metadata": {},
   "source": [
    "$$\n",
    "\\def\\CC{\\bf C}\n",
    "\\def\\QQ{\\bf Q}\n",
    "\\def\\RR{\\bf R}\n",
    "\\def\\ZZ{\\bf Z}\n",
    "\\def\\NN{\\bf N}\n",
    "$$\n",
    "# Assignment, Equality, and Arithmetic\n",
    "\n",
    "With some minor exceptions, Sage uses the Python programming language,\n",
    "so most introductory books on Python will help you to learn Sage.\n",
    "\n",
    "Sage uses `=` for assignment. It uses `==`, `<=`, `>=`, `<` and `>` for\n",
    "comparison:"
   ]
  },
  {
   "cell_type": "code",
   "execution_count": null,
   "id": "b3e40b85",
   "metadata": {},
   "outputs": [
    {
     "data": {
      "text/plain": [
       "5"
      ]
     },
     "execution_count": 1,
     "metadata": {},
     "output_type": "execute_result"
    }
   ],
   "source": [
    "a = 5\n",
    "a"
   ]
  },
  {
   "cell_type": "code",
   "execution_count": null,
   "id": "2a6dfee1",
   "metadata": {},
   "outputs": [
    {
     "data": {
      "text/plain": [
       "True"
      ]
     },
     "execution_count": 1,
     "metadata": {},
     "output_type": "execute_result"
    }
   ],
   "source": [
    "2 == 2"
   ]
  },
  {
   "cell_type": "code",
   "execution_count": null,
   "id": "e08ce911",
   "metadata": {},
   "outputs": [
    {
     "data": {
      "text/plain": [
       "False"
      ]
     },
     "execution_count": 1,
     "metadata": {},
     "output_type": "execute_result"
    }
   ],
   "source": [
    "2 == 3"
   ]
  },
  {
   "cell_type": "code",
   "execution_count": null,
   "id": "73c2c3a0",
   "metadata": {},
   "outputs": [
    {
     "data": {
      "text/plain": [
       "True"
      ]
     },
     "execution_count": 1,
     "metadata": {},
     "output_type": "execute_result"
    }
   ],
   "source": [
    "2 < 3"
   ]
  },
  {
   "cell_type": "code",
   "execution_count": null,
   "id": "6345b221",
   "metadata": {},
   "outputs": [
    {
     "data": {
      "text/plain": [
       "True"
      ]
     },
     "execution_count": 1,
     "metadata": {},
     "output_type": "execute_result"
    }
   ],
   "source": [
    "a == 5"
   ]
  },
  {
   "cell_type": "markdown",
   "id": "3ec89661",
   "metadata": {},
   "source": [
    "Sage provides all of the basic mathematical operations:"
   ]
  },
  {
   "cell_type": "code",
   "execution_count": null,
   "id": "4ab5951a",
   "metadata": {},
   "outputs": [
    {
     "data": {
      "text/plain": [
       "8"
      ]
     },
     "execution_count": 1,
     "metadata": {},
     "output_type": "execute_result"
    }
   ],
   "source": [
    "2**3    #  ** means exponent"
   ]
  },
  {
   "cell_type": "code",
   "execution_count": null,
   "id": "3b25b162",
   "metadata": {},
   "outputs": [
    {
     "data": {
      "text/plain": [
       "8"
      ]
     },
     "execution_count": 1,
     "metadata": {},
     "output_type": "execute_result"
    }
   ],
   "source": [
    "2^3     #  ^ is a synonym for ** (unlike in Python)"
   ]
  },
  {
   "cell_type": "code",
   "execution_count": null,
   "id": "b33fa318",
   "metadata": {},
   "outputs": [
    {
     "data": {
      "text/plain": [
       "1"
      ]
     },
     "execution_count": 1,
     "metadata": {},
     "output_type": "execute_result"
    }
   ],
   "source": [
    "10 % 3  #  for integer arguments, % means mod, i.e., remainder"
   ]
  },
  {
   "cell_type": "code",
   "execution_count": null,
   "id": "4aa9702b",
   "metadata": {},
   "outputs": [
    {
     "data": {
      "text/plain": [
       "5/2"
      ]
     },
     "execution_count": 1,
     "metadata": {},
     "output_type": "execute_result"
    }
   ],
   "source": [
    "10/4"
   ]
  },
  {
   "cell_type": "code",
   "execution_count": null,
   "id": "c127e7c1",
   "metadata": {},
   "outputs": [
    {
     "data": {
      "text/plain": [
       "2"
      ]
     },
     "execution_count": 1,
     "metadata": {},
     "output_type": "execute_result"
    }
   ],
   "source": [
    "10//4   #  for integer arguments, // returns the integer quotient"
   ]
  },
  {
   "cell_type": "code",
   "execution_count": null,
   "id": "a9ee9e1b",
   "metadata": {},
   "outputs": [
    {
     "data": {
      "text/plain": [
       "True"
      ]
     },
     "execution_count": 1,
     "metadata": {},
     "output_type": "execute_result"
    }
   ],
   "source": [
    "4 * (10 // 4) + 10 % 4 == 10"
   ]
  },
  {
   "cell_type": "code",
   "execution_count": null,
   "id": "d1ea997f",
   "metadata": {},
   "outputs": [
    {
     "data": {
      "text/plain": [
       "38"
      ]
     },
     "execution_count": 1,
     "metadata": {},
     "output_type": "execute_result"
    }
   ],
   "source": [
    "3^2*4 + 2%5"
   ]
  },
  {
   "cell_type": "markdown",
   "id": "49e2350f",
   "metadata": {},
   "source": [
    "The computation of an expression like `3^2*4 + 2%5` depends on the order\n",
    "in which the operations are applied; this is specified in the \"operator\n",
    "precedence table\" in [section-precedence](section-precedence.ipynb).\n",
    "\n",
    "Sage also provides many familiar mathematical functions; here are just a\n",
    "few examples:"
   ]
  },
  {
   "cell_type": "code",
   "execution_count": null,
   "id": "2babaf9b",
   "metadata": {},
   "outputs": [
    {
     "data": {
      "text/plain": [
       "1.84390889145858"
      ]
     },
     "execution_count": 1,
     "metadata": {},
     "output_type": "execute_result"
    }
   ],
   "source": [
    "sqrt(3.4)"
   ]
  },
  {
   "cell_type": "code",
   "execution_count": null,
   "id": "857c6352",
   "metadata": {},
   "outputs": [
    {
     "data": {
      "text/plain": [
       "-0.912021158525540"
      ]
     },
     "execution_count": 1,
     "metadata": {},
     "output_type": "execute_result"
    }
   ],
   "source": [
    "sin(5.135)"
   ]
  },
  {
   "cell_type": "code",
   "execution_count": null,
   "id": "5d761228",
   "metadata": {},
   "outputs": [
    {
     "data": {
      "text/plain": [
       "1/2*sqrt(3)"
      ]
     },
     "execution_count": 1,
     "metadata": {},
     "output_type": "execute_result"
    }
   ],
   "source": [
    "sin(pi/3)"
   ]
  },
  {
   "cell_type": "markdown",
   "id": "2711f449",
   "metadata": {},
   "source": [
    "As the last example shows, some mathematical expressions return 'exact'\n",
    "values, rather than numerical approximations. To get a numerical\n",
    "approximation, use either the function `N` or the method `n` (and both\n",
    "of these have a longer name, `numerical_approx`, and the function `N` is\n",
    "the same as `n`)). These take optional arguments `prec`, which is the\n",
    "requested number of bits of precision, and `digits`, which is the\n",
    "requested number of decimal digits of precision; the default is 53 bits\n",
    "of precision."
   ]
  },
  {
   "cell_type": "code",
   "execution_count": null,
   "id": "1f64b9bd",
   "metadata": {},
   "outputs": [
    {
     "data": {
      "text/plain": [
       "e^2"
      ]
     },
     "execution_count": 1,
     "metadata": {},
     "output_type": "execute_result"
    }
   ],
   "source": [
    "exp(2)"
   ]
  },
  {
   "cell_type": "code",
   "execution_count": null,
   "id": "12957cbe",
   "metadata": {},
   "outputs": [
    {
     "data": {
      "text/plain": [
       "7.38905609893065"
      ]
     },
     "execution_count": 1,
     "metadata": {},
     "output_type": "execute_result"
    }
   ],
   "source": [
    "n(exp(2))"
   ]
  },
  {
   "cell_type": "code",
   "execution_count": null,
   "id": "6ce809ed",
   "metadata": {},
   "outputs": [
    {
     "data": {
      "text/plain": [
       "1.77245385090552"
      ]
     },
     "execution_count": 1,
     "metadata": {},
     "output_type": "execute_result"
    }
   ],
   "source": [
    "sqrt(pi).numerical_approx()"
   ]
  },
  {
   "cell_type": "code",
   "execution_count": null,
   "id": "71dd6239",
   "metadata": {},
   "outputs": [
    {
     "data": {
      "text/plain": [
       "-0.54402"
      ]
     },
     "execution_count": 1,
     "metadata": {},
     "output_type": "execute_result"
    }
   ],
   "source": [
    "sin(10).n(digits=5)"
   ]
  },
  {
   "cell_type": "code",
   "execution_count": null,
   "id": "8022da87",
   "metadata": {},
   "outputs": [
    {
     "data": {
      "text/plain": [
       "-0.5440211109"
      ]
     },
     "execution_count": 1,
     "metadata": {},
     "output_type": "execute_result"
    }
   ],
   "source": [
    "N(sin(10),digits=10)"
   ]
  },
  {
   "cell_type": "code",
   "execution_count": null,
   "id": "c3668f54",
   "metadata": {},
   "outputs": [
    {
     "data": {
      "text/plain": [
       "3.1415926535897932384626433832795028841971693993751058209749"
      ]
     },
     "execution_count": 1,
     "metadata": {},
     "output_type": "execute_result"
    }
   ],
   "source": [
    "numerical_approx(pi, prec=200)"
   ]
  },
  {
   "cell_type": "markdown",
   "id": "24f1a5ec",
   "metadata": {},
   "source": [
    "Python is dynamically typed, so the value referred to by each variable\n",
    "has a type associated with it, but a given variable may hold values of\n",
    "any Python type within a given scope:"
   ]
  },
  {
   "cell_type": "code",
   "execution_count": null,
   "id": "6ecb1d6c",
   "metadata": {},
   "outputs": [
    {
     "data": {
      "text/plain": [
       "<class 'sage.rings.integer.Integer'>"
      ]
     },
     "execution_count": 1,
     "metadata": {},
     "output_type": "execute_result"
    }
   ],
   "source": [
    "a = 5   # a is an integer\n",
    "type(a)"
   ]
  },
  {
   "cell_type": "code",
   "execution_count": null,
   "id": "4a97e759",
   "metadata": {},
   "outputs": [
    {
     "data": {
      "text/plain": [
       "<class 'sage.rings.rational.Rational'>"
      ]
     },
     "execution_count": 1,
     "metadata": {},
     "output_type": "execute_result"
    }
   ],
   "source": [
    "a = 5/3  # now a is a rational number\n",
    "type(a)"
   ]
  },
  {
   "cell_type": "code",
   "execution_count": null,
   "id": "55cbdaa6",
   "metadata": {},
   "outputs": [
    {
     "data": {
      "text/plain": [
       "<... 'str'>"
      ]
     },
     "execution_count": 1,
     "metadata": {},
     "output_type": "execute_result"
    }
   ],
   "source": [
    "a = 'hello'  # now a is a string\n",
    "type(a)"
   ]
  },
  {
   "cell_type": "markdown",
   "id": "4b02ec9a",
   "metadata": {},
   "source": [
    "The C programming language, which is statically typed, is much\n",
    "different; a variable declared to hold an int can only hold an int in\n",
    "its scope."
   ]
  }
 ],
 "metadata": {},
 "nbformat": 4,
 "nbformat_minor": 5
}
