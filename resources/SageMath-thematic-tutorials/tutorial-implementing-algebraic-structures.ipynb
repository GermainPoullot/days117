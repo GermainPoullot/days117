{
 "cells": [
  {
   "cell_type": "markdown",
   "id": "c7161ba1",
   "metadata": {},
   "source": [
    "$$\n",
    "\\def\\CC{\\bf C}\n",
    "\\def\\QQ{\\bf Q}\n",
    "\\def\\RR{\\bf R}\n",
    "\\def\\ZZ{\\bf Z}\n",
    "\\def\\NN{\\bf N}\n",
    "$$\n",
    "# Tutorial: Implementing Algebraic Structures\n",
    "\n",
    "Nicolas M. Thiéry \\<nthiery at users.sf.net\\>, Jason Bandlow\n",
    "\\<<jbandlow@gmail.com>\\> et al.\n",
    "\n",
    "This tutorial will cover four concepts:\n",
    "\n",
    "-   endowing free modules and vector spaces with additional algebraic\n",
    "    structure\n",
    "-   defining morphisms\n",
    "-   defining coercions and conversions\n",
    "-   implementing algebraic structures with several realizations\n",
    "\n",
    "At the end of this tutorial, the reader should be able to reimplement by\n",
    "himself the example of algebra with several realizations:"
   ]
  },
  {
   "cell_type": "code",
   "execution_count": null,
   "id": "8a548660",
   "metadata": {},
   "outputs": [
    {
     "data": {
      "text/plain": [
       "The subset algebra of {1, 2, 3} over Rational Field"
      ]
     },
     "execution_count": 1,
     "metadata": {},
     "output_type": "execute_result"
    }
   ],
   "source": [
    "Sets().WithRealizations().example()"
   ]
  },
  {
   "cell_type": "markdown",
   "id": "7547f5ac",
   "metadata": {},
   "source": [
    "Namely, we consider an algebra $A(S)$ whose basis is indexed by the\n",
    "subsets $s$ of a given set $S$. $A(S)$ is endowed with three natural\n",
    "basis: `F`, `In`, `Out`; in the first basis, the product is given by the\n",
    "union of the indexing sets. The `In` basis and `Out` basis are defined\n",
    "respectively by:\n",
    "\n",
    "> $$In_s  = \\sum_{t\\subset s} F_t \\qquad\n",
    "> F_s   = \\sum_{t\\supset s} Out_t$$\n",
    "\n",
    "Each such basis gives a realization of $A$, where the elements are\n",
    "represented by their expansion in this basis. In the running exercises\n",
    "we will progressively implement this algebra and its three realizations,\n",
    "with coercions and mixed arithmetic between them.\n",
    "\n",
    "This tutorial heavily depends on `sage.modules.tutorial_free_modules`.\n",
    "You may also want to read the less specialized thematic tutorial [How to\n",
    "implement new algebraic structures](coercion_and_categories.ipynb).\n",
    "\n",
    "## Subclassing free modules and including category information\n",
    "\n",
    "As a warm-up, we implement the group algebra of the additive group\n",
    "$\\ZZ/5\\ZZ$. Of course this is solely for pedagogical purposes; group\n",
    "algebras are already implemented (see `ZMod(5).algebra(ZZ)`). Recall\n",
    "that a fully functional $\\ZZ$-module over this group can be created with\n",
    "the simple command:"
   ]
  },
  {
   "cell_type": "code",
   "execution_count": null,
   "id": "36bfabbe",
   "metadata": {},
   "outputs": [],
   "source": [
    "A = CombinatorialFreeModule(ZZ, Zmod(5), prefix='a')"
   ]
  },
  {
   "cell_type": "markdown",
   "id": "f6bc1dc1",
   "metadata": {},
   "source": [
    "We reproduce the same, but by deriving a subclass of\n",
    "`CombinatorialFreeModule` :"
   ]
  },
  {
   "cell_type": "code",
   "execution_count": null,
   "id": "085cf070",
   "metadata": {},
   "outputs": [],
   "source": [
    "class MyCyclicGroupModule(CombinatorialFreeModule):\n",
    "    \"\"\"An absolutely minimal implementation of a module whose basis is a cyclic group\"\"\"\n",
    "    def __init__(self, R, n, *args, **kwargs):\n",
    "        CombinatorialFreeModule.__init__(self, R, Zmod(n), *args, **kwargs)"
   ]
  },
  {
   "cell_type": "code",
   "execution_count": null,
   "id": "fbe4c0bd",
   "metadata": {},
   "outputs": [
    {
     "data": {
      "text/plain": [
       "2*a[0] + 2*a[1] + 3*a[2]"
      ]
     },
     "execution_count": 1,
     "metadata": {},
     "output_type": "execute_result"
    }
   ],
   "source": [
    "A = MyCyclicGroupModule(QQ, 6, prefix='a') # or 4 or 5 or 11     ...\n",
    "a = A.basis()\n",
    "A.an_element()"
   ]
  },
  {
   "cell_type": "markdown",
   "id": "01c06368",
   "metadata": {},
   "source": [
    "We now want to endow $A$ with its natural product structure, to get the\n",
    "desired group algebra. To define a multiplication, we should be in a\n",
    "category where multiplication makes sense, which is not yet the case:"
   ]
  },
  {
   "cell_type": "code",
   "execution_count": null,
   "id": "81b097a1",
   "metadata": {},
   "outputs": [
    {
     "data": {
      "text/plain": [
       "Category of finite dimensional vector spaces with basis over Rational Field"
      ]
     },
     "execution_count": 1,
     "metadata": {},
     "output_type": "execute_result"
    }
   ],
   "source": [
    "A.category()"
   ]
  },
  {
   "cell_type": "markdown",
   "id": "165c9abd",
   "metadata": {},
   "source": [
    "We can look at the available\n",
    "[Categories](../reference/categories/sage/categories/category.html) from\n",
    "the documentation in the reference manual or we can use introspection to\n",
    "look through the list of categories to pick one we want:"
   ]
  },
  {
   "cell_type": "code",
   "execution_count": null,
   "id": "19ad6d1f",
   "metadata": {},
   "outputs": [],
   "source": [
    "sage.categories.<tab>                   # not tested"
   ]
  },
  {
   "cell_type": "markdown",
   "id": "e463e538",
   "metadata": {},
   "source": [
    "Once we have chosen an appropriate category (here `AlgebrasWithBasis`),\n",
    "one can look at one example:"
   ]
  },
  {
   "cell_type": "code",
   "execution_count": null,
   "id": "b8651572",
   "metadata": {},
   "outputs": [
    {
     "data": {
      "text/plain": [
       "An example of an algebra with basis: the free algebra on the generators ('a', 'b', 'c') over Rational Field"
      ]
     },
     "execution_count": 1,
     "metadata": {},
     "output_type": "execute_result"
    }
   ],
   "source": [
    "E = AlgebrasWithBasis(QQ).example(); E"
   ]
  },
  {
   "cell_type": "code",
   "execution_count": null,
   "id": "2b373d96",
   "metadata": {},
   "outputs": [
    {
     "data": {
      "text/plain": [
       "B[word: ] + 2*B[word: a] + 3*B[word: b] + B[word: bab]"
      ]
     },
     "execution_count": 1,
     "metadata": {},
     "output_type": "execute_result"
    }
   ],
   "source": [
    "e = E.an_element(); e"
   ]
  },
  {
   "cell_type": "markdown",
   "id": "cbf90408",
   "metadata": {},
   "source": [
    "and browse through its code:"
   ]
  },
  {
   "cell_type": "code",
   "execution_count": null,
   "id": "dedcf1f0",
   "metadata": {},
   "outputs": [],
   "source": [
    "E??                                     # not tested"
   ]
  },
  {
   "cell_type": "markdown",
   "id": "d39080aa",
   "metadata": {},
   "source": [
    "This code is meant as a template for implementing a new algebra. In\n",
    "particular, this template suggests that we need to implement the methods\n",
    "`product_on_basis`, `one_basis`, `_repr_` and `algebra_generators`.\n",
    "Another way to get this list of methods is to ask the category (TODO:\n",
    "find a slicker idiom for this):"
   ]
  },
  {
   "cell_type": "code",
   "execution_count": null,
   "id": "bdf9ea3d",
   "metadata": {},
   "outputs": [
    {
     "data": {
      "text/plain": [
       "{'optional': ['_add_', '_mul_'],\n",
       " 'required': ['__bool__', 'monomial_coefficients']}"
      ]
     },
     "execution_count": 1,
     "metadata": {},
     "output_type": "execute_result"
    }
   ],
   "source": [
    "from sage.misc.abstract_method import abstract_methods_of_class\n",
    "abstract_methods_of_class(AlgebrasWithBasis(QQ).element_class)"
   ]
  },
  {
   "cell_type": "code",
   "execution_count": null,
   "id": "69a5d8d2",
   "metadata": {},
   "outputs": [
    {
     "data": {
      "text/plain": [
       "{'optional': ['one_basis', 'product_on_basis'], 'required': ['__contains__']}"
      ]
     },
     "execution_count": 1,
     "metadata": {},
     "output_type": "execute_result"
    }
   ],
   "source": [
    "abstract_methods_of_class(AlgebrasWithBasis(QQ).parent_class)"
   ]
  },
  {
   "cell_type": "markdown",
   "id": "3fe8b6ce",
   "metadata": {},
   "source": [
    "Warning\n",
    "\n",
    "The result above is not yet necessarily complete; many required methods\n",
    "in the categories are not yet marked as `abstract_methods`. We also\n",
    "recommend browsing the documentation of this category:\n",
    "`AlgebrasWithBasis`.\n",
    "\n",
    "Adding these methods, here is the minimal implementation of the group\n",
    "algebra:"
   ]
  },
  {
   "cell_type": "code",
   "execution_count": null,
   "id": "9cedefea",
   "metadata": {},
   "outputs": [
    {
     "data": {
      "text/plain": [
       "....:\n",
       "    def __init__(self, R, n, **keywords):\n",
       "        self._group = Zmod(n)\n",
       "        CombinatorialFreeModule.__init__(self, R, self._group,\n",
       "            category=AlgebrasWithBasis(R), **keywords)\n",
       "....:\n",
       "    def product_on_basis(self, left, right):\n",
       "        return self.monomial( left + right )\n",
       "....:\n",
       "    def one_basis(self):\n",
       "        return self._group.zero()\n",
       "....:\n",
       "    def algebra_generators(self):\n",
       "        return Family( [self.monomial( self._group(1) ) ] )\n",
       "....:\n",
       "    def _repr_(self):\n",
       "        return \"Jason's group algebra of %s over %s\"%(self._group, self.base_ring())"
      ]
     },
     "execution_count": 1,
     "metadata": {},
     "output_type": "execute_result"
    }
   ],
   "source": [
    "class MyCyclicGroupAlgebra(CombinatorialFreeModule):"
   ]
  },
  {
   "cell_type": "markdown",
   "id": "feb2804d",
   "metadata": {},
   "source": [
    "Some notes about this implementation:\n",
    "\n",
    "-   Alternatively, we could have defined `product` instead of\n",
    "    `product_on_basis` :\n",
    "\n",
    "-   For the sake of readability in this tutorial, we have stripped out\n",
    "    all the documentation strings. Of course all of those should be\n",
    "    present as in `E`.\n",
    "\n",
    "-   The purpose of `**keywords` is to pass down options like `prefix` to\n",
    "    `CombinatorialFreeModules`.\n",
    "\n",
    "Let us do some calculations:"
   ]
  },
  {
   "cell_type": "code",
   "execution_count": null,
   "id": "36790848",
   "metadata": {},
   "outputs": [
    {
     "data": {
      "text/plain": [
       "(Jason's group algebra of Ring of integers modulo 2 over Rational Field, 2*a[0] + 2*a[1])"
      ]
     },
     "execution_count": 1,
     "metadata": {},
     "output_type": "execute_result"
    }
   ],
   "source": [
    "A = MyCyclicGroupAlgebra(QQ, 2, prefix='a') # or 4 or 5 or 11     ...\n",
    "a = A.basis();\n",
    "f = A.an_element();\n",
    "A, f"
   ]
  },
  {
   "cell_type": "code",
   "execution_count": null,
   "id": "d778b644",
   "metadata": {},
   "outputs": [
    {
     "data": {
      "text/plain": [
       "8*a[0] + 8*a[1]"
      ]
     },
     "execution_count": 1,
     "metadata": {},
     "output_type": "execute_result"
    }
   ],
   "source": [
    "f * f"
   ]
  },
  {
   "cell_type": "code",
   "execution_count": null,
   "id": "572eee79",
   "metadata": {},
   "outputs": [
    {
     "data": {
      "text/plain": [
       "False"
      ]
     },
     "execution_count": 1,
     "metadata": {},
     "output_type": "execute_result"
    }
   ],
   "source": [
    "f.<tab>                                 # not tested\n",
    "f.is_idempotent()"
   ]
  },
  {
   "cell_type": "code",
   "execution_count": null,
   "id": "6c69c234",
   "metadata": {},
   "outputs": [
    {
     "data": {
      "text/plain": [
       "a[0]"
      ]
     },
     "execution_count": 1,
     "metadata": {},
     "output_type": "execute_result"
    }
   ],
   "source": [
    "A.one()"
   ]
  },
  {
   "cell_type": "code",
   "execution_count": null,
   "id": "c9a48e3f",
   "metadata": {},
   "outputs": [
    {
     "data": {
      "text/plain": [
       "[a[0], a[1], a[0], a[1]]"
      ]
     },
     "execution_count": 1,
     "metadata": {},
     "output_type": "execute_result"
    }
   ],
   "source": [
    "x = A.algebra_generators().first() # Typically x,y,    ... = A.algebra_generators()\n",
    "[x^i for i in range(4)]"
   ]
  },
  {
   "cell_type": "code",
   "execution_count": null,
   "id": "c1ad530b",
   "metadata": {},
   "outputs": [
    {
     "data": {
      "text/plain": [
       "True"
      ]
     },
     "execution_count": 1,
     "metadata": {},
     "output_type": "execute_result"
    }
   ],
   "source": [
    "g = 2*a[1]; (f + g)*f == f*f + g*f"
   ]
  },
  {
   "cell_type": "markdown",
   "id": "c1e129d2",
   "metadata": {},
   "source": [
    "This seems to work fine, but we would like to put more stress on our\n",
    "implementation to shake potential bugs out of it. To this end, we will\n",
    "use `TestSuite`, a tool that performs many routine tests on our algebra\n",
    "for us.\n",
    "\n",
    "Since we defined the class interactively, instead of in a Python module,\n",
    "those tests will complain about \"pickling\". We can silence this error by\n",
    "making sage think that the class is defined in a module. We could also\n",
    "just ignore those failing tests for now or call `TestSuite` with the\n",
    "argument $skip='_test_pickling')$ :"
   ]
  },
  {
   "cell_type": "code",
   "execution_count": null,
   "id": "33db83d1",
   "metadata": {},
   "outputs": [],
   "source": [
    "import __main__\n",
    "__main__.MyCyclicGroupAlgebra = MyCyclicGroupAlgebra"
   ]
  },
  {
   "cell_type": "markdown",
   "id": "7ab670e4",
   "metadata": {},
   "source": [
    "Ok, let's run the tests:"
   ]
  },
  {
   "cell_type": "code",
   "execution_count": null,
   "id": "d0457147",
   "metadata": {},
   "outputs": [
    {
     "data": {
      "text/plain": [
       "running ._test_additive_associativity() . . . pass\n",
       "running ._test_an_element() . . . pass\n",
       "running ._test_associativity() . . . pass\n",
       "running ._test_cardinality() . . . pass\n",
       "running ._test_category() . . . pass\n",
       "running ._test_characteristic() . . . pass\n",
       "running ._test_construction() . . . pass\n",
       "running ._test_distributivity() . . . pass\n",
       "running ._test_elements() . . .\n",
       "  Running the test suite of self.an_element()\n",
       "  running ._test_category() . . . pass\n",
       "  running ._test_eq() . . . pass\n",
       "  running ._test_new() . . . pass\n",
       "  running ._test_nonzero_equal() . . . pass\n",
       "  running ._test_not_implemented_methods() . . . pass\n",
       "  running ._test_pickling() . . . pass\n",
       "  pass\n",
       "running ._test_elements_eq_reflexive() . . . pass\n",
       "running ._test_elements_eq_symmetric() . . . pass\n",
       "running ._test_elements_eq_transitive() . . . pass\n",
       "running ._test_elements_neq() . . . pass\n",
       "running ._test_eq() . . . pass\n",
       "running ._test_new() . . . pass\n",
       "running ._test_not_implemented_methods() . . . pass\n",
       "running ._test_one() . . . pass\n",
       "running ._test_pickling() . . . pass\n",
       "running ._test_prod() . . . pass\n",
       "running ._test_some_elements() . . . pass\n",
       "running ._test_zero() . . . pass"
      ]
     },
     "execution_count": 1,
     "metadata": {},
     "output_type": "execute_result"
    }
   ],
   "source": [
    "TestSuite(A).run(verbose=True)"
   ]
  },
  {
   "cell_type": "markdown",
   "id": "8a9a01cb",
   "metadata": {},
   "source": [
    "For more information on categories, see `sage.categories.primer` :"
   ]
  },
  {
   "cell_type": "code",
   "execution_count": null,
   "id": "ad65e414",
   "metadata": {},
   "outputs": [],
   "source": [
    "sage.categories.primer?                 # not tested"
   ]
  },
  {
   "cell_type": "markdown",
   "id": "22dabf03",
   "metadata": {},
   "source": [
    "### Review\n",
    "\n",
    "We wanted to implement an algebra, so we:\n",
    "\n",
    "1.  Created the underlying vector space using `CombinatorialFreeModule`\n",
    "2.  Looked at `sage.categories.<tab>` to find an appropriate category\n",
    "3.  Loaded an example of that category, and used\n",
    "    `sage.misc.abstract_method.abstract_methods_of_class`, to see what\n",
    "    methods we needed to write\n",
    "4.  Added the category information and other necessary methods to our\n",
    "    class\n",
    "5.  Ran `TestSuite` to catch potential discrepancies\n",
    "\n",
    "### Exercises\n",
    "\n",
    "1.  Make a tiny modification to `product_on_basis` in\n",
    "    \"MyCyclicGroupAlgebra\" to implement the *dual* of the group algebra\n",
    "    of the cyclic group instead of its group algebra (so the product is\n",
    "    now given by $b_fb_g=\\delta_{f,g}bf$)."
   ]
  },
  {
   "cell_type": "markdown",
   "id": "c842eb7e",
   "metadata": {},
   "source": [
    "\n",
    "    Run the `TestSuite` tests (you may ignore the \"pickling\" errors).\n",
    "    What do you notice?\n",
    "\n",
    "    Fix the implementation of `one` and check that the `TestSuite` tests\n",
    "    now pass.\n",
    "\n",
    "    Add the Hopf algebra structure. Hint: look at the example:\n",
    "```{.python .input}\n",
    "    C = HopfAlgebrasWithBasis(QQ).example()\n",
    "```\n"
   ]
  },
  {
   "cell_type": "markdown",
   "id": "d0c272fb",
   "metadata": {},
   "source": [
    "2.  Given a set $S$, say:"
   ]
  },
  {
   "cell_type": "code",
   "execution_count": null,
   "id": "1573381a",
   "metadata": {},
   "outputs": [],
   "source": [
    "    S = Set([1,2,3,4,5])"
   ]
  },
  {
   "cell_type": "markdown",
   "id": "23078858",
   "metadata": {},
   "source": [
    "\n",
    "    and a base ring, say:\n",
    "```{.python .input}\n",
    "    R = QQ\n",
    "```\n",
    "\n",
    "    implement an $R$-algebra:\n",
    "```{.python .input}\n",
    "    F = SubsetAlgebraOnFundamentalBasis(S, R)   # todo: not implemented\n",
    "```\n",
    "\n",
    "    with a basis `(b_s)_{s\\subset S}` indexed by the subsets of `S` :\n",
    "```{.python .input}\n",
    "    Subsets(S)\n",
    "```\n",
    "```{.json .output}\n",
    "    [{\"data\": {\"text/plain\": \"Subsets of {1, 2, 3, 4, 5}\"}, \"execution_count\": 1, \"metadata\": {}, \"output_type\": \"execute_result\"}]\n",
    "```\n",
    "\n",
    "    and where the product is defined by $b_s b_t = b_{s\\cup t}$.\n"
   ]
  },
  {
   "cell_type": "markdown",
   "id": "6be83f17",
   "metadata": {},
   "source": [
    "## Morphisms\n",
    "\n",
    "To better understand relationships between algebraic spaces, one wants\n",
    "to consider morphisms between them:"
   ]
  },
  {
   "cell_type": "code",
   "execution_count": null,
   "id": "4a2ca7bc",
   "metadata": {},
   "outputs": [
    {
     "data": {
      "text/plain": [
       "(Jason's group algebra of Ring of integers modulo 2 over Rational Field, Jason's group algebra of Ring of integers modulo 6 over Rational Field)"
      ]
     },
     "execution_count": 1,
     "metadata": {},
     "output_type": "execute_result"
    }
   ],
   "source": [
    "A.module_morphism?                      # not tested\n",
    "A = MyCyclicGroupAlgebra(QQ, 2, prefix='a')\n",
    "B = MyCyclicGroupAlgebra(QQ, 6, prefix='b')\n",
    "A, B"
   ]
  },
  {
   "cell_type": "code",
   "execution_count": null,
   "id": "5a4e5427",
   "metadata": {},
   "outputs": [],
   "source": [
    "def func_on_basis(g):\n",
    "    r\"\"\"\n",
    "    This function is the 'brain' of a (linear) morphism\n",
    "    from A --> B.\n",
    "    The input is the index of basis element of the domain (A).\n",
    "    The output is an element of the codomain (B).\n",
    "    \"\"\"\n",
    "    if g==1: return B.monomial(Zmod(6)(3))# g==1 in the range A\n",
    "    else:    return B.one()"
   ]
  },
  {
   "cell_type": "markdown",
   "id": "1cc0020c",
   "metadata": {},
   "source": [
    "We can now define a morphism that extends this function to $A$ by\n",
    "linearity:"
   ]
  },
  {
   "cell_type": "code",
   "execution_count": null,
   "id": "caa454d4",
   "metadata": {},
   "outputs": [
    {
     "data": {
      "text/plain": [
       "2*a[0] + 2*a[1]"
      ]
     },
     "execution_count": 1,
     "metadata": {},
     "output_type": "execute_result"
    }
   ],
   "source": [
    "phi = A.module_morphism(func_on_basis, codomain=B)\n",
    "f = A.an_element()\n",
    "f"
   ]
  },
  {
   "cell_type": "code",
   "execution_count": null,
   "id": "76371b9f",
   "metadata": {},
   "outputs": [
    {
     "data": {
      "text/plain": [
       "2*b[0] + 2*b[3]"
      ]
     },
     "execution_count": 1,
     "metadata": {},
     "output_type": "execute_result"
    }
   ],
   "source": [
    "phi(f)"
   ]
  },
  {
   "cell_type": "markdown",
   "id": "fc59c80f",
   "metadata": {},
   "source": [
    "### Exercise\n",
    "\n",
    "Define a new free module `In` with basis indexed by the subsets of $S$,\n",
    "and a morphism `phi` from `In` to `F` defined by\n",
    "\n",
    "> $$\\phi(In_s) = \\sum_{t\\subset s} F_t$$\n",
    "\n",
    "## Diagonal and Triangular Morphisms\n",
    "\n",
    "We now illustrate how to specify that a given morphism is diagonal or\n",
    "triangular with respect to some order on the basis, which means that the\n",
    "morphism is invertible and $Sage$ is able to compute the inverse\n",
    "morphism automatically. Currently this feature requires the domain and\n",
    "codomain to have the same index set (in progress ...)."
   ]
  },
  {
   "cell_type": "code",
   "execution_count": null,
   "id": "dcf06f2e",
   "metadata": {},
   "outputs": [],
   "source": [
    "X = CombinatorialFreeModule(QQ, Partitions(), prefix='x'); x = X.basis();\n",
    "Y = CombinatorialFreeModule(QQ, Partitions(), prefix='y'); y = Y.basis();"
   ]
  },
  {
   "cell_type": "markdown",
   "id": "bd90cf19",
   "metadata": {},
   "source": [
    "A diagonal module morphism takes as argument a function whose input is\n",
    "the index of a basis element of the domain, and whose output is the\n",
    "coefficient of the corresponding basis element of the codomain:"
   ]
  },
  {
   "cell_type": "code",
   "execution_count": null,
   "id": "aaf68a55",
   "metadata": {},
   "outputs": [
    {
     "data": {
      "text/plain": [
       "....:\n",
       "....:"
      ]
     },
     "execution_count": 1,
     "metadata": {},
     "output_type": "execute_result"
    }
   ],
   "source": [
    "def diag_func(p):\n",
    "    if len(p)==0: return 1\n",
    "    else: return p[0]"
   ]
  },
  {
   "cell_type": "code",
   "execution_count": null,
   "id": "0944da99",
   "metadata": {},
   "outputs": [
    {
     "data": {
      "text/plain": [
       "3"
      ]
     },
     "execution_count": 1,
     "metadata": {},
     "output_type": "execute_result"
    }
   ],
   "source": [
    "diag_func(Partition([3,2,1]))"
   ]
  },
  {
   "cell_type": "code",
   "execution_count": null,
   "id": "a5154bd7",
   "metadata": {},
   "outputs": [
    {
     "data": {
      "text/plain": [
       "2*x[[]] + 2*x[[1]] + 3*x[[2]]"
      ]
     },
     "execution_count": 1,
     "metadata": {},
     "output_type": "execute_result"
    }
   ],
   "source": [
    "X_to_Y = X.module_morphism(diagonal=diag_func, codomain=Y)\n",
    "f = X.an_element();\n",
    "f"
   ]
  },
  {
   "cell_type": "code",
   "execution_count": null,
   "id": "e28d58c4",
   "metadata": {},
   "outputs": [
    {
     "data": {
      "text/plain": [
       "2*y[[]] + 2*y[[1]] + 6*y[[2]]"
      ]
     },
     "execution_count": 1,
     "metadata": {},
     "output_type": "execute_result"
    }
   ],
   "source": [
    "X_to_Y(f)"
   ]
  },
  {
   "cell_type": "markdown",
   "id": "b352ea56",
   "metadata": {},
   "source": [
    "Python fun fact: `~` is the inversion operator (but be careful with\n",
    "int's!):"
   ]
  },
  {
   "cell_type": "code",
   "execution_count": null,
   "id": "0ede360d",
   "metadata": {},
   "outputs": [
    {
     "data": {
      "text/plain": [
       "1/2"
      ]
     },
     "execution_count": 1,
     "metadata": {},
     "output_type": "execute_result"
    }
   ],
   "source": [
    "~2"
   ]
  },
  {
   "cell_type": "code",
   "execution_count": null,
   "id": "ba81c95d",
   "metadata": {},
   "outputs": [
    {
     "data": {
      "text/plain": [
       "-3"
      ]
     },
     "execution_count": 1,
     "metadata": {},
     "output_type": "execute_result"
    }
   ],
   "source": [
    "~(int(2)) # in python this is the bitwise complement: ~x = -x-1"
   ]
  },
  {
   "cell_type": "markdown",
   "id": "2cdc41bd",
   "metadata": {},
   "source": [
    "Diagonal module morphisms are invertible:"
   ]
  },
  {
   "cell_type": "code",
   "execution_count": null,
   "id": "92f796a9",
   "metadata": {},
   "outputs": [
    {
     "data": {
      "text/plain": [
       "-2*y[[2, 1]] + y[[3]]"
      ]
     },
     "execution_count": 1,
     "metadata": {},
     "output_type": "execute_result"
    }
   ],
   "source": [
    "Y_to_X = ~X_to_Y\n",
    "f = y[Partition([3])] - 2*y[Partition([2,1])]\n",
    "f"
   ]
  },
  {
   "cell_type": "code",
   "execution_count": null,
   "id": "cd4f074d",
   "metadata": {},
   "outputs": [
    {
     "data": {
      "text/plain": [
       "-x[[2, 1]] + 1/3*x[[3]]"
      ]
     },
     "execution_count": 1,
     "metadata": {},
     "output_type": "execute_result"
    }
   ],
   "source": [
    "Y_to_X(f)"
   ]
  },
  {
   "cell_type": "code",
   "execution_count": null,
   "id": "44e8f537",
   "metadata": {},
   "outputs": [
    {
     "data": {
      "text/plain": [
       "-2*y[[2, 1]] + y[[3]]"
      ]
     },
     "execution_count": 1,
     "metadata": {},
     "output_type": "execute_result"
    }
   ],
   "source": [
    "X_to_Y(Y_to_X(f))"
   ]
  },
  {
   "cell_type": "markdown",
   "id": "ff9a994c",
   "metadata": {},
   "source": [
    "For triangular morphisms, just like ordinary morphisms, we need a\n",
    "function that accepts as input the index of a basis element of the\n",
    "domain and returns an element of the codomain. We think of this function\n",
    "as representing the columns of the matrix of the linear transformation:"
   ]
  },
  {
   "cell_type": "code",
   "execution_count": null,
   "id": "11951176",
   "metadata": {},
   "outputs": [
    {
     "data": {
      "text/plain": [
       "....:"
      ]
     },
     "execution_count": 1,
     "metadata": {},
     "output_type": "execute_result"
    }
   ],
   "source": [
    "def triang_on_basis(p):\n",
    "    return Y.sum_of_monomials(mu for mu in Partitions(sum(p)) if mu >= p)"
   ]
  },
  {
   "cell_type": "code",
   "execution_count": null,
   "id": "a627e8a0",
   "metadata": {},
   "outputs": [
    {
     "data": {
      "text/plain": [
       "y[[3, 2]] + y[[4, 1]] + y[[5]]"
      ]
     },
     "execution_count": 1,
     "metadata": {},
     "output_type": "execute_result"
    }
   ],
   "source": [
    "triang_on_basis([3,2])"
   ]
  },
  {
   "cell_type": "code",
   "execution_count": null,
   "id": "e6b48267",
   "metadata": {},
   "outputs": [
    {
     "data": {
      "text/plain": [
       "x[[1, 1, 1]] + 2*x[[3, 2]]"
      ]
     },
     "execution_count": 1,
     "metadata": {},
     "output_type": "execute_result"
    }
   ],
   "source": [
    "X_to_Y = X.module_morphism(triang_on_basis, triangular='lower', unitriangular=True, codomain=Y)\n",
    "f = x[Partition([1,1,1])] + 2*x[Partition([3,2])];\n",
    "f"
   ]
  },
  {
   "cell_type": "code",
   "execution_count": null,
   "id": "4ce17d95",
   "metadata": {},
   "outputs": [
    {
     "data": {
      "text/plain": [
       "y[[1, 1, 1]] + y[[2, 1]] + y[[3]] + 2*y[[3, 2]] + 2*y[[4, 1]] + 2*y[[5]]"
      ]
     },
     "execution_count": 1,
     "metadata": {},
     "output_type": "execute_result"
    }
   ],
   "source": [
    "X_to_Y(f)"
   ]
  },
  {
   "cell_type": "markdown",
   "id": "0ff29d56",
   "metadata": {},
   "source": [
    "Triangular module\\_morphisms are also invertible, even if `X` and `Y`\n",
    "are both infinite-dimensional:"
   ]
  },
  {
   "cell_type": "code",
   "execution_count": null,
   "id": "efc7fd0c",
   "metadata": {},
   "outputs": [
    {
     "data": {
      "text/plain": [
       "x[[1, 1, 1]] + 2*x[[3, 2]]"
      ]
     },
     "execution_count": 1,
     "metadata": {},
     "output_type": "execute_result"
    }
   ],
   "source": [
    "Y_to_X = ~X_to_Y\n",
    "f"
   ]
  },
  {
   "cell_type": "code",
   "execution_count": null,
   "id": "4e9439d4",
   "metadata": {},
   "outputs": [
    {
     "data": {
      "text/plain": [
       "x[[1, 1, 1]] + 2*x[[3, 2]]"
      ]
     },
     "execution_count": 1,
     "metadata": {},
     "output_type": "execute_result"
    }
   ],
   "source": [
    "Y_to_X(X_to_Y(f))"
   ]
  },
  {
   "cell_type": "markdown",
   "id": "1ae98c26",
   "metadata": {},
   "source": [
    "For details, see `ModulesWithBasis.ParentMethods.module_morphism` (and\n",
    "also `sage.categories.modules_with_basis.TriangularModuleMorphism`):"
   ]
  },
  {
   "cell_type": "code",
   "execution_count": null,
   "id": "cec9021e",
   "metadata": {},
   "outputs": [],
   "source": [
    "A.module_morphism?                      # not tested"
   ]
  },
  {
   "cell_type": "markdown",
   "id": "ae22e384",
   "metadata": {},
   "source": [
    "### Exercise\n",
    "\n",
    "Redefine the morphism `phi` from the previous exercise as a morphism\n",
    "that is triangular with respect to inclusion of subsets and define the\n",
    "inverse morphism. You may want to use the following comparison key as\n",
    "`key` argument to `modules_morphism` :"
   ]
  },
  {
   "cell_type": "code",
   "execution_count": null,
   "id": "4c3abdef",
   "metadata": {},
   "outputs": [
    {
     "data": {
      "text/plain": [
       "....:\n",
       "    INPUT:\n",
       "....:\n",
       "     - ``s`` -- set\n",
       "....:\n",
       "    EXAMPLES::\n",
       "....:\n",
       "        sage: sorted(Subsets([1,2,3]), key=subset_key)\n",
       "        [{}, {1}, {2}, {3}, {1, 2}, {1, 3}, {2, 3}, {1, 2, 3}]\n",
       "    \"\"\"\n",
       "    return (len(s), list(s))"
      ]
     },
     "execution_count": 1,
     "metadata": {},
     "output_type": "execute_result"
    }
   ],
   "source": [
    "def subset_key(s):\n",
    "    \"\"\"\n",
    "    A comparison key on sets that gives a linear extension\n",
    "    of the inclusion order."
   ]
  },
  {
   "cell_type": "markdown",
   "id": "0cfd00f8",
   "metadata": {},
   "source": [
    "## Coercions\n",
    "\n",
    "Once we have defined a morphism from $X \\to Y$, we can register it as a\n",
    "coercion. This will allow Sage to apply the morphism automatically\n",
    "whenever we combine elements of $X$ and $Y$ together. See\n",
    "<http://sagemath.com/doc/reference/coercion.html> for more information.\n",
    "As a training step, let us first define a morphism $X$ to $Y$, and\n",
    "register it as a coercion:"
   ]
  },
  {
   "cell_type": "code",
   "execution_count": null,
   "id": "b62fb17b",
   "metadata": {},
   "outputs": [],
   "source": [
    "def triang_on_basis(p):\n",
    "    return Y.sum_of_monomials(mu for mu in Partitions(sum(p)) if mu >= p)"
   ]
  },
  {
   "cell_type": "code",
   "execution_count": null,
   "id": "6aa1f440",
   "metadata": {},
   "outputs": [
    {
     "data": {
      "text/plain": [
       "y[[3, 2]] + y[[4, 1]] + y[[5]]"
      ]
     },
     "execution_count": 1,
     "metadata": {},
     "output_type": "execute_result"
    }
   ],
   "source": [
    "triang_on_basis([3,2])"
   ]
  },
  {
   "cell_type": "code",
   "execution_count": null,
   "id": "952ba6d9",
   "metadata": {},
   "outputs": [],
   "source": [
    "X_to_Y = X.module_morphism(triang_on_basis, triangular='lower', unitriangular=True, codomain=Y)\n",
    "X_to_Y.<tab>                            # not tested\n",
    "X_to_Y.register_as_coercion()"
   ]
  },
  {
   "cell_type": "markdown",
   "id": "5f4cf0ff",
   "metadata": {},
   "source": [
    "Now we can not only convert elements from $X$ to $Y$, but we can also do\n",
    "mixed arithmetic with these elements:"
   ]
  },
  {
   "cell_type": "code",
   "execution_count": null,
   "id": "2a62f9ef",
   "metadata": {},
   "outputs": [
    {
     "data": {
      "text/plain": [
       "y[[3, 2]] + y[[4, 1]] + y[[5]]"
      ]
     },
     "execution_count": 1,
     "metadata": {},
     "output_type": "execute_result"
    }
   ],
   "source": [
    "Y(x[Partition([3,2])])"
   ]
  },
  {
   "cell_type": "code",
   "execution_count": null,
   "id": "4c7d7b7b",
   "metadata": {},
   "outputs": [
    {
     "data": {
      "text/plain": [
       "2*y[[2, 2, 1]] + y[[3, 1, 1]] + y[[3, 2]] + y[[4, 1]] + y[[5]]"
      ]
     },
     "execution_count": 1,
     "metadata": {},
     "output_type": "execute_result"
    }
   ],
   "source": [
    "Y([2,2,1]) + x[Partition([2,2,1])]"
   ]
  },
  {
   "cell_type": "markdown",
   "id": "af9b495c",
   "metadata": {},
   "source": [
    "### Exercise\n",
    "\n",
    "Use the inverse of `phi` to implement the inverse coercion from `F` to\n",
    "`In`. Reimplement `In` as an algebra, with a product method making it\n",
    "use `phi` and its inverse.\n",
    "\n",
    "## A digression: new bases and quotients of symmetric functions\n",
    "\n",
    "As an application, we show how to combine what we have learned to\n",
    "implement a new basis and a quotient of the algebra of symmetric\n",
    "functions:"
   ]
  },
  {
   "cell_type": "code",
   "execution_count": null,
   "id": "036ff0a6",
   "metadata": {},
   "outputs": [],
   "source": [
    "SF = SymmetricFunctions(QQ);  # A graded Hopf algebra\n",
    "h  = SF.homogeneous()         # A particular basis, indexed by partitions (with some additional magic)"
   ]
  },
  {
   "cell_type": "markdown",
   "id": "531e1404",
   "metadata": {},
   "source": [
    "So, $h$ is a graded algebra whose basis is indexed by partitions. In\n",
    "more detail, `h([i])` is the sum of all monomials of degree $i$ :"
   ]
  },
  {
   "cell_type": "code",
   "execution_count": null,
   "id": "bbc844e0",
   "metadata": {},
   "outputs": [
    {
     "data": {
      "text/plain": [
       "x0^2 + x0*x1 + x1^2 + x0*x2 + x1*x2 + x2^2 + x0*x3 + x1*x3 + x2*x3 + x3^2"
      ]
     },
     "execution_count": 1,
     "metadata": {},
     "output_type": "execute_result"
    }
   ],
   "source": [
    "h([2]).expand(4)"
   ]
  },
  {
   "cell_type": "markdown",
   "id": "91236956",
   "metadata": {},
   "source": [
    "and `h(mu) = prod( h(p) for p in mu )` :"
   ]
  },
  {
   "cell_type": "code",
   "execution_count": null,
   "id": "5b49b432",
   "metadata": {},
   "outputs": [
    {
     "data": {
      "text/plain": [
       "True"
      ]
     },
     "execution_count": 1,
     "metadata": {},
     "output_type": "execute_result"
    }
   ],
   "source": [
    "h([3,2,2,1]) == h([3]) * h([2]) * h([2]) * h([1])"
   ]
  },
  {
   "cell_type": "markdown",
   "id": "aff8fecd",
   "metadata": {},
   "source": [
    "Here we define a new basis $(X_\\lambda)_\\lambda$ by triangularity with\n",
    "respect to $h$; namely, we set\n",
    "$X_\\lambda = \\sum_{\\mu\\geq \\lambda, |\\mu|=|\\nu|} h_\\mu$ :"
   ]
  },
  {
   "cell_type": "code",
   "execution_count": null,
   "id": "bd31def3",
   "metadata": {},
   "outputs": [
    {
     "data": {
      "text/plain": [
       "....:\n",
       "    def __init__(self, R, *args, **kwargs):\n",
       "        \"\"\" TODO: Informative doc-string and examples \"\"\"\n",
       "        CombinatorialFreeModule.__init__(self, R, Partitions(), category=AlgebrasWithBasis(R), *args, **kwargs)\n",
       "        self._h = SymmetricFunctions(R).homogeneous()\n",
       "        self._to_h = self.module_morphism( self._to_h_on_basis, triangular='lower', unitriangular=True, codomain=self._h)\n",
       "        self._from_h = ~(self._to_h)\n",
       "        self._to_h.register_as_coercion()\n",
       "        self._from_h.register_as_coercion()\n",
       "....:\n",
       "    def _to_h_on_basis(self, la):\n",
       "        return self._h.sum_of_monomials(mu for mu in Partitions(sum(la)) if mu >= la)\n",
       "....:\n",
       "    def product(self, left, right):\n",
       "        return self( self._h(left) * self._h(right) )\n",
       "....:\n",
       "    def _repr_(self):\n",
       "        return \"Jason's basis for symmetric functions over %s\"%self.base_ring()\n",
       "....:\n",
       "    @cached_method\n",
       "    def one_basis(self):\n",
       "        r\"\"\" Returns the index of the basis element that is equal to '1'.\"\"\"\n",
       "        return Partition([])"
      ]
     },
     "execution_count": 1,
     "metadata": {},
     "output_type": "execute_result"
    }
   ],
   "source": [
    "class MySFBasis(CombinatorialFreeModule):\n",
    "    r\"\"\"\n",
    "    Note: We would typically use SymmetricFunctionAlgebra_generic\n",
    "    for this. This is as an example only.\n",
    "    \"\"\""
   ]
  },
  {
   "cell_type": "code",
   "execution_count": null,
   "id": "1cbfaf93",
   "metadata": {},
   "outputs": [
    {
     "data": {
      "text/plain": [
       "x[[2, 1, 1]] - 3*x[[2, 2]] + 2*x[[3, 1]]"
      ]
     },
     "execution_count": 1,
     "metadata": {},
     "output_type": "execute_result"
    }
   ],
   "source": [
    "X = MySFBasis(QQ, prefix='x'); x = X.basis(); h = SymmetricFunctions(QQ).homogeneous()\n",
    "f = X(h([2,1,1]) - 2*h([2,2]))  # Note the capital X\n",
    "f"
   ]
  },
  {
   "cell_type": "code",
   "execution_count": null,
   "id": "dfd669e3",
   "metadata": {},
   "outputs": [
    {
     "data": {
      "text/plain": [
       "h[2, 1, 1] - 2*h[2, 2]"
      ]
     },
     "execution_count": 1,
     "metadata": {},
     "output_type": "execute_result"
    }
   ],
   "source": [
    "h(f)"
   ]
  },
  {
   "cell_type": "code",
   "execution_count": null,
   "id": "5adc7c7c",
   "metadata": {},
   "outputs": [
    {
     "data": {
      "text/plain": [
       "x[[2, 2, 2, 1, 1, 1, 1, 1, 1]] - 7*x[[2, 2, 2, 2, 1, 1, 1, 1]] + 18*x[[2, 2, 2, 2, 2, 1, 1]]\n",
       "- 20*x[[2, 2, 2, 2, 2, 2]] + 8*x[[3, 1, 1, 1, 1, 1, 1, 1, 1, 1]]"
      ]
     },
     "execution_count": 1,
     "metadata": {},
     "output_type": "execute_result"
    }
   ],
   "source": [
    "f*f*f"
   ]
  },
  {
   "cell_type": "code",
   "execution_count": null,
   "id": "d451e0c5",
   "metadata": {},
   "outputs": [
    {
     "data": {
      "text/plain": [
       "h[2, 2, 1, 1, 1, 1] - 4*h[2, 2, 2, 1, 1] + 4*h[2, 2, 2, 2]"
      ]
     },
     "execution_count": 1,
     "metadata": {},
     "output_type": "execute_result"
    }
   ],
   "source": [
    "h(f*f)"
   ]
  },
  {
   "cell_type": "markdown",
   "id": "651e337c",
   "metadata": {},
   "source": [
    "We now implement a quotient of the algebra of symmetric functions\n",
    "obtained by killing any monomial symmetric function $m_\\lambda$ such\n",
    "that the first part of $\\lambda$ is greater than $k$. See\n",
    "`Sets.SubcategoryMethods.Subquotients` for more details about\n",
    "implementing quotients:"
   ]
  },
  {
   "cell_type": "code",
   "execution_count": null,
   "id": "67d9bf06",
   "metadata": {},
   "outputs": [
    {
     "data": {
      "text/plain": [
       "....:\n",
       "        self._k = k\n",
       "        self._m = SymmetricFunctions(R).monomial()\n",
       "....:\n",
       "        self.lift = self.module_morphism(self._m.monomial)\n",
       "        self.retract = self._m.module_morphism(self._retract_on_basis, codomain=self)\n",
       "....:\n",
       "        self.lift.register_as_coercion()\n",
       "        self.retract.register_as_coercion()\n",
       "....:\n",
       "    def ambient(self):\n",
       "        return self._m\n",
       "....:\n",
       "    def _retract_on_basis(self, mu):\n",
       "        r\"\"\"\n",
       "        Takes the index of a basis element of a monomial\n",
       "        symmetric function, and returns the projection of that\n",
       "        element to the quotient.\n",
       "        \"\"\"\n",
       "        if len(mu) > 0 and mu[0] > self._k:\n",
       "            return self.zero()\n",
       "        return self.monomial(mu)\n",
       "....:"
      ]
     },
     "execution_count": 1,
     "metadata": {},
     "output_type": "execute_result"
    }
   ],
   "source": [
    "class MySFQuotient(CombinatorialFreeModule):\n",
    "    r\"\"\"\n",
    "    The quotient of the ring of symmetric functions by the ideal generated\n",
    "    by those monomial symmetric functions whose part is larger than some fixed\n",
    "    number ``k``.\n",
    "    \"\"\"\n",
    "    def __init__(self, R, k, prefix=None, *args, **kwargs):\n",
    "        CombinatorialFreeModule.__init__(self, R,\n",
    "            Partitions(NonNegativeIntegers(), max_part=k),\n",
    "            prefix = 'mm',\n",
    "            category = Algebras(R).Graded().WithBasis().Quotients(), *args, **kwargs)"
   ]
  },
  {
   "cell_type": "code",
   "execution_count": null,
   "id": "cdd25707",
   "metadata": {},
   "outputs": [
    {
     "data": {
      "text/plain": [
       "m[3, 2, 1] + 2*m[3, 3] + m[4, 2]"
      ]
     },
     "execution_count": 1,
     "metadata": {},
     "output_type": "execute_result"
    }
   ],
   "source": [
    "MM = MySFQuotient(QQ, 3)\n",
    "mm = MM.basis()\n",
    "m = SymmetricFunctions(QQ).monomial()\n",
    "P = Partition\n",
    "g = m[P([3,2,1])] + 2*m[P([3,3])] + m[P([4,2])]; g"
   ]
  },
  {
   "cell_type": "code",
   "execution_count": null,
   "id": "27efe153",
   "metadata": {},
   "outputs": [
    {
     "data": {
      "text/plain": [
       "mm[[3, 2, 1]] + 2*mm[[3, 3]]"
      ]
     },
     "execution_count": 1,
     "metadata": {},
     "output_type": "execute_result"
    }
   ],
   "source": [
    "f = MM(g); f"
   ]
  },
  {
   "cell_type": "code",
   "execution_count": null,
   "id": "f498eeae",
   "metadata": {},
   "outputs": [
    {
     "data": {
      "text/plain": [
       "m[3, 2, 1] + 2*m[3, 3]\n"
      ]
     },
     "execution_count": 1,
     "metadata": {},
     "output_type": "execute_result"
    }
   ],
   "source": [
    "m(f)"
   ]
  },
  {
   "cell_type": "code",
   "execution_count": null,
   "id": "104d36dd",
   "metadata": {},
   "outputs": [
    {
     "data": {
      "text/plain": [
       "8*m[3, 3, 2, 2, 1, 1] + 12*m[3, 3, 2, 2, 2] + 24*m[3, 3, 3, 2, 1] + 48*m[3, 3, 3, 3]\n",
       "+ 4*m[4, 3, 2, 2, 1] + 4*m[4, 3, 3, 1, 1] + 14*m[4, 3, 3, 2] + 4*m[4, 4, 2, 2]\n",
       "+ 4*m[4, 4, 3, 1] + 6*m[4, 4, 4] + 4*m[5, 3, 2, 1, 1] + 4*m[5, 3, 2, 2]\n",
       "+ 12*m[5, 3, 3, 1] + 2*m[5, 4, 2, 1] + 6*m[5, 4, 3] + 4*m[5, 5, 1, 1] + 2*m[5, 5, 2]\n",
       "+ 4*m[6, 2, 2, 1, 1] + 6*m[6, 2, 2, 2] + 6*m[6, 3, 2, 1] + 10*m[6, 3, 3] + 2*m[6, 4, 1, 1] + 5*m[6, 4, 2] + 4*m[6, 5, 1] + 4*m[6, 6]\n"
      ]
     },
     "execution_count": 1,
     "metadata": {},
     "output_type": "execute_result"
    }
   ],
   "source": [
    "(m(f))^2"
   ]
  },
  {
   "cell_type": "code",
   "execution_count": null,
   "id": "48a24074",
   "metadata": {},
   "outputs": [
    {
     "data": {
      "text/plain": [
       "8*mm[[3, 3, 2, 2, 1, 1]] + 12*mm[[3, 3, 2, 2, 2]] + 24*mm[[3, 3, 3, 2, 1]] + 48*mm[[3, 3, 3, 3]]\n"
      ]
     },
     "execution_count": 1,
     "metadata": {},
     "output_type": "execute_result"
    }
   ],
   "source": [
    "f^2"
   ]
  },
  {
   "cell_type": "code",
   "execution_count": null,
   "id": "1da916f1",
   "metadata": {},
   "outputs": [
    {
     "data": {
      "text/plain": [
       "4*m[4, 3, 2, 2, 1] + 4*m[4, 3, 3, 1, 1] + 14*m[4, 3, 3, 2] + 4*m[4, 4, 2, 2] + 4*m[4, 4, 3, 1] + 6*m[4, 4, 4] + 4*m[5, 3, 2, 1, 1] + 4*m[5, 3, 2, 2] + 12*m[5, 3, 3, 1] + 2*m[5, 4, 2, 1] + 6*m[5, 4, 3] + 4*m[5, 5, 1, 1] + 2*m[5, 5, 2] + 4*m[6, 2, 2, 1, 1] + 6*m[6, 2, 2, 2] + 6*m[6, 3, 2, 1] + 10*m[6, 3, 3] + 2*m[6, 4, 1, 1] + 5*m[6, 4, 2] + 4*m[6, 5, 1] + 4*m[6, 6]\n"
      ]
     },
     "execution_count": 1,
     "metadata": {},
     "output_type": "execute_result"
    }
   ],
   "source": [
    "(m(f))^2 - m(f^2)"
   ]
  },
  {
   "cell_type": "code",
   "execution_count": null,
   "id": "23c05f48",
   "metadata": {},
   "outputs": [
    {
     "data": {
      "text/plain": [
       "0"
      ]
     },
     "execution_count": 1,
     "metadata": {},
     "output_type": "execute_result"
    }
   ],
   "source": [
    "MM( (m(f))^2 - m(f^2) )"
   ]
  },
  {
   "cell_type": "markdown",
   "id": "01ab93f3",
   "metadata": {},
   "source": [
    "## Implementing algebraic structures with several realizations\n",
    "\n",
    "We now return to the subset algebra and use it as an example to show how\n",
    "to implement several different bases for an algebra with automatic\n",
    "coercions between the different bases. We have already implemented three\n",
    "bases for this algebra: the `F`, `In`, and `Out` bases, as well as\n",
    "coercions between them. In real calculations it is convenient to tie\n",
    "these parents together by implementing an object `A` that models the\n",
    "abstract algebra itself. Then, the parents `F`, `In` and `Out` will be\n",
    "*realizations* of `A`, while `A` will be a *parent with realizations*.\n",
    "See `Sets().WithRealizations\n",
    "<sage.categories.with_realizations.WithRealizations>` for more\n",
    "information about the expected user interface and the rationale.\n",
    "\n",
    "Here is a brief template highlighting the overall structure:"
   ]
  },
  {
   "cell_type": "code",
   "execution_count": null,
   "id": "92a510b0",
   "metadata": {},
   "outputs": [],
   "source": [
    "class MyAlgebra(Parent, UniqueRepresentation):\n",
    "    def __init__(self, R, ...):\n",
    "        category = Algebras(R).Commutative()\n",
    "        Parent.__init__(self, category=category.WithRealizations())\n",
    "        # attribute initialization, construction of the morphisms\n",
    "        # between the bases, ...\n",
    "\n",
    "    class Bases(Category_realization_of_parent):\n",
    "        def super_categories(self):\n",
    "            A = self.base()\n",
    "            category = Algebras(A.base_ring()).Commutative()\n",
    "            return [A.Realizations(), category.Realizations().WithBasis()]\n",
    "\n",
    "        class ParentMethods:\n",
    "            r\"\"\"Code that is common to all bases of the algebra\"\"\"\n",
    "\n",
    "        class ElementMethods:\n",
    "            r\"\"\"Code that is common to elements of all bases of the algebra\"\"\"\n",
    "\n",
    "    class FirstBasis(CombinatorialFreeModule, BindableClass):\n",
    "        def __init__(self, A):\n",
    "            CombinatorialFreeModule.__init__(self, ..., category=A.Bases())\n",
    "\n",
    "        # implementation of the multiplication, the unit, ...\n",
    "\n",
    "    class SecondBasis(CombinatorialFreeModule, BindableClass):\n",
    "        def __init__(self, A):\n",
    "            CombinatorialFreeModule.__init__(self, ..., category=A.Bases())\n",
    "\n",
    "        # implementation of the multiplication, the unit, ..."
   ]
  },
  {
   "cell_type": "markdown",
   "id": "8c230ad1",
   "metadata": {},
   "source": [
    "The class `MyAlgebra` implements a commutative algebra `A` with several\n",
    "realizations, which we specify in the constructor of `MyAlgebra`. The\n",
    "two bases classes `MyAlgebra.FirstBasis` and `MyAlgebra.SecondBasis`\n",
    "implement different realizations of `A` that correspond to distinguished\n",
    "bases on which elements are expanded. They are initialized in the\n",
    "category `MyAlgebra.Bases` of all bases of `A`, whose role is to factor\n",
    "out their common features. In particular, this construction says that\n",
    "they are:\n",
    "\n",
    "-   realizations of `A`\n",
    "-   realizations of a commutative algebra, with a distinguished basis\n",
    "\n",
    "Note\n",
    "\n",
    "There is a bit of redundancy here: given that `A` knows it is a\n",
    "commutative algebra with realizations the infrastructure could, in\n",
    "principle, determine that its realizations are commutative algebras. If\n",
    "this was done then it would be possible to implement\n",
    "$Bases.super_categories$ by returning:"
   ]
  },
  {
   "cell_type": "code",
   "execution_count": null,
   "id": "b3f5f8eb",
   "metadata": {},
   "outputs": [],
   "source": [
    "[A.Realizations().WithBasis()]"
   ]
  },
  {
   "cell_type": "markdown",
   "id": "b33320d3",
   "metadata": {},
   "source": [
    "However, this has not been implemented yet.\n",
    "\n",
    "Note\n",
    "\n",
    "Inheriting from `BindableCass` just provides syntactic sugar: it makes\n",
    "`MyAlgebras().FirstBasis()` a shorthand for\n",
    "`MyAlgebras.FirstBasis(MyAlgebras().FirstBasis())` (binding behavior).\n",
    "The class `Bases` inherits this binding behavior from\n",
    "`Category_realization_of_parent` , which is why we can write\n",
    "`MyAlgebras().Bases` instead of `MyAlgebras.Bases(MyAlgebras())`\n",
    "\n",
    "Note\n",
    "\n",
    "More often than not, the constructors for all of the bases will be very\n",
    "similar, if not identical; so we would want to factor it out.\n",
    "Annoyingly, the natural approach of putting the constructor in\n",
    "`Bases.ParentMethods` does not work because this is an abstract class\n",
    "whereas the constructor handles the concrete implementation of the data\n",
    "structure. Similarly, it would be better if it was only necessary to\n",
    "specify the classes the bases inherit from once, but this can't code go\n",
    "into `Bases` for the same reason.\n",
    "\n",
    "The current recommended solution is to have an additional class `Basis`\n",
    "that factors out the common concrete features of the different bases:"
   ]
  },
  {
   "cell_type": "code",
   "execution_count": null,
   "id": "1b805e10",
   "metadata": {},
   "outputs": [],
   "source": [
    "class Basis(CombinatorialFreeModule, BindableClass):\n",
    "    def __init__(self, A):\n",
    "        CombinatorialFreeModule.__init__(self, ..., category=A.Bases())\n",
    "\n",
    "class FirstBasis(Basis):\n",
    "    ...\n",
    "\n",
    "class SecondBasis(Basis):\n",
    "    ..."
   ]
  },
  {
   "cell_type": "markdown",
   "id": "bf9f2d42",
   "metadata": {},
   "source": [
    "This solution works but it is not optimal because to share features\n",
    "between the two bases code needs to go into two locations, `Basis` and\n",
    "`Bases`, depending on whether they are concrete or abstract,\n",
    "respectively.\n",
    "\n",
    "We now urge the reader to browse the full code of the following example,\n",
    "which is meant as a complete template for constructing new parents with\n",
    "realizations:"
   ]
  },
  {
   "cell_type": "code",
   "execution_count": null,
   "id": "1afc5e9f",
   "metadata": {},
   "outputs": [
    {
     "data": {
      "text/plain": [
       "The subset algebra of {1, 2, 3} over Rational Field\n"
      ]
     },
     "execution_count": 1,
     "metadata": {},
     "output_type": "execute_result"
    }
   ],
   "source": [
    "A = Sets().WithRealizations().example(); A"
   ]
  },
  {
   "cell_type": "code",
   "execution_count": null,
   "id": "2a753c80",
   "metadata": {},
   "outputs": [],
   "source": [
    "A??                                     # not implemented"
   ]
  },
  {
   "cell_type": "markdown",
   "id": "b4135184",
   "metadata": {},
   "source": [
    "## Review\n",
    "\n",
    "Congratulations on reading this far!\n",
    "\n",
    "We have now been through a complete tour of the features needed to\n",
    "implement an algebra with several realizations. The infrastructure for\n",
    "realizations is not tied specifically to algebras; what we have learned\n",
    "applies mutatis mutandis in full generality, for example for\n",
    "implementing groups with several realizations."
   ]
  }
 ],
 "metadata": {},
 "nbformat": 4,
 "nbformat_minor": 5
}
