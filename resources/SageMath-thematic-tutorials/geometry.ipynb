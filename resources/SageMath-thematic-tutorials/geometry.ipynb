{
 "cells": [
  {
   "cell_type": "markdown",
   "id": "e7f0a924",
   "metadata": {},
   "source": [
    "$$\n",
    "\\def\\CC{\\bf C}\n",
    "\\def\\QQ{\\bf Q}\n",
    "\\def\\RR{\\bf R}\n",
    "\\def\\ZZ{\\bf Z}\n",
    "\\def\\NN{\\bf N}\n",
    "$$\n",
    "# Polyhedra\n",
    "\n",
    "Here you can find various documents that explain how to perform\n",
    "polyhedral computations in Sage.\n",
    "\n",
    "geometry/polyhedra\\_quicktutorial geometry/polyhedra\\_tutorial\n",
    "geometry/polyhedra\\_quickref geometry/tips geometry/visualization\n",
    "geometry/polytope\\_tikz"
   ]
  }
 ],
 "metadata": {},
 "nbformat": 4,
 "nbformat_minor": 5
}
