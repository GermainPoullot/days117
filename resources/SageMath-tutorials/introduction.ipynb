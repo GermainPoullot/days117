{
 "cells": [
  {
   "cell_type": "markdown",
   "id": "e7aa867d",
   "metadata": {},
   "source": [
    "$$\n",
    "\\def\\CC{\\bf C}\n",
    "\\def\\QQ{\\bf Q}\n",
    "\\def\\RR{\\bf R}\n",
    "\\def\\ZZ{\\bf Z}\n",
    "\\def\\NN{\\bf N}\n",
    "$$\n",
    "# Introduction\n",
    "\n",
    "This tutorial should take at most 3-4 hours to fully work through. You\n",
    "can read it in HTML or PDF versions, or from the Sage notebook click\n",
    "`Help`, then click `Tutorial` to interactively work through the tutorial\n",
    "from within Sage.\n",
    "\n",
    "Though much of Sage is implemented using Python, no Python background is\n",
    "needed to read this tutorial. You will want to learn Python (a very fun\n",
    "language!) at some point, and there are many excellent free resources\n",
    "for doing so: the Python Beginner's Guide [\\[PyB\\]]() lists many\n",
    "options. If you just want to quickly try out Sage, this tutorial is the\n",
    "place to start. For example:"
   ]
  },
  {
   "cell_type": "code",
   "execution_count": null,
   "id": "0bb9d67e",
   "metadata": {},
   "outputs": [
    {
     "data": {
      "text/plain": [
       "4"
      ]
     },
     "execution_count": 1,
     "metadata": {},
     "output_type": "execute_result"
    }
   ],
   "source": [
    "2 + 2"
   ]
  },
  {
   "cell_type": "code",
   "execution_count": null,
   "id": "5ba0a7c1",
   "metadata": {},
   "outputs": [
    {
     "data": {
      "text/plain": [
       "-1 * 3^2 * 223\n"
      ]
     },
     "execution_count": 1,
     "metadata": {},
     "output_type": "execute_result"
    }
   ],
   "source": [
    "factor(-2007)"
   ]
  },
  {
   "cell_type": "code",
   "execution_count": null,
   "id": "56f07591",
   "metadata": {},
   "outputs": [
    {
     "data": {
      "text/plain": [
       "[ 0  1  2  3]\n",
       "[ 4  5  6  7]\n",
       "[ 8  9 10 11]\n",
       "[12 13 14 15]\n"
      ]
     },
     "execution_count": 1,
     "metadata": {},
     "output_type": "execute_result"
    }
   ],
   "source": [
    "A = matrix(4,4, range(16)); A"
   ]
  },
  {
   "cell_type": "code",
   "execution_count": null,
   "id": "6735d153",
   "metadata": {},
   "outputs": [
    {
     "data": {
      "text/plain": [
       "x^2 * (x^2 - 30*x - 80)\n"
      ]
     },
     "execution_count": 1,
     "metadata": {},
     "output_type": "execute_result"
    }
   ],
   "source": [
    "factor(A.charpoly())"
   ]
  },
  {
   "cell_type": "code",
   "execution_count": null,
   "id": "8c464676",
   "metadata": {},
   "outputs": [
    {
     "data": {
      "text/plain": [
       "[-3  1]\n",
       "[ 2  3]\n"
      ]
     },
     "execution_count": 1,
     "metadata": {},
     "output_type": "execute_result"
    }
   ],
   "source": [
    "m = matrix(ZZ,2, range(4))\n",
    "m[0,0] = m[0,0] - 3\n",
    "m"
   ]
  },
  {
   "cell_type": "code",
   "execution_count": null,
   "id": "315337c4",
   "metadata": {},
   "outputs": [
    {
     "data": {
      "text/plain": [
       "Elliptic Curve defined by y^2 + x*y + 3*y = x^3 + 2*x^2 + 4*x + 5\n",
       "over Rational Field"
      ]
     },
     "execution_count": 1,
     "metadata": {},
     "output_type": "execute_result"
    }
   ],
   "source": [
    "E = EllipticCurve([1,2,3,4,5]);\n",
    "E"
   ]
  },
  {
   "cell_type": "code",
   "execution_count": null,
   "id": "fefac4a7",
   "metadata": {},
   "outputs": [
    {
     "data": {
      "text/plain": [
       "[0, 1, 1, 0, -1, -3, 0, -1, -3, -3, -3]"
      ]
     },
     "execution_count": 1,
     "metadata": {},
     "output_type": "execute_result"
    }
   ],
   "source": [
    "E.anlist(10)"
   ]
  },
  {
   "cell_type": "code",
   "execution_count": null,
   "id": "452943cf",
   "metadata": {},
   "outputs": [
    {
     "data": {
      "text/plain": [
       "1\n"
      ]
     },
     "execution_count": 1,
     "metadata": {},
     "output_type": "execute_result"
    }
   ],
   "source": [
    "E.rank()"
   ]
  },
  {
   "cell_type": "code",
   "execution_count": null,
   "id": "6a937bfb",
   "metadata": {},
   "outputs": [
    {
     "data": {
      "text/plain": [
       "36/(20*sqrt(73) + 36*I*sqrt(3) + 27)"
      ]
     },
     "execution_count": 1,
     "metadata": {},
     "output_type": "execute_result"
    }
   ],
   "source": [
    "k = 1/(sqrt(3)*I + 3/4 + sqrt(73)*5/9); k"
   ]
  },
  {
   "cell_type": "code",
   "execution_count": null,
   "id": "996f1535",
   "metadata": {},
   "outputs": [
    {
     "data": {
      "text/plain": [
       "0.165495678130644 - 0.0521492082074256*I"
      ]
     },
     "execution_count": 1,
     "metadata": {},
     "output_type": "execute_result"
    }
   ],
   "source": [
    "N(k)"
   ]
  },
  {
   "cell_type": "code",
   "execution_count": null,
   "id": "248a2984",
   "metadata": {},
   "outputs": [
    {
     "data": {
      "text/plain": [
       "0.16549568 - 0.052149208*I"
      ]
     },
     "execution_count": 1,
     "metadata": {},
     "output_type": "execute_result"
    }
   ],
   "source": [
    "N(k,30)      # 30 \"bits\""
   ]
  },
  {
   "cell_type": "code",
   "execution_count": null,
   "id": "95566c61",
   "metadata": {},
   "outputs": [
    {
     "data": {
      "text/plain": [
       "\\frac{36}{20 \\, \\sqrt{73} + 36 i \\, \\sqrt{3} + 27}"
      ]
     },
     "execution_count": 1,
     "metadata": {},
     "output_type": "execute_result"
    }
   ],
   "source": [
    "latex(k)"
   ]
  },
  {
   "cell_type": "markdown",
   "id": "0b3a7f56",
   "metadata": {},
   "source": [
    "## Installation\n",
    "\n",
    "If you do not have Sage installed on a computer and just want to try\n",
    "some commands, use it online at <http://sagecell.sagemath.org>.\n",
    "\n",
    "See the Sage Installation Guide in the documentation section of the main\n",
    "Sage webpage [\\[SA\\]]() for instructions on installing Sage on your\n",
    "computer. Here we merely make a few comments.\n",
    "\n",
    "1.  The Sage download file comes with \"batteries included\". In other\n",
    "    words, although Sage uses Python, IPython, PARI, GAP, Singular,\n",
    "    Maxima, NTL, GMP, and so on, you do not need to install them\n",
    "    separately as they are included with the Sage distribution. However,\n",
    "    to use certain Sage features, e.g., Macaulay or KASH, you must have\n",
    "    the relevant programs installed on your computer already.\n",
    "\n",
    "2.  The pre-compiled binary version of Sage (found on the Sage web site)\n",
    "    may be easier and quicker to install than the source code version.\n",
    "    Just unpack the file and run `sage`.\n",
    "\n",
    "3.  If you'd like to use the SageTeX package (which allows you to embed\n",
    "    the results of Sage computations into a LaTeX file), you will need\n",
    "    to make SageTeX known to your TeX distribution. To do this, see the\n",
    "    section \"Make SageTeX known to TeX\" in the [Sage installation\n",
    "    guide](http://doc.sagemath.org/html/en/) ([this\n",
    "    link](../installation/index.html) should take you to a local copy of\n",
    "    the installation guide). It's quite easy; you just need to set an\n",
    "    environment variable or copy a single file to a directory that TeX\n",
    "    will search."
   ]
  },
  {
   "cell_type": "markdown",
   "id": "6d08d305",
   "metadata": {},
   "source": [
    "\n",
    "    The documentation for using SageTeX is located in\n",
    "    `$SAGE_ROOT/venv/share/texmf/tex/latex/sagetex/`, where\n",
    "    \"`$SAGE_ROOT`\" refers to the directory where you installed Sage\n",
    "    --for example, `/opt/sage-9.6`.\n"
   ]
  },
  {
   "cell_type": "markdown",
   "id": "2fe14103",
   "metadata": {},
   "source": [
    "## Ways to Use Sage\n",
    "\n",
    "You can use Sage in several ways.\n",
    "\n",
    "-   **Notebook graphical interface:** run `sage -n jupyter`; see [the\n",
    "    Jupyter documentation\n",
    "    on-line](https://jupyter-notebook.readthedocs.io/en/latest/notebook.html),\n",
    "-   **Interactive command line:** see\n",
    "    [chapter-interactive\\_shell](chapter-interactive_shell.ipynb),\n",
    "-   **Programs:** By writing interpreted and compiled programs in Sage\n",
    "    (see [section-loadattach](section-loadattach.ipynb) and\n",
    "    [section-compile](section-compile.ipynb)), and\n",
    "-   **Scripts:** by writing stand-alone Python scripts that use the Sage\n",
    "    library (see [section-standalone](section-standalone.ipynb)).\n",
    "\n",
    "## Longterm Goals for Sage\n",
    "\n",
    "-   **Useful**: Sage's intended audience is mathematics students (from\n",
    "    high school to graduate school), teachers, and research\n",
    "    mathematicians. The aim is to provide software that can be used to\n",
    "    explore and experiment with mathematical constructions in algebra,\n",
    "    geometry, number theory, calculus, numerical computation, etc. Sage\n",
    "    helps make it easier to interactively experiment with mathematical\n",
    "    objects.\n",
    "-   **Efficient:** Be fast. Sage uses highly-optimized mature software\n",
    "    like GMP, PARI, GAP, and NTL, and so is very fast at certain\n",
    "    operations.\n",
    "-   **Free and open source:** The source code must be freely available\n",
    "    and readable, so users can understand what the system is really\n",
    "    doing and more easily extend it. Just as mathematicians gain a\n",
    "    deeper understanding of a theorem by carefully reading or at least\n",
    "    skimming the proof, people who do computations should be able to\n",
    "    understand how the calculations work by reading documented source\n",
    "    code. If you use Sage to do computations in a paper you publish, you\n",
    "    can rest assured that your readers will always have free access to\n",
    "    Sage and all its source code, and you are even allowed to archive\n",
    "    and re-distribute the version of Sage you used.\n",
    "-   **Easy to compile:** Sage should be easy to compile from source for\n",
    "    Linux, OS X and Windows users. This provides more flexibility for\n",
    "    users to modify the system.\n",
    "-   **Cooperation:** Provide robust interfaces to most other computer\n",
    "    algebra systems, including PARI, GAP, Singular, Maxima, KASH, Magma,\n",
    "    Maple, and Mathematica. Sage is meant to unify and extend existing\n",
    "    math software.\n",
    "-   **Well documented:** Tutorial, programming guide, reference manual,\n",
    "    and how-to, with numerous examples and discussion of background\n",
    "    mathematics.\n",
    "-   **Extensible:** Be able to define new data types or derive from\n",
    "    built-in types, and use code written in a range of languages.\n",
    "-   **User friendly**: It should be easy to understand what\n",
    "    functionality is provided for a given object and to view\n",
    "    documentation and source code. Also attain a high level of user\n",
    "    support."
   ]
  }
 ],
 "metadata": {},
 "nbformat": 4,
 "nbformat_minor": 5
}
