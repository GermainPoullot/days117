{
 "cells": [
  {
   "cell_type": "markdown",
   "id": "6746fa95",
   "metadata": {},
   "source": [
    "$$\n",
    "\\def\\CC{\\bf C}\n",
    "\\def\\QQ{\\bf Q}\n",
    "\\def\\RR{\\bf R}\n",
    "\\def\\ZZ{\\bf Z}\n",
    "\\def\\NN{\\bf N}\n",
    "$$\n",
    "# Tutorial: Objects and Classes in Python and Sage\n",
    "\n",
    "Florent Hivert \\<<florent.hivert@univ-rouen.fr>\\>\n",
    "\n",
    "This tutorial is an introduction to object-oriented programming in\n",
    "Python and Sage. It requires basic knowledge about imperative/procedural\n",
    "programming (the most common programming style) -- that is, conditional\n",
    "instructions, loops, functions (see the \"Programming\" section of the\n",
    "Sage tutorial) -- but no further knowledge about objects and classes is\n",
    "assumed. It is designed as an alternating sequence of formal\n",
    "introduction and exercises. [solutions](solutions.ipynb) are given at\n",
    "the end.\n",
    "\n",
    "## Foreword: variables, names and objects\n",
    "\n",
    "As an object-oriented language, Python's ''variables'' behavior may be\n",
    "surprising for people used to imperative languages like C or Maple. The\n",
    "reason is that they are **not variables but names**.\n",
    "\n",
    "The following explanation is [borrowed from David\n",
    "Goodger](http://python.net/~goodger/projects/pycon/2007/idiomatic/handout.html#python-has-names).\n",
    "\n",
    "## Other languages have \"variables\"\n",
    "\n",
    "In many other languages, assigning to a variable puts a value into a\n",
    "box.\n",
    "\n",
    "<table>\n",
    "<tbody>\n",
    "<tr class=\"odd\">\n",
    "<td><div class=\"sourceCode\" id=\"cb1\"><pre class=\"sourceCode python input\"><code class=\"sourceCode python\"><span id=\"cb1-1\"><a href=\"#cb1-1\" aria-hidden=\"true\"></a><span class=\"bu\">int</span> a <span class=\"op\">=</span> <span class=\"dv\">1</span><span class=\"op\">;</span></span></code></pre></div></td>\n",
    "<td><img src=\"media/a1box.png\" class=\"incremental incremental\" alt=\"image\" /></td>\n",
    "</tr>\n",
    "</tbody>\n",
    "</table>\n",
    "\n",
    "Box \"a\" now contains an integer 1.\n",
    "\n",
    "Assigning another value to the same variable replaces the contents of\n",
    "the box:\n",
    "\n",
    "<table>\n",
    "<tbody>\n",
    "<tr class=\"odd\">\n",
    "<td><div class=\"sourceCode\" id=\"cb1\"><pre class=\"sourceCode python input\"><code class=\"sourceCode python\"><span id=\"cb1-1\"><a href=\"#cb1-1\" aria-hidden=\"true\"></a>a <span class=\"op\">=</span> <span class=\"dv\">2</span><span class=\"op\">;</span></span></code></pre></div></td>\n",
    "<td><img src=\"media/a2box.png\" class=\"incremental incremental\" alt=\"image\" /></td>\n",
    "</tr>\n",
    "</tbody>\n",
    "</table>\n",
    "\n",
    "Now box \"a\" contains an integer 2.\n",
    "\n",
    "Assigning one variable to another makes a copy of the value and puts it\n",
    "in the new box:\n",
    "\n",
    "<table>\n",
    "<tbody>\n",
    "<tr class=\"odd\">\n",
    "<td><div class=\"sourceCode\" id=\"cb1\"><pre class=\"sourceCode python input\"><code class=\"sourceCode python\"><span id=\"cb1-1\"><a href=\"#cb1-1\" aria-hidden=\"true\"></a><span class=\"bu\">int</span> b <span class=\"op\">=</span> a<span class=\"op\">;</span></span></code></pre></div></td>\n",
    "<td><img src=\"media/b2box.png\" class=\"incremental incremental\" alt=\"image\" /></td>\n",
    "<td><img src=\"media/a2box.png\" class=\"incremental incremental\" alt=\"image\" /></td>\n",
    "</tr>\n",
    "</tbody>\n",
    "</table>\n",
    "\n",
    "\"b\" is a second box, with a copy of integer 2. Box \"a\" has a separate\n",
    "copy.\n",
    "\n",
    "## Python has \"names\"\n",
    "\n",
    "In Python, a \"name\" or \"identifier\" is like a parcel tag (or nametag)\n",
    "attached to an object.\n",
    "\n",
    "<table>\n",
    "<tbody>\n",
    "<tr class=\"odd\">\n",
    "<td><div class=\"sourceCode\" id=\"cb1\"><pre class=\"sourceCode python input\"><code class=\"sourceCode python\"><span id=\"cb1-1\"><a href=\"#cb1-1\" aria-hidden=\"true\"></a>a <span class=\"op\">=</span> <span class=\"dv\">1</span></span></code></pre></div></td>\n",
    "<td><img src=\"media/a1tag.png\" class=\"incremental incremental\" alt=\"image\" /></td>\n",
    "</tr>\n",
    "</tbody>\n",
    "</table>\n",
    "\n",
    "Here, an integer 1 object has a tag labelled \"a\".\n",
    "\n",
    "If we reassign to \"a\", we just move the tag to another object:\n",
    "\n",
    "<table>\n",
    "<tbody>\n",
    "<tr class=\"odd\">\n",
    "<td><div class=\"sourceCode\" id=\"cb1\"><pre class=\"sourceCode python input\"><code class=\"sourceCode python\"><span id=\"cb1-1\"><a href=\"#cb1-1\" aria-hidden=\"true\"></a>a <span class=\"op\">=</span> <span class=\"dv\">2</span></span></code></pre></div></td>\n",
    "<td><img src=\"media/a2tag.png\" class=\"incremental incremental\" alt=\"image\" /></td>\n",
    "<td><img src=\"media/1.png\" class=\"incremental incremental\" alt=\"image\" /></td>\n",
    "</tr>\n",
    "</tbody>\n",
    "</table>\n",
    "\n",
    "Now the name \"a\" is attached to an integer 2 object.\n",
    "\n",
    "The original integer 1 object no longer has a tag \"a\". It may live on,\n",
    "but we can't get to it through the name \"a\". (When an object has no more\n",
    "references or tags, it is removed from memory.)\n",
    "\n",
    "If we assign one name to another, we're just attaching another nametag\n",
    "to an existing object:\n",
    "\n",
    "<table>\n",
    "<tbody>\n",
    "<tr class=\"odd\">\n",
    "<td><div class=\"sourceCode\" id=\"cb1\"><pre class=\"sourceCode python input\"><code class=\"sourceCode python\"><span id=\"cb1-1\"><a href=\"#cb1-1\" aria-hidden=\"true\"></a>b <span class=\"op\">=</span> a</span></code></pre></div></td>\n",
    "<td><img src=\"media/ab2tag.png\" class=\"incremental incremental\" alt=\"image\" /></td>\n",
    "</tr>\n",
    "</tbody>\n",
    "</table>\n",
    "\n",
    "The name \"b\" is just a second tag bound to the same object as \"a\".\n",
    "\n",
    "Although we commonly refer to \"variables\" even in Python (because it's\n",
    "common terminology), we really mean \"names\" or \"identifiers\". In Python,\n",
    "\"variables\" are nametags for values, not labelled boxes.\n",
    "\n",
    "Warning\n",
    "\n",
    "As a consequence, when there are **two tags** \"a\" and \"b\" on the **same\n",
    "object**, modifying the object tagged \"b\" also modifies the object\n",
    "tagged \"a\":"
   ]
  },
  {
   "cell_type": "code",
   "execution_count": null,
   "id": "98b0ac1a",
   "metadata": {},
   "outputs": [
    {
     "data": {
      "text/plain": [
       "[1, 0, 3]"
      ]
     },
     "execution_count": 1,
     "metadata": {},
     "output_type": "execute_result"
    }
   ],
   "source": [
    "a = [1,2,3]\n",
    "b = a\n",
    "b[1] = 0\n",
    "a"
   ]
  },
  {
   "cell_type": "markdown",
   "id": "952556bc",
   "metadata": {},
   "source": [
    "Note that reassigning the tag \"b\" (rather than modifying the object with\n",
    "that tag) doesn't affect the object tagged \"a\":"
   ]
  },
  {
   "cell_type": "code",
   "execution_count": null,
   "id": "60ee8baf",
   "metadata": {},
   "outputs": [
    {
     "data": {
      "text/plain": [
       "7"
      ]
     },
     "execution_count": 1,
     "metadata": {},
     "output_type": "execute_result"
    }
   ],
   "source": [
    "b = 7\n",
    "b"
   ]
  },
  {
   "cell_type": "code",
   "execution_count": null,
   "id": "42d54aa5",
   "metadata": {},
   "outputs": [
    {
     "data": {
      "text/plain": [
       "[1, 0, 3]"
      ]
     },
     "execution_count": 1,
     "metadata": {},
     "output_type": "execute_result"
    }
   ],
   "source": [
    "a"
   ]
  },
  {
   "cell_type": "markdown",
   "id": "31cb3ae3",
   "metadata": {},
   "source": [
    "## Object-oriented programming paradigm\n",
    "\n",
    "The **object-oriented programming** paradigm relies on the two following\n",
    "fundamental rules:\n",
    "\n",
    "1.  Anything of the real (or mathematical) world which needs to be\n",
    "    manipulated by the computer is modeled by an **object**.\n",
    "2.  Each object is an **instance** of some **class**.\n",
    "\n",
    "At this point, those two rules are a little meaningless, so let's give\n",
    "some more or less precise definitions of the terms:\n",
    "\n",
    "------------------------------------------------------------------------\n",
    "\n",
    "**object**  \n",
    "a **portion of memory** which contains the information needed to model\n",
    "the real world thing.\n",
    "\n",
    "**class**  \n",
    "defines the **data structure** used to store the objects which are\n",
    "instances of the class together with their **behavior**.\n",
    "\n",
    "------------------------------------------------------------------------\n",
    "\n",
    "Let's start with some examples: We consider the vector space over $\\QQ$\n",
    "whose basis is indexed by permutations, and a particular element in it:"
   ]
  },
  {
   "cell_type": "code",
   "execution_count": null,
   "id": "32a93a20",
   "metadata": {},
   "outputs": [
    {
     "data": {
      "text/plain": [
       "B[[1, 2, 3]] + 3*B[[1, 3, 2]]"
      ]
     },
     "execution_count": 1,
     "metadata": {},
     "output_type": "execute_result"
    }
   ],
   "source": [
    "F = CombinatorialFreeModule(QQ, Permutations())\n",
    "el = 3*F([1,3,2])+ F([1,2,3])\n",
    "el"
   ]
  },
  {
   "cell_type": "markdown",
   "id": "3e6e8b22",
   "metadata": {},
   "source": [
    "(For each permutation, say `[1, 3, 2]`, the corresponding element in `F`\n",
    "is denoted by `B[[1, 3, 2]]` -- in a `CombinatorialFreeModule`, if an\n",
    "element is indexed by `x`, then by default its print representation is\n",
    "`B[x]`.)\n",
    "\n",
    "In Python, everything is an object so there isn't any difference between\n",
    "types and classes. One can get the class of the object `el` by:"
   ]
  },
  {
   "cell_type": "code",
   "execution_count": null,
   "id": "04412c97",
   "metadata": {},
   "outputs": [
    {
     "data": {
      "text/plain": [
       "<class 'sage.combinat.free_module.CombinatorialFreeModule_with_category.element_class'>"
      ]
     },
     "execution_count": 1,
     "metadata": {},
     "output_type": "execute_result"
    }
   ],
   "source": [
    "type(el)"
   ]
  },
  {
   "cell_type": "markdown",
   "id": "f354402e",
   "metadata": {},
   "source": [
    "As such, this is not very informative. We'll come back to it later. The\n",
    "data associated to objects are stored in so-called **attributes**. They\n",
    "are accessed through the syntax `obj.attribute_name`. For an element of\n",
    "a combinatorial free module, the main attribute is called\n",
    "`_monomial_coefficients`. It is a dictionary associating coefficients to\n",
    "indices:"
   ]
  },
  {
   "cell_type": "code",
   "execution_count": null,
   "id": "cc941554",
   "metadata": {},
   "outputs": [
    {
     "data": {
      "text/plain": [
       "{[1, 2, 3]: 1, [1, 3, 2]: 3}"
      ]
     },
     "execution_count": 1,
     "metadata": {},
     "output_type": "execute_result"
    }
   ],
   "source": [
    "el._monomial_coefficients"
   ]
  },
  {
   "cell_type": "markdown",
   "id": "4e40e0d4",
   "metadata": {},
   "source": [
    "Modifying the attribute modifies the objects:"
   ]
  },
  {
   "cell_type": "code",
   "execution_count": null,
   "id": "31530e79",
   "metadata": {},
   "outputs": [
    {
     "data": {
      "text/plain": [
       "B[[1, 2, 3]] + 3*B[[1, 3, 2]] + 1/2*B[[3, 2, 1]]"
      ]
     },
     "execution_count": 1,
     "metadata": {},
     "output_type": "execute_result"
    }
   ],
   "source": [
    "el._monomial_coefficients[Permutation([3,2,1])] = 1/2\n",
    "el"
   ]
  },
  {
   "cell_type": "markdown",
   "id": "e628bbd9",
   "metadata": {},
   "source": [
    "Warning\n",
    "\n",
    "as a user, you are *not* supposed to do such a modification by yourself\n",
    "(see note on `private attributes\n",
    "<private_attributes>` below).\n",
    "\n",
    "As an element of a vector space, `el` has a particular behavior:"
   ]
  },
  {
   "cell_type": "code",
   "execution_count": null,
   "id": "e1eba172",
   "metadata": {},
   "outputs": [
    {
     "data": {
      "text/plain": [
       "2*B[[1, 2, 3]] + 6*B[[1, 3, 2]] + B[[3, 2, 1]]"
      ]
     },
     "execution_count": 1,
     "metadata": {},
     "output_type": "execute_result"
    }
   ],
   "source": [
    "2*el"
   ]
  },
  {
   "cell_type": "code",
   "execution_count": null,
   "id": "f48568e5",
   "metadata": {},
   "outputs": [
    {
     "data": {
      "text/plain": [
       "[[1, 2, 3], [1, 3, 2], [3, 2, 1]]"
      ]
     },
     "execution_count": 1,
     "metadata": {},
     "output_type": "execute_result"
    }
   ],
   "source": [
    "sorted(el.support())"
   ]
  },
  {
   "cell_type": "code",
   "execution_count": null,
   "id": "54ad8d04",
   "metadata": {},
   "outputs": [
    {
     "data": {
      "text/plain": [
       "1"
      ]
     },
     "execution_count": 1,
     "metadata": {},
     "output_type": "execute_result"
    }
   ],
   "source": [
    "el.coefficient([1, 2, 3])"
   ]
  },
  {
   "cell_type": "markdown",
   "id": "09d02c94",
   "metadata": {},
   "source": [
    "The behavior is defined through **methods** (`support`, `coefficient`).\n",
    "Note that this is true even for equality, printing or mathematical\n",
    "operations. For example, the call `a == b` actually is translated to the\n",
    "method call `a.__eq__(b)`. The names of those special methods which are\n",
    "usually called through operators are fixed by the Python language and\n",
    "are of the form `__name__`. Examples include `__eq__` and `__le__` for\n",
    "operators `==` and `<=`, `__repr__` (see\n",
    "[sage\\_specifics](sage_specifics.ipynb)) for printing, `__add__` and\n",
    "`__mult__` for operators `+` and `*`. See\n",
    "<http://docs.python.org/library/> for a complete list. :"
   ]
  },
  {
   "cell_type": "code",
   "execution_count": null,
   "id": "7a7c9d11",
   "metadata": {},
   "outputs": [
    {
     "data": {
      "text/plain": [
       "False"
      ]
     },
     "execution_count": 1,
     "metadata": {},
     "output_type": "execute_result"
    }
   ],
   "source": [
    "el.__eq__(F([1,3,2]))"
   ]
  },
  {
   "cell_type": "code",
   "execution_count": null,
   "id": "6623444e",
   "metadata": {},
   "outputs": [
    {
     "data": {
      "text/plain": [
       "'B[[1, 2, 3]] + 3*B[[1, 3, 2]] + 1/2*B[[3, 2, 1]]'"
      ]
     },
     "execution_count": 1,
     "metadata": {},
     "output_type": "execute_result"
    }
   ],
   "source": [
    "el.__repr__()"
   ]
  },
  {
   "cell_type": "code",
   "execution_count": null,
   "id": "6d3c7869",
   "metadata": {},
   "outputs": [
    {
     "data": {
      "text/plain": [
       "2*B[[1, 2, 3]] + 6*B[[1, 3, 2]] + B[[3, 2, 1]]"
      ]
     },
     "execution_count": 1,
     "metadata": {},
     "output_type": "execute_result"
    }
   ],
   "source": [
    "el.__mul__(2)"
   ]
  },
  {
   "cell_type": "markdown",
   "id": "0dd3118f",
   "metadata": {},
   "source": [
    "Note\n",
    "\n",
    "We now create a custom `~sage.structure.element.Element` class to\n",
    "explain the details of how attributes work in Python (you can ignore the\n",
    "`parent` in the code below, that is not relevant here):"
   ]
  },
  {
   "cell_type": "code",
   "execution_count": null,
   "id": "425ddae8",
   "metadata": {},
   "outputs": [
    {
     "data": {
      "text/plain": [
       "Generic element of a structure"
      ]
     },
     "execution_count": 1,
     "metadata": {},
     "output_type": "execute_result"
    }
   ],
   "source": [
    "from sage.structure.element import Element\n",
    "class MyElt(Element):\n",
    "    def __init__(self, parent, val):\n",
    "        super(MyElt, self).__init__(parent)\n",
    "        self.value = val\n",
    "el = MyElt(val=42, parent=ZZ)\n",
    "el"
   ]
  },
  {
   "cell_type": "markdown",
   "id": "995f2885",
   "metadata": {},
   "source": [
    "The class is stored in a particular attribute called `__class__`, and\n",
    "the normal attributes are stored in a dictionary called `__dict__` :"
   ]
  },
  {
   "cell_type": "code",
   "execution_count": null,
   "id": "24f5c5ea",
   "metadata": {},
   "outputs": [
    {
     "data": {
      "text/plain": [
       "{'value': 42}"
      ]
     },
     "execution_count": 1,
     "metadata": {},
     "output_type": "execute_result"
    }
   ],
   "source": [
    "el.__dict__"
   ]
  },
  {
   "cell_type": "code",
   "execution_count": null,
   "id": "3c54d24e",
   "metadata": {},
   "outputs": [
    {
     "data": {
      "text/plain": [
       "<class '__main__.MyElt'>"
      ]
     },
     "execution_count": 1,
     "metadata": {},
     "output_type": "execute_result"
    }
   ],
   "source": [
    "el.__class__"
   ]
  },
  {
   "cell_type": "markdown",
   "id": "123111d7",
   "metadata": {},
   "source": [
    "Some particular actions modify the attributes of `el` :"
   ]
  },
  {
   "cell_type": "code",
   "execution_count": null,
   "id": "ec905f31",
   "metadata": {},
   "outputs": [
    {
     "data": {
      "text/plain": [
       "bla"
      ]
     },
     "execution_count": 1,
     "metadata": {},
     "output_type": "execute_result"
    }
   ],
   "source": [
    "el.rename(\"bla\")\n",
    "el"
   ]
  },
  {
   "cell_type": "code",
   "execution_count": null,
   "id": "2e761ff0",
   "metadata": {},
   "outputs": [
    {
     "data": {
      "text/plain": [
       "{'__custom_name': 'bla', 'value': 42}"
      ]
     },
     "execution_count": 1,
     "metadata": {},
     "output_type": "execute_result"
    }
   ],
   "source": [
    "el.__dict__"
   ]
  },
  {
   "cell_type": "markdown",
   "id": "e4f19e72",
   "metadata": {},
   "source": [
    "Lots of Sage objects are not Python objects but compiled Cython objects.\n",
    "Python sees them as builtin objects and you do not have access to some\n",
    "of their internal data structure. For example, the base class `Element`\n",
    "stores the parent of `el` as a Cython attribute `_parent` but it does\n",
    "not appear in the `__dict__` and we cannot access it from Python.\n",
    "\n",
    "Some examples of Cython classes (technically, [extension\n",
    "types](http://cython.readthedocs.io/en/stable/src/userguide/extension_types.html))\n",
    "in Sage include integers and permutation group elements. These do not\n",
    "have a `__dict__` at all:"
   ]
  },
  {
   "cell_type": "code",
   "execution_count": null,
   "id": "789fd16c",
   "metadata": {},
   "outputs": [
    {
     "data": {
      "text/plain": [
       "<class 'sage.rings.integer.Integer'>"
      ]
     },
     "execution_count": 1,
     "metadata": {},
     "output_type": "execute_result"
    }
   ],
   "source": [
    "e = Integer(9)\n",
    "type(e)"
   ]
  },
  {
   "cell_type": "code",
   "execution_count": null,
   "id": "40007de8",
   "metadata": {},
   "outputs": [
    {
     "data": {
      "text/plain": [
       "Traceback (most recent call last):\n",
       "...\n",
       "AttributeError: 'sage.rings.integer.Integer' object has no attribute '__dict__'\n"
      ]
     },
     "execution_count": 1,
     "metadata": {},
     "output_type": "execute_result"
    }
   ],
   "source": [
    "e.__dict__"
   ]
  },
  {
   "cell_type": "code",
   "execution_count": null,
   "id": "f1618658",
   "metadata": {},
   "outputs": [
    {
     "data": {
      "text/plain": [
       "<class 'sage.groups.perm_gps.permgroup_element.SymmetricGroupElement'>"
      ]
     },
     "execution_count": 1,
     "metadata": {},
     "output_type": "execute_result"
    }
   ],
   "source": [
    "id4 = SymmetricGroup(4).one()\n",
    "type(id4)"
   ]
  },
  {
   "cell_type": "code",
   "execution_count": null,
   "id": "1c64a10a",
   "metadata": {},
   "outputs": [
    {
     "data": {
      "text/plain": [
       "Traceback (most recent call last):\n",
       "...\n",
       "AttributeError: 'sage.groups.perm_gps.permgroup_element.SymmetricGroupElement' object has no attribute '__dict__'"
      ]
     },
     "execution_count": 1,
     "metadata": {},
     "output_type": "execute_result"
    }
   ],
   "source": [
    "id4.__dict__"
   ]
  },
  {
   "cell_type": "markdown",
   "id": "f4c374f6",
   "metadata": {},
   "source": [
    "Note\n",
    "\n",
    "Each object corresponds to a portion of memory called its **identity**\n",
    "in Python. You can get the identity using `id` :"
   ]
  },
  {
   "cell_type": "code",
   "execution_count": null,
   "id": "07364a30",
   "metadata": {},
   "outputs": [
    {
     "data": {
      "text/plain": [
       "139813642977744"
      ]
     },
     "execution_count": 1,
     "metadata": {},
     "output_type": "execute_result"
    }
   ],
   "source": [
    "el = Integer(9)\n",
    "id(el)  # random"
   ]
  },
  {
   "cell_type": "code",
   "execution_count": null,
   "id": "cc04aee2",
   "metadata": {},
   "outputs": [
    {
     "data": {
      "text/plain": [
       "True"
      ]
     },
     "execution_count": 1,
     "metadata": {},
     "output_type": "execute_result"
    }
   ],
   "source": [
    "el1 = el; id(el1) == id(el)"
   ]
  },
  {
   "cell_type": "code",
   "execution_count": null,
   "id": "6a40068e",
   "metadata": {},
   "outputs": [
    {
     "data": {
      "text/plain": [
       "True"
      ]
     },
     "execution_count": 1,
     "metadata": {},
     "output_type": "execute_result"
    }
   ],
   "source": [
    "el1 is el"
   ]
  },
  {
   "cell_type": "markdown",
   "id": "4ce28c26",
   "metadata": {},
   "source": [
    "In Python (and therefore in Sage), two objects with the same identity\n",
    "will be equal, but the converse is not true in general. Thus the\n",
    "identity function is different from mathematical identity:"
   ]
  },
  {
   "cell_type": "code",
   "execution_count": null,
   "id": "47a2c092",
   "metadata": {},
   "outputs": [
    {
     "data": {
      "text/plain": [
       "True"
      ]
     },
     "execution_count": 1,
     "metadata": {},
     "output_type": "execute_result"
    }
   ],
   "source": [
    "el2 = Integer(9)\n",
    "el2 == el1"
   ]
  },
  {
   "cell_type": "code",
   "execution_count": null,
   "id": "3709cc90",
   "metadata": {},
   "outputs": [
    {
     "data": {
      "text/plain": [
       "False"
      ]
     },
     "execution_count": 1,
     "metadata": {},
     "output_type": "execute_result"
    }
   ],
   "source": [
    "el2 is el1"
   ]
  },
  {
   "cell_type": "code",
   "execution_count": null,
   "id": "c45da5aa",
   "metadata": {},
   "outputs": [
    {
     "data": {
      "text/plain": [
       "False"
      ]
     },
     "execution_count": 1,
     "metadata": {},
     "output_type": "execute_result"
    }
   ],
   "source": [
    "id(el2) == id(el)"
   ]
  },
  {
   "cell_type": "markdown",
   "id": "b78c5b5e",
   "metadata": {},
   "source": [
    "### Summary\n",
    "\n",
    "To define some object, you first have to write a **class**. The class\n",
    "will define the methods and the attributes of the object.\n",
    "\n",
    "**method**  \n",
    "particular kind of function associated with an object used to get\n",
    "information about the object or to manipulate it.\n",
    "\n",
    "**attribute**  \n",
    "variable where information about the object is stored.\n",
    "\n",
    "### An example: glass of beverage in a restaurant\n",
    "\n",
    "Let's write a small class about glasses in a restaurant:"
   ]
  },
  {
   "cell_type": "code",
   "execution_count": null,
   "id": "efc2f0ba",
   "metadata": {},
   "outputs": [],
   "source": [
    "class Glass():\n",
    "    def __init__(self, size):\n",
    "        assert size > 0\n",
    "        self._size = float(size)  # an attribute\n",
    "        self._content = float(0.0)  # another attribute\n",
    "    def __repr__(self):\n",
    "        if self._content == 0.0:\n",
    "            return \"An empty glass of size %s\"%(self._size)\n",
    "        else:\n",
    "            return \"A glass of size %s cl containing %s cl of water\"%(\n",
    "                    self._size, self._content)\n",
    "    def fill(self):\n",
    "        self._content = self._size\n",
    "    def empty(self):\n",
    "        self._content = float(0.0)"
   ]
  },
  {
   "cell_type": "markdown",
   "id": "e3b333c2",
   "metadata": {},
   "source": [
    "Let's create a small glass:"
   ]
  },
  {
   "cell_type": "code",
   "execution_count": null,
   "id": "9cfc13c1",
   "metadata": {},
   "outputs": [
    {
     "data": {
      "text/plain": [
       "An empty glass of size 10.0"
      ]
     },
     "execution_count": 1,
     "metadata": {},
     "output_type": "execute_result"
    }
   ],
   "source": [
    "myGlass = Glass(10); myGlass"
   ]
  },
  {
   "cell_type": "code",
   "execution_count": null,
   "id": "3aefaa0b",
   "metadata": {},
   "outputs": [
    {
     "data": {
      "text/plain": [
       "A glass of size 10.0 cl containing 10.0 cl of water"
      ]
     },
     "execution_count": 1,
     "metadata": {},
     "output_type": "execute_result"
    }
   ],
   "source": [
    "myGlass.fill(); myGlass"
   ]
  },
  {
   "cell_type": "code",
   "execution_count": null,
   "id": "47371876",
   "metadata": {},
   "outputs": [
    {
     "data": {
      "text/plain": [
       "An empty glass of size 10.0"
      ]
     },
     "execution_count": 1,
     "metadata": {},
     "output_type": "execute_result"
    }
   ],
   "source": [
    "myGlass.empty(); myGlass"
   ]
  },
  {
   "cell_type": "markdown",
   "id": "f3cedf77",
   "metadata": {},
   "source": [
    "Some comments:\n",
    "\n",
    "1.  The definition of the class `Glass` defines two attributes, `_size`\n",
    "    and `_content`. It defines four methods, `__init__`, `__repr__`,\n",
    "    `fill`, and `empty`. (Any instance of this class will also have\n",
    "    other attributes and methods, inherited from the class `object`. See\n",
    "    [Inheritance](inheritance.ipynb) below.)\n",
    "2.  The method `__init__` is used to initialize the object: it is used\n",
    "    by the so-called **constructor** of the class that is executed when\n",
    "    calling `Glass(10)`.\n",
    "3.  The method `__repr__` returns a string which is used to print the\n",
    "    object, for example in this case when evaluating `myGlass`.\n",
    "\n",
    "Note\n",
    "\n",
    "**Private Attributes**\n",
    "\n",
    "-   Most of the time, in order to ensure consistency of the data\n",
    "    structures, the user is not supposed to directly change certain\n",
    "    attributes of an object. Those attributes are called **private**.\n",
    "    Since there is no mechanism to ensure privacy in Python, the\n",
    "    convention is the following: private attributes have names beginning\n",
    "    with an underscore.\n",
    "-   As a consequence, attribute access is only made through methods.\n",
    "    Methods for reading or writing a private attribute are called\n",
    "    accessors.\n",
    "-   Methods which are only for internal use are also prefixed with an\n",
    "    underscore.\n",
    "\n",
    "### Exercises\n",
    "\n",
    "1.  Add a method `is_empty` which returns true if a glass is empty.\n",
    "2.  Define a method `drink` with a parameter `amount` which allows one\n",
    "    to partially drink the water in the glass. Raise an error if one\n",
    "    asks to drink more water than there is in the glass or a negative\n",
    "    amount of water.\n",
    "3.  Allows the glass to be filled with wine, beer or another beverage.\n",
    "    The method `fill` should accept a parameter `beverage`. The beverage\n",
    "    is stored in an attribute `_beverage`. Update the method `__repr__`\n",
    "    accordingly.\n",
    "4.  Add an attribute `_clean` and methods `is_clean` and `wash`. At the\n",
    "    creation a glass is clean, as soon as it's filled it becomes dirty,\n",
    "    and it must be washed to become clean again.\n",
    "5.  Test everything.\n",
    "6.  Make sure that everything is tested.\n",
    "7.  Test everything again.\n",
    "\n",
    "## Inheritance\n",
    "\n",
    "The problem: objects of **different** classes may share a **common\n",
    "behavior**.\n",
    "\n",
    "For example, if one wants to deal with different dishes (forks, spoons,\n",
    "...), then there is common behavior (becoming dirty and being washed).\n",
    "So the different classes associated to the different kinds of dishes\n",
    "should have the same `clean`, `is_clean` and `wash` methods. But copying\n",
    "and pasting code is very bad for maintenance: mistakes are copied, and\n",
    "to change anything one has to remember the location of all the copies.\n",
    "So there is a need for a mechanism which allows the programmer to\n",
    "factorize the common behavior. It is called **inheritance** or\n",
    "**sub-classing**: one writes a base class which factorizes the common\n",
    "behavior and then reuses the methods from this class.\n",
    "\n",
    "We first write a small class ''AbstractDish'' which implements the\n",
    "\"clean-dirty-wash\" behavior:"
   ]
  },
  {
   "cell_type": "code",
   "execution_count": null,
   "id": "80dadf68",
   "metadata": {},
   "outputs": [],
   "source": [
    "class AbstractDish():\n",
    "    def __init__(self):\n",
    "        self._clean = True\n",
    "    def is_clean(self):\n",
    "        return self._clean\n",
    "    def state(self):\n",
    "        return \"clean\" if self.is_clean() else \"dirty\"\n",
    "    def __repr__(self):\n",
    "        return \"An unspecified %s dish\"%self.state()\n",
    "    def _make_dirty(self):\n",
    "        self._clean = False\n",
    "    def wash(self):\n",
    "        self._clean = True"
   ]
  },
  {
   "cell_type": "markdown",
   "id": "2c688bcc",
   "metadata": {},
   "source": [
    "Now one can reuse this behavior within a class `Spoon` :"
   ]
  },
  {
   "cell_type": "code",
   "execution_count": null,
   "id": "4562dc77",
   "metadata": {},
   "outputs": [],
   "source": [
    "class Spoon(AbstractDish):  # Spoon inherits from AbstractDish\n",
    "    def __repr__(self):\n",
    "        return \"A %s spoon\"%self.state()\n",
    "    def eat_with(self):\n",
    "        self._make_dirty()"
   ]
  },
  {
   "cell_type": "markdown",
   "id": "52f4c00c",
   "metadata": {},
   "source": [
    "Let's test it:"
   ]
  },
  {
   "cell_type": "code",
   "execution_count": null,
   "id": "b412211b",
   "metadata": {},
   "outputs": [
    {
     "data": {
      "text/plain": [
       "A clean spoon"
      ]
     },
     "execution_count": 1,
     "metadata": {},
     "output_type": "execute_result"
    }
   ],
   "source": [
    "s = Spoon(); s"
   ]
  },
  {
   "cell_type": "code",
   "execution_count": null,
   "id": "30cae712",
   "metadata": {},
   "outputs": [
    {
     "data": {
      "text/plain": [
       "True"
      ]
     },
     "execution_count": 1,
     "metadata": {},
     "output_type": "execute_result"
    }
   ],
   "source": [
    "s.is_clean()"
   ]
  },
  {
   "cell_type": "code",
   "execution_count": null,
   "id": "81ca73f3",
   "metadata": {},
   "outputs": [
    {
     "data": {
      "text/plain": [
       "A dirty spoon"
      ]
     },
     "execution_count": 1,
     "metadata": {},
     "output_type": "execute_result"
    }
   ],
   "source": [
    "s.eat_with(); s"
   ]
  },
  {
   "cell_type": "code",
   "execution_count": null,
   "id": "97adc29b",
   "metadata": {},
   "outputs": [
    {
     "data": {
      "text/plain": [
       "False"
      ]
     },
     "execution_count": 1,
     "metadata": {},
     "output_type": "execute_result"
    }
   ],
   "source": [
    "s.is_clean()"
   ]
  },
  {
   "cell_type": "code",
   "execution_count": null,
   "id": "5f817bd4",
   "metadata": {},
   "outputs": [
    {
     "data": {
      "text/plain": [
       "A clean spoon"
      ]
     },
     "execution_count": 1,
     "metadata": {},
     "output_type": "execute_result"
    }
   ],
   "source": [
    "s.wash(); s"
   ]
  },
  {
   "cell_type": "markdown",
   "id": "ea26f24b",
   "metadata": {},
   "source": [
    "### Summary\n",
    "\n",
    "1.  Any class can reuse the behavior of another class. One says that the\n",
    "    subclass **inherits** from the superclass or that it **derives**\n",
    "    from it.\n",
    "\n",
    "2.  Any instance of the subclass is also an instance of its superclass:"
   ]
  },
  {
   "cell_type": "code",
   "execution_count": null,
   "id": "3b67d853",
   "metadata": {},
   "outputs": [
    {
     "data": {
      "text/plain": [
       "<class '__main__.Spoon'>"
      ]
     },
     "execution_count": 1,
     "metadata": {},
     "output_type": "execute_result"
    }
   ],
   "source": [
    "    type(s)"
   ]
  },
  {
   "cell_type": "code",
   "execution_count": null,
   "id": "28f254b1",
   "metadata": {},
   "outputs": [
    {
     "data": {
      "text/plain": [
       "True"
      ]
     },
     "execution_count": 1,
     "metadata": {},
     "output_type": "execute_result"
    }
   ],
   "source": [
    "    isinstance(s, Spoon)"
   ]
  },
  {
   "cell_type": "code",
   "execution_count": null,
   "id": "0badcab5",
   "metadata": {},
   "outputs": [
    {
     "data": {
      "text/plain": [
       "True"
      ]
     },
     "execution_count": 1,
     "metadata": {},
     "output_type": "execute_result"
    }
   ],
   "source": [
    "    isinstance(s, AbstractDish)"
   ]
  },
  {
   "cell_type": "markdown",
   "id": "50fafd83",
   "metadata": {},
   "source": [
    "3.  If a subclass redefines a method, then it replaces the former one.\n",
    "    One says that the subclass **overloads** the method. One can\n",
    "    nevertheless explicitly call the hidden superclass method."
   ]
  },
  {
   "cell_type": "code",
   "execution_count": null,
   "id": "faf26d3a",
   "metadata": {},
   "outputs": [
    {
     "data": {
      "text/plain": [
       "'A clean spoon'"
      ]
     },
     "execution_count": 1,
     "metadata": {},
     "output_type": "execute_result"
    }
   ],
   "source": [
    "    s.__repr__()"
   ]
  },
  {
   "cell_type": "code",
   "execution_count": null,
   "id": "bda243e4",
   "metadata": {},
   "outputs": [
    {
     "data": {
      "text/plain": [
       "'A clean spoon'"
      ]
     },
     "execution_count": 1,
     "metadata": {},
     "output_type": "execute_result"
    }
   ],
   "source": [
    "    Spoon.__repr__(s)"
   ]
  },
  {
   "cell_type": "code",
   "execution_count": null,
   "id": "63a47d65",
   "metadata": {},
   "outputs": [
    {
     "data": {
      "text/plain": [
       "'An unspecified clean dish'"
      ]
     },
     "execution_count": 1,
     "metadata": {},
     "output_type": "execute_result"
    }
   ],
   "source": [
    "    AbstractDish.__repr__(s)"
   ]
  },
  {
   "cell_type": "markdown",
   "id": "9d206956",
   "metadata": {},
   "source": [
    "Note\n",
    "\n",
    "**Advanced superclass method call**\n",
    "\n",
    "Sometimes one wants to call an overloaded method without knowing in\n",
    "which class it is defined. To do this, use the `super` operator:"
   ]
  },
  {
   "cell_type": "code",
   "execution_count": null,
   "id": "e8db0ddd",
   "metadata": {},
   "outputs": [
    {
     "data": {
      "text/plain": [
       "'An unspecified clean dish'"
      ]
     },
     "execution_count": 1,
     "metadata": {},
     "output_type": "execute_result"
    }
   ],
   "source": [
    "super(Spoon, s).__repr__()"
   ]
  },
  {
   "cell_type": "markdown",
   "id": "aabd87ce",
   "metadata": {},
   "source": [
    "A very common usage of this construct is to call the `__init__` method\n",
    "of the superclass:"
   ]
  },
  {
   "cell_type": "code",
   "execution_count": null,
   "id": "763f06c1",
   "metadata": {},
   "outputs": [
    {
     "data": {
      "text/plain": [
       "Building a spoon"
      ]
     },
     "execution_count": 1,
     "metadata": {},
     "output_type": "execute_result"
    }
   ],
   "source": [
    "class Spoon(AbstractDish):\n",
    "    def __init__(self):\n",
    "        print(\"Building a spoon\")\n",
    "        super(Spoon, self).__init__()\n",
    "    def __repr__(self):\n",
    "        return \"A %s spoon\"%self.state()\n",
    "    def eat_with(self):\n",
    "        self._make_dirty()\n",
    "s = Spoon()"
   ]
  },
  {
   "cell_type": "code",
   "execution_count": null,
   "id": "f2659624",
   "metadata": {},
   "outputs": [
    {
     "data": {
      "text/plain": [
       "A clean spoon"
      ]
     },
     "execution_count": 1,
     "metadata": {},
     "output_type": "execute_result"
    }
   ],
   "source": [
    "s"
   ]
  },
  {
   "cell_type": "markdown",
   "id": "2ce719d9",
   "metadata": {},
   "source": [
    "### Exercises\n",
    "\n",
    "1.  Modify the class `Glasses` so that it inherits from `Dish`.\n",
    "2.  Write a class `Plate` whose instance can contain any meal together\n",
    "    with a class `Fork`. Avoid as much as possible code duplication\n",
    "    (hint: you can write a factorized class `ContainerDish`).\n",
    "3.  Test everything.\n",
    "\n",
    "## Sage specifics about classes\n",
    "\n",
    "Compared to Python, Sage has particular ways to handle objects:\n",
    "\n",
    "-   Any classes for mathematical objects in Sage should inherit from\n",
    "    `SageObject` rather than from `object`. Most of the time, they\n",
    "    actually inherit from a subclass such as `Parent` or `Element`.\n",
    "-   Printing should be done through `_repr_` instead of `__repr__` to\n",
    "    allow for renaming.\n",
    "-   More generally, Sage-specific special methods are usually named\n",
    "    `_meth_` rather than `__meth__`. For example, lots of classes\n",
    "    implement `_hash_` which is used and cached by `__hash__`. In the\n",
    "    same vein, elements of a group usually implement `_mul_`, so that\n",
    "    there is no need to take care about coercions as they are done in\n",
    "    `__mul__`.\n",
    "\n",
    "For more details, see the Sage Developer's Guide.\n",
    "\n",
    "## Solutions to the exercises\n",
    "\n",
    "1.  Here is a solution to the first exercise:"
   ]
  },
  {
   "cell_type": "code",
   "execution_count": null,
   "id": "ff232c98",
   "metadata": {},
   "outputs": [],
   "source": [
    "    class Glass():\n",
    "        def __init__(self, size):\n",
    "            assert size > 0\n",
    "            self._size = float(size)\n",
    "            self.wash()\n",
    "        def __repr__(self):\n",
    "            if self._content == 0.0:\n",
    "                return \"An empty glass of size %s\"%(self._size)\n",
    "            else:\n",
    "                return \"A glass of size %s cl containing %s cl of %s\"%(\n",
    "                        self._size, self._content, self._beverage)\n",
    "        def content(self):\n",
    "            return self._content\n",
    "        def beverage(self):\n",
    "            return self._beverage\n",
    "        def fill(self, beverage = \"water\"):\n",
    "            if not self.is_clean():\n",
    "                raise ValueError(\"Don't want to fill a dirty glass\")\n",
    "            self._clean = False\n",
    "            self._content = self._size\n",
    "            self._beverage = beverage\n",
    "        def empty(self):\n",
    "            self._content = float(0.0)\n",
    "        def is_empty(self):\n",
    "            return self._content == 0.0\n",
    "        def drink(self, amount):\n",
    "            if amount <= 0.0:\n",
    "                raise ValueError(\"amount must be positive\")\n",
    "            elif amount > self._content:\n",
    "                raise ValueError(\"not enough beverage in the glass\")\n",
    "            else:\n",
    "                self._content -= float(amount)\n",
    "        def is_clean(self):\n",
    "            return self._clean\n",
    "        def wash(self):\n",
    "            self._content = float(0.0)\n",
    "            self._beverage = None\n",
    "            self._clean = True"
   ]
  },
  {
   "cell_type": "markdown",
   "id": "0981adf7",
   "metadata": {},
   "source": [
    "2.  Let's check that everything is working as expected:"
   ]
  },
  {
   "cell_type": "code",
   "execution_count": null,
   "id": "2ad7340f",
   "metadata": {},
   "outputs": [
    {
     "data": {
      "text/plain": [
       "An empty glass of size 10.0"
      ]
     },
     "execution_count": 1,
     "metadata": {},
     "output_type": "execute_result"
    }
   ],
   "source": [
    "    G = Glass(10.0)\n",
    "    G"
   ]
  },
  {
   "cell_type": "code",
   "execution_count": null,
   "id": "abeeac29",
   "metadata": {},
   "outputs": [
    {
     "data": {
      "text/plain": [
       "True"
      ]
     },
     "execution_count": 1,
     "metadata": {},
     "output_type": "execute_result"
    }
   ],
   "source": [
    "    G.is_empty()"
   ]
  },
  {
   "cell_type": "code",
   "execution_count": null,
   "id": "0eeed03c",
   "metadata": {},
   "outputs": [
    {
     "data": {
      "text/plain": [
       "Traceback (most recent call last):\n",
       "...\n",
       "ValueError: not enough beverage in the glass"
      ]
     },
     "execution_count": 1,
     "metadata": {},
     "output_type": "execute_result"
    }
   ],
   "source": [
    "    G.drink(2)"
   ]
  },
  {
   "cell_type": "code",
   "execution_count": null,
   "id": "424dff61",
   "metadata": {},
   "outputs": [
    {
     "data": {
      "text/plain": [
       "A glass of size 10.0 cl containing 10.0 cl of beer"
      ]
     },
     "execution_count": 1,
     "metadata": {},
     "output_type": "execute_result"
    }
   ],
   "source": [
    "    G.fill(\"beer\")\n",
    "    G"
   ]
  },
  {
   "cell_type": "code",
   "execution_count": null,
   "id": "df745d52",
   "metadata": {},
   "outputs": [
    {
     "data": {
      "text/plain": [
       "False"
      ]
     },
     "execution_count": 1,
     "metadata": {},
     "output_type": "execute_result"
    }
   ],
   "source": [
    "    G.is_empty()"
   ]
  },
  {
   "cell_type": "code",
   "execution_count": null,
   "id": "8c896724",
   "metadata": {},
   "outputs": [
    {
     "data": {
      "text/plain": [
       "False"
      ]
     },
     "execution_count": 1,
     "metadata": {},
     "output_type": "execute_result"
    }
   ],
   "source": [
    "    G.is_clean()"
   ]
  },
  {
   "cell_type": "code",
   "execution_count": null,
   "id": "6e34d7f8",
   "metadata": {},
   "outputs": [
    {
     "data": {
      "text/plain": [
       "A glass of size 10.0 cl containing 5.0 cl of beer"
      ]
     },
     "execution_count": 1,
     "metadata": {},
     "output_type": "execute_result"
    }
   ],
   "source": [
    "    G.drink(5.0)\n",
    "    G"
   ]
  },
  {
   "cell_type": "code",
   "execution_count": null,
   "id": "036a7bf3",
   "metadata": {},
   "outputs": [
    {
     "data": {
      "text/plain": [
       "False"
      ]
     },
     "execution_count": 1,
     "metadata": {},
     "output_type": "execute_result"
    }
   ],
   "source": [
    "    G.is_empty()"
   ]
  },
  {
   "cell_type": "code",
   "execution_count": null,
   "id": "dcaba32a",
   "metadata": {},
   "outputs": [
    {
     "data": {
      "text/plain": [
       "False"
      ]
     },
     "execution_count": 1,
     "metadata": {},
     "output_type": "execute_result"
    }
   ],
   "source": [
    "    G.is_clean()"
   ]
  },
  {
   "cell_type": "code",
   "execution_count": null,
   "id": "07e46aa2",
   "metadata": {},
   "outputs": [
    {
     "data": {
      "text/plain": [
       "An empty glass of size 10.0"
      ]
     },
     "execution_count": 1,
     "metadata": {},
     "output_type": "execute_result"
    }
   ],
   "source": [
    "    G.drink(5)\n",
    "    G"
   ]
  },
  {
   "cell_type": "code",
   "execution_count": null,
   "id": "e04bca15",
   "metadata": {},
   "outputs": [
    {
     "data": {
      "text/plain": [
       "False"
      ]
     },
     "execution_count": 1,
     "metadata": {},
     "output_type": "execute_result"
    }
   ],
   "source": [
    "    G.is_clean()"
   ]
  },
  {
   "cell_type": "code",
   "execution_count": null,
   "id": "82abb67d",
   "metadata": {},
   "outputs": [
    {
     "data": {
      "text/plain": [
       "Traceback (most recent call last):\n",
       "...\n",
       "ValueError: Don't want to fill a dirty glass"
      ]
     },
     "execution_count": 1,
     "metadata": {},
     "output_type": "execute_result"
    }
   ],
   "source": [
    "    G.fill(\"orange juice\")"
   ]
  },
  {
   "cell_type": "code",
   "execution_count": null,
   "id": "b07c1da4",
   "metadata": {},
   "outputs": [
    {
     "data": {
      "text/plain": [
       "An empty glass of size 10.0"
      ]
     },
     "execution_count": 1,
     "metadata": {},
     "output_type": "execute_result"
    }
   ],
   "source": [
    "    G.wash()\n",
    "    G"
   ]
  },
  {
   "cell_type": "code",
   "execution_count": null,
   "id": "1e01e3e0",
   "metadata": {},
   "outputs": [
    {
     "data": {
      "text/plain": [
       "A glass of size 10.0 cl containing 10.0 cl of orange juice"
      ]
     },
     "execution_count": 1,
     "metadata": {},
     "output_type": "execute_result"
    }
   ],
   "source": [
    "    G.fill(\"orange juice\")\n",
    "    G"
   ]
  },
  {
   "cell_type": "markdown",
   "id": "3f719f02",
   "metadata": {},
   "source": [
    "3.  Here is the solution to the second exercice:"
   ]
  },
  {
   "cell_type": "code",
   "execution_count": null,
   "id": "67122d92",
   "metadata": {},
   "outputs": [],
   "source": [
    "    class AbstractDish():\n",
    "        def __init__(self):\n",
    "            self._clean = True\n",
    "        def is_clean(self):\n",
    "            return self._clean\n",
    "        def state(self):\n",
    "            return \"clean\" if self.is_clean() else \"dirty\"\n",
    "        def __repr__(self):\n",
    "            return \"An unspecified %s dish\"%self.state()\n",
    "        def _make_dirty(self):\n",
    "            self._clean = False\n",
    "        def wash(self):\n",
    "            self._clean = True"
   ]
  },
  {
   "cell_type": "code",
   "execution_count": null,
   "id": "1fce876b",
   "metadata": {},
   "outputs": [],
   "source": [
    "```\n",
    "```{.python .input}\n",
    "    class ContainerDish(AbstractDish):\n",
    "        def __init__(self, size):\n",
    "            assert size > 0\n",
    "            self._size = float(size)\n",
    "            self._content = float(0)\n",
    "            super(ContainerDish, self).__init__()\n",
    "        def content(self):\n",
    "            return self._content\n",
    "        def empty(self):\n",
    "            self._content = float(0.0)\n",
    "        def is_empty(self):\n",
    "            return self._content == 0.0\n",
    "        def wash(self):\n",
    "            self._content = float(0.0)\n",
    "            super(ContainerDish, self).wash()"
   ]
  },
  {
   "cell_type": "code",
   "execution_count": null,
   "id": "1261bf64",
   "metadata": {},
   "outputs": [],
   "source": [
    "```\n",
    "```{.python .input}\n",
    "    class Glass(ContainerDish):\n",
    "        def __repr__(self):\n",
    "            if self._content == 0.0:\n",
    "                return \"An empty glass of size %s\"%(self._size)\n",
    "            else:\n",
    "                return \"A glass of size %s cl containing %s cl of %s\"%(\n",
    "                        self._size, self._content, self._beverage)\n",
    "        def beverage(self):\n",
    "            return self._beverage\n",
    "        def fill(self, beverage = \"water\"):\n",
    "            if not self.is_clean():\n",
    "                raise ValueError(\"Don't want to fill a dirty glass\")\n",
    "            self._make_dirty()\n",
    "            self._content = self._size\n",
    "            self._beverage = beverage\n",
    "        def drink(self, amount):\n",
    "            if amount <= 0.0:\n",
    "                raise ValueError(\"amount must be positive\")\n",
    "            elif amount > self._content:\n",
    "                raise ValueError(\"not enough beverage in the glass\")\n",
    "            else:\n",
    "                self._content -= float(amount)\n",
    "        def wash(self):\n",
    "            self._beverage = None\n",
    "            super(Glass, self).wash()"
   ]
  },
  {
   "cell_type": "markdown",
   "id": "74e3a59a",
   "metadata": {},
   "source": [
    "4.  Let's check that everything is working as expected:"
   ]
  },
  {
   "cell_type": "code",
   "execution_count": null,
   "id": "5236b3f7",
   "metadata": {},
   "outputs": [
    {
     "data": {
      "text/plain": [
       "An empty glass of size 10.0"
      ]
     },
     "execution_count": 1,
     "metadata": {},
     "output_type": "execute_result"
    }
   ],
   "source": [
    "    G = Glass(10.0)\n",
    "    G"
   ]
  },
  {
   "cell_type": "code",
   "execution_count": null,
   "id": "6a1372f8",
   "metadata": {},
   "outputs": [
    {
     "data": {
      "text/plain": [
       "True"
      ]
     },
     "execution_count": 1,
     "metadata": {},
     "output_type": "execute_result"
    }
   ],
   "source": [
    "    G.is_empty()"
   ]
  },
  {
   "cell_type": "code",
   "execution_count": null,
   "id": "7840482f",
   "metadata": {},
   "outputs": [
    {
     "data": {
      "text/plain": [
       "Traceback (most recent call last):\n",
       "...\n",
       "ValueError: not enough beverage in the glass"
      ]
     },
     "execution_count": 1,
     "metadata": {},
     "output_type": "execute_result"
    }
   ],
   "source": [
    "    G.drink(2)"
   ]
  },
  {
   "cell_type": "code",
   "execution_count": null,
   "id": "1908d8e8",
   "metadata": {},
   "outputs": [
    {
     "data": {
      "text/plain": [
       "A glass of size 10.0 cl containing 10.0 cl of beer"
      ]
     },
     "execution_count": 1,
     "metadata": {},
     "output_type": "execute_result"
    }
   ],
   "source": [
    "    G.fill(\"beer\")\n",
    "    G"
   ]
  },
  {
   "cell_type": "code",
   "execution_count": null,
   "id": "8d5bff12",
   "metadata": {},
   "outputs": [
    {
     "data": {
      "text/plain": [
       "False"
      ]
     },
     "execution_count": 1,
     "metadata": {},
     "output_type": "execute_result"
    }
   ],
   "source": [
    "    G.is_empty()"
   ]
  },
  {
   "cell_type": "code",
   "execution_count": null,
   "id": "dacc5ab9",
   "metadata": {},
   "outputs": [
    {
     "data": {
      "text/plain": [
       "False"
      ]
     },
     "execution_count": 1,
     "metadata": {},
     "output_type": "execute_result"
    }
   ],
   "source": [
    "    G.is_clean()"
   ]
  },
  {
   "cell_type": "code",
   "execution_count": null,
   "id": "c6b33047",
   "metadata": {},
   "outputs": [
    {
     "data": {
      "text/plain": [
       "A glass of size 10.0 cl containing 5.0 cl of beer"
      ]
     },
     "execution_count": 1,
     "metadata": {},
     "output_type": "execute_result"
    }
   ],
   "source": [
    "    G.drink(5.0)\n",
    "    G"
   ]
  },
  {
   "cell_type": "code",
   "execution_count": null,
   "id": "98f03a21",
   "metadata": {},
   "outputs": [
    {
     "data": {
      "text/plain": [
       "False"
      ]
     },
     "execution_count": 1,
     "metadata": {},
     "output_type": "execute_result"
    }
   ],
   "source": [
    "    G.is_empty()"
   ]
  },
  {
   "cell_type": "code",
   "execution_count": null,
   "id": "2b0d8b0b",
   "metadata": {},
   "outputs": [
    {
     "data": {
      "text/plain": [
       "False"
      ]
     },
     "execution_count": 1,
     "metadata": {},
     "output_type": "execute_result"
    }
   ],
   "source": [
    "    G.is_clean()"
   ]
  },
  {
   "cell_type": "code",
   "execution_count": null,
   "id": "7c531e6f",
   "metadata": {},
   "outputs": [
    {
     "data": {
      "text/plain": [
       "An empty glass of size 10.0"
      ]
     },
     "execution_count": 1,
     "metadata": {},
     "output_type": "execute_result"
    }
   ],
   "source": [
    "    G.drink(5)\n",
    "    G"
   ]
  },
  {
   "cell_type": "code",
   "execution_count": null,
   "id": "4828da7b",
   "metadata": {},
   "outputs": [
    {
     "data": {
      "text/plain": [
       "False"
      ]
     },
     "execution_count": 1,
     "metadata": {},
     "output_type": "execute_result"
    }
   ],
   "source": [
    "    G.is_clean()"
   ]
  },
  {
   "cell_type": "code",
   "execution_count": null,
   "id": "5c9db007",
   "metadata": {},
   "outputs": [
    {
     "data": {
      "text/plain": [
       "Traceback (most recent call last):\n",
       "...\n",
       "ValueError: Don't want to fill a dirty glass"
      ]
     },
     "execution_count": 1,
     "metadata": {},
     "output_type": "execute_result"
    }
   ],
   "source": [
    "    G.fill(\"orange juice\")"
   ]
  },
  {
   "cell_type": "code",
   "execution_count": null,
   "id": "703b4557",
   "metadata": {},
   "outputs": [
    {
     "data": {
      "text/plain": [
       "An empty glass of size 10.0"
      ]
     },
     "execution_count": 1,
     "metadata": {},
     "output_type": "execute_result"
    }
   ],
   "source": [
    "    G.wash()\n",
    "    G"
   ]
  },
  {
   "cell_type": "code",
   "execution_count": null,
   "id": "f6cfc69e",
   "metadata": {},
   "outputs": [
    {
     "data": {
      "text/plain": [
       "A glass of size 10.0 cl containing 10.0 cl of orange juice"
      ]
     },
     "execution_count": 1,
     "metadata": {},
     "output_type": "execute_result"
    }
   ],
   "source": [
    "    G.fill(\"orange juice\")\n",
    "    G"
   ]
  },
  {
   "cell_type": "markdown",
   "id": "f3564145",
   "metadata": {},
   "source": [
    "give the example of the class `Plate`.\n",
    "\n",
    "That all folks !"
   ]
  }
 ],
 "metadata": {},
 "nbformat": 4,
 "nbformat_minor": 5
}
