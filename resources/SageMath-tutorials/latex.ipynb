{
 "cells": [
  {
   "cell_type": "markdown",
   "id": "766abfda",
   "metadata": {},
   "source": [
    "$$\n",
    "\\def\\CC{\\bf C}\n",
    "\\def\\QQ{\\bf Q}\n",
    "\\def\\RR{\\bf R}\n",
    "\\def\\ZZ{\\bf Z}\n",
    "\\def\\NN{\\bf N}\n",
    "$$\n",
    "# Sage, LaTeX and Friends\n",
    "\n",
    "Sage and the LaTeX dialect of TeX have an intensely synergistic\n",
    "relationship. This section aims to introduce the variety of\n",
    "interactions, beginning with the most basic and proceeding to the more\n",
    "unusual.\n",
    "\n",
    "## Overview\n",
    "\n",
    "It may be easiest to understand the various uses of LaTeX with a brief\n",
    "overview of the mechanics of the three principal methods employed by\n",
    "Sage.\n",
    "\n",
    "> 1.  Every \"object\" in Sage is required to have a LaTeX representation.\n",
    ">     You can access this representation by executing `latex(foo)` where\n",
    ">     `foo` is some object in Sage. The output is a string that should\n",
    ">     render a reasonably accurate representation of `foo` when used in\n",
    ">     TeX's math-mode (for example, when enclosed between a pair of\n",
    ">     single dollar signs). Some examples of this follow below.\n",
    ">\n",
    ">     In this way, Sage can be used effectively for constructing\n",
    ">     portions of a LaTeX document: create or compute an object in Sage,\n",
    ">     print `latex()` of the object and cut/paste it into your document.\n",
    ">\n",
    "> 2.  The Jupyter notebook interface uses\n",
    ">     [MathJax](http://www.mathjax.org) to render mathematics cleanly in\n",
    ">     a web browser. You can start this automatic rendering by executing\n",
    ">     `%display latex` (and stop by executing `%display plain`).\n",
    ">\n",
    ">     MathJax is an open source JavaScript display engine for\n",
    ">     mathematics that works in all modern browsers. It is able to\n",
    ">     render a large, but not totally complete, subset of TeX. It has no\n",
    ">     support for things like complicated tables, sectioning or document\n",
    ">     management, as it is oriented towards accurately rendering\n",
    ">     \"snippets\" of TeX. Seemingly automatic rendering of math in the\n",
    ">     notebook is provided by converting the `latex()` representation of\n",
    ">     an object (as described above) into a form of HTML palatable to\n",
    ">     MathJax.\n",
    ">\n",
    "> 3.  A system-wide installation of LaTeX can be employed. Sage includes\n",
    ">     almost everything you need to build and use Sage, but a\n",
    ">     significant exception is TeX itself. So in these situations you\n",
    ">     need to have TeX installed, along with some associated conversion\n",
    ">     utilities, to utilize the full power.\n",
    "\n",
    "Here we demonstrate some basic uses of the `latex()` function. :"
   ]
  },
  {
   "cell_type": "code",
   "execution_count": null,
   "id": "ee758999",
   "metadata": {},
   "outputs": [
    {
     "data": {
      "text/plain": [
       "z"
      ]
     },
     "execution_count": 1,
     "metadata": {},
     "output_type": "execute_result"
    }
   ],
   "source": [
    "var('z')"
   ]
  },
  {
   "cell_type": "code",
   "execution_count": null,
   "id": "76da12e7",
   "metadata": {},
   "outputs": [
    {
     "data": {
      "text/plain": [
       "z^{12}"
      ]
     },
     "execution_count": 1,
     "metadata": {},
     "output_type": "execute_result"
    }
   ],
   "source": [
    "latex(z^12)"
   ]
  },
  {
   "cell_type": "code",
   "execution_count": null,
   "id": "2af3b006",
   "metadata": {},
   "outputs": [
    {
     "data": {
      "text/plain": [
       "\\frac{1}{5} \\, z^{5}"
      ]
     },
     "execution_count": 1,
     "metadata": {},
     "output_type": "execute_result"
    }
   ],
   "source": [
    "latex(integrate(z^4, z))"
   ]
  },
  {
   "cell_type": "code",
   "execution_count": null,
   "id": "3249f96f",
   "metadata": {},
   "outputs": [
    {
     "data": {
      "text/plain": [
       "\\text{\\texttt{a{ }string}}"
      ]
     },
     "execution_count": 1,
     "metadata": {},
     "output_type": "execute_result"
    }
   ],
   "source": [
    "latex('a string')"
   ]
  },
  {
   "cell_type": "code",
   "execution_count": null,
   "id": "fe38660b",
   "metadata": {},
   "outputs": [
    {
     "data": {
      "text/plain": [
       "\\Bold{Q}"
      ]
     },
     "execution_count": 1,
     "metadata": {},
     "output_type": "execute_result"
    }
   ],
   "source": [
    "latex(QQ)"
   ]
  },
  {
   "cell_type": "code",
   "execution_count": null,
   "id": "210cdad3",
   "metadata": {},
   "outputs": [
    {
     "data": {
      "text/plain": [
       "\\left(\\begin{array}{rrr}\n",
       "2 & 4 & 6 \\\\\n",
       "-1 & -1 & -1\n",
       "\\end{array}\\right)"
      ]
     },
     "execution_count": 1,
     "metadata": {},
     "output_type": "execute_result"
    }
   ],
   "source": [
    "latex(matrix(QQ, 2, 3, [[2,4,6],[-1,-1,-1]]))"
   ]
  },
  {
   "cell_type": "markdown",
   "id": "4d0268e7",
   "metadata": {},
   "source": [
    "Basic MathJax functionality is largely automatic in the notebook, but we\n",
    "can partially demonstrate this support with the `MathJax` class. The\n",
    "object of this class converts a Sage object to its LaTeX representation\n",
    "and then wraps it in HTML. :"
   ]
  },
  {
   "cell_type": "code",
   "execution_count": null,
   "id": "028e3966",
   "metadata": {},
   "outputs": [
    {
     "data": {
      "text/plain": [
       "z"
      ]
     },
     "execution_count": 1,
     "metadata": {},
     "output_type": "execute_result"
    }
   ],
   "source": [
    "from sage.misc.html import MathJax\n",
    "mj = MathJax()\n",
    "var('z')"
   ]
  },
  {
   "cell_type": "code",
   "execution_count": null,
   "id": "dff2e6ce",
   "metadata": {},
   "outputs": [
    {
     "data": {
      "text/plain": [
       "<html>\\[z^{12}\\]</html>"
      ]
     },
     "execution_count": 1,
     "metadata": {},
     "output_type": "execute_result"
    }
   ],
   "source": [
    "mj(z^12)"
   ]
  },
  {
   "cell_type": "code",
   "execution_count": null,
   "id": "2daf49a9",
   "metadata": {},
   "outputs": [
    {
     "data": {
      "text/plain": [
       "<html>\\[\\newcommand{\\Bold}[1]{\\mathbf{#1}}\\Bold{Q}\\]</html>"
      ]
     },
     "execution_count": 1,
     "metadata": {},
     "output_type": "execute_result"
    }
   ],
   "source": [
    "mj(QQ)"
   ]
  },
  {
   "cell_type": "code",
   "execution_count": null,
   "id": "2258491f",
   "metadata": {},
   "outputs": [
    {
     "data": {
      "text/plain": [
       "<html>\\[\\newcommand{\\Bold}[1]{\\mathbf{#1}}\\Bold{Z}[x]\\]</html>"
      ]
     },
     "execution_count": 1,
     "metadata": {},
     "output_type": "execute_result"
    }
   ],
   "source": [
    "mj(ZZ['x'])"
   ]
  },
  {
   "cell_type": "code",
   "execution_count": null,
   "id": "26661b54",
   "metadata": {},
   "outputs": [
    {
     "data": {
      "text/plain": [
       "<html>\\[\\frac{1}{5} \\, z^{5}\\]</html>"
      ]
     },
     "execution_count": 1,
     "metadata": {},
     "output_type": "execute_result"
    }
   ],
   "source": [
    "mj(integrate(z^4, z))"
   ]
  },
  {
   "cell_type": "markdown",
   "id": "ef1bfea3",
   "metadata": {},
   "source": [
    "## Basic Use\n",
    "\n",
    "As indicated in the overview, the simplest way to exploit Sage's support\n",
    "of LaTeX is to use the `latex()` function to create legitimate LaTeX\n",
    "code to represent mathematical objects. These strings can then be\n",
    "incorporated into standalone LaTeX documents.\n",
    "\n",
    "At the other extreme is the `view()` command. The command `view(foo)`\n",
    "will create the LaTeX representation of `foo`, incorporate this into a\n",
    "simple LaTeX document, and then process that document with your\n",
    "system-wide TeX installation. Finally, the appropriate viewer will be\n",
    "called to display the output from the TeX command. Which version of TeX\n",
    "is used, and therefore the nature of the output and associated viewer,\n",
    "can be customized (see\n",
    "[sec-custom-processing](sec-custom-processing.ipynb)).\n",
    "\n",
    "## Customizing LaTeX Generation\n",
    "\n",
    "There are several ways to customize the actual LaTeX code generated by\n",
    "the `latex()` command. There is a pre-defined object named `latex` which\n",
    "has several methods, which you can list by typing `latex.`, followed by\n",
    "the `Tab` key (note the period).\n",
    "\n",
    "A good example is the `latex.matrix_delimiters` method. It can be used\n",
    "to change the notation surrounding a matrix -- large parentheses,\n",
    "brackets, braces, vertical bars. No notion of style is enforced, you can\n",
    "mix and match as you please. Notice how the backslashes needed in LaTeX\n",
    "require an extra slash so they are escaped properly within the Python\n",
    "string. :"
   ]
  },
  {
   "cell_type": "code",
   "execution_count": null,
   "id": "6e4b1ee7",
   "metadata": {},
   "outputs": [
    {
     "data": {
      "text/plain": [
       "\\left(\\begin{array}{rr}\n",
       "0 & 1 \\\\\n",
       "2 & 3\n",
       "\\end{array}\\right)"
      ]
     },
     "execution_count": 1,
     "metadata": {},
     "output_type": "execute_result"
    }
   ],
   "source": [
    "A = matrix(ZZ, 2, 2, range(4))\n",
    "latex(A)"
   ]
  },
  {
   "cell_type": "code",
   "execution_count": null,
   "id": "69af2bad",
   "metadata": {},
   "outputs": [
    {
     "data": {
      "text/plain": [
       "\\left[\\begin{array}{rr}\n",
       "0 & 1 \\\\\n",
       "2 & 3\n",
       "\\end{array}\\right]"
      ]
     },
     "execution_count": 1,
     "metadata": {},
     "output_type": "execute_result"
    }
   ],
   "source": [
    "latex.matrix_delimiters(left='[', right=']')\n",
    "latex(A)"
   ]
  },
  {
   "cell_type": "code",
   "execution_count": null,
   "id": "b793222f",
   "metadata": {},
   "outputs": [
    {
     "data": {
      "text/plain": [
       "\\left\\{\\begin{array}{rr}\n",
       "0 & 1 \\\\\n",
       "2 & 3\n",
       "\\end{array}\\right\\}"
      ]
     },
     "execution_count": 1,
     "metadata": {},
     "output_type": "execute_result"
    }
   ],
   "source": [
    "latex.matrix_delimiters(left='\\\\{', right='\\\\}')\n",
    "latex(A)"
   ]
  },
  {
   "cell_type": "markdown",
   "id": "4155bbfa",
   "metadata": {},
   "source": [
    "The `latex.vector_delimiters` method works similarly.\n",
    "\n",
    "The way common rings and fields (integers, rational, reals, etc.) are\n",
    "typeset can be controlled by the `latex.blackboard_bold` method. These\n",
    "sets are by default typeset in bold, but may optionally be written in a\n",
    "double-struck fashion as sometimes done in written work. This is\n",
    "accomplished by redefining the `\\Bold{}` macro which is built-in to\n",
    "Sage. :"
   ]
  },
  {
   "cell_type": "code",
   "execution_count": null,
   "id": "8566a6d2",
   "metadata": {},
   "outputs": [
    {
     "data": {
      "text/plain": [
       "\\Bold{Q}"
      ]
     },
     "execution_count": 1,
     "metadata": {},
     "output_type": "execute_result"
    }
   ],
   "source": [
    "latex(QQ)"
   ]
  },
  {
   "cell_type": "code",
   "execution_count": null,
   "id": "8f9c6c4b",
   "metadata": {},
   "outputs": [
    {
     "data": {
      "text/plain": [
       "<html>\\[\\newcommand{\\Bold}[1]{\\mathbf{#1}}\\Bold{Q}\\]</html>"
      ]
     },
     "execution_count": 1,
     "metadata": {},
     "output_type": "execute_result"
    }
   ],
   "source": [
    "from sage.misc.html import MathJax\n",
    "mj = MathJax()\n",
    "mj(QQ)"
   ]
  },
  {
   "cell_type": "code",
   "execution_count": null,
   "id": "43639c02",
   "metadata": {},
   "outputs": [
    {
     "data": {
      "text/plain": [
       "<html>\\[\\newcommand{\\Bold}[1]{\\mathbb{#1}}\\Bold{Q}\\]</html>"
      ]
     },
     "execution_count": 1,
     "metadata": {},
     "output_type": "execute_result"
    }
   ],
   "source": [
    "latex.blackboard_bold(True)\n",
    "mj(QQ)"
   ]
  },
  {
   "cell_type": "code",
   "execution_count": null,
   "id": "460445b0",
   "metadata": {},
   "outputs": [],
   "source": [
    "latex.blackboard_bold(False)"
   ]
  },
  {
   "cell_type": "markdown",
   "id": "58c968e9",
   "metadata": {},
   "source": [
    "It is possible to take advantage of the extensible nature of TeX by\n",
    "adding in new macros and new packages. First, individual macros can be\n",
    "added so that they are used when MathJax interprets a snippet of TeX in\n",
    "the notebook. :"
   ]
  },
  {
   "cell_type": "code",
   "execution_count": null,
   "id": "77b423f8",
   "metadata": {},
   "outputs": [
    {
     "data": {
      "text/plain": [
       "''"
      ]
     },
     "execution_count": 1,
     "metadata": {},
     "output_type": "execute_result"
    }
   ],
   "source": [
    "latex.extra_macros()"
   ]
  },
  {
   "cell_type": "code",
   "execution_count": null,
   "id": "538a0190",
   "metadata": {},
   "outputs": [
    {
     "data": {
      "text/plain": [
       "'\\\\newcommand{\\\\foo}{bar}'"
      ]
     },
     "execution_count": 1,
     "metadata": {},
     "output_type": "execute_result"
    }
   ],
   "source": [
    "latex.add_macro(\"\\\\newcommand{\\\\foo}{bar}\")\n",
    "latex.extra_macros()"
   ]
  },
  {
   "cell_type": "code",
   "execution_count": null,
   "id": "a7fbaa1d",
   "metadata": {},
   "outputs": [
    {
     "data": {
      "text/plain": [
       "(x, y)"
      ]
     },
     "execution_count": 1,
     "metadata": {},
     "output_type": "execute_result"
    }
   ],
   "source": [
    "var('x y')"
   ]
  },
  {
   "cell_type": "code",
   "execution_count": null,
   "id": "30f74eb5",
   "metadata": {},
   "outputs": [
    {
     "data": {
      "text/plain": [
       "x + y"
      ]
     },
     "execution_count": 1,
     "metadata": {},
     "output_type": "execute_result"
    }
   ],
   "source": [
    "latex(x+y)"
   ]
  },
  {
   "cell_type": "code",
   "execution_count": null,
   "id": "815a1bf0",
   "metadata": {},
   "outputs": [
    {
     "data": {
      "text/plain": [
       "<html>\\[\\newcommand{\\foo}{bar}x + y\\]</html>"
      ]
     },
     "execution_count": 1,
     "metadata": {},
     "output_type": "execute_result"
    }
   ],
   "source": [
    "from sage.misc.html import MathJax\n",
    "mj = MathJax()\n",
    "mj(x+y)"
   ]
  },
  {
   "cell_type": "markdown",
   "id": "2aa6b03a",
   "metadata": {},
   "source": [
    "Additional macros added this way will also be used in the event that the\n",
    "system-wide version of TeX is called on something larger than MathJax\n",
    "can handle. The command `latex_extra_preamble` is used to build the\n",
    "preamble of a complete LaTeX document, so the following illustrates how\n",
    "this is accomplished. As usual note the need for the double-backslashes\n",
    "in the Python strings. :"
   ]
  },
  {
   "cell_type": "code",
   "execution_count": null,
   "id": "23d46a93",
   "metadata": {},
   "outputs": [
    {
     "data": {
      "text/plain": [
       "\\newcommand{\\ZZ}{\\Bold{Z}}\n",
       "...\n",
       "\\newcommand{\\Bold}[1]{\\mathbf{#1}}"
      ]
     },
     "execution_count": 1,
     "metadata": {},
     "output_type": "execute_result"
    }
   ],
   "source": [
    "latex.extra_macros('')\n",
    "latex.extra_preamble('')\n",
    "from sage.misc.latex import latex_extra_preamble\n",
    "print(latex_extra_preamble())"
   ]
  },
  {
   "cell_type": "code",
   "execution_count": null,
   "id": "5babd1c4",
   "metadata": {},
   "outputs": [
    {
     "data": {
      "text/plain": [
       "\\newcommand{\\ZZ}{\\Bold{Z}}\n",
       "...\n",
       "\\newcommand{\\Bold}[1]{\\mathbf{#1}}\n",
       "\\newcommand{\\foo}{bar}"
      ]
     },
     "execution_count": 1,
     "metadata": {},
     "output_type": "execute_result"
    }
   ],
   "source": [
    "latex.add_macro(\"\\\\newcommand{\\\\foo}{bar}\")\n",
    "print(latex_extra_preamble())"
   ]
  },
  {
   "cell_type": "markdown",
   "id": "653570f2",
   "metadata": {},
   "source": [
    "Again, for larger or more complicated LaTeX expressions, it is possible\n",
    "to add packages (or anything else) to the preamble of the LaTeX file.\n",
    "Anything may be incorporated into the preamble with the\n",
    "`latex.add_to_preamble` command, and the specialized command\n",
    "`latex.add_package_to_preamble_if_available` will first check if a\n",
    "certain package is actually available before trying to add it to the\n",
    "preamble.\n",
    "\n",
    "Here we add the geometry package to the preamble and use it to set the\n",
    "size of the region on the page that TeX will use (effectively setting\n",
    "the margins). As usual, note the need for the double-backslashes in the\n",
    "Python strings. :"
   ]
  },
  {
   "cell_type": "code",
   "execution_count": null,
   "id": "f4de9ad7",
   "metadata": {},
   "outputs": [
    {
     "data": {
      "text/plain": [
       "'\\\\usepackage{geometry}\\\\geometry{letterpaper,total={8in,10in}}'"
      ]
     },
     "execution_count": 1,
     "metadata": {},
     "output_type": "execute_result"
    }
   ],
   "source": [
    "from sage.misc.latex import latex_extra_preamble\n",
    "latex.extra_macros('')\n",
    "latex.extra_preamble('')\n",
    "latex.add_to_preamble('\\\\usepackage{geometry}')\n",
    "latex.add_to_preamble('\\\\geometry{letterpaper,total={8in,10in}}')\n",
    "latex.extra_preamble()"
   ]
  },
  {
   "cell_type": "code",
   "execution_count": null,
   "id": "c0e9e1a4",
   "metadata": {},
   "outputs": [
    {
     "data": {
      "text/plain": [
       "\\usepackage{geometry}\\geometry{letterpaper,total={8in,10in}}\n",
       "\\newcommand{\\ZZ}{\\Bold{Z}}\n",
       "...\n",
       "\\newcommand{\\Bold}[1]{\\mathbf{#1}}"
      ]
     },
     "execution_count": 1,
     "metadata": {},
     "output_type": "execute_result"
    }
   ],
   "source": [
    "print(latex_extra_preamble())"
   ]
  },
  {
   "cell_type": "markdown",
   "id": "9f725c91",
   "metadata": {},
   "source": [
    "A particular package may be added along with a check on its existence,\n",
    "as follows. As an example, we just illustrate an attempt to add to the\n",
    "preamble a package that presumably does not exist. :"
   ]
  },
  {
   "cell_type": "code",
   "execution_count": null,
   "id": "84e62905",
   "metadata": {},
   "outputs": [
    {
     "data": {
      "text/plain": [
       "''"
      ]
     },
     "execution_count": 1,
     "metadata": {},
     "output_type": "execute_result"
    }
   ],
   "source": [
    "latex.extra_preamble('')\n",
    "latex.extra_preamble()"
   ]
  },
  {
   "cell_type": "code",
   "execution_count": null,
   "id": "911eb8b3",
   "metadata": {},
   "outputs": [
    {
     "data": {
      "text/plain": [
       "'\\\\usepackage{foo-bar-unchecked}'"
      ]
     },
     "execution_count": 1,
     "metadata": {},
     "output_type": "execute_result"
    }
   ],
   "source": [
    "latex.add_to_preamble('\\\\usepackage{foo-bar-unchecked}')\n",
    "latex.extra_preamble()"
   ]
  },
  {
   "cell_type": "code",
   "execution_count": null,
   "id": "9f092c60",
   "metadata": {},
   "outputs": [
    {
     "data": {
      "text/plain": [
       "'\\\\usepackage{foo-bar-unchecked}'"
      ]
     },
     "execution_count": 1,
     "metadata": {},
     "output_type": "execute_result"
    }
   ],
   "source": [
    "latex.add_package_to_preamble_if_available('foo-bar-checked')\n",
    "latex.extra_preamble()"
   ]
  },
  {
   "cell_type": "markdown",
   "id": "46e48a05",
   "metadata": {},
   "source": [
    "## Customizing LaTeX Processing\n",
    "\n",
    "It is also possible to control which variant of TeX is used for\n",
    "system-wide invocations, thus also influencing the nature of the output.\n",
    "\n",
    "The `latex.engine()` command can be used to control if the system-wide\n",
    "executables `latex`, `pdflatex` or `xelatex` are employed for more\n",
    "complicated LaTeX expressions. When `view()` is called and the engine is\n",
    "set to `latex`, a dvi file is produced and Sage will use a dvi viewer\n",
    "(like xdvi) to display the result. In contrast, using `view()` when the\n",
    "engine is set to `pdflatex` will produce a PDF as the result and Sage\n",
    "will call your system's utility for displaying PDF files (acrobat,\n",
    "okular, evince, etc.).\n",
    "\n",
    "For a concrete example of how complicated LaTeX expressions can be\n",
    "processed, see the example in the next section\n",
    "([sec-tkz-graph](sec-tkz-graph.ipynb)) for using the LaTeX `tkz-graph`\n",
    "package to produce high-quality renderings of combinatorial graphs. For\n",
    "other examples, there are some pre-packaged test cases. To use these, it\n",
    "is necessary to import the `sage.misc.latex.latex_examples` object,\n",
    "which is an instance of the `sage.misc.latex.LatexExamples` class, as\n",
    "illustrated below. This class currently has examples of commutative\n",
    "diagrams, combinatorial graphs, knot theory and pstricks, which\n",
    "respectively exercise the following packages: xy, tkz-graph, xypic,\n",
    "pstricks. After the import, use tab-completion on `latex_examples` to\n",
    "see the pre-packaged examples. Calling each example will give you back\n",
    "some explanation about what is required to make the example render\n",
    "properly. To actually see the examples, it is necessary to use `view()`\n",
    "(once the preamble, engine, etc are all set properly). :"
   ]
  },
  {
   "cell_type": "code",
   "execution_count": null,
   "id": "25bd5b14",
   "metadata": {},
   "outputs": [
    {
     "data": {
      "text/plain": [
       "LaTeX example for testing display of a commutative diagram produced\n",
       "by xypic.\n",
       "<BLANKLINE>\n",
       "To use, try to view this object -- it will not work.  Now try\n",
       "'latex.add_to_preamble(\"\\\\usepackage[matrix,arrow,curve,cmtip]{xy}\")',\n",
       "and try viewing again. You should get a picture (a part of the diagram arising\n",
       "from a filtered chain complex)."
      ]
     },
     "execution_count": 1,
     "metadata": {},
     "output_type": "execute_result"
    }
   ],
   "source": [
    "from sage.misc.latex import latex_examples\n",
    "latex_examples.diagram()"
   ]
  },
  {
   "cell_type": "markdown",
   "id": "411c0049",
   "metadata": {},
   "source": [
    "## An Example: Combinatorial Graphs with tkz-graph\n",
    "\n",
    "High-quality illustrations of combinatorial graphs (henceforth just\n",
    "\"graphs\") are possible with the `tkz-graph` package. This package is\n",
    "built on top of the `tikz` front-end to the `pgf` library. So all of\n",
    "these components need to be part of a system-wide TeX installation, and\n",
    "it may be possible that these components may not be at their most\n",
    "current versions as packaged in some TeX implementations. So for best\n",
    "results, it could be necessary or advisable to install these as part of\n",
    "your personal texmf tree. Creating, maintaining and customizing a\n",
    "system-wide or personal TeX installation is beyond the scope of this\n",
    "document, but it should be easy to find instructions. The necessary\n",
    "files are listed in [sec-system-wide-tex](sec-system-wide-tex.ipynb).\n",
    "\n",
    "Thus, to start we need to insure that the relevant packages are included\n",
    "by adding them to the preamble of the eventual LaTeX document. The\n",
    "images of graphs do not form properly when a dvi file is used as an\n",
    "intermediate format, so it is best to set the latex engine to the\n",
    "`pdflatex` executable. At this point a command like\n",
    "`view(graphs.CompleteGraph(4))` should produce a PDF with an appropriate\n",
    "image of the complete graph $K_4$.\n",
    "\n",
    "Note that there is a variety of options to affect how a graph is\n",
    "rendered in LaTeX via `tkz-graph`, which is again outside the scope of\n",
    "this section, see the section of the Reference manual titled \"LaTeX\n",
    "Options for Graphs\" for instructions and details.\n",
    "\n",
    "## A Fully Capable TeX Installation\n",
    "\n",
    "Many of the more advanced features of the integration of TeX with Sage\n",
    "requires a system-wide installation of TeX. Many versions of Linux have\n",
    "base TeX packages based on TeX Live, for macOS there is TeXShop and for\n",
    "Windows there is MiKTeX. The `convert` utility is part of the\n",
    "[ImageMagick](http://www.imagemagick.org/) suite (which should be a\n",
    "package or an easy download), and the three programs `dvipng`, `ps2pdf`,\n",
    "and `dvips` may be included with your TeX distribution. The first two\n",
    "may also be obtained, respectively, from\n",
    "<http://sourceforge.net/projects/dvipng/> and as part of\n",
    "[Ghostscript](http://www.ghostscript.com/).\n",
    "\n",
    "Rendering combinatorial graphs requires a recent version of the PGF\n",
    "library, the file `tkz-graph.sty` from\n",
    "<https://www.ctan.org/pkg/tkz-graph>, and the files `tkz-arith.sty` and\n",
    "perhaps `tkz-berge.sty` from <https://www.ctan.org/pkg/tkz-berge>.\n",
    "\n",
    "## SageTeX\n",
    "\n",
    "SageTeX is a program available to further integrate TeX and Sage. A\n",
    "concise description of SageTeX is that it is a collection of TeX macros\n",
    "that allow a LaTeX document to include instructions to have Sage compute\n",
    "various objects and/or format objects using the `latex()` support built\n",
    "into Sage. So as an intermediate step of compiling a LaTeX document, all\n",
    "of the computational and LaTeX-formatting features of Sage can be\n",
    "handled automatically. As an example, a mathematics examination can\n",
    "maintain a correct correspondence between questions and answers by using\n",
    "SageTeX to have Sage compute one from the other. See\n",
    "[sec-sagetex](sec-sagetex.ipynb) for more information."
   ]
  }
 ],
 "metadata": {},
 "nbformat": 4,
 "nbformat_minor": 5
}
