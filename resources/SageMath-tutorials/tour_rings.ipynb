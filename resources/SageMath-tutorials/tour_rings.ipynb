{
 "cells": [
  {
   "cell_type": "markdown",
   "id": "f5c5b9d2",
   "metadata": {},
   "source": [
    "$$\n",
    "\\def\\CC{\\bf C}\n",
    "\\def\\QQ{\\bf Q}\n",
    "\\def\\RR{\\bf R}\n",
    "\\def\\ZZ{\\bf Z}\n",
    "\\def\\NN{\\bf N}\n",
    "$$\n",
    "# Basic Rings\n",
    "\n",
    "When defining matrices, vectors, or polynomials, it is sometimes useful\n",
    "and sometimes necessary to specify the \"ring\" over which it is defined.\n",
    "A *ring* is a mathematical construction in which there are well-behaved\n",
    "notions of addition and multiplication; if you've never heard of them\n",
    "before, you probably just need to know about these four commonly used\n",
    "rings:\n",
    "\n",
    "-   the integers $\\{..., -1, 0, 1, 2, ...\\}$, called `ZZ` in Sage.\n",
    "-   the rational numbers -- i.e., fractions, or ratios, of integers\n",
    "    --called `QQ` in Sage.\n",
    "-   the real numbers, called `RR` in Sage.\n",
    "-   the complex numbers, called `CC` in Sage.\n",
    "\n",
    "You may need to know about these distinctions because the same\n",
    "polynomial, for example, can be treated differently depending on the\n",
    "ring over which it is defined. For instance, the polynomial $x^2-2$ has\n",
    "two roots, $\\pm \\sqrt{2}$. Those roots are not rational, so if you are\n",
    "working with polynomials with rational coefficients, the polynomial\n",
    "won't factor. With real coefficients, it will. Therefore you may want to\n",
    "specify the ring to insure that you are getting the information you\n",
    "expect. The following two commands defines the sets of polynomials with\n",
    "rational coefficients and real coefficients, respectively. The sets are\n",
    "named \"ratpoly\" and \"realpoly\", but these aren't important here;\n",
    "however, note that the strings \".\\<t\\>\" and \".\\<z\\>\" name the\n",
    "*variables* used in the two cases. :"
   ]
  },
  {
   "cell_type": "code",
   "execution_count": null,
   "id": "d30e7346",
   "metadata": {},
   "outputs": [],
   "source": [
    "ratpoly.<t> = PolynomialRing(QQ)\n",
    "realpoly.<z> = PolynomialRing(RR)"
   ]
  },
  {
   "cell_type": "markdown",
   "id": "5bf4a1de",
   "metadata": {},
   "source": [
    "Now we illustrate the point about factoring $x^2-2$ :"
   ]
  },
  {
   "cell_type": "code",
   "execution_count": null,
   "id": "aee7b04f",
   "metadata": {},
   "outputs": [
    {
     "data": {
      "text/plain": [
       "t^2 - 2"
      ]
     },
     "execution_count": 1,
     "metadata": {},
     "output_type": "execute_result"
    }
   ],
   "source": [
    "factor(t^2-2)"
   ]
  },
  {
   "cell_type": "code",
   "execution_count": null,
   "id": "a166c3ef",
   "metadata": {},
   "outputs": [
    {
     "data": {
      "text/plain": [
       "(z - 1.41421356237310) * (z + 1.41421356237310)"
      ]
     },
     "execution_count": 1,
     "metadata": {},
     "output_type": "execute_result"
    }
   ],
   "source": [
    "factor(z^2-2)"
   ]
  },
  {
   "cell_type": "markdown",
   "id": "d82e4645",
   "metadata": {},
   "source": [
    "Similar comments apply to matrices: the row-reduced form of a matrix can\n",
    "depend on the ring over which it is defined, as can its eigenvalues and\n",
    "eigenvectors. For more about constructing polynomials, see\n",
    "[section-poly](section-poly.ipynb), and for more about matrices, see\n",
    "[section-linalg](section-linalg.ipynb).\n",
    "\n",
    "The symbol `I` represents the square root of $-1$; `i` is a synonym for\n",
    "`I`. Of course, this is not a rational number:"
   ]
  },
  {
   "cell_type": "code",
   "execution_count": null,
   "id": "5ffd5991",
   "metadata": {},
   "outputs": [
    {
     "data": {
      "text/plain": [
       "I"
      ]
     },
     "execution_count": 1,
     "metadata": {},
     "output_type": "execute_result"
    }
   ],
   "source": [
    "i  # square root of -1"
   ]
  },
  {
   "cell_type": "code",
   "execution_count": null,
   "id": "d2c21d14",
   "metadata": {},
   "outputs": [
    {
     "data": {
      "text/plain": [
       "False"
      ]
     },
     "execution_count": 1,
     "metadata": {},
     "output_type": "execute_result"
    }
   ],
   "source": [
    "i in QQ"
   ]
  },
  {
   "cell_type": "markdown",
   "id": "64dcd80c",
   "metadata": {},
   "source": [
    "Note: The above code may not work as expected if the variable `i` has\n",
    "been assigned a different value, for example, if it was used as a loop\n",
    "variable. If this is the case, type :"
   ]
  },
  {
   "cell_type": "code",
   "execution_count": null,
   "id": "f0c6a24e",
   "metadata": {},
   "outputs": [],
   "source": [
    "reset('i')"
   ]
  },
  {
   "cell_type": "markdown",
   "id": "02112ccf",
   "metadata": {},
   "source": [
    "to get the original complex value of `i`.\n",
    "\n",
    "There is one subtlety in defining complex numbers: as mentioned above,\n",
    "the symbol `i` represents a square root of $-1$, but it is a *formal*\n",
    "square root of $-1$ as an algebraic number. Calling `CC(i)` or `CC.0` or\n",
    "`CC.gen(0)` returns the *complex* square root of $-1$. Arithmetic\n",
    "involving different kinds of numbers is possible by so-called coercion,\n",
    "see [section-coercion](section-coercion.ipynb)."
   ]
  },
  {
   "cell_type": "code",
   "execution_count": null,
   "id": "aa89784e",
   "metadata": {},
   "outputs": [
    {
     "data": {
      "text/plain": [
       "True"
      ]
     },
     "execution_count": 1,
     "metadata": {},
     "output_type": "execute_result"
    }
   ],
   "source": [
    "i = CC(i)       # floating point complex number\n",
    "i == CC.0"
   ]
  },
  {
   "cell_type": "code",
   "execution_count": null,
   "id": "a4c0dda1",
   "metadata": {},
   "outputs": [
    {
     "data": {
      "text/plain": [
       "1.33333333333333 + 0.666666666666667*I"
      ]
     },
     "execution_count": 1,
     "metadata": {},
     "output_type": "execute_result"
    }
   ],
   "source": [
    "a, b = 4/3, 2/3\n",
    "z = a + b*i\n",
    "z"
   ]
  },
  {
   "cell_type": "code",
   "execution_count": null,
   "id": "369219a3",
   "metadata": {},
   "outputs": [
    {
     "data": {
      "text/plain": [
       "0.666666666666667"
      ]
     },
     "execution_count": 1,
     "metadata": {},
     "output_type": "execute_result"
    }
   ],
   "source": [
    "z.imag()        # imaginary part"
   ]
  },
  {
   "cell_type": "code",
   "execution_count": null,
   "id": "2abe246b",
   "metadata": {},
   "outputs": [
    {
     "data": {
      "text/plain": [
       "True"
      ]
     },
     "execution_count": 1,
     "metadata": {},
     "output_type": "execute_result"
    }
   ],
   "source": [
    "z.real() == a   # automatic coercion before comparison"
   ]
  },
  {
   "cell_type": "code",
   "execution_count": null,
   "id": "1357ddc2",
   "metadata": {},
   "outputs": [
    {
     "data": {
      "text/plain": [
       "2"
      ]
     },
     "execution_count": 1,
     "metadata": {},
     "output_type": "execute_result"
    }
   ],
   "source": [
    "a + b"
   ]
  },
  {
   "cell_type": "code",
   "execution_count": null,
   "id": "cebf6061",
   "metadata": {},
   "outputs": [
    {
     "data": {
      "text/plain": [
       "True"
      ]
     },
     "execution_count": 1,
     "metadata": {},
     "output_type": "execute_result"
    }
   ],
   "source": [
    "2*b == a"
   ]
  },
  {
   "cell_type": "code",
   "execution_count": null,
   "id": "53f9ea0f",
   "metadata": {},
   "outputs": [
    {
     "data": {
      "text/plain": [
       "Rational Field"
      ]
     },
     "execution_count": 1,
     "metadata": {},
     "output_type": "execute_result"
    }
   ],
   "source": [
    "parent(2/3)"
   ]
  },
  {
   "cell_type": "code",
   "execution_count": null,
   "id": "137f68b3",
   "metadata": {},
   "outputs": [
    {
     "data": {
      "text/plain": [
       "Rational Field"
      ]
     },
     "execution_count": 1,
     "metadata": {},
     "output_type": "execute_result"
    }
   ],
   "source": [
    "parent(4/2)"
   ]
  },
  {
   "cell_type": "code",
   "execution_count": null,
   "id": "3267a9d4",
   "metadata": {},
   "outputs": [
    {
     "data": {
      "text/plain": [
       "0.766666666666667"
      ]
     },
     "execution_count": 1,
     "metadata": {},
     "output_type": "execute_result"
    }
   ],
   "source": [
    "2/3 + 0.1       # automatic coercion before addition"
   ]
  },
  {
   "cell_type": "code",
   "execution_count": null,
   "id": "d6dfea88",
   "metadata": {},
   "outputs": [
    {
     "data": {
      "text/plain": [
       "0.766666666666667"
      ]
     },
     "execution_count": 1,
     "metadata": {},
     "output_type": "execute_result"
    }
   ],
   "source": [
    "0.1 + 2/3       # coercion rules are symmetric in Sage"
   ]
  },
  {
   "cell_type": "markdown",
   "id": "fb9e6e52",
   "metadata": {},
   "source": [
    "Here are more examples of basic rings in Sage. As noted above, the ring\n",
    "of rational numbers may be referred to using `QQ`, or also\n",
    "`RationalField()` (a *field* is a ring in which the multiplication is\n",
    "commutative and in which every nonzero element has a reciprocal in that\n",
    "ring, so the rationals form a field, but the integers don't):"
   ]
  },
  {
   "cell_type": "code",
   "execution_count": null,
   "id": "334093bb",
   "metadata": {},
   "outputs": [
    {
     "data": {
      "text/plain": [
       "Rational Field"
      ]
     },
     "execution_count": 1,
     "metadata": {},
     "output_type": "execute_result"
    }
   ],
   "source": [
    "RationalField()"
   ]
  },
  {
   "cell_type": "code",
   "execution_count": null,
   "id": "0e272b5d",
   "metadata": {},
   "outputs": [
    {
     "data": {
      "text/plain": [
       "Rational Field"
      ]
     },
     "execution_count": 1,
     "metadata": {},
     "output_type": "execute_result"
    }
   ],
   "source": [
    "QQ"
   ]
  },
  {
   "cell_type": "code",
   "execution_count": null,
   "id": "690e4e1f",
   "metadata": {},
   "outputs": [
    {
     "data": {
      "text/plain": [
       "True"
      ]
     },
     "execution_count": 1,
     "metadata": {},
     "output_type": "execute_result"
    }
   ],
   "source": [
    "1/2 in QQ"
   ]
  },
  {
   "cell_type": "markdown",
   "id": "f3e8d01e",
   "metadata": {},
   "source": [
    "The decimal number `1.2` is considered to be in `QQ` : decimal numbers\n",
    "which happen to also be rational can be \"coerced\" into the rational\n",
    "numbers (see [section-coercion](section-coercion.ipynb)). The numbers\n",
    "$\\pi$ and $\\sqrt{2}$ are not rational, though:"
   ]
  },
  {
   "cell_type": "code",
   "execution_count": null,
   "id": "0151d11a",
   "metadata": {},
   "outputs": [
    {
     "data": {
      "text/plain": [
       "True"
      ]
     },
     "execution_count": 1,
     "metadata": {},
     "output_type": "execute_result"
    }
   ],
   "source": [
    "1.2 in QQ"
   ]
  },
  {
   "cell_type": "code",
   "execution_count": null,
   "id": "cbccd9d9",
   "metadata": {},
   "outputs": [
    {
     "data": {
      "text/plain": [
       "False"
      ]
     },
     "execution_count": 1,
     "metadata": {},
     "output_type": "execute_result"
    }
   ],
   "source": [
    "pi in QQ"
   ]
  },
  {
   "cell_type": "code",
   "execution_count": null,
   "id": "c2b89368",
   "metadata": {},
   "outputs": [
    {
     "data": {
      "text/plain": [
       "True"
      ]
     },
     "execution_count": 1,
     "metadata": {},
     "output_type": "execute_result"
    }
   ],
   "source": [
    "pi in RR"
   ]
  },
  {
   "cell_type": "code",
   "execution_count": null,
   "id": "a2d7627f",
   "metadata": {},
   "outputs": [
    {
     "data": {
      "text/plain": [
       "False"
      ]
     },
     "execution_count": 1,
     "metadata": {},
     "output_type": "execute_result"
    }
   ],
   "source": [
    "sqrt(2) in QQ"
   ]
  },
  {
   "cell_type": "code",
   "execution_count": null,
   "id": "342e68a0",
   "metadata": {},
   "outputs": [
    {
     "data": {
      "text/plain": [
       "True"
      ]
     },
     "execution_count": 1,
     "metadata": {},
     "output_type": "execute_result"
    }
   ],
   "source": [
    "sqrt(2) in CC"
   ]
  },
  {
   "cell_type": "markdown",
   "id": "7d8427cc",
   "metadata": {},
   "source": [
    "For use in higher mathematics, Sage also knows about other rings, such\n",
    "as finite fields, $p$-adic integers, the ring of algebraic numbers,\n",
    "polynomial rings, and matrix rings. Here are constructions of some of\n",
    "these:"
   ]
  },
  {
   "cell_type": "code",
   "execution_count": null,
   "id": "397e1e44",
   "metadata": {},
   "outputs": [
    {
     "data": {
      "text/plain": [
       "Finite Field of size 3"
      ]
     },
     "execution_count": 1,
     "metadata": {},
     "output_type": "execute_result"
    }
   ],
   "source": [
    "GF(3)"
   ]
  },
  {
   "cell_type": "code",
   "execution_count": null,
   "id": "f9ae2773",
   "metadata": {},
   "outputs": [
    {
     "data": {
      "text/plain": [
       "Finite Field in a of size 3^3"
      ]
     },
     "execution_count": 1,
     "metadata": {},
     "output_type": "execute_result"
    }
   ],
   "source": [
    "GF(27, 'a')  # need to name the generator if not a prime field"
   ]
  },
  {
   "cell_type": "code",
   "execution_count": null,
   "id": "f9e88c42",
   "metadata": {},
   "outputs": [
    {
     "data": {
      "text/plain": [
       "5-adic Ring with capped relative precision 20"
      ]
     },
     "execution_count": 1,
     "metadata": {},
     "output_type": "execute_result"
    }
   ],
   "source": [
    "Zp(5)"
   ]
  },
  {
   "cell_type": "code",
   "execution_count": null,
   "id": "45358b93",
   "metadata": {},
   "outputs": [
    {
     "data": {
      "text/plain": [
       "True"
      ]
     },
     "execution_count": 1,
     "metadata": {},
     "output_type": "execute_result"
    }
   ],
   "source": [
    "sqrt(3) in QQbar # algebraic closure of QQ"
   ]
  }
 ],
 "metadata": {},
 "nbformat": 4,
 "nbformat_minor": 5
}
