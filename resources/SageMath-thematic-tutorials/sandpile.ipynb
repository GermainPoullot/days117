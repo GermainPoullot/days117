{
 "cells": [
  {
   "cell_type": "markdown",
   "id": "cf701fa7",
   "metadata": {},
   "source": [
    "$$\n",
    "\\def\\CC{\\bf C}\n",
    "\\def\\QQ{\\bf Q}\n",
    "\\def\\RR{\\bf R}\n",
    "\\def\\ZZ{\\bf Z}\n",
    "\\def\\NN{\\bf N}\n",
    "$$\n",
    "# Abelian Sandpile Model\n",
    "\n",
    "David Perkinson, Reed College\n",
    "\n",
    "## Introduction\n",
    "\n",
    "These notes provide an introduction to Dhar's abelian sandpile model\n",
    "(ASM) and to Sage Sandpiles, a collection of tools in Sage for doing\n",
    "sandpile calculations. For a more thorough introduction to the theory of\n",
    "the ASM, the papers *Chip-Firing and Rotor-Routing on Directed Graphs*\n",
    "<a href=\"#H\" class=\"citation\">[H]</a> by Holroyd et al., and\n",
    "*Riemann-Roch and Abel-Jacobi Theory on a Finite Graph* by Baker and\n",
    "Norine <a href=\"#BN\" class=\"citation\">[BN]</a> are recommended. See also\n",
    "<a href=\"#PPW2013\" class=\"citation\">[PPW2013]</a>.\n",
    "\n",
    "To describe the ASM, we start with a *sandpile graph*: a directed\n",
    "multigraph $\\Gamma$ with a vertex $s$ that is accessible from every\n",
    "vertex. By *multigraph*, we mean that each edge of $\\Gamma$ is assigned\n",
    "a nonnegative integer weight. To say $s$ is *accessible* from some\n",
    "vertex $v$ means that there is a sequence (possibly empty) of directed\n",
    "edges starting at $v$ and ending at $s$. We call $s$ the *sink* of the\n",
    "sandpile graph, even though it might have outgoing edges, for reasons\n",
    "that will be made clear in a moment.\n",
    "\n",
    "We denote the vertex set of $\\Gamma$ by $V$, and define\n",
    "$\\tilde{V} = V\\setminus\\{s\\}$. For any vertex $v$, we let\n",
    "$\\mbox{out-degree}(v)$ (the *out-degree* of $v$) be the sum of the\n",
    "weights of all edges leaving $v$.\n",
    "\n",
    "### Configurations and divisors\n",
    "\n",
    "A *configuration* on $\\Gamma$ is an element of $\\ZZ_{\\geq 0} \\tilde{V}$,\n",
    "i.e., the assignment of a nonnegative integer to each nonsink vertex. We\n",
    "think of each integer as a number of grains of sand being placed at the\n",
    "corresponding vertex. A *divisor* on $\\Gamma$ is an element of $\\ZZ V$,\n",
    "i.e., an element in the free abelian group on *all* of the vertices. In\n",
    "the context of divisors, it is sometimes useful to think of a divisor on\n",
    "$\\Gamma$ as assigning dollars to each vertex, with negative integers\n",
    "signifying a debt.\n",
    "\n",
    "### Stabilization\n",
    "\n",
    "A configuration $c$ is *stable* at a vertex $v\\in\\tilde{V}$ if\n",
    "$c(v) < \\mbox{out-degree}(v)$. Otherwise, $c$ is *unstable* at $v$. A\n",
    "configuration $c$ (in itself) is *stable* if it is stable at each\n",
    "nonsink vertex. Otherwise, $c$ is *unstable*. If $c$ is unstable at $v$,\n",
    "the vertex $v$ can be *fired* (*toppled*) by removing\n",
    "$\\mbox{out-degree}(v)$ grains of sand from $v$ and adding grains of sand\n",
    "to the neighbors of $v$, determined by the weights of the edges leaving\n",
    "$v$ (each vertex $w$ gets as many grains as the weight of the edge\n",
    "$(v, w)$ is, if there is such an edge). Note that grains that are added\n",
    "to the sink $s$ are not counted (i.e., they \"disappear\").\n",
    "\n",
    "Despite our best intentions, we sometimes consider firing a stable\n",
    "vertex, resulting in a \"configuration\" with a negative amount of sand at\n",
    "that vertex. We may also *reverse-fire* a vertex, absorbing sand from\n",
    "the vertex's neighbors (including the sink).\n",
    "\n",
    "**Example.** Consider the graph:\n",
    "\n",
    "<figure>\n",
    "<img src=\"media/sandpile/example1.png\" class=\"align-center\" alt=\"\" /><figcaption><span class=\"math inline\"><em>Γ</em></span></figcaption>\n",
    "</figure>\n",
    "\n",
    "All edges have weight $1$ except for the edge from vertex 1 to vertex 3,\n",
    "which has weight $2$. If we let $c = (5,0,1)$ with the indicated number\n",
    "of grains of sand on vertices 1, 2, and 3, respectively, then only\n",
    "vertex 1, whose out-degree is 4, is unstable. Firing vertex 1 gives a\n",
    "new configuration $c' = (1,1,3)$. Here, $4$ grains have left vertex 1.\n",
    "One of these has gone to the sink vertex (and forgotten), one has gone\n",
    "to vertex 2, and two have gone to vertex 3, since the edge from 1 to 3\n",
    "has weight $2$. Vertex 3 in the new configuration is now unstable. The\n",
    "Sage code for this example follows. :"
   ]
  },
  {
   "cell_type": "code",
   "execution_count": null,
   "id": "a2e356b0",
   "metadata": {},
   "outputs": [],
   "source": [
    "g = {0:{},\n",
    "     1:{0:1, 2:1, 3:2},\n",
    "     2:{1:1, 3:1},\n",
    "     3:{1:1, 2:1}}\n",
    "S = Sandpile(g, 0)   # create the sandpile\n",
    "S.show(edge_labels=true)  # display the graph"
   ]
  },
  {
   "cell_type": "markdown",
   "id": "4997db60",
   "metadata": {},
   "source": [
    "Create the configuration:"
   ]
  },
  {
   "cell_type": "code",
   "execution_count": null,
   "id": "366349c6",
   "metadata": {},
   "outputs": [
    {
     "data": {
      "text/plain": [
       "{0: 0, 1: 4, 2: 2, 3: 2}"
      ]
     },
     "execution_count": 1,
     "metadata": {},
     "output_type": "execute_result"
    }
   ],
   "source": [
    "c = SandpileConfig(S, {1:5, 2:0, 3:1})\n",
    "S.out_degree()"
   ]
  },
  {
   "cell_type": "markdown",
   "id": "dfded19e",
   "metadata": {},
   "source": [
    "Fire vertex $1$ :"
   ]
  },
  {
   "cell_type": "code",
   "execution_count": null,
   "id": "de779e85",
   "metadata": {},
   "outputs": [
    {
     "data": {
      "text/plain": [
       "{1: 1, 2: 1, 3: 3}"
      ]
     },
     "execution_count": 1,
     "metadata": {},
     "output_type": "execute_result"
    }
   ],
   "source": [
    "c.fire_vertex(1)"
   ]
  },
  {
   "cell_type": "markdown",
   "id": "90416704",
   "metadata": {},
   "source": [
    "The configuration is unchanged:"
   ]
  },
  {
   "cell_type": "code",
   "execution_count": null,
   "id": "16fd0c7b",
   "metadata": {},
   "outputs": [
    {
     "data": {
      "text/plain": [
       "{1: 5, 2: 0, 3: 1}"
      ]
     },
     "execution_count": 1,
     "metadata": {},
     "output_type": "execute_result"
    }
   ],
   "source": [
    "c"
   ]
  },
  {
   "cell_type": "markdown",
   "id": "dac80ae9",
   "metadata": {},
   "source": [
    "Repeatedly fire vertices until the configuration becomes stable:"
   ]
  },
  {
   "cell_type": "code",
   "execution_count": null,
   "id": "73b5e3dc",
   "metadata": {},
   "outputs": [
    {
     "data": {
      "text/plain": [
       "{1: 2, 2: 1, 3: 1}"
      ]
     },
     "execution_count": 1,
     "metadata": {},
     "output_type": "execute_result"
    }
   ],
   "source": [
    "c.stabilize()"
   ]
  },
  {
   "cell_type": "markdown",
   "id": "3853f4da",
   "metadata": {},
   "source": [
    "Alternatives:"
   ]
  },
  {
   "cell_type": "code",
   "execution_count": null,
   "id": "5df4223e",
   "metadata": {},
   "outputs": [
    {
     "data": {
      "text/plain": [
       "{1: 2, 2: 1, 3: 1}"
      ]
     },
     "execution_count": 1,
     "metadata": {},
     "output_type": "execute_result"
    }
   ],
   "source": [
    "~c             # shorthand for c.stabilize()"
   ]
  },
  {
   "cell_type": "code",
   "execution_count": null,
   "id": "596e6c40",
   "metadata": {},
   "outputs": [
    {
     "data": {
      "text/plain": [
       "[{1: 2, 2: 1, 3: 1}, {1: 2, 2: 2, 3: 3}]"
      ]
     },
     "execution_count": 1,
     "metadata": {},
     "output_type": "execute_result"
    }
   ],
   "source": [
    "c.stabilize(with_firing_vector=true)"
   ]
  },
  {
   "cell_type": "markdown",
   "id": "0439dc94",
   "metadata": {},
   "source": [
    "Since vertex 3 has become unstable after firing vertex 1, it can be\n",
    "fired, which causes vertex 2 to become unstable, etc. Repeated firings\n",
    "eventually lead to a stable configuration. The last line of the Sage\n",
    "code, above, is a list, the first element of which is the resulting\n",
    "stable configuration, $(2,1,1)$. The second component records how many\n",
    "times each vertex fired in the stabilization.\n",
    "\n",
    "------------------------------------------------------------------------\n",
    "\n",
    "Since the sink is accessible from each nonsink vertex and never fires,\n",
    "every configuration will stabilize after a finite number of\n",
    "vertex-firings. It is not obvious, but the resulting stabilization is\n",
    "independent of the order in which unstable vertices are fired. Thus,\n",
    "each configuration stabilizes to a unique stable configuration.\n",
    "\n",
    "### Laplacian\n",
    "\n",
    "Fix a total order on the vertices of $\\Gamma$, thus leading to a\n",
    "labelling of the vertices by the numbers $1, 2, \\ldots, n$ for some $n$\n",
    "(in the given order). The *Laplacian* of $\\Gamma$ is\n",
    "\n",
    "$$L := D-A$$\n",
    "\n",
    "where $D$ is the diagonal matrix of out-degrees of the vertices (i.e.,\n",
    "the diagonal $n \\times n$-matrix whose $(i, i)$-th entry is the\n",
    "out-degree of the vertex $i$) and $A$ is the adjacency matrix whose\n",
    "$(i,j)$-th entry is the weight of the edge from vertex $i$ to vertex\n",
    "$j$, which we take to be $0$ if there is no edge. The *reduced\n",
    "Laplacian*, $\\tilde{L}$, is the submatrix of the Laplacian formed by\n",
    "removing the row and column corresponding to the sink vertex. Firing a\n",
    "vertex of a configuration is the same as subtracting the corresponding\n",
    "row of the reduced Laplacian.\n",
    "\n",
    "**Example.** (Continued.) :"
   ]
  },
  {
   "cell_type": "code",
   "execution_count": null,
   "id": "1353e831",
   "metadata": {},
   "outputs": [
    {
     "data": {
      "text/plain": [
       "[0, 1, 2, 3]"
      ]
     },
     "execution_count": 1,
     "metadata": {},
     "output_type": "execute_result"
    }
   ],
   "source": [
    "S.vertices(sort=True)  # the ordering of the vertices"
   ]
  },
  {
   "cell_type": "code",
   "execution_count": null,
   "id": "2a662dd8",
   "metadata": {},
   "outputs": [
    {
     "data": {
      "text/plain": [
       "[ 0  0  0  0]\n",
       "[-1  4 -1 -2]\n",
       "[ 0 -1  2 -1]\n",
       "[ 0 -1 -1  2]"
      ]
     },
     "execution_count": 1,
     "metadata": {},
     "output_type": "execute_result"
    }
   ],
   "source": [
    "S.laplacian()"
   ]
  },
  {
   "cell_type": "code",
   "execution_count": null,
   "id": "c87051cd",
   "metadata": {},
   "outputs": [
    {
     "data": {
      "text/plain": [
       "[ 4 -1 -2]\n",
       "[-1  2 -1]\n",
       "[-1 -1  2]"
      ]
     },
     "execution_count": 1,
     "metadata": {},
     "output_type": "execute_result"
    }
   ],
   "source": [
    "S.reduced_laplacian()"
   ]
  },
  {
   "cell_type": "markdown",
   "id": "7c9c799d",
   "metadata": {},
   "source": [
    "The configuration we considered previously:"
   ]
  },
  {
   "cell_type": "code",
   "execution_count": null,
   "id": "49ce6245",
   "metadata": {},
   "outputs": [
    {
     "data": {
      "text/plain": [
       "{1: 5, 2: 0, 3: 1}"
      ]
     },
     "execution_count": 1,
     "metadata": {},
     "output_type": "execute_result"
    }
   ],
   "source": [
    "c = SandpileConfig(S, [5,0,1])\n",
    "c"
   ]
  },
  {
   "cell_type": "markdown",
   "id": "9c45d43f",
   "metadata": {},
   "source": [
    "Firing vertex 1 is the same as subtracting the corresponding row of the\n",
    "reduced Laplacian from the configuration (regarded as a vector):"
   ]
  },
  {
   "cell_type": "code",
   "execution_count": null,
   "id": "40cf94a2",
   "metadata": {},
   "outputs": [
    {
     "data": {
      "text/plain": [
       "[1, 1, 3]"
      ]
     },
     "execution_count": 1,
     "metadata": {},
     "output_type": "execute_result"
    }
   ],
   "source": [
    "c.fire_vertex(1).values()"
   ]
  },
  {
   "cell_type": "code",
   "execution_count": null,
   "id": "4d9d67fc",
   "metadata": {},
   "outputs": [
    {
     "data": {
      "text/plain": [
       "(4, -1, -2)"
      ]
     },
     "execution_count": 1,
     "metadata": {},
     "output_type": "execute_result"
    }
   ],
   "source": [
    "S.reduced_laplacian()[0]"
   ]
  },
  {
   "cell_type": "code",
   "execution_count": null,
   "id": "54c29c88",
   "metadata": {},
   "outputs": [
    {
     "data": {
      "text/plain": [
       "(1, 1, 3)"
      ]
     },
     "execution_count": 1,
     "metadata": {},
     "output_type": "execute_result"
    }
   ],
   "source": [
    "vector([5,0,1]) - vector([4,-1,-2])"
   ]
  },
  {
   "cell_type": "markdown",
   "id": "08ae3566",
   "metadata": {},
   "source": [
    "### Recurrent elements\n",
    "\n",
    "Imagine an experiment in which grains of sand are dropped one-at-a-time\n",
    "onto a graph, pausing to allow the configuration to stabilize between\n",
    "drops. Some configurations will only be seen once in this process. For\n",
    "example, for most graphs, once sand is dropped on the graph, no sequence\n",
    "of additions of sand and stabilizations will result in a graph empty of\n",
    "sand. Other configurations---the so-called *recurrent\n",
    "configurations*---will be seen infinitely often as the process is\n",
    "repeated indefinitely.\n",
    "\n",
    "To be precise, a configuration $c$ is *recurrent* if (i) it is stable,\n",
    "and (ii) given any configuration $a$, there is a configuration $b$ such\n",
    "that $c = \\mbox{stab}(a+b)$, the stabilization of $a + b$.\n",
    "\n",
    "The *maximal-stable* configuration, denoted $c_{\\mathrm{max}}$, is\n",
    "defined by $c_{\\mathrm{max}}(v)=\\mbox{out-degree}(v)-1$ for all nonsink\n",
    "vertices $v$. It is clear that $c_{\\mathrm{max}}$ is recurrent. Further,\n",
    "it is not hard to see that a configuration is recurrent if and only if\n",
    "it has the form $\\mbox{stab}(a+c_{\\mathrm{max}})$ for some configuration\n",
    "$a$.\n",
    "\n",
    "**Example.** (Continued.) :"
   ]
  },
  {
   "cell_type": "code",
   "execution_count": null,
   "id": "3bfafb69",
   "metadata": {},
   "outputs": [
    {
     "data": {
      "text/plain": [
       "[[3, 1, 1], [2, 1, 1], [3, 1, 0]]"
      ]
     },
     "execution_count": 1,
     "metadata": {},
     "output_type": "execute_result"
    }
   ],
   "source": [
    "S.recurrents(verbose=false)"
   ]
  },
  {
   "cell_type": "code",
   "execution_count": null,
   "id": "27a1c50b",
   "metadata": {},
   "outputs": [
    {
     "data": {
      "text/plain": [
       "{1: 2, 2: 1, 3: 1}"
      ]
     },
     "execution_count": 1,
     "metadata": {},
     "output_type": "execute_result"
    }
   ],
   "source": [
    "c = SandpileConfig(S, [2,1,1])\n",
    "c"
   ]
  },
  {
   "cell_type": "code",
   "execution_count": null,
   "id": "8cff6e5e",
   "metadata": {},
   "outputs": [
    {
     "data": {
      "text/plain": [
       "True"
      ]
     },
     "execution_count": 1,
     "metadata": {},
     "output_type": "execute_result"
    }
   ],
   "source": [
    "c.is_recurrent()"
   ]
  },
  {
   "cell_type": "code",
   "execution_count": null,
   "id": "da00f601",
   "metadata": {},
   "outputs": [
    {
     "data": {
      "text/plain": [
       "{1: 3, 2: 1, 3: 1}"
      ]
     },
     "execution_count": 1,
     "metadata": {},
     "output_type": "execute_result"
    }
   ],
   "source": [
    "S.max_stable()"
   ]
  },
  {
   "cell_type": "markdown",
   "id": "b1386751",
   "metadata": {},
   "source": [
    "Adding any configuration to the max-stable configuration and stabilizing\n",
    "yields a recurrent configuration:"
   ]
  },
  {
   "cell_type": "code",
   "execution_count": null,
   "id": "3bc386e5",
   "metadata": {},
   "outputs": [
    {
     "data": {
      "text/plain": [
       "{1: 4, 2: 1, 3: 1}"
      ]
     },
     "execution_count": 1,
     "metadata": {},
     "output_type": "execute_result"
    }
   ],
   "source": [
    "x = SandpileConfig(S, [1,0,0])\n",
    "x + S.max_stable()"
   ]
  },
  {
   "cell_type": "markdown",
   "id": "dee78bb0",
   "metadata": {},
   "source": [
    "Use `&` to add and stabilize:"
   ]
  },
  {
   "cell_type": "code",
   "execution_count": null,
   "id": "3b3f7a39",
   "metadata": {},
   "outputs": [
    {
     "data": {
      "text/plain": [
       "{1: 3, 2: 1, 3: 0}"
      ]
     },
     "execution_count": 1,
     "metadata": {},
     "output_type": "execute_result"
    }
   ],
   "source": [
    "c = x & S.max_stable()\n",
    "c"
   ]
  },
  {
   "cell_type": "code",
   "execution_count": null,
   "id": "68b749ae",
   "metadata": {},
   "outputs": [
    {
     "data": {
      "text/plain": [
       "True"
      ]
     },
     "execution_count": 1,
     "metadata": {},
     "output_type": "execute_result"
    }
   ],
   "source": [
    "c.is_recurrent()"
   ]
  },
  {
   "cell_type": "markdown",
   "id": "cb57db10",
   "metadata": {},
   "source": [
    "Note the various ways of performing addition and stabilization:"
   ]
  },
  {
   "cell_type": "code",
   "execution_count": null,
   "id": "e7a6eccd",
   "metadata": {},
   "outputs": [
    {
     "data": {
      "text/plain": [
       "True"
      ]
     },
     "execution_count": 1,
     "metadata": {},
     "output_type": "execute_result"
    }
   ],
   "source": [
    "m = S.max_stable()\n",
    "(x + m).stabilize() == ~(x + m)"
   ]
  },
  {
   "cell_type": "code",
   "execution_count": null,
   "id": "87e3e4ac",
   "metadata": {},
   "outputs": [
    {
     "data": {
      "text/plain": [
       "True"
      ]
     },
     "execution_count": 1,
     "metadata": {},
     "output_type": "execute_result"
    }
   ],
   "source": [
    "(x + m).stabilize() == x & m"
   ]
  },
  {
   "cell_type": "markdown",
   "id": "9c39aa3c",
   "metadata": {},
   "source": [
    "### Burning Configuration\n",
    "\n",
    "A *burning configuration* is a $\\ZZ_{\\geq 0}$-linear combination $f$ of\n",
    "the rows of the reduced Laplacian matrix having nonnegative entries and\n",
    "such that every vertex is accessible from some vertex in the support of\n",
    "$f$ (in other words, for each vertex $w$, there is a path from some\n",
    "$v \\in \\operatorname{supp} f$ to $w$). The corresponding *burning\n",
    "script* gives the coefficients in the $\\ZZ_{\\geq 0}$-linear combination\n",
    "needed to obtain the burning configuration. So if $b$ is a burning\n",
    "configuration, $\\sigma$ is its script, and $\\tilde{L}$ is the reduced\n",
    "Laplacian, then $\\sigma\\,\\tilde{L} = b$. The *minimal burning\n",
    "configuration* is the one with the minimal script (each of its\n",
    "components is no larger than the corresponding component of any other\n",
    "script for a burning configuration).\n",
    "\n",
    "Given a burning configuration $b$ having script $\\sigma$, and any\n",
    "configuration $c$ on the same graph, the following are equivalent:\n",
    "\n",
    "-   $c$ is recurrent;\n",
    "-   $c + b$ stabilizes to $c$;\n",
    "-   the firing vector for the stabilization of $c + b$ is $\\sigma$.\n",
    "\n",
    "The burning configuration and script are computed using a modified\n",
    "version of Speer's script algorithm. This is a generalization to\n",
    "directed multigraphs of Dhar's burning algorithm.\n",
    "\n",
    "**Example.** :"
   ]
  },
  {
   "cell_type": "code",
   "execution_count": null,
   "id": "e786d5d2",
   "metadata": {},
   "outputs": [
    {
     "data": {
      "text/plain": [
       "{1: 2, 2: 0, 3: 1, 4: 1, 5: 0}"
      ]
     },
     "execution_count": 1,
     "metadata": {},
     "output_type": "execute_result"
    }
   ],
   "source": [
    "g = {0:{},1:{0:1,3:1,4:1},2:{0:1,3:1,5:1},\n",
    "     3:{2:1,5:1},4:{1:1,3:1},5:{2:1,3:1}}\n",
    "G = Sandpile(g,0)\n",
    "G.burning_config()"
   ]
  },
  {
   "cell_type": "code",
   "execution_count": null,
   "id": "c14a53d1",
   "metadata": {},
   "outputs": [
    {
     "data": {
      "text/plain": [
       "[2, 0, 1, 1, 0]"
      ]
     },
     "execution_count": 1,
     "metadata": {},
     "output_type": "execute_result"
    }
   ],
   "source": [
    "G.burning_config().values()"
   ]
  },
  {
   "cell_type": "code",
   "execution_count": null,
   "id": "2d0b98e0",
   "metadata": {},
   "outputs": [
    {
     "data": {
      "text/plain": [
       "{1: 1, 2: 3, 3: 5, 4: 1, 5: 4}"
      ]
     },
     "execution_count": 1,
     "metadata": {},
     "output_type": "execute_result"
    }
   ],
   "source": [
    "G.burning_script()"
   ]
  },
  {
   "cell_type": "code",
   "execution_count": null,
   "id": "20f787c8",
   "metadata": {},
   "outputs": [
    {
     "data": {
      "text/plain": [
       "[1, 3, 5, 1, 4]"
      ]
     },
     "execution_count": 1,
     "metadata": {},
     "output_type": "execute_result"
    }
   ],
   "source": [
    "G.burning_script().values()"
   ]
  },
  {
   "cell_type": "code",
   "execution_count": null,
   "id": "8243c21a",
   "metadata": {},
   "outputs": [
    {
     "data": {
      "text/plain": [
       "[2 0 1 1 0]"
      ]
     },
     "execution_count": 1,
     "metadata": {},
     "output_type": "execute_result"
    }
   ],
   "source": [
    "matrix(G.burning_script().values())*G.reduced_laplacian()"
   ]
  },
  {
   "cell_type": "markdown",
   "id": "dc7ea6e1",
   "metadata": {},
   "source": [
    "### Sandpile group\n",
    "\n",
    "The collection of stable configurations forms a commutative monoid with\n",
    "addition defined as ordinary addition followed by stabilization. The\n",
    "identity element is the all-zero configuration. This monoid is a group\n",
    "exactly when the underlying graph is a DAG (directed acyclic graph).\n",
    "\n",
    "The recurrent elements form a submonoid which turns out to be a group.\n",
    "This group is called the *sandpile group* for $\\Gamma$, denoted\n",
    "$\\mathcal{S}(\\Gamma)$. Its identity element is usually not the all-zero\n",
    "configuration (again, only in the case that $\\Gamma$ is a DAG). So\n",
    "finding the identity element is an interesting problem.\n",
    "\n",
    "Let $n=|V|-1$ and fix an ordering of the nonsink vertices. Let\n",
    "$\\mathcal{\\tilde{L}}\\subset\\ZZ^n$ denote the column-span of\n",
    "$\\tilde{L}^t$, the transpose of the reduced Laplacian. It is a theorem\n",
    "that\n",
    "\n",
    "$$\\mathcal{S}(\\Gamma)\\approx \\ZZ^n/\\mathcal{\\tilde{L}}.$$\n",
    "\n",
    "Thus, the number of elements of the sandpile group is $\\det{\\tilde{L}}$,\n",
    "which by the matrix-tree theorem is the number of weighted trees\n",
    "directed into the sink.\n",
    "\n",
    "**Example.** (Continued.) :"
   ]
  },
  {
   "cell_type": "code",
   "execution_count": null,
   "id": "92d01ed3",
   "metadata": {},
   "outputs": [
    {
     "data": {
      "text/plain": [
       "3"
      ]
     },
     "execution_count": 1,
     "metadata": {},
     "output_type": "execute_result"
    }
   ],
   "source": [
    "S.group_order()"
   ]
  },
  {
   "cell_type": "code",
   "execution_count": null,
   "id": "443bf734",
   "metadata": {},
   "outputs": [
    {
     "data": {
      "text/plain": [
       "[1, 1, 3]"
      ]
     },
     "execution_count": 1,
     "metadata": {},
     "output_type": "execute_result"
    }
   ],
   "source": [
    "S.invariant_factors()"
   ]
  },
  {
   "cell_type": "code",
   "execution_count": null,
   "id": "5b99a591",
   "metadata": {},
   "outputs": [
    {
     "data": {
      "text/plain": [
       "(\n",
       "[1 0 0]  [ 1  0  0]  [1 3 5]\n",
       "[0 1 0]  [ 0  1  0]  [1 4 6]\n",
       "[0 0 3], [ 0 -1  1], [1 4 7]\n",
       ")"
      ]
     },
     "execution_count": 1,
     "metadata": {},
     "output_type": "execute_result"
    }
   ],
   "source": [
    "S.reduced_laplacian().dense_matrix().smith_form()"
   ]
  },
  {
   "cell_type": "markdown",
   "id": "4fe46e6f",
   "metadata": {},
   "source": [
    "Adding the identity to any recurrent configuration and stabilizing\n",
    "yields the same recurrent configuration:"
   ]
  },
  {
   "cell_type": "code",
   "execution_count": null,
   "id": "9919b9a3",
   "metadata": {},
   "outputs": [
    {
     "data": {
      "text/plain": [
       "{1: 3, 2: 1, 3: 0}"
      ]
     },
     "execution_count": 1,
     "metadata": {},
     "output_type": "execute_result"
    }
   ],
   "source": [
    "S.identity()"
   ]
  },
  {
   "cell_type": "code",
   "execution_count": null,
   "id": "4c7fe99c",
   "metadata": {},
   "outputs": [
    {
     "data": {
      "text/plain": [
       "True"
      ]
     },
     "execution_count": 1,
     "metadata": {},
     "output_type": "execute_result"
    }
   ],
   "source": [
    "i = S.identity()\n",
    "m = S.max_stable()\n",
    "i & m == m"
   ]
  },
  {
   "cell_type": "markdown",
   "id": "5ea04423",
   "metadata": {},
   "source": [
    "### Self-organized criticality\n",
    "\n",
    "The sandpile model was introduced by Bak, Tang, and Wiesenfeld in the\n",
    "paper, *Self-organized criticality: an explanation of 1/ƒ noise*\n",
    "<a href=\"#BTW\" class=\"citation\">[BTW]</a>. The term *self-organized\n",
    "criticality* has no precise definition, but can be loosely taken to\n",
    "describe a system that naturally evolves to a state that is barely\n",
    "stable and such that the instabilities are described by a power law. In\n",
    "practice, *self-organized criticality* is often taken to mean *like the\n",
    "sandpile model on a grid graph*. The grid graph is just a grid with an\n",
    "extra sink vertex. The vertices on the interior of each side have one\n",
    "edge to the sink, and the corner vertices have an edge of weight $2$.\n",
    "Thus, every nonsink vertex has out-degree $4$.\n",
    "\n",
    "Imagine repeatedly dropping grains of sand on an empty grid graph,\n",
    "allowing the sandpile to stabilize in between. At first there is little\n",
    "activity, but as time goes on, the size and extent of the avalanche\n",
    "caused by a single grain of sand becomes hard to predict. Computer\n",
    "experiments---I do not think there is a proof, yet---indicate that the\n",
    "distribution of avalanche sizes obeys a power law with exponent -1. In\n",
    "the example below, the size of an avalanche is taken to be the sum of\n",
    "the number of times each vertex fires.\n",
    "\n",
    "**Example (distribution of avalanche sizes).** :"
   ]
  },
  {
   "cell_type": "code",
   "execution_count": null,
   "id": "16ec5550",
   "metadata": {},
   "outputs": [
    {
     "data": {
      "text/plain": [
       "Graphics object consisting of 1 graphics primitive"
      ]
     },
     "execution_count": 1,
     "metadata": {},
     "output_type": "execute_result"
    }
   ],
   "source": [
    "S = sandpiles.Grid(10,10)\n",
    "m = S.max_stable()\n",
    "a = []\n",
    "for i in range(10000):  # long time (15s on sage.math, 2012)\n",
    "    m = m.add_random()\n",
    "    m, f = m.stabilize(true)\n",
    "    a.append(sum(f.values()))\n",
    "p = list_plot([[log(i+1),log(a.count(i))] for i in [0..max(a)] if a.count(i)])  # long time\n",
    "p.axes_labels(['log(N)','log(D(N))'])  # long time\n",
    "p  # long time"
   ]
  },
  {
   "cell_type": "markdown",
   "id": "c7d161e7",
   "metadata": {},
   "source": [
    "<figure>\n",
    "<img src=\"media/sandpile/btw.png\" class=\"align-center\" alt=\"\" /><figcaption>Distribution of avalanche sizes</figcaption>\n",
    "</figure>\n",
    "\n",
    "Note: In the above code, `m.stabilize(true)` returns a list consisting\n",
    "of the stabilized configuration and the firing vector. (Omitting `true`\n",
    "would give just the stabilized configuration.)\n",
    "\n",
    "### Divisors and Discrete Riemann surfaces\n",
    "\n",
    "A reference for this section is *Riemann-Roch and Abel-Jacobi theory on\n",
    "a finite graph* <a href=\"#BN\" class=\"citation\">[BN]</a>.\n",
    "\n",
    "A *divisor* on $\\Gamma$ is an element of the free abelian group on its\n",
    "vertices, including the sink. Suppose, as above, that the $n+1$ vertices\n",
    "of $\\Gamma$ have been ordered, and that $\\mathcal{L}$ is the column span\n",
    "of the transpose of the Laplacian. A divisor is then identified with an\n",
    "element $D\\in\\ZZ^{n+1}$, and two divisors are *linearly equivalent* if\n",
    "they differ by an element of $\\mathcal{L}$. A divisor $E$ is\n",
    "*effective*, written $E\\geq0$, if $E(v)\\geq0$ for each $v\\in V$, i.e.,\n",
    "if $E\\in\\mathbb{Z}_{\\geq 0}^{n+1}$. The *degree* of a divisor $D$ is\n",
    "$\\deg(D) := \\sum_{v\\in V} D(v)$. The divisors of degree zero modulo\n",
    "linear equivalence form the *Picard group*, or *Jacobian* of the graph.\n",
    "For an undirected graph, the Picard group is isomorphic to the sandpile\n",
    "group.\n",
    "\n",
    "The *complete linear system* for a divisor $D$, denoted $|D|$, is the\n",
    "collection of effective divisors linearly equivalent to $D$.\n",
    "\n",
    "#### Riemann-Roch\n",
    "\n",
    "To describe the Riemann-Roch theorem in this context, suppose that\n",
    "$\\Gamma$ is an undirected, unweighted graph. The *dimension*, $r(D)$, of\n",
    "the linear system $|D|$ is $-1$ if $|D|=\\emptyset$, and otherwise is the\n",
    "greatest integer $s$ such that $|D-E|\\neq0$ for all effective divisors\n",
    "$E$ of degree $s$. Define the *canonical divisor* by\n",
    "$K = \\sum_{v\\in V} (\\deg(v)-2) v$, and the *genus* by\n",
    "$g = \\#(E) - \\#(V) + 1$. The Riemann-Roch theorem says that for any\n",
    "divisor $D$,\n",
    "\n",
    "$$r(D) - r(K-D) = \\deg(D) + 1 - g.$$\n",
    "\n",
    "**Example.** :"
   ]
  },
  {
   "cell_type": "code",
   "execution_count": null,
   "id": "b089b22e",
   "metadata": {},
   "outputs": [],
   "source": [
    "G = sandpiles.Complete(5)  # the sandpile on the complete graph with 5 vertices"
   ]
  },
  {
   "cell_type": "markdown",
   "id": "3def9acd",
   "metadata": {},
   "source": [
    "A divisor on the graph:"
   ]
  },
  {
   "cell_type": "code",
   "execution_count": null,
   "id": "86581937",
   "metadata": {},
   "outputs": [],
   "source": [
    "D = SandpileDivisor(G, [1,2,2,0,2])"
   ]
  },
  {
   "cell_type": "markdown",
   "id": "6d8d16b0",
   "metadata": {},
   "source": [
    "Verify the Riemann-Roch theorem:"
   ]
  },
  {
   "cell_type": "code",
   "execution_count": null,
   "id": "32efe3df",
   "metadata": {},
   "outputs": [
    {
     "data": {
      "text/plain": [
       "True"
      ]
     },
     "execution_count": 1,
     "metadata": {},
     "output_type": "execute_result"
    }
   ],
   "source": [
    "K = G.canonical_divisor()\n",
    "D.rank() - (K - D).rank() == D.deg() + 1 - G.genus()"
   ]
  },
  {
   "cell_type": "markdown",
   "id": "99d2e42a",
   "metadata": {},
   "source": [
    "The effective divisors linearly equivalent to $D$ :"
   ]
  },
  {
   "cell_type": "code",
   "execution_count": null,
   "id": "a8067bd6",
   "metadata": {},
   "outputs": [
    {
     "data": {
      "text/plain": [
       "[[0, 1, 1, 4, 1], [1, 2, 2, 0, 2], [4, 0, 0, 3, 0]]"
      ]
     },
     "execution_count": 1,
     "metadata": {},
     "output_type": "execute_result"
    }
   ],
   "source": [
    "D.effective_div(False)"
   ]
  },
  {
   "cell_type": "markdown",
   "id": "864df413",
   "metadata": {},
   "source": [
    "The nonspecial divisors up to linear equivalence (divisors of degree\n",
    "$g-1$ with empty linear systems):"
   ]
  },
  {
   "cell_type": "code",
   "execution_count": null,
   "id": "f8dbeeba",
   "metadata": {},
   "outputs": [
    {
     "data": {
      "text/plain": [
       "[[-1, 0, 1, 2, 3],\n",
       " [-1, 0, 1, 3, 2],\n",
       " [-1, 0, 2, 1, 3],\n",
       " [-1, 0, 2, 3, 1],\n",
       " [-1, 0, 3, 1, 2]]"
      ]
     },
     "execution_count": 1,
     "metadata": {},
     "output_type": "execute_result"
    }
   ],
   "source": [
    "N = G.nonspecial_divisors()\n",
    "[E.values() for E in N[:5]]   # the first few"
   ]
  },
  {
   "cell_type": "code",
   "execution_count": null,
   "id": "9b36da9b",
   "metadata": {},
   "outputs": [
    {
     "data": {
      "text/plain": [
       "24"
      ]
     },
     "execution_count": 1,
     "metadata": {},
     "output_type": "execute_result"
    }
   ],
   "source": [
    "len(N)"
   ]
  },
  {
   "cell_type": "code",
   "execution_count": null,
   "id": "978c710d",
   "metadata": {},
   "outputs": [
    {
     "data": {
      "text/plain": [
       "True"
      ]
     },
     "execution_count": 1,
     "metadata": {},
     "output_type": "execute_result"
    }
   ],
   "source": [
    "len(N) == G.h_vector()[-1]"
   ]
  },
  {
   "cell_type": "markdown",
   "id": "5891fbdc",
   "metadata": {},
   "source": [
    "#### Picturing linear systems\n",
    "\n",
    "Fix a divisor $D$. There are at least two natural graphs associated with\n",
    "the linear system associated with $D$. First, consider the directed\n",
    "graph with vertex set $|D|$ and with an edge from vertex $E$ to vertex\n",
    "$F$ if $F$ is attained from $E$ by firing a single unstable vertex. :"
   ]
  },
  {
   "cell_type": "code",
   "execution_count": null,
   "id": "ff043566",
   "metadata": {},
   "outputs": [
    {
     "data": {
      "text/plain": [
       "True"
      ]
     },
     "execution_count": 1,
     "metadata": {},
     "output_type": "execute_result"
    }
   ],
   "source": [
    "S = Sandpile(graphs.CycleGraph(6),0)\n",
    "D = SandpileDivisor(S, [1,1,1,1,2,0])\n",
    "D.is_alive()"
   ]
  },
  {
   "cell_type": "code",
   "execution_count": null,
   "id": "a46f58d2",
   "metadata": {},
   "outputs": [],
   "source": [
    "eff = D.effective_div()\n",
    "firing_graph(S,eff).show3d(edge_size=.005,vertex_size=0.01,iterations=500)"
   ]
  },
  {
   "cell_type": "markdown",
   "id": "d139f104",
   "metadata": {},
   "source": [
    "<figure>\n",
    "<img src=\"media/sandpile/C_6.png\" class=\"align-center\" alt=\"\" /><figcaption>Complete linear system for <span class=\"math inline\">(1, 1, 1, 1, 2, 0)</span> on <span class=\"math inline\"><em>C</em><sub>6</sub></span> : single firings</figcaption>\n",
    "</figure>\n",
    "\n",
    "The `is_alive` method checks whether the divisor $D$ is alive, i.e.,\n",
    "whether every divisor linearly equivalent to $D$ is unstable.\n",
    "\n",
    "The second graph has the same set of vertices but with an edge from $E$\n",
    "to $F$ if $F$ is obtained from $E$ by firing all unstable vertices of\n",
    "$E$. :"
   ]
  },
  {
   "cell_type": "code",
   "execution_count": null,
   "id": "51d5a598",
   "metadata": {},
   "outputs": [],
   "source": [
    "S = Sandpile(graphs.CycleGraph(6),0)\n",
    "D = SandpileDivisor(S, [1,1,1,1,2,0])\n",
    "eff = D.effective_div() \n",
    "parallel_firing_graph(S,eff).show3d(edge_size=.005,vertex_size=0.01,iterations=500)"
   ]
  },
  {
   "cell_type": "markdown",
   "id": "4e25e73c",
   "metadata": {},
   "source": [
    "<figure>\n",
    "<img src=\"media/sandpile/C_6-parallel.png\" class=\"align-center\" alt=\"\" /><figcaption>Complete linear system for <span class=\"math inline\">(1, 1, 1, 1, 2, 0)</span> on <span class=\"math inline\"><em>C</em><sub>6</sub></span> : parallel firings</figcaption>\n",
    "</figure>\n",
    "\n",
    "Note that in each of the examples above, starting at any divisor in the\n",
    "linear system and following edges, one is eventually led into a cycle of\n",
    "length $6$ (cycling the divisor $(1,1,1,1,2,0)$). Thus, `D.alive()`\n",
    "returns `True`. In Sage, one would be able to rotate the above figures\n",
    "to get a better idea of the structure.\n",
    "\n",
    "### Algebraic geometry of sandpiles\n",
    "\n",
    "#### Affine\n",
    "\n",
    "Let $n = |V| - 1$, and fix an ordering on the nonsink vertices of\n",
    "$\\Gamma$. Let $\\tilde{\\mathcal{L}} \\subset \\ZZ^n$ denote the column-span\n",
    "of $\\tilde{L}^t$, the transpose of the reduced Laplacian. Label vertex\n",
    "$i$ with the indeterminate $x_i$, and let\n",
    "$\\CC[\\Gamma_s] = \\CC[x_1, \\dots, x_n]$. (Here, $s$ denotes the sink\n",
    "vertex of $\\Gamma$.) The *sandpile ideal* or *toppling ideal*, first\n",
    "studied by Cori, Rossin, and Salvy\n",
    "<a href=\"#CRS\" class=\"citation\">[CRS]</a> for undirected graphs, is the\n",
    "lattice ideal for $\\tilde{\\mathcal{L}}$ :\n",
    "\n",
    "$$I = I(\\Gamma_s) := \\CC[\\Gamma_s] \\cdot \\{x^u-x^v : u-v \\in\n",
    "\\tilde{\\mathcal{L}}\\}\\subset\\CC[\\Gamma_s],$$\n",
    "\n",
    "where $x^u := \\prod_{i=1}^n x^{u_i}$ for $u \\in \\ZZ^n$.\n",
    "\n",
    "For each $c\\in\\ZZ^n$ define $t(c) = x^{c^+} - x^{c^-}$ where\n",
    "$c^+_i = \\max\\{c_i,0\\}$ and $c^-_i = \\max\\{-c_i,0\\}$, so that\n",
    "$c = c^+ - c^-$. Then, for each $\\sigma \\in \\ZZ^n$, define $T(\\sigma) =\n",
    "t(\\tilde{L}^t\\sigma)$. It then turns out that\n",
    "\n",
    "$$I = (T(e_1),\\dots,T(e_n),x^b-1),$$\n",
    "\n",
    "where $e_i$ is the $i$-th standard basis vector and $b$ is any burning\n",
    "configuration.\n",
    "\n",
    "The affine coordinate ring, $\\CC[\\Gamma_s]/I,$ is isomorphic to the\n",
    "group algebra of the sandpile group, $\\CC[\\mathcal{S}(\\Gamma)]$.\n",
    "\n",
    "The standard term-ordering on $\\CC[\\Gamma_s]$ is graded reverse\n",
    "lexicographical order with $x_i > x_j$ if vertex $v_i$ is further from\n",
    "the sink than vertex $v_j$. (There are choices to be made for vertices\n",
    "equidistant from the sink.) If $\\sigma_b$ is the script for a burning\n",
    "configuration (not necessarily minimal), then\n",
    "\n",
    "$$\\{T(\\sigma) : \\sigma \\leq \\sigma_b\\}$$\n",
    "\n",
    "is a Gröbner basis for $I$.\n",
    "\n",
    "#### Projective\n",
    "\n",
    "Now let $\\CC[\\Gamma] = \\CC[x_0,x_1,\\dots,x_n]$, where $x_0$ corresponds\n",
    "to the sink vertex. The *homogeneous sandpile ideal*, denoted $I^h$, is\n",
    "obtaining by homogenizing $I$ with respect to $x_0$. Let $L$ be the\n",
    "(full) Laplacian, and $\\mathcal{L} \\subset \\ZZ^{n+1}$ be the column span\n",
    "of its transpose, $L^t.$ Then $I^h$ is the lattice ideal for\n",
    "$\\mathcal{L}$ :\n",
    "\n",
    "$$I^h = I^h(\\Gamma) := \\CC[\\Gamma] \\cdot \\{x^u-x^v: u-v \\in\\mathcal{L}\\}\n",
    "\\subset \\CC[\\Gamma].$$\n",
    "\n",
    "This ideal can be calculated by saturating the ideal\n",
    "\n",
    "$$(T(e_i): i=0, \\ldots, n)$$\n",
    "\n",
    "with respect to the product of the indeterminates: $\\prod_{i=0}^n x_i$\n",
    "(extending the $T$ operator in the obvious way). A Gröbner basis with\n",
    "respect to the degree lexicographic order described above (with $x_0$\n",
    "the smallest vertex) is obtained by homogenizing each element of the\n",
    "Gröbner basis for the non-homogeneous sandpile ideal with respect to\n",
    "$x_0$.\n",
    "\n",
    "**Example.** :"
   ]
  },
  {
   "cell_type": "code",
   "execution_count": null,
   "id": "b251ac88",
   "metadata": {},
   "outputs": [
    {
     "data": {
      "text/plain": [
       "Multivariate Polynomial Ring in x5, x4, x3, x2, x1, x0 over Rational Field"
      ]
     },
     "execution_count": 1,
     "metadata": {},
     "output_type": "execute_result"
    }
   ],
   "source": [
    "g = {0:{},1:{0:1,3:1,4:1},2:{0:1,3:1,5:1},\n",
    "     3:{2:1,5:1},4:{1:1,3:1},5:{2:1,3:1}}\n",
    "S = Sandpile(g, 0)\n",
    "S.ring()"
   ]
  },
  {
   "cell_type": "markdown",
   "id": "4cf6a648",
   "metadata": {},
   "source": [
    "The homogeneous sandpile ideal:"
   ]
  },
  {
   "cell_type": "code",
   "execution_count": null,
   "id": "d2da90a2",
   "metadata": {},
   "outputs": [
    {
     "data": {
      "text/plain": [
       "Ideal (x2 - x0, x3^2 - x5*x0, x5*x3 - x0^2, x4^2 - x3*x1, x5^2 - x3*x0,\n",
       "x1^3 - x4*x3*x0, x4*x1^2 - x5*x0^2) of Multivariate Polynomial Ring\n",
       "in x5, x4, x3, x2, x1, x0 over Rational Field"
      ]
     },
     "execution_count": 1,
     "metadata": {},
     "output_type": "execute_result"
    }
   ],
   "source": [
    "S.ideal()"
   ]
  },
  {
   "cell_type": "markdown",
   "id": "e62ec0ac",
   "metadata": {},
   "source": [
    "The generators of the ideal:"
   ]
  },
  {
   "cell_type": "code",
   "execution_count": null,
   "id": "1c054550",
   "metadata": {},
   "outputs": [
    {
     "data": {
      "text/plain": [
       "[x2 - x0,\n",
       " x3^2 - x5*x0,\n",
       " x5*x3 - x0^2,\n",
       " x4^2 - x3*x1,\n",
       " x5^2 - x3*x0,\n",
       " x1^3 - x4*x3*x0,\n",
       " x4*x1^2 - x5*x0^2]"
      ]
     },
     "execution_count": 1,
     "metadata": {},
     "output_type": "execute_result"
    }
   ],
   "source": [
    "S.ideal(true)"
   ]
  },
  {
   "cell_type": "markdown",
   "id": "a8255c5d",
   "metadata": {},
   "source": [
    "Its resolution:"
   ]
  },
  {
   "cell_type": "code",
   "execution_count": null,
   "id": "de9a7fee",
   "metadata": {},
   "outputs": [
    {
     "data": {
      "text/plain": [
       "'R^1 <-- R^7 <-- R^19 <-- R^25 <-- R^16 <-- R^4'"
      ]
     },
     "execution_count": 1,
     "metadata": {},
     "output_type": "execute_result"
    }
   ],
   "source": [
    "S.resolution() # long time"
   ]
  },
  {
   "cell_type": "markdown",
   "id": "5d38f1ad",
   "metadata": {},
   "source": [
    "and Betti table:"
   ]
  },
  {
   "cell_type": "code",
   "execution_count": null,
   "id": "cd6c3228",
   "metadata": {},
   "outputs": [
    {
     "data": {
      "text/plain": [
       "           0     1     2     3     4     5\n",
       "------------------------------------------\n",
       "    0:     1     1     -     -     -     -\n",
       "    1:     -     4     6     2     -     -\n",
       "    2:     -     2     7     7     2     -\n",
       "    3:     -     -     6    16    14     4\n",
       "------------------------------------------\n",
       "total:     1     7    19    25    16     4"
      ]
     },
     "execution_count": 1,
     "metadata": {},
     "output_type": "execute_result"
    }
   ],
   "source": [
    "S.betti() # long time"
   ]
  },
  {
   "cell_type": "markdown",
   "id": "9ab3be61",
   "metadata": {},
   "source": [
    "The Hilbert function:"
   ]
  },
  {
   "cell_type": "code",
   "execution_count": null,
   "id": "27b3def5",
   "metadata": {},
   "outputs": [
    {
     "data": {
      "text/plain": [
       "[1, 5, 11, 15]"
      ]
     },
     "execution_count": 1,
     "metadata": {},
     "output_type": "execute_result"
    }
   ],
   "source": [
    "S.hilbert_function()"
   ]
  },
  {
   "cell_type": "markdown",
   "id": "53a18d90",
   "metadata": {},
   "source": [
    "and its first differences (which count the number of superstable\n",
    "configurations in each degree):"
   ]
  },
  {
   "cell_type": "code",
   "execution_count": null,
   "id": "21863276",
   "metadata": {},
   "outputs": [
    {
     "data": {
      "text/plain": [
       "[1, 4, 6, 4]"
      ]
     },
     "execution_count": 1,
     "metadata": {},
     "output_type": "execute_result"
    }
   ],
   "source": [
    "S.h_vector()"
   ]
  },
  {
   "cell_type": "code",
   "execution_count": null,
   "id": "dda567ba",
   "metadata": {},
   "outputs": [
    {
     "data": {
      "text/plain": [
       "[0, 1, 1, 1, 1, 2, 2, 2, 2, 2, 2, 3, 3, 3, 3]"
      ]
     },
     "execution_count": 1,
     "metadata": {},
     "output_type": "execute_result"
    }
   ],
   "source": [
    "x = [i.deg() for i in S.superstables()]\n",
    "sorted(x)"
   ]
  },
  {
   "cell_type": "markdown",
   "id": "68e6a2f0",
   "metadata": {},
   "source": [
    "The degree in which the Hilbert function starts equalling the Hilbert\n",
    "polynomial, the latter always being a constant in the case of a sandpile\n",
    "ideal:"
   ]
  },
  {
   "cell_type": "code",
   "execution_count": null,
   "id": "4b820871",
   "metadata": {},
   "outputs": [
    {
     "data": {
      "text/plain": [
       "3"
      ]
     },
     "execution_count": 1,
     "metadata": {},
     "output_type": "execute_result"
    }
   ],
   "source": [
    "S.postulation()"
   ]
  },
  {
   "cell_type": "markdown",
   "id": "5786f7d1",
   "metadata": {},
   "source": [
    "#### Zeros\n",
    "\n",
    "The *zero set* for the sandpile ideal $I$ is\n",
    "\n",
    "$$Z(I) = \\{ p\\in\\CC^n : f(p)=0\\mbox{ for all $f\\in I$} \\},$$\n",
    "\n",
    "the set of simultaneous zeros of the polynomials in $I$. Letting $S^1$\n",
    "denote the unit circle in the complex plane, $Z(I)$ is a finite subgroup\n",
    "of $S^1 \\times \\cdots \\times S^1 \\subset \\CC^n$, isomorphic to the\n",
    "sandpile group. The zero set is actually linearly isomorphic to a\n",
    "faithful representation of the sandpile group on $\\CC^n$.\n",
    "\n",
    "The above is not quite true. $Z(I)$ is neither finite nor a subgroup of\n",
    "$S^1 \\times \\cdots \\times S^1 \\subset \\CC^n$. What is probably meant is\n",
    "that the subset of $Z(I)$ in which the coordinate of $p$ corresponding\n",
    "to the sink is set to $1$ is a finite subgroup of\n",
    "$S^1 \\times \\cdots \\times S^1 \\subset \\CC^{n-1}$.\n",
    "\n",
    "**Example.** (Continued.) :"
   ]
  },
  {
   "cell_type": "code",
   "execution_count": null,
   "id": "643c911a",
   "metadata": {},
   "outputs": [
    {
     "data": {
      "text/plain": [
       "[x1^2 - x2^2, x1*x2^3 - x0^4, x2^5 - x1*x0^4]"
      ]
     },
     "execution_count": 1,
     "metadata": {},
     "output_type": "execute_result"
    }
   ],
   "source": [
    "S = Sandpile({0: {}, 1: {2: 2}, 2: {0: 4, 1: 1}}, 0)\n",
    "S.ideal().gens()"
   ]
  },
  {
   "cell_type": "markdown",
   "id": "b071eac2",
   "metadata": {},
   "source": [
    "Approximation to the zero set (setting `x_0 = 1`):"
   ]
  },
  {
   "cell_type": "code",
   "execution_count": null,
   "id": "8ffce174",
   "metadata": {},
   "outputs": [
    {
     "data": {
      "text/plain": [
       "[[-0.707107000000000 + 0.707107000000000*I,\n",
       "  0.707107000000000 - 0.707107000000000*I],\n",
       " [-0.707107000000000 - 0.707107000000000*I,\n",
       "  0.707107000000000 + 0.707107000000000*I],\n",
       " [-I, -I],\n",
       " [I, I],\n",
       " [0.707107000000000 + 0.707107000000000*I,\n",
       "  -0.707107000000000 - 0.707107000000000*I],\n",
       " [0.707107000000000 - 0.707107000000000*I,\n",
       "  -0.707107000000000 + 0.707107000000000*I],\n",
       " [1, 1],\n",
       " [-1, -1]]"
      ]
     },
     "execution_count": 1,
     "metadata": {},
     "output_type": "execute_result"
    }
   ],
   "source": [
    "S.solve()"
   ]
  },
  {
   "cell_type": "code",
   "execution_count": null,
   "id": "6125755b",
   "metadata": {},
   "outputs": [
    {
     "data": {
      "text/plain": [
       "True"
      ]
     },
     "execution_count": 1,
     "metadata": {},
     "output_type": "execute_result"
    }
   ],
   "source": [
    "len(_) == S.group_order()"
   ]
  },
  {
   "cell_type": "markdown",
   "id": "2c5a12d7",
   "metadata": {},
   "source": [
    "The zeros are generated as a group by a single vector:"
   ]
  },
  {
   "cell_type": "code",
   "execution_count": null,
   "id": "464d70a2",
   "metadata": {},
   "outputs": [
    {
     "data": {
      "text/plain": [
       "[[-(1/2*I + 1/2)*sqrt(2), (1/2*I + 1/2)*sqrt(2)]]"
      ]
     },
     "execution_count": 1,
     "metadata": {},
     "output_type": "execute_result"
    }
   ],
   "source": [
    "S.points()"
   ]
  },
  {
   "cell_type": "markdown",
   "id": "4de29c71",
   "metadata": {},
   "source": [
    "#### Resolutions\n",
    "\n",
    "The homogeneous sandpile ideal, $I^h$, has a free resolution graded by\n",
    "the divisors on $\\Gamma$ modulo linear equivalence. (See the section on\n",
    "[Discrete Riemann Surfaces](discrete_riemann_surfaces.ipynb) for the\n",
    "language of divisors and linear equivalence.) Let\n",
    "$S = \\CC[\\Gamma] = \\CC[x_0,\\dots,x_n]$, as above, and let $\\mathfrak{S}$\n",
    "denote the group of divisors modulo rational equivalence. Then $S$ is\n",
    "graded by $\\mathfrak{S}$ by letting $\\deg(x^c) = c \\in \\mathfrak{S}$ for\n",
    "each monomial $x^c$. The minimal free resolution of $I^h$ has the form\n",
    "\n",
    "$$0 \\leftarrow I^h\n",
    "\\leftarrow \\bigoplus_{D\\in\\mathfrak{S}} S(-D)^{\\beta_{0,D}}\n",
    "\\leftarrow \\bigoplus_{D\\in\\mathfrak{S}} S(-D)^{\\beta_{1,D}}\n",
    "\\leftarrow \\cdots\n",
    "\\leftarrow \\bigoplus_{D\\in\\mathfrak{S}} S(-D)^{\\beta_{r,D}}\n",
    "\\leftarrow 0,$$\n",
    "\n",
    "where the $\\beta_{i,D}$ are the *Betti numbers* for $I^h$.\n",
    "\n",
    "For each divisor class $D\\in\\mathfrak{S}$, define a simplicial complex\n",
    "\n",
    "$$\\Delta_D := \\{I\\subseteq\\{0,\\dots,n\\}: I\\subseteq\\mbox{supp}(E)\n",
    "\\mbox{ for some } E \\in |D|\\}.$$\n",
    "\n",
    "The Betti number $\\beta_{i,D}$ equals the dimension over $\\CC$ of the\n",
    "$i$-th reduced homology group of $\\Delta_D$ :\n",
    "\n",
    "$$\\beta_{i,D} = \\dim_{\\CC}\\tilde{H}_i(\\Delta_D;\\CC).$$"
   ]
  },
  {
   "cell_type": "code",
   "execution_count": null,
   "id": "551d5780",
   "metadata": {},
   "outputs": [],
   "source": [
    "S = Sandpile({0:{},1:{0: 1, 2: 1, 3: 4},2:{3: 5},3:{1: 1, 2: 1}},0)"
   ]
  },
  {
   "cell_type": "markdown",
   "id": "458b5211",
   "metadata": {},
   "source": [
    "Representatives of all divisor classes with nontrivial homology:"
   ]
  },
  {
   "cell_type": "code",
   "execution_count": null,
   "id": "e8cd1a6f",
   "metadata": {},
   "outputs": [
    {
     "data": {
      "text/plain": [
       "[{0: -8, 1: 5, 2: 4, 3: 1},\n",
       " Simplicial complex with vertex set (1, 2, 3) and facets {(3,), (1, 2)}]"
      ]
     },
     "execution_count": 1,
     "metadata": {},
     "output_type": "execute_result"
    }
   ],
   "source": [
    "p = S.betti_complexes()\n",
    "p[0]"
   ]
  },
  {
   "cell_type": "markdown",
   "id": "7b33dcd9",
   "metadata": {},
   "source": [
    "The homology associated with the first divisor in the list:"
   ]
  },
  {
   "cell_type": "code",
   "execution_count": null,
   "id": "340848d0",
   "metadata": {},
   "outputs": [
    {
     "data": {
      "text/plain": [
       "[{0: 0, 1: 0, 2: 0, 3: 2}, {0: 0, 1: 1, 2: 1, 3: 0}]"
      ]
     },
     "execution_count": 1,
     "metadata": {},
     "output_type": "execute_result"
    }
   ],
   "source": [
    "D = p[0][0]\n",
    "D.effective_div()"
   ]
  },
  {
   "cell_type": "code",
   "execution_count": null,
   "id": "4eb22aba",
   "metadata": {},
   "outputs": [
    {
     "data": {
      "text/plain": [
       "[[3], [1, 2]]"
      ]
     },
     "execution_count": 1,
     "metadata": {},
     "output_type": "execute_result"
    }
   ],
   "source": [
    "[E.support() for E in D.effective_div()]"
   ]
  },
  {
   "cell_type": "code",
   "execution_count": null,
   "id": "13ae7a27",
   "metadata": {},
   "outputs": [
    {
     "data": {
      "text/plain": [
       "Simplicial complex with vertex set (1, 2, 3) and facets {(3,), (1, 2)}"
      ]
     },
     "execution_count": 1,
     "metadata": {},
     "output_type": "execute_result"
    }
   ],
   "source": [
    "D.Dcomplex()"
   ]
  },
  {
   "cell_type": "code",
   "execution_count": null,
   "id": "b8859578",
   "metadata": {},
   "outputs": [
    {
     "data": {
      "text/plain": [
       "{0: Z, 1: 0}"
      ]
     },
     "execution_count": 1,
     "metadata": {},
     "output_type": "execute_result"
    }
   ],
   "source": [
    "D.Dcomplex().homology()"
   ]
  },
  {
   "cell_type": "markdown",
   "id": "96e34d1c",
   "metadata": {},
   "source": [
    "The minimal free resolution:"
   ]
  },
  {
   "cell_type": "code",
   "execution_count": null,
   "id": "76823fbf",
   "metadata": {},
   "outputs": [
    {
     "data": {
      "text/plain": [
       "'R^1 <-- R^5 <-- R^5 <-- R^1'"
      ]
     },
     "execution_count": 1,
     "metadata": {},
     "output_type": "execute_result"
    }
   ],
   "source": [
    "S.resolution()"
   ]
  },
  {
   "cell_type": "code",
   "execution_count": null,
   "id": "15871227",
   "metadata": {},
   "outputs": [
    {
     "data": {
      "text/plain": [
       "           0     1     2     3\n",
       "------------------------------\n",
       "    0:     1     -     -     -\n",
       "    1:     -     5     5     -\n",
       "    2:     -     -     -     1\n",
       "------------------------------\n",
       "total:     1     5     5     1"
      ]
     },
     "execution_count": 1,
     "metadata": {},
     "output_type": "execute_result"
    }
   ],
   "source": [
    "S.betti()"
   ]
  },
  {
   "cell_type": "code",
   "execution_count": null,
   "id": "92807164",
   "metadata": {},
   "outputs": [
    {
     "data": {
      "text/plain": [
       "11"
      ]
     },
     "execution_count": 1,
     "metadata": {},
     "output_type": "execute_result"
    }
   ],
   "source": [
    "len(p)"
   ]
  },
  {
   "cell_type": "markdown",
   "id": "685feee5",
   "metadata": {},
   "source": [
    "The degrees and ranks of the homology groups for each element of the\n",
    "list `p` (compare with the Betti table, above):"
   ]
  },
  {
   "cell_type": "code",
   "execution_count": null,
   "id": "6de1d372",
   "metadata": {},
   "outputs": [
    {
     "data": {
      "text/plain": [
       "[[2, {0: 2, 1: 0}],\n",
       " [3, {0: 1, 1: 1, 2: 0}],\n",
       " [2, {0: 2, 1: 0}],\n",
       " [3, {0: 1, 1: 1, 2: 0}],\n",
       " [2, {0: 2, 1: 0}],\n",
       " [3, {0: 1, 1: 1, 2: 0}],\n",
       " [2, {0: 2, 1: 0}],\n",
       " [3, {0: 1, 1: 1}],\n",
       " [2, {0: 2, 1: 0}],\n",
       " [3, {0: 1, 1: 1, 2: 0}],\n",
       " [5, {0: 1, 1: 0, 2: 1}]]"
      ]
     },
     "execution_count": 1,
     "metadata": {},
     "output_type": "execute_result"
    }
   ],
   "source": [
    "[[sum(d[0].values()),d[1].betti()] for d in p]"
   ]
  },
  {
   "cell_type": "markdown",
   "id": "054ed2f9",
   "metadata": {},
   "source": [
    "#### Complete Intersections and Arithmetically Gorenstein toppling ideals\n",
    "\n",
    "NOTE: in the previous section note that the resolution always has length\n",
    "$n$ since the ideal is Cohen-Macaulay.\n",
    "\n",
    "To do.\n",
    "\n",
    "#### Betti numbers for undirected graphs\n",
    "\n",
    "To do.\n",
    "\n",
    "## Usage\n",
    "\n",
    "### Initialization\n",
    "\n",
    "There are three main classes for sandpile structures in Sage:\n",
    "`Sandpile`, `SandpileConfig`, and `SandpileDivisor`. Initialization for\n",
    "`Sandpile` has the form :"
   ]
  },
  {
   "cell_type": "code",
   "execution_count": null,
   "id": "afa8095d",
   "metadata": {},
   "outputs": [],
   "source": [
    ".. skip"
   ]
  },
  {
   "cell_type": "markdown",
   "id": "5e3b23f5",
   "metadata": {},
   "source": [
    "> sage: S = Sandpile(graph, sink)\n",
    "\n",
    "where `graph` represents a graph and `sink` is the key for the sink\n",
    "vertex. There are four possible forms for `graph` :\n",
    "\n",
    "1.  a Python dictionary of dictionaries:"
   ]
  },
  {
   "cell_type": "code",
   "execution_count": null,
   "id": "40f3c61e",
   "metadata": {},
   "outputs": [],
   "source": [
    "    g = {0: {}, 1: {0: 1, 3: 1, 4: 1}, 2: {0: 1, 3: 1, 5: 1},\n",
    "         3: {2: 1, 5: 1}, 4: {1: 1, 3: 1}, 5: {2: 1, 3: 1}}"
   ]
  },
  {
   "cell_type": "markdown",
   "id": "42bed233",
   "metadata": {},
   "source": [
    "\n",
    "    <figure>\n",
    "    <img src=\"media/sandpile/initial.png\" class=\"align-center\" alt=\"\" />\n",
    "    </figure>\n",
    "\n",
    "    Graph from dictionary of dictionaries.\n",
    "\n",
    "    Each key is the name of a vertex. Next to each vertex name $v$ is a\n",
    "    dictionary consisting of pairs: `vertex: weight`. Each pair\n",
    "    represents a directed edge emanating from $v$ and ending at `vertex`\n",
    "    having (non-negative integer) weight equal to `weight`. Loops are\n",
    "    allowed. In the example above, all of the weights are 1.\n"
   ]
  },
  {
   "cell_type": "markdown",
   "id": "d3e6cca7",
   "metadata": {},
   "source": [
    "2.  a Python dictionary of lists:"
   ]
  },
  {
   "cell_type": "code",
   "execution_count": null,
   "id": "e201509b",
   "metadata": {},
   "outputs": [],
   "source": [
    "    g = {0: [], 1: [0, 3, 4], 2: [0, 3, 5],\n",
    "         3: [2, 5], 4: [1, 3], 5: [2, 3]}"
   ]
  },
  {
   "cell_type": "markdown",
   "id": "9f0fa4f3",
   "metadata": {},
   "source": [
    "\n",
    "    This is a short-hand when all of the edge-weights are equal to 1.\n",
    "    The above example is for the same displayed graph.\n"
   ]
  },
  {
   "cell_type": "markdown",
   "id": "6e108826",
   "metadata": {},
   "source": [
    "3.  a Sage graph (of type `sage.graphs.graph.Graph`):"
   ]
  },
  {
   "cell_type": "code",
   "execution_count": null,
   "id": "ec5aa2da",
   "metadata": {},
   "outputs": [
    {
     "data": {
      "text/plain": [
       "<class 'sage.graphs.graph.Graph'>"
      ]
     },
     "execution_count": 1,
     "metadata": {},
     "output_type": "execute_result"
    }
   ],
   "source": [
    "    g = graphs.CycleGraph(5)\n",
    "    S = Sandpile(g, 0)\n",
    "    type(g)"
   ]
  },
  {
   "cell_type": "markdown",
   "id": "872c1321",
   "metadata": {},
   "source": [
    "\n",
    "    To see the types of built-in graphs, type `graphs.`, including the\n",
    "    period, and hit TAB.\n"
   ]
  },
  {
   "cell_type": "markdown",
   "id": "f6c7dd95",
   "metadata": {},
   "source": [
    "4.  a Sage digraph:"
   ]
  },
  {
   "cell_type": "code",
   "execution_count": null,
   "id": "c8056b4f",
   "metadata": {},
   "outputs": [],
   "source": [
    "    S = Sandpile(digraphs.RandomDirectedGNC(6), 0)\n",
    "    S.show()"
   ]
  },
  {
   "cell_type": "markdown",
   "id": "bafdcd68",
   "metadata": {},
   "source": [
    "\n",
    "    <figure>\n",
    "    <img src=\"media/sandpile/random.png\" class=\"align-center\" alt=\"\" /><figcaption>A random graph.</figcaption>\n",
    "    </figure>\n",
    "\n",
    "    See\n",
    "    [sage.graphs.graph\\_generators](../reference/sage/graphs/graph_generators.html)\n",
    "    for more information on the Sage graph library and graph\n",
    "    constructors.\n"
   ]
  },
  {
   "cell_type": "markdown",
   "id": "2316911b",
   "metadata": {},
   "source": [
    "Each of these four formats is preprocessed by the Sandpile class so\n",
    "that, internally, the graph is represented by the dictionary of\n",
    "dictionaries format first presented. This internal format is returned by\n",
    "`dict()` :"
   ]
  },
  {
   "cell_type": "code",
   "execution_count": null,
   "id": "223e1926",
   "metadata": {},
   "outputs": [
    {
     "data": {
      "text/plain": [
       "{0: {},\n",
       " 1: {0: 1, 3: 1, 4: 1},\n",
       " 2: {0: 1, 3: 1, 5: 1},\n",
       " 3: {2: 1, 5: 1},\n",
       " 4: {1: 1, 3: 1},\n",
       " 5: {2: 1, 3: 1}}"
      ]
     },
     "execution_count": 1,
     "metadata": {},
     "output_type": "execute_result"
    }
   ],
   "source": [
    "S = Sandpile({0:[], 1:[0, 3, 4], 2:[0, 3, 5], 3: [2, 5], 4: [1, 3], 5: [2, 3]},0)\n",
    "S.dict()"
   ]
  },
  {
   "cell_type": "markdown",
   "id": "6c5e75f9",
   "metadata": {},
   "source": [
    "Note\n",
    "\n",
    "The user is responsible for assuring that each vertex has a directed\n",
    "path into the designated sink. If the sink has out-edges, these will be\n",
    "ignored for the purposes of sandpile calculations (but not calculations\n",
    "on divisors).\n",
    "\n",
    "Code for checking whether a given vertex is a sink:"
   ]
  },
  {
   "cell_type": "code",
   "execution_count": null,
   "id": "c61ae94b",
   "metadata": {},
   "outputs": [
    {
     "data": {
      "text/plain": [
       "[0, 1, 1, 2, 2, 2]"
      ]
     },
     "execution_count": 1,
     "metadata": {},
     "output_type": "execute_result"
    }
   ],
   "source": [
    "S = Sandpile({0:[], 1:[0, 3, 4], 2:[0, 3, 5], 3: [2, 5], 4: [1, 3], 5: [2, 3]},0)\n",
    "[S.distance(v,0) for v in S.vertices(sort=True)] # 0 is a sink"
   ]
  },
  {
   "cell_type": "code",
   "execution_count": null,
   "id": "3a282fd3",
   "metadata": {},
   "outputs": [
    {
     "data": {
      "text/plain": [
       "[+Infinity, 0, +Infinity, +Infinity, 1, +Infinity]"
      ]
     },
     "execution_count": 1,
     "metadata": {},
     "output_type": "execute_result"
    }
   ],
   "source": [
    "[S.distance(v,1) for v in S.vertices(sort=True)] # 1 is not a sink"
   ]
  },
  {
   "cell_type": "markdown",
   "id": "4b9b54af",
   "metadata": {},
   "source": [
    "### Methods\n",
    "\n",
    "Here are summaries of `Sandpile`, `SandpileConfig`, and\n",
    "`SandpileDivisor` methods (functions). Each summary is followed by a\n",
    "list of complete descriptions of the methods. There are many more\n",
    "methods available for a Sandpile, e.g., those inherited from the class\n",
    "DiGraph. To see them all, enter `dir(Sandpile)` or type `Sandpile.`,\n",
    "including the period, and hit TAB.\n",
    "\n",
    "#### Sandpile\n",
    "\n",
    "**Summary of methods.**\n",
    "\n",
    "-   [all\\_k\\_config](all_k_config.ipynb) --- The constant configuration\n",
    "    with all values set to k.\n",
    "-   [all\\_k\\_div](all_k_div.ipynb) --- The divisor with all values set\n",
    "    to k.\n",
    "-   [avalanche\\_polynomial](avalanche_polynomial.ipynb) --- The\n",
    "    avalanche polynomial.\n",
    "-   [betti](betti.ipynb) --- The Betti table for the homogeneous\n",
    "    toppling ideal.\n",
    "-   [betti\\_complexes](betti_complexes.ipynb) --- The support-complexes\n",
    "    with non-trivial homology.\n",
    "-   [burning\\_config](burning_config.ipynb) --- The minimal burning\n",
    "    configuration.\n",
    "-   [burning\\_script](burning_script.ipynb) --- A script for the minimal\n",
    "    burning configuration.\n",
    "-   [canonical\\_divisor](canonical_divisor.ipynb) --- The canonical\n",
    "    divisor.\n",
    "-   [dict](dict.ipynb) --- A dictionary of dictionaries representing a\n",
    "    directed graph.\n",
    "-   [genus](genus.ipynb) --- The genus: (\\# non-loop edges) - (\\#\n",
    "    vertices) + 1.\n",
    "-   [groebner](groebner.ipynb) --- A Groebner basis for the homogeneous\n",
    "    toppling ideal.\n",
    "-   [group\\_gens](group_gens.ipynb) --- A minimal list of generators for\n",
    "    the sandpile group.\n",
    "-   [group\\_order](group_order.ipynb) --- The size of the sandpile\n",
    "    group.\n",
    "-   [h\\_vector](h_vector.ipynb) --- The number of superstable\n",
    "    configurations in each degree.\n",
    "-   [help](help.ipynb) --- List of Sandpile-specific methods (not\n",
    "    inherited from Graph).\n",
    "-   [hilbert\\_function](hilbert_function.ipynb) --- The Hilbert function\n",
    "    of the homogeneous toppling ideal.\n",
    "-   [ideal](ideal.ipynb) --- The saturated homogeneous toppling ideal.\n",
    "-   [identity](identity.ipynb) --- The identity configuration.\n",
    "-   [in\\_degree](in_degree.ipynb) --- The in-degree of a vertex or a\n",
    "    list of all in-degrees.\n",
    "-   [invariant\\_factors](invariant_factors.ipynb) --- The invariant\n",
    "    factors of the sandpile group.\n",
    "-   [is\\_undirected](is_undirected.ipynb) --- Is the underlying graph\n",
    "    undirected?\n",
    "-   [jacobian\\_representatives](jacobian_representatives.ipynb) ---\n",
    "    Representatives for the elements of the Jacobian group.\n",
    "-   [laplacian](laplacian.ipynb) --- The Laplacian matrix of the graph.\n",
    "-   [markov\\_chain](markov_chain.ipynb) --- The sandpile Markov chain\n",
    "    for configurations or divisors.\n",
    "-   [max\\_stable](max_stable.ipynb) --- The maximal stable\n",
    "    configuration.\n",
    "-   [max\\_stable\\_div](max_stable_div.ipynb) --- The maximal stable\n",
    "    divisor.\n",
    "-   [max\\_superstables](max_superstables.ipynb) --- The maximal\n",
    "    superstable configurations.\n",
    "-   [min\\_recurrents](min_recurrents.ipynb) --- The minimal recurrent\n",
    "    elements.\n",
    "-   [nonsink\\_vertices](nonsink_vertices.ipynb) --- The nonsink\n",
    "    vertices.\n",
    "-   [nonspecial\\_divisors](nonspecial_divisors.ipynb) --- The nonspecial\n",
    "    divisors.\n",
    "-   [out\\_degree](out_degree.ipynb) --- The out-degree of a vertex or a\n",
    "    list of all out-degrees.\n",
    "-   [picard\\_representatives](picard_representatives.ipynb) ---\n",
    "    Representatives of the divisor classes of degree d in the Picard\n",
    "    group.\n",
    "-   [points](points.ipynb) --- Generators for the multiplicative group\n",
    "    of zeros of the sandpile ideal.\n",
    "-   [postulation](postulation.ipynb) --- The postulation number of the\n",
    "    toppling ideal.\n",
    "-   [recurrents](recurrents.ipynb) --- The recurrent configurations.\n",
    "-   [reduced\\_laplacian](reduced_laplacian.ipynb) --- The reduced\n",
    "    Laplacian matrix of the graph.\n",
    "-   [reorder\\_vertices](reorder_vertices.ipynb) --- A copy of the\n",
    "    sandpile with vertex names permuted.\n",
    "-   [resolution](resolution.ipynb) --- A minimal free resolution of the\n",
    "    homogeneous toppling ideal.\n",
    "-   [ring](ring.ipynb) --- The ring containing the homogeneous toppling\n",
    "    ideal.\n",
    "-   [show](show.ipynb) --- Draw the underlying graph.\n",
    "-   [show3d](show3d.ipynb) --- Draw the underlying graph.\n",
    "-   [sink](sink.ipynb) --- The sink vertex.\n",
    "-   [smith\\_form](smith_form.ipynb) --- The Smith normal form for the\n",
    "    Laplacian.\n",
    "-   [solve](solve.ipynb) --- Approximations of the complex affine zeros\n",
    "    of the sandpile ideal.\n",
    "-   [stable\\_configs](stable_configs.ipynb) --- Generator for all stable\n",
    "    configurations.\n",
    "-   [stationary\\_density](stationary_density.ipynb) --- The stationary\n",
    "    density of the sandpile.\n",
    "-   [superstables](superstables.ipynb) --- The superstable\n",
    "    configurations.\n",
    "-   [symmetric\\_recurrents](symmetric_recurrents.ipynb) --- The\n",
    "    symmetric recurrent configurations.\n",
    "-   [tutte\\_polynomial](tutte_polynomial.ipynb) --- The Tutte\n",
    "    polynomial.\n",
    "-   [unsaturated\\_ideal](unsaturated_ideal.ipynb) --- The unsaturated,\n",
    "    homogeneous toppling ideal.\n",
    "-   [version](version.ipynb) --- The version number of Sage Sandpiles.\n",
    "-   [zero\\_config](zero_config.ipynb) --- The all-zero configuration.\n",
    "-   [zero\\_div](zero_div.ipynb) --- The all-zero divisor.\n",
    "\n",
    "------------------------------------------------------------------------\n",
    "\n",
    "**Complete descriptions of Sandpile methods.**\n",
    "\n",
    "---\n",
    "\n",
    "**all\\_k\\_config(k)**\n",
    "\n",
    "The constant configuration with all values set to $k$.\n",
    "\n",
    "INPUT:\n",
    "\n",
    "`k` -- integer\n",
    "\n",
    "OUTPUT:\n",
    "\n",
    "SandpileConfig\n",
    "\n",
    "EXAMPLES:"
   ]
  },
  {
   "cell_type": "code",
   "execution_count": null,
   "id": "14aad5e2",
   "metadata": {},
   "outputs": [
    {
     "data": {
      "text/plain": [
       "{1: 7, 2: 7, 3: 7}"
      ]
     },
     "execution_count": 1,
     "metadata": {},
     "output_type": "execute_result"
    }
   ],
   "source": [
    "s = sandpiles.Diamond()\n",
    "s.all_k_config(7)"
   ]
  },
  {
   "cell_type": "markdown",
   "id": "5b30710c",
   "metadata": {},
   "source": [
    "---\n",
    "\n",
    "**all\\_k\\_div(k)**\n",
    "\n",
    "The divisor with all values set to $k$.\n",
    "\n",
    "INPUT:\n",
    "\n",
    "`k` -- integer\n",
    "\n",
    "OUTPUT:\n",
    "\n",
    "SandpileDivisor\n",
    "\n",
    "EXAMPLES:"
   ]
  },
  {
   "cell_type": "code",
   "execution_count": null,
   "id": "66b5c8a2",
   "metadata": {},
   "outputs": [
    {
     "data": {
      "text/plain": [
       "{0: 7, 1: 7, 2: 7, 3: 7, 4: 7}"
      ]
     },
     "execution_count": 1,
     "metadata": {},
     "output_type": "execute_result"
    }
   ],
   "source": [
    "S = sandpiles.House()\n",
    "S.all_k_div(7)"
   ]
  },
  {
   "cell_type": "markdown",
   "id": "40c21ebc",
   "metadata": {},
   "source": [
    "---\n",
    "\n",
    "**avalanche\\_polynomial(multivariable=True)**\n",
    "\n",
    "The avalanche polynomial. See NOTE for details.\n",
    "\n",
    "INPUT:\n",
    "\n",
    "`multivariable` -- (default: `True`) boolean\n",
    "\n",
    "OUTPUT:\n",
    "\n",
    "polynomial\n",
    "\n",
    "EXAMPLES:"
   ]
  },
  {
   "cell_type": "code",
   "execution_count": null,
   "id": "84539e65",
   "metadata": {},
   "outputs": [
    {
     "data": {
      "text/plain": [
       "9*x0*x1*x2 + 2*x0*x1 + 2*x0*x2 + 2*x1*x2 + 3*x0 + 3*x1 + 3*x2 + 24"
      ]
     },
     "execution_count": 1,
     "metadata": {},
     "output_type": "execute_result"
    }
   ],
   "source": [
    "s = sandpiles.Complete(4)\n",
    "s.avalanche_polynomial()"
   ]
  },
  {
   "cell_type": "code",
   "execution_count": null,
   "id": "59e23a02",
   "metadata": {},
   "outputs": [
    {
     "data": {
      "text/plain": [
       "9*x0^3 + 6*x0^2 + 9*x0 + 24"
      ]
     },
     "execution_count": 1,
     "metadata": {},
     "output_type": "execute_result"
    }
   ],
   "source": [
    "s.avalanche_polynomial(False)"
   ]
  },
  {
   "cell_type": "markdown",
   "id": "dcb016d4",
   "metadata": {},
   "source": [
    "Note\n",
    "\n",
    "For each nonsink vertex $v$, let $x_v$ be an indeterminate. If $(r,v)$\n",
    "is a pair consisting of a recurrent $r$ and nonsink vertex $v$, then for\n",
    "each nonsink vertex $w$, let $n_w$ be the number of times vertex $w$\n",
    "fires in the stabilization of $r + v$. Let $M(r,v)$ be the monomial\n",
    "$\\prod_w x_w^{n_w}$, i.e., the exponent records the vector of $n_w$ as\n",
    "$w$ ranges over the nonsink vertices. The avalanche polynomial is then\n",
    "the sum of $M(r,v)$ as $r$ ranges over the recurrents and $v$ ranges\n",
    "over the nonsink vertices. If `multivariable` is `False`, then set all\n",
    "the indeterminates equal to each other (and, thus, only count the number\n",
    "of vertex firings in the stabilizations, forgetting which particular\n",
    "vertices fired).\n",
    "\n",
    "---\n",
    "\n",
    "**betti(verbose=True)**\n",
    "\n",
    "The Betti table for the homogeneous toppling ideal. If `verbose` is\n",
    "`True`, it prints the standard Betti table, otherwise, it returns a less\n",
    "formatted table.\n",
    "\n",
    "INPUT:\n",
    "\n",
    "`verbose` -- (default: `True`) boolean\n",
    "\n",
    "OUTPUT:\n",
    "\n",
    "Betti numbers for the sandpile\n",
    "\n",
    "EXAMPLES:"
   ]
  },
  {
   "cell_type": "code",
   "execution_count": null,
   "id": "f4621402",
   "metadata": {},
   "outputs": [
    {
     "data": {
      "text/plain": [
       "           0     1     2     3\n",
       "------------------------------\n",
       "    0:     1     -     -     -\n",
       "    1:     -     2     -     -\n",
       "    2:     -     4     9     4\n",
       "------------------------------\n",
       "total:     1     6     9     4"
      ]
     },
     "execution_count": 1,
     "metadata": {},
     "output_type": "execute_result"
    }
   ],
   "source": [
    "S = sandpiles.Diamond()\n",
    "S.betti()"
   ]
  },
  {
   "cell_type": "code",
   "execution_count": null,
   "id": "e1c09bca",
   "metadata": {},
   "outputs": [
    {
     "data": {
      "text/plain": [
       "[1, 6, 9, 4]"
      ]
     },
     "execution_count": 1,
     "metadata": {},
     "output_type": "execute_result"
    }
   ],
   "source": [
    "S.betti(False)"
   ]
  },
  {
   "cell_type": "markdown",
   "id": "6d8f0ee3",
   "metadata": {},
   "source": [
    "---\n",
    "\n",
    "**betti\\_complexes()**\n",
    "\n",
    "The support-complexes with non-trivial homology. (See NOTE.)\n",
    "\n",
    "OUTPUT:\n",
    "\n",
    "list (of pairs \\[divisors, corresponding simplicial complex\\])\n",
    "\n",
    "EXAMPLES:"
   ]
  },
  {
   "cell_type": "code",
   "execution_count": null,
   "id": "1eaf7cb6",
   "metadata": {},
   "outputs": [
    {
     "data": {
      "text/plain": [
       "[{0: -8, 1: 5, 2: 4, 3: 1}, Simplicial complex with vertex set (1, 2, 3) and facets {(3,), (1, 2)}]"
      ]
     },
     "execution_count": 1,
     "metadata": {},
     "output_type": "execute_result"
    }
   ],
   "source": [
    "S = Sandpile({0:{},1:{0: 1, 2: 1, 3: 4},2:{3: 5},3:{1: 1, 2: 1}},0)\n",
    "p = S.betti_complexes()\n",
    "p[0]"
   ]
  },
  {
   "cell_type": "code",
   "execution_count": null,
   "id": "3a1c15ad",
   "metadata": {},
   "outputs": [
    {
     "data": {
      "text/plain": [
       "'R^1 <-- R^5 <-- R^5 <-- R^1'"
      ]
     },
     "execution_count": 1,
     "metadata": {},
     "output_type": "execute_result"
    }
   ],
   "source": [
    "S.resolution()"
   ]
  },
  {
   "cell_type": "code",
   "execution_count": null,
   "id": "be4031b1",
   "metadata": {},
   "outputs": [
    {
     "data": {
      "text/plain": [
       "           0     1     2     3\n",
       "------------------------------\n",
       "    0:     1     -     -     -\n",
       "    1:     -     5     5     -\n",
       "    2:     -     -     -     1\n",
       "------------------------------\n",
       "total:     1     5     5     1"
      ]
     },
     "execution_count": 1,
     "metadata": {},
     "output_type": "execute_result"
    }
   ],
   "source": [
    "S.betti()"
   ]
  },
  {
   "cell_type": "code",
   "execution_count": null,
   "id": "13c99636",
   "metadata": {},
   "outputs": [
    {
     "data": {
      "text/plain": [
       "11"
      ]
     },
     "execution_count": 1,
     "metadata": {},
     "output_type": "execute_result"
    }
   ],
   "source": [
    "len(p)"
   ]
  },
  {
   "cell_type": "code",
   "execution_count": null,
   "id": "adfd870e",
   "metadata": {},
   "outputs": [
    {
     "data": {
      "text/plain": [
       "{0: Z, 1: 0}"
      ]
     },
     "execution_count": 1,
     "metadata": {},
     "output_type": "execute_result"
    }
   ],
   "source": [
    "p[0][1].homology()"
   ]
  },
  {
   "cell_type": "code",
   "execution_count": null,
   "id": "532bcf4d",
   "metadata": {},
   "outputs": [
    {
     "data": {
      "text/plain": [
       "{0: 0, 1: 0, 2: Z}"
      ]
     },
     "execution_count": 1,
     "metadata": {},
     "output_type": "execute_result"
    }
   ],
   "source": [
    "p[-1][1].homology()"
   ]
  },
  {
   "cell_type": "markdown",
   "id": "cba00cbe",
   "metadata": {},
   "source": [
    "Note\n",
    "\n",
    "A `support-complex` is the simplicial complex formed from the supports\n",
    "of the divisors in a linear system.\n",
    "\n",
    "---\n",
    "\n",
    "**burning\\_config()**\n",
    "\n",
    "The minimal burning configuration.\n",
    "\n",
    "OUTPUT:\n",
    "\n",
    "dict (configuration)\n",
    "\n",
    "EXAMPLES:"
   ]
  },
  {
   "cell_type": "code",
   "execution_count": null,
   "id": "d4ee6e07",
   "metadata": {},
   "outputs": [
    {
     "data": {
      "text/plain": [
       "           3:{2:1,5:1},4:{1:1,3:1},5:{2:1,3:1}}"
      ]
     },
     "execution_count": 1,
     "metadata": {},
     "output_type": "execute_result"
    }
   ],
   "source": [
    "g = {0:{},1:{0:1,3:1,4:1},2:{0:1,3:1,5:1}, \\"
   ]
  },
  {
   "cell_type": "code",
   "execution_count": null,
   "id": "798fdc74",
   "metadata": {},
   "outputs": [
    {
     "data": {
      "text/plain": [
       "{1: 2, 2: 0, 3: 1, 4: 1, 5: 0}"
      ]
     },
     "execution_count": 1,
     "metadata": {},
     "output_type": "execute_result"
    }
   ],
   "source": [
    "S = Sandpile(g,0)\n",
    "S.burning_config()"
   ]
  },
  {
   "cell_type": "code",
   "execution_count": null,
   "id": "cd723ce3",
   "metadata": {},
   "outputs": [
    {
     "data": {
      "text/plain": [
       "[2, 0, 1, 1, 0]"
      ]
     },
     "execution_count": 1,
     "metadata": {},
     "output_type": "execute_result"
    }
   ],
   "source": [
    "S.burning_config().values()"
   ]
  },
  {
   "cell_type": "code",
   "execution_count": null,
   "id": "0ca4d4ed",
   "metadata": {},
   "outputs": [
    {
     "data": {
      "text/plain": [
       "{1: 1, 2: 3, 3: 5, 4: 1, 5: 4}"
      ]
     },
     "execution_count": 1,
     "metadata": {},
     "output_type": "execute_result"
    }
   ],
   "source": [
    "S.burning_script()"
   ]
  },
  {
   "cell_type": "code",
   "execution_count": null,
   "id": "47dfbbce",
   "metadata": {},
   "outputs": [
    {
     "data": {
      "text/plain": [
       "[1, 3, 5, 1, 4]"
      ]
     },
     "execution_count": 1,
     "metadata": {},
     "output_type": "execute_result"
    }
   ],
   "source": [
    "script = S.burning_script().values()\n",
    "script"
   ]
  },
  {
   "cell_type": "code",
   "execution_count": null,
   "id": "0125e5d8",
   "metadata": {},
   "outputs": [
    {
     "data": {
      "text/plain": [
       "[2 0 1 1 0]"
      ]
     },
     "execution_count": 1,
     "metadata": {},
     "output_type": "execute_result"
    }
   ],
   "source": [
    "matrix(script)*S.reduced_laplacian()"
   ]
  },
  {
   "cell_type": "markdown",
   "id": "ed6dec8c",
   "metadata": {},
   "source": [
    "Note\n",
    "\n",
    "The burning configuration and script are computed using a modified\n",
    "version of Speer's script algorithm. This is a generalization to\n",
    "directed multigraphs of Dhar's burning algorithm.\n",
    "\n",
    "A *burning configuration* is a nonnegative integer-linear combination of\n",
    "the rows of the reduced Laplacian matrix having nonnegative entries and\n",
    "such that every vertex has a path from some vertex in its support. The\n",
    "corresponding *burning script* gives the integer-linear combination\n",
    "needed to obtain the burning configuration. So if $b$ is the burning\n",
    "configuration, $\\sigma$ is its script, and $\\tilde{L}$ is the reduced\n",
    "Laplacian, then $\\sigma\\cdot\n",
    "\\tilde{L} = b$. The *minimal burning configuration* is the one with the\n",
    "minimal script (its components are no larger than the components of any\n",
    "other script for a burning configuration).\n",
    "\n",
    "The following are equivalent for a configuration $c$ with burning\n",
    "configuration $b$ having script $\\sigma$ :\n",
    "\n",
    "> -   $c$ is recurrent;\n",
    "> -   $c+b$ stabilizes to $c$;\n",
    "> -   the firing vector for the stabilization of $c+b$ is $\\sigma$.\n",
    "\n",
    "---\n",
    "\n",
    "**burning\\_script()**\n",
    "\n",
    "A script for the minimal burning configuration.\n",
    "\n",
    "OUTPUT:\n",
    "\n",
    "dict\n",
    "\n",
    "EXAMPLES:"
   ]
  },
  {
   "cell_type": "code",
   "execution_count": null,
   "id": "1697a67b",
   "metadata": {},
   "outputs": [
    {
     "data": {
      "text/plain": [
       "3:{2:1,5:1},4:{1:1,3:1},5:{2:1,3:1}}"
      ]
     },
     "execution_count": 1,
     "metadata": {},
     "output_type": "execute_result"
    }
   ],
   "source": [
    "g = {0:{},1:{0:1,3:1,4:1},2:{0:1,3:1,5:1},\\"
   ]
  },
  {
   "cell_type": "code",
   "execution_count": null,
   "id": "c903e773",
   "metadata": {},
   "outputs": [
    {
     "data": {
      "text/plain": [
       "{1: 2, 2: 0, 3: 1, 4: 1, 5: 0}"
      ]
     },
     "execution_count": 1,
     "metadata": {},
     "output_type": "execute_result"
    }
   ],
   "source": [
    "S = Sandpile(g,0)\n",
    "S.burning_config()"
   ]
  },
  {
   "cell_type": "code",
   "execution_count": null,
   "id": "55063d40",
   "metadata": {},
   "outputs": [
    {
     "data": {
      "text/plain": [
       "[2, 0, 1, 1, 0]"
      ]
     },
     "execution_count": 1,
     "metadata": {},
     "output_type": "execute_result"
    }
   ],
   "source": [
    "S.burning_config().values()"
   ]
  },
  {
   "cell_type": "code",
   "execution_count": null,
   "id": "1e97e1ce",
   "metadata": {},
   "outputs": [
    {
     "data": {
      "text/plain": [
       "{1: 1, 2: 3, 3: 5, 4: 1, 5: 4}"
      ]
     },
     "execution_count": 1,
     "metadata": {},
     "output_type": "execute_result"
    }
   ],
   "source": [
    "S.burning_script()"
   ]
  },
  {
   "cell_type": "code",
   "execution_count": null,
   "id": "771a4f6b",
   "metadata": {},
   "outputs": [
    {
     "data": {
      "text/plain": [
       "[1, 3, 5, 1, 4]"
      ]
     },
     "execution_count": 1,
     "metadata": {},
     "output_type": "execute_result"
    }
   ],
   "source": [
    "script = S.burning_script().values()\n",
    "script"
   ]
  },
  {
   "cell_type": "code",
   "execution_count": null,
   "id": "cba135a1",
   "metadata": {},
   "outputs": [
    {
     "data": {
      "text/plain": [
       "[2 0 1 1 0]"
      ]
     },
     "execution_count": 1,
     "metadata": {},
     "output_type": "execute_result"
    }
   ],
   "source": [
    "matrix(script)*S.reduced_laplacian()"
   ]
  },
  {
   "cell_type": "markdown",
   "id": "7ac5a7c9",
   "metadata": {},
   "source": [
    "Note\n",
    "\n",
    "The burning configuration and script are computed using a modified\n",
    "version of Speer's script algorithm. This is a generalization to\n",
    "directed multigraphs of Dhar's burning algorithm.\n",
    "\n",
    "A *burning configuration* is a nonnegative integer-linear combination of\n",
    "the rows of the reduced Laplacian matrix having nonnegative entries and\n",
    "such that every vertex has a path from some vertex in its support. The\n",
    "corresponding *burning script* gives the integer-linear combination\n",
    "needed to obtain the burning configuration. So if $b$ is the burning\n",
    "configuration, $s$ is its script, and $L_{\\mathrm{red}}$ is the reduced\n",
    "Laplacian, then $s\\cdot\n",
    "L_{\\mathrm{red}}= b$. The *minimal burning configuration* is the one\n",
    "with the minimal script (its components are no larger than the\n",
    "components of any other script for a burning configuration).\n",
    "\n",
    "The following are equivalent for a configuration $c$ with burning\n",
    "configuration $b$ having script $s$ :\n",
    "\n",
    "> -   $c$ is recurrent;\n",
    "> -   $c+b$ stabilizes to $c$;\n",
    "> -   the firing vector for the stabilization of $c+b$ is $s$.\n",
    "\n",
    "---\n",
    "\n",
    "**canonical\\_divisor()**\n",
    "\n",
    "The canonical divisor. This is the divisor with $\\deg(v)-2$ grains of\n",
    "sand on each vertex (not counting loops). Only for undirected graphs.\n",
    "\n",
    "OUTPUT:\n",
    "\n",
    "SandpileDivisor\n",
    "\n",
    "EXAMPLES:"
   ]
  },
  {
   "cell_type": "code",
   "execution_count": null,
   "id": "65f60f08",
   "metadata": {},
   "outputs": [
    {
     "data": {
      "text/plain": [
       "{0: 1, 1: 1, 2: 1, 3: 1}"
      ]
     },
     "execution_count": 1,
     "metadata": {},
     "output_type": "execute_result"
    }
   ],
   "source": [
    "S = sandpiles.Complete(4)\n",
    "S.canonical_divisor()"
   ]
  },
  {
   "cell_type": "code",
   "execution_count": null,
   "id": "239a2480",
   "metadata": {},
   "outputs": [
    {
     "data": {
      "text/plain": [
       "{0: 0, 1: 0}"
      ]
     },
     "execution_count": 1,
     "metadata": {},
     "output_type": "execute_result"
    }
   ],
   "source": [
    "s = Sandpile({0:[1,1],1:[0,0,1,1,1]},0)\n",
    "s.canonical_divisor()  # loops are disregarded"
   ]
  },
  {
   "cell_type": "markdown",
   "id": "46796158",
   "metadata": {},
   "source": [
    "Warning\n",
    "\n",
    "The underlying graph must be undirected.\n",
    "\n",
    "---\n",
    "\n",
    "**dict()**\n",
    "\n",
    "A dictionary of dictionaries representing a directed graph.\n",
    "\n",
    "OUTPUT:\n",
    "\n",
    "dict\n",
    "\n",
    "EXAMPLES:"
   ]
  },
  {
   "cell_type": "code",
   "execution_count": null,
   "id": "d53a5188",
   "metadata": {},
   "outputs": [
    {
     "data": {
      "text/plain": [
       "{0: {1: 1, 2: 1},\n",
       " 1: {0: 1, 2: 1, 3: 1},\n",
       " 2: {0: 1, 1: 1, 3: 1},\n",
       " 3: {1: 1, 2: 1}}"
      ]
     },
     "execution_count": 1,
     "metadata": {},
     "output_type": "execute_result"
    }
   ],
   "source": [
    "S = sandpiles.Diamond()\n",
    "S.dict()"
   ]
  },
  {
   "cell_type": "code",
   "execution_count": null,
   "id": "8be9abdb",
   "metadata": {},
   "outputs": [
    {
     "data": {
      "text/plain": [
       "0"
      ]
     },
     "execution_count": 1,
     "metadata": {},
     "output_type": "execute_result"
    }
   ],
   "source": [
    "S.sink()"
   ]
  },
  {
   "cell_type": "markdown",
   "id": "afc6db99",
   "metadata": {},
   "source": [
    "---\n",
    "\n",
    "**genus()**\n",
    "\n",
    "The genus: (\\# non-loop edges) - (\\# vertices) + 1. Only defined for\n",
    "undirected graphs.\n",
    "\n",
    "OUTPUT:\n",
    "\n",
    "integer\n",
    "\n",
    "EXAMPLES:"
   ]
  },
  {
   "cell_type": "code",
   "execution_count": null,
   "id": "18cd4f55",
   "metadata": {},
   "outputs": [
    {
     "data": {
      "text/plain": [
       "3"
      ]
     },
     "execution_count": 1,
     "metadata": {},
     "output_type": "execute_result"
    }
   ],
   "source": [
    "sandpiles.Complete(4).genus()"
   ]
  },
  {
   "cell_type": "code",
   "execution_count": null,
   "id": "bc147d59",
   "metadata": {},
   "outputs": [
    {
     "data": {
      "text/plain": [
       "1"
      ]
     },
     "execution_count": 1,
     "metadata": {},
     "output_type": "execute_result"
    }
   ],
   "source": [
    "sandpiles.Cycle(5).genus()"
   ]
  },
  {
   "cell_type": "markdown",
   "id": "6b6d6616",
   "metadata": {},
   "source": [
    "---\n",
    "\n",
    "**groebner()**\n",
    "\n",
    "A Groebner basis for the homogeneous toppling ideal. It is computed with\n",
    "respect to the standard sandpile ordering (see `ring`).\n",
    "\n",
    "OUTPUT:\n",
    "\n",
    "Groebner basis\n",
    "\n",
    "EXAMPLES:"
   ]
  },
  {
   "cell_type": "code",
   "execution_count": null,
   "id": "006c8142",
   "metadata": {},
   "outputs": [
    {
     "data": {
      "text/plain": [
       "[x3*x2^2 - x1^2*x0, x2^3 - x3*x1*x0, x3*x1^2 - x2^2*x0, x1^3 - x3*x2*x0, x3^2 - x0^2, x2*x1 - x0^2]"
      ]
     },
     "execution_count": 1,
     "metadata": {},
     "output_type": "execute_result"
    }
   ],
   "source": [
    "S = sandpiles.Diamond()\n",
    "S.groebner()"
   ]
  },
  {
   "cell_type": "markdown",
   "id": "f9abfd4e",
   "metadata": {},
   "source": [
    "---\n",
    "\n",
    "**group\\_gens(verbose=True)**\n",
    "\n",
    "A minimal list of generators for the sandpile group. If `verbose` is\n",
    "`False` then the generators are represented as lists of integers.\n",
    "\n",
    "INPUT:\n",
    "\n",
    "`verbose` -- (default: `True`) boolean\n",
    "\n",
    "OUTPUT:\n",
    "\n",
    "list of SandpileConfig (or of lists of integers if `verbose` is `False`)\n",
    "\n",
    "EXAMPLES:"
   ]
  },
  {
   "cell_type": "code",
   "execution_count": null,
   "id": "e0a55e4a",
   "metadata": {},
   "outputs": [
    {
     "data": {
      "text/plain": [
       "[{1: 0, 2: 1, 3: 1, 4: 1}]"
      ]
     },
     "execution_count": 1,
     "metadata": {},
     "output_type": "execute_result"
    }
   ],
   "source": [
    "s = sandpiles.Cycle(5)\n",
    "s.group_gens()"
   ]
  },
  {
   "cell_type": "code",
   "execution_count": null,
   "id": "06544d4e",
   "metadata": {},
   "outputs": [
    {
     "data": {
      "text/plain": [
       "5"
      ]
     },
     "execution_count": 1,
     "metadata": {},
     "output_type": "execute_result"
    }
   ],
   "source": [
    "s.group_gens()[0].order()"
   ]
  },
  {
   "cell_type": "code",
   "execution_count": null,
   "id": "a318a991",
   "metadata": {},
   "outputs": [
    {
     "data": {
      "text/plain": [
       "[[2, 3, 2, 2], [2, 2, 3, 2], [2, 2, 2, 3]]"
      ]
     },
     "execution_count": 1,
     "metadata": {},
     "output_type": "execute_result"
    }
   ],
   "source": [
    "s = sandpiles.Complete(5)\n",
    "s.group_gens(False)"
   ]
  },
  {
   "cell_type": "code",
   "execution_count": null,
   "id": "24c4b78f",
   "metadata": {},
   "outputs": [
    {
     "data": {
      "text/plain": [
       "[5, 5, 5]"
      ]
     },
     "execution_count": 1,
     "metadata": {},
     "output_type": "execute_result"
    }
   ],
   "source": [
    "[i.order() for i in s.group_gens()]"
   ]
  },
  {
   "cell_type": "code",
   "execution_count": null,
   "id": "1964700b",
   "metadata": {},
   "outputs": [
    {
     "data": {
      "text/plain": [
       "[1, 5, 5, 5]"
      ]
     },
     "execution_count": 1,
     "metadata": {},
     "output_type": "execute_result"
    }
   ],
   "source": [
    "s.invariant_factors()"
   ]
  },
  {
   "cell_type": "markdown",
   "id": "408d5977",
   "metadata": {},
   "source": [
    "---\n",
    "\n",
    "**group\\_order()**\n",
    "\n",
    "The size of the sandpile group.\n",
    "\n",
    "OUTPUT:\n",
    "\n",
    "integer\n",
    "\n",
    "EXAMPLES:"
   ]
  },
  {
   "cell_type": "code",
   "execution_count": null,
   "id": "9876ed39",
   "metadata": {},
   "outputs": [
    {
     "data": {
      "text/plain": [
       "11"
      ]
     },
     "execution_count": 1,
     "metadata": {},
     "output_type": "execute_result"
    }
   ],
   "source": [
    "S = sandpiles.House()\n",
    "S.group_order()"
   ]
  },
  {
   "cell_type": "markdown",
   "id": "7ff16176",
   "metadata": {},
   "source": [
    "---\n",
    "\n",
    "**h\\_vector()**\n",
    "\n",
    "The number of superstable configurations in each degree. Equivalently,\n",
    "this is the list of first differences of the Hilbert function of the\n",
    "(homogeneous) toppling ideal.\n",
    "\n",
    "OUTPUT:\n",
    "\n",
    "list of nonnegative integers\n",
    "\n",
    "EXAMPLES:"
   ]
  },
  {
   "cell_type": "code",
   "execution_count": null,
   "id": "04d2c232",
   "metadata": {},
   "outputs": [
    {
     "data": {
      "text/plain": [
       "[1, 5, 15, 35, 66, 106, 146, 178, 192]"
      ]
     },
     "execution_count": 1,
     "metadata": {},
     "output_type": "execute_result"
    }
   ],
   "source": [
    "s = sandpiles.Grid(2,2)\n",
    "s.hilbert_function()"
   ]
  },
  {
   "cell_type": "code",
   "execution_count": null,
   "id": "aa7053e2",
   "metadata": {},
   "outputs": [
    {
     "data": {
      "text/plain": [
       "[1, 4, 10, 20, 31, 40, 40, 32, 14]"
      ]
     },
     "execution_count": 1,
     "metadata": {},
     "output_type": "execute_result"
    }
   ],
   "source": [
    "s.h_vector()"
   ]
  },
  {
   "cell_type": "markdown",
   "id": "3ff1c3a6",
   "metadata": {},
   "source": [
    "---\n",
    "\n",
    "**help(verbose=True)**\n",
    "\n",
    "List of Sandpile-specific methods (not inherited from Graph). If\n",
    "`verbose`, include short descriptions.\n",
    "\n",
    "INPUT:\n",
    "\n",
    "`verbose` -- (default: `True`) boolean\n",
    "\n",
    "OUTPUT:\n",
    "\n",
    "printed string\n",
    "\n",
    "EXAMPLES:"
   ]
  },
  {
   "cell_type": "code",
   "execution_count": null,
   "id": "6c5a7abf",
   "metadata": {},
   "outputs": [
    {
     "data": {
      "text/plain": [
       "For detailed help with any method FOO listed below,\n",
       "enter \"Sandpile.FOO?\" or enter \"S.FOO?\" for any Sandpile S.\n",
       "<BLANKLINE>\n",
       "all_k_config             -- The constant configuration with all values set to k.\n",
       "all_k_div                -- The divisor with all values set to k.\n",
       "avalanche_polynomial     -- The avalanche polynomial.\n",
       "betti                    -- The Betti table for the homogeneous toppling ideal.\n",
       "betti_complexes          -- The support-complexes with non-trivial homology.\n",
       "...\n",
       "unsaturated_ideal        -- The unsaturated, homogeneous toppling ideal.\n",
       "version                  -- The version number of Sage Sandpiles.\n",
       "zero_config              -- The all-zero configuration.\n",
       "zero_div                 -- The all-zero divisor."
      ]
     },
     "execution_count": 1,
     "metadata": {},
     "output_type": "execute_result"
    }
   ],
   "source": [
    "Sandpile.help()"
   ]
  },
  {
   "cell_type": "markdown",
   "id": "5fdad9aa",
   "metadata": {},
   "source": [
    "---\n",
    "\n",
    "**hilbert\\_function()**\n",
    "\n",
    "The Hilbert function of the homogeneous toppling ideal.\n",
    "\n",
    "OUTPUT:\n",
    "\n",
    "list of nonnegative integers\n",
    "\n",
    "EXAMPLES:"
   ]
  },
  {
   "cell_type": "code",
   "execution_count": null,
   "id": "8ccacb4d",
   "metadata": {},
   "outputs": [
    {
     "data": {
      "text/plain": [
       "[1, 5, 15, 31, 45]"
      ]
     },
     "execution_count": 1,
     "metadata": {},
     "output_type": "execute_result"
    }
   ],
   "source": [
    "s = sandpiles.Wheel(5)\n",
    "s.hilbert_function()"
   ]
  },
  {
   "cell_type": "code",
   "execution_count": null,
   "id": "897e7bad",
   "metadata": {},
   "outputs": [
    {
     "data": {
      "text/plain": [
       "[1, 4, 10, 16, 14]"
      ]
     },
     "execution_count": 1,
     "metadata": {},
     "output_type": "execute_result"
    }
   ],
   "source": [
    "s.h_vector()"
   ]
  },
  {
   "cell_type": "markdown",
   "id": "67329daf",
   "metadata": {},
   "source": [
    "---\n",
    "\n",
    "**ideal(gens=False)**\n",
    "\n",
    "The saturated homogeneous toppling ideal. If `gens` is `True`, the\n",
    "generators for the ideal are returned instead.\n",
    "\n",
    "INPUT:\n",
    "\n",
    "`gens` -- (default: `False`) boolean\n",
    "\n",
    "OUTPUT:\n",
    "\n",
    "ideal or, optionally, the generators of an ideal\n",
    "\n",
    "EXAMPLES:"
   ]
  },
  {
   "cell_type": "code",
   "execution_count": null,
   "id": "d91209fe",
   "metadata": {},
   "outputs": [
    {
     "data": {
      "text/plain": [
       "Ideal (x2*x1 - x0^2, x3^2 - x0^2, x1^3 - x3*x2*x0, x3*x1^2 - x2^2*x0, x2^3 - x3*x1*x0, x3*x2^2 - x1^2*x0) of Multivariate Polynomial Ring in x3, x2, x1, x0 over Rational Field"
      ]
     },
     "execution_count": 1,
     "metadata": {},
     "output_type": "execute_result"
    }
   ],
   "source": [
    "S = sandpiles.Diamond()\n",
    "S.ideal()"
   ]
  },
  {
   "cell_type": "code",
   "execution_count": null,
   "id": "79206b68",
   "metadata": {},
   "outputs": [
    {
     "data": {
      "text/plain": [
       "[x2*x1 - x0^2, x3^2 - x0^2, x1^3 - x3*x2*x0, x3*x1^2 - x2^2*x0, x2^3 - x3*x1*x0, x3*x2^2 - x1^2*x0]"
      ]
     },
     "execution_count": 1,
     "metadata": {},
     "output_type": "execute_result"
    }
   ],
   "source": [
    "S.ideal(True)"
   ]
  },
  {
   "cell_type": "code",
   "execution_count": null,
   "id": "a7d379e3",
   "metadata": {},
   "outputs": [
    {
     "data": {
      "text/plain": [
       "[x2*x1 - x0^2, x3^2 - x0^2, x1^3 - x3*x2*x0, x3*x1^2 - x2^2*x0, x2^3 - x3*x1*x0, x3*x2^2 - x1^2*x0]"
      ]
     },
     "execution_count": 1,
     "metadata": {},
     "output_type": "execute_result"
    }
   ],
   "source": [
    "S.ideal().gens()  # another way to get the generators"
   ]
  },
  {
   "cell_type": "markdown",
   "id": "98ae8443",
   "metadata": {},
   "source": [
    "---\n",
    "\n",
    "**identity(verbose=True)**\n",
    "\n",
    "The identity configuration. If `verbose` is `False`, the configuration\n",
    "are converted to a list of integers.\n",
    "\n",
    "INPUT:\n",
    "\n",
    "`verbose` -- (default: `True`) boolean\n",
    "\n",
    "OUTPUT:\n",
    "\n",
    "SandpileConfig or a list of integers If `verbose` is `False`, the\n",
    "configuration are converted to a list of integers.\n",
    "\n",
    "EXAMPLES:"
   ]
  },
  {
   "cell_type": "code",
   "execution_count": null,
   "id": "36bedf22",
   "metadata": {},
   "outputs": [
    {
     "data": {
      "text/plain": [
       "{1: 2, 2: 2, 3: 0}"
      ]
     },
     "execution_count": 1,
     "metadata": {},
     "output_type": "execute_result"
    }
   ],
   "source": [
    "s = sandpiles.Diamond()\n",
    "s.identity()"
   ]
  },
  {
   "cell_type": "code",
   "execution_count": null,
   "id": "0f445e79",
   "metadata": {},
   "outputs": [
    {
     "data": {
      "text/plain": [
       "[2, 2, 0]"
      ]
     },
     "execution_count": 1,
     "metadata": {},
     "output_type": "execute_result"
    }
   ],
   "source": [
    "s.identity(False)"
   ]
  },
  {
   "cell_type": "code",
   "execution_count": null,
   "id": "47cd0a6a",
   "metadata": {},
   "outputs": [
    {
     "data": {
      "text/plain": [
       "True"
      ]
     },
     "execution_count": 1,
     "metadata": {},
     "output_type": "execute_result"
    }
   ],
   "source": [
    "s.identity() & s.max_stable() == s.max_stable()"
   ]
  },
  {
   "cell_type": "markdown",
   "id": "f29df26b",
   "metadata": {},
   "source": [
    "---\n",
    "\n",
    "**in\\_degree(v=None)**\n",
    "\n",
    "The in-degree of a vertex or a list of all in-degrees.\n",
    "\n",
    "INPUT:\n",
    "\n",
    "`v` -- (optional) vertex name\n",
    "\n",
    "OUTPUT:\n",
    "\n",
    "integer or dict\n",
    "\n",
    "EXAMPLES:"
   ]
  },
  {
   "cell_type": "code",
   "execution_count": null,
   "id": "27c1eafd",
   "metadata": {},
   "outputs": [
    {
     "data": {
      "text/plain": [
       "{0: 2, 1: 2, 2: 3, 3: 3, 4: 2}"
      ]
     },
     "execution_count": 1,
     "metadata": {},
     "output_type": "execute_result"
    }
   ],
   "source": [
    "s = sandpiles.House()\n",
    "s.in_degree()"
   ]
  },
  {
   "cell_type": "code",
   "execution_count": null,
   "id": "85b3289d",
   "metadata": {},
   "outputs": [
    {
     "data": {
      "text/plain": [
       "3"
      ]
     },
     "execution_count": 1,
     "metadata": {},
     "output_type": "execute_result"
    }
   ],
   "source": [
    "s.in_degree(2)"
   ]
  },
  {
   "cell_type": "markdown",
   "id": "97567be4",
   "metadata": {},
   "source": [
    "---\n",
    "\n",
    "**invariant\\_factors()**\n",
    "\n",
    "The invariant factors of the sandpile group.\n",
    "\n",
    "OUTPUT:\n",
    "\n",
    "list of integers\n",
    "\n",
    "EXAMPLES:"
   ]
  },
  {
   "cell_type": "code",
   "execution_count": null,
   "id": "f29e4c65",
   "metadata": {},
   "outputs": [
    {
     "data": {
      "text/plain": [
       "[1, 1, 8, 24]"
      ]
     },
     "execution_count": 1,
     "metadata": {},
     "output_type": "execute_result"
    }
   ],
   "source": [
    "s = sandpiles.Grid(2,2)\n",
    "s.invariant_factors()"
   ]
  },
  {
   "cell_type": "markdown",
   "id": "f9a7313a",
   "metadata": {},
   "source": [
    "---\n",
    "\n",
    "**is\\_undirected()**\n",
    "\n",
    "Is the underlying graph undirected? `True` if $(u,v)$ is and edge if and\n",
    "only if $(v,u)$ is an edge, each edge with the same weight.\n",
    "\n",
    "OUTPUT:\n",
    "\n",
    "boolean\n",
    "\n",
    "EXAMPLES:"
   ]
  },
  {
   "cell_type": "code",
   "execution_count": null,
   "id": "fa67875d",
   "metadata": {},
   "outputs": [
    {
     "data": {
      "text/plain": [
       "True"
      ]
     },
     "execution_count": 1,
     "metadata": {},
     "output_type": "execute_result"
    }
   ],
   "source": [
    "sandpiles.Complete(4).is_undirected()"
   ]
  },
  {
   "cell_type": "code",
   "execution_count": null,
   "id": "0bf1e98d",
   "metadata": {},
   "outputs": [
    {
     "data": {
      "text/plain": [
       "False"
      ]
     },
     "execution_count": 1,
     "metadata": {},
     "output_type": "execute_result"
    }
   ],
   "source": [
    "s = Sandpile({0:[1,2], 1:[0,2], 2:[0]}, 0)\n",
    "s.is_undirected()"
   ]
  },
  {
   "cell_type": "markdown",
   "id": "a010ee46",
   "metadata": {},
   "source": [
    "---\n",
    "\n",
    "**jacobian\\_representatives(verbose=True)**\n",
    "\n",
    "Representatives for the elements of the Jacobian group. If `verbose` is\n",
    "`False`, then lists representing the divisors are returned.\n",
    "\n",
    "INPUT:\n",
    "\n",
    "`verbose` -- (default: `True`) boolean\n",
    "\n",
    "OUTPUT:\n",
    "\n",
    "list of SandpileDivisor (or of lists representing divisors)\n",
    "\n",
    "EXAMPLES:\n",
    "\n",
    "For an undirected graph, divisors of the form `s - deg(s)*sink` as `s`\n",
    "varies over the superstables forms a distinct set of representatives for\n",
    "the Jacobian group.:"
   ]
  },
  {
   "cell_type": "code",
   "execution_count": null,
   "id": "f21f9730",
   "metadata": {},
   "outputs": [
    {
     "data": {
      "text/plain": [
       "[[0, 0], [0, 1], [1, 0]]"
      ]
     },
     "execution_count": 1,
     "metadata": {},
     "output_type": "execute_result"
    }
   ],
   "source": [
    "s = sandpiles.Complete(3)\n",
    "s.superstables(False)"
   ]
  },
  {
   "cell_type": "code",
   "execution_count": null,
   "id": "175e42b5",
   "metadata": {},
   "outputs": [
    {
     "data": {
      "text/plain": [
       "[[0, 0, 0], [-1, 0, 1], [-1, 1, 0]]"
      ]
     },
     "execution_count": 1,
     "metadata": {},
     "output_type": "execute_result"
    }
   ],
   "source": [
    "s.jacobian_representatives(False)"
   ]
  },
  {
   "cell_type": "markdown",
   "id": "421b18b8",
   "metadata": {},
   "source": [
    "If the graph is directed, the representatives described above may by\n",
    "equivalent modulo the rowspan of the Laplacian matrix:"
   ]
  },
  {
   "cell_type": "code",
   "execution_count": null,
   "id": "7899394a",
   "metadata": {},
   "outputs": [
    {
     "data": {
      "text/plain": [
       "28"
      ]
     },
     "execution_count": 1,
     "metadata": {},
     "output_type": "execute_result"
    }
   ],
   "source": [
    "s = Sandpile({0: {1: 1, 2: 2}, 1: {0: 2, 2: 4}, 2: {0: 4, 1: 2}},0)\n",
    "s.group_order()"
   ]
  },
  {
   "cell_type": "code",
   "execution_count": null,
   "id": "2637fb11",
   "metadata": {},
   "outputs": [
    {
     "data": {
      "text/plain": [
       "[{0: -5, 1: 3, 2: 2}, {0: -4, 1: 3, 2: 1}]"
      ]
     },
     "execution_count": 1,
     "metadata": {},
     "output_type": "execute_result"
    }
   ],
   "source": [
    "s.jacobian_representatives()"
   ]
  },
  {
   "cell_type": "markdown",
   "id": "0a37a659",
   "metadata": {},
   "source": [
    "Let $\\tau$ be the nonnegative generator of the kernel of the transpose\n",
    "of the Laplacian, and let $tau_s$ be it sink component, then the\n",
    "sandpile group is isomorphic to the direct sum of the cyclic group of\n",
    "order $\\tau_s$ and the Jacobian group. In the example above, we have:"
   ]
  },
  {
   "cell_type": "code",
   "execution_count": null,
   "id": "75a90be7",
   "metadata": {},
   "outputs": [
    {
     "data": {
      "text/plain": [
       "Free module of degree 3 and rank 1 over Integer Ring\n",
       "Echelon basis matrix:\n",
       "[14  5  8]"
      ]
     },
     "execution_count": 1,
     "metadata": {},
     "output_type": "execute_result"
    }
   ],
   "source": [
    "s.laplacian().left_kernel()"
   ]
  },
  {
   "cell_type": "markdown",
   "id": "c7fb3eb7",
   "metadata": {},
   "source": [
    "Note\n",
    "\n",
    "The Jacobian group is the set of all divisors of degree zero modulo the\n",
    "integer rowspan of the Laplacian matrix.\n",
    "\n",
    "---\n",
    "\n",
    "**laplacian()**\n",
    "\n",
    "The Laplacian matrix of the graph. Its *rows* encode the vertex firing\n",
    "rules.\n",
    "\n",
    "OUTPUT:\n",
    "\n",
    "matrix\n",
    "\n",
    "EXAMPLES:"
   ]
  },
  {
   "cell_type": "code",
   "execution_count": null,
   "id": "9f75593e",
   "metadata": {},
   "outputs": [
    {
     "data": {
      "text/plain": [
       "[ 2 -1 -1  0]\n",
       "[-1  3 -1 -1]\n",
       "[-1 -1  3 -1]\n",
       "[ 0 -1 -1  2]"
      ]
     },
     "execution_count": 1,
     "metadata": {},
     "output_type": "execute_result"
    }
   ],
   "source": [
    "G = sandpiles.Diamond()\n",
    "G.laplacian()"
   ]
  },
  {
   "cell_type": "markdown",
   "id": "9b0678c5",
   "metadata": {},
   "source": [
    "Warning\n",
    "\n",
    "The function `laplacian_matrix` should be avoided. It returns the\n",
    "indegree version of the Laplacian.\n",
    "\n",
    "---\n",
    "\n",
    "**markov\\_chain(state, distrib=None)**\n",
    "\n",
    "The sandpile Markov chain for configurations or divisors. The chain\n",
    "starts at `state`. See NOTE for details.\n",
    "\n",
    "INPUT:\n",
    "\n",
    "-   `state` -- SandpileConfig, SandpileDivisor, or list representing one\n",
    "    of these\n",
    "-   `distrib` -- (optional) list of nonnegative numbers summing to 1\n",
    "    (representing a prob. dist.)\n",
    "\n",
    "OUTPUT:\n",
    "\n",
    "generator for Markov chain (see NOTE)\n",
    "\n",
    "EXAMPLES:"
   ]
  },
  {
   "cell_type": "code",
   "execution_count": null,
   "id": "2a7178f3",
   "metadata": {},
   "outputs": [
    {
     "data": {
      "text/plain": [
       "{1: 0, 2: 0, 3: 0}"
      ]
     },
     "execution_count": 1,
     "metadata": {},
     "output_type": "execute_result"
    }
   ],
   "source": [
    "s = sandpiles.Complete(4)\n",
    "m = s.markov_chain([0,0,0])\n",
    "next(m)          # random"
   ]
  },
  {
   "cell_type": "code",
   "execution_count": null,
   "id": "ae7e0283",
   "metadata": {},
   "outputs": [
    {
     "data": {
      "text/plain": [
       "[0, 0, 0]"
      ]
     },
     "execution_count": 1,
     "metadata": {},
     "output_type": "execute_result"
    }
   ],
   "source": [
    "next(m).values() # random"
   ]
  },
  {
   "cell_type": "code",
   "execution_count": null,
   "id": "80f41968",
   "metadata": {},
   "outputs": [
    {
     "data": {
      "text/plain": [
       "[0, 0, 0]"
      ]
     },
     "execution_count": 1,
     "metadata": {},
     "output_type": "execute_result"
    }
   ],
   "source": [
    "next(m).values() # random"
   ]
  },
  {
   "cell_type": "code",
   "execution_count": null,
   "id": "54eb2e86",
   "metadata": {},
   "outputs": [
    {
     "data": {
      "text/plain": [
       "[0, 0, 0]"
      ]
     },
     "execution_count": 1,
     "metadata": {},
     "output_type": "execute_result"
    }
   ],
   "source": [
    "next(m).values() # random"
   ]
  },
  {
   "cell_type": "code",
   "execution_count": null,
   "id": "d91dd23c",
   "metadata": {},
   "outputs": [
    {
     "data": {
      "text/plain": [
       "[0, 1, 0]"
      ]
     },
     "execution_count": 1,
     "metadata": {},
     "output_type": "execute_result"
    }
   ],
   "source": [
    "next(m).values() # random"
   ]
  },
  {
   "cell_type": "code",
   "execution_count": null,
   "id": "d35e5925",
   "metadata": {},
   "outputs": [
    {
     "data": {
      "text/plain": [
       "[0, 2, 0]"
      ]
     },
     "execution_count": 1,
     "metadata": {},
     "output_type": "execute_result"
    }
   ],
   "source": [
    "next(m).values() # random"
   ]
  },
  {
   "cell_type": "code",
   "execution_count": null,
   "id": "ba9d3fc2",
   "metadata": {},
   "outputs": [
    {
     "data": {
      "text/plain": [
       "[0, 2, 1]"
      ]
     },
     "execution_count": 1,
     "metadata": {},
     "output_type": "execute_result"
    }
   ],
   "source": [
    "next(m).values() # random"
   ]
  },
  {
   "cell_type": "code",
   "execution_count": null,
   "id": "b9f90eee",
   "metadata": {},
   "outputs": [
    {
     "data": {
      "text/plain": [
       "[1, 2, 1]"
      ]
     },
     "execution_count": 1,
     "metadata": {},
     "output_type": "execute_result"
    }
   ],
   "source": [
    "next(m).values() # random"
   ]
  },
  {
   "cell_type": "code",
   "execution_count": null,
   "id": "de8c380e",
   "metadata": {},
   "outputs": [
    {
     "data": {
      "text/plain": [
       "[2, 2, 1]"
      ]
     },
     "execution_count": 1,
     "metadata": {},
     "output_type": "execute_result"
    }
   ],
   "source": [
    "next(m).values() # random"
   ]
  },
  {
   "cell_type": "code",
   "execution_count": null,
   "id": "3b41418f",
   "metadata": {},
   "outputs": [
    {
     "data": {
      "text/plain": [
       "[0, 0, 0, 1]"
      ]
     },
     "execution_count": 1,
     "metadata": {},
     "output_type": "execute_result"
    }
   ],
   "source": [
    "m = s.markov_chain(s.zero_div(), [0.1,0.1,0.1,0.7])\n",
    "next(m).values() # random"
   ]
  },
  {
   "cell_type": "code",
   "execution_count": null,
   "id": "952ba50e",
   "metadata": {},
   "outputs": [
    {
     "data": {
      "text/plain": [
       "[0, 0, 1, 1]"
      ]
     },
     "execution_count": 1,
     "metadata": {},
     "output_type": "execute_result"
    }
   ],
   "source": [
    "next(m).values() # random"
   ]
  },
  {
   "cell_type": "code",
   "execution_count": null,
   "id": "b1565228",
   "metadata": {},
   "outputs": [
    {
     "data": {
      "text/plain": [
       "[0, 0, 1, 2]"
      ]
     },
     "execution_count": 1,
     "metadata": {},
     "output_type": "execute_result"
    }
   ],
   "source": [
    "next(m).values() # random"
   ]
  },
  {
   "cell_type": "code",
   "execution_count": null,
   "id": "dfbffc94",
   "metadata": {},
   "outputs": [
    {
     "data": {
      "text/plain": [
       "[1, 1, 2, 0]"
      ]
     },
     "execution_count": 1,
     "metadata": {},
     "output_type": "execute_result"
    }
   ],
   "source": [
    "next(m).values() # random"
   ]
  },
  {
   "cell_type": "code",
   "execution_count": null,
   "id": "4b774d0e",
   "metadata": {},
   "outputs": [
    {
     "data": {
      "text/plain": [
       "[1, 1, 2, 1]"
      ]
     },
     "execution_count": 1,
     "metadata": {},
     "output_type": "execute_result"
    }
   ],
   "source": [
    "next(m).values() # random"
   ]
  },
  {
   "cell_type": "code",
   "execution_count": null,
   "id": "4f81dfb6",
   "metadata": {},
   "outputs": [
    {
     "data": {
      "text/plain": [
       "[1, 1, 2, 2]"
      ]
     },
     "execution_count": 1,
     "metadata": {},
     "output_type": "execute_result"
    }
   ],
   "source": [
    "next(m).values() # random"
   ]
  },
  {
   "cell_type": "code",
   "execution_count": null,
   "id": "7dfdbe03",
   "metadata": {},
   "outputs": [
    {
     "data": {
      "text/plain": [
       "[1, 1, 2, 3]"
      ]
     },
     "execution_count": 1,
     "metadata": {},
     "output_type": "execute_result"
    }
   ],
   "source": [
    "next(m).values() # random"
   ]
  },
  {
   "cell_type": "code",
   "execution_count": null,
   "id": "57817e5d",
   "metadata": {},
   "outputs": [
    {
     "data": {
      "text/plain": [
       "[1, 1, 2, 4]"
      ]
     },
     "execution_count": 1,
     "metadata": {},
     "output_type": "execute_result"
    }
   ],
   "source": [
    "next(m).values() # random"
   ]
  },
  {
   "cell_type": "code",
   "execution_count": null,
   "id": "cad2b92b",
   "metadata": {},
   "outputs": [
    {
     "data": {
      "text/plain": [
       "[1, 1, 3, 4]"
      ]
     },
     "execution_count": 1,
     "metadata": {},
     "output_type": "execute_result"
    }
   ],
   "source": [
    "next(m).values() # random"
   ]
  },
  {
   "cell_type": "markdown",
   "id": "603f3e2b",
   "metadata": {},
   "source": [
    "Note\n",
    "\n",
    "The `closed sandpile Markov chain` has state space consisting of the\n",
    "configurations on a sandpile. It transitions from a state by choosing a\n",
    "vertex at random (according to the probability distribution `distrib`),\n",
    "dropping a grain of sand at that vertex, and stabilizing. If the chosen\n",
    "vertex is the sink, the chain stays at the current state.\n",
    "\n",
    "The `open sandpile Markov chain` has state space consisting of the\n",
    "recurrent elements, i.e., the state space is the sandpile group. It\n",
    "transitions from the configuration $c$ by choosing a vertex $v$ at\n",
    "random according to `distrib`. The next state is the stabilization of\n",
    "$c+v$. If $v$ is the sink vertex, then the stabilization of $c+v$ is\n",
    "defined to be $c$.\n",
    "\n",
    "Note that in either case, if `distrib` is specified, its length is equal\n",
    "to the total number of vertices (including the sink).\n",
    "\n",
    "REFERENCES:\n",
    "\n",
    "---\n",
    "\n",
    "**max\\_stable()**\n",
    "\n",
    "The maximal stable configuration.\n",
    "\n",
    "OUTPUT:\n",
    "\n",
    "SandpileConfig (the maximal stable configuration)\n",
    "\n",
    "EXAMPLES:"
   ]
  },
  {
   "cell_type": "code",
   "execution_count": null,
   "id": "bae9ed3a",
   "metadata": {},
   "outputs": [
    {
     "data": {
      "text/plain": [
       "{1: 1, 2: 2, 3: 2, 4: 1}"
      ]
     },
     "execution_count": 1,
     "metadata": {},
     "output_type": "execute_result"
    }
   ],
   "source": [
    "S = sandpiles.House()\n",
    "S.max_stable()"
   ]
  },
  {
   "cell_type": "markdown",
   "id": "1f4d7563",
   "metadata": {},
   "source": [
    "---\n",
    "\n",
    "**max\\_stable\\_div()**\n",
    "\n",
    "The maximal stable divisor.\n",
    "\n",
    "OUTPUT:\n",
    "\n",
    "SandpileDivisor (the maximal stable divisor)\n",
    "\n",
    "EXAMPLES:"
   ]
  },
  {
   "cell_type": "code",
   "execution_count": null,
   "id": "14194c21",
   "metadata": {},
   "outputs": [
    {
     "data": {
      "text/plain": [
       "{0: 1, 1: 2, 2: 2, 3: 1}"
      ]
     },
     "execution_count": 1,
     "metadata": {},
     "output_type": "execute_result"
    }
   ],
   "source": [
    "s = sandpiles.Diamond()\n",
    "s.max_stable_div()"
   ]
  },
  {
   "cell_type": "code",
   "execution_count": null,
   "id": "dec29cbd",
   "metadata": {},
   "outputs": [
    {
     "data": {
      "text/plain": [
       "{0: 2, 1: 3, 2: 3, 3: 2}"
      ]
     },
     "execution_count": 1,
     "metadata": {},
     "output_type": "execute_result"
    }
   ],
   "source": [
    "s.out_degree()"
   ]
  },
  {
   "cell_type": "markdown",
   "id": "62a50277",
   "metadata": {},
   "source": [
    "---\n",
    "\n",
    "**max\\_superstables(verbose=True)**\n",
    "\n",
    "The maximal superstable configurations. If the underlying graph is\n",
    "undirected, these are the superstables of highest degree. If `verbose`\n",
    "is `False`, the configurations are converted to lists of integers.\n",
    "\n",
    "INPUT:\n",
    "\n",
    "`verbose` -- (default: `True`) boolean\n",
    "\n",
    "OUTPUT:\n",
    "\n",
    "tuple of SandpileConfig\n",
    "\n",
    "EXAMPLES:"
   ]
  },
  {
   "cell_type": "code",
   "execution_count": null,
   "id": "f16ae331",
   "metadata": {},
   "outputs": [
    {
     "data": {
      "text/plain": [
       "[[0, 0, 0],\n",
       " [0, 0, 1],\n",
       " [1, 0, 1],\n",
       " [0, 2, 0],\n",
       " [2, 0, 0],\n",
       " [0, 1, 1],\n",
       " [1, 0, 0],\n",
       " [0, 1, 0]]"
      ]
     },
     "execution_count": 1,
     "metadata": {},
     "output_type": "execute_result"
    }
   ],
   "source": [
    "s = sandpiles.Diamond()\n",
    "s.superstables(False)"
   ]
  },
  {
   "cell_type": "code",
   "execution_count": null,
   "id": "a5669e63",
   "metadata": {},
   "outputs": [
    {
     "data": {
      "text/plain": [
       "[[1, 0, 1], [0, 2, 0], [2, 0, 0], [0, 1, 1]]"
      ]
     },
     "execution_count": 1,
     "metadata": {},
     "output_type": "execute_result"
    }
   ],
   "source": [
    "s.max_superstables(False)"
   ]
  },
  {
   "cell_type": "code",
   "execution_count": null,
   "id": "b12b143e",
   "metadata": {},
   "outputs": [
    {
     "data": {
      "text/plain": [
       "[1, 3, 4]"
      ]
     },
     "execution_count": 1,
     "metadata": {},
     "output_type": "execute_result"
    }
   ],
   "source": [
    "s.h_vector()"
   ]
  },
  {
   "cell_type": "markdown",
   "id": "0572ee27",
   "metadata": {},
   "source": [
    "---\n",
    "\n",
    "**min\\_recurrents(verbose=True)**\n",
    "\n",
    "The minimal recurrent elements. If the underlying graph is undirected,\n",
    "these are the recurrent elements of least degree. If `verbose` is\n",
    "`False`, the configurations are converted to lists of integers.\n",
    "\n",
    "INPUT:\n",
    "\n",
    "`verbose` -- (default: `True`) boolean\n",
    "\n",
    "OUTPUT:\n",
    "\n",
    "list of SandpileConfig\n",
    "\n",
    "EXAMPLES:"
   ]
  },
  {
   "cell_type": "code",
   "execution_count": null,
   "id": "a8a7abf6",
   "metadata": {},
   "outputs": [
    {
     "data": {
      "text/plain": [
       "[[2, 2, 1],\n",
       " [2, 2, 0],\n",
       " [1, 2, 0],\n",
       " [2, 0, 1],\n",
       " [0, 2, 1],\n",
       " [2, 1, 0],\n",
       " [1, 2, 1],\n",
       " [2, 1, 1]]"
      ]
     },
     "execution_count": 1,
     "metadata": {},
     "output_type": "execute_result"
    }
   ],
   "source": [
    "s = sandpiles.Diamond()\n",
    "s.recurrents(False)"
   ]
  },
  {
   "cell_type": "code",
   "execution_count": null,
   "id": "71c09fd3",
   "metadata": {},
   "outputs": [
    {
     "data": {
      "text/plain": [
       "[[1, 2, 0], [2, 0, 1], [0, 2, 1], [2, 1, 0]]"
      ]
     },
     "execution_count": 1,
     "metadata": {},
     "output_type": "execute_result"
    }
   ],
   "source": [
    "s.min_recurrents(False)"
   ]
  },
  {
   "cell_type": "code",
   "execution_count": null,
   "id": "9ff7ebd7",
   "metadata": {},
   "outputs": [
    {
     "data": {
      "text/plain": [
       "[5, 4, 3, 3, 3, 3, 4, 4]"
      ]
     },
     "execution_count": 1,
     "metadata": {},
     "output_type": "execute_result"
    }
   ],
   "source": [
    "[i.deg() for i in s.recurrents()]"
   ]
  },
  {
   "cell_type": "markdown",
   "id": "7587a2dc",
   "metadata": {},
   "source": [
    "---\n",
    "\n",
    "**nonsink\\_vertices()**\n",
    "\n",
    "The nonsink vertices.\n",
    "\n",
    "OUTPUT:\n",
    "\n",
    "list of vertices\n",
    "\n",
    "EXAMPLES:"
   ]
  },
  {
   "cell_type": "code",
   "execution_count": null,
   "id": "2668e76a",
   "metadata": {},
   "outputs": [
    {
     "data": {
      "text/plain": [
       "[(1, 1), (1, 2), (1, 3), (2, 1), (2, 2), (2, 3)]"
      ]
     },
     "execution_count": 1,
     "metadata": {},
     "output_type": "execute_result"
    }
   ],
   "source": [
    "s = sandpiles.Grid(2,3)\n",
    "s.nonsink_vertices()"
   ]
  },
  {
   "cell_type": "markdown",
   "id": "92030a2f",
   "metadata": {},
   "source": [
    "---\n",
    "\n",
    "**nonspecial\\_divisors(verbose=True)**\n",
    "\n",
    "The nonspecial divisors. Only for undirected graphs. (See NOTE.)\n",
    "\n",
    "INPUT:\n",
    "\n",
    "`verbose` -- (default: `True`) boolean\n",
    "\n",
    "OUTPUT:\n",
    "\n",
    "list (of divisors)\n",
    "\n",
    "EXAMPLES:"
   ]
  },
  {
   "cell_type": "code",
   "execution_count": null,
   "id": "6cc03513",
   "metadata": {},
   "outputs": [
    {
     "data": {
      "text/plain": [
       "[-1, 0, 1, 2]"
      ]
     },
     "execution_count": 1,
     "metadata": {},
     "output_type": "execute_result"
    }
   ],
   "source": [
    "S = sandpiles.Complete(4)\n",
    "ns = S.nonspecial_divisors()\n",
    "D = ns[0]\n",
    "D.values()"
   ]
  },
  {
   "cell_type": "code",
   "execution_count": null,
   "id": "159815ab",
   "metadata": {},
   "outputs": [
    {
     "data": {
      "text/plain": [
       "2"
      ]
     },
     "execution_count": 1,
     "metadata": {},
     "output_type": "execute_result"
    }
   ],
   "source": [
    "D.deg()"
   ]
  },
  {
   "cell_type": "code",
   "execution_count": null,
   "id": "9c6fc9f5",
   "metadata": {},
   "outputs": [
    {
     "data": {
      "text/plain": [
       "[[], [], [], [], [], []]"
      ]
     },
     "execution_count": 1,
     "metadata": {},
     "output_type": "execute_result"
    }
   ],
   "source": [
    "[i.effective_div() for i in ns]"
   ]
  },
  {
   "cell_type": "markdown",
   "id": "2c53f150",
   "metadata": {},
   "source": [
    "Note\n",
    "\n",
    "The \"nonspecial divisors\" are those divisors of degree $g-1$ with empty\n",
    "linear system. The term is only defined for undirected graphs. Here,\n",
    "$g = |E| - |V| + 1$ is the genus of the graph (not counting loops as\n",
    "part of $|E|$). If `verbose` is `False`, the divisors are converted to\n",
    "lists of integers.\n",
    "\n",
    "Warning\n",
    "\n",
    "The underlying graph must be undirected.\n",
    "\n",
    "---\n",
    "\n",
    "**out\\_degree(v=None)**\n",
    "\n",
    "The out-degree of a vertex or a list of all out-degrees.\n",
    "\n",
    "INPUT:\n",
    "\n",
    "`v` - (optional) vertex name\n",
    "\n",
    "OUTPUT:\n",
    "\n",
    "integer or dict\n",
    "\n",
    "EXAMPLES:"
   ]
  },
  {
   "cell_type": "code",
   "execution_count": null,
   "id": "42b1bfab",
   "metadata": {},
   "outputs": [
    {
     "data": {
      "text/plain": [
       "{0: 2, 1: 2, 2: 3, 3: 3, 4: 2}"
      ]
     },
     "execution_count": 1,
     "metadata": {},
     "output_type": "execute_result"
    }
   ],
   "source": [
    "s = sandpiles.House()\n",
    "s.out_degree()"
   ]
  },
  {
   "cell_type": "code",
   "execution_count": null,
   "id": "03c5e927",
   "metadata": {},
   "outputs": [
    {
     "data": {
      "text/plain": [
       "3"
      ]
     },
     "execution_count": 1,
     "metadata": {},
     "output_type": "execute_result"
    }
   ],
   "source": [
    "s.out_degree(2)"
   ]
  },
  {
   "cell_type": "markdown",
   "id": "23f93f84",
   "metadata": {},
   "source": [
    "---\n",
    "\n",
    "**picard\\_representatives(d, verbose=True)**\n",
    "\n",
    "Representatives of the divisor classes of degree $d$ in the Picard\n",
    "group. (Also see the documentation for `jacobian_representatives`.)\n",
    "\n",
    "INPUT:\n",
    "\n",
    "-   `d` -- integer\n",
    "-   `verbose` -- (default: `True`) boolean\n",
    "\n",
    "OUTPUT:\n",
    "\n",
    "list of SandpileDivisors (or lists representing divisors)\n",
    "\n",
    "EXAMPLES:"
   ]
  },
  {
   "cell_type": "code",
   "execution_count": null,
   "id": "c0886e29",
   "metadata": {},
   "outputs": [
    {
     "data": {
      "text/plain": [
       "[[0, 0], [0, 1], [1, 0]]"
      ]
     },
     "execution_count": 1,
     "metadata": {},
     "output_type": "execute_result"
    }
   ],
   "source": [
    "s = sandpiles.Complete(3)\n",
    "s.superstables(False)"
   ]
  },
  {
   "cell_type": "code",
   "execution_count": null,
   "id": "ef2aee09",
   "metadata": {},
   "outputs": [
    {
     "data": {
      "text/plain": [
       "[[0, 0, 0], [-1, 0, 1], [-1, 1, 0]]"
      ]
     },
     "execution_count": 1,
     "metadata": {},
     "output_type": "execute_result"
    }
   ],
   "source": [
    "s.jacobian_representatives(False)"
   ]
  },
  {
   "cell_type": "code",
   "execution_count": null,
   "id": "2e671623",
   "metadata": {},
   "outputs": [
    {
     "data": {
      "text/plain": [
       "[[3, 0, 0], [2, 0, 1], [2, 1, 0]]"
      ]
     },
     "execution_count": 1,
     "metadata": {},
     "output_type": "execute_result"
    }
   ],
   "source": [
    "s.picard_representatives(3,False)"
   ]
  },
  {
   "cell_type": "markdown",
   "id": "baf2d285",
   "metadata": {},
   "source": [
    "---\n",
    "\n",
    "**points()**\n",
    "\n",
    "Generators for the multiplicative group of zeros of the sandpile ideal.\n",
    "\n",
    "OUTPUT:\n",
    "\n",
    "list of complex numbers\n",
    "\n",
    "EXAMPLES:\n",
    "\n",
    "The sandpile group in this example is cyclic, and hence there is a\n",
    "single generator for the group of solutions."
   ]
  },
  {
   "cell_type": "code",
   "execution_count": null,
   "id": "279a2b19",
   "metadata": {},
   "outputs": [
    {
     "data": {
      "text/plain": [
       "[[-I, I, 1], [-I, 1, I]]"
      ]
     },
     "execution_count": 1,
     "metadata": {},
     "output_type": "execute_result"
    }
   ],
   "source": [
    "S = sandpiles.Complete(4)\n",
    "S.points()"
   ]
  },
  {
   "cell_type": "markdown",
   "id": "aabc3142",
   "metadata": {},
   "source": [
    "---\n",
    "\n",
    "**postulation()**\n",
    "\n",
    "The postulation number of the toppling ideal. This is the largest weight\n",
    "of a superstable configuration of the graph.\n",
    "\n",
    "OUTPUT:\n",
    "\n",
    "nonnegative integer\n",
    "\n",
    "EXAMPLES:"
   ]
  },
  {
   "cell_type": "code",
   "execution_count": null,
   "id": "bcf3d2c4",
   "metadata": {},
   "outputs": [
    {
     "data": {
      "text/plain": [
       "3"
      ]
     },
     "execution_count": 1,
     "metadata": {},
     "output_type": "execute_result"
    }
   ],
   "source": [
    "s = sandpiles.Complete(4)\n",
    "s.postulation()"
   ]
  },
  {
   "cell_type": "markdown",
   "id": "9989f819",
   "metadata": {},
   "source": [
    "---\n",
    "\n",
    "**recurrents(verbose=True)**\n",
    "\n",
    "The recurrent configurations. If `verbose` is `False`, the\n",
    "configurations are converted to lists of integers.\n",
    "\n",
    "INPUT:\n",
    "\n",
    "`verbose` -- (default: `True`) boolean\n",
    "\n",
    "OUTPUT:\n",
    "\n",
    "list of recurrent configurations\n",
    "\n",
    "EXAMPLES:"
   ]
  },
  {
   "cell_type": "code",
   "execution_count": null,
   "id": "893bc83c",
   "metadata": {},
   "outputs": [
    {
     "data": {
      "text/plain": [
       "[{1: 2, 2: 3, 3: 3, 4: 1}, {1: 1, 2: 3, 3: 3, 4: 0}, {1: 1, 2: 3, 3: 3, 4: 1}]"
      ]
     },
     "execution_count": 1,
     "metadata": {},
     "output_type": "execute_result"
    }
   ],
   "source": [
    "r = Sandpile(graphs.HouseXGraph(),0).recurrents()\n",
    "r[:3]"
   ]
  },
  {
   "cell_type": "code",
   "execution_count": null,
   "id": "c9568c33",
   "metadata": {},
   "outputs": [
    {
     "data": {
      "text/plain": [
       "[[2, 2, 2],\n",
       " [2, 2, 1],\n",
       " [2, 1, 2],\n",
       " [1, 2, 2],\n",
       " [2, 2, 0],\n",
       " [2, 0, 2],\n",
       " [0, 2, 2],\n",
       " [2, 1, 1],\n",
       " [1, 2, 1],\n",
       " [1, 1, 2],\n",
       " [2, 1, 0],\n",
       " [2, 0, 1],\n",
       " [1, 2, 0],\n",
       " [1, 0, 2],\n",
       " [0, 2, 1],\n",
       " [0, 1, 2]]"
      ]
     },
     "execution_count": 1,
     "metadata": {},
     "output_type": "execute_result"
    }
   ],
   "source": [
    "sandpiles.Complete(4).recurrents(False)"
   ]
  },
  {
   "cell_type": "code",
   "execution_count": null,
   "id": "af6490a1",
   "metadata": {},
   "outputs": [
    {
     "data": {
      "text/plain": [
       "[[1, 1, 1], [0, 1, 1], [1, 0, 1], [1, 1, 0]]"
      ]
     },
     "execution_count": 1,
     "metadata": {},
     "output_type": "execute_result"
    }
   ],
   "source": [
    "sandpiles.Cycle(4).recurrents(False)"
   ]
  },
  {
   "cell_type": "markdown",
   "id": "5aff1630",
   "metadata": {},
   "source": [
    "---\n",
    "\n",
    "**reduced\\_laplacian()**\n",
    "\n",
    "The reduced Laplacian matrix of the graph.\n",
    "\n",
    "OUTPUT:\n",
    "\n",
    "matrix\n",
    "\n",
    "EXAMPLES:"
   ]
  },
  {
   "cell_type": "code",
   "execution_count": null,
   "id": "53b1f3ab",
   "metadata": {},
   "outputs": [
    {
     "data": {
      "text/plain": [
       "[ 2 -1 -1  0]\n",
       "[-1  3 -1 -1]\n",
       "[-1 -1  3 -1]\n",
       "[ 0 -1 -1  2]"
      ]
     },
     "execution_count": 1,
     "metadata": {},
     "output_type": "execute_result"
    }
   ],
   "source": [
    "S = sandpiles.Diamond()\n",
    "S.laplacian()"
   ]
  },
  {
   "cell_type": "code",
   "execution_count": null,
   "id": "1d054e4b",
   "metadata": {},
   "outputs": [
    {
     "data": {
      "text/plain": [
       "[ 3 -1 -1]\n",
       "[-1  3 -1]\n",
       "[-1 -1  2]"
      ]
     },
     "execution_count": 1,
     "metadata": {},
     "output_type": "execute_result"
    }
   ],
   "source": [
    "S.reduced_laplacian()"
   ]
  },
  {
   "cell_type": "markdown",
   "id": "464ecbeb",
   "metadata": {},
   "source": [
    "Note\n",
    "\n",
    "This is the Laplacian matrix with the row and column indexed by the sink\n",
    "vertex removed.\n",
    "\n",
    "---\n",
    "\n",
    "**reorder\\_vertices()**\n",
    "\n",
    "A copy of the sandpile with vertex names permuted. After reordering,\n",
    "vertex $u$ comes before vertex $v$ in the list of vertices if $u$ is\n",
    "closer to the sink.\n",
    "\n",
    "OUTPUT:\n",
    "\n",
    "Sandpile\n",
    "\n",
    "EXAMPLES:"
   ]
  },
  {
   "cell_type": "code",
   "execution_count": null,
   "id": "1529f651",
   "metadata": {},
   "outputs": [
    {
     "data": {
      "text/plain": [
       "{0: {1: 1}, 1: {2: 1}, 2: {0: 1, 1: 1}}"
      ]
     },
     "execution_count": 1,
     "metadata": {},
     "output_type": "execute_result"
    }
   ],
   "source": [
    "S = Sandpile({0:[1], 2:[0,1], 1:[2]})\n",
    "S.dict()"
   ]
  },
  {
   "cell_type": "code",
   "execution_count": null,
   "id": "0392aee9",
   "metadata": {},
   "outputs": [],
   "source": [
    "T = S.reorder_vertices()"
   ]
  },
  {
   "cell_type": "markdown",
   "id": "12d8fb39",
   "metadata": {},
   "source": [
    "The vertices 1 and 2 have been swapped:"
   ]
  },
  {
   "cell_type": "code",
   "execution_count": null,
   "id": "4ba38141",
   "metadata": {},
   "outputs": [
    {
     "data": {
      "text/plain": [
       "{0: {1: 1}, 1: {0: 1, 2: 1}, 2: {0: 1}}"
      ]
     },
     "execution_count": 1,
     "metadata": {},
     "output_type": "execute_result"
    }
   ],
   "source": [
    "T.dict() "
   ]
  },
  {
   "cell_type": "markdown",
   "id": "9d0de14c",
   "metadata": {},
   "source": [
    "---\n",
    "\n",
    "**resolution(verbose=False)**\n",
    "\n",
    "A minimal free resolution of the homogeneous toppling ideal. If\n",
    "`verbose` is `True`, then all of the mappings are returned. Otherwise,\n",
    "the resolution is summarized.\n",
    "\n",
    "INPUT:\n",
    "\n",
    "`verbose` -- (default: `False`) boolean\n",
    "\n",
    "OUTPUT:\n",
    "\n",
    "free resolution of the toppling ideal\n",
    "\n",
    "EXAMPLES:"
   ]
  },
  {
   "cell_type": "code",
   "execution_count": null,
   "id": "c37d55cf",
   "metadata": {},
   "outputs": [
    {
     "data": {
      "text/plain": [
       "'R^1 <-- R^5 <-- R^5 <-- R^1'"
      ]
     },
     "execution_count": 1,
     "metadata": {},
     "output_type": "execute_result"
    }
   ],
   "source": [
    "S = Sandpile({0: {}, 1: {0: 1, 2: 1, 3: 4}, 2: {3: 5}, 3: {1: 1, 2: 1}},0)\n",
    "S.resolution()  # a Gorenstein sandpile graph"
   ]
  },
  {
   "cell_type": "code",
   "execution_count": null,
   "id": "fe7caede",
   "metadata": {},
   "outputs": [
    {
     "data": {
      "text/plain": [
       "[\n",
       "[ x1^2 - x3*x0 x3*x1 - x2*x0  x3^2 - x2*x1  x2*x3 - x0^2  x2^2 - x1*x0],\n",
       "<BLANKLINE>\n",
       "[ x3  x2   0  x0   0]  [ x2^2 - x1*x0]\n",
       "[-x1 -x3  x2   0 -x0]  [-x2*x3 + x0^2]\n",
       "[ x0  x1   0  x2   0]  [-x3^2 + x2*x1]\n",
       "[  0   0 -x1 -x3  x2]  [x3*x1 - x2*x0]\n",
       "[  0   0  x0  x1 -x3], [ x1^2 - x3*x0]\n",
       "]"
      ]
     },
     "execution_count": 1,
     "metadata": {},
     "output_type": "execute_result"
    }
   ],
   "source": [
    "S.resolution(True)"
   ]
  },
  {
   "cell_type": "code",
   "execution_count": null,
   "id": "bc6ada64",
   "metadata": {},
   "outputs": [
    {
     "data": {
      "text/plain": [
       "[0 0 0 0 0]"
      ]
     },
     "execution_count": 1,
     "metadata": {},
     "output_type": "execute_result"
    }
   ],
   "source": [
    "r = S.resolution(True)\n",
    "r[0]*r[1]"
   ]
  },
  {
   "cell_type": "code",
   "execution_count": null,
   "id": "a4291b27",
   "metadata": {},
   "outputs": [
    {
     "data": {
      "text/plain": [
       "[0]\n",
       "[0]\n",
       "[0]\n",
       "[0]\n",
       "[0]"
      ]
     },
     "execution_count": 1,
     "metadata": {},
     "output_type": "execute_result"
    }
   ],
   "source": [
    "r[1]*r[2]"
   ]
  },
  {
   "cell_type": "markdown",
   "id": "4881cc38",
   "metadata": {},
   "source": [
    "---\n",
    "\n",
    "**ring()**\n",
    "\n",
    "The ring containing the homogeneous toppling ideal.\n",
    "\n",
    "OUTPUT:\n",
    "\n",
    "ring\n",
    "\n",
    "EXAMPLES:"
   ]
  },
  {
   "cell_type": "code",
   "execution_count": null,
   "id": "171746ce",
   "metadata": {},
   "outputs": [
    {
     "data": {
      "text/plain": [
       "Multivariate Polynomial Ring in x3, x2, x1, x0 over Rational Field"
      ]
     },
     "execution_count": 1,
     "metadata": {},
     "output_type": "execute_result"
    }
   ],
   "source": [
    "S = sandpiles.Diamond()\n",
    "S.ring()"
   ]
  },
  {
   "cell_type": "code",
   "execution_count": null,
   "id": "9b5708a5",
   "metadata": {},
   "outputs": [
    {
     "data": {
      "text/plain": [
       "(x3, x2, x1, x0)"
      ]
     },
     "execution_count": 1,
     "metadata": {},
     "output_type": "execute_result"
    }
   ],
   "source": [
    "S.ring().gens()"
   ]
  },
  {
   "cell_type": "markdown",
   "id": "d1c4aab2",
   "metadata": {},
   "source": [
    "Note\n",
    "\n",
    "The indeterminate `xi` corresponds to the $i$-th vertex as listed my the\n",
    "method `vertices`. The term-ordering is degrevlex with indeterminates\n",
    "ordered according to their distance from the sink (larger indeterminates\n",
    "are further from the sink).\n",
    "\n",
    "---\n",
    "\n",
    "**show(**kwds)\\*\\*\n",
    "\n",
    "Draw the underlying graph.\n",
    "\n",
    "INPUT:\n",
    "\n",
    "`kwds` -- (optional) arguments passed to the show method for Graph or\n",
    "DiGraph\n",
    "\n",
    "EXAMPLES:"
   ]
  },
  {
   "cell_type": "code",
   "execution_count": null,
   "id": "0e7abc04",
   "metadata": {},
   "outputs": [],
   "source": [
    "S = Sandpile({0:[], 1:[0,3,4], 2:[0,3,5], 3:[2,5], 4:[1,1], 5:[2,4]})\n",
    "S.show()\n",
    "S.show(graph_border=True, edge_labels=True)"
   ]
  },
  {
   "cell_type": "markdown",
   "id": "118ea2e3",
   "metadata": {},
   "source": [
    "---\n",
    "\n",
    "**show3d(**kwds)\\*\\*\n",
    "\n",
    "Draw the underlying graph.\n",
    "\n",
    "INPUT:\n",
    "\n",
    "`kwds` -- (optional) arguments passed to the show method for Graph or\n",
    "DiGraph\n",
    "\n",
    "EXAMPLES:"
   ]
  },
  {
   "cell_type": "code",
   "execution_count": null,
   "id": "ff4d7478",
   "metadata": {},
   "outputs": [],
   "source": [
    "S = sandpiles.House()\n",
    "S.show3d()"
   ]
  },
  {
   "cell_type": "markdown",
   "id": "02d684c1",
   "metadata": {},
   "source": [
    "---\n",
    "\n",
    "**sink()**\n",
    "\n",
    "The sink vertex.\n",
    "\n",
    "OUTPUT:\n",
    "\n",
    "sink vertex\n",
    "\n",
    "EXAMPLES:"
   ]
  },
  {
   "cell_type": "code",
   "execution_count": null,
   "id": "d7233c1b",
   "metadata": {},
   "outputs": [
    {
     "data": {
      "text/plain": [
       "0"
      ]
     },
     "execution_count": 1,
     "metadata": {},
     "output_type": "execute_result"
    }
   ],
   "source": [
    "G = sandpiles.House()\n",
    "G.sink()"
   ]
  },
  {
   "cell_type": "code",
   "execution_count": null,
   "id": "a67d001b",
   "metadata": {},
   "outputs": [
    {
     "data": {
      "text/plain": [
       "(0, 0)"
      ]
     },
     "execution_count": 1,
     "metadata": {},
     "output_type": "execute_result"
    }
   ],
   "source": [
    "H = sandpiles.Grid(2,2)\n",
    "H.sink()"
   ]
  },
  {
   "cell_type": "code",
   "execution_count": null,
   "id": "431e8fcc",
   "metadata": {},
   "outputs": [
    {
     "data": {
      "text/plain": [
       "<... 'tuple'>"
      ]
     },
     "execution_count": 1,
     "metadata": {},
     "output_type": "execute_result"
    }
   ],
   "source": [
    "type(H.sink())"
   ]
  },
  {
   "cell_type": "markdown",
   "id": "08c3afc8",
   "metadata": {},
   "source": [
    "---\n",
    "\n",
    "**smith\\_form()**\n",
    "\n",
    "The Smith normal form for the Laplacian. In detail: a list of integer\n",
    "matrices $D, U, V$ such that $ULV = D$ where $L$ is the transpose of the\n",
    "Laplacian, $D$ is diagonal, and $U$ and $V$ are invertible over the\n",
    "integers.\n",
    "\n",
    "OUTPUT:\n",
    "\n",
    "list of integer matrices\n",
    "\n",
    "EXAMPLES:"
   ]
  },
  {
   "cell_type": "code",
   "execution_count": null,
   "id": "171c4759",
   "metadata": {},
   "outputs": [
    {
     "data": {
      "text/plain": [
       "[1 0 0 0]\n",
       "[0 4 0 0]\n",
       "[0 0 4 0]\n",
       "[0 0 0 0]"
      ]
     },
     "execution_count": 1,
     "metadata": {},
     "output_type": "execute_result"
    }
   ],
   "source": [
    "s = sandpiles.Complete(4)\n",
    "D,U,V = s.smith_form()\n",
    "D"
   ]
  },
  {
   "cell_type": "code",
   "execution_count": null,
   "id": "1bfccdf0",
   "metadata": {},
   "outputs": [
    {
     "data": {
      "text/plain": [
       "True"
      ]
     },
     "execution_count": 1,
     "metadata": {},
     "output_type": "execute_result"
    }
   ],
   "source": [
    "U*s.laplacian()*V == D  # laplacian symmetric => transpose not necessary"
   ]
  },
  {
   "cell_type": "markdown",
   "id": "54fbd3a7",
   "metadata": {},
   "source": [
    "---\n",
    "\n",
    "**solve()**\n",
    "\n",
    "Approximations of the complex affine zeros of the sandpile ideal.\n",
    "\n",
    "OUTPUT:\n",
    "\n",
    "list of complex numbers\n",
    "\n",
    "EXAMPLES:"
   ]
  },
  {
   "cell_type": "code",
   "execution_count": null,
   "id": "ad465d56",
   "metadata": {},
   "outputs": [
    {
     "data": {
      "text/plain": [
       "[[-0.707107000000000 + 0.707107000000000*I,\n",
       "  0.707107000000000 - 0.707107000000000*I],\n",
       " [-0.707107000000000 - 0.707107000000000*I,\n",
       "  0.707107000000000 + 0.707107000000000*I],\n",
       " [-I, -I],\n",
       " [I, I],\n",
       " [0.707107000000000 + 0.707107000000000*I,\n",
       "  -0.707107000000000 - 0.707107000000000*I],\n",
       " [0.707107000000000 - 0.707107000000000*I,\n",
       "  -0.707107000000000 + 0.707107000000000*I],\n",
       " [1, 1],\n",
       " [-1, -1]]"
      ]
     },
     "execution_count": 1,
     "metadata": {},
     "output_type": "execute_result"
    }
   ],
   "source": [
    "S = Sandpile({0: {}, 1: {2: 2}, 2: {0: 4, 1: 1}}, 0)\n",
    "S.solve()"
   ]
  },
  {
   "cell_type": "code",
   "execution_count": null,
   "id": "cee5b42d",
   "metadata": {},
   "outputs": [
    {
     "data": {
      "text/plain": [
       "8"
      ]
     },
     "execution_count": 1,
     "metadata": {},
     "output_type": "execute_result"
    }
   ],
   "source": [
    "len(_)"
   ]
  },
  {
   "cell_type": "code",
   "execution_count": null,
   "id": "11084d7d",
   "metadata": {},
   "outputs": [
    {
     "data": {
      "text/plain": [
       "8"
      ]
     },
     "execution_count": 1,
     "metadata": {},
     "output_type": "execute_result"
    }
   ],
   "source": [
    "S.group_order()"
   ]
  },
  {
   "cell_type": "markdown",
   "id": "6b8944dc",
   "metadata": {},
   "source": [
    "Note\n",
    "\n",
    "The solutions form a multiplicative group isomorphic to the sandpile\n",
    "group. Generators for this group are given exactly by `points()`.\n",
    "\n",
    "---\n",
    "\n",
    "**stable\\_configs(smax=None)**\n",
    "\n",
    "Generator for all stable configurations. If `smax` is provided, then the\n",
    "generator gives all stable configurations less than or equal to `smax`.\n",
    "If `smax` does not represent a stable configuration, then each component\n",
    "of `smax` is replaced by the corresponding component of the maximal\n",
    "stable configuration.\n",
    "\n",
    "INPUT:\n",
    "\n",
    "`smax` -- (optional) SandpileConfig or list representing a\n",
    "SandpileConfig\n",
    "\n",
    "OUTPUT:\n",
    "\n",
    "generator for all stable configurations\n",
    "\n",
    "EXAMPLES:"
   ]
  },
  {
   "cell_type": "code",
   "execution_count": null,
   "id": "594069dd",
   "metadata": {},
   "outputs": [
    {
     "data": {
      "text/plain": [
       "{1: 0, 2: 0}"
      ]
     },
     "execution_count": 1,
     "metadata": {},
     "output_type": "execute_result"
    }
   ],
   "source": [
    "s = sandpiles.Complete(3)\n",
    "a = s.stable_configs()\n",
    "next(a)"
   ]
  },
  {
   "cell_type": "code",
   "execution_count": null,
   "id": "de264984",
   "metadata": {},
   "outputs": [
    {
     "data": {
      "text/plain": [
       "[[0, 1], [1, 0], [1, 1]]"
      ]
     },
     "execution_count": 1,
     "metadata": {},
     "output_type": "execute_result"
    }
   ],
   "source": [
    "[i.values() for i in a]"
   ]
  },
  {
   "cell_type": "code",
   "execution_count": null,
   "id": "0c1c8bd1",
   "metadata": {},
   "outputs": [
    {
     "data": {
      "text/plain": [
       "[{1: 0, 2: 0}, {1: 1, 2: 0}]"
      ]
     },
     "execution_count": 1,
     "metadata": {},
     "output_type": "execute_result"
    }
   ],
   "source": [
    "b = s.stable_configs([1,0])\n",
    "list(b)"
   ]
  },
  {
   "cell_type": "markdown",
   "id": "491a4d4a",
   "metadata": {},
   "source": [
    "---\n",
    "\n",
    "**stationary\\_density()**\n",
    "\n",
    "The stationary density of the sandpile.\n",
    "\n",
    "OUTPUT:\n",
    "\n",
    "rational number\n",
    "\n",
    "EXAMPLES:"
   ]
  },
  {
   "cell_type": "code",
   "execution_count": null,
   "id": "9855c2e0",
   "metadata": {},
   "outputs": [
    {
     "data": {
      "text/plain": [
       "10/9"
      ]
     },
     "execution_count": 1,
     "metadata": {},
     "output_type": "execute_result"
    }
   ],
   "source": [
    "s = sandpiles.Complete(3)\n",
    "s.stationary_density()"
   ]
  },
  {
   "cell_type": "code",
   "execution_count": null,
   "id": "0898d3b8",
   "metadata": {},
   "outputs": [
    {
     "data": {
      "text/plain": [
       "9/8"
      ]
     },
     "execution_count": 1,
     "metadata": {},
     "output_type": "execute_result"
    }
   ],
   "source": [
    "s = Sandpile(digraphs.DeBruijn(2,2),'00')\n",
    "s.stationary_density()"
   ]
  },
  {
   "cell_type": "markdown",
   "id": "b010486b",
   "metadata": {},
   "source": [
    "Note\n",
    "\n",
    "The stationary density of a sandpile is the sum\n",
    "$\\sum_c (\\deg(c) + \\deg(s))$ where $\\deg(s)$ is the degree of the sink\n",
    "and the sum is over all recurrent configurations.\n",
    "\n",
    "REFERENCES:\n",
    "\n",
    "-   <a href=\"#Levine2014\" class=\"citation\">[Levine2014]</a>\n",
    "\n",
    "---\n",
    "\n",
    "**superstables(verbose=True)**\n",
    "\n",
    "The superstable configurations. If `verbose` is `False`, the\n",
    "configurations are converted to lists of integers. Superstables for\n",
    "undirected graphs are also known as `G-parking functions`.\n",
    "\n",
    "INPUT:\n",
    "\n",
    "`verbose` -- (default: `True`) boolean\n",
    "\n",
    "OUTPUT:\n",
    "\n",
    "list of SandpileConfig\n",
    "\n",
    "EXAMPLES:"
   ]
  },
  {
   "cell_type": "code",
   "execution_count": null,
   "id": "6ddfaebe",
   "metadata": {},
   "outputs": [
    {
     "data": {
      "text/plain": [
       "[{1: 0, 2: 0, 3: 0, 4: 0}, {1: 1, 2: 0, 3: 0, 4: 1}, {1: 1, 2: 0, 3: 0, 4: 0}]"
      ]
     },
     "execution_count": 1,
     "metadata": {},
     "output_type": "execute_result"
    }
   ],
   "source": [
    "sp = Sandpile(graphs.HouseXGraph(),0).superstables()\n",
    "sp[:3]"
   ]
  },
  {
   "cell_type": "code",
   "execution_count": null,
   "id": "0585a125",
   "metadata": {},
   "outputs": [
    {
     "data": {
      "text/plain": [
       "[[0, 0, 0],\n",
       " [0, 0, 1],\n",
       " [0, 1, 0],\n",
       " [1, 0, 0],\n",
       " [0, 0, 2],\n",
       " [0, 2, 0],\n",
       " [2, 0, 0],\n",
       " [0, 1, 1],\n",
       " [1, 0, 1],\n",
       " [1, 1, 0],\n",
       " [0, 1, 2],\n",
       " [0, 2, 1],\n",
       " [1, 0, 2],\n",
       " [1, 2, 0],\n",
       " [2, 0, 1],\n",
       " [2, 1, 0]]"
      ]
     },
     "execution_count": 1,
     "metadata": {},
     "output_type": "execute_result"
    }
   ],
   "source": [
    "sandpiles.Complete(4).superstables(False)"
   ]
  },
  {
   "cell_type": "code",
   "execution_count": null,
   "id": "2053662b",
   "metadata": {},
   "outputs": [
    {
     "data": {
      "text/plain": [
       "[[0, 0, 0], [1, 0, 0], [0, 1, 0], [0, 0, 1]]"
      ]
     },
     "execution_count": 1,
     "metadata": {},
     "output_type": "execute_result"
    }
   ],
   "source": [
    "sandpiles.Cycle(4).superstables(False)"
   ]
  },
  {
   "cell_type": "markdown",
   "id": "8cd6e8dc",
   "metadata": {},
   "source": [
    "---\n",
    "\n",
    "**symmetric\\_recurrents(orbits)**\n",
    "\n",
    "The symmetric recurrent configurations.\n",
    "\n",
    "INPUT:\n",
    "\n",
    "`orbits` - list of lists partitioning the vertices\n",
    "\n",
    "OUTPUT:\n",
    "\n",
    "list of recurrent configurations\n",
    "\n",
    "EXAMPLES:"
   ]
  },
  {
   "cell_type": "code",
   "execution_count": null,
   "id": "fc8dd577",
   "metadata": {},
   "outputs": [
    {
     "data": {
      "text/plain": [
       "[{1: 2, 2: 2, 3: 2, 4: 1}, {1: 2, 2: 2, 3: 2, 4: 0}]"
      ]
     },
     "execution_count": 1,
     "metadata": {},
     "output_type": "execute_result"
    }
   ],
   "source": [
    "S = Sandpile({0: {},\n",
    "             1: {0: 1, 2: 1, 3: 1},\n",
    "             2: {1: 1, 3: 1, 4: 1},\n",
    "             3: {1: 1, 2: 1, 4: 1},\n",
    "             4: {2: 1, 3: 1}})\n",
    "S.symmetric_recurrents([[1],[2,3],[4]])"
   ]
  },
  {
   "cell_type": "code",
   "execution_count": null,
   "id": "9ac5ff73",
   "metadata": {},
   "outputs": [
    {
     "data": {
      "text/plain": [
       "[{1: 2, 2: 2, 3: 2, 4: 1},\n",
       " {1: 2, 2: 2, 3: 2, 4: 0},\n",
       " {1: 2, 2: 1, 3: 2, 4: 0},\n",
       " {1: 2, 2: 2, 3: 0, 4: 1},\n",
       " {1: 2, 2: 0, 3: 2, 4: 1},\n",
       " {1: 2, 2: 2, 3: 1, 4: 0},\n",
       " {1: 2, 2: 1, 3: 2, 4: 1},\n",
       " {1: 2, 2: 2, 3: 1, 4: 1}]"
      ]
     },
     "execution_count": 1,
     "metadata": {},
     "output_type": "execute_result"
    }
   ],
   "source": [
    "S.recurrents()"
   ]
  },
  {
   "cell_type": "markdown",
   "id": "7f964b13",
   "metadata": {},
   "source": [
    "Note\n",
    "\n",
    "The user is responsible for ensuring that the list of orbits comes from\n",
    "a group of symmetries of the underlying graph.\n",
    "\n",
    "---\n",
    "\n",
    "**tutte\\_polynomial()**\n",
    "\n",
    "The Tutte polynomial of the underlying graph. Only defined for\n",
    "undirected sandpile graphs.\n",
    "\n",
    "OUTPUT:\n",
    "\n",
    "polynomial\n",
    "\n",
    "EXAMPLES:"
   ]
  },
  {
   "cell_type": "code",
   "execution_count": null,
   "id": "c8810c9a",
   "metadata": {},
   "outputs": [
    {
     "data": {
      "text/plain": [
       "x^3 + y^3 + 3*x^2 + 4*x*y + 3*y^2 + 2*x + 2*y"
      ]
     },
     "execution_count": 1,
     "metadata": {},
     "output_type": "execute_result"
    }
   ],
   "source": [
    "s = sandpiles.Complete(4)\n",
    "s.tutte_polynomial()"
   ]
  },
  {
   "cell_type": "code",
   "execution_count": null,
   "id": "0f279f5b",
   "metadata": {},
   "outputs": [
    {
     "data": {
      "text/plain": [
       "y^3 + 3*y^2 + 6*y + 6"
      ]
     },
     "execution_count": 1,
     "metadata": {},
     "output_type": "execute_result"
    }
   ],
   "source": [
    "s.tutte_polynomial().subs(x=1)"
   ]
  },
  {
   "cell_type": "code",
   "execution_count": null,
   "id": "34de98e3",
   "metadata": {},
   "outputs": [
    {
     "data": {
      "text/plain": [
       "True"
      ]
     },
     "execution_count": 1,
     "metadata": {},
     "output_type": "execute_result"
    }
   ],
   "source": [
    "s.tutte_polynomial().subs(x=1).coefficients() == s.h_vector()"
   ]
  },
  {
   "cell_type": "markdown",
   "id": "3ec63ced",
   "metadata": {},
   "source": [
    "---\n",
    "\n",
    "**unsaturated\\_ideal()**\n",
    "\n",
    "The unsaturated, homogeneous toppling ideal.\n",
    "\n",
    "OUTPUT:\n",
    "\n",
    "ideal\n",
    "\n",
    "EXAMPLES:"
   ]
  },
  {
   "cell_type": "code",
   "execution_count": null,
   "id": "c0fa7c18",
   "metadata": {},
   "outputs": [
    {
     "data": {
      "text/plain": [
       "[x1^3 - x3*x2*x0, x2^3 - x3*x1*x0, x3^2 - x2*x1]"
      ]
     },
     "execution_count": 1,
     "metadata": {},
     "output_type": "execute_result"
    }
   ],
   "source": [
    "S = sandpiles.Diamond()\n",
    "S.unsaturated_ideal().gens()"
   ]
  },
  {
   "cell_type": "code",
   "execution_count": null,
   "id": "8f817199",
   "metadata": {},
   "outputs": [
    {
     "data": {
      "text/plain": [
       "[x2*x1 - x0^2, x3^2 - x0^2, x1^3 - x3*x2*x0, x3*x1^2 - x2^2*x0, x2^3 - x3*x1*x0, x3*x2^2 - x1^2*x0]"
      ]
     },
     "execution_count": 1,
     "metadata": {},
     "output_type": "execute_result"
    }
   ],
   "source": [
    "S.ideal().gens()"
   ]
  },
  {
   "cell_type": "markdown",
   "id": "8d7bdca5",
   "metadata": {},
   "source": [
    "---\n",
    "\n",
    "**version()**\n",
    "\n",
    "The version number of Sage Sandpiles.\n",
    "\n",
    "OUTPUT:\n",
    "\n",
    "string\n",
    "\n",
    "EXAMPLES:"
   ]
  },
  {
   "cell_type": "code",
   "execution_count": null,
   "id": "d9ce0c2b",
   "metadata": {},
   "outputs": [
    {
     "data": {
      "text/plain": [
       "Sage Sandpiles Version 2.4"
      ]
     },
     "execution_count": 1,
     "metadata": {},
     "output_type": "execute_result"
    }
   ],
   "source": [
    "Sandpile.version()"
   ]
  },
  {
   "cell_type": "code",
   "execution_count": null,
   "id": "bef44981",
   "metadata": {},
   "outputs": [
    {
     "data": {
      "text/plain": [
       "Sage Sandpiles Version 2.4"
      ]
     },
     "execution_count": 1,
     "metadata": {},
     "output_type": "execute_result"
    }
   ],
   "source": [
    "S = sandpiles.Complete(3)\n",
    "S.version()"
   ]
  },
  {
   "cell_type": "markdown",
   "id": "454e07ca",
   "metadata": {},
   "source": [
    "---\n",
    "\n",
    "**zero\\_config()**\n",
    "\n",
    "The all-zero configuration.\n",
    "\n",
    "OUTPUT:\n",
    "\n",
    "SandpileConfig\n",
    "\n",
    "EXAMPLES:"
   ]
  },
  {
   "cell_type": "code",
   "execution_count": null,
   "id": "b4c96b5c",
   "metadata": {},
   "outputs": [
    {
     "data": {
      "text/plain": [
       "{1: 0, 2: 0, 3: 0}"
      ]
     },
     "execution_count": 1,
     "metadata": {},
     "output_type": "execute_result"
    }
   ],
   "source": [
    "s = sandpiles.Diamond()\n",
    "s.zero_config()"
   ]
  },
  {
   "cell_type": "markdown",
   "id": "e635ff4c",
   "metadata": {},
   "source": [
    "---\n",
    "\n",
    "**zero\\_div()**\n",
    "\n",
    "The all-zero divisor.\n",
    "\n",
    "OUTPUT:\n",
    "\n",
    "SandpileDivisor\n",
    "\n",
    "EXAMPLES:"
   ]
  },
  {
   "cell_type": "code",
   "execution_count": null,
   "id": "62e575e5",
   "metadata": {},
   "outputs": [
    {
     "data": {
      "text/plain": [
       "{0: 0, 1: 0, 2: 0, 3: 0, 4: 0}"
      ]
     },
     "execution_count": 1,
     "metadata": {},
     "output_type": "execute_result"
    }
   ],
   "source": [
    "S = sandpiles.House()\n",
    "S.zero_div()"
   ]
  },
  {
   "cell_type": "markdown",
   "id": "12387ef8",
   "metadata": {},
   "source": [
    "---\n",
    "\n",
    "#### SandpileConfig\n",
    "\n",
    "**Summary of methods.**\n",
    "\n",
    "-   `+ <+>` --- Addition of configurations.\n",
    "-   `& <&>` --- The stabilization of the sum.\n",
    "-   [greater-equal](greater-equal.ipynb) --- `True` if every component\n",
    "    of `self` is at least that of `other`.\n",
    "-   [greater](greater.ipynb) --- `True` if every component of `self` is\n",
    "    at least that of `other` and the two configurations are not equal.\n",
    "-   `~ <~>` --- The stabilized configuration.\n",
    "-   [less-equal](less-equal.ipynb) --- `True` if every component of\n",
    "    `self` is at most that of `other`.\n",
    "-   [less](less.ipynb) --- `True` if every component of `self` is at\n",
    "    most that of `other` and the two configurations are not equal.\n",
    "-   `\\* <mul>` --- The recurrent element equivalent to the sum.\n",
    "-   `^ <pow>` --- Exponentiation for the \\*-operator.\n",
    "-   [-](neg.ipynb) --- The additive inverse of the configuration.\n",
    "-   [-](-.ipynb) --- Subtraction of configurations.\n",
    "-   [add\\_random](add_random-config.ipynb) --- Add one grain of sand to\n",
    "    a random vertex.\n",
    "-   [burst\\_size](burst_size-config.ipynb) --- The burst size of the\n",
    "    configuration with respect to the given vertex.\n",
    "-   [deg](deg-config.ipynb) --- The degree of the configuration.\n",
    "-   [dualize](dualize-config.ipynb) --- The difference with the maximal\n",
    "    stable configuration.\n",
    "-   [equivalent\\_recurrent](equivalent_recurrent-config.ipynb) --- The\n",
    "    recurrent configuration equivalent to the given configuration.\n",
    "-   [equivalent\\_superstable](equivalent_superstable-config.ipynb) ---\n",
    "    The equivalent superstable configuration.\n",
    "-   [fire\\_script](fire_script-config.ipynb) --- Fire the given script.\n",
    "-   [fire\\_unstable](fire_unstable-config.ipynb) --- Fire all unstable\n",
    "    vertices.\n",
    "-   [fire\\_vertex](fire_vertex-config.ipynb) --- Fire the given vertex.\n",
    "-   [help](help-config.ipynb) --- List of SandpileConfig methods.\n",
    "-   [is\\_recurrent](is_recurrent-config.ipynb) --- Is the configuration\n",
    "    recurrent?\n",
    "-   [is\\_stable](is_stable-config.ipynb) --- Is the configuration\n",
    "    stable?\n",
    "-   [is\\_superstable](is_superstable-config.ipynb) --- Is the\n",
    "    configuration superstable?\n",
    "-   [is\\_symmetric](is_symmetric-config.ipynb) --- Is the configuration\n",
    "    symmetric?\n",
    "-   [order](order-config.ipynb) --- The order of the equivalent\n",
    "    recurrent element.\n",
    "-   [sandpile](sandpile-config.ipynb) --- The configuration's underlying\n",
    "    sandpile.\n",
    "-   [show](show-config.ipynb) --- Show the configuration.\n",
    "-   [stabilize](stabilize-config.ipynb) --- The stabilized\n",
    "    configuration.\n",
    "-   [support](support-config.ipynb) --- The vertices containing sand.\n",
    "-   [unstable](unstable-config.ipynb) --- The unstable vertices.\n",
    "-   [values](values-config.ipynb) --- The values of the configuration as\n",
    "    a list.\n",
    "\n",
    "------------------------------------------------------------------------\n",
    "\n",
    "**Complete descriptions of SandpileConfig methods.**\n",
    "\n",
    "---\n",
    "\n",
    "**+**\n",
    "\n",
    "> Addition of configurations.\n",
    ">\n",
    "> INPUT:\n",
    ">\n",
    "> `other` -- SandpileConfig\n",
    ">\n",
    "> OUTPUT:\n",
    ">\n",
    "> sum of `self` and `other`\n",
    ">\n",
    "> EXAMPLES:\n",
    ">\n",
    "> ```{.python .input}\n",
    "> S = sandpiles.Cycle(3)\n",
    "> c = SandpileConfig(S, [1,2])\n",
    "> d = SandpileConfig(S, [3,2])\n",
    "> c + d\n",
    "> ```\n",
    ">\n",
    "> ```{.json .output}\n",
    "> [{\"data\": {\"text/plain\": \"{1: 4, 2: 4}\"}, \"execution_count\": 1, \"metadata\": {}, \"output_type\": \"execute_result\"}]\n",
    "> ```\n",
    "\n",
    "---\n",
    "\n",
    "**&**\n",
    "\n",
    "> The stabilization of the sum.\n",
    ">\n",
    "> INPUT:\n",
    ">\n",
    "> `other` -- SandpileConfig\n",
    ">\n",
    "> OUTPUT:\n",
    ">\n",
    "> SandpileConfig\n",
    ">\n",
    "> EXAMPLES:\n",
    ">\n",
    "> ```{.python .input}\n",
    "> S = sandpiles.Cycle(4)\n",
    "> c = SandpileConfig(S, [1,0,0])\n",
    "> c + c  # ordinary addition\n",
    "> ```\n",
    ">\n",
    "> ```{.json .output}\n",
    "> [{\"data\": {\"text/plain\": \"{1: 2, 2: 0, 3: 0}\"}, \"execution_count\": 1, \"metadata\": {}, \"output_type\": \"execute_result\"}]\n",
    "> ```\n",
    ">\n",
    "> ```{.python .input}\n",
    "> c & c  # add and stabilize\n",
    "> ```\n",
    ">\n",
    "> ```{.json .output}\n",
    "> [{\"data\": {\"text/plain\": \"{1: 0, 2: 1, 3: 0}\"}, \"execution_count\": 1, \"metadata\": {}, \"output_type\": \"execute_result\"}]\n",
    "> ```\n",
    ">\n",
    "> ```{.python .input}\n",
    "> c*c  # add and find equivalent recurrent\n",
    "> ```\n",
    ">\n",
    "> ```{.json .output}\n",
    "> [{\"data\": {\"text/plain\": \"{1: 1, 2: 1, 3: 1}\"}, \"execution_count\": 1, \"metadata\": {}, \"output_type\": \"execute_result\"}]\n",
    "> ```\n",
    ">\n",
    "> ```{.python .input}\n",
    "> ~(c + c) == c & c\n",
    "> ```\n",
    ">\n",
    "> ```{.json .output}\n",
    "> [{\"data\": {\"text/plain\": \"True\"}, \"execution_count\": 1, \"metadata\": {}, \"output_type\": \"execute_result\"}]\n",
    "> ```\n",
    "\n",
    "---\n",
    "\n",
    "**\\>=**\n",
    "\n",
    "> `True` if every component of `self` is at least that of `other`.\n",
    ">\n",
    "> INPUT:\n",
    ">\n",
    "> `other` -- SandpileConfig\n",
    ">\n",
    "> OUTPUT:\n",
    ">\n",
    "> boolean\n",
    ">\n",
    "> EXAMPLES:\n",
    ">\n",
    "> ```{.python .input}\n",
    "> S = sandpiles.Cycle(3)\n",
    "> c = SandpileConfig(S, [1,2])\n",
    "> d = SandpileConfig(S, [2,3])\n",
    "> e = SandpileConfig(S, [2,0])\n",
    "> c >= c\n",
    "> ```\n",
    ">\n",
    "> ```{.json .output}\n",
    "> [{\"data\": {\"text/plain\": \"True\"}, \"execution_count\": 1, \"metadata\": {}, \"output_type\": \"execute_result\"}]\n",
    "> ```\n",
    ">\n",
    "> ```{.python .input}\n",
    "> d >= c\n",
    "> ```\n",
    ">\n",
    "> ```{.json .output}\n",
    "> [{\"data\": {\"text/plain\": \"True\"}, \"execution_count\": 1, \"metadata\": {}, \"output_type\": \"execute_result\"}]\n",
    "> ```\n",
    ">\n",
    "> ```{.python .input}\n",
    "> c >= d\n",
    "> ```\n",
    ">\n",
    "> ```{.json .output}\n",
    "> [{\"data\": {\"text/plain\": \"False\"}, \"execution_count\": 1, \"metadata\": {}, \"output_type\": \"execute_result\"}]\n",
    "> ```\n",
    ">\n",
    "> ```{.python .input}\n",
    "> e >= c\n",
    "> ```\n",
    ">\n",
    "> ```{.json .output}\n",
    "> [{\"data\": {\"text/plain\": \"False\"}, \"execution_count\": 1, \"metadata\": {}, \"output_type\": \"execute_result\"}]\n",
    "> ```\n",
    ">\n",
    "> ```{.python .input}\n",
    "> c >= e\n",
    "> ```\n",
    ">\n",
    "> ```{.json .output}\n",
    "> [{\"data\": {\"text/plain\": \"False\"}, \"execution_count\": 1, \"metadata\": {}, \"output_type\": \"execute_result\"}]\n",
    "> ```\n",
    "\n",
    "---\n",
    "\n",
    "**\\>**\n",
    "\n",
    "> `True` if every component of `self` is at least that of `other` and\n",
    "> the two configurations are not equal.\n",
    ">\n",
    "> INPUT:\n",
    ">\n",
    "> `other` -- SandpileConfig\n",
    ">\n",
    "> OUTPUT:\n",
    ">\n",
    "> boolean\n",
    ">\n",
    "> EXAMPLES:\n",
    ">\n",
    "> ```{.python .input}\n",
    "> S = sandpiles.Cycle(3)\n",
    "> c = SandpileConfig(S, [1,2])\n",
    "> d = SandpileConfig(S, [1,3])\n",
    "> c > c\n",
    "> ```\n",
    ">\n",
    "> ```{.json .output}\n",
    "> [{\"data\": {\"text/plain\": \"False\"}, \"execution_count\": 1, \"metadata\": {}, \"output_type\": \"execute_result\"}]\n",
    "> ```\n",
    ">\n",
    "> ```{.python .input}\n",
    "> d > c\n",
    "> ```\n",
    ">\n",
    "> ```{.json .output}\n",
    "> [{\"data\": {\"text/plain\": \"True\"}, \"execution_count\": 1, \"metadata\": {}, \"output_type\": \"execute_result\"}]\n",
    "> ```\n",
    ">\n",
    "> ```{.python .input}\n",
    "> c > d\n",
    "> ```\n",
    ">\n",
    "> ```{.json .output}\n",
    "> [{\"data\": {\"text/plain\": \"False\"}, \"execution_count\": 1, \"metadata\": {}, \"output_type\": \"execute_result\"}]\n",
    "> ```\n",
    "\n",
    "---\n",
    "\n",
    "**\\~**\n",
    "\n",
    "> The stabilized configuration.\n",
    ">\n",
    "> OUTPUT:\n",
    ">\n",
    "> `SandpileConfig`\n",
    ">\n",
    "> EXAMPLES:\n",
    ">\n",
    "> ```{.python .input}\n",
    "> S = sandpiles.House()\n",
    "> c = S.max_stable() + S.identity()\n",
    "> ~c == c.stabilize()\n",
    "> ```\n",
    ">\n",
    "> ```{.json .output}\n",
    "> [{\"data\": {\"text/plain\": \"True\"}, \"execution_count\": 1, \"metadata\": {}, \"output_type\": \"execute_result\"}]\n",
    "> ```\n",
    "\n",
    "---\n",
    "\n",
    "**\\<=**\n",
    "\n",
    "> `True` if every component of `self` is at most that of `other`.\n",
    ">\n",
    "> INPUT:\n",
    ">\n",
    "> `other` -- SandpileConfig\n",
    ">\n",
    "> OUTPUT:\n",
    ">\n",
    "> boolean\n",
    ">\n",
    "> EXAMPLES:\n",
    ">\n",
    "> ```{.python .input}\n",
    "> S = sandpiles.Cycle(3)\n",
    "> c = SandpileConfig(S, [1,2])\n",
    "> d = SandpileConfig(S, [2,3])\n",
    "> e = SandpileConfig(S, [2,0])\n",
    "> c <= c\n",
    "> ```\n",
    ">\n",
    "> ```{.json .output}\n",
    "> [{\"data\": {\"text/plain\": \"True\"}, \"execution_count\": 1, \"metadata\": {}, \"output_type\": \"execute_result\"}]\n",
    "> ```\n",
    ">\n",
    "> ```{.python .input}\n",
    "> c <= d\n",
    "> ```\n",
    ">\n",
    "> ```{.json .output}\n",
    "> [{\"data\": {\"text/plain\": \"True\"}, \"execution_count\": 1, \"metadata\": {}, \"output_type\": \"execute_result\"}]\n",
    "> ```\n",
    ">\n",
    "> ```{.python .input}\n",
    "> d <= c\n",
    "> ```\n",
    ">\n",
    "> ```{.json .output}\n",
    "> [{\"data\": {\"text/plain\": \"False\"}, \"execution_count\": 1, \"metadata\": {}, \"output_type\": \"execute_result\"}]\n",
    "> ```\n",
    ">\n",
    "> ```{.python .input}\n",
    "> c <= e\n",
    "> ```\n",
    ">\n",
    "> ```{.json .output}\n",
    "> [{\"data\": {\"text/plain\": \"False\"}, \"execution_count\": 1, \"metadata\": {}, \"output_type\": \"execute_result\"}]\n",
    "> ```\n",
    ">\n",
    "> ```{.python .input}\n",
    "> e <= c\n",
    "> ```\n",
    ">\n",
    "> ```{.json .output}\n",
    "> [{\"data\": {\"text/plain\": \"False\"}, \"execution_count\": 1, \"metadata\": {}, \"output_type\": \"execute_result\"}]\n",
    "> ```\n",
    "\n",
    "---\n",
    "\n",
    "**\\<**\n",
    "\n",
    "> `True` if every component of `self` is at most that of `other` and the\n",
    "> two configurations are not equal.\n",
    ">\n",
    "> INPUT:\n",
    ">\n",
    "> `other` -- SandpileConfig\n",
    ">\n",
    "> OUTPUT:\n",
    ">\n",
    "> boolean\n",
    ">\n",
    "> EXAMPLES:\n",
    ">\n",
    "> ```{.python .input}\n",
    "> S = sandpiles.Cycle(3)\n",
    "> c = SandpileConfig(S, [1,2])\n",
    "> d = SandpileConfig(S, [2,3])\n",
    "> c < c\n",
    "> ```\n",
    ">\n",
    "> ```{.json .output}\n",
    "> [{\"data\": {\"text/plain\": \"False\"}, \"execution_count\": 1, \"metadata\": {}, \"output_type\": \"execute_result\"}]\n",
    "> ```\n",
    ">\n",
    "> ```{.python .input}\n",
    "> c < d\n",
    "> ```\n",
    ">\n",
    "> ```{.json .output}\n",
    "> [{\"data\": {\"text/plain\": \"True\"}, \"execution_count\": 1, \"metadata\": {}, \"output_type\": \"execute_result\"}]\n",
    "> ```\n",
    ">\n",
    "> ```{.python .input}\n",
    "> d < c\n",
    "> ```\n",
    ">\n",
    "> ```{.json .output}\n",
    "> [{\"data\": {\"text/plain\": \"False\"}, \"execution_count\": 1, \"metadata\": {}, \"output_type\": \"execute_result\"}]\n",
    "> ```\n",
    ">\n",
    "> ```{.python .input}\n",
    "> S = Sandpile(graphs.CycleGraph(3), 0)\n",
    "> c = SandpileConfig(S, [1,2])\n",
    "> d = SandpileConfig(S, [2,3])\n",
    "> c < c\n",
    "> ```\n",
    ">\n",
    "> ```{.json .output}\n",
    "> [{\"data\": {\"text/plain\": \"False\"}, \"execution_count\": 1, \"metadata\": {}, \"output_type\": \"execute_result\"}]\n",
    "> ```\n",
    ">\n",
    "> ```{.python .input}\n",
    "> c < d\n",
    "> ```\n",
    ">\n",
    "> ```{.json .output}\n",
    "> [{\"data\": {\"text/plain\": \"True\"}, \"execution_count\": 1, \"metadata\": {}, \"output_type\": \"execute_result\"}]\n",
    "> ```\n",
    ">\n",
    "> ```{.python .input}\n",
    "> d < c\n",
    "> ```\n",
    ">\n",
    "> ```{.json .output}\n",
    "> [{\"data\": {\"text/plain\": \"False\"}, \"execution_count\": 1, \"metadata\": {}, \"output_type\": \"execute_result\"}]\n",
    "> ```\n",
    "\n",
    "---\n",
    "\n",
    "**\\***\n",
    "\n",
    "> If `other` is an configuration, the recurrent element equivalent to\n",
    "> the sum. If `other` is an integer, the sum of configuration with\n",
    "> itself `other` times.\n",
    ">\n",
    "> INPUT:\n",
    ">\n",
    "> `other` -- SandpileConfig or Integer\n",
    ">\n",
    "> OUTPUT:\n",
    ">\n",
    "> SandpileConfig\n",
    ">\n",
    "> EXAMPLES:\n",
    ">\n",
    "> ```{.python .input}\n",
    "> S = sandpiles.Cycle(4)\n",
    "> c = SandpileConfig(S, [1,0,0])\n",
    "> c + c  # ordinary addition\n",
    "> ```\n",
    ">\n",
    "> ```{.json .output}\n",
    "> [{\"data\": {\"text/plain\": \"{1: 2, 2: 0, 3: 0}\"}, \"execution_count\": 1, \"metadata\": {}, \"output_type\": \"execute_result\"}]\n",
    "> ```\n",
    ">\n",
    "> ```{.python .input}\n",
    "> c & c  # add and stabilize\n",
    "> ```\n",
    ">\n",
    "> ```{.json .output}\n",
    "> [{\"data\": {\"text/plain\": \"{1: 0, 2: 1, 3: 0}\"}, \"execution_count\": 1, \"metadata\": {}, \"output_type\": \"execute_result\"}]\n",
    "> ```\n",
    ">\n",
    "> ```{.python .input}\n",
    "> c*c  # add and find equivalent recurrent\n",
    "> ```\n",
    ">\n",
    "> ```{.json .output}\n",
    "> [{\"data\": {\"text/plain\": \"{1: 1, 2: 1, 3: 1}\"}, \"execution_count\": 1, \"metadata\": {}, \"output_type\": \"execute_result\"}]\n",
    "> ```\n",
    ">\n",
    "> ```{.python .input}\n",
    "> (c*c).is_recurrent()\n",
    "> ```\n",
    ">\n",
    "> ```{.json .output}\n",
    "> [{\"data\": {\"text/plain\": \"True\"}, \"execution_count\": 1, \"metadata\": {}, \"output_type\": \"execute_result\"}]\n",
    "> ```\n",
    ">\n",
    "> ```{.python .input}\n",
    "> c*(-c) == S.identity()\n",
    "> ```\n",
    ">\n",
    "> ```{.json .output}\n",
    "> [{\"data\": {\"text/plain\": \"True\"}, \"execution_count\": 1, \"metadata\": {}, \"output_type\": \"execute_result\"}]\n",
    "> ```\n",
    ">\n",
    "> ```{.python .input}\n",
    "> c\n",
    "> ```\n",
    ">\n",
    "> ```{.json .output}\n",
    "> [{\"data\": {\"text/plain\": \"{1: 1, 2: 0, 3: 0}\"}, \"execution_count\": 1, \"metadata\": {}, \"output_type\": \"execute_result\"}]\n",
    "> ```\n",
    ">\n",
    "> ```{.python .input}\n",
    "> c*3\n",
    "> ```\n",
    ">\n",
    "> ```{.json .output}\n",
    "> [{\"data\": {\"text/plain\": \"{1: 3, 2: 0, 3: 0}\"}, \"execution_count\": 1, \"metadata\": {}, \"output_type\": \"execute_result\"}]\n",
    "> ```\n",
    "\n",
    "---\n",
    "\n",
    "**^**\n",
    "\n",
    "> The recurrent element equivalent to the sum of the configuration with\n",
    "> itself $k$ times. If $k$ is negative, do the same for the negation of\n",
    "> the configuration. If $k$ is zero, return the identity of the sandpile\n",
    "> group.\n",
    ">\n",
    "> INPUT:\n",
    ">\n",
    "> `k` -- SandpileConfig\n",
    ">\n",
    "> OUTPUT:\n",
    ">\n",
    "> SandpileConfig\n",
    ">\n",
    "> EXAMPLES:\n",
    ">\n",
    "> ```{.python .input}\n",
    "> S = sandpiles.Cycle(4)\n",
    "> c = SandpileConfig(S, [1,0,0])\n",
    "> c^3\n",
    "> ```\n",
    ">\n",
    "> ```{.json .output}\n",
    "> [{\"data\": {\"text/plain\": \"{1: 1, 2: 1, 3: 0}\"}, \"execution_count\": 1, \"metadata\": {}, \"output_type\": \"execute_result\"}]\n",
    "> ```\n",
    ">\n",
    "> ```{.python .input}\n",
    "> (c + c + c) == c^3\n",
    "> ```\n",
    ">\n",
    "> ```{.json .output}\n",
    "> [{\"data\": {\"text/plain\": \"False\"}, \"execution_count\": 1, \"metadata\": {}, \"output_type\": \"execute_result\"}]\n",
    "> ```\n",
    ">\n",
    "> ```{.python .input}\n",
    "> (c + c + c).equivalent_recurrent() == c^3\n",
    "> ```\n",
    ">\n",
    "> ```{.json .output}\n",
    "> [{\"data\": {\"text/plain\": \"True\"}, \"execution_count\": 1, \"metadata\": {}, \"output_type\": \"execute_result\"}]\n",
    "> ```\n",
    ">\n",
    "> ```{.python .input}\n",
    "> c^(-1)\n",
    "> ```\n",
    ">\n",
    "> ```{.json .output}\n",
    "> [{\"data\": {\"text/plain\": \"{1: 1, 2: 1, 3: 0}\"}, \"execution_count\": 1, \"metadata\": {}, \"output_type\": \"execute_result\"}]\n",
    "> ```\n",
    ">\n",
    "> ```{.python .input}\n",
    "> c^0 == S.identity()\n",
    "> ```\n",
    ">\n",
    "> ```{.json .output}\n",
    "> [{\"data\": {\"text/plain\": \"True\"}, \"execution_count\": 1, \"metadata\": {}, \"output_type\": \"execute_result\"}]\n",
    "> ```\n",
    "\n",
    "---\n",
    "\n",
    "**\\_**\n",
    "\n",
    "> The additive inverse of the configuration.\n",
    ">\n",
    "> OUTPUT:\n",
    ">\n",
    "> SandpileConfig\n",
    ">\n",
    "> EXAMPLES:\n",
    ">\n",
    "> ```{.python .input}\n",
    "> S = sandpiles.Cycle(3)\n",
    "> c = SandpileConfig(S, [1,2])\n",
    "> -c\n",
    "> ```\n",
    ">\n",
    "> ```{.json .output}\n",
    "> [{\"data\": {\"text/plain\": \"{1: -1, 2: -2}\"}, \"execution_count\": 1, \"metadata\": {}, \"output_type\": \"execute_result\"}]\n",
    "> ```\n",
    "\n",
    "---\n",
    "\n",
    "**-**\n",
    "\n",
    "> Subtraction of configurations.\n",
    ">\n",
    "> INPUT:\n",
    ">\n",
    "> `other` -- SandpileConfig\n",
    ">\n",
    "> OUTPUT:\n",
    ">\n",
    "> sum of `self` and `other`\n",
    ">\n",
    "> EXAMPLES:\n",
    ">\n",
    "> ```{.python .input}\n",
    "> S = sandpiles.Cycle(3)\n",
    "> c = SandpileConfig(S, [1,2])\n",
    "> d = SandpileConfig(S, [3,2])\n",
    "> c - d\n",
    "> ```\n",
    ">\n",
    "> ```{.json .output}\n",
    "> [{\"data\": {\"text/plain\": \"{1: -2, 2: 0}\"}, \"execution_count\": 1, \"metadata\": {}, \"output_type\": \"execute_result\"}]\n",
    "> ```\n",
    "\n",
    "---\n",
    "\n",
    "**add\\_random(distrib=None)**\n",
    "\n",
    "Add one grain of sand to a random vertex. Optionally, a probability\n",
    "distribution, `distrib`, may be placed on the vertices or the nonsink\n",
    "vertices. See NOTE for details.\n",
    "\n",
    "INPUT:\n",
    "\n",
    "`distrib` -- (optional) list of nonnegative numbers summing to 1\n",
    "(representing a prob. dist.)\n",
    "\n",
    "OUTPUT:\n",
    "\n",
    "SandpileConfig\n",
    "\n",
    "EXAMPLES:"
   ]
  },
  {
   "cell_type": "code",
   "execution_count": null,
   "id": "1c3cd170",
   "metadata": {},
   "outputs": [
    {
     "data": {
      "text/plain": [
       "{1: 0, 2: 1, 3: 0}"
      ]
     },
     "execution_count": 1,
     "metadata": {},
     "output_type": "execute_result"
    }
   ],
   "source": [
    "s = sandpiles.Complete(4)\n",
    "c = s.zero_config()\n",
    "c.add_random() # random"
   ]
  },
  {
   "cell_type": "code",
   "execution_count": null,
   "id": "5c4fcaea",
   "metadata": {},
   "outputs": [
    {
     "data": {
      "text/plain": [
       "{1: 0, 2: 0, 3: 0}"
      ]
     },
     "execution_count": 1,
     "metadata": {},
     "output_type": "execute_result"
    }
   ],
   "source": [
    "c"
   ]
  },
  {
   "cell_type": "code",
   "execution_count": null,
   "id": "872e1c48",
   "metadata": {},
   "outputs": [
    {
     "data": {
      "text/plain": [
       "{1: 0, 2: 0, 3: 1}"
      ]
     },
     "execution_count": 1,
     "metadata": {},
     "output_type": "execute_result"
    }
   ],
   "source": [
    "c.add_random([0.1,0.1,0.8]) # random"
   ]
  },
  {
   "cell_type": "code",
   "execution_count": null,
   "id": "3a5577f3",
   "metadata": {},
   "outputs": [
    {
     "data": {
      "text/plain": [
       "{1: 0, 2: 0, 3: 0}"
      ]
     },
     "execution_count": 1,
     "metadata": {},
     "output_type": "execute_result"
    }
   ],
   "source": [
    "c.add_random([0.7,0.1,0.1,0.1]) # random"
   ]
  },
  {
   "cell_type": "markdown",
   "id": "cb0cfd15",
   "metadata": {},
   "source": [
    "We compute the \"sizes\" of the avalanches caused by adding random grains\n",
    "of sand to the maximal stable configuration on a grid graph. The\n",
    "function `stabilize()` returns the firing vector of the stabilization, a\n",
    "dictionary whose values say how many times each vertex fires in the\n",
    "stabilization.:"
   ]
  },
  {
   "cell_type": "code",
   "execution_count": null,
   "id": "a37f018f",
   "metadata": {},
   "outputs": [],
   "source": [
    "S = sandpiles.Grid(10,10)\n",
    "m = S.max_stable()\n",
    "a = []\n",
    "for i in range(1000):\n",
    "    m = m.add_random()\n",
    "    m, f = m.stabilize(True)\n",
    "    a.append(sum(f.values()))\n",
    "p = list_plot([[log(i+1),log(a.count(i))] for i in [0..max(a)] if a.count(i)])\n",
    "p.axes_labels(['log(N)','log(D(N))'])\n",
    "t = text(\"Distribution of avalanche sizes\", (2,2), rgbcolor=(1,0,0))\n",
    "show(p+t,axes_labels=['log(N)','log(D(N))'])"
   ]
  },
  {
   "cell_type": "markdown",
   "id": "4a62d22c",
   "metadata": {},
   "source": [
    "Note\n",
    "\n",
    "If `distrib` is `None`, then the probability is the uniform probability\n",
    "on the nonsink vertices. Otherwise, there are two possibilities:\n",
    "\n",
    "\\(i\\) the length of `distrib` is equal to the number of vertices, and\n",
    "`distrib` represents a probability distribution on all of the vertices.\n",
    "In that case, the sink may be chosen at random, in which case, the\n",
    "configuration is unchanged.\n",
    "\n",
    "\\(ii\\) Otherwise, the length of `distrib` must be equal to the number of\n",
    "nonsink vertices, and `distrib` represents a probability distribution on\n",
    "the nonsink vertices.\n",
    "\n",
    "Warning\n",
    "\n",
    "If `distrib != None`, the user is responsible for assuring the sum of\n",
    "its entries is 1 and that its length is equal to the number of sink\n",
    "vertices or the number of nonsink vertices.\n",
    "\n",
    "---\n",
    "\n",
    "**burst\\_size(v)**\n",
    "\n",
    "The burst size of the configuration with respect to the given vertex.\n",
    "\n",
    "INPUT:\n",
    "\n",
    "`v` -- vertex\n",
    "\n",
    "OUTPUT:\n",
    "\n",
    "integer\n",
    "\n",
    "EXAMPLES:"
   ]
  },
  {
   "cell_type": "code",
   "execution_count": null,
   "id": "486a1155",
   "metadata": {},
   "outputs": [
    {
     "data": {
      "text/plain": [
       "[1, 1, 1, 1, 1, 1, 1, 1]"
      ]
     },
     "execution_count": 1,
     "metadata": {},
     "output_type": "execute_result"
    }
   ],
   "source": [
    "s = sandpiles.Diamond()\n",
    "[i.burst_size(0) for i in s.recurrents()]"
   ]
  },
  {
   "cell_type": "code",
   "execution_count": null,
   "id": "e660d82a",
   "metadata": {},
   "outputs": [
    {
     "data": {
      "text/plain": [
       "[0, 0, 1, 2, 1, 2, 0, 2]"
      ]
     },
     "execution_count": 1,
     "metadata": {},
     "output_type": "execute_result"
    }
   ],
   "source": [
    "[i.burst_size(1) for i in s.recurrents()]"
   ]
  },
  {
   "cell_type": "markdown",
   "id": "e4a53b59",
   "metadata": {},
   "source": [
    "Note\n",
    "\n",
    "To define `c.burst(v)`, if $v$ is not the sink, let $c'$ be the unique\n",
    "recurrent for which the stabilization of $c' + v$ is $c$. The burst size\n",
    "is then the amount of sand that goes into the sink during this\n",
    "stabilization. If $v$ is the sink, the burst size is defined to be 1.\n",
    "\n",
    "REFERENCES:\n",
    "\n",
    "-   <a href=\"#Levine2014\" class=\"citation\">[Levine2014]</a>\n",
    "\n",
    "---\n",
    "\n",
    "**deg()**\n",
    "\n",
    "The degree of the configuration.\n",
    "\n",
    "OUTPUT:\n",
    "\n",
    "integer\n",
    "\n",
    "EXAMPLES:"
   ]
  },
  {
   "cell_type": "code",
   "execution_count": null,
   "id": "bc9aad4c",
   "metadata": {},
   "outputs": [
    {
     "data": {
      "text/plain": [
       "3"
      ]
     },
     "execution_count": 1,
     "metadata": {},
     "output_type": "execute_result"
    }
   ],
   "source": [
    "S = sandpiles.Complete(3)\n",
    "c = SandpileConfig(S, [1,2])\n",
    "c.deg()"
   ]
  },
  {
   "cell_type": "markdown",
   "id": "464aefb0",
   "metadata": {},
   "source": [
    "---\n",
    "\n",
    "**dualize()**\n",
    "\n",
    "The difference with the maximal stable configuration.\n",
    "\n",
    "OUTPUT:\n",
    "\n",
    "SandpileConfig\n",
    "\n",
    "EXAMPLES:"
   ]
  },
  {
   "cell_type": "code",
   "execution_count": null,
   "id": "76f4c17d",
   "metadata": {},
   "outputs": [
    {
     "data": {
      "text/plain": [
       "{1: 1, 2: 1}"
      ]
     },
     "execution_count": 1,
     "metadata": {},
     "output_type": "execute_result"
    }
   ],
   "source": [
    "S = sandpiles.Cycle(3)\n",
    "c = SandpileConfig(S, [1,2])\n",
    "S.max_stable()"
   ]
  },
  {
   "cell_type": "code",
   "execution_count": null,
   "id": "35cedb91",
   "metadata": {},
   "outputs": [
    {
     "data": {
      "text/plain": [
       "{1: 0, 2: -1}"
      ]
     },
     "execution_count": 1,
     "metadata": {},
     "output_type": "execute_result"
    }
   ],
   "source": [
    "c.dualize()"
   ]
  },
  {
   "cell_type": "code",
   "execution_count": null,
   "id": "58cbafff",
   "metadata": {},
   "outputs": [
    {
     "data": {
      "text/plain": [
       "True"
      ]
     },
     "execution_count": 1,
     "metadata": {},
     "output_type": "execute_result"
    }
   ],
   "source": [
    "S.max_stable() - c == c.dualize()"
   ]
  },
  {
   "cell_type": "markdown",
   "id": "edb06bfe",
   "metadata": {},
   "source": [
    "---\n",
    "\n",
    "**equivalent\\_recurrent(with\\_firing\\_vector=False)**\n",
    "\n",
    "The recurrent configuration equivalent to the given configuration.\n",
    "Optionally, return the corresponding firing vector.\n",
    "\n",
    "INPUT:\n",
    "\n",
    "`with_firing_vector` -- (default: `False`) boolean\n",
    "\n",
    "OUTPUT:\n",
    "\n",
    "SandpileConfig or \\[SandpileConfig, firing\\_vector\\]\n",
    "\n",
    "EXAMPLES:"
   ]
  },
  {
   "cell_type": "code",
   "execution_count": null,
   "id": "a30d01dd",
   "metadata": {},
   "outputs": [
    {
     "data": {
      "text/plain": [
       "True"
      ]
     },
     "execution_count": 1,
     "metadata": {},
     "output_type": "execute_result"
    }
   ],
   "source": [
    "S = sandpiles.Diamond()\n",
    "c = SandpileConfig(S, [0,0,0])\n",
    "c.equivalent_recurrent() == S.identity()"
   ]
  },
  {
   "cell_type": "code",
   "execution_count": null,
   "id": "c3985bdc",
   "metadata": {},
   "outputs": [
    {
     "data": {
      "text/plain": [
       "True"
      ]
     },
     "execution_count": 1,
     "metadata": {},
     "output_type": "execute_result"
    }
   ],
   "source": [
    "x = c.equivalent_recurrent(True)\n",
    "r = vector([x[0][v] for v in S.nonsink_vertices()])\n",
    "f = vector([x[1][v] for v in S.nonsink_vertices()])\n",
    "cv = vector(c.values())\n",
    "r == cv - f*S.reduced_laplacian()"
   ]
  },
  {
   "cell_type": "markdown",
   "id": "d11ebf83",
   "metadata": {},
   "source": [
    "Note\n",
    "\n",
    "Let $L$ be the reduced Laplacian, $c$ the initial configuration, $r$ the\n",
    "returned configuration, and $f$ the firing vector. Then $r = c - f\\cdot\n",
    "L$.\n",
    "\n",
    "---\n",
    "\n",
    "**equivalent\\_superstable(with\\_firing\\_vector=False)**\n",
    "\n",
    "The equivalent superstable configuration. Optionally, return the\n",
    "corresponding firing vector.\n",
    "\n",
    "INPUT:\n",
    "\n",
    "`with_firing_vector` -- (default: `False`) boolean\n",
    "\n",
    "OUTPUT:\n",
    "\n",
    "SandpileConfig or \\[SandpileConfig, firing\\_vector\\]\n",
    "\n",
    "EXAMPLES:"
   ]
  },
  {
   "cell_type": "code",
   "execution_count": null,
   "id": "b6640da6",
   "metadata": {},
   "outputs": [
    {
     "data": {
      "text/plain": [
       "True"
      ]
     },
     "execution_count": 1,
     "metadata": {},
     "output_type": "execute_result"
    }
   ],
   "source": [
    "S = sandpiles.Diamond()\n",
    "m = S.max_stable()\n",
    "m.equivalent_superstable().is_superstable()"
   ]
  },
  {
   "cell_type": "code",
   "execution_count": null,
   "id": "13c7fa80",
   "metadata": {},
   "outputs": [
    {
     "data": {
      "text/plain": [
       "True"
      ]
     },
     "execution_count": 1,
     "metadata": {},
     "output_type": "execute_result"
    }
   ],
   "source": [
    "x = m.equivalent_superstable(True)\n",
    "s = vector(x[0].values())\n",
    "f = vector(x[1].values())\n",
    "mv = vector(m.values())\n",
    "s == mv - f*S.reduced_laplacian()"
   ]
  },
  {
   "cell_type": "markdown",
   "id": "03190a0e",
   "metadata": {},
   "source": [
    "Note\n",
    "\n",
    "Let $L$ be the reduced Laplacian, $c$ the initial configuration, $s$ the\n",
    "returned configuration, and $f$ the firing vector. Then $s = c - f\\cdot\n",
    "L$.\n",
    "\n",
    "---\n",
    "\n",
    "**fire\\_script(sigma)**\n",
    "\n",
    "Fire the given script. In other words, fire each vertex the number of\n",
    "times indicated by `sigma`.\n",
    "\n",
    "INPUT:\n",
    "\n",
    "`sigma` -- SandpileConfig or (list or dict representing a\n",
    "SandpileConfig)\n",
    "\n",
    "OUTPUT:\n",
    "\n",
    "SandpileConfig\n",
    "\n",
    "EXAMPLES:"
   ]
  },
  {
   "cell_type": "code",
   "execution_count": null,
   "id": "5d0c2b7c",
   "metadata": {},
   "outputs": [
    {
     "data": {
      "text/plain": [
       "[2, 3]"
      ]
     },
     "execution_count": 1,
     "metadata": {},
     "output_type": "execute_result"
    }
   ],
   "source": [
    "S = sandpiles.Cycle(4)\n",
    "c = SandpileConfig(S, [1,2,3])\n",
    "c.unstable()"
   ]
  },
  {
   "cell_type": "code",
   "execution_count": null,
   "id": "aa555231",
   "metadata": {},
   "outputs": [
    {
     "data": {
      "text/plain": [
       "{1: 2, 2: 1, 3: 2}"
      ]
     },
     "execution_count": 1,
     "metadata": {},
     "output_type": "execute_result"
    }
   ],
   "source": [
    "c.fire_script(SandpileConfig(S,[0,1,1]))"
   ]
  },
  {
   "cell_type": "code",
   "execution_count": null,
   "id": "b7daf2f1",
   "metadata": {},
   "outputs": [
    {
     "data": {
      "text/plain": [
       "True"
      ]
     },
     "execution_count": 1,
     "metadata": {},
     "output_type": "execute_result"
    }
   ],
   "source": [
    "c.fire_script(SandpileConfig(S,[2,0,0])) == c.fire_vertex(1).fire_vertex(1)"
   ]
  },
  {
   "cell_type": "markdown",
   "id": "e30b0acd",
   "metadata": {},
   "source": [
    "---\n",
    "\n",
    "**fire\\_unstable()**\n",
    "\n",
    "Fire all unstable vertices.\n",
    "\n",
    "OUTPUT:\n",
    "\n",
    "SandpileConfig\n",
    "\n",
    "EXAMPLES:"
   ]
  },
  {
   "cell_type": "code",
   "execution_count": null,
   "id": "361d2b8a",
   "metadata": {},
   "outputs": [
    {
     "data": {
      "text/plain": [
       "{1: 2, 2: 1, 3: 2}"
      ]
     },
     "execution_count": 1,
     "metadata": {},
     "output_type": "execute_result"
    }
   ],
   "source": [
    "S = sandpiles.Cycle(4)\n",
    "c = SandpileConfig(S, [1,2,3])\n",
    "c.fire_unstable()"
   ]
  },
  {
   "cell_type": "markdown",
   "id": "b614b813",
   "metadata": {},
   "source": [
    "---\n",
    "\n",
    "**fire\\_vertex(v)**\n",
    "\n",
    "Fire the given vertex.\n",
    "\n",
    "INPUT:\n",
    "\n",
    "`v` -- vertex\n",
    "\n",
    "OUTPUT:\n",
    "\n",
    "SandpileConfig\n",
    "\n",
    "EXAMPLES:"
   ]
  },
  {
   "cell_type": "code",
   "execution_count": null,
   "id": "71a2e1a2",
   "metadata": {},
   "outputs": [
    {
     "data": {
      "text/plain": [
       "{1: 2, 2: 0}"
      ]
     },
     "execution_count": 1,
     "metadata": {},
     "output_type": "execute_result"
    }
   ],
   "source": [
    "S = sandpiles.Cycle(3)\n",
    "c = SandpileConfig(S, [1,2])\n",
    "c.fire_vertex(2)"
   ]
  },
  {
   "cell_type": "markdown",
   "id": "fdbbda5a",
   "metadata": {},
   "source": [
    "---\n",
    "\n",
    "**help(verbose=True)**\n",
    "\n",
    "List of SandpileConfig methods. If `verbose`, include short\n",
    "descriptions.\n",
    "\n",
    "INPUT:\n",
    "\n",
    "`verbose` -- (default: `True`) boolean\n",
    "\n",
    "OUTPUT:\n",
    "\n",
    "printed string\n",
    "\n",
    "EXAMPLES:"
   ]
  },
  {
   "cell_type": "code",
   "execution_count": null,
   "id": "845d5714",
   "metadata": {},
   "outputs": [
    {
     "data": {
      "text/plain": [
       "Shortcuts for SandpileConfig operations:\n",
       "~c    -- stabilize\n",
       "c & d -- add and stabilize\n",
       "c * c -- add and find equivalent recurrent\n",
       "c^k   -- add k times and find equivalent recurrent\n",
       "         (taking inverse if k is negative)\n",
       "<BLANKLINE>\n",
       "For detailed help with any method FOO listed below,\n",
       "enter \"SandpileConfig.FOO?\" or enter \"c.FOO?\" for any SandpileConfig c.\n",
       "<BLANKLINE>\n",
       "add_random             -- Add one grain of sand to a random vertex.\n",
       "burst_size             -- The burst size of the configuration with respect to the given vertex.\n",
       "deg                    -- The degree of the configuration.\n",
       "dualize                -- The difference with the maximal stable configuration.\n",
       "equivalent_recurrent   -- The recurrent configuration equivalent to the given configuration.\n",
       "equivalent_superstable -- The equivalent superstable configuration.\n",
       "fire_script            -- Fire the given script.\n",
       "fire_unstable          -- Fire all unstable vertices.\n",
       "fire_vertex            -- Fire the given vertex.\n",
       "help                   -- List of SandpileConfig methods.\n",
       "is_recurrent           -- Is the configuration recurrent?\n",
       "is_stable              -- Is the configuration stable?\n",
       "is_superstable         -- Is the configuration superstable?\n",
       "is_symmetric           -- Is the configuration symmetric?\n",
       "order                  -- The order of the equivalent recurrent element.\n",
       "sandpile               -- The configuration's underlying sandpile.\n",
       "show                   -- Show the configuration.\n",
       "stabilize              -- The stabilized configuration.\n",
       "support                -- The vertices containing sand.\n",
       "unstable               -- The unstable vertices.\n",
       "values                 -- The values of the configuration as a list."
      ]
     },
     "execution_count": 1,
     "metadata": {},
     "output_type": "execute_result"
    }
   ],
   "source": [
    "SandpileConfig.help()"
   ]
  },
  {
   "cell_type": "markdown",
   "id": "c22644ef",
   "metadata": {},
   "source": [
    "---\n",
    "\n",
    "**is\\_recurrent()**\n",
    "\n",
    "Is the configuration recurrent?\n",
    "\n",
    "OUTPUT:\n",
    "\n",
    "boolean\n",
    "\n",
    "EXAMPLES:"
   ]
  },
  {
   "cell_type": "code",
   "execution_count": null,
   "id": "b2092964",
   "metadata": {},
   "outputs": [
    {
     "data": {
      "text/plain": [
       "True"
      ]
     },
     "execution_count": 1,
     "metadata": {},
     "output_type": "execute_result"
    }
   ],
   "source": [
    "S = sandpiles.Diamond()\n",
    "S.identity().is_recurrent()"
   ]
  },
  {
   "cell_type": "code",
   "execution_count": null,
   "id": "21d73851",
   "metadata": {},
   "outputs": [
    {
     "data": {
      "text/plain": [
       "False"
      ]
     },
     "execution_count": 1,
     "metadata": {},
     "output_type": "execute_result"
    }
   ],
   "source": [
    "S.zero_config().is_recurrent()"
   ]
  },
  {
   "cell_type": "markdown",
   "id": "5036a67d",
   "metadata": {},
   "source": [
    "---\n",
    "\n",
    "**is\\_stable()**\n",
    "\n",
    "Is the configuration stable?\n",
    "\n",
    "OUTPUT:\n",
    "\n",
    "boolean\n",
    "\n",
    "EXAMPLES:"
   ]
  },
  {
   "cell_type": "code",
   "execution_count": null,
   "id": "4244e03e",
   "metadata": {},
   "outputs": [
    {
     "data": {
      "text/plain": [
       "True"
      ]
     },
     "execution_count": 1,
     "metadata": {},
     "output_type": "execute_result"
    }
   ],
   "source": [
    "S = sandpiles.Diamond()\n",
    "S.max_stable().is_stable()"
   ]
  },
  {
   "cell_type": "code",
   "execution_count": null,
   "id": "fd8af5cd",
   "metadata": {},
   "outputs": [
    {
     "data": {
      "text/plain": [
       "False"
      ]
     },
     "execution_count": 1,
     "metadata": {},
     "output_type": "execute_result"
    }
   ],
   "source": [
    "(2*S.max_stable()).is_stable()"
   ]
  },
  {
   "cell_type": "code",
   "execution_count": null,
   "id": "68626e19",
   "metadata": {},
   "outputs": [
    {
     "data": {
      "text/plain": [
       "True"
      ]
     },
     "execution_count": 1,
     "metadata": {},
     "output_type": "execute_result"
    }
   ],
   "source": [
    "(S.max_stable() & S.max_stable()).is_stable()"
   ]
  },
  {
   "cell_type": "markdown",
   "id": "a690212b",
   "metadata": {},
   "source": [
    "---\n",
    "\n",
    "**is\\_superstable()**\n",
    "\n",
    "Is the configuration superstable?\n",
    "\n",
    "OUTPUT:\n",
    "\n",
    "boolean\n",
    "\n",
    "EXAMPLES:"
   ]
  },
  {
   "cell_type": "code",
   "execution_count": null,
   "id": "c6da062c",
   "metadata": {},
   "outputs": [
    {
     "data": {
      "text/plain": [
       "True"
      ]
     },
     "execution_count": 1,
     "metadata": {},
     "output_type": "execute_result"
    }
   ],
   "source": [
    "S = sandpiles.Diamond()\n",
    "S.zero_config().is_superstable()"
   ]
  },
  {
   "cell_type": "markdown",
   "id": "fcf525e1",
   "metadata": {},
   "source": [
    "---\n",
    "\n",
    "**is\\_symmetric(orbits)**\n",
    "\n",
    "Is the configuration symmetric? Return `True` if the values of the\n",
    "configuration are constant over the vertices in each sublist of\n",
    "`orbits`.\n",
    "\n",
    "INPUT:\n",
    "\n",
    "> `orbits` -- list of lists of vertices\n",
    "\n",
    "OUTPUT:\n",
    "\n",
    "boolean\n",
    "\n",
    "EXAMPLES:"
   ]
  },
  {
   "cell_type": "code",
   "execution_count": null,
   "id": "ecffd3be",
   "metadata": {},
   "outputs": [
    {
     "data": {
      "text/plain": [
       "True"
      ]
     },
     "execution_count": 1,
     "metadata": {},
     "output_type": "execute_result"
    }
   ],
   "source": [
    "S = Sandpile({0: {},\n",
    "             1: {0: 1, 2: 1, 3: 1},\n",
    "             2: {1: 1, 3: 1, 4: 1},\n",
    "             3: {1: 1, 2: 1, 4: 1},\n",
    "             4: {2: 1, 3: 1}})\n",
    "c = SandpileConfig(S, [1, 2, 2, 3])\n",
    "c.is_symmetric([[2,3]])"
   ]
  },
  {
   "cell_type": "markdown",
   "id": "215abf6a",
   "metadata": {},
   "source": [
    "---\n",
    "\n",
    "**order()**\n",
    "\n",
    "The order of the equivalent recurrent element.\n",
    "\n",
    "OUTPUT:\n",
    "\n",
    "integer\n",
    "\n",
    "EXAMPLES:"
   ]
  },
  {
   "cell_type": "code",
   "execution_count": null,
   "id": "747834d4",
   "metadata": {},
   "outputs": [
    {
     "data": {
      "text/plain": [
       "4"
      ]
     },
     "execution_count": 1,
     "metadata": {},
     "output_type": "execute_result"
    }
   ],
   "source": [
    "S = sandpiles.Diamond()\n",
    "c = SandpileConfig(S,[2,0,1])\n",
    "c.order()"
   ]
  },
  {
   "cell_type": "code",
   "execution_count": null,
   "id": "2ca94ebb",
   "metadata": {},
   "outputs": [
    {
     "data": {
      "text/plain": [
       "True"
      ]
     },
     "execution_count": 1,
     "metadata": {},
     "output_type": "execute_result"
    }
   ],
   "source": [
    "~(c + c + c + c) == S.identity()"
   ]
  },
  {
   "cell_type": "code",
   "execution_count": null,
   "id": "96628552",
   "metadata": {},
   "outputs": [
    {
     "data": {
      "text/plain": [
       "1"
      ]
     },
     "execution_count": 1,
     "metadata": {},
     "output_type": "execute_result"
    }
   ],
   "source": [
    "c = SandpileConfig(S,[1,1,0])\n",
    "c.order()"
   ]
  },
  {
   "cell_type": "code",
   "execution_count": null,
   "id": "131ffdbe",
   "metadata": {},
   "outputs": [
    {
     "data": {
      "text/plain": [
       "False"
      ]
     },
     "execution_count": 1,
     "metadata": {},
     "output_type": "execute_result"
    }
   ],
   "source": [
    "c.is_recurrent()"
   ]
  },
  {
   "cell_type": "code",
   "execution_count": null,
   "id": "998c3105",
   "metadata": {},
   "outputs": [
    {
     "data": {
      "text/plain": [
       "True"
      ]
     },
     "execution_count": 1,
     "metadata": {},
     "output_type": "execute_result"
    }
   ],
   "source": [
    "c.equivalent_recurrent() == S.identity()"
   ]
  },
  {
   "cell_type": "markdown",
   "id": "9792ca81",
   "metadata": {},
   "source": [
    "---\n",
    "\n",
    "**sandpile()**\n",
    "\n",
    "The configuration's underlying sandpile.\n",
    "\n",
    "OUTPUT:\n",
    "\n",
    "Sandpile\n",
    "\n",
    "EXAMPLES:"
   ]
  },
  {
   "cell_type": "code",
   "execution_count": null,
   "id": "0e403351",
   "metadata": {},
   "outputs": [
    {
     "data": {
      "text/plain": [
       "Diamond sandpile graph: 4 vertices, sink = 0"
      ]
     },
     "execution_count": 1,
     "metadata": {},
     "output_type": "execute_result"
    }
   ],
   "source": [
    "S = sandpiles.Diamond()\n",
    "c = S.identity()\n",
    "c.sandpile()"
   ]
  },
  {
   "cell_type": "code",
   "execution_count": null,
   "id": "a9bc06c8",
   "metadata": {},
   "outputs": [
    {
     "data": {
      "text/plain": [
       "True"
      ]
     },
     "execution_count": 1,
     "metadata": {},
     "output_type": "execute_result"
    }
   ],
   "source": [
    "c.sandpile() == S"
   ]
  },
  {
   "cell_type": "markdown",
   "id": "7f86e135",
   "metadata": {},
   "source": [
    "---\n",
    "\n",
    "**show(sink=True, colors=True, heights=False, directed=None,**kwds)\\*\\*\n",
    "\n",
    "Show the configuration.\n",
    "\n",
    "INPUT:\n",
    "\n",
    "-   `sink` -- (default: `True`) whether to show the sink\n",
    "-   `colors` -- (default: `True`) whether to color-code the amount of\n",
    "    sand on each vertex\n",
    "-   `heights` -- (default: `False`) whether to label each vertex with\n",
    "    the amount of sand\n",
    "-   `directed` -- (optional) whether to draw directed edges\n",
    "-   `kwds` -- (optional) arguments passed to the show method for Graph\n",
    "\n",
    "EXAMPLES:"
   ]
  },
  {
   "cell_type": "code",
   "execution_count": null,
   "id": "03f5b982",
   "metadata": {},
   "outputs": [],
   "source": [
    "S = sandpiles.Diamond()\n",
    "c = S.identity()\n",
    "c.show()\n",
    "c.show(directed=False)\n",
    "c.show(sink=False,colors=False,heights=True)"
   ]
  },
  {
   "cell_type": "markdown",
   "id": "3566b8d6",
   "metadata": {},
   "source": [
    "---\n",
    "\n",
    "**stabilize(with\\_firing\\_vector=False)**\n",
    "\n",
    "The stabilized configuration. Optionally returns the corresponding\n",
    "firing vector.\n",
    "\n",
    "INPUT:\n",
    "\n",
    "`with_firing_vector` -- (default: `False`) boolean\n",
    "\n",
    "OUTPUT:\n",
    "\n",
    "`SandpileConfig` or `[SandpileConfig, firing_vector]`\n",
    "\n",
    "EXAMPLES:"
   ]
  },
  {
   "cell_type": "code",
   "execution_count": null,
   "id": "b6296e97",
   "metadata": {},
   "outputs": [
    {
     "data": {
      "text/plain": [
       "True"
      ]
     },
     "execution_count": 1,
     "metadata": {},
     "output_type": "execute_result"
    }
   ],
   "source": [
    "S = sandpiles.House()\n",
    "c = 2*S.max_stable()\n",
    "c._set_stabilize()\n",
    "'_stabilize' in c.__dict__"
   ]
  },
  {
   "cell_type": "code",
   "execution_count": null,
   "id": "5bc8dc11",
   "metadata": {},
   "outputs": [
    {
     "data": {
      "text/plain": [
       "[{1: 1, 2: 2, 3: 2, 4: 1}, {1: 2, 2: 2, 3: 3, 4: 3}]"
      ]
     },
     "execution_count": 1,
     "metadata": {},
     "output_type": "execute_result"
    }
   ],
   "source": [
    "S = sandpiles.House()\n",
    "c = S.max_stable() + S.identity()\n",
    "c.stabilize(True)"
   ]
  },
  {
   "cell_type": "code",
   "execution_count": null,
   "id": "f286e437",
   "metadata": {},
   "outputs": [
    {
     "data": {
      "text/plain": [
       "True"
      ]
     },
     "execution_count": 1,
     "metadata": {},
     "output_type": "execute_result"
    }
   ],
   "source": [
    "S.max_stable() & S.identity() == c.stabilize()"
   ]
  },
  {
   "cell_type": "code",
   "execution_count": null,
   "id": "39611d84",
   "metadata": {},
   "outputs": [
    {
     "data": {
      "text/plain": [
       "True"
      ]
     },
     "execution_count": 1,
     "metadata": {},
     "output_type": "execute_result"
    }
   ],
   "source": [
    "~c == c.stabilize()"
   ]
  },
  {
   "cell_type": "markdown",
   "id": "a6eff713",
   "metadata": {},
   "source": [
    "---\n",
    "\n",
    "**support()**\n",
    "\n",
    "The vertices containing sand.\n",
    "\n",
    "OUTPUT:\n",
    "\n",
    "list - support of the configuration\n",
    "\n",
    "EXAMPLES:"
   ]
  },
  {
   "cell_type": "code",
   "execution_count": null,
   "id": "4b90ffb3",
   "metadata": {},
   "outputs": [
    {
     "data": {
      "text/plain": [
       "{1: 2, 2: 2, 3: 0}"
      ]
     },
     "execution_count": 1,
     "metadata": {},
     "output_type": "execute_result"
    }
   ],
   "source": [
    "S = sandpiles.Diamond()\n",
    "c = S.identity()\n",
    "c"
   ]
  },
  {
   "cell_type": "code",
   "execution_count": null,
   "id": "451b849b",
   "metadata": {},
   "outputs": [
    {
     "data": {
      "text/plain": [
       "[1, 2]"
      ]
     },
     "execution_count": 1,
     "metadata": {},
     "output_type": "execute_result"
    }
   ],
   "source": [
    "c.support()"
   ]
  },
  {
   "cell_type": "markdown",
   "id": "5efb1911",
   "metadata": {},
   "source": [
    "---\n",
    "\n",
    "**unstable()**\n",
    "\n",
    "The unstable vertices.\n",
    "\n",
    "OUTPUT:\n",
    "\n",
    "list of vertices\n",
    "\n",
    "EXAMPLES:"
   ]
  },
  {
   "cell_type": "code",
   "execution_count": null,
   "id": "08bf1122",
   "metadata": {},
   "outputs": [
    {
     "data": {
      "text/plain": [
       "[2, 3]"
      ]
     },
     "execution_count": 1,
     "metadata": {},
     "output_type": "execute_result"
    }
   ],
   "source": [
    "S = sandpiles.Cycle(4)\n",
    "c = SandpileConfig(S, [1,2,3])\n",
    "c.unstable()"
   ]
  },
  {
   "cell_type": "markdown",
   "id": "0f32326a",
   "metadata": {},
   "source": [
    "---\n",
    "\n",
    "**values()**\n",
    "\n",
    "The values of the configuration as a list. The list is sorted in the\n",
    "order of the vertices.\n",
    "\n",
    "OUTPUT:\n",
    "\n",
    "list of integers\n",
    "\n",
    "boolean\n",
    "\n",
    "EXAMPLES:"
   ]
  },
  {
   "cell_type": "code",
   "execution_count": null,
   "id": "45bec10a",
   "metadata": {},
   "outputs": [
    {
     "data": {
      "text/plain": [
       "{'b': 1, 'c': 2}"
      ]
     },
     "execution_count": 1,
     "metadata": {},
     "output_type": "execute_result"
    }
   ],
   "source": [
    "S = Sandpile({'a':['c','b'], 'b':['c','a'], 'c':['a']},'a')\n",
    "c = SandpileConfig(S, {'b':1, 'c':2})\n",
    "c"
   ]
  },
  {
   "cell_type": "code",
   "execution_count": null,
   "id": "55512179",
   "metadata": {},
   "outputs": [
    {
     "data": {
      "text/plain": [
       "[1, 2]"
      ]
     },
     "execution_count": 1,
     "metadata": {},
     "output_type": "execute_result"
    }
   ],
   "source": [
    "c.values()"
   ]
  },
  {
   "cell_type": "code",
   "execution_count": null,
   "id": "84e6e6d9",
   "metadata": {},
   "outputs": [
    {
     "data": {
      "text/plain": [
       "['b', 'c']"
      ]
     },
     "execution_count": 1,
     "metadata": {},
     "output_type": "execute_result"
    }
   ],
   "source": [
    "S.nonsink_vertices()"
   ]
  },
  {
   "cell_type": "markdown",
   "id": "fe2b1670",
   "metadata": {},
   "source": [
    "---\n",
    "\n",
    "#### SandpileDivisor\n",
    "\n",
    "**Summary of methods.**\n",
    "\n",
    "-   `+ <+-divisor>` --- Addition of divisors.\n",
    "-   [greater-equal](greater-equal-divisor.ipynb) --- `True` if every\n",
    "    component of `self` is at least that of `other`.\n",
    "-   [greater](greater-divisor.ipynb) --- `True` if every component of\n",
    "    `self` is at least that of `other` and the two divisors are not\n",
    "    equal.\n",
    "-   [less-equal](less-equal-divisor.ipynb) --- `True` if every component\n",
    "    of `self` is at most that of `other`.\n",
    "-   [less](less-divisor.ipynb) --- `True` if every component of `self`\n",
    "    is at most that of `other` and the two divisors are not equal.\n",
    "-   [-](neg-divisor.ipynb) --- The additive inverse of the divisor.\n",
    "-   [-](sub-divisor.ipynb) --- Subtraction of divisors.\n",
    "-   [Dcomplex](Dcomplex-divisor.ipynb) --- The support-complex.\n",
    "-   [add\\_random](add_random-divisor.ipynb) --- Add one grain of sand to\n",
    "    a random vertex.\n",
    "-   [betti](betti-divisor.ipynb) --- The Betti numbers for the\n",
    "    support-complex.\n",
    "-   [deg](deg-divisor.ipynb) --- The degree of the divisor.\n",
    "-   [dualize](dualize-divisor.ipynb) --- The difference with the maximal\n",
    "    stable divisor.\n",
    "-   [effective\\_div](effective_div-divisor.ipynb) --- All linearly\n",
    "    equivalent effective divisors.\n",
    "-   [fire\\_script](fire_script-divisor.ipynb) --- Fire the given script.\n",
    "-   [fire\\_unstable](fire_unstable-divisor.ipynb) --- Fire all unstable\n",
    "    vertices.\n",
    "-   [fire\\_vertex](fire_vertex-divisor.ipynb) --- Fire the given vertex.\n",
    "-   [help](help-divisor.ipynb) --- List of SandpileDivisor methods.\n",
    "-   [is\\_alive](is_alive-divisor.ipynb) --- Is the divisor stabilizable?\n",
    "-   [is\\_linearly\\_equivalent](is_linearly_equivalent-divisor.ipynb) ---\n",
    "    Is the given divisor linearly equivalent?\n",
    "-   [is\\_q\\_reduced](is_q_reduced-divisor.ipynb) --- Is the divisor\n",
    "    q-reduced?\n",
    "-   [is\\_symmetric](is_symmetric-divisor.ipynb) --- Is the divisor\n",
    "    symmetric?\n",
    "-   [is\\_weierstrass\\_pt](is_weierstrass_pt-divisor.ipynb) --- Is the\n",
    "    given vertex a Weierstrass point?\n",
    "-   [polytope](polytope-divisor.ipynb) --- The polytope determining the\n",
    "    complete linear system.\n",
    "-   [polytope\\_integer\\_pts](polytope_integer_pts-divisor.ipynb) --- The\n",
    "    integer points inside divisor's polytope.\n",
    "-   [q\\_reduced](q_reduced-divisor.ipynb) --- The linearly equivalent\n",
    "    q-reduced divisor.\n",
    "-   [rank](rank-divisor.ipynb) --- The rank of the divisor.\n",
    "-   [sandpile](sandpile-divisor.ipynb) --- The divisor's underlying\n",
    "    sandpile.\n",
    "-   [show](show-divisor.ipynb) --- Show the divisor.\n",
    "-   [simulate\\_threshold](simulate_threshold-divisor.ipynb) --- The\n",
    "    first unstabilizable divisor in the closed Markov chain.\n",
    "-   [stabilize](stabilize-divisor.ipynb) --- The stabilization of the\n",
    "    divisor.\n",
    "-   [support](support-divisor.ipynb) --- List of vertices at which the\n",
    "    divisor is nonzero.\n",
    "-   [unstable](unstable-divisor.ipynb) --- The unstable vertices.\n",
    "-   [values](values-divisor.ipynb) --- The values of the divisor as a\n",
    "    list.\n",
    "-   [weierstrass\\_div](weierstrass_div-divisor.ipynb) --- The\n",
    "    Weierstrass divisor.\n",
    "-   [weierstrass\\_gap\\_seq](weierstrass_gap_seq-divisor.ipynb) --- The\n",
    "    Weierstrass gap sequence at the given vertex.\n",
    "-   [weierstrass\\_pts](weierstrass_pts-divisor.ipynb) --- The\n",
    "    Weierstrass points (vertices).\n",
    "-   [weierstrass\\_rank\\_seq](weierstrass_rank_seq-divisor.ipynb) --- The\n",
    "    Weierstrass rank sequence at the given vertex.\n",
    "\n",
    "------------------------------------------------------------------------\n",
    "\n",
    "**Complete descriptions of SandpileDivisor methods.**\n",
    "\n",
    "---\n",
    "\n",
    "**+**\n",
    "\n",
    "> Addition of divisors.\n",
    ">\n",
    "> INPUT:\n",
    ">\n",
    "> `other` -- SandpileDivisor\n",
    ">\n",
    "> OUTPUT:\n",
    ">\n",
    "> sum of `self` and `other`\n",
    ">\n",
    "> EXAMPLES:\n",
    ">\n",
    "> ```{.python .input}\n",
    "> S = sandpiles.Cycle(3)\n",
    "> D = SandpileDivisor(S, [1,2,3])\n",
    "> E = SandpileDivisor(S, [3,2,1])\n",
    "> D + E\n",
    "> ```\n",
    ">\n",
    "> ```{.json .output}\n",
    "> [{\"data\": {\"text/plain\": \"{0: 4, 1: 4, 2: 4}\"}, \"execution_count\": 1, \"metadata\": {}, \"output_type\": \"execute_result\"}]\n",
    "> ```\n",
    "\n",
    "---\n",
    "\n",
    "**\\>=**\n",
    "\n",
    "> `True` if every component of `self` is at least that of `other`.\n",
    ">\n",
    "> INPUT:\n",
    ">\n",
    "> `other` -- SandpileDivisor\n",
    ">\n",
    "> OUTPUT:\n",
    ">\n",
    "> boolean\n",
    ">\n",
    "> EXAMPLES:\n",
    ">\n",
    "> ```{.python .input}\n",
    "> S = sandpiles.Cycle(3)\n",
    "> D = SandpileDivisor(S, [1,2,3])\n",
    "> E = SandpileDivisor(S, [2,3,4])\n",
    "> F = SandpileDivisor(S, [2,0,4])\n",
    "> D >= D\n",
    "> ```\n",
    ">\n",
    "> ```{.json .output}\n",
    "> [{\"data\": {\"text/plain\": \"True\"}, \"execution_count\": 1, \"metadata\": {}, \"output_type\": \"execute_result\"}]\n",
    "> ```\n",
    ">\n",
    "> ```{.python .input}\n",
    "> E >= D\n",
    "> ```\n",
    ">\n",
    "> ```{.json .output}\n",
    "> [{\"data\": {\"text/plain\": \"True\"}, \"execution_count\": 1, \"metadata\": {}, \"output_type\": \"execute_result\"}]\n",
    "> ```\n",
    ">\n",
    "> ```{.python .input}\n",
    "> D >= E\n",
    "> ```\n",
    ">\n",
    "> ```{.json .output}\n",
    "> [{\"data\": {\"text/plain\": \"False\"}, \"execution_count\": 1, \"metadata\": {}, \"output_type\": \"execute_result\"}]\n",
    "> ```\n",
    ">\n",
    "> ```{.python .input}\n",
    "> F >= D\n",
    "> ```\n",
    ">\n",
    "> ```{.json .output}\n",
    "> [{\"data\": {\"text/plain\": \"False\"}, \"execution_count\": 1, \"metadata\": {}, \"output_type\": \"execute_result\"}]\n",
    "> ```\n",
    ">\n",
    "> ```{.python .input}\n",
    "> D >= F\n",
    "> ```\n",
    ">\n",
    "> ```{.json .output}\n",
    "> [{\"data\": {\"text/plain\": \"False\"}, \"execution_count\": 1, \"metadata\": {}, \"output_type\": \"execute_result\"}]\n",
    "> ```\n",
    "\n",
    "---\n",
    "\n",
    "**\\>**\n",
    "\n",
    "> `True` if every component of `self` is at least that of `other` and\n",
    "> the two divisors are not equal.\n",
    ">\n",
    "> INPUT:\n",
    ">\n",
    "> `other` -- SandpileDivisor\n",
    ">\n",
    "> OUTPUT:\n",
    ">\n",
    "> boolean\n",
    ">\n",
    "> EXAMPLES:\n",
    ">\n",
    "> ```{.python .input}\n",
    "> S = sandpiles.Cycle(3)\n",
    "> D = SandpileDivisor(S, [1,2,3])\n",
    "> E = SandpileDivisor(S, [1,3,4])\n",
    "> D > D\n",
    "> ```\n",
    ">\n",
    "> ```{.json .output}\n",
    "> [{\"data\": {\"text/plain\": \"False\"}, \"execution_count\": 1, \"metadata\": {}, \"output_type\": \"execute_result\"}]\n",
    "> ```\n",
    ">\n",
    "> ```{.python .input}\n",
    "> E > D\n",
    "> ```\n",
    ">\n",
    "> ```{.json .output}\n",
    "> [{\"data\": {\"text/plain\": \"True\"}, \"execution_count\": 1, \"metadata\": {}, \"output_type\": \"execute_result\"}]\n",
    "> ```\n",
    ">\n",
    "> ```{.python .input}\n",
    "> D > E\n",
    "> ```\n",
    ">\n",
    "> ```{.json .output}\n",
    "> [{\"data\": {\"text/plain\": \"False\"}, \"execution_count\": 1, \"metadata\": {}, \"output_type\": \"execute_result\"}]\n",
    "> ```\n",
    "\n",
    "---\n",
    "\n",
    "**\\<=**\n",
    "\n",
    "> `True` if every component of `self` is at most that of `other`.\n",
    ">\n",
    "> INPUT:\n",
    ">\n",
    "> `other` -- SandpileDivisor\n",
    ">\n",
    "> OUTPUT:\n",
    ">\n",
    "> boolean\n",
    ">\n",
    "> EXAMPLES:\n",
    ">\n",
    "> ```{.python .input}\n",
    "> S = sandpiles.Cycle(3)\n",
    "> D = SandpileDivisor(S, [1,2,3])\n",
    "> E = SandpileDivisor(S, [2,3,4])\n",
    "> F = SandpileDivisor(S, [2,0,4])\n",
    "> D <= D\n",
    "> ```\n",
    ">\n",
    "> ```{.json .output}\n",
    "> [{\"data\": {\"text/plain\": \"True\"}, \"execution_count\": 1, \"metadata\": {}, \"output_type\": \"execute_result\"}]\n",
    "> ```\n",
    ">\n",
    "> ```{.python .input}\n",
    "> D <= E\n",
    "> ```\n",
    ">\n",
    "> ```{.json .output}\n",
    "> [{\"data\": {\"text/plain\": \"True\"}, \"execution_count\": 1, \"metadata\": {}, \"output_type\": \"execute_result\"}]\n",
    "> ```\n",
    ">\n",
    "> ```{.python .input}\n",
    "> E <= D\n",
    "> ```\n",
    ">\n",
    "> ```{.json .output}\n",
    "> [{\"data\": {\"text/plain\": \"False\"}, \"execution_count\": 1, \"metadata\": {}, \"output_type\": \"execute_result\"}]\n",
    "> ```\n",
    ">\n",
    "> ```{.python .input}\n",
    "> D <= F\n",
    "> ```\n",
    ">\n",
    "> ```{.json .output}\n",
    "> [{\"data\": {\"text/plain\": \"False\"}, \"execution_count\": 1, \"metadata\": {}, \"output_type\": \"execute_result\"}]\n",
    "> ```\n",
    ">\n",
    "> ```{.python .input}\n",
    "> F <= D\n",
    "> ```\n",
    ">\n",
    "> ```{.json .output}\n",
    "> [{\"data\": {\"text/plain\": \"False\"}, \"execution_count\": 1, \"metadata\": {}, \"output_type\": \"execute_result\"}]\n",
    "> ```\n",
    "\n",
    "---\n",
    "\n",
    "**\\<**\n",
    "\n",
    "> `True` if every component of `self` is at most that of `other` and the\n",
    "> two divisors are not equal.\n",
    ">\n",
    "> INPUT:\n",
    ">\n",
    "> `other` -- SandpileDivisor\n",
    ">\n",
    "> OUTPUT:\n",
    ">\n",
    "> boolean\n",
    ">\n",
    "> EXAMPLES:\n",
    ">\n",
    "> ```{.python .input}\n",
    "> S = sandpiles.Cycle(3)\n",
    "> D = SandpileDivisor(S, [1,2,3])\n",
    "> E = SandpileDivisor(S, [2,3,4])\n",
    "> D < D\n",
    "> ```\n",
    ">\n",
    "> ```{.json .output}\n",
    "> [{\"data\": {\"text/plain\": \"False\"}, \"execution_count\": 1, \"metadata\": {}, \"output_type\": \"execute_result\"}]\n",
    "> ```\n",
    ">\n",
    "> ```{.python .input}\n",
    "> D < E\n",
    "> ```\n",
    ">\n",
    "> ```{.json .output}\n",
    "> [{\"data\": {\"text/plain\": \"True\"}, \"execution_count\": 1, \"metadata\": {}, \"output_type\": \"execute_result\"}]\n",
    "> ```\n",
    ">\n",
    "> ```{.python .input}\n",
    "> E < D\n",
    "> ```\n",
    ">\n",
    "> ```{.json .output}\n",
    "> [{\"data\": {\"text/plain\": \"False\"}, \"execution_count\": 1, \"metadata\": {}, \"output_type\": \"execute_result\"}]\n",
    "> ```\n",
    "\n",
    "---\n",
    "\n",
    "**-**\n",
    "\n",
    "> The additive inverse of the divisor.\n",
    ">\n",
    "> OUTPUT:\n",
    ">\n",
    "> SandpileDivisor\n",
    ">\n",
    "> EXAMPLES:\n",
    ">\n",
    "> ```{.python .input}\n",
    "> S = sandpiles.Cycle(3)\n",
    "> D = SandpileDivisor(S, [1,2,3])\n",
    "> -D\n",
    "> ```\n",
    ">\n",
    "> ```{.json .output}\n",
    "> [{\"data\": {\"text/plain\": \"{0: -1, 1: -2, 2: -3}\"}, \"execution_count\": 1, \"metadata\": {}, \"output_type\": \"execute_result\"}]\n",
    "> ```\n",
    "\n",
    "---\n",
    "\n",
    "**-**\n",
    "\n",
    "> Subtraction of divisors.\n",
    ">\n",
    "> INPUT:\n",
    ">\n",
    "> `other` -- SandpileDivisor\n",
    ">\n",
    "> OUTPUT:\n",
    ">\n",
    "> Difference of `self` and `other`\n",
    ">\n",
    "> EXAMPLES:\n",
    ">\n",
    "> ```{.python .input}\n",
    "> S = sandpiles.Cycle(3)\n",
    "> D = SandpileDivisor(S, [1,2,3])\n",
    "> E = SandpileDivisor(S, [3,2,1])\n",
    "> D - E\n",
    "> ```\n",
    ">\n",
    "> ```{.json .output}\n",
    "> [{\"data\": {\"text/plain\": \"{0: -2, 1: 0, 2: 2}\"}, \"execution_count\": 1, \"metadata\": {}, \"output_type\": \"execute_result\"}]\n",
    "> ```\n",
    "\n",
    "---\n",
    "\n",
    "**Dcomplex()**\n",
    "\n",
    "The support-complex. (See NOTE.)\n",
    "\n",
    "OUTPUT:\n",
    "\n",
    "simplicial complex\n",
    "\n",
    "EXAMPLES:"
   ]
  },
  {
   "cell_type": "code",
   "execution_count": null,
   "id": "cd6c8c89",
   "metadata": {},
   "outputs": [
    {
     "data": {
      "text/plain": [
       "{0: 0, 1: Z x Z, 2: 0}"
      ]
     },
     "execution_count": 1,
     "metadata": {},
     "output_type": "execute_result"
    }
   ],
   "source": [
    "S = sandpiles.House()\n",
    "p = SandpileDivisor(S, [1,2,1,0,0]).Dcomplex()\n",
    "p.homology()"
   ]
  },
  {
   "cell_type": "code",
   "execution_count": null,
   "id": "4cce030a",
   "metadata": {},
   "outputs": [
    {
     "data": {
      "text/plain": [
       "[1, 5, 10, 4]"
      ]
     },
     "execution_count": 1,
     "metadata": {},
     "output_type": "execute_result"
    }
   ],
   "source": [
    "p.f_vector()"
   ]
  },
  {
   "cell_type": "code",
   "execution_count": null,
   "id": "85d69122",
   "metadata": {},
   "outputs": [
    {
     "data": {
      "text/plain": [
       "{0: 1, 1: 2, 2: 0}"
      ]
     },
     "execution_count": 1,
     "metadata": {},
     "output_type": "execute_result"
    }
   ],
   "source": [
    "p.betti()"
   ]
  },
  {
   "cell_type": "markdown",
   "id": "fc584e61",
   "metadata": {},
   "source": [
    "Note\n",
    "\n",
    "The \"support-complex\" is the simplicial complex determined by the\n",
    "supports of the linearly equivalent effective divisors.\n",
    "\n",
    "---\n",
    "\n",
    "**add\\_random(distrib=None)**\n",
    "\n",
    "Add one grain of sand to a random vertex.\n",
    "\n",
    "INPUT:\n",
    "\n",
    "`distrib` -- (optional) list of nonnegative numbers representing a\n",
    "probability distribution on the vertices\n",
    "\n",
    "OUTPUT:\n",
    "\n",
    "SandpileDivisor\n",
    "\n",
    "EXAMPLES:"
   ]
  },
  {
   "cell_type": "code",
   "execution_count": null,
   "id": "ab45183d",
   "metadata": {},
   "outputs": [
    {
     "data": {
      "text/plain": [
       "{0: 0, 1: 0, 2: 1, 3: 0}"
      ]
     },
     "execution_count": 1,
     "metadata": {},
     "output_type": "execute_result"
    }
   ],
   "source": [
    "s = sandpiles.Complete(4)\n",
    "D = s.zero_div()\n",
    "D.add_random() # random"
   ]
  },
  {
   "cell_type": "code",
   "execution_count": null,
   "id": "a8a4fb99",
   "metadata": {},
   "outputs": [
    {
     "data": {
      "text/plain": [
       "{0: 0, 1: 0, 2: 0, 3: 1}"
      ]
     },
     "execution_count": 1,
     "metadata": {},
     "output_type": "execute_result"
    }
   ],
   "source": [
    "D.add_random([0.1,0.1,0.1,0.7]) # random"
   ]
  },
  {
   "cell_type": "markdown",
   "id": "614f8cf9",
   "metadata": {},
   "source": [
    "Warning\n",
    "\n",
    "If `distrib` is not `None`, the user is responsible for assuring the sum\n",
    "of its entries is 1.\n",
    "\n",
    "---\n",
    "\n",
    "**betti()**\n",
    "\n",
    "The Betti numbers for the support-complex. (See NOTE.)\n",
    "\n",
    "OUTPUT:\n",
    "\n",
    "dictionary of integers\n",
    "\n",
    "EXAMPLES:"
   ]
  },
  {
   "cell_type": "code",
   "execution_count": null,
   "id": "e97892b5",
   "metadata": {},
   "outputs": [
    {
     "data": {
      "text/plain": [
       "{0: 1, 1: 1}"
      ]
     },
     "execution_count": 1,
     "metadata": {},
     "output_type": "execute_result"
    }
   ],
   "source": [
    "S = sandpiles.Cycle(3)\n",
    "D = SandpileDivisor(S, [2,0,1])\n",
    "D.betti()"
   ]
  },
  {
   "cell_type": "markdown",
   "id": "e6cc43c7",
   "metadata": {},
   "source": [
    "Note\n",
    "\n",
    "The \"support-complex\" is the simplicial complex determined by the\n",
    "supports of the linearly equivalent effective divisors.\n",
    "\n",
    "---\n",
    "\n",
    "**deg()**\n",
    "\n",
    "The degree of the divisor.\n",
    "\n",
    "OUTPUT:\n",
    "\n",
    "integer\n",
    "\n",
    "EXAMPLES:"
   ]
  },
  {
   "cell_type": "code",
   "execution_count": null,
   "id": "7b53541f",
   "metadata": {},
   "outputs": [
    {
     "data": {
      "text/plain": [
       "6"
      ]
     },
     "execution_count": 1,
     "metadata": {},
     "output_type": "execute_result"
    }
   ],
   "source": [
    "S = sandpiles.Cycle(3)\n",
    "D = SandpileDivisor(S, [1,2,3])\n",
    "D.deg()"
   ]
  },
  {
   "cell_type": "markdown",
   "id": "a52a2c41",
   "metadata": {},
   "source": [
    "---\n",
    "\n",
    "**dualize()**\n",
    "\n",
    "The difference with the maximal stable divisor.\n",
    "\n",
    "OUTPUT:\n",
    "\n",
    "SandpileDivisor\n",
    "\n",
    "EXAMPLES:"
   ]
  },
  {
   "cell_type": "code",
   "execution_count": null,
   "id": "3bf452db",
   "metadata": {},
   "outputs": [
    {
     "data": {
      "text/plain": [
       "{0: 0, 1: -1, 2: -2}"
      ]
     },
     "execution_count": 1,
     "metadata": {},
     "output_type": "execute_result"
    }
   ],
   "source": [
    "S = sandpiles.Cycle(3)\n",
    "D = SandpileDivisor(S, [1,2,3])\n",
    "D.dualize()"
   ]
  },
  {
   "cell_type": "code",
   "execution_count": null,
   "id": "005a6f0e",
   "metadata": {},
   "outputs": [
    {
     "data": {
      "text/plain": [
       "True"
      ]
     },
     "execution_count": 1,
     "metadata": {},
     "output_type": "execute_result"
    }
   ],
   "source": [
    "S.max_stable_div() - D == D.dualize()"
   ]
  },
  {
   "cell_type": "markdown",
   "id": "747203e7",
   "metadata": {},
   "source": [
    "---\n",
    "\n",
    "**effective\\_div(verbose=True, with\\_firing\\_vectors=False)**\n",
    "\n",
    "All linearly equivalent effective divisors. If `verbose` is `False`, the\n",
    "divisors are converted to lists of integers. If `with_firing_vectors` is\n",
    "`True` then a list of firing vectors is also given, each of which\n",
    "prescribes the vertices to be fired in order to obtain an effective\n",
    "divisor.\n",
    "\n",
    "INPUT:\n",
    "\n",
    "-   `verbose` -- (default: `True`) boolean\n",
    "-   `with_firing_vectors` -- (default: `False`) boolean\n",
    "\n",
    "OUTPUT:\n",
    "\n",
    "list (of divisors)\n",
    "\n",
    "EXAMPLES:"
   ]
  },
  {
   "cell_type": "code",
   "execution_count": null,
   "id": "e278bff3",
   "metadata": {},
   "outputs": [
    {
     "data": {
      "text/plain": [
       "[{0: 0, 1: 2, 2: 0, 3: 4},\n",
       " {0: 0, 1: 2, 2: 4, 3: 0},\n",
       " {0: 0, 1: 6, 2: 0, 3: 0},\n",
       " {0: 1, 1: 3, 2: 1, 3: 1},\n",
       " {0: 2, 1: 0, 2: 2, 3: 2},\n",
       " {0: 4, 1: 2, 2: 0, 3: 0}]"
      ]
     },
     "execution_count": 1,
     "metadata": {},
     "output_type": "execute_result"
    }
   ],
   "source": [
    "s = sandpiles.Complete(4)\n",
    "D = SandpileDivisor(s,[4,2,0,0])\n",
    "sorted(D.effective_div(), key=str)"
   ]
  },
  {
   "cell_type": "code",
   "execution_count": null,
   "id": "290bff28",
   "metadata": {},
   "outputs": [
    {
     "data": {
      "text/plain": [
       "[[0, 2, 0, 4],\n",
       " [0, 2, 4, 0],\n",
       " [0, 6, 0, 0],\n",
       " [1, 3, 1, 1],\n",
       " [2, 0, 2, 2],\n",
       " [4, 2, 0, 0]]"
      ]
     },
     "execution_count": 1,
     "metadata": {},
     "output_type": "execute_result"
    }
   ],
   "source": [
    "sorted(D.effective_div(False))"
   ]
  },
  {
   "cell_type": "code",
   "execution_count": null,
   "id": "0d76dd59",
   "metadata": {},
   "outputs": [
    {
     "data": {
      "text/plain": [
       "[({0: 0, 1: 2, 2: 0, 3: 4}, (0, -1, -1, -2)),\n",
       " ({0: 0, 1: 2, 2: 4, 3: 0}, (0, -1, -2, -1)),\n",
       " ({0: 0, 1: 6, 2: 0, 3: 0}, (0, -2, -1, -1)),\n",
       " ({0: 1, 1: 3, 2: 1, 3: 1}, (0, -1, -1, -1)),\n",
       " ({0: 2, 1: 0, 2: 2, 3: 2}, (0, 0, -1, -1)),\n",
       " ({0: 4, 1: 2, 2: 0, 3: 0}, (0, 0, 0, 0))]"
      ]
     },
     "execution_count": 1,
     "metadata": {},
     "output_type": "execute_result"
    }
   ],
   "source": [
    "sorted(D.effective_div(with_firing_vectors=True), key=str)"
   ]
  },
  {
   "cell_type": "code",
   "execution_count": null,
   "id": "f4152992",
   "metadata": {},
   "outputs": [
    {
     "data": {
      "text/plain": [
       "[0, 6, 0, 0]"
      ]
     },
     "execution_count": 1,
     "metadata": {},
     "output_type": "execute_result"
    }
   ],
   "source": [
    "a = _[2]\n",
    "a[0].values()"
   ]
  },
  {
   "cell_type": "code",
   "execution_count": null,
   "id": "85a9a506",
   "metadata": {},
   "outputs": [
    {
     "data": {
      "text/plain": [
       "(0, 6, 0, 0)"
      ]
     },
     "execution_count": 1,
     "metadata": {},
     "output_type": "execute_result"
    }
   ],
   "source": [
    "vector(D.values()) - s.laplacian()*a[1]"
   ]
  },
  {
   "cell_type": "code",
   "execution_count": null,
   "id": "550516d5",
   "metadata": {},
   "outputs": [
    {
     "data": {
      "text/plain": [
       "[([0, 2, 0, 4], (0, -1, -1, -2)),\n",
       " ([0, 2, 4, 0], (0, -1, -2, -1)),\n",
       " ([0, 6, 0, 0], (0, -2, -1, -1)),\n",
       " ([1, 3, 1, 1], (0, -1, -1, -1)),\n",
       " ([2, 0, 2, 2], (0, 0, -1, -1)),\n",
       " ([4, 2, 0, 0], (0, 0, 0, 0))]"
      ]
     },
     "execution_count": 1,
     "metadata": {},
     "output_type": "execute_result"
    }
   ],
   "source": [
    "sorted(D.effective_div(False, True))"
   ]
  },
  {
   "cell_type": "code",
   "execution_count": null,
   "id": "2c1311e2",
   "metadata": {},
   "outputs": [
    {
     "data": {
      "text/plain": [
       "[]"
      ]
     },
     "execution_count": 1,
     "metadata": {},
     "output_type": "execute_result"
    }
   ],
   "source": [
    "D = SandpileDivisor(s,[-1,0,0,0])\n",
    "D.effective_div(False,True)"
   ]
  },
  {
   "cell_type": "markdown",
   "id": "9b3f23c3",
   "metadata": {},
   "source": [
    "---\n",
    "\n",
    "**fire\\_script(sigma)**\n",
    "\n",
    "Fire the given script. In other words, fire each vertex the number of\n",
    "times indicated by `sigma`.\n",
    "\n",
    "INPUT:\n",
    "\n",
    "`sigma` -- SandpileDivisor or (list or dict representing a\n",
    "SandpileDivisor)\n",
    "\n",
    "OUTPUT:\n",
    "\n",
    "SandpileDivisor\n",
    "\n",
    "EXAMPLES:"
   ]
  },
  {
   "cell_type": "code",
   "execution_count": null,
   "id": "16324bcc",
   "metadata": {},
   "outputs": [
    {
     "data": {
      "text/plain": [
       "[1, 2]"
      ]
     },
     "execution_count": 1,
     "metadata": {},
     "output_type": "execute_result"
    }
   ],
   "source": [
    "S = sandpiles.Cycle(3)\n",
    "D = SandpileDivisor(S, [1,2,3])\n",
    "D.unstable()"
   ]
  },
  {
   "cell_type": "code",
   "execution_count": null,
   "id": "3d6ea06d",
   "metadata": {},
   "outputs": [
    {
     "data": {
      "text/plain": [
       "{0: 3, 1: 1, 2: 2}"
      ]
     },
     "execution_count": 1,
     "metadata": {},
     "output_type": "execute_result"
    }
   ],
   "source": [
    "D.fire_script([0,1,1])"
   ]
  },
  {
   "cell_type": "code",
   "execution_count": null,
   "id": "a8f48bfc",
   "metadata": {},
   "outputs": [
    {
     "data": {
      "text/plain": [
       "True"
      ]
     },
     "execution_count": 1,
     "metadata": {},
     "output_type": "execute_result"
    }
   ],
   "source": [
    "D.fire_script(SandpileDivisor(S,[2,0,0])) == D.fire_vertex(0).fire_vertex(0)"
   ]
  },
  {
   "cell_type": "markdown",
   "id": "3d292ba4",
   "metadata": {},
   "source": [
    "---\n",
    "\n",
    "**fire\\_unstable()**\n",
    "\n",
    "Fire all unstable vertices.\n",
    "\n",
    "OUTPUT:\n",
    "\n",
    "SandpileDivisor\n",
    "\n",
    "EXAMPLES:"
   ]
  },
  {
   "cell_type": "code",
   "execution_count": null,
   "id": "6f37016e",
   "metadata": {},
   "outputs": [
    {
     "data": {
      "text/plain": [
       "{0: 3, 1: 1, 2: 2}"
      ]
     },
     "execution_count": 1,
     "metadata": {},
     "output_type": "execute_result"
    }
   ],
   "source": [
    "S = sandpiles.Cycle(3)\n",
    "D = SandpileDivisor(S, [1,2,3])\n",
    "D.fire_unstable()"
   ]
  },
  {
   "cell_type": "markdown",
   "id": "f9158183",
   "metadata": {},
   "source": [
    "---\n",
    "\n",
    "**fire\\_vertex(v)**\n",
    "\n",
    "Fire the given vertex.\n",
    "\n",
    "INPUT:\n",
    "\n",
    "`v` -- vertex\n",
    "\n",
    "OUTPUT:\n",
    "\n",
    "SandpileDivisor\n",
    "\n",
    "EXAMPLES:"
   ]
  },
  {
   "cell_type": "code",
   "execution_count": null,
   "id": "93262935",
   "metadata": {},
   "outputs": [
    {
     "data": {
      "text/plain": [
       "{0: 2, 1: 0, 2: 4}"
      ]
     },
     "execution_count": 1,
     "metadata": {},
     "output_type": "execute_result"
    }
   ],
   "source": [
    "S = sandpiles.Cycle(3)\n",
    "D = SandpileDivisor(S, [1,2,3])\n",
    "D.fire_vertex(1)"
   ]
  },
  {
   "cell_type": "markdown",
   "id": "13e04615",
   "metadata": {},
   "source": [
    "---\n",
    "\n",
    "**help(verbose=True)**\n",
    "\n",
    "List of SandpileDivisor methods. If `verbose`, include short\n",
    "descriptions.\n",
    "\n",
    "INPUT:\n",
    "\n",
    "`verbose` -- (default: `True`) boolean\n",
    "\n",
    "OUTPUT:\n",
    "\n",
    "printed string\n",
    "\n",
    "EXAMPLES:"
   ]
  },
  {
   "cell_type": "code",
   "execution_count": null,
   "id": "6c7511e4",
   "metadata": {},
   "outputs": [
    {
     "data": {
      "text/plain": [
       "For detailed help with any method FOO listed below,\n",
       "enter \"SandpileDivisor.FOO?\" or enter \"D.FOO?\" for any SandpileDivisor D.\n",
       "<BLANKLINE>\n",
       "Dcomplex               -- The support-complex.\n",
       "add_random             -- Add one grain of sand to a random vertex.\n",
       "betti                  -- The Betti numbers for the support-complex.\n",
       "deg                    -- The degree of the divisor.\n",
       "dualize                -- The difference with the maximal stable divisor.\n",
       "effective_div          -- All linearly equivalent effective divisors.\n",
       "fire_script            -- Fire the given script.\n",
       "fire_unstable          -- Fire all unstable vertices.\n",
       "fire_vertex            -- Fire the given vertex.\n",
       "help                   -- List of SandpileDivisor methods.\n",
       "is_alive               -- Is the divisor stabilizable?\n",
       "is_linearly_equivalent -- Is the given divisor linearly equivalent?\n",
       "is_q_reduced           -- Is the divisor q-reduced?\n",
       "is_symmetric           -- Is the divisor symmetric?\n",
       "is_weierstrass_pt      -- Is the given vertex a Weierstrass point?\n",
       "polytope               -- The polytope determining the complete linear system.\n",
       "polytope_integer_pts   -- The integer points inside divisor's polytope.\n",
       "q_reduced              -- The linearly equivalent q-reduced divisor.\n",
       "rank                   -- The rank of the divisor.\n",
       "sandpile               -- The divisor's underlying sandpile.\n",
       "show                   -- Show the divisor.\n",
       "simulate_threshold     -- The first unstabilizable divisor in the closed Markov chain.\n",
       "stabilize              -- The stabilization of the divisor.\n",
       "support                -- List of vertices at which the divisor is nonzero.\n",
       "unstable               -- The unstable vertices.\n",
       "values                 -- The values of the divisor as a list.\n",
       "weierstrass_div        -- The Weierstrass divisor.\n",
       "weierstrass_gap_seq    -- The Weierstrass gap sequence at the given vertex.\n",
       "weierstrass_pts        -- The Weierstrass points (vertices).\n",
       "weierstrass_rank_seq   -- The Weierstrass rank sequence at the given vertex."
      ]
     },
     "execution_count": 1,
     "metadata": {},
     "output_type": "execute_result"
    }
   ],
   "source": [
    "SandpileDivisor.help()"
   ]
  },
  {
   "cell_type": "markdown",
   "id": "4c6d0375",
   "metadata": {},
   "source": [
    "---\n",
    "\n",
    "**is\\_alive(cycle=False)**\n",
    "\n",
    "Is the divisor stabilizable? In other words, will the divisor stabilize\n",
    "under repeated firings of all unstable vertices? Optionally returns the\n",
    "resulting cycle.\n",
    "\n",
    "INPUT:\n",
    "\n",
    "`cycle` -- (default: `False`) boolean\n",
    "\n",
    "OUTPUT:\n",
    "\n",
    "boolean or optionally, a list of SandpileDivisors\n",
    "\n",
    "EXAMPLES:"
   ]
  },
  {
   "cell_type": "code",
   "execution_count": null,
   "id": "5194128c",
   "metadata": {},
   "outputs": [
    {
     "data": {
      "text/plain": [
       "True"
      ]
     },
     "execution_count": 1,
     "metadata": {},
     "output_type": "execute_result"
    }
   ],
   "source": [
    "S = sandpiles.Complete(4)\n",
    "D = SandpileDivisor(S, {0: 4, 1: 3, 2: 3, 3: 2})\n",
    "D.is_alive()"
   ]
  },
  {
   "cell_type": "code",
   "execution_count": null,
   "id": "055d7bb7",
   "metadata": {},
   "outputs": [
    {
     "data": {
      "text/plain": [
       "[{0: 4, 1: 3, 2: 3, 3: 2}, {0: 3, 1: 2, 2: 2, 3: 5}, {0: 1, 1: 4, 2: 4, 3: 3}]"
      ]
     },
     "execution_count": 1,
     "metadata": {},
     "output_type": "execute_result"
    }
   ],
   "source": [
    "D.is_alive(True)"
   ]
  },
  {
   "cell_type": "markdown",
   "id": "d1ea7969",
   "metadata": {},
   "source": [
    "---\n",
    "\n",
    "**is\\_linearly\\_equivalent(D, with\\_firing\\_vector=False)**\n",
    "\n",
    "Is the given divisor linearly equivalent? Optionally, returns the firing\n",
    "vector. (See NOTE.)\n",
    "\n",
    "INPUT:\n",
    "\n",
    "-   `D` -- SandpileDivisor or list, tuple, etc. representing a divisor\n",
    "-   `with_firing_vector` -- (default: `False`) boolean\n",
    "\n",
    "OUTPUT:\n",
    "\n",
    "boolean or integer vector\n",
    "\n",
    "EXAMPLES:"
   ]
  },
  {
   "cell_type": "code",
   "execution_count": null,
   "id": "2a593319",
   "metadata": {},
   "outputs": [
    {
     "data": {
      "text/plain": [
       "True"
      ]
     },
     "execution_count": 1,
     "metadata": {},
     "output_type": "execute_result"
    }
   ],
   "source": [
    "s = sandpiles.Complete(3)\n",
    "D = SandpileDivisor(s,[2,0,0])\n",
    "D.is_linearly_equivalent([0,1,1])"
   ]
  },
  {
   "cell_type": "code",
   "execution_count": null,
   "id": "cf473b57",
   "metadata": {},
   "outputs": [
    {
     "data": {
      "text/plain": [
       "(0, -1, -1)"
      ]
     },
     "execution_count": 1,
     "metadata": {},
     "output_type": "execute_result"
    }
   ],
   "source": [
    "D.is_linearly_equivalent([0,1,1],True)"
   ]
  },
  {
   "cell_type": "code",
   "execution_count": null,
   "id": "f0eb8022",
   "metadata": {},
   "outputs": [
    {
     "data": {
      "text/plain": [
       "(0, 1, 1)"
      ]
     },
     "execution_count": 1,
     "metadata": {},
     "output_type": "execute_result"
    }
   ],
   "source": [
    "v = vector(D.is_linearly_equivalent([0,1,1],True))\n",
    "vector(D.values()) - s.laplacian()*v"
   ]
  },
  {
   "cell_type": "code",
   "execution_count": null,
   "id": "40f58708",
   "metadata": {},
   "outputs": [
    {
     "data": {
      "text/plain": [
       "False"
      ]
     },
     "execution_count": 1,
     "metadata": {},
     "output_type": "execute_result"
    }
   ],
   "source": [
    "D.is_linearly_equivalent([0,0,0])"
   ]
  },
  {
   "cell_type": "code",
   "execution_count": null,
   "id": "8fdb0074",
   "metadata": {},
   "outputs": [
    {
     "data": {
      "text/plain": [
       "()"
      ]
     },
     "execution_count": 1,
     "metadata": {},
     "output_type": "execute_result"
    }
   ],
   "source": [
    "D.is_linearly_equivalent([0,0,0],True)"
   ]
  },
  {
   "cell_type": "markdown",
   "id": "13c580b1",
   "metadata": {},
   "source": [
    "Note\n",
    "\n",
    "-   If `with_firing_vector` is `False`, returns either `True` or\n",
    "    `False`.\n",
    "-   If `with_firing_vector` is `True` then: (i) if `self` is linearly\n",
    "    equivalent to $D$, returns a vector $v$ such that\n",
    "    `self - v*self.laplacian().transpose() = D`. Otherwise, (ii) if\n",
    "    `self` is not linearly equivalent to $D$, the output is the empty\n",
    "    vector, `()`.\n",
    "\n",
    "---\n",
    "\n",
    "**is\\_q\\_reduced()**\n",
    "\n",
    "Is the divisor $q$-reduced? This would mean that $self = c + kq$ where\n",
    "$c$ is superstable, $k$ is an integer, and $q$ is the sink vertex.\n",
    "\n",
    "OUTPUT:\n",
    "\n",
    "boolean\n",
    "\n",
    "EXAMPLES:"
   ]
  },
  {
   "cell_type": "code",
   "execution_count": null,
   "id": "42f0c2d2",
   "metadata": {},
   "outputs": [
    {
     "data": {
      "text/plain": [
       "False"
      ]
     },
     "execution_count": 1,
     "metadata": {},
     "output_type": "execute_result"
    }
   ],
   "source": [
    "s = sandpiles.Complete(4)\n",
    "D = SandpileDivisor(s,[2,-3,2,0])\n",
    "D.is_q_reduced()"
   ]
  },
  {
   "cell_type": "code",
   "execution_count": null,
   "id": "e309f399",
   "metadata": {},
   "outputs": [
    {
     "data": {
      "text/plain": [
       "True"
      ]
     },
     "execution_count": 1,
     "metadata": {},
     "output_type": "execute_result"
    }
   ],
   "source": [
    "SandpileDivisor(s,[10,0,1,2]).is_q_reduced()"
   ]
  },
  {
   "cell_type": "markdown",
   "id": "0288797e",
   "metadata": {},
   "source": [
    "For undirected or, more generally, Eulerian graphs, $q$-reduced divisors\n",
    "are linearly equivalent if and only if they are equal. The same does not\n",
    "hold for general directed graphs:"
   ]
  },
  {
   "cell_type": "code",
   "execution_count": null,
   "id": "ca75df77",
   "metadata": {},
   "outputs": [
    {
     "data": {
      "text/plain": [
       "True"
      ]
     },
     "execution_count": 1,
     "metadata": {},
     "output_type": "execute_result"
    }
   ],
   "source": [
    "s = Sandpile({0:[1],1:[1,1]})\n",
    "D = SandpileDivisor(s,[-1,1])\n",
    "Z = s.zero_div()\n",
    "D.is_q_reduced()"
   ]
  },
  {
   "cell_type": "code",
   "execution_count": null,
   "id": "e6c0c8bf",
   "metadata": {},
   "outputs": [
    {
     "data": {
      "text/plain": [
       "True"
      ]
     },
     "execution_count": 1,
     "metadata": {},
     "output_type": "execute_result"
    }
   ],
   "source": [
    "Z.is_q_reduced()"
   ]
  },
  {
   "cell_type": "code",
   "execution_count": null,
   "id": "7282f0b1",
   "metadata": {},
   "outputs": [
    {
     "data": {
      "text/plain": [
       "False"
      ]
     },
     "execution_count": 1,
     "metadata": {},
     "output_type": "execute_result"
    }
   ],
   "source": [
    "D == Z"
   ]
  },
  {
   "cell_type": "code",
   "execution_count": null,
   "id": "eee0a995",
   "metadata": {},
   "outputs": [
    {
     "data": {
      "text/plain": [
       "True"
      ]
     },
     "execution_count": 1,
     "metadata": {},
     "output_type": "execute_result"
    }
   ],
   "source": [
    "D.is_linearly_equivalent(Z)"
   ]
  },
  {
   "cell_type": "markdown",
   "id": "3718ece5",
   "metadata": {},
   "source": [
    "---\n",
    "\n",
    "**is\\_symmetric(orbits)**\n",
    "\n",
    "Is the divisor symmetric? Return `True` if the values of the\n",
    "configuration are constant over the vertices in each sublist of\n",
    "`orbits`.\n",
    "\n",
    "INPUT:\n",
    "\n",
    "`orbits` -- list of lists of vertices\n",
    "\n",
    "OUTPUT:\n",
    "\n",
    "boolean\n",
    "\n",
    "EXAMPLES:"
   ]
  },
  {
   "cell_type": "code",
   "execution_count": null,
   "id": "ab0cb067",
   "metadata": {},
   "outputs": [
    {
     "data": {
      "text/plain": [
       "{0: {1: 1, 2: 1},\n",
       " 1: {0: 1, 3: 1},\n",
       " 2: {0: 1, 3: 1, 4: 1},\n",
       " 3: {1: 1, 2: 1, 4: 1},\n",
       " 4: {2: 1, 3: 1}}"
      ]
     },
     "execution_count": 1,
     "metadata": {},
     "output_type": "execute_result"
    }
   ],
   "source": [
    "S = sandpiles.House()\n",
    "S.dict()"
   ]
  },
  {
   "cell_type": "code",
   "execution_count": null,
   "id": "b67e6313",
   "metadata": {},
   "outputs": [
    {
     "data": {
      "text/plain": [
       "True"
      ]
     },
     "execution_count": 1,
     "metadata": {},
     "output_type": "execute_result"
    }
   ],
   "source": [
    "D = SandpileDivisor(S, [0,0,1,1,3])\n",
    "D.is_symmetric([[2,3], [4]])"
   ]
  },
  {
   "cell_type": "markdown",
   "id": "ec9ad057",
   "metadata": {},
   "source": [
    "---\n",
    "\n",
    "**is\\_weierstrass\\_pt(v='sink')**\n",
    "\n",
    "Is the given vertex a Weierstrass point?\n",
    "\n",
    "INPUT:\n",
    "\n",
    "`v` -- (default: `sink`) vertex\n",
    "\n",
    "OUTPUT:\n",
    "\n",
    "boolean\n",
    "\n",
    "EXAMPLES:"
   ]
  },
  {
   "cell_type": "code",
   "execution_count": null,
   "id": "9b46ea9b",
   "metadata": {},
   "outputs": [
    {
     "data": {
      "text/plain": [
       "(1, 0, -1)"
      ]
     },
     "execution_count": 1,
     "metadata": {},
     "output_type": "execute_result"
    }
   ],
   "source": [
    "s = sandpiles.House()\n",
    "K = s.canonical_divisor()\n",
    "K.weierstrass_rank_seq()  # sequence at the sink vertex, 0"
   ]
  },
  {
   "cell_type": "code",
   "execution_count": null,
   "id": "1f4f3c47",
   "metadata": {},
   "outputs": [
    {
     "data": {
      "text/plain": [
       "False"
      ]
     },
     "execution_count": 1,
     "metadata": {},
     "output_type": "execute_result"
    }
   ],
   "source": [
    "K.is_weierstrass_pt()"
   ]
  },
  {
   "cell_type": "code",
   "execution_count": null,
   "id": "178b0ee7",
   "metadata": {},
   "outputs": [
    {
     "data": {
      "text/plain": [
       "(1, 0, 0, -1)"
      ]
     },
     "execution_count": 1,
     "metadata": {},
     "output_type": "execute_result"
    }
   ],
   "source": [
    "K.weierstrass_rank_seq(4)"
   ]
  },
  {
   "cell_type": "code",
   "execution_count": null,
   "id": "d6dadc02",
   "metadata": {},
   "outputs": [
    {
     "data": {
      "text/plain": [
       "True"
      ]
     },
     "execution_count": 1,
     "metadata": {},
     "output_type": "execute_result"
    }
   ],
   "source": [
    "K.is_weierstrass_pt(4)"
   ]
  },
  {
   "cell_type": "markdown",
   "id": "d484275a",
   "metadata": {},
   "source": [
    "Note\n",
    "\n",
    "The vertex $v$ is a (generalized) Weierstrass point for divisor $D$ if\n",
    "the sequence of ranks $r(D - nv)$ for $n = 0, 1, 2, \\dots$ is not\n",
    "$r(D), r(D)-1, \\dots, 0, -1, -1, \\dots$.\n",
    "\n",
    "---\n",
    "\n",
    "**polytope()**\n",
    "\n",
    "The polytope determining the complete linear system.\n",
    "\n",
    "OUTPUT:\n",
    "\n",
    "polytope\n",
    "\n",
    "EXAMPLES:"
   ]
  },
  {
   "cell_type": "code",
   "execution_count": null,
   "id": "8ef20ad2",
   "metadata": {},
   "outputs": [
    {
     "data": {
      "text/plain": [
       "(An inequality (-3, 1, 1) x + 2 >= 0,\n",
       " An inequality (1, 1, 1) x + 4 >= 0,\n",
       " An inequality (1, -3, 1) x + 0 >= 0,\n",
       " An inequality (1, 1, -3) x + 0 >= 0)"
      ]
     },
     "execution_count": 1,
     "metadata": {},
     "output_type": "execute_result"
    }
   ],
   "source": [
    "s = sandpiles.Complete(4)\n",
    "D = SandpileDivisor(s,[4,2,0,0])\n",
    "p = D.polytope()\n",
    "p.inequalities()"
   ]
  },
  {
   "cell_type": "code",
   "execution_count": null,
   "id": "1455dc0f",
   "metadata": {},
   "outputs": [
    {
     "data": {
      "text/plain": [
       "The empty polyhedron in QQ^3"
      ]
     },
     "execution_count": 1,
     "metadata": {},
     "output_type": "execute_result"
    }
   ],
   "source": [
    "D = SandpileDivisor(s,[-1,0,0,0])\n",
    "D.polytope()"
   ]
  },
  {
   "cell_type": "markdown",
   "id": "115c0f3b",
   "metadata": {},
   "source": [
    "Note\n",
    "\n",
    "For a divisor $D$, this is the intersection of (i) the polyhedron\n",
    "determined by the system of inequalities $L^t x \\leq D$ where $L^t$ is\n",
    "the transpose of the Laplacian with (ii) the hyperplane\n",
    "$x_{\\mathrm{sink\\_vertex}} = 0$. The polytope is thought of as sitting\n",
    "in $(n-1)$-dimensional Euclidean space where $n$ is the number of\n",
    "vertices.\n",
    "\n",
    "---\n",
    "\n",
    "**polytope\\_integer\\_pts()**\n",
    "\n",
    "The integer points inside divisor's polytope. The polytope referred to\n",
    "here is the one determining the divisor's complete linear system (see\n",
    "the documentation for `polytope`).\n",
    "\n",
    "OUTPUT:\n",
    "\n",
    "tuple of integer vectors\n",
    "\n",
    "EXAMPLES:"
   ]
  },
  {
   "cell_type": "code",
   "execution_count": null,
   "id": "34a3c89b",
   "metadata": {},
   "outputs": [
    {
     "data": {
      "text/plain": [
       "[(-2, -1, -1),\n",
       " (-1, -2, -1),\n",
       " (-1, -1, -2),\n",
       " (-1, -1, -1),\n",
       " (0, -1, -1),\n",
       " (0, 0, 0)]"
      ]
     },
     "execution_count": 1,
     "metadata": {},
     "output_type": "execute_result"
    }
   ],
   "source": [
    "s = sandpiles.Complete(4)\n",
    "D = SandpileDivisor(s,[4,2,0,0])\n",
    "sorted(D.polytope_integer_pts())"
   ]
  },
  {
   "cell_type": "code",
   "execution_count": null,
   "id": "d2733df7",
   "metadata": {},
   "outputs": [
    {
     "data": {
      "text/plain": [
       "()"
      ]
     },
     "execution_count": 1,
     "metadata": {},
     "output_type": "execute_result"
    }
   ],
   "source": [
    "D = SandpileDivisor(s,[-1,0,0,0])\n",
    "D.polytope_integer_pts()"
   ]
  },
  {
   "cell_type": "markdown",
   "id": "17ceb0d2",
   "metadata": {},
   "source": [
    "---\n",
    "\n",
    "**q\\_reduced(verbose=True)**\n",
    "\n",
    "The linearly equivalent $q$-reduced divisor.\n",
    "\n",
    "INPUT:\n",
    "\n",
    "`verbose` -- (default: `True`) boolean\n",
    "\n",
    "OUTPUT:\n",
    "\n",
    "SandpileDivisor or list representing SandpileDivisor\n",
    "\n",
    "EXAMPLES:"
   ]
  },
  {
   "cell_type": "code",
   "execution_count": null,
   "id": "8d440b8a",
   "metadata": {},
   "outputs": [
    {
     "data": {
      "text/plain": [
       "{0: -2, 1: 1, 2: 2, 3: 0}"
      ]
     },
     "execution_count": 1,
     "metadata": {},
     "output_type": "execute_result"
    }
   ],
   "source": [
    "s = sandpiles.Complete(4)\n",
    "D = SandpileDivisor(s,[2,-3,2,0])\n",
    "D.q_reduced()"
   ]
  },
  {
   "cell_type": "code",
   "execution_count": null,
   "id": "d2b66822",
   "metadata": {},
   "outputs": [
    {
     "data": {
      "text/plain": [
       "[-2, 1, 2, 0]"
      ]
     },
     "execution_count": 1,
     "metadata": {},
     "output_type": "execute_result"
    }
   ],
   "source": [
    "D.q_reduced(False)"
   ]
  },
  {
   "cell_type": "markdown",
   "id": "8a52163a",
   "metadata": {},
   "source": [
    "Note\n",
    "\n",
    "The divisor $D$ is $qreduced if `D = c + kq$ where $c$ is superstable,\n",
    "$k$ is an integer, and $q$ is the sink.\n",
    "\n",
    "---\n",
    "\n",
    "**rank(with\\_witness=False)**\n",
    "\n",
    "The rank of the divisor. Optionally returns an effective divisor $E$\n",
    "such that $D - E$ is not winnable (has an empty complete linear system).\n",
    "\n",
    "INPUT:\n",
    "\n",
    "`with_witness` -- (default: `False`) boolean\n",
    "\n",
    "OUTPUT:\n",
    "\n",
    "integer or (integer, SandpileDivisor)\n",
    "\n",
    "EXAMPLES:"
   ]
  },
  {
   "cell_type": "code",
   "execution_count": null,
   "id": "b034a0cf",
   "metadata": {},
   "outputs": [
    {
     "data": {
      "text/plain": [
       "3"
      ]
     },
     "execution_count": 1,
     "metadata": {},
     "output_type": "execute_result"
    }
   ],
   "source": [
    "S = sandpiles.Complete(4)\n",
    "D = SandpileDivisor(S,[4,2,0,0])\n",
    "D.rank()"
   ]
  },
  {
   "cell_type": "code",
   "execution_count": null,
   "id": "81d0d360",
   "metadata": {},
   "outputs": [
    {
     "data": {
      "text/plain": [
       "(3, {0: 3, 1: 0, 2: 1, 3: 0})"
      ]
     },
     "execution_count": 1,
     "metadata": {},
     "output_type": "execute_result"
    }
   ],
   "source": [
    "D.rank(True)"
   ]
  },
  {
   "cell_type": "code",
   "execution_count": null,
   "id": "661999c7",
   "metadata": {},
   "outputs": [
    {
     "data": {
      "text/plain": [
       "-1\n",
       "\n",
       "Riemann-Roch theorem::\n"
      ]
     },
     "execution_count": 1,
     "metadata": {},
     "output_type": "execute_result"
    }
   ],
   "source": [
    "E = _[1]\n",
    "(D - E).rank()"
   ]
  },
  {
   "cell_type": "code",
   "execution_count": null,
   "id": "f16e5a9d",
   "metadata": {},
   "outputs": [
    {
     "data": {
      "text/plain": [
       "True\n",
       "\n",
       "Riemann-Roch theorem::\n"
      ]
     },
     "execution_count": 1,
     "metadata": {},
     "output_type": "execute_result"
    }
   ],
   "source": [
    "D.rank() - (S.canonical_divisor()-D).rank() == D.deg() + 1 - S.genus()"
   ]
  },
  {
   "cell_type": "code",
   "execution_count": null,
   "id": "8eb06128",
   "metadata": {},
   "outputs": [
    {
     "data": {
      "text/plain": [
       "True"
      ]
     },
     "execution_count": 1,
     "metadata": {},
     "output_type": "execute_result"
    }
   ],
   "source": [
    "D.rank() - (S.canonical_divisor()-D).rank() == D.deg() + 1 - S.genus()"
   ]
  },
  {
   "cell_type": "code",
   "execution_count": null,
   "id": "5c154e8e",
   "metadata": {},
   "outputs": [
    {
     "data": {
      "text/plain": [
       "(2, {0: 1, 1: 1, 2: 1})"
      ]
     },
     "execution_count": 1,
     "metadata": {},
     "output_type": "execute_result"
    }
   ],
   "source": [
    "S = Sandpile({0:[1,1,1,2],1:[0,0,0,1,1,1,2,2],2:[2,2,1,1,0]},0) # multigraph with loops\n",
    "D = SandpileDivisor(S,[4,2,0])\n",
    "D.rank(True)"
   ]
  },
  {
   "cell_type": "code",
   "execution_count": null,
   "id": "c1de1e43",
   "metadata": {},
   "outputs": [
    {
     "data": {
      "text/plain": [
       "False"
      ]
     },
     "execution_count": 1,
     "metadata": {},
     "output_type": "execute_result"
    }
   ],
   "source": [
    "S = Sandpile({0:[1,2], 1:[0,2,2], 2: [0,1]},0) # directed graph\n",
    "S.is_undirected()"
   ]
  },
  {
   "cell_type": "code",
   "execution_count": null,
   "id": "4b974ce6",
   "metadata": {},
   "outputs": [
    {
     "data": {
      "text/plain": [
       "[{0: 0, 1: 2, 2: 0}, {0: 2, 1: 0, 2: 0}]"
      ]
     },
     "execution_count": 1,
     "metadata": {},
     "output_type": "execute_result"
    }
   ],
   "source": [
    "D = SandpileDivisor(S,[0,2,0])\n",
    "D.effective_div()"
   ]
  },
  {
   "cell_type": "code",
   "execution_count": null,
   "id": "b33cd0b8",
   "metadata": {},
   "outputs": [
    {
     "data": {
      "text/plain": [
       "(0, {0: 0, 1: 0, 2: 1})"
      ]
     },
     "execution_count": 1,
     "metadata": {},
     "output_type": "execute_result"
    }
   ],
   "source": [
    "D.rank(True)"
   ]
  },
  {
   "cell_type": "code",
   "execution_count": null,
   "id": "41e2813c",
   "metadata": {},
   "outputs": [
    {
     "data": {
      "text/plain": [
       "[]"
      ]
     },
     "execution_count": 1,
     "metadata": {},
     "output_type": "execute_result"
    }
   ],
   "source": [
    "E = D.rank(True)[1]\n",
    "(D - E).effective_div()"
   ]
  },
  {
   "cell_type": "markdown",
   "id": "2afd3d0b",
   "metadata": {},
   "source": [
    "Note\n",
    "\n",
    "The rank of a divisor $D$ is -1 if $D$ is not linearly equivalent to an\n",
    "effective divisor (i.e., the dollar game represented by $D$ is\n",
    "unwinnable). Otherwise, the rank of $D$ is the largest integer $r$ such\n",
    "that $D - E$ is linearly equivalent to an effective divisor for all\n",
    "effective divisors $E$ with $\\deg(E) = r$.\n",
    "\n",
    "---\n",
    "\n",
    "**sandpile()**\n",
    "\n",
    "The divisor's underlying sandpile.\n",
    "\n",
    "OUTPUT:\n",
    "\n",
    "Sandpile\n",
    "\n",
    "EXAMPLES:"
   ]
  },
  {
   "cell_type": "code",
   "execution_count": null,
   "id": "7d71bf4d",
   "metadata": {},
   "outputs": [
    {
     "data": {
      "text/plain": [
       "Diamond sandpile graph: 4 vertices, sink = 0"
      ]
     },
     "execution_count": 1,
     "metadata": {},
     "output_type": "execute_result"
    }
   ],
   "source": [
    "S = sandpiles.Diamond()\n",
    "D = SandpileDivisor(S,[1,-2,0,3])\n",
    "D.sandpile()"
   ]
  },
  {
   "cell_type": "code",
   "execution_count": null,
   "id": "f95dcec9",
   "metadata": {},
   "outputs": [
    {
     "data": {
      "text/plain": [
       "True"
      ]
     },
     "execution_count": 1,
     "metadata": {},
     "output_type": "execute_result"
    }
   ],
   "source": [
    "D.sandpile() == S"
   ]
  },
  {
   "cell_type": "markdown",
   "id": "ce77360b",
   "metadata": {},
   "source": [
    "---\n",
    "\n",
    "**show(heights=True, directed=None,**kwds)\\*\\*\n",
    "\n",
    "Show the divisor.\n",
    "\n",
    "INPUT:\n",
    "\n",
    "-   `heights` -- (default: `True`) whether to label each vertex with the\n",
    "    amount of sand\n",
    "-   `directed` -- (optional) whether to draw directed edges\n",
    "-   `kwds` -- (optional) arguments passed to the show method for Graph\n",
    "\n",
    "EXAMPLES:"
   ]
  },
  {
   "cell_type": "code",
   "execution_count": null,
   "id": "516e9f55",
   "metadata": {},
   "outputs": [],
   "source": [
    "S = sandpiles.Diamond()\n",
    "D = SandpileDivisor(S,[1,-2,0,2])\n",
    "D.show(graph_border=True,vertex_size=700,directed=False)"
   ]
  },
  {
   "cell_type": "markdown",
   "id": "68502f93",
   "metadata": {},
   "source": [
    "---\n",
    "\n",
    "**simulate\\_threshold(distrib=None)**\n",
    "\n",
    "The first unstabilizable divisor in the closed Markov chain. (See NOTE.)\n",
    "\n",
    "INPUT:\n",
    "\n",
    "`distrib` -- (optional) list of nonnegative numbers representing a\n",
    "probability distribution on the vertices\n",
    "\n",
    "OUTPUT:\n",
    "\n",
    "SandpileDivisor\n",
    "\n",
    "EXAMPLES:"
   ]
  },
  {
   "cell_type": "code",
   "execution_count": null,
   "id": "042a425e",
   "metadata": {},
   "outputs": [
    {
     "data": {
      "text/plain": [
       "{0: 2, 1: 3, 2: 1, 3: 2}"
      ]
     },
     "execution_count": 1,
     "metadata": {},
     "output_type": "execute_result"
    }
   ],
   "source": [
    "s = sandpiles.Complete(4)\n",
    "D = s.zero_div()\n",
    "D.simulate_threshold()  # random"
   ]
  },
  {
   "cell_type": "code",
   "execution_count": null,
   "id": "881b39b3",
   "metadata": {},
   "outputs": [
    {
     "data": {
      "text/plain": [
       "7.10000000000000"
      ]
     },
     "execution_count": 1,
     "metadata": {},
     "output_type": "execute_result"
    }
   ],
   "source": [
    "n(mean([D.simulate_threshold().deg() for _ in range(10)]))  # random"
   ]
  },
  {
   "cell_type": "code",
   "execution_count": null,
   "id": "dbc71db3",
   "metadata": {},
   "outputs": [
    {
     "data": {
      "text/plain": [
       "6.93750000000000"
      ]
     },
     "execution_count": 1,
     "metadata": {},
     "output_type": "execute_result"
    }
   ],
   "source": [
    "n(s.stationary_density()*s.num_verts())"
   ]
  },
  {
   "cell_type": "markdown",
   "id": "437b1812",
   "metadata": {},
   "source": [
    "Note\n",
    "\n",
    "Starting at `self`, repeatedly choose a vertex and add a grain of sand\n",
    "to it. Return the first unstabilizable divisor that is reached. Also see\n",
    "the `markov_chain` method for the underlying sandpile.\n",
    "\n",
    "---\n",
    "\n",
    "**stabilize(with\\_firing\\_vector=False)**\n",
    "\n",
    "The stabilization of the divisor. If not stabilizable, return an error.\n",
    "\n",
    "INPUT:\n",
    "\n",
    "`with_firing_vector` -- (default: `False`) boolean\n",
    "\n",
    "EXAMPLES:"
   ]
  },
  {
   "cell_type": "code",
   "execution_count": null,
   "id": "d95e0546",
   "metadata": {},
   "outputs": [
    {
     "data": {
      "text/plain": [
       "{0: 1, 1: 0, 2: 1, 3: 1}"
      ]
     },
     "execution_count": 1,
     "metadata": {},
     "output_type": "execute_result"
    }
   ],
   "source": [
    "s = sandpiles.Complete(4)\n",
    "D = SandpileDivisor(s,[0,3,0,0])\n",
    "D.stabilize()"
   ]
  },
  {
   "cell_type": "code",
   "execution_count": null,
   "id": "4735fb73",
   "metadata": {},
   "outputs": [
    {
     "data": {
      "text/plain": [
       "[{0: 1, 1: 0, 2: 1, 3: 1}, {0: 0, 1: 1, 2: 0, 3: 0}]"
      ]
     },
     "execution_count": 1,
     "metadata": {},
     "output_type": "execute_result"
    }
   ],
   "source": [
    "D.stabilize(with_firing_vector=True)"
   ]
  },
  {
   "cell_type": "markdown",
   "id": "e78ed510",
   "metadata": {},
   "source": [
    "---\n",
    "\n",
    "**support()**\n",
    "\n",
    "List of vertices at which the divisor is nonzero.\n",
    "\n",
    "OUTPUT:\n",
    "\n",
    "list representing the support of the divisor\n",
    "\n",
    "EXAMPLES:"
   ]
  },
  {
   "cell_type": "code",
   "execution_count": null,
   "id": "be5846e6",
   "metadata": {},
   "outputs": [
    {
     "data": {
      "text/plain": [
       "[2, 3]"
      ]
     },
     "execution_count": 1,
     "metadata": {},
     "output_type": "execute_result"
    }
   ],
   "source": [
    "S = sandpiles.Cycle(4)\n",
    "D = SandpileDivisor(S, [0,0,1,1])\n",
    "D.support()"
   ]
  },
  {
   "cell_type": "code",
   "execution_count": null,
   "id": "3739af2a",
   "metadata": {},
   "outputs": [
    {
     "data": {
      "text/plain": [
       "[0, 1, 2, 3]"
      ]
     },
     "execution_count": 1,
     "metadata": {},
     "output_type": "execute_result"
    }
   ],
   "source": [
    "S.vertices(sort=True)"
   ]
  },
  {
   "cell_type": "markdown",
   "id": "c4395cd1",
   "metadata": {},
   "source": [
    "---\n",
    "\n",
    "**unstable()**\n",
    "\n",
    "The unstable vertices.\n",
    "\n",
    "OUTPUT:\n",
    "\n",
    "list of vertices\n",
    "\n",
    "EXAMPLES:"
   ]
  },
  {
   "cell_type": "code",
   "execution_count": null,
   "id": "92c8aa99",
   "metadata": {},
   "outputs": [
    {
     "data": {
      "text/plain": [
       "[1, 2]"
      ]
     },
     "execution_count": 1,
     "metadata": {},
     "output_type": "execute_result"
    }
   ],
   "source": [
    "S = sandpiles.Cycle(3)\n",
    "D = SandpileDivisor(S, [1,2,3])\n",
    "D.unstable()"
   ]
  },
  {
   "cell_type": "markdown",
   "id": "39794861",
   "metadata": {},
   "source": [
    "---\n",
    "\n",
    "**values()**\n",
    "\n",
    "The values of the divisor as a list. The list is sorted in the order of\n",
    "the vertices.\n",
    "\n",
    "OUTPUT:\n",
    "\n",
    "list of integers\n",
    "\n",
    "boolean\n",
    "\n",
    "EXAMPLES:"
   ]
  },
  {
   "cell_type": "code",
   "execution_count": null,
   "id": "77d324b9",
   "metadata": {},
   "outputs": [
    {
     "data": {
      "text/plain": [
       "{'a': 0, 'b': 1, 'c': 2}"
      ]
     },
     "execution_count": 1,
     "metadata": {},
     "output_type": "execute_result"
    }
   ],
   "source": [
    "S = Sandpile({'a':['c','b'], 'b':['c','a'], 'c':['a']},'a')\n",
    "D = SandpileDivisor(S, {'a':0, 'b':1, 'c':2})\n",
    "D"
   ]
  },
  {
   "cell_type": "code",
   "execution_count": null,
   "id": "090c0718",
   "metadata": {},
   "outputs": [
    {
     "data": {
      "text/plain": [
       "[0, 1, 2]"
      ]
     },
     "execution_count": 1,
     "metadata": {},
     "output_type": "execute_result"
    }
   ],
   "source": [
    "D.values()"
   ]
  },
  {
   "cell_type": "code",
   "execution_count": null,
   "id": "02f15def",
   "metadata": {},
   "outputs": [
    {
     "data": {
      "text/plain": [
       "['a', 'b', 'c']"
      ]
     },
     "execution_count": 1,
     "metadata": {},
     "output_type": "execute_result"
    }
   ],
   "source": [
    "S.vertices(sort=True)"
   ]
  },
  {
   "cell_type": "markdown",
   "id": "7747163b",
   "metadata": {},
   "source": [
    "---\n",
    "\n",
    "**weierstrass\\_div(verbose=True)**\n",
    "\n",
    "The Weierstrass divisor. Its value at a vertex is the weight of that\n",
    "vertex as a Weierstrass point. (See\n",
    "`SandpileDivisor.weierstrass_gap_seq`.)\n",
    "\n",
    "INPUT:\n",
    "\n",
    "`verbose` -- (default: `True`) boolean\n",
    "\n",
    "OUTPUT:\n",
    "\n",
    "SandpileDivisor\n",
    "\n",
    "EXAMPLES:"
   ]
  },
  {
   "cell_type": "code",
   "execution_count": null,
   "id": "dd197c73",
   "metadata": {},
   "outputs": [
    {
     "data": {
      "text/plain": [
       "[(5, 4, 3, 2, 1, 0, 0, -1),\n",
       " (5, 4, 3, 2, 1, 0, -1),\n",
       " (5, 4, 3, 2, 1, 0, 0, 0, -1),\n",
       " (5, 4, 3, 2, 1, 0, 0, -1)]"
      ]
     },
     "execution_count": 1,
     "metadata": {},
     "output_type": "execute_result"
    }
   ],
   "source": [
    "s = sandpiles.Diamond()\n",
    "D = SandpileDivisor(s,[4,2,1,0])\n",
    "[D.weierstrass_rank_seq(v) for v in s]"
   ]
  },
  {
   "cell_type": "code",
   "execution_count": null,
   "id": "eba57584",
   "metadata": {},
   "outputs": [
    {
     "data": {
      "text/plain": [
       "{0: 1, 1: 0, 2: 2, 3: 1}"
      ]
     },
     "execution_count": 1,
     "metadata": {},
     "output_type": "execute_result"
    }
   ],
   "source": [
    "D.weierstrass_div()"
   ]
  },
  {
   "cell_type": "code",
   "execution_count": null,
   "id": "b17f453e",
   "metadata": {},
   "outputs": [
    {
     "data": {
      "text/plain": [
       "{0: 9, 1: 9, 2: 9, 3: 9, 4: 9}"
      ]
     },
     "execution_count": 1,
     "metadata": {},
     "output_type": "execute_result"
    }
   ],
   "source": [
    "k5 = sandpiles.Complete(5)\n",
    "K = k5.canonical_divisor()\n",
    "K.weierstrass_div()"
   ]
  },
  {
   "cell_type": "markdown",
   "id": "97dfb2fd",
   "metadata": {},
   "source": [
    "---\n",
    "\n",
    "**weierstrass\\_gap\\_seq(v='sink', weight=True)**\n",
    "\n",
    "The Weierstrass gap sequence at the given vertex. If `weight` is `True`,\n",
    "then also compute the weight of each gap value.\n",
    "\n",
    "INPUT:\n",
    "\n",
    "-   `v` -- (default: `sink`) vertex\n",
    "-   `weight` -- (default: `True`) boolean\n",
    "\n",
    "OUTPUT:\n",
    "\n",
    "list or (list of list) of integers\n",
    "\n",
    "EXAMPLES:"
   ]
  },
  {
   "cell_type": "code",
   "execution_count": null,
   "id": "3bdaae12",
   "metadata": {},
   "outputs": [
    {
     "data": {
      "text/plain": [
       "[(1, 3), (1, 2), (1, 3), (1, 2)]"
      ]
     },
     "execution_count": 1,
     "metadata": {},
     "output_type": "execute_result"
    }
   ],
   "source": [
    "s = sandpiles.Cycle(4)\n",
    "D = SandpileDivisor(s,[2,0,0,0])\n",
    "[D.weierstrass_gap_seq(v,False) for v in s.vertices(sort=True)]"
   ]
  },
  {
   "cell_type": "code",
   "execution_count": null,
   "id": "860075dc",
   "metadata": {},
   "outputs": [
    {
     "data": {
      "text/plain": [
       "[((1, 3), 1), ((1, 2), 0), ((1, 3), 1), ((1, 2), 0)]"
      ]
     },
     "execution_count": 1,
     "metadata": {},
     "output_type": "execute_result"
    }
   ],
   "source": [
    "[D.weierstrass_gap_seq(v) for v in s.vertices(sort=True)]"
   ]
  },
  {
   "cell_type": "code",
   "execution_count": null,
   "id": "4a2bd818",
   "metadata": {},
   "outputs": [
    {
     "data": {
      "text/plain": [
       "((1, 3), 1)"
      ]
     },
     "execution_count": 1,
     "metadata": {},
     "output_type": "execute_result"
    }
   ],
   "source": [
    "D.weierstrass_gap_seq()  # gap sequence at sink vertex, 0"
   ]
  },
  {
   "cell_type": "code",
   "execution_count": null,
   "id": "44b88e0f",
   "metadata": {},
   "outputs": [
    {
     "data": {
      "text/plain": [
       "(1, 0, 0, -1)"
      ]
     },
     "execution_count": 1,
     "metadata": {},
     "output_type": "execute_result"
    }
   ],
   "source": [
    "D.weierstrass_rank_seq()  # rank sequence at the sink vertex"
   ]
  },
  {
   "cell_type": "markdown",
   "id": "ff1af9b6",
   "metadata": {},
   "source": [
    "Note\n",
    "\n",
    "The integer $k$ is a Weierstrass gap for the divisor $D$ at vertex $v$\n",
    "if the rank of $D - (k-1)v$ does not equal the rank of $D - kv$. Let $r$\n",
    "be the rank of $D$ and let $k_i$ be the $i$-th gap at $v$. The\n",
    "Weierstrass weight of $v$ for $D$ is the sum of $(k_i - i)$ as $i$\n",
    "ranges from $1$ to $r + 1$. It measure the difference between the\n",
    "sequence $r, r - 1, ..., 0, -1, -1, ...$ and the rank sequence\n",
    "$\\mathrm{rank}(D), \\mathrm{rank}(D - v), \\mathrm{rank}(D - 2v), \\dots$\n",
    "\n",
    "---\n",
    "\n",
    "**weierstrass\\_pts(with\\_rank\\_seq=False)**\n",
    "\n",
    "The Weierstrass points (vertices). Optionally, return the corresponding\n",
    "rank sequences.\n",
    "\n",
    "INPUT:\n",
    "\n",
    "`with_rank_seq` -- (default: `False`) boolean\n",
    "\n",
    "OUTPUT:\n",
    "\n",
    "tuple of vertices or list of (vertex, rank sequence)\n",
    "\n",
    "EXAMPLES:"
   ]
  },
  {
   "cell_type": "code",
   "execution_count": null,
   "id": "2b8c479f",
   "metadata": {},
   "outputs": [
    {
     "data": {
      "text/plain": [
       "(4,)"
      ]
     },
     "execution_count": 1,
     "metadata": {},
     "output_type": "execute_result"
    }
   ],
   "source": [
    "s = sandpiles.House()\n",
    "K = s.canonical_divisor()\n",
    "K.weierstrass_pts()"
   ]
  },
  {
   "cell_type": "code",
   "execution_count": null,
   "id": "e90b4dbb",
   "metadata": {},
   "outputs": [
    {
     "data": {
      "text/plain": [
       "[(4, (1, 0, 0, -1))]"
      ]
     },
     "execution_count": 1,
     "metadata": {},
     "output_type": "execute_result"
    }
   ],
   "source": [
    "K.weierstrass_pts(True)"
   ]
  },
  {
   "cell_type": "markdown",
   "id": "0fb9b0c5",
   "metadata": {},
   "source": [
    "Note\n",
    "\n",
    "The vertex $v$ is a (generalized) Weierstrass point for divisor $D$ if\n",
    "the sequence of ranks $r(D - nv)$ for $n = 0, 1, 2, \\dots$ is not\n",
    "$r(D), r(D)-1, \\dots, 0, -1, -1, \\dots$\n",
    "\n",
    "---\n",
    "\n",
    "**weierstrass\\_rank\\_seq(v='sink')**\n",
    "\n",
    "The Weierstrass rank sequence at the given vertex. Computes the rank of\n",
    "the divisor $D - nv$ starting with $n=0$ and ending when the rank is\n",
    "$-1$.\n",
    "\n",
    "INPUT:\n",
    "\n",
    "`v` -- (default: `sink`) vertex\n",
    "\n",
    "OUTPUT:\n",
    "\n",
    "tuple of int\n",
    "\n",
    "EXAMPLES:"
   ]
  },
  {
   "cell_type": "code",
   "execution_count": null,
   "id": "70a1f4c9",
   "metadata": {},
   "outputs": [
    {
     "data": {
      "text/plain": [
       "[(1, 0, -1), (1, 0, -1), (1, 0, -1), (1, 0, -1), (1, 0, 0, -1)]"
      ]
     },
     "execution_count": 1,
     "metadata": {},
     "output_type": "execute_result"
    }
   ],
   "source": [
    "s = sandpiles.House()\n",
    "K = s.canonical_divisor()\n",
    "[K.weierstrass_rank_seq(v) for v in s.vertices(sort=True)]"
   ]
  },
  {
   "cell_type": "markdown",
   "id": "d410b161",
   "metadata": {},
   "source": [
    "---\n",
    "\n",
    "#### Other\n",
    "\n",
    "-   [firing\\_graph](firing_graph.ipynb) --- The firing graph.\n",
    "-   [parallel\\_firing\\_graph](parallel_firing_graph.ipynb) --- The\n",
    "    parallel-firing graph.\n",
    "-   [sandpiles](sandpiles.ipynb) --- Some examples of sandpiles.\n",
    "-   [wilmes\\_algorithm](wilmes_algorithm.ipynb) --- Find matrix with the\n",
    "    same integer row span as `M` that is the reduced Laplacian of a\n",
    "    digraph.\n",
    "\n",
    "------------------------------------------------------------------------\n",
    "\n",
    "**Complete descriptions of methods.**\n",
    "\n",
    "**firing\\_graph(S, eff)**\n",
    "\n",
    "> Creates a digraph with divisors as vertices and edges between two\n",
    "> divisors $D$ and $E$ if firing a single vertex in $D$ gives $E$.\n",
    ">\n",
    "> INPUT:\n",
    ">\n",
    "> `S` -- Sandpile `eff` -- list of divisors\n",
    ">\n",
    "> OUTPUT:\n",
    ">\n",
    "> DiGraph\n",
    ">\n",
    "> EXAMPLES:\n",
    ">\n",
    "> ```{.python .input}\n",
    "> S = sandpiles.Cycle(6)\n",
    "> D = SandpileDivisor(S, [1,1,1,1,2,0])\n",
    "> eff = D.effective_div()\n",
    "> firing_graph(S,eff).show3d(edge_size=.005,vertex_size=0.01)\n",
    "> ```\n",
    "\n",
    "---\n",
    "\n",
    "**parallel\\_firing\\_graph(S,eff)**\n",
    "\n",
    "> Creates a digraph with divisors as vertices and edges between two\n",
    "> divisors `D` and `E` if firing all unstable vertices in `D` gives `E`.\n",
    ">\n",
    "> INPUT:\n",
    ">\n",
    "> `S` - Sandpile `eff` - list of divisors\n",
    ">\n",
    "> OUTPUT:\n",
    ">\n",
    "> DiGraph\n",
    ">\n",
    "> EXAMPLES:\n",
    ">\n",
    "> ```{.python .input}\n",
    "> S = Sandpile(graphs.CycleGraph(6),0)\n",
    "> D = SandpileDivisor(S, [1,1,1,1,2,0])\n",
    "> eff = D.effective_div()\n",
    "> parallel_firing_graph(S,eff).show3d(edge_size=.005,vertex_size=0.01)\n",
    "> ```\n",
    "\n",
    "---\n",
    "\n",
    "**sandpiles**\n",
    "\n",
    "> Some examples of sandpiles.\n",
    ">\n",
    "> Here are the available examples; you can also type \"sandpiles.\" and\n",
    "> hit tab to get a list:\n",
    ">\n",
    "> -   \"Complete()\"\n",
    "> -   \"Cycle()\"\n",
    "> -   \"Diamond()\"\n",
    "> -   \"Grid()\"\n",
    "> -   \"House()\"\n",
    ">\n",
    "> EXAMPLES:\n",
    ">\n",
    "> ```{.python .input}\n",
    "> s = sandpiles.Complete(4)\n",
    "> s.invariant_factors()\n",
    "> ```\n",
    ">\n",
    "> ```{.json .output}\n",
    "> [{\"data\": {\"text/plain\": \"[1, 4, 4]\"}, \"execution_count\": 1, \"metadata\": {}, \"output_type\": \"execute_result\"}]\n",
    "> ```\n",
    ">\n",
    "> ```{.python .input}\n",
    "> s.laplacian()\n",
    "> ```\n",
    ">\n",
    "> ```{.json .output}\n",
    "> [{\"data\": {\"text/plain\": \"[ 3 -1 -1 -1]\\n[-1  3 -1 -1]\\n[-1 -1  3 -1]\\n[-1 -1 -1  3]\"}, \"execution_count\": 1, \"metadata\": {}, \"output_type\": \"execute_result\"}]\n",
    "> ```\n",
    "\n",
    "---\n",
    "\n",
    "**wilmes\\_algorithm(M)**\n",
    "\n",
    "> Computes an integer matrix `L` with the same integer row span as `M`\n",
    "> and such that `L` is the reduced laplacian of a directed multigraph.\n",
    ">\n",
    "> INPUT:\n",
    ">\n",
    "> `M` - square integer matrix of full rank\n",
    ">\n",
    "> OUTPUT:\n",
    ">\n",
    "> `L` - integer matrix\n",
    ">\n",
    "> EXAMPLES:\n",
    ">\n",
    "> ```{.python .input}\n",
    "> P = matrix([[2,3,-7,-3],[5,2,-5,5],[8,2,5,4],[-5,-9,6,6]])\n",
    "> wilmes_algorithm(P)\n",
    "> ```\n",
    ">\n",
    "> ```{.json .output}\n",
    "> [{\"data\": {\"text/plain\": \"[ 3279   -79 -1599 -1600]\\n[   -1  1539  -136 -1402]\\n[    0    -1  1650 -1649]\\n[    0     0 -1658  1658]\"}, \"execution_count\": 1, \"metadata\": {}, \"output_type\": \"execute_result\"}]\n",
    "> ```\n",
    ">\n",
    "> NOTE:\n",
    ">\n",
    "> The algorithm is due to John Wilmes.\n",
    "\n",
    "### Help\n",
    "\n",
    "Documentation for each method is available through the Sage online help\n",
    "system:"
   ]
  },
  {
   "cell_type": "code",
   "execution_count": null,
   "id": "c63102fe",
   "metadata": {},
   "outputs": [
    {
     "data": {
      "text/plain": [
       "Base Class:     <class 'instancemethod'>\n",
       "String Form:    <unbound method SandpileConfig.fire_vertex>\n",
       "Namespace:      Interactive\n",
       "File:           /usr/local/sage-4.7/local/lib/python2.6/site-packages/sage/sandpiles/sandpile.py\n",
       "Definition:     SandpileConfig.fire_vertex(self, v)\n",
       "Docstring:\n",
       "       Fire the vertex ``v``.\n",
       "\n",
       "       INPUT:\n",
       "\n",
       "       ``v`` - vertex\n",
       "\n",
       "       OUTPUT:\n",
       "\n",
       "       SandpileConfig\n",
       "\n",
       "       EXAMPLES:\n",
       "\n",
       "          sage: S = Sandpile(graphs.CycleGraph(3), 0)\n",
       "          sage: c = SandpileConfig(S, [1,2])\n",
       "          sage: c.fire_vertex(2)\n",
       "          {1: 2, 2: 0}"
      ]
     },
     "execution_count": 1,
     "metadata": {},
     "output_type": "execute_result"
    }
   ],
   "source": [
    "SandpileConfig.fire_vertex?"
   ]
  },
  {
   "cell_type": "markdown",
   "id": "c7bc13e6",
   "metadata": {},
   "source": [
    "Note\n",
    "\n",
    "An alternative to `SandpileConfig.fire_vertex?` in the preceding code\n",
    "example would be `c.fire_vertex?`, if `c` is any SandpileConfig.\n",
    "\n",
    "Enter `Sandpile.help()`, `SandpileConfig.help()`, and\n",
    "`SandpileDivisor.help()` for lists of available Sandpile-specific\n",
    "methods.\n",
    "\n",
    "General Sage documentation can be found at\n",
    "<http://doc.sagemath.org/html/en/>.\n",
    "\n",
    "## Contact\n",
    "\n",
    "Please contact <davidp@reed.edu> with questions, bug reports, and\n",
    "suggestions for additional features and other improvements.\n",
    "\n",
    "<span id=\"BN\" class=\"citation-label\">BN</span>  \n",
    "Matthew Baker, Serguei Norine, [Riemann-Roch and Abel-Jacobi Theory on a\n",
    "Finite Graph](http://people.math.gatech.edu/~mbaker/papers.html),\n",
    "Advances in Mathematics 215 (2007), 766--788.\n",
    "\n",
    "<span id=\"BTW\" class=\"citation-label\">BTW</span>  \n",
    "Per Bak, Chao Tang and Kurt Wiesenfeld (1987). *Self-organized\n",
    "criticality: an explanation of 1/f noise*, Physical Review Letters 60:\n",
    "381--384; `Bak-Tang-Wiesenfeld_sandpile`.\n",
    "\n",
    "<span id=\"CRS\" class=\"citation-label\">CRS</span>  \n",
    "Robert Cori, Dominique Rossin, and Bruno Salvy, *Polynomial ideals for\n",
    "sandpiles and their Gröbner bases*, Theoretical Computer Science,\n",
    "276 (2002) no. 1--2, 1--15.\n",
    "\n",
    "<span id=\"H\" class=\"citation-label\">H</span>  \n",
    "Alexander E. Holroyd, Lionel Levine, Karola Meszaros, Yuval Peres, James\n",
    "Propp, David B. Wilson, *Chip-Firing and Rotor-Routing on Directed\n",
    "Graphs*, `0801.3306`. An older version of this paper appears in *In and\n",
    "out of Equilibrium II*, Eds. V. Sidoravicius, M. E. Vares, in the Series\n",
    "Progress in Probability, Birkhauser (2008).\n",
    "\n",
    "<span id=\"Levine2014\" class=\"citation-label\">Levine2014</span>  \n",
    "Lionel Levine. Threshold state and a conjecture of Poghosyan, Poghosyan,\n",
    "Priezzhev and Ruelle, Communications in Mathematical Physics.\n",
    "`1402.3283`\n",
    "\n",
    "<span id=\"PPW2013\" class=\"citation-label\">PPW2013</span>  \n",
    "D. Perkinson, J. Perlman, and J. Wilmes. *Primer for the algebraic\n",
    "geometry of sandpiles*. Tropical and Non-Archimedean Geometry, Contemp.\n",
    "Math., 605, Amer. Math. Soc., Providence, RI, 2013. `1112.6163`."
   ]
  }
 ],
 "metadata": {},
 "nbformat": 4,
 "nbformat_minor": 5
}
