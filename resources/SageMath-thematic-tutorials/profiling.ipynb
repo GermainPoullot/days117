{
 "cells": [
  {
   "cell_type": "markdown",
   "id": "5afaf2f1",
   "metadata": {},
   "source": [
    "$$\n",
    "\\def\\CC{\\bf C}\n",
    "\\def\\QQ{\\bf Q}\n",
    "\\def\\RR{\\bf R}\n",
    "\\def\\ZZ{\\bf Z}\n",
    "\\def\\NN{\\bf N}\n",
    "$$\n",
    "# Profiling in Sage\n",
    "\n",
    "This page lists several methods available in Sage to measure and analyze\n",
    "the performances of a piece of code. For more general information on\n",
    "profiling, see `Profiling_(computer_programming)`.\n",
    "\n",
    "Table of contents\n",
    "\n",
    "## How long does it take? %time and %timeit\n",
    "\n",
    "The two IPython magics `%time` and `%timeit` measure the time it takes\n",
    "to run a command:"
   ]
  },
  {
   "cell_type": "code",
   "execution_count": null,
   "id": "15b775b6",
   "metadata": {},
   "outputs": [
    {
     "data": {
      "text/plain": [
       "CPU times: user 152 ms, sys: 0 ns, total: 152 ms\n",
       "Wall time: 150 ms\n"
      ]
     },
     "execution_count": 1,
     "metadata": {},
     "output_type": "execute_result"
    }
   ],
   "source": [
    "%time p=random_prime(2**300)"
   ]
  },
  {
   "cell_type": "code",
   "execution_count": null,
   "id": "34616a5c",
   "metadata": {},
   "outputs": [
    {
     "data": {
      "text/plain": [
       "10 loops, best of 3: 62.2 ms per loop"
      ]
     },
     "execution_count": 1,
     "metadata": {},
     "output_type": "execute_result"
    }
   ],
   "source": [
    "%timeit p=random_prime(2**300)"
   ]
  },
  {
   "cell_type": "markdown",
   "id": "95a14ff6",
   "metadata": {},
   "source": [
    "Note that while `%time` only runs the command once, `%timeit` tries to\n",
    "return a more meaningful value over several runs.\n",
    "\n",
    "For more information see `%timeit?` or [this\n",
    "page](https://ipython.org/ipython-doc/dev/interactive/magics.html#magic-timeit).\n",
    "\n",
    "Note that Sage provides a `timeit\n",
    "<sage.misc.sage_timeit_class.SageTimeit>` function which also runs in\n",
    "the Sage notebook.\n",
    "\n",
    "## Python-level function calls: %prun\n",
    "\n",
    "With `%prun`, you can obtain the list of all Python functions involved\n",
    "in a computation, as well as the time spent on each of them:"
   ]
  },
  {
   "cell_type": "code",
   "execution_count": null,
   "id": "620c8761",
   "metadata": {},
   "outputs": [
    {
     "data": {
      "text/plain": [
       "      468 function calls in 0.439 seconds\n",
       "\n",
       "Ordered by: internal time\n",
       "\n",
       "ncalls  tottime  percall  cumtime  percall filename:lineno(function)\n",
       "    32    0.438    0.014    0.438    0.014 {method 'is_prime' of 'sage.rings.integer.Integer' objects}\n",
       "    32    0.001    0.000    0.439    0.014 arith.py:407(is_prime)\n",
       "    32    0.000    0.000    0.001    0.000 random.py:175(randrange)\n",
       "    32    0.000    0.000    0.000    0.000 random.py:244(_randbelow)\n",
       " ..."
      ]
     },
     "execution_count": 1,
     "metadata": {},
     "output_type": "execute_result"
    }
   ],
   "source": [
    "%prun  _=random_prime(2**500)"
   ]
  },
  {
   "cell_type": "markdown",
   "id": "8a18c667",
   "metadata": {},
   "source": [
    "The most time-consuming functions should appear on the top. A\n",
    "description of the different columns is [available\n",
    "here](https://docs.python.org/3/library/profile.html#instant-user-s-manual).\n",
    "\n",
    "Note\n",
    "\n",
    "You may want to sort this list differently, e.g: use\n",
    "`%prun -s cumulative` for decreasing cumulative time.\n",
    "\n",
    "Alternatively, you can \"save\" this data to a `~pstats.Stats` object for\n",
    "further inspection:"
   ]
  },
  {
   "cell_type": "code",
   "execution_count": null,
   "id": "1c314263",
   "metadata": {},
   "outputs": [
    {
     "data": {
      "text/plain": [
       "2547"
      ]
     },
     "execution_count": 1,
     "metadata": {},
     "output_type": "execute_result"
    }
   ],
   "source": [
    "%prun -r random_prime(2**500)\n",
    "stats_object = _\n",
    "stats_object.total_calls"
   ]
  },
  {
   "cell_type": "markdown",
   "id": "f76f390c",
   "metadata": {},
   "source": [
    "For more information see `%prun?` or [this\n",
    "page](https://ipython.org/ipython-doc/dev/interactive/magics.html#magic-prun).\n",
    "\n",
    "**Visualize the statistics:** you can obtain a more graphical output\n",
    "with [RunSnake](http://www.vrplumber.com/programming/runsnakerun/) and\n",
    "Sage's function `runsnake` :"
   ]
  },
  {
   "cell_type": "code",
   "execution_count": null,
   "id": "d23a4a32",
   "metadata": {},
   "outputs": [],
   "source": [
    "runsnake('random_prime(2**500)')"
   ]
  },
  {
   "cell_type": "markdown",
   "id": "a855c35b",
   "metadata": {},
   "source": [
    "## Python-level line-by-line profiling: %lprun\n",
    "\n",
    "With [line\\_profiler](https://pypi.org/project/line-profiler) and its\n",
    "`%lprun` magic, you can find out which lines of one (or many) functions\n",
    "are the most time-consuming. The syntax is the following:"
   ]
  },
  {
   "cell_type": "code",
   "execution_count": null,
   "id": "be25876a",
   "metadata": {},
   "outputs": [],
   "source": [
    "%lprun -f function1 -f function2 code_to_run"
   ]
  },
  {
   "cell_type": "markdown",
   "id": "403d5bfe",
   "metadata": {},
   "source": [
    "This will display the line-by-line analysis of `function1` and\n",
    "`function2` when `code_to_run` is executed:"
   ]
  },
  {
   "cell_type": "code",
   "execution_count": null,
   "id": "eaee1d54",
   "metadata": {},
   "outputs": [
    {
     "data": {
      "text/plain": [
       "Line #      Hits         Time  Per Hit   % Time  Line Contents\n",
       "==============================================================\n",
       "1193                                           def random_prime(n, proof=None, lbound=2):\n",
       "...                                                ...\n",
       "1251                                               # since we don't want current_randstate to get\n",
       "1252                                               # pulled when you say \"from sage.arith.all import *\".\n",
       "1253         1           11     11.0      0.0      from sage.misc.randstate import current_randstate\n",
       "1254         1            7      7.0      0.0      from sage.structure.proof.proof import get_flag\n",
       "1255         1            6      6.0      0.0      proof = get_flag(proof, \"arithmetic\")\n",
       "1256         1           17     17.0      0.0      n = ZZ(n)\n",
       "..."
      ]
     },
     "execution_count": 1,
     "metadata": {},
     "output_type": "execute_result"
    }
   ],
   "source": [
    "%lprun -f random_prime random_prime(2**500)"
   ]
  },
  {
   "cell_type": "markdown",
   "id": "8b4d59f5",
   "metadata": {},
   "source": [
    "In order to install `line_profiler` you must first run the following\n",
    "command:"
   ]
  },
  {
   "cell_type": "code",
   "execution_count": null,
   "id": "c5b5014d",
   "metadata": {},
   "outputs": [],
   "source": [
    "[user@localhost ~] sage -pip install \"line_profiler\""
   ]
  },
  {
   "cell_type": "markdown",
   "id": "9793961d",
   "metadata": {},
   "source": [
    "## C-level function calls: %crun\n",
    "\n",
    "With `%crun`, you can obtain the list of all C functions involved in a\n",
    "computation, as well as the time spent on each of them. You will need to\n",
    "have [the Google performance analysis\n",
    "tools](https://github.com/gperftools/gperftools) installed on your\n",
    "system:"
   ]
  },
  {
   "cell_type": "code",
   "execution_count": null,
   "id": "0feb0972",
   "metadata": {},
   "outputs": [
    {
     "data": {
      "text/plain": [
       "PROFILE: interrupts/evictions/bytes = 45/0/18344\n",
       "Total: 45 samples\n",
       "       0   0.0%   0.0%       35  77.8% PyEval_EvalCode\n",
       "       0   0.0%   0.0%       35  77.8% PyEval_EvalCodeEx\n",
       "       0   0.0%   0.0%       35  77.8% PyEval_EvalFrameEx\n",
       "       0   0.0%   0.0%       35  77.8% PyObject_Call\n",
       "       0   0.0%   0.0%       35  77.8% PyRun_StringFlags\n",
       "       0   0.0%   0.0%       35  77.8% __Pyx_PyObject_Call.constprop.73\n",
       "..."
      ]
     },
     "execution_count": 1,
     "metadata": {},
     "output_type": "execute_result"
    }
   ],
   "source": [
    "%crun p=random_prime(2**500)"
   ]
  },
  {
   "cell_type": "markdown",
   "id": "2b0222cf",
   "metadata": {},
   "source": [
    "For more information on `%crun`, see `sage.misc.gperftools`.\n",
    "\n",
    "## C-level line-by-line profiling: perf (Linux only)\n",
    "\n",
    "If your code is written in C or in Cython, you can find out line-by-line\n",
    "which are the most costly using [perf](https://perf.wiki.kernel.org)\n",
    "(included in the Ubuntu package `linux-tools`).\n",
    "\n",
    "The easiest way to use it is to run some (very long) computation in\n",
    "Sage, and to type in a console"
   ]
  },
  {
   "cell_type": "code",
   "execution_count": null,
   "id": "436823e2",
   "metadata": {},
   "outputs": [],
   "source": [
    "[user@localhost ~] sudo perf top"
   ]
  },
  {
   "cell_type": "markdown",
   "id": "f00934b9",
   "metadata": {},
   "source": [
    "Select the entry that interests you, and press `Enter`. The `annotate`\n",
    "command will show you:\n",
    "\n",
    "-   the CPU instructions\n",
    "-   the source code\n",
    "-   the associated time"
   ]
  },
  {
   "cell_type": "code",
   "execution_count": null,
   "id": "dfc51e94",
   "metadata": {},
   "outputs": [],
   "source": [
    "│     *         cdef unsigned long word = (<unsigned long>1) << (v & self.radix_mod_mask)\n",
    "│     *         return (self.edges[place] & word) >> (v & self.radix_mod_mask)             # <<<<<<<<<<<<<<\n",
    "│     *\n",
    "│     *     cpdef bint has_arc(self, int u, int v) except -1:\n",
    "│     */\n",
    "│      __pyx_r = (((__pyx_v_self->edges[__pyx_v_place]) & __pyx_v_word) >> (__pyx_v_v & __pyx_v_self->radix_mod_mask));\n",
    "10.88 │      movslq %esi,%rsi\n",
    "6.52 │      and    (%rdi,%rsi,8),%rax\n",
    "12.84 │      shr    %cl,%rax"
   ]
  },
  {
   "cell_type": "markdown",
   "id": "472e0cb5",
   "metadata": {},
   "source": [
    "Note\n",
    "\n",
    "-   press `s` to toggle source code view\n",
    "-   press `H` to cycle through hottest instructions\n",
    "-   press `h` for help\n",
    "\n",
    "Alternatively, or if you have no `sudo` privileges, you can record the\n",
    "statistics of a specific process into a file `perf.data` from its PID.\n",
    "Then, visualize the result using `perf report` :"
   ]
  },
  {
   "cell_type": "code",
   "execution_count": null,
   "id": "6a0d4e9b",
   "metadata": {},
   "outputs": [],
   "source": [
    "[user@localhost ~] perf record -p PID\n",
    "[user@localhost ~] perf report --vmlinux vmlinux"
   ]
  }
 ],
 "metadata": {},
 "nbformat": 4,
 "nbformat_minor": 5
}
