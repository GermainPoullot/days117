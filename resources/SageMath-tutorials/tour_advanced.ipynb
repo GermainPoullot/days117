{
 "cells": [
  {
   "cell_type": "markdown",
   "id": "242faa61",
   "metadata": {},
   "source": [
    "$$\n",
    "\\def\\CC{\\bf C}\n",
    "\\def\\QQ{\\bf Q}\n",
    "\\def\\RR{\\bf R}\n",
    "\\def\\ZZ{\\bf Z}\n",
    "\\def\\NN{\\bf N}\n",
    "$$\n",
    "# Some More Advanced Mathematics\n",
    "\n",
    "## Algebraic Geometry\n",
    "\n",
    "You can define arbitrary algebraic varieties in Sage, but sometimes\n",
    "nontrivial functionality is limited to rings over $\\QQ$ or finite\n",
    "fields. For example, we compute the union of two affine plane curves,\n",
    "then recover the curves as the irreducible components of the union."
   ]
  },
  {
   "cell_type": "code",
   "execution_count": null,
   "id": "3cf19b65",
   "metadata": {},
   "outputs": [
    {
     "data": {
      "text/plain": [
       "Affine Plane Curve over Rational Field defined by\n",
       "   x^5 + x^3*y^2 + x^2*y^3 + y^5 - x^3 - y^3 - x^2 - y^2 + 1"
      ]
     },
     "execution_count": 1,
     "metadata": {},
     "output_type": "execute_result"
    }
   ],
   "source": [
    "x, y = AffineSpace(2, QQ, 'xy').gens()\n",
    "C2 = Curve(x^2 + y^2 - 1)\n",
    "C3 = Curve(x^3 + y^3 - 1)\n",
    "D = C2 + C3\n",
    "D"
   ]
  },
  {
   "cell_type": "code",
   "execution_count": null,
   "id": "d6f313fa",
   "metadata": {},
   "outputs": [
    {
     "data": {
      "text/plain": [
       "[\n",
       "Closed subscheme of Affine Space of dimension 2 over Rational Field defined by:\n",
       "  x^2 + y^2 - 1,\n",
       "Closed subscheme of Affine Space of dimension 2 over Rational Field defined by:\n",
       "  x^3 + y^3 - 1\n",
       "]"
      ]
     },
     "execution_count": 1,
     "metadata": {},
     "output_type": "execute_result"
    }
   ],
   "source": [
    "D.irreducible_components()"
   ]
  },
  {
   "cell_type": "markdown",
   "id": "8349deff",
   "metadata": {},
   "source": [
    "We can also find all points of intersection of the two curves by\n",
    "intersecting them and computing the irreducible components."
   ]
  },
  {
   "cell_type": "code",
   "execution_count": null,
   "id": "e2b0e81b",
   "metadata": {},
   "outputs": [
    {
     "data": {
      "text/plain": [
       "[\n",
       "Closed subscheme of Affine Space of dimension 2 over Rational Field defined by:\n",
       "  y,\n",
       "  x - 1,\n",
       "Closed subscheme of Affine Space of dimension 2 over Rational Field defined by:\n",
       "  y - 1,\n",
       "  x,\n",
       "Closed subscheme of Affine Space of dimension 2 over Rational Field defined by:\n",
       "  x + y + 2,\n",
       "  2*y^2 + 4*y + 3\n",
       "]"
      ]
     },
     "execution_count": 1,
     "metadata": {},
     "output_type": "execute_result"
    }
   ],
   "source": [
    "V = C2.intersection(C3)\n",
    "V.irreducible_components()"
   ]
  },
  {
   "cell_type": "markdown",
   "id": "d22af777",
   "metadata": {},
   "source": [
    "Thus, e.g., $(1,0)$ and $(0,1)$ are on both curves (visibly clear), as\n",
    "are certain (quadratic) points whose $y$ coordinates satisfy\n",
    "$2y^2 + 4y + 3=0$.\n",
    "\n",
    "Sage can compute the toric ideal of the twisted cubic in projective 3\n",
    "space:"
   ]
  },
  {
   "cell_type": "code",
   "execution_count": null,
   "id": "c66ea4fb",
   "metadata": {},
   "outputs": [
    {
     "data": {
      "text/plain": [
       "Groebner fan of the ideal:\n",
       "Ideal (b^2 - a*c, c^2 - b*d, -b*c + a*d) of Multivariate Polynomial Ring\n",
       "in a, b, c, d over Rational Field"
      ]
     },
     "execution_count": 1,
     "metadata": {},
     "output_type": "execute_result"
    }
   ],
   "source": [
    "R.<a,b,c,d> = PolynomialRing(QQ, 4)\n",
    "I = ideal(b^2-a*c, c^2-b*d, a*d-b*c)\n",
    "F = I.groebner_fan(); F"
   ]
  },
  {
   "cell_type": "code",
   "execution_count": null,
   "id": "610fd144",
   "metadata": {},
   "outputs": [
    {
     "data": {
      "text/plain": [
       "[[-c^2 + b*d, -b*c + a*d, -b^2 + a*c],\n",
       " [-b*c + a*d, -c^2 + b*d, b^2 - a*c],\n",
       " [-c^3 + a*d^2, -c^2 + b*d, b*c - a*d, b^2 - a*c],\n",
       " [-c^2 + b*d, b^2 - a*c, b*c - a*d, c^3 - a*d^2],\n",
       " [-b*c + a*d, -b^2 + a*c, c^2 - b*d],\n",
       " [-b^3 + a^2*d, -b^2 + a*c, c^2 - b*d, b*c - a*d],\n",
       " [-b^2 + a*c, c^2 - b*d, b*c - a*d, b^3 - a^2*d],\n",
       " [c^2 - b*d, b*c - a*d, b^2 - a*c]]"
      ]
     },
     "execution_count": 1,
     "metadata": {},
     "output_type": "execute_result"
    }
   ],
   "source": [
    "F.reduced_groebner_bases ()"
   ]
  },
  {
   "cell_type": "code",
   "execution_count": null,
   "id": "23774fb1",
   "metadata": {},
   "outputs": [
    {
     "data": {
      "text/plain": [
       "Polyhedral fan in 4 dimensions of dimension 4"
      ]
     },
     "execution_count": 1,
     "metadata": {},
     "output_type": "execute_result"
    }
   ],
   "source": [
    "F.polyhedralfan()"
   ]
  },
  {
   "cell_type": "markdown",
   "id": "614dc6c0",
   "metadata": {},
   "source": [
    "## Elliptic Curves\n",
    "\n",
    "Elliptic curve functionality includes most of the elliptic curve\n",
    "functionality of PARI, access to the data in Cremona's online tables\n",
    "(this requires an optional database package), the functionality of\n",
    "mwrank, i.e., 2-descents with computation of the full Mordell-Weil\n",
    "group, the SEA algorithm, computation of all isogenies, much new code\n",
    "for curves over $\\QQ$, and some of Denis Simon's algebraic descent\n",
    "software.\n",
    "\n",
    "The command `EllipticCurve` for creating an elliptic curve has many\n",
    "forms:\n",
    "\n",
    "-   EllipticCurve(\\[$a_1$, $a_2$, $a_3$, $a_4$, $a_6$\\]): Returns the\n",
    "    elliptic curve"
   ]
  },
  {
   "cell_type": "markdown",
   "id": "6e141f20",
   "metadata": {},
   "source": [
    "\n",
    "    $$y^2+a_1xy+a_3y=x^3+a_2x^2+a_4x+a_6,$$\n",
    "\n",
    "    where the $a_i$'s are coerced into the parent of $a_1$. If all the\n",
    "    $a_i$ have parent $\\ZZ$, they are coerced into $\\QQ$.\n"
   ]
  },
  {
   "cell_type": "markdown",
   "id": "df752336",
   "metadata": {},
   "source": [
    "-   EllipticCurve(\\[$a_4$, $a_6$\\]): Same as above, but $a_1=a_2=a_3=0$.\n",
    "\n",
    "-   EllipticCurve(label): Returns the elliptic curve over from the\n",
    "    Cremona database with the given (new!) Cremona label. The label is a\n",
    "    string, such as `\"11a\"` or `\"37b2\"`. The letter must be lower case\n",
    "    (to distinguish it from the old labeling).\n",
    "\n",
    "-   EllipticCurve(j): Returns an elliptic curve with $j$-invariant $j$.\n",
    "\n",
    "-   EllipticCurve(R, \\[$a_1$, $a_2$, $a_3$, $a_4$, $a_6$\\]): Create the\n",
    "    elliptic curve over a ring $R$ with given $a_i$'s as above.\n",
    "\n",
    "We illustrate each of these constructors:"
   ]
  },
  {
   "cell_type": "code",
   "execution_count": null,
   "id": "709dc5e3",
   "metadata": {},
   "outputs": [
    {
     "data": {
      "text/plain": [
       "Elliptic Curve defined by y^2 + y = x^3 - x over Rational Field\n"
      ]
     },
     "execution_count": 1,
     "metadata": {},
     "output_type": "execute_result"
    }
   ],
   "source": [
    "EllipticCurve([0,0,1,-1,0])"
   ]
  },
  {
   "cell_type": "code",
   "execution_count": null,
   "id": "fb3b5e38",
   "metadata": {},
   "outputs": [
    {
     "data": {
      "text/plain": [
       "Elliptic Curve defined by y^2 + y = x^3 + 4*x over Finite Field of size 5\n"
      ]
     },
     "execution_count": 1,
     "metadata": {},
     "output_type": "execute_result"
    }
   ],
   "source": [
    "EllipticCurve([GF(5)(0),0,1,-1,0])"
   ]
  },
  {
   "cell_type": "code",
   "execution_count": null,
   "id": "90d8a71a",
   "metadata": {},
   "outputs": [
    {
     "data": {
      "text/plain": [
       "Elliptic Curve defined by y^2  = x^3 + x + 2 over Rational Field\n"
      ]
     },
     "execution_count": 1,
     "metadata": {},
     "output_type": "execute_result"
    }
   ],
   "source": [
    "EllipticCurve([1,2])"
   ]
  },
  {
   "cell_type": "code",
   "execution_count": null,
   "id": "e59724d6",
   "metadata": {},
   "outputs": [
    {
     "data": {
      "text/plain": [
       "Elliptic Curve defined by y^2 + y = x^3 - x over Rational Field\n"
      ]
     },
     "execution_count": 1,
     "metadata": {},
     "output_type": "execute_result"
    }
   ],
   "source": [
    "EllipticCurve('37a')"
   ]
  },
  {
   "cell_type": "code",
   "execution_count": null,
   "id": "5ab145ed",
   "metadata": {},
   "outputs": [
    {
     "data": {
      "text/plain": [
       "Elliptic Curve defined by y^2 + x*y = x^3 + 36*x + 3455 over Rational Field\n"
      ]
     },
     "execution_count": 1,
     "metadata": {},
     "output_type": "execute_result"
    }
   ],
   "source": [
    "EllipticCurve_from_j(1)"
   ]
  },
  {
   "cell_type": "code",
   "execution_count": null,
   "id": "9ff0ec25",
   "metadata": {},
   "outputs": [
    {
     "data": {
      "text/plain": [
       "Elliptic Curve defined by y^2 + y = x^3 + 4*x over Finite Field of size 5"
      ]
     },
     "execution_count": 1,
     "metadata": {},
     "output_type": "execute_result"
    }
   ],
   "source": [
    "EllipticCurve(GF(5), [0,0,1,-1,0])"
   ]
  },
  {
   "cell_type": "markdown",
   "id": "c88055ae",
   "metadata": {},
   "source": [
    "The pair $(0,0)$ is a point on the elliptic curve $E$ defined by $y^2 +\n",
    "y = x^3 - x$. To create this point in Sage type `E([0,0])`. Sage can add\n",
    "points on such an elliptic curve (recall elliptic curves support an\n",
    "additive group structure where the point at infinity is the zero element\n",
    "and three co-linear points on the curve add to zero):"
   ]
  },
  {
   "cell_type": "code",
   "execution_count": null,
   "id": "16c634e4",
   "metadata": {},
   "outputs": [
    {
     "data": {
      "text/plain": [
       "Elliptic Curve defined by y^2 + y = x^3 - x over Rational Field"
      ]
     },
     "execution_count": 1,
     "metadata": {},
     "output_type": "execute_result"
    }
   ],
   "source": [
    "E = EllipticCurve([0,0,1,-1,0])\n",
    "E"
   ]
  },
  {
   "cell_type": "code",
   "execution_count": null,
   "id": "efccb3a1",
   "metadata": {},
   "outputs": [
    {
     "data": {
      "text/plain": [
       "(1 : 0 : 1)"
      ]
     },
     "execution_count": 1,
     "metadata": {},
     "output_type": "execute_result"
    }
   ],
   "source": [
    "P = E([0,0])\n",
    "P + P"
   ]
  },
  {
   "cell_type": "code",
   "execution_count": null,
   "id": "f2481442",
   "metadata": {},
   "outputs": [
    {
     "data": {
      "text/plain": [
       "(161/16 : -2065/64 : 1)"
      ]
     },
     "execution_count": 1,
     "metadata": {},
     "output_type": "execute_result"
    }
   ],
   "source": [
    "10*P"
   ]
  },
  {
   "cell_type": "code",
   "execution_count": null,
   "id": "ab79775f",
   "metadata": {},
   "outputs": [
    {
     "data": {
      "text/plain": [
       "(683916417/264517696 : -18784454671297/4302115807744 : 1)"
      ]
     },
     "execution_count": 1,
     "metadata": {},
     "output_type": "execute_result"
    }
   ],
   "source": [
    "20*P"
   ]
  },
  {
   "cell_type": "code",
   "execution_count": null,
   "id": "0176f06e",
   "metadata": {},
   "outputs": [
    {
     "data": {
      "text/plain": [
       "37"
      ]
     },
     "execution_count": 1,
     "metadata": {},
     "output_type": "execute_result"
    }
   ],
   "source": [
    "E.conductor()"
   ]
  },
  {
   "cell_type": "markdown",
   "id": "f50999be",
   "metadata": {},
   "source": [
    "The elliptic curves over the complex numbers are parameterized by the\n",
    "$j$-invariant. Sage computes $j$-invariant as follows:"
   ]
  },
  {
   "cell_type": "code",
   "execution_count": null,
   "id": "768fb843",
   "metadata": {},
   "outputs": [
    {
     "data": {
      "text/plain": [
       "Elliptic Curve defined by y^2 = x^3 - 4*x + 2 over Rational Field"
      ]
     },
     "execution_count": 1,
     "metadata": {},
     "output_type": "execute_result"
    }
   ],
   "source": [
    "E = EllipticCurve([0,0,0,-4,2]); E"
   ]
  },
  {
   "cell_type": "code",
   "execution_count": null,
   "id": "65401359",
   "metadata": {},
   "outputs": [
    {
     "data": {
      "text/plain": [
       "2368"
      ]
     },
     "execution_count": 1,
     "metadata": {},
     "output_type": "execute_result"
    }
   ],
   "source": [
    "E.conductor()"
   ]
  },
  {
   "cell_type": "code",
   "execution_count": null,
   "id": "91fc3dcf",
   "metadata": {},
   "outputs": [
    {
     "data": {
      "text/plain": [
       "110592/37"
      ]
     },
     "execution_count": 1,
     "metadata": {},
     "output_type": "execute_result"
    }
   ],
   "source": [
    "E.j_invariant()"
   ]
  },
  {
   "cell_type": "markdown",
   "id": "82df9038",
   "metadata": {},
   "source": [
    "If we make a curve with the same $j$-invariant as that of $E$, it need\n",
    "not be isomorphic to $E$. In the following example, the curves are not\n",
    "isomorphic because their conductors are different."
   ]
  },
  {
   "cell_type": "code",
   "execution_count": null,
   "id": "5f694dac",
   "metadata": {},
   "outputs": [
    {
     "data": {
      "text/plain": [
       "37"
      ]
     },
     "execution_count": 1,
     "metadata": {},
     "output_type": "execute_result"
    }
   ],
   "source": [
    "F = EllipticCurve_from_j(110592/37)\n",
    "F.conductor()"
   ]
  },
  {
   "cell_type": "markdown",
   "id": "f5e8e892",
   "metadata": {},
   "source": [
    "However, the twist of $F$ by 2 gives an isomorphic curve."
   ]
  },
  {
   "cell_type": "code",
   "execution_count": null,
   "id": "4f6201f7",
   "metadata": {},
   "outputs": [
    {
     "data": {
      "text/plain": [
       "Elliptic Curve defined by y^2 = x^3 - 4*x + 2 over Rational Field"
      ]
     },
     "execution_count": 1,
     "metadata": {},
     "output_type": "execute_result"
    }
   ],
   "source": [
    "G = F.quadratic_twist(2); G"
   ]
  },
  {
   "cell_type": "code",
   "execution_count": null,
   "id": "6fc9f006",
   "metadata": {},
   "outputs": [
    {
     "data": {
      "text/plain": [
       "2368"
      ]
     },
     "execution_count": 1,
     "metadata": {},
     "output_type": "execute_result"
    }
   ],
   "source": [
    "G.conductor()"
   ]
  },
  {
   "cell_type": "code",
   "execution_count": null,
   "id": "8097b031",
   "metadata": {},
   "outputs": [
    {
     "data": {
      "text/plain": [
       "110592/37"
      ]
     },
     "execution_count": 1,
     "metadata": {},
     "output_type": "execute_result"
    }
   ],
   "source": [
    "G.j_invariant()"
   ]
  },
  {
   "cell_type": "markdown",
   "id": "2f030689",
   "metadata": {},
   "source": [
    "We can compute the coefficients $a_n$ of the $L$-series or modular form\n",
    "$\\sum_{n=0}^\\infty\n",
    "a_nq^n$ attached to the elliptic curve. This computation uses the PARI\n",
    "C-library:"
   ]
  },
  {
   "cell_type": "code",
   "execution_count": null,
   "id": "9b12f4fe",
   "metadata": {},
   "outputs": [
    {
     "data": {
      "text/plain": [
       "[0, 1, -2, -3, 2, -2, 6, -1, 0, 6, 4, -5, -6, -2, 2, 6, -4, 0, -12, 0, -4,\n",
       " 3, 10, 2, 0, -1, 4, -9, -2, 6, -12]"
      ]
     },
     "execution_count": 1,
     "metadata": {},
     "output_type": "execute_result"
    }
   ],
   "source": [
    "E = EllipticCurve([0,0,1,-1,0])\n",
    "E.anlist(30)"
   ]
  },
  {
   "cell_type": "code",
   "execution_count": null,
   "id": "fd8d5a20",
   "metadata": {},
   "outputs": [],
   "source": [
    "v = E.anlist(10000)"
   ]
  },
  {
   "cell_type": "markdown",
   "id": "a1769f53",
   "metadata": {},
   "source": [
    "It only takes a second to compute all $a_n$ for $n\\leq 10^5$ :"
   ]
  },
  {
   "cell_type": "code",
   "execution_count": null,
   "id": "eb1c2d5e",
   "metadata": {},
   "outputs": [
    {
     "data": {
      "text/plain": [
       "CPU times: user 0.98 s, sys: 0.06 s, total: 1.04 s\n",
       "Wall time: 1.06"
      ]
     },
     "execution_count": 1,
     "metadata": {},
     "output_type": "execute_result"
    }
   ],
   "source": [
    "%time v = E.anlist(100000)"
   ]
  },
  {
   "cell_type": "markdown",
   "id": "8983a5cc",
   "metadata": {},
   "source": [
    "Elliptic curves can be constructed using their Cremona labels. This\n",
    "pre-loads the elliptic curve with information about its rank, Tamagawa\n",
    "numbers, regulator, etc."
   ]
  },
  {
   "cell_type": "code",
   "execution_count": null,
   "id": "16d12917",
   "metadata": {},
   "outputs": [
    {
     "data": {
      "text/plain": [
       "Elliptic Curve defined by y^2 + y = x^3 + x^2 - 1873*x - 31833 over Rational\n",
       "Field"
      ]
     },
     "execution_count": 1,
     "metadata": {},
     "output_type": "execute_result"
    }
   ],
   "source": [
    "E = EllipticCurve(\"37b2\")\n",
    "E"
   ]
  },
  {
   "cell_type": "code",
   "execution_count": null,
   "id": "8157a625",
   "metadata": {},
   "outputs": [
    {
     "data": {
      "text/plain": [
       "Elliptic Curve defined by y^2 + y = x^3 + x^2 - 2*x  over Rational Field"
      ]
     },
     "execution_count": 1,
     "metadata": {},
     "output_type": "execute_result"
    }
   ],
   "source": [
    "E = EllipticCurve(\"389a\")\n",
    "E"
   ]
  },
  {
   "cell_type": "code",
   "execution_count": null,
   "id": "48b72ec2",
   "metadata": {},
   "outputs": [
    {
     "data": {
      "text/plain": [
       "2"
      ]
     },
     "execution_count": 1,
     "metadata": {},
     "output_type": "execute_result"
    }
   ],
   "source": [
    "E.rank()"
   ]
  },
  {
   "cell_type": "code",
   "execution_count": null,
   "id": "9468c1a9",
   "metadata": {},
   "outputs": [
    {
     "data": {
      "text/plain": [
       "3"
      ]
     },
     "execution_count": 1,
     "metadata": {},
     "output_type": "execute_result"
    }
   ],
   "source": [
    "E = EllipticCurve(\"5077a\")\n",
    "E.rank()"
   ]
  },
  {
   "cell_type": "markdown",
   "id": "a6bcb02b",
   "metadata": {},
   "source": [
    "We can also access the Cremona database directly."
   ]
  },
  {
   "cell_type": "code",
   "execution_count": null,
   "id": "afb8d72f",
   "metadata": {},
   "outputs": [
    {
     "data": {
      "text/plain": [
       "{'a1': [[0, 0, 1, -1, 0], 1, 1], 'b1': [[0, 1, 1, -23, -50], 0, 3]}"
      ]
     },
     "execution_count": 1,
     "metadata": {},
     "output_type": "execute_result"
    }
   ],
   "source": [
    "db = sage.databases.cremona.CremonaDatabase()\n",
    "db.curves(37)"
   ]
  },
  {
   "cell_type": "code",
   "execution_count": null,
   "id": "c3a8db17",
   "metadata": {},
   "outputs": [
    {
     "data": {
      "text/plain": [
       "{'a1': [[0, 0, 1, -1, 0], 1, 1],\n",
       " 'b1': [[0, 1, 1, -23, -50], 0, 3],\n",
       " 'b2': [[0, 1, 1, -1873, -31833], 0, 1],\n",
       " 'b3': [[0, 1, 1, -3, 1], 0, 3]}"
      ]
     },
     "execution_count": 1,
     "metadata": {},
     "output_type": "execute_result"
    }
   ],
   "source": [
    "db.allcurves(37)"
   ]
  },
  {
   "cell_type": "markdown",
   "id": "e4ee20c7",
   "metadata": {},
   "source": [
    "The objects returned from the database are not of type `EllipticCurve`.\n",
    "They are elements of a database and have a couple of fields, and that's\n",
    "it. There is a small version of Cremona's database, which is distributed\n",
    "by default with Sage, and contains limited information about elliptic\n",
    "curves of conductor $\\leq 10000$. There is also a large optional\n",
    "version, which contains extensive data about all curves of conductor up\n",
    "to $120000$ (as of October 2005). There is also a huge (2GB) optional\n",
    "database package for Sage that contains the hundreds of millions of\n",
    "elliptic curves in the Stein-Watkins database.\n",
    "\n",
    "## Dirichlet Characters\n",
    "\n",
    "A *Dirichlet character* is the extension of a homomorphism\n",
    "$(\\ZZ/N\\ZZ)^* \\to R^*$, for some ring $R$, to the map $\\ZZ \\to R$\n",
    "obtained by sending those integers $x$ with $\\gcd(N,x)>1$ to 0."
   ]
  },
  {
   "cell_type": "code",
   "execution_count": null,
   "id": "1fc6e6a4",
   "metadata": {},
   "outputs": [
    {
     "data": {
      "text/plain": [
       "[Dirichlet character modulo 12 of conductor 1 mapping 7 |--> 1, 5 |--> 1,\n",
       "Dirichlet character modulo 12 of conductor 4 mapping 7 |--> -1, 5 |--> 1,\n",
       "Dirichlet character modulo 12 of conductor 3 mapping 7 |--> 1, 5 |--> -1,\n",
       "Dirichlet character modulo 12 of conductor 12 mapping 7 |--> -1, 5 |--> -1]"
      ]
     },
     "execution_count": 1,
     "metadata": {},
     "output_type": "execute_result"
    }
   ],
   "source": [
    "G = DirichletGroup(12)\n",
    "G.list()"
   ]
  },
  {
   "cell_type": "code",
   "execution_count": null,
   "id": "a917c943",
   "metadata": {},
   "outputs": [
    {
     "data": {
      "text/plain": [
       "(Dirichlet character modulo 12 of conductor 4 mapping 7 |--> -1, 5 |--> 1,\n",
       "Dirichlet character modulo 12 of conductor 3 mapping 7 |--> 1, 5 |--> -1)"
      ]
     },
     "execution_count": 1,
     "metadata": {},
     "output_type": "execute_result"
    }
   ],
   "source": [
    "G.gens()"
   ]
  },
  {
   "cell_type": "code",
   "execution_count": null,
   "id": "f7c745d6",
   "metadata": {},
   "outputs": [
    {
     "data": {
      "text/plain": [
       "4"
      ]
     },
     "execution_count": 1,
     "metadata": {},
     "output_type": "execute_result"
    }
   ],
   "source": [
    "len(G)"
   ]
  },
  {
   "cell_type": "markdown",
   "id": "ce66a387",
   "metadata": {},
   "source": [
    "Having created the group, we next create an element and compute with it."
   ]
  },
  {
   "cell_type": "code",
   "execution_count": null,
   "id": "62c52329",
   "metadata": {},
   "outputs": [
    {
     "data": {
      "text/plain": [
       "Dirichlet character modulo 21 of conductor 7 mapping 8 |--> 1, 10 |--> zeta6"
      ]
     },
     "execution_count": 1,
     "metadata": {},
     "output_type": "execute_result"
    }
   ],
   "source": [
    "G = DirichletGroup(21)\n",
    "chi = G.1; chi"
   ]
  },
  {
   "cell_type": "code",
   "execution_count": null,
   "id": "c8989ce3",
   "metadata": {},
   "outputs": [
    {
     "data": {
      "text/plain": [
       "[0, 1, zeta6 - 1, 0, -zeta6, -zeta6 + 1, 0, 0, 1, 0, zeta6, -zeta6, 0, -1,\n",
       " 0, 0, zeta6 - 1, zeta6, 0, -zeta6 + 1, -1]"
      ]
     },
     "execution_count": 1,
     "metadata": {},
     "output_type": "execute_result"
    }
   ],
   "source": [
    "chi.values()"
   ]
  },
  {
   "cell_type": "code",
   "execution_count": null,
   "id": "8c938d27",
   "metadata": {},
   "outputs": [
    {
     "data": {
      "text/plain": [
       "7"
      ]
     },
     "execution_count": 1,
     "metadata": {},
     "output_type": "execute_result"
    }
   ],
   "source": [
    "chi.conductor()"
   ]
  },
  {
   "cell_type": "code",
   "execution_count": null,
   "id": "4d5a1154",
   "metadata": {},
   "outputs": [
    {
     "data": {
      "text/plain": [
       "21"
      ]
     },
     "execution_count": 1,
     "metadata": {},
     "output_type": "execute_result"
    }
   ],
   "source": [
    "chi.modulus()"
   ]
  },
  {
   "cell_type": "code",
   "execution_count": null,
   "id": "789cb99e",
   "metadata": {},
   "outputs": [
    {
     "data": {
      "text/plain": [
       "6"
      ]
     },
     "execution_count": 1,
     "metadata": {},
     "output_type": "execute_result"
    }
   ],
   "source": [
    "chi.order()"
   ]
  },
  {
   "cell_type": "code",
   "execution_count": null,
   "id": "bcefb851",
   "metadata": {},
   "outputs": [
    {
     "data": {
      "text/plain": [
       "-zeta6 + 1"
      ]
     },
     "execution_count": 1,
     "metadata": {},
     "output_type": "execute_result"
    }
   ],
   "source": [
    "chi(19)"
   ]
  },
  {
   "cell_type": "code",
   "execution_count": null,
   "id": "4da46b56",
   "metadata": {},
   "outputs": [
    {
     "data": {
      "text/plain": [
       "-zeta6 + 1"
      ]
     },
     "execution_count": 1,
     "metadata": {},
     "output_type": "execute_result"
    }
   ],
   "source": [
    "chi(40)"
   ]
  },
  {
   "cell_type": "markdown",
   "id": "e0eccaa1",
   "metadata": {},
   "source": [
    "It is also possible to compute the action of the Galois group\n",
    "$\\text{Gal}(\\QQ(\\zeta_N)/\\QQ)$ on these characters, as well as the\n",
    "direct product decomposition corresponding to the factorization of the\n",
    "modulus."
   ]
  },
  {
   "cell_type": "code",
   "execution_count": null,
   "id": "fbfa8563",
   "metadata": {},
   "outputs": [
    {
     "data": {
      "text/plain": [
       "[Dirichlet character modulo 21 of conductor 7 mapping 8 |--> 1, 10 |--> -zeta6 + 1,\n",
       " Dirichlet character modulo 21 of conductor 7 mapping 8 |--> 1, 10 |--> zeta6]\n"
      ]
     },
     "execution_count": 1,
     "metadata": {},
     "output_type": "execute_result"
    }
   ],
   "source": [
    "chi.galois_orbit()"
   ]
  },
  {
   "cell_type": "code",
   "execution_count": null,
   "id": "25f09023",
   "metadata": {},
   "outputs": [
    {
     "data": {
      "text/plain": [
       "[1, 2, 2, 1, 1, 2, 2, 1]\n"
      ]
     },
     "execution_count": 1,
     "metadata": {},
     "output_type": "execute_result"
    }
   ],
   "source": [
    "go = G.galois_orbits()\n",
    "[len(orbit) for orbit in go]"
   ]
  },
  {
   "cell_type": "code",
   "execution_count": null,
   "id": "e307d6d6",
   "metadata": {},
   "outputs": [
    {
     "data": {
      "text/plain": [
       "[\n",
       "Group of Dirichlet characters modulo 3 with values in Cyclotomic Field of order 6 and degree 2,\n",
       "Group of Dirichlet characters modulo 7 with values in Cyclotomic Field of order 6 and degree 2\n",
       "]"
      ]
     },
     "execution_count": 1,
     "metadata": {},
     "output_type": "execute_result"
    }
   ],
   "source": [
    "G.decomposition()"
   ]
  },
  {
   "cell_type": "markdown",
   "id": "9135e364",
   "metadata": {},
   "source": [
    "Next, we construct the group of Dirichlet characters mod 20, but with\n",
    "values in $\\QQ(i)$ :"
   ]
  },
  {
   "cell_type": "code",
   "execution_count": null,
   "id": "6032f20c",
   "metadata": {},
   "outputs": [
    {
     "data": {
      "text/plain": [
       "Group of Dirichlet characters modulo 20 with values in Number Field in i with defining polynomial x^2 + 1"
      ]
     },
     "execution_count": 1,
     "metadata": {},
     "output_type": "execute_result"
    }
   ],
   "source": [
    "K.<i> = NumberField(x^2+1)\n",
    "G = DirichletGroup(20,K)\n",
    "G"
   ]
  },
  {
   "cell_type": "markdown",
   "id": "554a30eb",
   "metadata": {},
   "source": [
    "We next compute several invariants of `G` :"
   ]
  },
  {
   "cell_type": "code",
   "execution_count": null,
   "id": "e9f84af4",
   "metadata": {},
   "outputs": [
    {
     "data": {
      "text/plain": [
       "(Dirichlet character modulo 20 of conductor 4 mapping 11 |--> -1, 17 |--> 1,\n",
       "Dirichlet character modulo 20 of conductor 5 mapping 11 |--> 1, 17 |--> i)\n"
      ]
     },
     "execution_count": 1,
     "metadata": {},
     "output_type": "execute_result"
    }
   ],
   "source": [
    "G.gens()"
   ]
  },
  {
   "cell_type": "code",
   "execution_count": null,
   "id": "1b577f6a",
   "metadata": {},
   "outputs": [
    {
     "data": {
      "text/plain": [
       "(11, 17)"
      ]
     },
     "execution_count": 1,
     "metadata": {},
     "output_type": "execute_result"
    }
   ],
   "source": [
    "G.unit_gens()"
   ]
  },
  {
   "cell_type": "code",
   "execution_count": null,
   "id": "16758b0d",
   "metadata": {},
   "outputs": [
    {
     "data": {
      "text/plain": [
       "i"
      ]
     },
     "execution_count": 1,
     "metadata": {},
     "output_type": "execute_result"
    }
   ],
   "source": [
    "G.zeta()"
   ]
  },
  {
   "cell_type": "code",
   "execution_count": null,
   "id": "0c73eb33",
   "metadata": {},
   "outputs": [
    {
     "data": {
      "text/plain": [
       "4"
      ]
     },
     "execution_count": 1,
     "metadata": {},
     "output_type": "execute_result"
    }
   ],
   "source": [
    "G.zeta_order()"
   ]
  },
  {
   "cell_type": "markdown",
   "id": "82ac69b3",
   "metadata": {},
   "source": [
    "In this example we create a Dirichlet character with values in a number\n",
    "field. We explicitly specify the choice of root of unity by the third\n",
    "argument to `DirichletGroup` below."
   ]
  },
  {
   "cell_type": "code",
   "execution_count": null,
   "id": "b799bd71",
   "metadata": {},
   "outputs": [
    {
     "data": {
      "text/plain": [
       "True"
      ]
     },
     "execution_count": 1,
     "metadata": {},
     "output_type": "execute_result"
    }
   ],
   "source": [
    "x = polygen(QQ, 'x')\n",
    "K = NumberField(x^4 + 1, 'a'); a = K.0\n",
    "b = K.gen(); a == b"
   ]
  },
  {
   "cell_type": "code",
   "execution_count": null,
   "id": "d0d7e657",
   "metadata": {},
   "outputs": [
    {
     "data": {
      "text/plain": [
       "Number Field in a with defining polynomial x^4 + 1"
      ]
     },
     "execution_count": 1,
     "metadata": {},
     "output_type": "execute_result"
    }
   ],
   "source": [
    "K"
   ]
  },
  {
   "cell_type": "code",
   "execution_count": null,
   "id": "558ab5b2",
   "metadata": {},
   "outputs": [
    {
     "data": {
      "text/plain": [
       "Group of Dirichlet characters modulo 5 with values in the group of order 8 generated by a in Number Field in a with defining polynomial x^4 + 1"
      ]
     },
     "execution_count": 1,
     "metadata": {},
     "output_type": "execute_result"
    }
   ],
   "source": [
    "G = DirichletGroup(5, K, a); G"
   ]
  },
  {
   "cell_type": "code",
   "execution_count": null,
   "id": "c3efa09e",
   "metadata": {},
   "outputs": [
    {
     "data": {
      "text/plain": [
       "Dirichlet character modulo 5 of conductor 5 mapping 2 |--> a^2"
      ]
     },
     "execution_count": 1,
     "metadata": {},
     "output_type": "execute_result"
    }
   ],
   "source": [
    "chi = G.0; chi"
   ]
  },
  {
   "cell_type": "code",
   "execution_count": null,
   "id": "c55a28d2",
   "metadata": {},
   "outputs": [
    {
     "data": {
      "text/plain": [
       "[1, a^2, -1, -a^2]"
      ]
     },
     "execution_count": 1,
     "metadata": {},
     "output_type": "execute_result"
    }
   ],
   "source": [
    "[(chi^i)(2) for i in range(4)]"
   ]
  },
  {
   "cell_type": "markdown",
   "id": "3331270b",
   "metadata": {},
   "source": [
    "Here `NumberField(x^4 + 1, 'a')` tells Sage to use the symbol \"a\" in\n",
    "printing what `K` is (a Number Field in a with defining polynomial\n",
    "$x^4 + 1$). The name \"a\" is undeclared at this point. Once `a = K.0` (or\n",
    "equivalently `a = K.gen()`) is evaluated, the symbol \"a\" represents a\n",
    "root of the generating polynomial $x^4+1$.\n",
    "\n",
    "## Modular Forms\n",
    "\n",
    "Sage can do some computations related to modular forms, including\n",
    "dimensions, computing spaces of modular symbols, Hecke operators, and\n",
    "decompositions.\n",
    "\n",
    "There are several functions available for computing dimensions of spaces\n",
    "of modular forms. For example,"
   ]
  },
  {
   "cell_type": "code",
   "execution_count": null,
   "id": "d0351694",
   "metadata": {},
   "outputs": [
    {
     "data": {
      "text/plain": [
       "1"
      ]
     },
     "execution_count": 1,
     "metadata": {},
     "output_type": "execute_result"
    }
   ],
   "source": [
    "from sage.modular.dims import dimension_cusp_forms\n",
    "dimension_cusp_forms(Gamma0(11),2)"
   ]
  },
  {
   "cell_type": "code",
   "execution_count": null,
   "id": "fa39daae",
   "metadata": {},
   "outputs": [
    {
     "data": {
      "text/plain": [
       "1"
      ]
     },
     "execution_count": 1,
     "metadata": {},
     "output_type": "execute_result"
    }
   ],
   "source": [
    "dimension_cusp_forms(Gamma0(1),12)"
   ]
  },
  {
   "cell_type": "code",
   "execution_count": null,
   "id": "e27d678d",
   "metadata": {},
   "outputs": [
    {
     "data": {
      "text/plain": [
       "6112"
      ]
     },
     "execution_count": 1,
     "metadata": {},
     "output_type": "execute_result"
    }
   ],
   "source": [
    "dimension_cusp_forms(Gamma1(389),2)"
   ]
  },
  {
   "cell_type": "markdown",
   "id": "77d65193",
   "metadata": {},
   "source": [
    "Next we illustrate computation of Hecke operators on a space of modular\n",
    "symbols of level $1$ and weight $12$."
   ]
  },
  {
   "cell_type": "code",
   "execution_count": null,
   "id": "36f32abf",
   "metadata": {},
   "outputs": [
    {
     "data": {
      "text/plain": [
       "([X^8*Y^2,(0,0)], [X^9*Y,(0,0)], [X^10,(0,0)])"
      ]
     },
     "execution_count": 1,
     "metadata": {},
     "output_type": "execute_result"
    }
   ],
   "source": [
    "M = ModularSymbols(1,12)\n",
    "M.basis()"
   ]
  },
  {
   "cell_type": "code",
   "execution_count": null,
   "id": "1034c6b4",
   "metadata": {},
   "outputs": [
    {
     "data": {
      "text/plain": [
       "Hecke operator T_2 on Modular Symbols space of dimension 3 for Gamma_0(1)\n",
       "of weight 12 with sign 0 over Rational Field"
      ]
     },
     "execution_count": 1,
     "metadata": {},
     "output_type": "execute_result"
    }
   ],
   "source": [
    "t2 = M.T(2)\n",
    "t2"
   ]
  },
  {
   "cell_type": "code",
   "execution_count": null,
   "id": "0b07a854",
   "metadata": {},
   "outputs": [
    {
     "data": {
      "text/plain": [
       "[ -24    0    0]\n",
       "[   0  -24    0]\n",
       "[4860    0 2049]"
      ]
     },
     "execution_count": 1,
     "metadata": {},
     "output_type": "execute_result"
    }
   ],
   "source": [
    "t2.matrix()"
   ]
  },
  {
   "cell_type": "code",
   "execution_count": null,
   "id": "163e6562",
   "metadata": {},
   "outputs": [
    {
     "data": {
      "text/plain": [
       "x^3 - 2001*x^2 - 97776*x - 1180224"
      ]
     },
     "execution_count": 1,
     "metadata": {},
     "output_type": "execute_result"
    }
   ],
   "source": [
    "f = t2.charpoly('x'); f"
   ]
  },
  {
   "cell_type": "code",
   "execution_count": null,
   "id": "7787cfd1",
   "metadata": {},
   "outputs": [
    {
     "data": {
      "text/plain": [
       "(x - 2049) * (x + 24)^2"
      ]
     },
     "execution_count": 1,
     "metadata": {},
     "output_type": "execute_result"
    }
   ],
   "source": [
    "factor(f)"
   ]
  },
  {
   "cell_type": "code",
   "execution_count": null,
   "id": "bcc0eced",
   "metadata": {},
   "outputs": [
    {
     "data": {
      "text/plain": [
       "(x - 285311670612) * (x - 534612)^2"
      ]
     },
     "execution_count": 1,
     "metadata": {},
     "output_type": "execute_result"
    }
   ],
   "source": [
    "M.T(11).charpoly('x').factor()"
   ]
  },
  {
   "cell_type": "markdown",
   "id": "e0ad37fb",
   "metadata": {},
   "source": [
    "We can also create spaces for $\\Gamma_0(N)$ and $\\Gamma_1(N)$."
   ]
  },
  {
   "cell_type": "code",
   "execution_count": null,
   "id": "d205950a",
   "metadata": {},
   "outputs": [
    {
     "data": {
      "text/plain": [
       "Modular Symbols space of dimension 3 for Gamma_0(11) of weight 2 with sign\n",
       " 0 over Rational Field"
      ]
     },
     "execution_count": 1,
     "metadata": {},
     "output_type": "execute_result"
    }
   ],
   "source": [
    "ModularSymbols(11,2)"
   ]
  },
  {
   "cell_type": "code",
   "execution_count": null,
   "id": "d1548b3a",
   "metadata": {},
   "outputs": [
    {
     "data": {
      "text/plain": [
       "Modular Symbols space of dimension 11 for Gamma_1(11) of weight 2 with\n",
       "sign 0 over Rational Field"
      ]
     },
     "execution_count": 1,
     "metadata": {},
     "output_type": "execute_result"
    }
   ],
   "source": [
    "ModularSymbols(Gamma1(11),2)"
   ]
  },
  {
   "cell_type": "markdown",
   "id": "c459767d",
   "metadata": {},
   "source": [
    "Let's compute some characteristic polynomials and $q$-expansions."
   ]
  },
  {
   "cell_type": "code",
   "execution_count": null,
   "id": "0cc6e62f",
   "metadata": {},
   "outputs": [
    {
     "data": {
      "text/plain": [
       "x^11 - 8*x^10 + 20*x^9 + 10*x^8 - 145*x^7 + 229*x^6 + 58*x^5 - 360*x^4\n",
       "     + 70*x^3 - 515*x^2 + 1804*x - 1452"
      ]
     },
     "execution_count": 1,
     "metadata": {},
     "output_type": "execute_result"
    }
   ],
   "source": [
    "M = ModularSymbols(Gamma1(11),2)\n",
    "M.T(2).charpoly('x')"
   ]
  },
  {
   "cell_type": "code",
   "execution_count": null,
   "id": "d8a76d14",
   "metadata": {},
   "outputs": [
    {
     "data": {
      "text/plain": [
       "(x - 3) * (x + 2)^2 * (x^4 - 7*x^3 + 19*x^2 - 23*x + 11)\n",
       "        * (x^4 - 2*x^3 + 4*x^2 + 2*x + 11)"
      ]
     },
     "execution_count": 1,
     "metadata": {},
     "output_type": "execute_result"
    }
   ],
   "source": [
    "M.T(2).charpoly('x').factor()"
   ]
  },
  {
   "cell_type": "code",
   "execution_count": null,
   "id": "471f0200",
   "metadata": {},
   "outputs": [
    {
     "data": {
      "text/plain": [
       "[-2  0]\n",
       "[ 0 -2]"
      ]
     },
     "execution_count": 1,
     "metadata": {},
     "output_type": "execute_result"
    }
   ],
   "source": [
    "S = M.cuspidal_submodule()\n",
    "S.T(2).matrix()"
   ]
  },
  {
   "cell_type": "code",
   "execution_count": null,
   "id": "a0c46803",
   "metadata": {},
   "outputs": [
    {
     "data": {
      "text/plain": [
       "[\n",
       "    q - 2*q^2 - q^3 + 2*q^4 + q^5 + 2*q^6 - 2*q^7 - 2*q^9 + O(q^10)\n",
       "]"
      ]
     },
     "execution_count": 1,
     "metadata": {},
     "output_type": "execute_result"
    }
   ],
   "source": [
    "S.q_expansion_basis(10)"
   ]
  },
  {
   "cell_type": "markdown",
   "id": "cabfba9d",
   "metadata": {},
   "source": [
    "We can even compute spaces of modular symbols with character."
   ]
  },
  {
   "cell_type": "code",
   "execution_count": null,
   "id": "0b581d21",
   "metadata": {},
   "outputs": [
    {
     "data": {
      "text/plain": [
       "Modular Symbols space of dimension 4 and level 13, weight 2, character\n",
       "[zeta6], sign 0, over Cyclotomic Field of order 6 and degree 2"
      ]
     },
     "execution_count": 1,
     "metadata": {},
     "output_type": "execute_result"
    }
   ],
   "source": [
    "G = DirichletGroup(13)\n",
    "e = G.0^2\n",
    "M = ModularSymbols(e,2); M"
   ]
  },
  {
   "cell_type": "code",
   "execution_count": null,
   "id": "6b339ff8",
   "metadata": {},
   "outputs": [
    {
     "data": {
      "text/plain": [
       "(x - zeta6 - 2) * (x - 2*zeta6 - 1) * (x + zeta6 + 1)^2"
      ]
     },
     "execution_count": 1,
     "metadata": {},
     "output_type": "execute_result"
    }
   ],
   "source": [
    "M.T(2).charpoly('x').factor()"
   ]
  },
  {
   "cell_type": "code",
   "execution_count": null,
   "id": "54b4d47a",
   "metadata": {},
   "outputs": [
    {
     "data": {
      "text/plain": [
       "Modular Symbols subspace of dimension 2 of Modular Symbols space of\n",
       "dimension 4 and level 13, weight 2, character [zeta6], sign 0, over\n",
       "Cyclotomic Field of order 6 and degree 2"
      ]
     },
     "execution_count": 1,
     "metadata": {},
     "output_type": "execute_result"
    }
   ],
   "source": [
    "S = M.cuspidal_submodule(); S"
   ]
  },
  {
   "cell_type": "code",
   "execution_count": null,
   "id": "3e7789aa",
   "metadata": {},
   "outputs": [
    {
     "data": {
      "text/plain": [
       "(x + zeta6 + 1)^2"
      ]
     },
     "execution_count": 1,
     "metadata": {},
     "output_type": "execute_result"
    }
   ],
   "source": [
    "S.T(2).charpoly('x').factor()"
   ]
  },
  {
   "cell_type": "code",
   "execution_count": null,
   "id": "a8913eaa",
   "metadata": {},
   "outputs": [
    {
     "data": {
      "text/plain": [
       "[\n",
       "q + (-zeta6 - 1)*q^2 + (2*zeta6 - 2)*q^3 + zeta6*q^4 + (-2*zeta6 + 1)*q^5\n",
       "  + (-2*zeta6 + 4)*q^6 + (2*zeta6 - 1)*q^8 - zeta6*q^9 + O(q^10)\n",
       "]"
      ]
     },
     "execution_count": 1,
     "metadata": {},
     "output_type": "execute_result"
    }
   ],
   "source": [
    "S.q_expansion_basis(10)"
   ]
  },
  {
   "cell_type": "markdown",
   "id": "ab3816fb",
   "metadata": {},
   "source": [
    "Here is another example of how Sage can compute the action of Hecke\n",
    "operators on a space of modular forms."
   ]
  },
  {
   "cell_type": "code",
   "execution_count": null,
   "id": "03092408",
   "metadata": {},
   "outputs": [
    {
     "data": {
      "text/plain": [
       "Modular Forms space of dimension 2 for Congruence Subgroup Gamma0(11) of\n",
       "weight 2 over Rational Field"
      ]
     },
     "execution_count": 1,
     "metadata": {},
     "output_type": "execute_result"
    }
   ],
   "source": [
    "T = ModularForms(Gamma0(11),2)\n",
    "T"
   ]
  },
  {
   "cell_type": "code",
   "execution_count": null,
   "id": "53de6edb",
   "metadata": {},
   "outputs": [
    {
     "data": {
      "text/plain": [
       "2"
      ]
     },
     "execution_count": 1,
     "metadata": {},
     "output_type": "execute_result"
    }
   ],
   "source": [
    "T.degree()"
   ]
  },
  {
   "cell_type": "code",
   "execution_count": null,
   "id": "e5d00115",
   "metadata": {},
   "outputs": [
    {
     "data": {
      "text/plain": [
       "11"
      ]
     },
     "execution_count": 1,
     "metadata": {},
     "output_type": "execute_result"
    }
   ],
   "source": [
    "T.level()"
   ]
  },
  {
   "cell_type": "code",
   "execution_count": null,
   "id": "42df58b2",
   "metadata": {},
   "outputs": [
    {
     "data": {
      "text/plain": [
       "Congruence Subgroup Gamma0(11)"
      ]
     },
     "execution_count": 1,
     "metadata": {},
     "output_type": "execute_result"
    }
   ],
   "source": [
    "T.group()"
   ]
  },
  {
   "cell_type": "code",
   "execution_count": null,
   "id": "ae4dd9a4",
   "metadata": {},
   "outputs": [
    {
     "data": {
      "text/plain": [
       "2"
      ]
     },
     "execution_count": 1,
     "metadata": {},
     "output_type": "execute_result"
    }
   ],
   "source": [
    "T.dimension()"
   ]
  },
  {
   "cell_type": "code",
   "execution_count": null,
   "id": "e430a346",
   "metadata": {},
   "outputs": [
    {
     "data": {
      "text/plain": [
       "Cuspidal subspace of dimension 1 of Modular Forms space of dimension 2 for\n",
       "Congruence Subgroup Gamma0(11) of weight 2 over Rational Field"
      ]
     },
     "execution_count": 1,
     "metadata": {},
     "output_type": "execute_result"
    }
   ],
   "source": [
    "T.cuspidal_subspace()"
   ]
  },
  {
   "cell_type": "code",
   "execution_count": null,
   "id": "d687d978",
   "metadata": {},
   "outputs": [
    {
     "data": {
      "text/plain": [
       "Eisenstein subspace of dimension 1 of Modular Forms space of dimension 2\n",
       "for Congruence Subgroup Gamma0(11) of weight 2 over Rational Field"
      ]
     },
     "execution_count": 1,
     "metadata": {},
     "output_type": "execute_result"
    }
   ],
   "source": [
    "T.eisenstein_subspace()"
   ]
  },
  {
   "cell_type": "code",
   "execution_count": null,
   "id": "30fdc6ca",
   "metadata": {},
   "outputs": [
    {
     "data": {
      "text/plain": [
       "Modular Symbols space of dimension 3 for Gamma_0(11) of weight 2 with sign\n",
       "0 over Rational Field"
      ]
     },
     "execution_count": 1,
     "metadata": {},
     "output_type": "execute_result"
    }
   ],
   "source": [
    "M = ModularSymbols(11); M"
   ]
  },
  {
   "cell_type": "code",
   "execution_count": null,
   "id": "c15419b1",
   "metadata": {},
   "outputs": [
    {
     "data": {
      "text/plain": [
       "2"
      ]
     },
     "execution_count": 1,
     "metadata": {},
     "output_type": "execute_result"
    }
   ],
   "source": [
    "M.weight()"
   ]
  },
  {
   "cell_type": "code",
   "execution_count": null,
   "id": "7bcbfe7e",
   "metadata": {},
   "outputs": [
    {
     "data": {
      "text/plain": [
       "((1,0), (1,8), (1,9))"
      ]
     },
     "execution_count": 1,
     "metadata": {},
     "output_type": "execute_result"
    }
   ],
   "source": [
    "M.basis()"
   ]
  },
  {
   "cell_type": "code",
   "execution_count": null,
   "id": "2a4dd840",
   "metadata": {},
   "outputs": [
    {
     "data": {
      "text/plain": [
       "0"
      ]
     },
     "execution_count": 1,
     "metadata": {},
     "output_type": "execute_result"
    }
   ],
   "source": [
    "M.sign()"
   ]
  },
  {
   "cell_type": "markdown",
   "id": "ed74718b",
   "metadata": {},
   "source": [
    "Let $T_p$ denote the usual Hecke operators ($p$ prime). How do the Hecke\n",
    "operators $T_2$, $T_3$, $T_5$ act on the space of modular symbols?"
   ]
  },
  {
   "cell_type": "code",
   "execution_count": null,
   "id": "9b3d70a1",
   "metadata": {},
   "outputs": [
    {
     "data": {
      "text/plain": [
       "[ 3  0 -1]\n",
       "[ 0 -2  0]\n",
       "[ 0  0 -2]"
      ]
     },
     "execution_count": 1,
     "metadata": {},
     "output_type": "execute_result"
    }
   ],
   "source": [
    "M.T(2).matrix()"
   ]
  },
  {
   "cell_type": "code",
   "execution_count": null,
   "id": "4d30eb4f",
   "metadata": {},
   "outputs": [
    {
     "data": {
      "text/plain": [
       "[ 4  0 -1]\n",
       "[ 0 -1  0]\n",
       "[ 0  0 -1]"
      ]
     },
     "execution_count": 1,
     "metadata": {},
     "output_type": "execute_result"
    }
   ],
   "source": [
    "M.T(3).matrix()"
   ]
  },
  {
   "cell_type": "code",
   "execution_count": null,
   "id": "4af386b9",
   "metadata": {},
   "outputs": [
    {
     "data": {
      "text/plain": [
       "[ 6  0 -1]\n",
       "[ 0  1  0]\n",
       "[ 0  0  1]"
      ]
     },
     "execution_count": 1,
     "metadata": {},
     "output_type": "execute_result"
    }
   ],
   "source": [
    "M.T(5).matrix()"
   ]
  }
 ],
 "metadata": {},
 "nbformat": 4,
 "nbformat_minor": 5
}
