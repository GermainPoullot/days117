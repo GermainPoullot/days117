{
 "cells": [
  {
   "cell_type": "markdown",
   "id": "75ef0dd1",
   "metadata": {},
   "source": [
    "$$\n",
    "\\def\\CC{\\bf C}\n",
    "\\def\\QQ{\\bf Q}\n",
    "\\def\\RR{\\bf R}\n",
    "\\def\\ZZ{\\bf Z}\n",
    "\\def\\NN{\\bf N}\n",
    "$$\n",
    "# Getting Help\n",
    "\n",
    "Sage has extensive built-in documentation, accessible by typing the name\n",
    "of a function or a constant (for example), followed by a question mark:"
   ]
  },
  {
   "cell_type": "code",
   "execution_count": null,
   "id": "1dc50a2a",
   "metadata": {},
   "outputs": [
    {
     "data": {
      "text/plain": [
       "Type:        <class 'sage.calculus.calculus.Function_tan'>\n",
       "Definition:  tan( [noargspec] )\n",
       "Docstring:\n",
       "\n",
       "    The tangent function\n",
       "\n",
       "    EXAMPLES:\n",
       "        sage: tan(pi)\n",
       "        0\n",
       "        sage: tan(3.1415)\n",
       "        -0.0000926535900581913\n",
       "        sage: tan(3.1415/4)\n",
       "        0.999953674278156\n",
       "        sage: tan(pi/4)\n",
       "        1\n",
       "        sage: tan(1/2)\n",
       "        tan(1/2)\n",
       "        sage: RR(tan(1/2))\n",
       "        0.546302489843790"
      ]
     },
     "execution_count": 1,
     "metadata": {},
     "output_type": "execute_result"
    }
   ],
   "source": [
    "tan?"
   ]
  },
  {
   "cell_type": "code",
   "execution_count": null,
   "id": "9a412864",
   "metadata": {},
   "outputs": [
    {
     "data": {
      "text/plain": [
       "Type:        <class 'sage.functions.constants.Log2'>\n",
       "Definition:  log2( [noargspec] )\n",
       "Docstring:\n",
       "\n",
       "    The natural logarithm of the real number 2.\n",
       "\n",
       "    EXAMPLES:\n",
       "        sage: log2\n",
       "        log2\n",
       "        sage: float(log2)\n",
       "        0.69314718055994529\n",
       "        sage: RR(log2)\n",
       "        0.693147180559945\n",
       "        sage: R = RealField(200); R\n",
       "        Real Field with 200 bits of precision\n",
       "        sage: R(log2)\n",
       "        0.69314718055994530941723212145817656807550013436025525412068\n",
       "        sage: l = (1-log2)/(1+log2); l\n",
       "        (1 - log(2))/(log(2) + 1)\n",
       "        sage: R(l)\n",
       "        0.18123221829928249948761381864650311423330609774776013488056\n",
       "        sage: maxima(log2)\n",
       "        log(2)\n",
       "        sage: maxima(log2).float()\n",
       "        .6931471805599453\n",
       "        sage: gp(log2)\n",
       "        0.6931471805599453094172321215             # 32-bit\n",
       "        0.69314718055994530941723212145817656807   # 64-bit"
      ]
     },
     "execution_count": 1,
     "metadata": {},
     "output_type": "execute_result"
    }
   ],
   "source": [
    "log2?"
   ]
  },
  {
   "cell_type": "code",
   "execution_count": null,
   "id": "407ad018",
   "metadata": {},
   "outputs": [
    {
     "data": {
      "text/plain": [
       "File:        sage/local/lib/python2.5/site-packages/sage/games/sudoku.py\n",
       "Type:        <... 'function'>\n",
       "Definition:  sudoku(A)\n",
       "Docstring:\n",
       "\n",
       "    Solve the 9x9 Sudoku puzzle defined by the matrix A.\n",
       "\n",
       "    EXAMPLE:\n",
       "        sage: A = matrix(ZZ,9,[5,0,0, 0,8,0, 0,4,9, 0,0,0, 5,0,0,\n",
       "    0,3,0, 0,6,7, 3,0,0, 0,0,1, 1,5,0, 0,0,0, 0,0,0, 0,0,0, 2,0,8, 0,0,0,\n",
       "    0,0,0, 0,0,0, 0,1,8, 7,0,0, 0,0,4, 1,5,0,   0,3,0, 0,0,2,\n",
       "    0,0,0, 4,9,0, 0,5,0, 0,0,3])\n",
       "        sage: A\n",
       "        [5 0 0 0 8 0 0 4 9]\n",
       "        [0 0 0 5 0 0 0 3 0]\n",
       "        [0 6 7 3 0 0 0 0 1]\n",
       "        [1 5 0 0 0 0 0 0 0]\n",
       "        [0 0 0 2 0 8 0 0 0]\n",
       "        [0 0 0 0 0 0 0 1 8]\n",
       "        [7 0 0 0 0 4 1 5 0]\n",
       "        [0 3 0 0 0 2 0 0 0]\n",
       "        [4 9 0 0 5 0 0 0 3]\n",
       "        sage: sudoku(A)\n",
       "        [5 1 3 6 8 7 2 4 9]\n",
       "        [8 4 9 5 2 1 6 3 7]\n",
       "        [2 6 7 3 4 9 5 8 1]\n",
       "        [1 5 8 4 6 3 9 7 2]\n",
       "        [9 7 4 2 1 8 3 6 5]\n",
       "        [3 2 6 7 9 5 4 1 8]\n",
       "        [7 8 2 9 3 4 1 5 6]\n",
       "        [6 3 5 1 7 2 8 9 4]\n",
       "        [4 9 1 8 5 6 7 2 3]"
      ]
     },
     "execution_count": 1,
     "metadata": {},
     "output_type": "execute_result"
    }
   ],
   "source": [
    "sudoku?"
   ]
  },
  {
   "cell_type": "markdown",
   "id": "0d83f6d7",
   "metadata": {},
   "source": [
    "Sage also provides 'Tab completion': type the first few letters of a\n",
    "function and then hit the `Tab` key. For example, if you type `ta`\n",
    "followed by `Tab`, Sage will print `tachyon, tan, tanh, taylor`. This\n",
    "provides a good way to find the names of functions and other structures\n",
    "in Sage.\n",
    "\n",
    "# Functions, Indentation, and Counting\n",
    "\n",
    "To define a new function in Sage, use the `def` command and a colon\n",
    "after the list of variable names. For example:"
   ]
  },
  {
   "cell_type": "code",
   "execution_count": null,
   "id": "16a39cbd",
   "metadata": {},
   "outputs": [
    {
     "data": {
      "text/plain": [
       "True"
      ]
     },
     "execution_count": 1,
     "metadata": {},
     "output_type": "execute_result"
    }
   ],
   "source": [
    "def is_even(n):\n",
    "    return n%2 == 0\n",
    "is_even(2)"
   ]
  },
  {
   "cell_type": "code",
   "execution_count": null,
   "id": "b118b039",
   "metadata": {},
   "outputs": [
    {
     "data": {
      "text/plain": [
       "False"
      ]
     },
     "execution_count": 1,
     "metadata": {},
     "output_type": "execute_result"
    }
   ],
   "source": [
    "is_even(3)"
   ]
  },
  {
   "cell_type": "markdown",
   "id": "fc24c8a1",
   "metadata": {},
   "source": [
    "Note: Depending on which version of the tutorial you are viewing, you\n",
    "may see three dots `....:` on the second line of this example. Do not\n",
    "type them; they are just to emphasize that the code is indented.\n",
    "Whenever this is the case, press \\[Return/Enter\\] once at the end of the\n",
    "block to insert a blank line and conclude the function definition.\n",
    "\n",
    "You do not specify the types of any of the input arguments. You can\n",
    "specify multiple inputs, each of which may have an optional default\n",
    "value. For example, the function below defaults to `divisor=2` if\n",
    "`divisor` is not specified."
   ]
  },
  {
   "cell_type": "code",
   "execution_count": null,
   "id": "b96294b3",
   "metadata": {},
   "outputs": [
    {
     "data": {
      "text/plain": [
       "True"
      ]
     },
     "execution_count": 1,
     "metadata": {},
     "output_type": "execute_result"
    }
   ],
   "source": [
    "def is_divisible_by(number, divisor=2):\n",
    "    return number%divisor == 0\n",
    "is_divisible_by(6,2)"
   ]
  },
  {
   "cell_type": "code",
   "execution_count": null,
   "id": "5717fa7b",
   "metadata": {},
   "outputs": [
    {
     "data": {
      "text/plain": [
       "True"
      ]
     },
     "execution_count": 1,
     "metadata": {},
     "output_type": "execute_result"
    }
   ],
   "source": [
    "is_divisible_by(6)"
   ]
  },
  {
   "cell_type": "code",
   "execution_count": null,
   "id": "1d4c063a",
   "metadata": {},
   "outputs": [
    {
     "data": {
      "text/plain": [
       "False"
      ]
     },
     "execution_count": 1,
     "metadata": {},
     "output_type": "execute_result"
    }
   ],
   "source": [
    "is_divisible_by(6, 5)"
   ]
  },
  {
   "cell_type": "markdown",
   "id": "9ca00adb",
   "metadata": {},
   "source": [
    "You can also explicitly specify one or either of the inputs when calling\n",
    "the function; if you specify the inputs explicitly, you can give them in\n",
    "any order:"
   ]
  },
  {
   "cell_type": "code",
   "execution_count": null,
   "id": "983592cf",
   "metadata": {},
   "outputs": [
    {
     "data": {
      "text/plain": [
       "False"
      ]
     },
     "execution_count": 1,
     "metadata": {},
     "output_type": "execute_result"
    }
   ],
   "source": [
    "is_divisible_by(6, divisor=5)"
   ]
  },
  {
   "cell_type": "code",
   "execution_count": null,
   "id": "4890c4ab",
   "metadata": {},
   "outputs": [
    {
     "data": {
      "text/plain": [
       "True"
      ]
     },
     "execution_count": 1,
     "metadata": {},
     "output_type": "execute_result"
    }
   ],
   "source": [
    "is_divisible_by(divisor=2, number=6)"
   ]
  },
  {
   "cell_type": "markdown",
   "id": "5121edb0",
   "metadata": {},
   "source": [
    "In Python, blocks of code are not indicated by curly braces or begin and\n",
    "end blocks as in many other languages. Instead, blocks of code are\n",
    "indicated by indentation, which must match up exactly. For example, the\n",
    "following is a syntax error because the `return` statement is not\n",
    "indented the same amount as the other lines above it."
   ]
  },
  {
   "cell_type": "code",
   "execution_count": null,
   "id": "fc643560",
   "metadata": {},
   "outputs": [
    {
     "data": {
      "text/plain": [
       "Syntax Error:\n",
       "       return v"
      ]
     },
     "execution_count": 1,
     "metadata": {},
     "output_type": "execute_result"
    }
   ],
   "source": [
    "def even(n):\n",
    "    v = []\n",
    "    for i in range(3,n):\n",
    "        if i % 2 == 0:\n",
    "            v.append(i)\n",
    "   return v"
   ]
  },
  {
   "cell_type": "markdown",
   "id": "980e9203",
   "metadata": {},
   "source": [
    "If you fix the indentation, the function works:"
   ]
  },
  {
   "cell_type": "code",
   "execution_count": null,
   "id": "106b0907",
   "metadata": {},
   "outputs": [
    {
     "data": {
      "text/plain": [
       "[4, 6, 8]"
      ]
     },
     "execution_count": 1,
     "metadata": {},
     "output_type": "execute_result"
    }
   ],
   "source": [
    "def even(n):\n",
    "    v = []\n",
    "    for i in range(3,n):\n",
    "        if i % 2 == 0:\n",
    "            v.append(i)\n",
    "    return v\n",
    "even(10)"
   ]
  },
  {
   "cell_type": "markdown",
   "id": "6caa48e6",
   "metadata": {},
   "source": [
    "Semicolons are not needed at the ends of lines; a line is in most cases\n",
    "ended by a newline. However, you can put multiple statements on one\n",
    "line, separated by semicolons:"
   ]
  },
  {
   "cell_type": "code",
   "execution_count": null,
   "id": "6a7807bb",
   "metadata": {},
   "outputs": [
    {
     "data": {
      "text/plain": [
       "64"
      ]
     },
     "execution_count": 1,
     "metadata": {},
     "output_type": "execute_result"
    }
   ],
   "source": [
    "a = 5; b = a + 3; c = b^2; c"
   ]
  },
  {
   "cell_type": "markdown",
   "id": "0e91be8b",
   "metadata": {},
   "source": [
    "If you would like a single line of code to span multiple lines, use a\n",
    "terminating backslash:"
   ]
  },
  {
   "cell_type": "code",
   "execution_count": null,
   "id": "be4e4531",
   "metadata": {},
   "outputs": [
    {
     "data": {
      "text/plain": [
       "5"
      ]
     },
     "execution_count": 1,
     "metadata": {},
     "output_type": "execute_result"
    }
   ],
   "source": [
    "2 + \\\n",
    "   3"
   ]
  },
  {
   "cell_type": "markdown",
   "id": "9c694196",
   "metadata": {},
   "source": [
    "In Sage, you count by iterating over a range of integers. For example,\n",
    "the first line below is exactly like `for(i=0; i<3; i++)` in C++ or\n",
    "Java:"
   ]
  },
  {
   "cell_type": "code",
   "execution_count": null,
   "id": "03101f0d",
   "metadata": {},
   "outputs": [
    {
     "data": {
      "text/plain": [
       "0\n",
       "1\n",
       "2"
      ]
     },
     "execution_count": 1,
     "metadata": {},
     "output_type": "execute_result"
    }
   ],
   "source": [
    "for i in range(3):\n",
    "    print(i)"
   ]
  },
  {
   "cell_type": "markdown",
   "id": "27ba0d6a",
   "metadata": {},
   "source": [
    "The first line below is like `for(i=2;i<5;i++)`."
   ]
  },
  {
   "cell_type": "code",
   "execution_count": null,
   "id": "487a3d0d",
   "metadata": {},
   "outputs": [
    {
     "data": {
      "text/plain": [
       "2\n",
       "3\n",
       "4"
      ]
     },
     "execution_count": 1,
     "metadata": {},
     "output_type": "execute_result"
    }
   ],
   "source": [
    "for i in range(2,5):\n",
    "    print(i)"
   ]
  },
  {
   "cell_type": "markdown",
   "id": "3f63cafe",
   "metadata": {},
   "source": [
    "The third argument controls the step, so the following is like\n",
    "`for(i=1;i<6;i+=2)`."
   ]
  },
  {
   "cell_type": "code",
   "execution_count": null,
   "id": "97bef5de",
   "metadata": {},
   "outputs": [
    {
     "data": {
      "text/plain": [
       "1\n",
       "3\n",
       "5"
      ]
     },
     "execution_count": 1,
     "metadata": {},
     "output_type": "execute_result"
    }
   ],
   "source": [
    "for i in range(1,6,2):\n",
    "    print(i)"
   ]
  },
  {
   "cell_type": "markdown",
   "id": "24f80f98",
   "metadata": {},
   "source": [
    "Often you will want to create a nice table to display numbers you have\n",
    "computed using Sage. One easy way to do this is to use string\n",
    "formatting. Below, we create three columns each of width exactly 6 and\n",
    "make a table of squares and cubes."
   ]
  },
  {
   "cell_type": "code",
   "execution_count": null,
   "id": "1b4a3d45",
   "metadata": {},
   "outputs": [
    {
     "data": {
      "text/plain": [
       "     0      0      0\n",
       "     1      1      1\n",
       "     2      4      8\n",
       "     3      9     27\n",
       "     4     16     64"
      ]
     },
     "execution_count": 1,
     "metadata": {},
     "output_type": "execute_result"
    }
   ],
   "source": [
    "for i in range(5):\n",
    "    print('%6s %6s %6s' % (i, i^2, i^3))"
   ]
  },
  {
   "cell_type": "markdown",
   "id": "491f378c",
   "metadata": {},
   "source": [
    "The most basic data structure in Sage is the list, which is -- as the\n",
    "name suggests -- just a list of arbitrary objects. For example, using\n",
    "`range`, the following command creates a list:"
   ]
  },
  {
   "cell_type": "code",
   "execution_count": null,
   "id": "a00ca51e",
   "metadata": {},
   "outputs": [
    {
     "data": {
      "text/plain": [
       "[2, 3, 4, 5, 6, 7, 8, 9]"
      ]
     },
     "execution_count": 1,
     "metadata": {},
     "output_type": "execute_result"
    }
   ],
   "source": [
    "list(range(2,10))"
   ]
  },
  {
   "cell_type": "markdown",
   "id": "33ffe042",
   "metadata": {},
   "source": [
    "Here is a more complicated list:"
   ]
  },
  {
   "cell_type": "code",
   "execution_count": null,
   "id": "4590131d",
   "metadata": {},
   "outputs": [
    {
     "data": {
      "text/plain": [
       "[1, 'hello', 2/3, sin(x^3)]"
      ]
     },
     "execution_count": 1,
     "metadata": {},
     "output_type": "execute_result"
    }
   ],
   "source": [
    "v = [1, \"hello\", 2/3, sin(x^3)]\n",
    "v"
   ]
  },
  {
   "cell_type": "markdown",
   "id": "f979e423",
   "metadata": {},
   "source": [
    "List indexing is 0-based, as in many programming languages."
   ]
  },
  {
   "cell_type": "code",
   "execution_count": null,
   "id": "98339e24",
   "metadata": {},
   "outputs": [
    {
     "data": {
      "text/plain": [
       "1"
      ]
     },
     "execution_count": 1,
     "metadata": {},
     "output_type": "execute_result"
    }
   ],
   "source": [
    "v[0]"
   ]
  },
  {
   "cell_type": "code",
   "execution_count": null,
   "id": "6cde0a9c",
   "metadata": {},
   "outputs": [
    {
     "data": {
      "text/plain": [
       "sin(x^3)"
      ]
     },
     "execution_count": 1,
     "metadata": {},
     "output_type": "execute_result"
    }
   ],
   "source": [
    "v[3]"
   ]
  },
  {
   "cell_type": "markdown",
   "id": "fa7dd51c",
   "metadata": {},
   "source": [
    "Use `len(v)` to get the length of `v`, use `v.append(obj)` to append a\n",
    "new object to the end of `v`, and use `del v[i]` to delete the $i^{th}$\n",
    "entry of `v` :"
   ]
  },
  {
   "cell_type": "code",
   "execution_count": null,
   "id": "4f214322",
   "metadata": {},
   "outputs": [
    {
     "data": {
      "text/plain": [
       "4"
      ]
     },
     "execution_count": 1,
     "metadata": {},
     "output_type": "execute_result"
    }
   ],
   "source": [
    "len(v)"
   ]
  },
  {
   "cell_type": "code",
   "execution_count": null,
   "id": "e42533cb",
   "metadata": {},
   "outputs": [
    {
     "data": {
      "text/plain": [
       "[1, 'hello', 2/3, sin(x^3), 1.50000000000000]"
      ]
     },
     "execution_count": 1,
     "metadata": {},
     "output_type": "execute_result"
    }
   ],
   "source": [
    "v.append(1.5)\n",
    "v"
   ]
  },
  {
   "cell_type": "code",
   "execution_count": null,
   "id": "cc1ace37",
   "metadata": {},
   "outputs": [
    {
     "data": {
      "text/plain": [
       "[1, 2/3, sin(x^3), 1.50000000000000]"
      ]
     },
     "execution_count": 1,
     "metadata": {},
     "output_type": "execute_result"
    }
   ],
   "source": [
    "del v[1]\n",
    "v"
   ]
  },
  {
   "cell_type": "markdown",
   "id": "5deb9c38",
   "metadata": {},
   "source": [
    "Another important data structure is the dictionary (or associative\n",
    "array). This works like a list, except that it can be indexed with\n",
    "almost any object (the indices must be immutable):"
   ]
  },
  {
   "cell_type": "code",
   "execution_count": null,
   "id": "a2e97055",
   "metadata": {},
   "outputs": [
    {
     "data": {
      "text/plain": [
       "-2"
      ]
     },
     "execution_count": 1,
     "metadata": {},
     "output_type": "execute_result"
    }
   ],
   "source": [
    "d = {'hi':-2,  3/8:pi,   e:pi}\n",
    "d['hi']"
   ]
  },
  {
   "cell_type": "code",
   "execution_count": null,
   "id": "acdf56b0",
   "metadata": {},
   "outputs": [
    {
     "data": {
      "text/plain": [
       "pi"
      ]
     },
     "execution_count": 1,
     "metadata": {},
     "output_type": "execute_result"
    }
   ],
   "source": [
    "d[e]"
   ]
  },
  {
   "cell_type": "markdown",
   "id": "02dacfc1",
   "metadata": {},
   "source": [
    "You can also define new data types using classes. Encapsulating\n",
    "mathematical objects with classes is a powerful technique that can help\n",
    "to simplify and organize your Sage programs. Below, we define a class\n",
    "that represents the list of even positive integers up to *n*; it derives\n",
    "from the builtin type `list`."
   ]
  },
  {
   "cell_type": "code",
   "execution_count": null,
   "id": "309fa672",
   "metadata": {},
   "outputs": [],
   "source": [
    "class Evens(list):\n",
    "    def __init__(self, n):\n",
    "        self.n = n\n",
    "        list.__init__(self, range(2, n+1, 2))\n",
    "    def __repr__(self):\n",
    "        return \"Even positive numbers up to n.\""
   ]
  },
  {
   "cell_type": "markdown",
   "id": "88d0506d",
   "metadata": {},
   "source": [
    "The `__init__` method is called to initialize the object when it is\n",
    "created; the `__repr__` method prints the object out. We call the list\n",
    "constructor method in the second line of the `__init__` method. We\n",
    "create an object of class `Evens` as follows:"
   ]
  },
  {
   "cell_type": "code",
   "execution_count": null,
   "id": "37f3df1b",
   "metadata": {},
   "outputs": [
    {
     "data": {
      "text/plain": [
       "Even positive numbers up to n."
      ]
     },
     "execution_count": 1,
     "metadata": {},
     "output_type": "execute_result"
    }
   ],
   "source": [
    "e = Evens(10)\n",
    "e"
   ]
  },
  {
   "cell_type": "markdown",
   "id": "3791fd71",
   "metadata": {},
   "source": [
    "Note that `e` prints using the `__repr__` method that we defined. To see\n",
    "the underlying list of numbers, use the `list` function:"
   ]
  },
  {
   "cell_type": "code",
   "execution_count": null,
   "id": "51d63beb",
   "metadata": {},
   "outputs": [
    {
     "data": {
      "text/plain": [
       "[2, 4, 6, 8, 10]"
      ]
     },
     "execution_count": 1,
     "metadata": {},
     "output_type": "execute_result"
    }
   ],
   "source": [
    "list(e)"
   ]
  },
  {
   "cell_type": "markdown",
   "id": "0d3b7340",
   "metadata": {},
   "source": [
    "We can also access the `n` attribute or treat `e` like a list."
   ]
  },
  {
   "cell_type": "code",
   "execution_count": null,
   "id": "b36f5af1",
   "metadata": {},
   "outputs": [
    {
     "data": {
      "text/plain": [
       "10"
      ]
     },
     "execution_count": 1,
     "metadata": {},
     "output_type": "execute_result"
    }
   ],
   "source": [
    "e.n"
   ]
  },
  {
   "cell_type": "code",
   "execution_count": null,
   "id": "59f02686",
   "metadata": {},
   "outputs": [
    {
     "data": {
      "text/plain": [
       "6"
      ]
     },
     "execution_count": 1,
     "metadata": {},
     "output_type": "execute_result"
    }
   ],
   "source": [
    "e[2]"
   ]
  }
 ],
 "metadata": {},
 "nbformat": 4,
 "nbformat_minor": 5
}
