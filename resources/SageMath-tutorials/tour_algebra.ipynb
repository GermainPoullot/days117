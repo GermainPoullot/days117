{
 "cells": [
  {
   "cell_type": "markdown",
   "id": "dd509caa",
   "metadata": {},
   "source": [
    "$$\n",
    "\\def\\CC{\\bf C}\n",
    "\\def\\QQ{\\bf Q}\n",
    "\\def\\RR{\\bf R}\n",
    "\\def\\ZZ{\\bf Z}\n",
    "\\def\\NN{\\bf N}\n",
    "$$\n",
    "# Basic Algebra and Calculus\n",
    "\n",
    "Sage can perform various computations related to basic algebra and\n",
    "calculus: for example, finding solutions to equations, differentiation,\n",
    "integration, and Laplace transforms. See the [Sage\n",
    "Constructions](http://doc.sagemath.org/html/en/constructions/)\n",
    "documentation for more examples.\n",
    "\n",
    "In all these examples, it is important to note that the variables in the\n",
    "functions are defined to be `var(...)`. As an example:"
   ]
  },
  {
   "cell_type": "code",
   "execution_count": null,
   "id": "1617e84c",
   "metadata": {},
   "outputs": [
    {
     "data": {
      "text/plain": [
       "cos(u)"
      ]
     },
     "execution_count": 1,
     "metadata": {},
     "output_type": "execute_result"
    }
   ],
   "source": [
    "u = var('u')\n",
    "diff(sin(u), u)"
   ]
  },
  {
   "cell_type": "markdown",
   "id": "d0bdd815",
   "metadata": {},
   "source": [
    "If you get a `NameError`, check to see if you misspelled something, or\n",
    "forgot to define a variable with `var(...)`.\n",
    "\n",
    "## Solving Equations\n",
    "\n",
    "### Solving Equations Exactly\n",
    "\n",
    "The `solve` function solves equations. To use it, first specify some\n",
    "variables; then the arguments to `solve` are an equation (or a system of\n",
    "equations), together with the variables for which to solve:"
   ]
  },
  {
   "cell_type": "code",
   "execution_count": null,
   "id": "80f8c471",
   "metadata": {},
   "outputs": [
    {
     "data": {
      "text/plain": [
       "[x == -2, x == -1]"
      ]
     },
     "execution_count": 1,
     "metadata": {},
     "output_type": "execute_result"
    }
   ],
   "source": [
    "x = var('x')\n",
    "solve(x^2 + 3*x + 2, x)"
   ]
  },
  {
   "cell_type": "markdown",
   "id": "b42cd8bb",
   "metadata": {},
   "source": [
    "You can solve equations for one variable in terms of others:"
   ]
  },
  {
   "cell_type": "code",
   "execution_count": null,
   "id": "15d3c43c",
   "metadata": {},
   "outputs": [
    {
     "data": {
      "text/plain": [
       "[x == -1/2*b - 1/2*sqrt(b^2 - 4*c), x == -1/2*b + 1/2*sqrt(b^2 - 4*c)]"
      ]
     },
     "execution_count": 1,
     "metadata": {},
     "output_type": "execute_result"
    }
   ],
   "source": [
    "x, b, c = var('x b c')\n",
    "solve([x^2 + b*x + c == 0],x)"
   ]
  },
  {
   "cell_type": "markdown",
   "id": "12a8b1d1",
   "metadata": {},
   "source": [
    "You can also solve for several variables:"
   ]
  },
  {
   "cell_type": "code",
   "execution_count": null,
   "id": "12399247",
   "metadata": {},
   "outputs": [
    {
     "data": {
      "text/plain": [
       "[[x == 5, y == 1]]"
      ]
     },
     "execution_count": 1,
     "metadata": {},
     "output_type": "execute_result"
    }
   ],
   "source": [
    "x, y = var('x, y')\n",
    "solve([x+y==6, x-y==4], x, y)"
   ]
  },
  {
   "cell_type": "markdown",
   "id": "4686b68c",
   "metadata": {},
   "source": [
    "The following example of using Sage to solve a system of non-linear\n",
    "equations was provided by Jason Grout: first, we solve the system\n",
    "symbolically:"
   ]
  },
  {
   "cell_type": "code",
   "execution_count": null,
   "id": "f691c8a3",
   "metadata": {},
   "outputs": [
    {
     "data": {
      "text/plain": [
       "(x, y, p, q)"
      ]
     },
     "execution_count": 1,
     "metadata": {},
     "output_type": "execute_result"
    }
   ],
   "source": [
    "var('x y p q')"
   ]
  },
  {
   "cell_type": "code",
   "execution_count": null,
   "id": "a891cdc4",
   "metadata": {},
   "outputs": [
    {
     "data": {
      "text/plain": [
       "[[p == 1, q == 8, x == -4/3*sqrt(10) - 2/3, y == 1/6*sqrt(10) - 2/3], [p == 1, q == 8, x == 4/3*sqrt(10) - 2/3, y == -1/6*sqrt(10) - 2/3]]"
      ]
     },
     "execution_count": 1,
     "metadata": {},
     "output_type": "execute_result"
    }
   ],
   "source": [
    "eq1 = p+q==9\n",
    "eq2 = q*y+p*x==-6\n",
    "eq3 = q*y^2+p*x^2==24\n",
    "solve([eq1,eq2,eq3,p==1],p,q,x,y)"
   ]
  },
  {
   "cell_type": "markdown",
   "id": "b3f69b91",
   "metadata": {},
   "source": [
    "For numerical approximations of the solutions, you can instead use:"
   ]
  },
  {
   "cell_type": "code",
   "execution_count": null,
   "id": "f1979f99",
   "metadata": {},
   "outputs": [
    {
     "data": {
      "text/plain": [
       "[[1.0000000, 8.0000000, -4.8830369, -0.13962039],\n",
       " [1.0000000, 8.0000000, 3.5497035, -1.1937129]]"
      ]
     },
     "execution_count": 1,
     "metadata": {},
     "output_type": "execute_result"
    }
   ],
   "source": [
    "solns = solve([eq1,eq2,eq3,p==1],p,q,x,y, solution_dict=True)\n",
    "[[s[p].n(30), s[q].n(30), s[x].n(30), s[y].n(30)] for s in solns]"
   ]
  },
  {
   "cell_type": "markdown",
   "id": "584498b5",
   "metadata": {},
   "source": [
    "(The function `n` prints a numerical approximation, and the argument is\n",
    "the number of bits of precision.)\n",
    "\n",
    "### Solving Equations Numerically\n",
    "\n",
    "Often times, `solve` will not be able to find an exact solution to the\n",
    "equation or equations specified. When it fails, you can use `find_root`\n",
    "to find a numerical solution. For example, solve does not return\n",
    "anything interesting for the following equation:"
   ]
  },
  {
   "cell_type": "code",
   "execution_count": null,
   "id": "e745ef28",
   "metadata": {},
   "outputs": [
    {
     "data": {
      "text/plain": [
       "[sin(theta) == cos(theta)]"
      ]
     },
     "execution_count": 1,
     "metadata": {},
     "output_type": "execute_result"
    }
   ],
   "source": [
    "theta = var('theta')\n",
    "solve(cos(theta)==sin(theta), theta)"
   ]
  },
  {
   "cell_type": "markdown",
   "id": "63d8050b",
   "metadata": {},
   "source": [
    "On the other hand, we can use `find_root` to find a solution to the\n",
    "above equation in the range $0 < \\phi < \\pi/2$ :"
   ]
  },
  {
   "cell_type": "code",
   "execution_count": null,
   "id": "e2b65947",
   "metadata": {},
   "outputs": [
    {
     "data": {
      "text/plain": [
       "0.785398163397448..."
      ]
     },
     "execution_count": 1,
     "metadata": {},
     "output_type": "execute_result"
    }
   ],
   "source": [
    "phi = var('phi')\n",
    "find_root(cos(phi)==sin(phi),0,pi/2)"
   ]
  },
  {
   "cell_type": "markdown",
   "id": "d4631c30",
   "metadata": {},
   "source": [
    "## Differentiation, Integration, etc.\n",
    "\n",
    "Sage knows how to differentiate and integrate many functions. For\n",
    "example, to differentiate $\\sin(u)$ with respect to $u$, do the\n",
    "following:"
   ]
  },
  {
   "cell_type": "code",
   "execution_count": null,
   "id": "0eabcbf9",
   "metadata": {},
   "outputs": [
    {
     "data": {
      "text/plain": [
       "cos(u)"
      ]
     },
     "execution_count": 1,
     "metadata": {},
     "output_type": "execute_result"
    }
   ],
   "source": [
    "u = var('u')\n",
    "diff(sin(u), u)"
   ]
  },
  {
   "cell_type": "markdown",
   "id": "43c25cff",
   "metadata": {},
   "source": [
    "To compute the fourth derivative of $\\sin(x^2)$ :"
   ]
  },
  {
   "cell_type": "code",
   "execution_count": null,
   "id": "24da5c00",
   "metadata": {},
   "outputs": [
    {
     "data": {
      "text/plain": [
       "16*x^4*sin(x^2) - 48*x^2*cos(x^2) - 12*sin(x^2)"
      ]
     },
     "execution_count": 1,
     "metadata": {},
     "output_type": "execute_result"
    }
   ],
   "source": [
    "diff(sin(x^2), x, 4)"
   ]
  },
  {
   "cell_type": "markdown",
   "id": "d5a729d9",
   "metadata": {},
   "source": [
    "To compute the partial derivatives of $x^2+17y^2$ with respect to $x$\n",
    "and $y$, respectively:"
   ]
  },
  {
   "cell_type": "code",
   "execution_count": null,
   "id": "fc4af32a",
   "metadata": {},
   "outputs": [
    {
     "data": {
      "text/plain": [
       "2*x"
      ]
     },
     "execution_count": 1,
     "metadata": {},
     "output_type": "execute_result"
    }
   ],
   "source": [
    "x, y = var('x,y')\n",
    "f = x^2 + 17*y^2\n",
    "f.diff(x)"
   ]
  },
  {
   "cell_type": "code",
   "execution_count": null,
   "id": "93f5c8a6",
   "metadata": {},
   "outputs": [
    {
     "data": {
      "text/plain": [
       "34*y"
      ]
     },
     "execution_count": 1,
     "metadata": {},
     "output_type": "execute_result"
    }
   ],
   "source": [
    "f.diff(y)"
   ]
  },
  {
   "cell_type": "markdown",
   "id": "e6132280",
   "metadata": {},
   "source": [
    "We move on to integrals, both indefinite and definite. To compute\n",
    "$\\int x\\sin(x^2)\\, dx$ and $\\int_0^1 \\frac{x}{x^2+1}\\, dx$"
   ]
  },
  {
   "cell_type": "code",
   "execution_count": null,
   "id": "3e7cc4cc",
   "metadata": {},
   "outputs": [
    {
     "data": {
      "text/plain": [
       "-1/2*cos(x^2)"
      ]
     },
     "execution_count": 1,
     "metadata": {},
     "output_type": "execute_result"
    }
   ],
   "source": [
    "integral(x*sin(x^2), x)"
   ]
  },
  {
   "cell_type": "code",
   "execution_count": null,
   "id": "61bc9e4b",
   "metadata": {},
   "outputs": [
    {
     "data": {
      "text/plain": [
       "1/2*log(2)"
      ]
     },
     "execution_count": 1,
     "metadata": {},
     "output_type": "execute_result"
    }
   ],
   "source": [
    "integral(x/(x^2+1), x, 0, 1)"
   ]
  },
  {
   "cell_type": "markdown",
   "id": "820047f9",
   "metadata": {},
   "source": [
    "To compute the partial fraction decomposition of $\\frac{1}{x^2-1}$ :"
   ]
  },
  {
   "cell_type": "code",
   "execution_count": null,
   "id": "21bb66ab",
   "metadata": {},
   "outputs": [
    {
     "data": {
      "text/plain": [
       "-1/2/(x + 1) + 1/2/(x - 1)"
      ]
     },
     "execution_count": 1,
     "metadata": {},
     "output_type": "execute_result"
    }
   ],
   "source": [
    "f = 1/((1+x)*(x-1))\n",
    "f.partial_fraction(x)"
   ]
  },
  {
   "cell_type": "markdown",
   "id": "7535a1d6",
   "metadata": {},
   "source": [
    "## Solving Differential Equations\n",
    "\n",
    "You can use Sage to investigate ordinary differential equations. To\n",
    "solve the equation $x'+x-1=0$ :"
   ]
  },
  {
   "cell_type": "code",
   "execution_count": null,
   "id": "67bd84f2",
   "metadata": {},
   "outputs": [
    {
     "data": {
      "text/plain": [
       "(_C + e^t)*e^(-t)"
      ]
     },
     "execution_count": 1,
     "metadata": {},
     "output_type": "execute_result"
    }
   ],
   "source": [
    "t = var('t')    # define a variable t\n",
    "x = function('x')(t)   # define x to be a function of that variable\n",
    "DE = diff(x, t) + x - 1\n",
    "desolve(DE, [x,t])"
   ]
  },
  {
   "cell_type": "markdown",
   "id": "604075ff",
   "metadata": {},
   "source": [
    "This uses Sage's interface to Maxima [\\[Max\\]](), and so its output may\n",
    "be a bit different from other Sage output. In this case, this says that\n",
    "the general solution to the differential equation is\n",
    "$x(t) = e^{-t}(e^{t}+c)$.\n",
    "\n",
    "You can compute Laplace transforms also; the Laplace transform of\n",
    "$t^2e^t -\\sin(t)$ is computed as follows:"
   ]
  },
  {
   "cell_type": "code",
   "execution_count": null,
   "id": "bf026aa5",
   "metadata": {},
   "outputs": [
    {
     "data": {
      "text/plain": [
       "-1/(s^2 + 1) + 2/(s - 1)^3"
      ]
     },
     "execution_count": 1,
     "metadata": {},
     "output_type": "execute_result"
    }
   ],
   "source": [
    "s = var(\"s\")\n",
    "t = var(\"t\")\n",
    "f = t^2*exp(t) - sin(t)\n",
    "f.laplace(t,s)"
   ]
  },
  {
   "cell_type": "markdown",
   "id": "11922cee",
   "metadata": {},
   "source": [
    "Here is a more involved example. The displacement from equilibrium\n",
    "(respectively) for a coupled spring attached to a wall on the left"
   ]
  },
  {
   "cell_type": "code",
   "execution_count": null,
   "id": "d71f5aca",
   "metadata": {},
   "outputs": [],
   "source": [
    "|------\\/\\/\\/\\/\\---|mass1|----\\/\\/\\/\\/\\/----|mass2|\n",
    "         spring1               spring2"
   ]
  },
  {
   "cell_type": "markdown",
   "id": "2a6643f7",
   "metadata": {},
   "source": [
    "is modeled by the system of 2nd order differential equations\n",
    "\n",
    "$$m_1 x_1'' + (k_1+k_2) x_1 - k_2 x_2 = 0$$$$m_2 x_2''+ k_2 (x_2-x_1) = 0,$$\n",
    "\n",
    "where $m_{i}$ is the mass of object *i*, $x_{i}$ is the displacement\n",
    "from equilibrium of mass *i*, and $k_{i}$ is the spring constant for\n",
    "spring *i*.\n",
    "\n",
    "**Example:** Use Sage to solve the above problem with $m_{1}=2$,\n",
    "$m_{2}=1$, $k_{1}=4$, $k_{2}=2$, $x_{1}(0)=3$, $x_{1}'(0)=0$,\n",
    "$x_{2}(0)=3$, $x_{2}'(0)=0$.\n",
    "\n",
    "Solution: Take the Laplace transform of the first equation (with the\n",
    "notation $x=x_{1}$, $y=x_{2}$):"
   ]
  },
  {
   "cell_type": "code",
   "execution_count": null,
   "id": "8a8953eb",
   "metadata": {},
   "outputs": [
    {
     "data": {
      "text/plain": [
       "2*((-%at('diff(x(t),t,1),t = 0))+s^2*'laplace(x(t),t,s)-x(0)*s) -2*'laplace(y(t),t,s)+6*'laplace(x(t),t,s)"
      ]
     },
     "execution_count": 1,
     "metadata": {},
     "output_type": "execute_result"
    }
   ],
   "source": [
    "de1 = maxima(\"2*diff(x(t),t, 2) + 6*x(t) - 2*y(t)\")\n",
    "lde1 = de1.laplace(\"t\",\"s\"); lde1"
   ]
  },
  {
   "cell_type": "markdown",
   "id": "748966a1",
   "metadata": {},
   "source": [
    "This is hard to read, but it says that\n",
    "\n",
    "$$-2x'(0) + 2s^2 \\cdot X(s) - 2sx(0) - 2Y(s) + 6X(s) = 0$$\n",
    "\n",
    "(where the Laplace transform of a lower case function like $x(t)$ is the\n",
    "upper case function $X(s)$). Take the Laplace transform of the second\n",
    "equation:"
   ]
  },
  {
   "cell_type": "code",
   "execution_count": null,
   "id": "d1479c9d",
   "metadata": {},
   "outputs": [
    {
     "data": {
      "text/plain": [
       "(-%at('diff(y(t),t,1),t = 0))+s^2*'laplace(y(t),t,s) +2*'laplace(y(t),t,s)-2*'laplace(x(t),t,s) -y(0)*s"
      ]
     },
     "execution_count": 1,
     "metadata": {},
     "output_type": "execute_result"
    }
   ],
   "source": [
    "de2 = maxima(\"diff(y(t),t, 2) + 2*y(t) - 2*x(t)\")\n",
    "lde2 = de2.laplace(\"t\",\"s\"); lde2"
   ]
  },
  {
   "cell_type": "markdown",
   "id": "4832014b",
   "metadata": {},
   "source": [
    "This says\n",
    "\n",
    "$$-Y'(0) + s^2Y(s) + 2Y(s) - 2X(s) - sy(0) = 0.$$\n",
    "\n",
    "Plug in the initial conditions for $x(0)$, $x'(0)$, $y(0)$, and $y'(0)$,\n",
    "and solve the resulting two equations:"
   ]
  },
  {
   "cell_type": "code",
   "execution_count": null,
   "id": "cb8752f8",
   "metadata": {},
   "outputs": [
    {
     "data": {
      "text/plain": [
       "(s, X, Y)"
      ]
     },
     "execution_count": 1,
     "metadata": {},
     "output_type": "execute_result"
    }
   ],
   "source": [
    "var('s X Y')"
   ]
  },
  {
   "cell_type": "code",
   "execution_count": null,
   "id": "9b947f51",
   "metadata": {},
   "outputs": [
    {
     "data": {
      "text/plain": [
       "[[X == 3*(s^3 + 3*s)/(s^4 + 5*s^2 + 4),\n",
       "  Y == 3*(s^3 + 5*s)/(s^4 + 5*s^2 + 4)]]"
      ]
     },
     "execution_count": 1,
     "metadata": {},
     "output_type": "execute_result"
    }
   ],
   "source": [
    "eqns = [(2*s^2+6)*X-2*Y == 6*s, -2*X +(s^2+2)*Y == 3*s]\n",
    "solve(eqns, X,Y)"
   ]
  },
  {
   "cell_type": "markdown",
   "id": "e37b0440",
   "metadata": {},
   "source": [
    "Now take inverse Laplace transforms to get the answer:"
   ]
  },
  {
   "cell_type": "code",
   "execution_count": null,
   "id": "40827d7a",
   "metadata": {},
   "outputs": [
    {
     "data": {
      "text/plain": [
       "(s, t)"
      ]
     },
     "execution_count": 1,
     "metadata": {},
     "output_type": "execute_result"
    }
   ],
   "source": [
    "var('s t')"
   ]
  },
  {
   "cell_type": "code",
   "execution_count": null,
   "id": "e443fa40",
   "metadata": {},
   "outputs": [
    {
     "data": {
      "text/plain": [
       "cos(2*t) + 2*cos(t)"
      ]
     },
     "execution_count": 1,
     "metadata": {},
     "output_type": "execute_result"
    }
   ],
   "source": [
    "inverse_laplace((3*s^3 + 9*s)/(s^4 + 5*s^2 + 4),s,t)"
   ]
  },
  {
   "cell_type": "code",
   "execution_count": null,
   "id": "4f96643d",
   "metadata": {},
   "outputs": [
    {
     "data": {
      "text/plain": [
       "-cos(2*t) + 4*cos(t)"
      ]
     },
     "execution_count": 1,
     "metadata": {},
     "output_type": "execute_result"
    }
   ],
   "source": [
    "inverse_laplace((3*s^3 + 15*s)/(s^4 + 5*s^2 + 4),s,t)"
   ]
  },
  {
   "cell_type": "markdown",
   "id": "fe96e8bb",
   "metadata": {},
   "source": [
    "Therefore, the solution is\n",
    "\n",
    "$$x_1(t) = \\cos(2t) + 2\\cos(t), \\quad x_2(t) = 4\\cos(t) - \\cos(2t).$$\n",
    "\n",
    "This can be plotted parametrically using"
   ]
  },
  {
   "cell_type": "code",
   "execution_count": null,
   "id": "7cdbf413",
   "metadata": {},
   "outputs": [],
   "source": [
    "t = var('t')\n",
    "P = parametric_plot((cos(2*t) + 2*cos(t), 4*cos(t) - cos(2*t) ),\n",
    "    (t, 0, 2*pi), rgbcolor=hue(0.9))\n",
    "show(P)"
   ]
  },
  {
   "cell_type": "markdown",
   "id": "94445d33",
   "metadata": {},
   "source": [
    "The individual components can be plotted using"
   ]
  },
  {
   "cell_type": "code",
   "execution_count": null,
   "id": "4cff79db",
   "metadata": {},
   "outputs": [],
   "source": [
    "t = var('t')\n",
    "p1 = plot(cos(2*t) + 2*cos(t), (t,0, 2*pi), rgbcolor=hue(0.3))\n",
    "p2 = plot(4*cos(t) - cos(2*t), (t,0, 2*pi), rgbcolor=hue(0.6))\n",
    "show(p1 + p2)"
   ]
  },
  {
   "cell_type": "markdown",
   "id": "0f451a01",
   "metadata": {},
   "source": [
    "For more on plotting, see [section-plot](section-plot.ipynb). See\n",
    "section 5.5 of [\\[NagleEtAl2004\\]]() for further information on\n",
    "differential equations.\n",
    "\n",
    "## Euler's Method for Systems of Differential Equations\n",
    "\n",
    "In the next example, we will illustrate Euler's method for first and\n",
    "second order ODEs. We first recall the basic idea for first order\n",
    "equations. Given an initial value problem of the form\n",
    "\n",
    "$$y'=f(x,y), \\quad y(a)=c,$$\n",
    "\n",
    "we want to find the approximate value of the solution at $x=b$ with\n",
    "$b>a$.\n",
    "\n",
    "Recall from the definition of the derivative that\n",
    "\n",
    "$$y'(x) \\approx \\frac{y(x+h)-y(x)}{h},$$\n",
    "\n",
    "where $h>0$ is given and small. This and the DE together give\n",
    "$f(x,y(x))\\approx\n",
    "\\frac{y(x+h)-y(x)}{h}$. Now solve for $y(x+h)$ :\n",
    "\n",
    "$$y(x+h) \\approx y(x) + h\\cdot f(x,y(x)).$$\n",
    "\n",
    "If we call $h \\cdot f(x,y(x))$ the \"correction term\" (for lack of\n",
    "anything better), call $y(x)$ the \"old value of $y$\", and call $y(x+h)$\n",
    "the \"new value of $y$\", then this approximation can be re-expressed as\n",
    "\n",
    "$$y_{new} \\approx y_{old} + h\\cdot f(x,y_{old}).$$\n",
    "\n",
    "If we break the interval from $a$ to $b$ into $n$ steps, so that\n",
    "$h=\\frac{b-a}{n}$, then we can record the information for this method in\n",
    "a table.\n",
    "\n",
    "<table>\n",
    "<thead>\n",
    "<tr class=\"header\">\n",
    "<th><span class=\"math inline\"><em>x</em></span></th>\n",
    "<th><span class=\"math inline\"><em>y</em></span></th>\n",
    "<th><span class=\"math inline\"><em>h</em> ⋅ <em>f</em>(<em>x</em>, <em>y</em>)</span></th>\n",
    "</tr>\n",
    "</thead>\n",
    "<tbody>\n",
    "<tr class=\"odd\">\n",
    "<td><span class=\"math inline\"><em>a</em></span></td>\n",
    "<td><span class=\"math inline\"><em>c</em></span></td>\n",
    "<td><span class=\"math inline\"><em>h</em> ⋅ <em>f</em>(<em>a</em>, <em>c</em>)</span></td>\n",
    "</tr>\n",
    "<tr class=\"even\">\n",
    "<td><p><span class=\"math inline\"><em>a</em> + <em>h</em></span> <span class=\"math inline\"><em>a</em> + 2<em>h</em></span> ...</p></td>\n",
    "<td><p><span class=\"math inline\"><em>c</em> + <em>h</em> ⋅ <em>f</em>(<em>a</em>, <em>c</em>)</span> ...</p></td>\n",
    "<td><blockquote>\n",
    "<p>...</p>\n",
    "</blockquote></td>\n",
    "</tr>\n",
    "<tr class=\"odd\">\n",
    "<td><span class=\"math inline\"><em>b</em> = <em>a</em> + <em>n</em><em>h</em></span></td>\n",
    "<td>???</td>\n",
    "<td><blockquote>\n",
    "<p>...</p>\n",
    "</blockquote></td>\n",
    "</tr>\n",
    "</tbody>\n",
    "</table>\n",
    "\n",
    "The goal is to fill out all the blanks of the table, one row at a time,\n",
    "until we reach the ??? entry, which is the Euler's method approximation\n",
    "for $y(b)$.\n",
    "\n",
    "The idea for systems of ODEs is similar.\n",
    "\n",
    "**Example:** Numerically approximate $z(t)$ at $t=1$ using 4 steps of\n",
    "Euler's method, where $z''+tz'+z=0$, $z(0)=1$, $z'(0)=0$.\n",
    "\n",
    "We must reduce the 2nd order ODE down to a system of two first order DEs\n",
    "(using $x=z$, $y=z'$) and apply Euler's method:"
   ]
  },
  {
   "cell_type": "code",
   "execution_count": null,
   "id": "f5a39406",
   "metadata": {},
   "outputs": [
    {
     "data": {
      "text/plain": [
       "      t                x            h*f(t,x,y)                y       h*g(t,x,y)\n",
       "      0                1                  0.00                0           -0.25\n",
       "    1/4              1.0                -0.062            -0.25           -0.23\n",
       "    1/2             0.94                 -0.12            -0.48           -0.17\n",
       "    3/4             0.82                 -0.16            -0.66          -0.081\n",
       "      1             0.65                 -0.18            -0.74           0.022"
      ]
     },
     "execution_count": 1,
     "metadata": {},
     "output_type": "execute_result"
    }
   ],
   "source": [
    "t,x,y = PolynomialRing(RealField(10),3,\"txy\").gens()\n",
    "f = y; g = -x - y * t\n",
    "eulers_method_2x2(f,g, 0, 1, 0, 1/4, 1)"
   ]
  },
  {
   "cell_type": "markdown",
   "id": "930f762d",
   "metadata": {},
   "source": [
    "Therefore, $z(1)\\approx 0.65$.\n",
    "\n",
    "We can also plot the points $(x,y)$ to get an approximate picture of the\n",
    "curve. The function `eulers_method_2x2_plot` will do this; in order to\n",
    "use it, we need to define functions $f$ and $g$ which takes one argument\n",
    "with three coordinates: ($t$, $x$, $y$)."
   ]
  },
  {
   "cell_type": "code",
   "execution_count": null,
   "id": "fd774aeb",
   "metadata": {},
   "outputs": [],
   "source": [
    "f = lambda z: z[2]        # f(t,x,y) = y\n",
    "g = lambda z: -sin(z[1])  # g(t,x,y) = -sin(x)\n",
    "P = eulers_method_2x2_plot(f,g, 0.0, 0.75, 0.0, 0.1, 1.0)"
   ]
  },
  {
   "cell_type": "markdown",
   "id": "8f4dd7ea",
   "metadata": {},
   "source": [
    "At this point, `P` is storing two plots: `P[0]`, the plot of $x$ vs.\n",
    "$t$, and `P[1]`, the plot of $y$ vs. $t$. We can plot both of these as\n",
    "follows:"
   ]
  },
  {
   "cell_type": "code",
   "execution_count": null,
   "id": "9b663158",
   "metadata": {},
   "outputs": [],
   "source": [
    "show(P[0] + P[1])"
   ]
  },
  {
   "cell_type": "markdown",
   "id": "41e7c0ad",
   "metadata": {},
   "source": [
    "(For more on plotting, see [section-plot](section-plot.ipynb).)\n",
    "\n",
    "## Special functions\n",
    "\n",
    "Several orthogonal polynomials and special functions are implemented,\n",
    "using both PARI [\\[GAP\\]]() and Maxima [\\[Max\\]](). These are documented\n",
    "in the appropriate sections (\"Orthogonal polynomials\" and \"Special\n",
    "functions\", respectively) of the Sage reference manual."
   ]
  },
  {
   "cell_type": "code",
   "execution_count": null,
   "id": "64b35905",
   "metadata": {},
   "outputs": [
    {
     "data": {
      "text/plain": [
       "4*x^2 - 1"
      ]
     },
     "execution_count": 1,
     "metadata": {},
     "output_type": "execute_result"
    }
   ],
   "source": [
    "x = polygen(QQ, 'x')\n",
    "chebyshev_U(2,x)"
   ]
  },
  {
   "cell_type": "code",
   "execution_count": null,
   "id": "4548b12d",
   "metadata": {},
   "outputs": [
    {
     "data": {
      "text/plain": [
       "0.56515910399248502720769602760986330732889962162109200948029448947925564096"
      ]
     },
     "execution_count": 1,
     "metadata": {},
     "output_type": "execute_result"
    }
   ],
   "source": [
    "bessel_I(1,1).n(250)"
   ]
  },
  {
   "cell_type": "code",
   "execution_count": null,
   "id": "a458a640",
   "metadata": {},
   "outputs": [
    {
     "data": {
      "text/plain": [
       "0.565159103992485"
      ]
     },
     "execution_count": 1,
     "metadata": {},
     "output_type": "execute_result"
    }
   ],
   "source": [
    "bessel_I(1,1).n()"
   ]
  },
  {
   "cell_type": "code",
   "execution_count": null,
   "id": "83252af9",
   "metadata": {},
   "outputs": [
    {
     "data": {
      "text/plain": [
       "0.167089499251049"
      ]
     },
     "execution_count": 1,
     "metadata": {},
     "output_type": "execute_result"
    }
   ],
   "source": [
    "bessel_I(2,1.1).n()"
   ]
  },
  {
   "cell_type": "markdown",
   "id": "8d0b3c49",
   "metadata": {},
   "source": [
    "At this point, Sage has only wrapped these functions for numerical use.\n",
    "For symbolic use, please use the Maxima interface directly, as in the\n",
    "following example:"
   ]
  },
  {
   "cell_type": "code",
   "execution_count": null,
   "id": "f40ea27a",
   "metadata": {},
   "outputs": [
    {
     "data": {
      "text/plain": [
       "'bessel_y(v,w)'"
      ]
     },
     "execution_count": 1,
     "metadata": {},
     "output_type": "execute_result"
    }
   ],
   "source": [
    "maxima.eval(\"f:bessel_y(v, w)\")"
   ]
  },
  {
   "cell_type": "code",
   "execution_count": null,
   "id": "cd730228",
   "metadata": {},
   "outputs": [
    {
     "data": {
      "text/plain": [
       "'(bessel_y(v-1,w)-bessel_y(v+1,w))/2'"
      ]
     },
     "execution_count": 1,
     "metadata": {},
     "output_type": "execute_result"
    }
   ],
   "source": [
    "maxima.eval(\"diff(f,w)\")"
   ]
  },
  {
   "cell_type": "markdown",
   "id": "cd03f199",
   "metadata": {},
   "source": [
    "## Vector calculus\n",
    "\n",
    "See the [Vector Calculus\n",
    "Tutorial](http://doc.sagemath.org/html/en/thematic_tutorials/vector_calculus.html)."
   ]
  }
 ],
 "metadata": {},
 "nbformat": 4,
 "nbformat_minor": 5
}
