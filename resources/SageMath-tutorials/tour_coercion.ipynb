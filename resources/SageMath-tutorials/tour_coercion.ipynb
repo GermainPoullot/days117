{
 "cells": [
  {
   "cell_type": "markdown",
   "id": "55ff098c",
   "metadata": {},
   "source": [
    "$$\n",
    "\\def\\CC{\\bf C}\n",
    "\\def\\QQ{\\bf Q}\n",
    "\\def\\RR{\\bf R}\n",
    "\\def\\ZZ{\\bf Z}\n",
    "\\def\\NN{\\bf N}\n",
    "$$\n",
    "# Parents, Conversion and Coercion\n",
    "\n",
    "This section may seem more technical than the previous, but we believe\n",
    "that it is important to understand the meaning of parents and coercion\n",
    "in order to use rings and other algebraic structures in Sage effectively\n",
    "and efficiently.\n",
    "\n",
    "Note that we try to explain notions, but we do not show here how to\n",
    "implement them. An implementation-oriented tutorial is available as a\n",
    "[Sage thematic\n",
    "tutorial](http://doc.sagemath.org/html/en/thematic_tutorials/coercion_and_categories.html).\n",
    "\n",
    "## Elements\n",
    "\n",
    "If one wants to implement a ring in Python, a first approximation is to\n",
    "create a class for the elements `X` of that ring and provide it with the\n",
    "required double underscore methods such as `__add__`, `__sub__`,\n",
    "`__mul__`, of course making sure that the ring axioms hold.\n",
    "\n",
    "As Python is a strongly typed (yet dynamically typed) language, one\n",
    "might, at least at first, expect that one implements one Python class\n",
    "for each ring. After all, Python contains one type `<int>` for the\n",
    "integers, one type `<float>` for the reals, and so on. But that approach\n",
    "must soon fail: There are infinitely many rings, and one can not\n",
    "implement infinitely many classes.\n",
    "\n",
    "Instead, one may create a hierarchy of classes designed to implement\n",
    "elements of ubiquitous algebraic structures, such as groups, rings, skew\n",
    "fields, commutative rings, fields, algebras, and so on.\n",
    "\n",
    "But that means that elements of fairly different rings can have the same\n",
    "type."
   ]
  },
  {
   "cell_type": "code",
   "execution_count": null,
   "id": "f98aa5d2",
   "metadata": {},
   "outputs": [
    {
     "data": {
      "text/plain": [
       "True"
      ]
     },
     "execution_count": 1,
     "metadata": {},
     "output_type": "execute_result"
    }
   ],
   "source": [
    "P.<x,y> = GF(3)[]\n",
    "Q.<a,b> = GF(4,'z')[]\n",
    "type(x)==type(a)"
   ]
  },
  {
   "cell_type": "markdown",
   "id": "487043eb",
   "metadata": {},
   "source": [
    "On the other hand, one could also have different Python classes\n",
    "providing different implementations of the same mathematical structure\n",
    "(e.g., dense matrices versus sparse matrices)"
   ]
  },
  {
   "cell_type": "code",
   "execution_count": null,
   "id": "8872a997",
   "metadata": {},
   "outputs": [
    {
     "data": {
      "text/plain": [
       "<class 'sage.rings.polynomial.polynomial_integer_dense_flint.Polynomial_integer_dense_flint'>\n",
       "<class 'sage.rings.polynomial.polynomial_ring.PolynomialRing_integral_domain_with_category.element_class'>\n",
       "<class 'sage.rings.polynomial.polynomial_integer_dense_ntl.Polynomial_integer_dense_ntl'>"
      ]
     },
     "execution_count": 1,
     "metadata": {},
     "output_type": "execute_result"
    }
   ],
   "source": [
    "P.<a> = PolynomialRing(ZZ)\n",
    "Q.<b> = PolynomialRing(ZZ, sparse=True)\n",
    "R.<c> = PolynomialRing(ZZ, implementation='NTL')\n",
    "type(a); type(b); type(c)"
   ]
  },
  {
   "cell_type": "markdown",
   "id": "e627eea9",
   "metadata": {},
   "source": [
    "That poses two problems: On the one hand, if one has elements that are\n",
    "two instances of the same class, then one may expect that their\n",
    "`__add__` method will allow to add them; but one does not want that, if\n",
    "the elements belong to very different rings. On the other hand, if one\n",
    "has elements belonging to different implementations of the same ring,\n",
    "then one wants to add them, but that is not straight forward if they\n",
    "belong to different Python classes.\n",
    "\n",
    "The solution to these problems is called \"coercion\" and will be\n",
    "explained below.\n",
    "\n",
    "However, it is essential that each element knows what it is element of.\n",
    "That is available by the method `parent()` :"
   ]
  },
  {
   "cell_type": "code",
   "execution_count": null,
   "id": "5934f3d9",
   "metadata": {},
   "outputs": [
    {
     "data": {
      "text/plain": [
       "Univariate Polynomial Ring in a over Integer Ring\n",
       "Sparse Univariate Polynomial Ring in b over Integer Ring\n",
       "Univariate Polynomial Ring in c over Integer Ring (using NTL)"
      ]
     },
     "execution_count": 1,
     "metadata": {},
     "output_type": "execute_result"
    }
   ],
   "source": [
    "a.parent(); b.parent(); c.parent()"
   ]
  },
  {
   "cell_type": "markdown",
   "id": "df6784c8",
   "metadata": {},
   "source": [
    "## Parents and categories\n",
    "\n",
    "Similar to the hierarchy of Python classes addressed to elements of\n",
    "algebraic structures, Sage also provides classes for the algebraic\n",
    "structures that contain these elements. Structures containing elements\n",
    "are called \"parent structures\" in Sage, and there is a base class for\n",
    "them. Roughly parallel to the hierarchy of mathematical notions, one has\n",
    "a hierarchy of classes, namely for sets, rings, fields, and so on:"
   ]
  },
  {
   "cell_type": "code",
   "execution_count": null,
   "id": "43116b42",
   "metadata": {},
   "outputs": [
    {
     "data": {
      "text/plain": [
       "True"
      ]
     },
     "execution_count": 1,
     "metadata": {},
     "output_type": "execute_result"
    }
   ],
   "source": [
    "isinstance(QQ,Field)"
   ]
  },
  {
   "cell_type": "code",
   "execution_count": null,
   "id": "ea9e5540",
   "metadata": {},
   "outputs": [
    {
     "data": {
      "text/plain": [
       "True"
      ]
     },
     "execution_count": 1,
     "metadata": {},
     "output_type": "execute_result"
    }
   ],
   "source": [
    "isinstance(QQ, Ring)"
   ]
  },
  {
   "cell_type": "code",
   "execution_count": null,
   "id": "0cf4994a",
   "metadata": {},
   "outputs": [
    {
     "data": {
      "text/plain": [
       "False"
      ]
     },
     "execution_count": 1,
     "metadata": {},
     "output_type": "execute_result"
    }
   ],
   "source": [
    "isinstance(ZZ,Field)"
   ]
  },
  {
   "cell_type": "code",
   "execution_count": null,
   "id": "cebac6e6",
   "metadata": {},
   "outputs": [
    {
     "data": {
      "text/plain": [
       "True"
      ]
     },
     "execution_count": 1,
     "metadata": {},
     "output_type": "execute_result"
    }
   ],
   "source": [
    "isinstance(ZZ, Ring)"
   ]
  },
  {
   "cell_type": "markdown",
   "id": "94ac87ef",
   "metadata": {},
   "source": [
    "In algebra, objects sharing the same kind of algebraic structures are\n",
    "collected in so-called \"categories\". So, there is a rough analogy\n",
    "between the class hierarchy in Sage and the hierarchy of categories.\n",
    "However, this analogy of Python classes and categories shouldn't be\n",
    "stressed too much. After all, mathematical categories are implemented in\n",
    "Sage as well:"
   ]
  },
  {
   "cell_type": "code",
   "execution_count": null,
   "id": "1772b63b",
   "metadata": {},
   "outputs": [
    {
     "data": {
      "text/plain": [
       "Category of rings"
      ]
     },
     "execution_count": 1,
     "metadata": {},
     "output_type": "execute_result"
    }
   ],
   "source": [
    "Rings()"
   ]
  },
  {
   "cell_type": "code",
   "execution_count": null,
   "id": "bd913bdd",
   "metadata": {},
   "outputs": [
    {
     "data": {
      "text/plain": [
       "Join of Category of euclidean domains\n",
       "    and Category of infinite enumerated sets\n",
       "    and Category of metric spaces"
      ]
     },
     "execution_count": 1,
     "metadata": {},
     "output_type": "execute_result"
    }
   ],
   "source": [
    "ZZ.category()"
   ]
  },
  {
   "cell_type": "code",
   "execution_count": null,
   "id": "d750be87",
   "metadata": {},
   "outputs": [
    {
     "data": {
      "text/plain": [
       "True"
      ]
     },
     "execution_count": 1,
     "metadata": {},
     "output_type": "execute_result"
    }
   ],
   "source": [
    "ZZ.category().is_subcategory(Rings())"
   ]
  },
  {
   "cell_type": "code",
   "execution_count": null,
   "id": "ee7b7158",
   "metadata": {},
   "outputs": [
    {
     "data": {
      "text/plain": [
       "True"
      ]
     },
     "execution_count": 1,
     "metadata": {},
     "output_type": "execute_result"
    }
   ],
   "source": [
    "ZZ in Rings()"
   ]
  },
  {
   "cell_type": "code",
   "execution_count": null,
   "id": "d6ad2eaa",
   "metadata": {},
   "outputs": [
    {
     "data": {
      "text/plain": [
       "False"
      ]
     },
     "execution_count": 1,
     "metadata": {},
     "output_type": "execute_result"
    }
   ],
   "source": [
    "ZZ in Fields()"
   ]
  },
  {
   "cell_type": "code",
   "execution_count": null,
   "id": "2b887f24",
   "metadata": {},
   "outputs": [
    {
     "data": {
      "text/plain": [
       "True"
      ]
     },
     "execution_count": 1,
     "metadata": {},
     "output_type": "execute_result"
    }
   ],
   "source": [
    "QQ in Fields()"
   ]
  },
  {
   "cell_type": "markdown",
   "id": "4945250c",
   "metadata": {},
   "source": [
    "While Sage's class hierarchy is centered at implementation details,\n",
    "Sage's category framework is more centered on mathematical structure. It\n",
    "is possible to implement generic methods and tests independent of a\n",
    "specific implementation in the categories.\n",
    "\n",
    "Parent structures in Sage are supposed to be unique Python objects. For\n",
    "example, once a polynomial ring over a certain base ring and with a\n",
    "certain list of generators is created, the result is cached:"
   ]
  },
  {
   "cell_type": "code",
   "execution_count": null,
   "id": "fbe8736e",
   "metadata": {},
   "outputs": [
    {
     "data": {
      "text/plain": [
       "True"
      ]
     },
     "execution_count": 1,
     "metadata": {},
     "output_type": "execute_result"
    }
   ],
   "source": [
    "RR['x','y'] is RR['x','y']"
   ]
  },
  {
   "cell_type": "markdown",
   "id": "a16775fc",
   "metadata": {},
   "source": [
    "## Types versus parents\n",
    "\n",
    "The type `RingElement` does not correspond perfectly to the mathematical\n",
    "notion of a ring element. For example, although square matrices belong\n",
    "to a ring, they are not instances of `RingElement` :"
   ]
  },
  {
   "cell_type": "code",
   "execution_count": null,
   "id": "fd47da0c",
   "metadata": {},
   "outputs": [
    {
     "data": {
      "text/plain": [
       "[0 0]\n",
       "[0 0]"
      ]
     },
     "execution_count": 1,
     "metadata": {},
     "output_type": "execute_result"
    }
   ],
   "source": [
    "M = Matrix(ZZ,2,2); M"
   ]
  },
  {
   "cell_type": "code",
   "execution_count": null,
   "id": "8bcc3399",
   "metadata": {},
   "outputs": [
    {
     "data": {
      "text/plain": [
       "False"
      ]
     },
     "execution_count": 1,
     "metadata": {},
     "output_type": "execute_result"
    }
   ],
   "source": [
    "isinstance(M, RingElement)"
   ]
  },
  {
   "cell_type": "markdown",
   "id": "2f74d4c1",
   "metadata": {},
   "source": [
    "While *parents* are unique, equal *elements* of a parent in Sage are not\n",
    "necessarily identical. This is in contrast to the behaviour of Python\n",
    "for some (albeit not all) integers:"
   ]
  },
  {
   "cell_type": "code",
   "execution_count": null,
   "id": "654542a4",
   "metadata": {},
   "outputs": [
    {
     "data": {
      "text/plain": [
       "True"
      ]
     },
     "execution_count": 1,
     "metadata": {},
     "output_type": "execute_result"
    }
   ],
   "source": [
    "int(1) is int(1) # Python int"
   ]
  },
  {
   "cell_type": "code",
   "execution_count": null,
   "id": "21d6cc50",
   "metadata": {},
   "outputs": [
    {
     "data": {
      "text/plain": [
       "False"
      ]
     },
     "execution_count": 1,
     "metadata": {},
     "output_type": "execute_result"
    }
   ],
   "source": [
    "int(-15) is int(-15)"
   ]
  },
  {
   "cell_type": "code",
   "execution_count": null,
   "id": "a2f136af",
   "metadata": {},
   "outputs": [
    {
     "data": {
      "text/plain": [
       "False"
      ]
     },
     "execution_count": 1,
     "metadata": {},
     "output_type": "execute_result"
    }
   ],
   "source": [
    "1 is 1           # Sage Integer"
   ]
  },
  {
   "cell_type": "markdown",
   "id": "fc923cc2",
   "metadata": {},
   "source": [
    "It is important to observe that elements of different rings are in\n",
    "general not distinguished by their type, but by their parent:"
   ]
  },
  {
   "cell_type": "code",
   "execution_count": null,
   "id": "84ef96ee",
   "metadata": {},
   "outputs": [
    {
     "data": {
      "text/plain": [
       "True"
      ]
     },
     "execution_count": 1,
     "metadata": {},
     "output_type": "execute_result"
    }
   ],
   "source": [
    "a = GF(2)(1)\n",
    "b = GF(5)(1)\n",
    "type(a) is type(b)"
   ]
  },
  {
   "cell_type": "code",
   "execution_count": null,
   "id": "ed429d8e",
   "metadata": {},
   "outputs": [
    {
     "data": {
      "text/plain": [
       "Finite Field of size 2"
      ]
     },
     "execution_count": 1,
     "metadata": {},
     "output_type": "execute_result"
    }
   ],
   "source": [
    "parent(a)"
   ]
  },
  {
   "cell_type": "code",
   "execution_count": null,
   "id": "7097e6e5",
   "metadata": {},
   "outputs": [
    {
     "data": {
      "text/plain": [
       "Finite Field of size 5"
      ]
     },
     "execution_count": 1,
     "metadata": {},
     "output_type": "execute_result"
    }
   ],
   "source": [
    "parent(b)"
   ]
  },
  {
   "cell_type": "markdown",
   "id": "9b15de6d",
   "metadata": {},
   "source": [
    "Hence, from an algebraic point of view, **the parent of an element is\n",
    "more important than its type.**\n",
    "\n",
    "## Conversion versus Coercion\n",
    "\n",
    "In some cases it is possible to convert an element of one parent\n",
    "structure into an element of a different parent structure. Such\n",
    "conversion can either be explicit or implicit (this is called\n",
    "*coercion*).\n",
    "\n",
    "The reader may know the notions *type conversion* and *type coercion*\n",
    "from, e.g., the C programming language. There are notions of\n",
    "*conversion* and *coercion* in Sage as well. But the notions in Sage are\n",
    "centered on *parents*, not on types. So, please don't confuse type\n",
    "conversion in C with conversion in Sage!\n",
    "\n",
    "We give here a rather brief account. For a detailed description and for\n",
    "information on the implementation, we refer to the section on coercion\n",
    "in the reference manual and to the [thematic\n",
    "tutorial](http://doc.sagemath.org/html/en/thematic_tutorials/coercion_and_categories.html).\n",
    "\n",
    "There are two extremal positions concerning the possibility of doing\n",
    "arithmetic with elements of *different* rings:\n",
    "\n",
    "-   Different rings are different worlds, and it makes no sense\n",
    "    whatsoever to add or multiply elements of different rings; even\n",
    "    `1 + 1/2` makes no sense, since the first summand is an integer and\n",
    "    the second a rational.\n",
    "\n",
    "Or\n",
    "\n",
    "-   If an element `r1` of one ring `R1` can somehow be interpreted in\n",
    "    another ring `R2`, then all arithmetic operations involving `r1` and\n",
    "    any element of `R2` are allowed. The multiplicative unit exists in\n",
    "    all fields and many rings, and they should all be equal.\n",
    "\n",
    "Sage favours a compromise. If `P1` and `P2` are parent structures and\n",
    "`p1` is an element of `P1`, then the user may explicitly ask for an\n",
    "interpretation of `p1` in `P2`. This may not be meaningful in all cases\n",
    "or not be defined for all elements of `P1`, and it is up to the user to\n",
    "ensure that it makes sense. We refer to this as **conversion**:"
   ]
  },
  {
   "cell_type": "code",
   "execution_count": null,
   "id": "33751d37",
   "metadata": {},
   "outputs": [
    {
     "data": {
      "text/plain": [
       "True"
      ]
     },
     "execution_count": 1,
     "metadata": {},
     "output_type": "execute_result"
    }
   ],
   "source": [
    "a = GF(2)(1)\n",
    "b = GF(5)(1)\n",
    "GF(5)(a) == b"
   ]
  },
  {
   "cell_type": "code",
   "execution_count": null,
   "id": "26290082",
   "metadata": {},
   "outputs": [
    {
     "data": {
      "text/plain": [
       "True"
      ]
     },
     "execution_count": 1,
     "metadata": {},
     "output_type": "execute_result"
    }
   ],
   "source": [
    "GF(2)(b) == a"
   ]
  },
  {
   "cell_type": "markdown",
   "id": "80db809b",
   "metadata": {},
   "source": [
    "However, an *implicit* (or automatic) conversion will only happen if\n",
    "this can be done *thoroughly* and *consistently*. Mathematical rigour is\n",
    "essential at that point.\n",
    "\n",
    "Such an implicit conversion is called **coercion**. If coercion is\n",
    "defined, then it must coincide with conversion. Two conditions must be\n",
    "satisfied for a coercion to be defined:\n",
    "\n",
    "1.  A coercion from `P1` to `P2` must be given by a structure preserving\n",
    "    map (e.g., a ring homomorphism). It does not suffice that *some*\n",
    "    elements of `P1` can be mapped to `P2`, and the map must respect the\n",
    "    algebraic structure of `P1`.\n",
    "2.  The choice of these coercion maps must be consistent: If `P3` is a\n",
    "    third parent structure, then the composition of the chosen coercion\n",
    "    from `P1` to `P2` with the coercion from `P2` to `P3` must coincide\n",
    "    with the chosen coercion from `P1` to `P3`. In particular, if there\n",
    "    is a coercion from `P1` to `P2` and `P2` to `P1`, the composition\n",
    "    must be the identity map of `P1`.\n",
    "\n",
    "So, although it is possible to convert each element of `GF(2)` into\n",
    "`GF(5)`, there is no coercion, since there is no ring homomorphism\n",
    "between `GF(2)` and `GF(5)`.\n",
    "\n",
    "The second aspect - consistency - is a bit more difficult to explain. We\n",
    "illustrate it with multivariate polynomial rings. In applications, it\n",
    "certainly makes most sense to have name preserving coercions. So, we\n",
    "have:"
   ]
  },
  {
   "cell_type": "code",
   "execution_count": null,
   "id": "64a89824",
   "metadata": {},
   "outputs": [
    {
     "data": {
      "text/plain": [
       "True"
      ]
     },
     "execution_count": 1,
     "metadata": {},
     "output_type": "execute_result"
    }
   ],
   "source": [
    "R1.<x,y> = ZZ[]\n",
    "R2 = ZZ['y','x']\n",
    "R2.has_coerce_map_from(R1)"
   ]
  },
  {
   "cell_type": "code",
   "execution_count": null,
   "id": "450fa76c",
   "metadata": {},
   "outputs": [
    {
     "data": {
      "text/plain": [
       "x"
      ]
     },
     "execution_count": 1,
     "metadata": {},
     "output_type": "execute_result"
    }
   ],
   "source": [
    "R2(x)"
   ]
  },
  {
   "cell_type": "code",
   "execution_count": null,
   "id": "41dca5fe",
   "metadata": {},
   "outputs": [
    {
     "data": {
      "text/plain": [
       "y"
      ]
     },
     "execution_count": 1,
     "metadata": {},
     "output_type": "execute_result"
    }
   ],
   "source": [
    "R2(y)"
   ]
  },
  {
   "cell_type": "markdown",
   "id": "d495335c",
   "metadata": {},
   "source": [
    "If there is no name preserving ring homomorphism, coercion is not\n",
    "defined. However, conversion may still be possible, namely by mapping\n",
    "ring generators according to their position in the list of generators:"
   ]
  },
  {
   "cell_type": "code",
   "execution_count": null,
   "id": "15c8501b",
   "metadata": {},
   "outputs": [
    {
     "data": {
      "text/plain": [
       "False"
      ]
     },
     "execution_count": 1,
     "metadata": {},
     "output_type": "execute_result"
    }
   ],
   "source": [
    "R3 = ZZ['z','x']\n",
    "R3.has_coerce_map_from(R1)"
   ]
  },
  {
   "cell_type": "code",
   "execution_count": null,
   "id": "247e8164",
   "metadata": {},
   "outputs": [
    {
     "data": {
      "text/plain": [
       "z"
      ]
     },
     "execution_count": 1,
     "metadata": {},
     "output_type": "execute_result"
    }
   ],
   "source": [
    "R3(x)"
   ]
  },
  {
   "cell_type": "code",
   "execution_count": null,
   "id": "277c4441",
   "metadata": {},
   "outputs": [
    {
     "data": {
      "text/plain": [
       "x"
      ]
     },
     "execution_count": 1,
     "metadata": {},
     "output_type": "execute_result"
    }
   ],
   "source": [
    "R3(y)"
   ]
  },
  {
   "cell_type": "markdown",
   "id": "080143f2",
   "metadata": {},
   "source": [
    "But such position preserving conversions do not qualify as coercion: By\n",
    "composing a name preserving map from `ZZ['x','y']` to `ZZ['y','x']` with\n",
    "a position preserving map from `ZZ['y','x']` to `ZZ['a','b']`, a map\n",
    "would result that is neither name preserving nor position preserving, in\n",
    "violation to consistency.\n",
    "\n",
    "If there is a coercion, it will be used to compare elements of different\n",
    "rings or to do arithmetic. This is often convenient, but the user should\n",
    "be aware that extending the `==`-relation across the borders of\n",
    "different parents may easily result in overdoing it. For example, while\n",
    "`==` is supposed to be an equivalence relation on the elements of *one*\n",
    "ring, this is not necessarily the case if *different* rings are\n",
    "involved. For example, `1` in `ZZ` and in a finite field are considered\n",
    "equal, since there is a canonical coercion from the integers to any\n",
    "finite field. However, in general there is no coercion between two\n",
    "different finite fields. Therefore we have"
   ]
  },
  {
   "cell_type": "code",
   "execution_count": null,
   "id": "370ae55d",
   "metadata": {},
   "outputs": [
    {
     "data": {
      "text/plain": [
       "True"
      ]
     },
     "execution_count": 1,
     "metadata": {},
     "output_type": "execute_result"
    }
   ],
   "source": [
    "GF(5)(1) == 1"
   ]
  },
  {
   "cell_type": "code",
   "execution_count": null,
   "id": "2339ecb4",
   "metadata": {},
   "outputs": [
    {
     "data": {
      "text/plain": [
       "True"
      ]
     },
     "execution_count": 1,
     "metadata": {},
     "output_type": "execute_result"
    }
   ],
   "source": [
    "1 == GF(2)(1)"
   ]
  },
  {
   "cell_type": "code",
   "execution_count": null,
   "id": "99e2776c",
   "metadata": {},
   "outputs": [
    {
     "data": {
      "text/plain": [
       "False"
      ]
     },
     "execution_count": 1,
     "metadata": {},
     "output_type": "execute_result"
    }
   ],
   "source": [
    "GF(5)(1) == GF(2)(1)"
   ]
  },
  {
   "cell_type": "code",
   "execution_count": null,
   "id": "9a456cdf",
   "metadata": {},
   "outputs": [
    {
     "data": {
      "text/plain": [
       "True"
      ]
     },
     "execution_count": 1,
     "metadata": {},
     "output_type": "execute_result"
    }
   ],
   "source": [
    "GF(5)(1) != GF(2)(1)"
   ]
  },
  {
   "cell_type": "markdown",
   "id": "d81ca8f6",
   "metadata": {},
   "source": [
    "Similarly, we have"
   ]
  },
  {
   "cell_type": "code",
   "execution_count": null,
   "id": "e5cc0ac8",
   "metadata": {},
   "outputs": [
    {
     "data": {
      "text/plain": [
       "True"
      ]
     },
     "execution_count": 1,
     "metadata": {},
     "output_type": "execute_result"
    }
   ],
   "source": [
    "R3(R1.1) == R3.1"
   ]
  },
  {
   "cell_type": "code",
   "execution_count": null,
   "id": "eb51c0f0",
   "metadata": {},
   "outputs": [
    {
     "data": {
      "text/plain": [
       "False"
      ]
     },
     "execution_count": 1,
     "metadata": {},
     "output_type": "execute_result"
    }
   ],
   "source": [
    "R1.1 == R3.1"
   ]
  },
  {
   "cell_type": "code",
   "execution_count": null,
   "id": "72abf253",
   "metadata": {},
   "outputs": [
    {
     "data": {
      "text/plain": [
       "True"
      ]
     },
     "execution_count": 1,
     "metadata": {},
     "output_type": "execute_result"
    }
   ],
   "source": [
    "R1.1 != R3.1"
   ]
  },
  {
   "cell_type": "markdown",
   "id": "3da8f668",
   "metadata": {},
   "source": [
    "Another consequence of the consistency condition is that coercions can\n",
    "only go from exact rings (e.g., the rationals `QQ`) to inexact rings\n",
    "(e.g., real numbers with a fixed precision `RR`), but not the other way\n",
    "around. The reason is that the composition of the coercion from `QQ` to\n",
    "`RR` with a conversion from `RR` to `QQ` is supposed to be the identity\n",
    "on `QQ`. But this is impossible, since some distinct rational numbers\n",
    "may very well be treated equal in `RR`, as in the following example:"
   ]
  },
  {
   "cell_type": "code",
   "execution_count": null,
   "id": "74d1c4b8",
   "metadata": {},
   "outputs": [
    {
     "data": {
      "text/plain": [
       "True"
      ]
     },
     "execution_count": 1,
     "metadata": {},
     "output_type": "execute_result"
    }
   ],
   "source": [
    "RR(1/10^200+1/10^100) == RR(1/10^100)"
   ]
  },
  {
   "cell_type": "code",
   "execution_count": null,
   "id": "dc182d1b",
   "metadata": {},
   "outputs": [
    {
     "data": {
      "text/plain": [
       "False"
      ]
     },
     "execution_count": 1,
     "metadata": {},
     "output_type": "execute_result"
    }
   ],
   "source": [
    "1/10^200+1/10^100 == 1/10^100"
   ]
  },
  {
   "cell_type": "markdown",
   "id": "c6b83336",
   "metadata": {},
   "source": [
    "When comparing elements of two parents `P1` and `P2`, it is possible\n",
    "that there is no coercion between the two rings, but there is a\n",
    "canonical choice of a parent `P3` so that both `P1` and `P2` coerce into\n",
    "`P3`. In this case, coercion will take place as well. A typical use case\n",
    "is the sum of a rational number and a polynomial with integer\n",
    "coefficients, yielding a polynomial with rational coefficients:"
   ]
  },
  {
   "cell_type": "code",
   "execution_count": null,
   "id": "c4acee9d",
   "metadata": {},
   "outputs": [
    {
     "data": {
      "text/plain": [
       "Univariate Polynomial Ring in x over Integer Ring"
      ]
     },
     "execution_count": 1,
     "metadata": {},
     "output_type": "execute_result"
    }
   ],
   "source": [
    "P1.<x> = ZZ[]\n",
    "p = 2*x+3\n",
    "q = 1/2\n",
    "parent(p)"
   ]
  },
  {
   "cell_type": "code",
   "execution_count": null,
   "id": "918297ad",
   "metadata": {},
   "outputs": [
    {
     "data": {
      "text/plain": [
       "Univariate Polynomial Ring in x over Rational Field"
      ]
     },
     "execution_count": 1,
     "metadata": {},
     "output_type": "execute_result"
    }
   ],
   "source": [
    "parent(p+q)"
   ]
  },
  {
   "cell_type": "markdown",
   "id": "78603f31",
   "metadata": {},
   "source": [
    "Note that in principle the result would also make sense in the fraction\n",
    "field of `ZZ['x']`. However, Sage tries to choose a *canonical* common\n",
    "parent that seems to be most natural (`QQ['x']` in our example). If\n",
    "several potential common parents seem equally natural, Sage will *not*\n",
    "pick one of them at random, in order to have a reliable result. The\n",
    "mechanisms which that choice is based upon is explained in the [thematic\n",
    "tutorial](http://doc.sagemath.org/html/en/thematic_tutorials/coercion_and_categories.html).\n",
    "\n",
    "No coercion into a common parent will take place in the following\n",
    "example:"
   ]
  },
  {
   "cell_type": "code",
   "execution_count": null,
   "id": "1a5da42a",
   "metadata": {},
   "outputs": [
    {
     "data": {
      "text/plain": [
       "Traceback (most recent call last):\n",
       "...\n",
       "TypeError: unsupported operand parent(s) for +: 'Univariate Polynomial Ring in x over Rational Field' and 'Univariate Polynomial Ring in y over Rational Field'"
      ]
     },
     "execution_count": 1,
     "metadata": {},
     "output_type": "execute_result"
    }
   ],
   "source": [
    "R.<x> = QQ[]\n",
    "S.<y> = QQ[]\n",
    "x+y"
   ]
  },
  {
   "cell_type": "markdown",
   "id": "063a71a9",
   "metadata": {},
   "source": [
    "The reason is that Sage would not choose one of the potential candidates\n",
    "`QQ['x']['y']`, `QQ['y']['x']`, `QQ['x','y']` or `QQ['y','x']`, because\n",
    "all of these four pairwise different structures seem natural common\n",
    "parents, and there is no apparent canonical choice."
   ]
  }
 ],
 "metadata": {},
 "nbformat": 4,
 "nbformat_minor": 5
}
