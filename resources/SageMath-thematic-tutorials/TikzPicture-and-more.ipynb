{
 "cells": [
  {
   "cell_type": "markdown",
   "id": "770cfe2e",
   "metadata": {
    "slideshow": {
     "slide_type": "slide"
    }
   },
   "source": [
    "# Some more nice features of Python/SageMath\n",
    "\n",
    "**Sébastien Labbé**\n",
    "\n",
    "February 9, 2023, Le Teich, Maison de la nature\n",
    "\n",
    "Outline:\n",
    "\n",
    "1. nbviewer.org\n",
    "2. RISE : turning a Jupyter notebook into a Slide Presentation\n",
    "3. `table`\n",
    "3. `TikzPicture` in Sage\n",
    "4. `RecursivelyEnumeratedSet`"
   ]
  },
  {
   "cell_type": "markdown",
   "id": "b1bbca0e",
   "metadata": {
    "slideshow": {
     "slide_type": "slide"
    }
   },
   "source": [
    "# 1. nbviewer.org\n",
    "\n",
    "\n",
    "https://nbviewer.org/\n",
    "\n",
    "https://nbviewer.org/url/www.slabbe.org/Publications/arXiv_1906_01104.ipynb"
   ]
  },
  {
   "cell_type": "markdown",
   "id": "555e7e57",
   "metadata": {
    "slideshow": {
     "slide_type": "slide"
    }
   },
   "source": [
    "# 2. RISE : turning a Jupyter notebook into a Slide Presentation\n",
    "\n",
    "`pip install rise`\n",
    "\n",
    "For documentation, see the video shown on the project page https://pypi.org/project/rise/\n",
    "\n",
    "One example:\n",
    "\n",
    " - http://www.slabbe.org/Communications/2021-01-cirm.ipynb\n",
    " - http://www.slabbe.org/Communications/2021-01-cirm.pdf\n",
    " - http://www.slabbe.org/Communications/2021-01-cirm.slides.html"
   ]
  },
  {
   "cell_type": "markdown",
   "id": "8e6fda90",
   "metadata": {
    "slideshow": {
     "slide_type": "slide"
    }
   },
   "source": [
    "# 3. table in Sage\n"
   ]
  },
  {
   "cell_type": "code",
   "execution_count": null,
   "id": "9a16b97c",
   "metadata": {},
   "outputs": [],
   "source": [
    "for i in range(1000, 1050):\n",
    "    print(i, factor(i), i^2, is_prime(i))"
   ]
  },
  {
   "cell_type": "code",
   "execution_count": null,
   "id": "2042de7c",
   "metadata": {},
   "outputs": [],
   "source": [
    "rows = []\n",
    "for i in range(1000, 1050):\n",
    "    row = (i, factor(i), i^2, is_prime(i))\n",
    "    rows.append(row)\n",
    "header_row = ['n', 'factor(n)', 'n^2', 'is_prime(n)']\n",
    "t = table(rows, header_row=header_row)\n",
    "t"
   ]
  },
  {
   "cell_type": "markdown",
   "id": "6cd12861",
   "metadata": {
    "slideshow": {
     "slide_type": "slide"
    }
   },
   "source": [
    "# 4. TikzPicture in Sage\n",
    "\n",
    "Merged in sagemath-9.6 (trac ticket: https://trac.sagemath.org/ticket/20343)"
   ]
  },
  {
   "cell_type": "code",
   "execution_count": null,
   "id": "e59f037f",
   "metadata": {},
   "outputs": [],
   "source": [
    "from sage.misc.latex_standalone import TikzPicture\n",
    "#!pip install slabbe                # with sagemath version < 9.6\n",
    "#from slabbe import TikzPicture     # with sagemath version < 9.6"
   ]
  },
  {
   "cell_type": "markdown",
   "id": "cae59811",
   "metadata": {
    "slideshow": {
     "slide_type": "subslide"
    }
   },
   "source": [
    "## Baby example"
   ]
  },
  {
   "cell_type": "code",
   "execution_count": null,
   "id": "0dddd60e",
   "metadata": {},
   "outputs": [],
   "source": [
    "lines = []\n",
    "lines.append(r\"\\begin{tikzpicture}\")\n",
    "lines.append(r\"\\draw[->] (0,0) -- (10,1);\")\n",
    "lines.append(r\"\\end{tikzpicture}\")\n",
    "s = '\\n'.join(lines)\n",
    "print(s)"
   ]
  },
  {
   "cell_type": "code",
   "execution_count": null,
   "id": "25651688",
   "metadata": {
    "slideshow": {
     "slide_type": "fragment"
    }
   },
   "outputs": [],
   "source": [
    "t = TikzPicture(s)"
   ]
  },
  {
   "cell_type": "code",
   "execution_count": null,
   "id": "fbcd14a6",
   "metadata": {
    "slideshow": {
     "slide_type": "fragment"
    }
   },
   "outputs": [],
   "source": [
    "print(TikzPicture(s))"
   ]
  },
  {
   "cell_type": "code",
   "execution_count": null,
   "id": "34424a41",
   "metadata": {},
   "outputs": [],
   "source": [
    "TikzPicture(s, standalone_config=[\"border=5mm\"])"
   ]
  },
  {
   "cell_type": "code",
   "execution_count": null,
   "id": "193a68f8",
   "metadata": {},
   "outputs": [],
   "source": [
    "t.tex('file.tex', content_only=True)"
   ]
  },
  {
   "cell_type": "markdown",
   "id": "b1e24cdf",
   "metadata": {
    "slideshow": {
     "slide_type": "subslide"
    }
   },
   "source": [
    "## Random walk"
   ]
  },
  {
   "cell_type": "code",
   "execution_count": null,
   "id": "2f89e261",
   "metadata": {},
   "outputs": [],
   "source": [
    "def random_walk(steps, length, start=(0,0)):\n",
    "    p = vector(start)\n",
    "    L = [p]\n",
    "    for _ in range(length):\n",
    "        step = choice(steps)\n",
    "        p += step\n",
    "        L.append(p)\n",
    "    return L"
   ]
  },
  {
   "cell_type": "code",
   "execution_count": null,
   "id": "be98b568",
   "metadata": {},
   "outputs": [],
   "source": [
    "steps = [vector((1,0)), vector((0,1))]\n",
    "L = random_walk(steps, 10)\n",
    "L"
   ]
  },
  {
   "cell_type": "code",
   "execution_count": null,
   "id": "1ad9c3c2",
   "metadata": {},
   "outputs": [],
   "source": [
    "' -- '.join(str(p) for p in L)"
   ]
  },
  {
   "cell_type": "code",
   "execution_count": null,
   "id": "c163f8f5",
   "metadata": {
    "slideshow": {
     "slide_type": "subslide"
    }
   },
   "outputs": [],
   "source": [
    "def walk_to_tikz(L):\n",
    "    lines = []\n",
    "    lines.append(r\"\\begin{tikzpicture}\")\n",
    "    lines.append(r\"\\draw[->] {};\".format(' -- '.join(str(p) for p in L)))\n",
    "    lines.append(r\"\\end{tikzpicture}\")\n",
    "    s = '\\n'.join(lines)\n",
    "    return TikzPicture(s, standalone_config=[\"border=5mm\"])"
   ]
  },
  {
   "cell_type": "code",
   "execution_count": null,
   "id": "8dfe0e9f",
   "metadata": {},
   "outputs": [],
   "source": [
    "L = random_walk(steps, 10)\n",
    "walk_to_tikz(L)"
   ]
  },
  {
   "cell_type": "markdown",
   "id": "8d453991",
   "metadata": {
    "slideshow": {
     "slide_type": "subslide"
    }
   },
   "source": [
    "## Polytopes\n",
    "\n",
    "https://jplab.github.io/polytope.html\n",
    "\n",
    "Thematic tutorial: https://doc.sagemath.org/html/en/thematic_tutorials/geometry/polytope_tikz.html"
   ]
  },
  {
   "cell_type": "code",
   "execution_count": null,
   "id": "f31178c0",
   "metadata": {},
   "outputs": [],
   "source": [
    "V = [[1,0,1],[1,0,0],[1,1,0],[0,0,-1],[0,1,0],[-1,0,0],[0,1,1],[0,0,1],[0,-1,0]]\n",
    "P = Polyhedron(vertices=V).polar()\n",
    "P.plot()"
   ]
  },
  {
   "cell_type": "code",
   "execution_count": null,
   "id": "e166d82c",
   "metadata": {},
   "outputs": [],
   "source": [
    "s = P.tikz([-0.9555,0.2453,0.1639],114.89, output_type='LatexExpr')\n",
    "TikzPicture(s)"
   ]
  },
  {
   "cell_type": "code",
   "execution_count": null,
   "id": "2b6aa655",
   "metadata": {},
   "outputs": [],
   "source": [
    "P.tikz([674,108,-731],112, output_type='TikzPicture')"
   ]
  },
  {
   "cell_type": "markdown",
   "id": "62a4c913",
   "metadata": {
    "slideshow": {
     "slide_type": "subslide"
    }
   },
   "source": [
    "## Graphs"
   ]
  },
  {
   "cell_type": "code",
   "execution_count": null,
   "id": "ff81445f",
   "metadata": {},
   "outputs": [],
   "source": [
    "g = graphs.PetersenGraph()\n",
    "t = TikzPicture(latex(g), usepackage=['tkz-graph'])\n",
    "t"
   ]
  },
  {
   "cell_type": "markdown",
   "id": "58283960",
   "metadata": {
    "slideshow": {
     "slide_type": "subslide"
    }
   },
   "source": [
    "## TikzPicture.from_graph\n",
    "\n",
    "Using dot2tex and graphviz:\n",
    "\n",
    " - `sudo apt install graphviz`\n",
    " - `sage -pip install dot2tex` or `sage -i dot2tex`"
   ]
  },
  {
   "cell_type": "code",
   "execution_count": null,
   "id": "e258e11c",
   "metadata": {},
   "outputs": [],
   "source": [
    "F = GF(3)\n",
    "gens = [matrix(F,2,[1,0, 1,1]), matrix(F,2, [1,1, 0,1])]\n",
    "group = MatrixGroup(gens); group"
   ]
  },
  {
   "cell_type": "code",
   "execution_count": null,
   "id": "aff7bcb4",
   "metadata": {},
   "outputs": [],
   "source": [
    "group.cardinality()"
   ]
  },
  {
   "cell_type": "code",
   "execution_count": null,
   "id": "4d711f18",
   "metadata": {},
   "outputs": [],
   "source": [
    "G = group.cayley_graph()\n",
    "G"
   ]
  },
  {
   "cell_type": "code",
   "execution_count": null,
   "id": "49b49831",
   "metadata": {},
   "outputs": [],
   "source": [
    "G.plot()"
   ]
  },
  {
   "cell_type": "code",
   "execution_count": null,
   "id": "95bc8ea2",
   "metadata": {},
   "outputs": [],
   "source": [
    "TikzPicture.from_graph(G, prog='fdp', color_by_label=True)"
   ]
  },
  {
   "cell_type": "markdown",
   "id": "30220122",
   "metadata": {},
   "source": [
    "## Save to files"
   ]
  },
  {
   "cell_type": "code",
   "execution_count": null,
   "id": "3423392c",
   "metadata": {},
   "outputs": [],
   "source": [
    "print(t)"
   ]
  },
  {
   "cell_type": "code",
   "execution_count": null,
   "id": "ee90b2ad",
   "metadata": {},
   "outputs": [],
   "source": [
    "t.pdf('local_file.pdf')"
   ]
  },
  {
   "cell_type": "code",
   "execution_count": null,
   "id": "fc3f4304",
   "metadata": {},
   "outputs": [],
   "source": [
    "t.png('local_file.png')"
   ]
  },
  {
   "cell_type": "code",
   "execution_count": null,
   "id": "895d5f6e",
   "metadata": {},
   "outputs": [],
   "source": [
    "t.svg('local_file.svg')"
   ]
  },
  {
   "cell_type": "code",
   "execution_count": null,
   "id": "a1d177b5",
   "metadata": {},
   "outputs": [],
   "source": [
    "t.tex('local_file.tex')"
   ]
  },
  {
   "cell_type": "code",
   "execution_count": null,
   "id": "04fb4ae1",
   "metadata": {},
   "outputs": [],
   "source": [
    "t.tex('local_file.tex', content_only=True)"
   ]
  },
  {
   "cell_type": "markdown",
   "id": "9271eb07",
   "metadata": {
    "slideshow": {
     "slide_type": "slide"
    }
   },
   "source": [
    "# 5. `RecursivelyEnumeratedSet` in SageMath"
   ]
  },
  {
   "cell_type": "markdown",
   "id": "8d7a28c6",
   "metadata": {},
   "source": [
    "## First example"
   ]
  },
  {
   "cell_type": "code",
   "execution_count": null,
   "id": "dabba278",
   "metadata": {},
   "outputs": [],
   "source": [
    "from slabbe.bispecial_extension_type import ExtensionTypeLong\n",
    "from slabbe.mult_cont_frac import Brun\n",
    "S = Brun().substitutions()\n",
    "data = [((2, 1), (2,)), ((3, 1), (2,)), ((2, 2), (3,)), \n",
    "        ((1,2), (1,)), ((1, 2), (2,)), ((1, 2), (3,)), ((2, 3), (1,))]\n",
    "E1 = ExtensionTypeLong(data, (1,2,3))\n",
    "E1"
   ]
  },
  {
   "cell_type": "code",
   "execution_count": null,
   "id": "7460f7cb",
   "metadata": {},
   "outputs": [],
   "source": [
    "latex(E1)"
   ]
  },
  {
   "cell_type": "code",
   "execution_count": null,
   "id": "b8c0891f",
   "metadata": {},
   "outputs": [],
   "source": [
    "G = E1.graph_under_sadic([132]*2+[123]*6, S)\n",
    "G"
   ]
  },
  {
   "cell_type": "code",
   "execution_count": null,
   "id": "4535d6bf",
   "metadata": {},
   "outputs": [],
   "source": [
    "TikzPicture.from_graph(G)"
   ]
  },
  {
   "cell_type": "code",
   "execution_count": null,
   "id": "d367bed8",
   "metadata": {},
   "outputs": [],
   "source": [
    "E1.graph_under_sadic??"
   ]
  },
  {
   "cell_type": "code",
   "execution_count": null,
   "id": "54869074",
   "metadata": {},
   "outputs": [],
   "source": [
    "E1.rec_enum_set_under_sadic??"
   ]
  },
  {
   "cell_type": "markdown",
   "id": "555a3785",
   "metadata": {
    "slideshow": {
     "slide_type": "subslide"
    }
   },
   "source": [
    "## Baby example"
   ]
  },
  {
   "cell_type": "code",
   "execution_count": null,
   "id": "e018c275",
   "metadata": {
    "slideshow": {
     "slide_type": "-"
    }
   },
   "outputs": [],
   "source": [
    "RecursivelyEnumeratedSet?"
   ]
  },
  {
   "cell_type": "code",
   "execution_count": null,
   "id": "a79407ea",
   "metadata": {},
   "outputs": [],
   "source": [
    "f = lambda a: [2*a,2*a+1]\n",
    "C = RecursivelyEnumeratedSet([1], f, structure='forest')\n",
    "C"
   ]
  },
  {
   "cell_type": "code",
   "execution_count": null,
   "id": "199a75ba",
   "metadata": {},
   "outputs": [],
   "source": [
    "it = C.depth_first_search_iterator()\n",
    "[next(it) for _ in range(7)]"
   ]
  },
  {
   "cell_type": "code",
   "execution_count": null,
   "id": "c2504370",
   "metadata": {},
   "outputs": [],
   "source": [
    "it = C.breadth_first_search_iterator()\n",
    "[next(it) for _ in range(7)]"
   ]
  },
  {
   "cell_type": "code",
   "execution_count": null,
   "id": "a794dcce",
   "metadata": {},
   "outputs": [],
   "source": [
    "C = RecursivelyEnumeratedSet([1], f)"
   ]
  },
  {
   "cell_type": "code",
   "execution_count": null,
   "id": "3e1b4069",
   "metadata": {},
   "outputs": [],
   "source": [
    "G = C.to_digraph(max_depth=4)\n",
    "G"
   ]
  },
  {
   "cell_type": "code",
   "execution_count": null,
   "id": "3af3acb3",
   "metadata": {},
   "outputs": [],
   "source": [
    "G.plot()"
   ]
  },
  {
   "cell_type": "code",
   "execution_count": null,
   "id": "3d8477e6",
   "metadata": {},
   "outputs": [],
   "source": [
    "TikzPicture.from_graph(G)"
   ]
  },
  {
   "cell_type": "markdown",
   "id": "75041e5c",
   "metadata": {},
   "source": [
    "# Parallel computations using RecursivelyEnumeratedSet and Map-Reduce\n",
    "\n",
    "When `structure='forest'`\n",
    "\n",
    "https://doc.sagemath.org/html/en/reference/parallel/sage/parallel/map_reduce.html"
   ]
  },
  {
   "cell_type": "markdown",
   "id": "2a810aca",
   "metadata": {},
   "source": [
    "Counting the number of elements. In this situation, the map function can be set to `lambda x: 1`, and the reduce function just adds the values together, i.e. `lambda x, y: x + y`.\n",
    "\n",
    "We count binary words of length <= 16:"
   ]
  },
  {
   "cell_type": "code",
   "execution_count": null,
   "id": "8ae0d0e4",
   "metadata": {},
   "outputs": [],
   "source": [
    "seeds = [[]]\n",
    "succ = lambda l: [l + [0], l + [1]] if len(l) < 16 else []\n",
    "S = RecursivelyEnumeratedSet(seeds, succ,\n",
    "    structure='forest', enumeration='depth')\n",
    "map_function = lambda x: 1\n",
    "reduce_function = lambda x, y: x + y\n",
    "reduce_init = 0\n",
    "S.map_reduce(map_function, reduce_function, reduce_init)"
   ]
  },
  {
   "cell_type": "code",
   "execution_count": null,
   "id": "87db7c33",
   "metadata": {},
   "outputs": [],
   "source": [
    "2^17"
   ]
  },
  {
   "cell_type": "code",
   "execution_count": null,
   "id": "2caa3c6d",
   "metadata": {},
   "outputs": [],
   "source": []
  }
 ],
 "metadata": {
  "celltoolbar": "Diaporama",
  "kernelspec": {
   "display_name": "SageMath 9.8.beta1",
   "language": "sage",
   "name": "sagemath"
  },
  "language_info": {
   "codemirror_mode": {
    "name": "ipython",
    "version": 3
   },
   "file_extension": ".py",
   "mimetype": "text/x-python",
   "name": "python",
   "nbconvert_exporter": "python",
   "pygments_lexer": "ipython3",
   "version": "3.8.10"
  }
 },
 "nbformat": 4,
 "nbformat_minor": 5
}
