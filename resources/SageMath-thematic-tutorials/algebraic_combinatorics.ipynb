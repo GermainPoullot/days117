{
 "cells": [
  {
   "cell_type": "markdown",
   "id": "b6b7c983",
   "metadata": {},
   "source": [
    "$$\n",
    "\\def\\CC{\\bf C}\n",
    "\\def\\QQ{\\bf Q}\n",
    "\\def\\RR{\\bf R}\n",
    "\\def\\ZZ{\\bf Z}\n",
    "\\def\\NN{\\bf N}\n",
    "$$\n",
    "# Algebraic Combinatorics in Sage\n",
    "\n",
    "Anne Schilling (UC Davis)\n",
    "\n",
    "These notes provide some Sage examples for Stanley's book:\n",
    "\n",
    "A free pdf version of the book without exercises can be found on\n",
    "[Stanley's homepage](http://www-math.mit.edu/~rstan/algcomb/index.html).\n",
    "\n",
    "Preparation of this document was supported in part by NSF grants\n",
    "DMS--1001256 and OCI–1147247.\n",
    "\n",
    "I would like to thank Federico Castillo (who wrote a first version of\n",
    "the $n$-cube section) and Nicolas M. Thiery (who wrote a slightly\n",
    "different French version of the Tsetlin library section) for their help.\n",
    "\n",
    "algebraic\\_combinatorics/walks algebraic\\_combinatorics/n\\_cube\n",
    "algebraic\\_combinatorics/tsetlin\\_library\n",
    "algebraic\\_combinatorics/rsk.rst\n",
    "\n",
    "<span id=\"Stanley2013\" class=\"citation-label\">Stanley2013</span>  \n",
    "Richard Stanley. *Algebraic Combinatorics: walks, trees, tableaux and\n",
    "more*, Springer, first edition, 2013."
   ]
  }
 ],
 "metadata": {},
 "nbformat": 4,
 "nbformat_minor": 5
}
