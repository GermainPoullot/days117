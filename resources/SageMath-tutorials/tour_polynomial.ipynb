{
 "cells": [
  {
   "cell_type": "markdown",
   "id": "f784111b",
   "metadata": {},
   "source": [
    "$$\n",
    "\\def\\CC{\\bf C}\n",
    "\\def\\QQ{\\bf Q}\n",
    "\\def\\RR{\\bf R}\n",
    "\\def\\ZZ{\\bf Z}\n",
    "\\def\\NN{\\bf N}\n",
    "$$\n",
    "# Polynomials\n",
    "\n",
    "In this section we illustrate how to create and use polynomials in Sage.\n",
    "\n",
    "## Univariate Polynomials\n",
    "\n",
    "There are three ways to create polynomial rings."
   ]
  },
  {
   "cell_type": "code",
   "execution_count": null,
   "id": "f3476e82",
   "metadata": {},
   "outputs": [
    {
     "data": {
      "text/plain": [
       "Univariate Polynomial Ring in t over Rational Field"
      ]
     },
     "execution_count": 1,
     "metadata": {},
     "output_type": "execute_result"
    }
   ],
   "source": [
    "R = PolynomialRing(QQ, 't')\n",
    "R"
   ]
  },
  {
   "cell_type": "markdown",
   "id": "c7253592",
   "metadata": {},
   "source": [
    "This creates a polynomial ring and tells Sage to use (the string) 't' as\n",
    "the indeterminate when printing to the screen. However, this does not\n",
    "define the symbol `t` for use in Sage, so you cannot use it to enter a\n",
    "polynomial (such as $t^2+1$) belonging to `R`.\n",
    "\n",
    "An alternate way is"
   ]
  },
  {
   "cell_type": "code",
   "execution_count": null,
   "id": "24282bb0",
   "metadata": {},
   "outputs": [
    {
     "data": {
      "text/plain": [
       "True"
      ]
     },
     "execution_count": 1,
     "metadata": {},
     "output_type": "execute_result"
    }
   ],
   "source": [
    "S = QQ['t']\n",
    "S == R"
   ]
  },
  {
   "cell_type": "markdown",
   "id": "1241856f",
   "metadata": {},
   "source": [
    "This has the same issue regarding `t`.\n",
    "\n",
    "A third very convenient way is"
   ]
  },
  {
   "cell_type": "code",
   "execution_count": null,
   "id": "42fdfa15",
   "metadata": {},
   "outputs": [],
   "source": [
    "R.<t> = PolynomialRing(QQ)"
   ]
  },
  {
   "cell_type": "markdown",
   "id": "edac7ca1",
   "metadata": {},
   "source": [
    "or"
   ]
  },
  {
   "cell_type": "code",
   "execution_count": null,
   "id": "889ebb0b",
   "metadata": {},
   "outputs": [],
   "source": [
    "R.<t> = QQ['t']"
   ]
  },
  {
   "cell_type": "markdown",
   "id": "ea70fff7",
   "metadata": {},
   "source": [
    "or even"
   ]
  },
  {
   "cell_type": "code",
   "execution_count": null,
   "id": "2b8e8873",
   "metadata": {},
   "outputs": [],
   "source": [
    "R.<t> = QQ[]"
   ]
  },
  {
   "cell_type": "markdown",
   "id": "5d1e8648",
   "metadata": {},
   "source": [
    "This has the additional side effect that it defines the variable `t` to\n",
    "be the indeterminate of the polynomial ring, so you can easily construct\n",
    "elements of `R`, as follows. (Note that the third way is very similar to\n",
    "the constructor notation in Magma, and just as in Magma it can be used\n",
    "for a wide range of objects.)"
   ]
  },
  {
   "cell_type": "code",
   "execution_count": null,
   "id": "80602536",
   "metadata": {},
   "outputs": [
    {
     "data": {
      "text/plain": [
       "t^2 + 3*t + 2"
      ]
     },
     "execution_count": 1,
     "metadata": {},
     "output_type": "execute_result"
    }
   ],
   "source": [
    "poly = (t+1) * (t+2); poly"
   ]
  },
  {
   "cell_type": "code",
   "execution_count": null,
   "id": "f5012487",
   "metadata": {},
   "outputs": [
    {
     "data": {
      "text/plain": [
       "True"
      ]
     },
     "execution_count": 1,
     "metadata": {},
     "output_type": "execute_result"
    }
   ],
   "source": [
    "poly in R"
   ]
  },
  {
   "cell_type": "markdown",
   "id": "e4fb433a",
   "metadata": {},
   "source": [
    "Whatever method you use to define a polynomial ring, you can recover the\n",
    "indeterminate as the $0^{th}$ generator:"
   ]
  },
  {
   "cell_type": "code",
   "execution_count": null,
   "id": "d0b4ce65",
   "metadata": {},
   "outputs": [
    {
     "data": {
      "text/plain": [
       "True"
      ]
     },
     "execution_count": 1,
     "metadata": {},
     "output_type": "execute_result"
    }
   ],
   "source": [
    "R = PolynomialRing(QQ, 't')\n",
    "t = R.0\n",
    "t in R"
   ]
  },
  {
   "cell_type": "markdown",
   "id": "af95e963",
   "metadata": {},
   "source": [
    "Note that a similar construction works with the complex numbers: the\n",
    "complex numbers can be viewed as being generated over the real numbers\n",
    "by the symbol `i`; thus we have the following:"
   ]
  },
  {
   "cell_type": "code",
   "execution_count": null,
   "id": "a4207454",
   "metadata": {},
   "outputs": [
    {
     "data": {
      "text/plain": [
       "Complex Field with 53 bits of precision"
      ]
     },
     "execution_count": 1,
     "metadata": {},
     "output_type": "execute_result"
    }
   ],
   "source": [
    "CC"
   ]
  },
  {
   "cell_type": "code",
   "execution_count": null,
   "id": "637edc27",
   "metadata": {},
   "outputs": [
    {
     "data": {
      "text/plain": [
       "1.00000000000000*I"
      ]
     },
     "execution_count": 1,
     "metadata": {},
     "output_type": "execute_result"
    }
   ],
   "source": [
    "CC.0  # 0th generator of CC"
   ]
  },
  {
   "cell_type": "markdown",
   "id": "ad2324c5",
   "metadata": {},
   "source": [
    "For polynomial rings, you can obtain both the ring and its generator, or\n",
    "just the generator, during ring creation as follows:"
   ]
  },
  {
   "cell_type": "code",
   "execution_count": null,
   "id": "945ee100",
   "metadata": {},
   "outputs": [],
   "source": [
    "R, t = QQ['t'].objgen()\n",
    "t    = QQ['t'].gen()\n",
    "R, t = objgen(QQ['t'])\n",
    "t    = gen(QQ['t'])"
   ]
  },
  {
   "cell_type": "markdown",
   "id": "2ea1a166",
   "metadata": {},
   "source": [
    "Finally we do some arithmetic in $\\QQ[t]$."
   ]
  },
  {
   "cell_type": "code",
   "execution_count": null,
   "id": "5e500802",
   "metadata": {},
   "outputs": [
    {
     "data": {
      "text/plain": [
       "4*t^14 + 12*t^9 - 60/19*t^7 + 9*t^4 - 90/19*t^2 + 225/361"
      ]
     },
     "execution_count": 1,
     "metadata": {},
     "output_type": "execute_result"
    }
   ],
   "source": [
    "R, t = QQ['t'].objgen()\n",
    "f = 2*t^7 + 3*t^2 - 15/19\n",
    "f^2"
   ]
  },
  {
   "cell_type": "code",
   "execution_count": null,
   "id": "07a2f655",
   "metadata": {},
   "outputs": [
    {
     "data": {
      "text/plain": [
       "t^6 + t^5 + t^4 + t^3 + t^2 + t + 1"
      ]
     },
     "execution_count": 1,
     "metadata": {},
     "output_type": "execute_result"
    }
   ],
   "source": [
    "cyclo = R.cyclotomic_polynomial(7); cyclo"
   ]
  },
  {
   "cell_type": "code",
   "execution_count": null,
   "id": "84663e13",
   "metadata": {},
   "outputs": [
    {
     "data": {
      "text/plain": [
       "7*t^16 + 7*t^15 + 7*t^14 + 7*t^13 + 77*t^12 + 91*t^11 + 91*t^10 + 84*t^9\n",
       "       + 84*t^8 + 84*t^7 + 84*t^6 + 14*t^5"
      ]
     },
     "execution_count": 1,
     "metadata": {},
     "output_type": "execute_result"
    }
   ],
   "source": [
    "g = 7 * cyclo * t^5 * (t^5 + 10*t + 2)\n",
    "g"
   ]
  },
  {
   "cell_type": "code",
   "execution_count": null,
   "id": "1961ded3",
   "metadata": {},
   "outputs": [
    {
     "data": {
      "text/plain": [
       "(7) * t^5 * (t^5 + 10*t + 2) * (t^6 + t^5 + t^4 + t^3 + t^2 + t + 1)"
      ]
     },
     "execution_count": 1,
     "metadata": {},
     "output_type": "execute_result"
    }
   ],
   "source": [
    "F = factor(g); F"
   ]
  },
  {
   "cell_type": "code",
   "execution_count": null,
   "id": "adf9fbe9",
   "metadata": {},
   "outputs": [
    {
     "data": {
      "text/plain": [
       "7"
      ]
     },
     "execution_count": 1,
     "metadata": {},
     "output_type": "execute_result"
    }
   ],
   "source": [
    "F.unit()"
   ]
  },
  {
   "cell_type": "code",
   "execution_count": null,
   "id": "30447acb",
   "metadata": {},
   "outputs": [
    {
     "data": {
      "text/plain": [
       "[(t, 5), (t^5 + 10*t + 2, 1), (t^6 + t^5 + t^4 + t^3 + t^2 + t + 1, 1)]"
      ]
     },
     "execution_count": 1,
     "metadata": {},
     "output_type": "execute_result"
    }
   ],
   "source": [
    "list(F)"
   ]
  },
  {
   "cell_type": "markdown",
   "id": "0374e6d2",
   "metadata": {},
   "source": [
    "Notice that the factorization correctly takes into account and records\n",
    "the unit part.\n",
    "\n",
    "If you were to use, e.g., the `R.cyclotomic_polynomial` function a lot\n",
    "for some research project, in addition to citing Sage you should make an\n",
    "attempt to find out what component of Sage is being used to actually\n",
    "compute the cyclotomic polynomial and cite that as well. In this case,\n",
    "if you type `R.cyclotomic_polynomial??` to see the source code, you'll\n",
    "quickly see a line `f = pari.polcyclo(n)` which means that PARI is being\n",
    "used for computation of the cyclotomic polynomial. Cite PARI in your\n",
    "work as well.\n",
    "\n",
    "Dividing two polynomials constructs an element of the fraction field\n",
    "(which Sage creates automatically)."
   ]
  },
  {
   "cell_type": "code",
   "execution_count": null,
   "id": "c7b53636",
   "metadata": {},
   "outputs": [
    {
     "data": {
      "text/plain": [
       "(x^3 + 1)/(x^2 - 17)"
      ]
     },
     "execution_count": 1,
     "metadata": {},
     "output_type": "execute_result"
    }
   ],
   "source": [
    "x = QQ['x'].0\n",
    "f = x^3 + 1; g = x^2 - 17\n",
    "h = f/g;  h"
   ]
  },
  {
   "cell_type": "code",
   "execution_count": null,
   "id": "c445afe2",
   "metadata": {},
   "outputs": [
    {
     "data": {
      "text/plain": [
       "Fraction Field of Univariate Polynomial Ring in x over Rational Field"
      ]
     },
     "execution_count": 1,
     "metadata": {},
     "output_type": "execute_result"
    }
   ],
   "source": [
    "h.parent()"
   ]
  },
  {
   "cell_type": "markdown",
   "id": "1a4ffaed",
   "metadata": {},
   "source": [
    "Using Laurent series, one can compute series expansions in the fraction\n",
    "field of `QQ[x]` :"
   ]
  },
  {
   "cell_type": "code",
   "execution_count": null,
   "id": "e6fad5f2",
   "metadata": {},
   "outputs": [
    {
     "data": {
      "text/plain": [
       "Laurent Series Ring in x over Rational Field"
      ]
     },
     "execution_count": 1,
     "metadata": {},
     "output_type": "execute_result"
    }
   ],
   "source": [
    "R.<x> = LaurentSeriesRing(QQ); R"
   ]
  },
  {
   "cell_type": "code",
   "execution_count": null,
   "id": "1a6c5cac",
   "metadata": {},
   "outputs": [
    {
     "data": {
      "text/plain": [
       "1 + x + x^2 + x^3 + x^4 + x^5 + x^6 + x^7 + x^8 + x^9 + O(x^10)"
      ]
     },
     "execution_count": 1,
     "metadata": {},
     "output_type": "execute_result"
    }
   ],
   "source": [
    "1/(1-x) + O(x^10)"
   ]
  },
  {
   "cell_type": "markdown",
   "id": "0dc48f2c",
   "metadata": {},
   "source": [
    "If we name the variable differently, we obtain a different univariate\n",
    "polynomial ring."
   ]
  },
  {
   "cell_type": "code",
   "execution_count": null,
   "id": "6365d88b",
   "metadata": {},
   "outputs": [
    {
     "data": {
      "text/plain": [
       "False"
      ]
     },
     "execution_count": 1,
     "metadata": {},
     "output_type": "execute_result"
    }
   ],
   "source": [
    "R.<x> = PolynomialRing(QQ)\n",
    "S.<y> = PolynomialRing(QQ)\n",
    "x == y"
   ]
  },
  {
   "cell_type": "code",
   "execution_count": null,
   "id": "699d28ca",
   "metadata": {},
   "outputs": [
    {
     "data": {
      "text/plain": [
       "False"
      ]
     },
     "execution_count": 1,
     "metadata": {},
     "output_type": "execute_result"
    }
   ],
   "source": [
    "R == S"
   ]
  },
  {
   "cell_type": "code",
   "execution_count": null,
   "id": "0a2cc3bf",
   "metadata": {},
   "outputs": [
    {
     "data": {
      "text/plain": [
       "x"
      ]
     },
     "execution_count": 1,
     "metadata": {},
     "output_type": "execute_result"
    }
   ],
   "source": [
    "R(y)"
   ]
  },
  {
   "cell_type": "code",
   "execution_count": null,
   "id": "19f79bdc",
   "metadata": {},
   "outputs": [
    {
     "data": {
      "text/plain": [
       "x^2 - 17"
      ]
     },
     "execution_count": 1,
     "metadata": {},
     "output_type": "execute_result"
    }
   ],
   "source": [
    "R(y^2 - 17)"
   ]
  },
  {
   "cell_type": "markdown",
   "id": "450b6db9",
   "metadata": {},
   "source": [
    "The ring is determined by the variable. Note that making another ring\n",
    "with variable called `x` does not return a different ring."
   ]
  },
  {
   "cell_type": "code",
   "execution_count": null,
   "id": "3ecdfc92",
   "metadata": {},
   "outputs": [
    {
     "data": {
      "text/plain": [
       "True"
      ]
     },
     "execution_count": 1,
     "metadata": {},
     "output_type": "execute_result"
    }
   ],
   "source": [
    "R = PolynomialRing(QQ, \"x\")\n",
    "T = PolynomialRing(QQ, \"x\")\n",
    "R == T"
   ]
  },
  {
   "cell_type": "code",
   "execution_count": null,
   "id": "d30e2d92",
   "metadata": {},
   "outputs": [
    {
     "data": {
      "text/plain": [
       "True"
      ]
     },
     "execution_count": 1,
     "metadata": {},
     "output_type": "execute_result"
    }
   ],
   "source": [
    "R is T"
   ]
  },
  {
   "cell_type": "code",
   "execution_count": null,
   "id": "d93ad842",
   "metadata": {},
   "outputs": [
    {
     "data": {
      "text/plain": [
       "True"
      ]
     },
     "execution_count": 1,
     "metadata": {},
     "output_type": "execute_result"
    }
   ],
   "source": [
    "R.0 == T.0"
   ]
  },
  {
   "cell_type": "markdown",
   "id": "26017def",
   "metadata": {},
   "source": [
    "Sage also has support for power series and Laurent series rings over any\n",
    "base ring. In the following example, we create an element of\n",
    "$\\GF{7}[[T]]$ and divide to create an element of $\\GF{7}((T))$."
   ]
  },
  {
   "cell_type": "code",
   "execution_count": null,
   "id": "be3bcc10",
   "metadata": {},
   "outputs": [
    {
     "data": {
      "text/plain": [
       "Power Series Ring in T over Finite Field of size 7"
      ]
     },
     "execution_count": 1,
     "metadata": {},
     "output_type": "execute_result"
    }
   ],
   "source": [
    "R.<T> = PowerSeriesRing(GF(7)); R"
   ]
  },
  {
   "cell_type": "code",
   "execution_count": null,
   "id": "5f216caf",
   "metadata": {},
   "outputs": [
    {
     "data": {
      "text/plain": [
       "T^3 + 2*T^4 + 2*T^5 + O(T^6)"
      ]
     },
     "execution_count": 1,
     "metadata": {},
     "output_type": "execute_result"
    }
   ],
   "source": [
    "f = T  + 3*T^2 + T^3 + O(T^4)\n",
    "f^3"
   ]
  },
  {
   "cell_type": "code",
   "execution_count": null,
   "id": "7e8ffb0d",
   "metadata": {},
   "outputs": [
    {
     "data": {
      "text/plain": [
       "T^-1 + 4 + T + O(T^2)"
      ]
     },
     "execution_count": 1,
     "metadata": {},
     "output_type": "execute_result"
    }
   ],
   "source": [
    "1/f"
   ]
  },
  {
   "cell_type": "code",
   "execution_count": null,
   "id": "f63f8678",
   "metadata": {},
   "outputs": [
    {
     "data": {
      "text/plain": [
       "Laurent Series Ring in T over Finite Field of size 7"
      ]
     },
     "execution_count": 1,
     "metadata": {},
     "output_type": "execute_result"
    }
   ],
   "source": [
    "parent(1/f)"
   ]
  },
  {
   "cell_type": "markdown",
   "id": "4a2a8a59",
   "metadata": {},
   "source": [
    "You can also create power series rings using a double-brackets\n",
    "shorthand:"
   ]
  },
  {
   "cell_type": "code",
   "execution_count": null,
   "id": "525bcffa",
   "metadata": {},
   "outputs": [
    {
     "data": {
      "text/plain": [
       "Power Series Ring in T over Finite Field of size 7"
      ]
     },
     "execution_count": 1,
     "metadata": {},
     "output_type": "execute_result"
    }
   ],
   "source": [
    "GF(7)[['T']]"
   ]
  },
  {
   "cell_type": "markdown",
   "id": "97a312ba",
   "metadata": {},
   "source": [
    "## Multivariate Polynomials\n",
    "\n",
    "To work with polynomials of several variables, we declare the polynomial\n",
    "ring and variables first."
   ]
  },
  {
   "cell_type": "code",
   "execution_count": null,
   "id": "9b243b85",
   "metadata": {},
   "outputs": [
    {
     "data": {
      "text/plain": [
       "Multivariate Polynomial Ring in z0, z1, z2 over Finite Field of size 5"
      ]
     },
     "execution_count": 1,
     "metadata": {},
     "output_type": "execute_result"
    }
   ],
   "source": [
    "R = PolynomialRing(GF(5),3,\"z\") # here, 3 = number of variables\n",
    "R"
   ]
  },
  {
   "cell_type": "markdown",
   "id": "3d75f61e",
   "metadata": {},
   "source": [
    "Just as for defining univariate polynomial rings, there are alternative\n",
    "ways:"
   ]
  },
  {
   "cell_type": "code",
   "execution_count": null,
   "id": "5d4820f2",
   "metadata": {},
   "outputs": [
    {
     "data": {
      "text/plain": [
       "Multivariate Polynomial Ring in z0, z1, z2 over Finite Field of size 5"
      ]
     },
     "execution_count": 1,
     "metadata": {},
     "output_type": "execute_result"
    }
   ],
   "source": [
    "GF(5)['z0, z1, z2']"
   ]
  },
  {
   "cell_type": "code",
   "execution_count": null,
   "id": "9233b16f",
   "metadata": {},
   "outputs": [
    {
     "data": {
      "text/plain": [
       "Multivariate Polynomial Ring in z0, z1, z2 over Finite Field of size 5"
      ]
     },
     "execution_count": 1,
     "metadata": {},
     "output_type": "execute_result"
    }
   ],
   "source": [
    "R.<z0,z1,z2> = GF(5)[]; R"
   ]
  },
  {
   "cell_type": "markdown",
   "id": "97e004de",
   "metadata": {},
   "source": [
    "Also, if you want the variable names to be single letters then you can\n",
    "use the following shorthand:"
   ]
  },
  {
   "cell_type": "code",
   "execution_count": null,
   "id": "57288fde",
   "metadata": {},
   "outputs": [
    {
     "data": {
      "text/plain": [
       "Multivariate Polynomial Ring in x, y, z over Finite Field of size 5"
      ]
     },
     "execution_count": 1,
     "metadata": {},
     "output_type": "execute_result"
    }
   ],
   "source": [
    "PolynomialRing(GF(5), 3, 'xyz')"
   ]
  },
  {
   "cell_type": "markdown",
   "id": "64148691",
   "metadata": {},
   "source": [
    "Next let's do some arithmetic."
   ]
  },
  {
   "cell_type": "code",
   "execution_count": null,
   "id": "f2f043fd",
   "metadata": {},
   "outputs": [
    {
     "data": {
      "text/plain": [
       "(z0, z1, z2)"
      ]
     },
     "execution_count": 1,
     "metadata": {},
     "output_type": "execute_result"
    }
   ],
   "source": [
    "z = GF(5)['z0, z1, z2'].gens()\n",
    "z"
   ]
  },
  {
   "cell_type": "code",
   "execution_count": null,
   "id": "522336ef",
   "metadata": {},
   "outputs": [
    {
     "data": {
      "text/plain": [
       "z0^2 + 2*z0*z1 + z1^2 + 2*z0*z2 + 2*z1*z2 + z2^2"
      ]
     },
     "execution_count": 1,
     "metadata": {},
     "output_type": "execute_result"
    }
   ],
   "source": [
    "(z[0]+z[1]+z[2])^2"
   ]
  },
  {
   "cell_type": "markdown",
   "id": "217bcb1b",
   "metadata": {},
   "source": [
    "You can also use more mathematical notation to construct a polynomial\n",
    "ring."
   ]
  },
  {
   "cell_type": "code",
   "execution_count": null,
   "id": "072c7e8c",
   "metadata": {},
   "outputs": [
    {
     "data": {
      "text/plain": [
       "Univariate Polynomial Ring in x over Rational Field"
      ]
     },
     "execution_count": 1,
     "metadata": {},
     "output_type": "execute_result"
    }
   ],
   "source": [
    "R = GF(5)['x,y,z']\n",
    "x,y,z = R.gens()\n",
    "QQ['x']"
   ]
  },
  {
   "cell_type": "code",
   "execution_count": null,
   "id": "cad2c620",
   "metadata": {},
   "outputs": [
    {
     "data": {
      "text/plain": [
       "(x, y)"
      ]
     },
     "execution_count": 1,
     "metadata": {},
     "output_type": "execute_result"
    }
   ],
   "source": [
    "QQ['x,y'].gens()"
   ]
  },
  {
   "cell_type": "code",
   "execution_count": null,
   "id": "582d6dcc",
   "metadata": {},
   "outputs": [
    {
     "data": {
      "text/plain": [
       "(Univariate Polynomial Ring in x over Rational Field, (x,))"
      ]
     },
     "execution_count": 1,
     "metadata": {},
     "output_type": "execute_result"
    }
   ],
   "source": [
    "QQ['x'].objgens()"
   ]
  },
  {
   "cell_type": "markdown",
   "id": "c3203ffe",
   "metadata": {},
   "source": [
    "Multivariate polynomials are implemented in Sage using Python\n",
    "dictionaries and the \"distributive representation\" of a polynomial. Sage\n",
    "makes some use of Singular [\\[Si\\]](), e.g., for computation of gcd's\n",
    "and Gröbner basis of ideals."
   ]
  },
  {
   "cell_type": "code",
   "execution_count": null,
   "id": "a960f9e9",
   "metadata": {},
   "outputs": [
    {
     "data": {
      "text/plain": [
       "x^2"
      ]
     },
     "execution_count": 1,
     "metadata": {},
     "output_type": "execute_result"
    }
   ],
   "source": [
    "R, (x, y) = PolynomialRing(RationalField(), 2, 'xy').objgens()\n",
    "f = (x^3 + 2*y^2*x)^2\n",
    "g = x^2*y^2\n",
    "f.gcd(g)"
   ]
  },
  {
   "cell_type": "markdown",
   "id": "6142c0b7",
   "metadata": {},
   "source": [
    "Next we create the ideal $(f,g)$ generated by $f$ and $g$, by simply\n",
    "multiplying `(f,g)` by `R` (we could also write `ideal([f,g])` or\n",
    "`ideal(f,g)`)."
   ]
  },
  {
   "cell_type": "code",
   "execution_count": null,
   "id": "105b6b12",
   "metadata": {},
   "outputs": [
    {
     "data": {
      "text/plain": [
       "Ideal (x^6 + 4*x^4*y^2 + 4*x^2*y^4, x^2*y^2) of Multivariate Polynomial\n",
       "Ring in x, y over Rational Field"
      ]
     },
     "execution_count": 1,
     "metadata": {},
     "output_type": "execute_result"
    }
   ],
   "source": [
    "I = (f, g)*R; I"
   ]
  },
  {
   "cell_type": "code",
   "execution_count": null,
   "id": "2d445f2c",
   "metadata": {},
   "outputs": [
    {
     "data": {
      "text/plain": [
       "[x^6, x^2*y^2]"
      ]
     },
     "execution_count": 1,
     "metadata": {},
     "output_type": "execute_result"
    }
   ],
   "source": [
    "B = I.groebner_basis(); B"
   ]
  },
  {
   "cell_type": "code",
   "execution_count": null,
   "id": "aff7616c",
   "metadata": {},
   "outputs": [
    {
     "data": {
      "text/plain": [
       "False"
      ]
     },
     "execution_count": 1,
     "metadata": {},
     "output_type": "execute_result"
    }
   ],
   "source": [
    "x^2 in I"
   ]
  },
  {
   "cell_type": "markdown",
   "id": "1911b08f",
   "metadata": {},
   "source": [
    "Incidentally, the Gröbner basis above is not a list but an immutable\n",
    "sequence. This means that it has a universe, parent, and cannot be\n",
    "changed (which is good because changing the basis would break other\n",
    "routines that use the Gröbner basis)."
   ]
  },
  {
   "cell_type": "code",
   "execution_count": null,
   "id": "4aca733c",
   "metadata": {},
   "outputs": [
    {
     "data": {
      "text/plain": [
       "Multivariate Polynomial Ring in x, y over Rational Field"
      ]
     },
     "execution_count": 1,
     "metadata": {},
     "output_type": "execute_result"
    }
   ],
   "source": [
    "B.universe()"
   ]
  },
  {
   "cell_type": "code",
   "execution_count": null,
   "id": "e28930eb",
   "metadata": {},
   "outputs": [
    {
     "data": {
      "text/plain": [
       "Traceback (most recent call last):\n",
       "...\n",
       "ValueError: object is immutable; please change a copy instead."
      ]
     },
     "execution_count": 1,
     "metadata": {},
     "output_type": "execute_result"
    }
   ],
   "source": [
    "B[1] = x"
   ]
  },
  {
   "cell_type": "markdown",
   "id": "0af59adf",
   "metadata": {},
   "source": [
    "Some (read: not as much as we would like) commutative algebra is\n",
    "available in Sage, implemented via Singular. For example, we can compute\n",
    "the primary decomposition and associated primes of $I$ :"
   ]
  },
  {
   "cell_type": "code",
   "execution_count": null,
   "id": "de2a1830",
   "metadata": {},
   "outputs": [
    {
     "data": {
      "text/plain": [
       "[Ideal (x^2) of Multivariate Polynomial Ring in x, y over Rational Field,\n",
       " Ideal (y^2, x^6) of Multivariate Polynomial Ring in x, y over Rational Field]"
      ]
     },
     "execution_count": 1,
     "metadata": {},
     "output_type": "execute_result"
    }
   ],
   "source": [
    "I.primary_decomposition()"
   ]
  },
  {
   "cell_type": "code",
   "execution_count": null,
   "id": "e919903e",
   "metadata": {},
   "outputs": [
    {
     "data": {
      "text/plain": [
       "[Ideal (x) of Multivariate Polynomial Ring in x, y over Rational Field,\n",
       " Ideal (y, x) of Multivariate Polynomial Ring in x, y over Rational Field]"
      ]
     },
     "execution_count": 1,
     "metadata": {},
     "output_type": "execute_result"
    }
   ],
   "source": [
    "I.associated_primes()"
   ]
  }
 ],
 "metadata": {},
 "nbformat": 4,
 "nbformat_minor": 5
}
