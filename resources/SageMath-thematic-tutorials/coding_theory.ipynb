{
 "cells": [
  {
   "cell_type": "markdown",
   "id": "983344b2",
   "metadata": {},
   "source": [
    "$$\n",
    "\\def\\CC{\\bf C}\n",
    "\\def\\QQ{\\bf Q}\n",
    "\\def\\RR{\\bf R}\n",
    "\\def\\ZZ{\\bf Z}\n",
    "\\def\\NN{\\bf N}\n",
    "$$\n",
    "# Coding Theory in Sage\n",
    "\n",
    "David Joyner and Robert Miller (2008), edited by Ralf Stephan for the\n",
    "initial version. David Lucas (2016) for this version. Marketa Slukova\n",
    "(2019) for the latest version.\n",
    "\n",
    "This tutorial, designed for beginners who want to discover how to use\n",
    "Sage for their work (research, experimentation, teaching) on coding\n",
    "theory, will present several key features of Sage's coding theory\n",
    "library and explain how to find classes and methods you look for.\n",
    "\n",
    "During this tutorial, we will cover the following parts:\n",
    "\n",
    "-   what can you do with **generic linear codes and associated\n",
    "    methods**,\n",
    "-   what can you do with **structured code families**,\n",
    "-   what can you do to **encode and recover messages, correct errors**\n",
    "    and\n",
    "-   what can you do to **easily add errors to codewords**,\n",
    "-   what can you do with **codes in general**.\n",
    "\n",
    "The goal of this tutorial is to give a quick overview of what can be\n",
    "done with the library and how to use the main functionalities. It is\n",
    "neither a comprehensive description of all methods nor of specific\n",
    "classes. If one needs some specific information on the behaviour of a\n",
    "class/method related to coding theory, one should check the\n",
    "documentation for this class/method.\n",
    "\n",
    "Table of contents\n",
    "\n",
    "## I. Generic Linear codes and associated methods\n",
    "\n",
    "Let us start with the most basic code one can build: a generic linear\n",
    "code without any specific structure.\n",
    "\n",
    "To build such a code, one just need to provide its generator matrix, as\n",
    "follows:"
   ]
  },
  {
   "cell_type": "code",
   "execution_count": null,
   "id": "77aa2ab1",
   "metadata": {},
   "outputs": [],
   "source": [
    "G = matrix(GF(3), [[1, 0, 0, 0, 1, 2, 1],\n",
    "                   [0, 1, 0, 0, 2, 1, 0],\n",
    "                   [0, 0, 1, 2, 2, 2, 2]])\n",
    "C = LinearCode(G)"
   ]
  },
  {
   "cell_type": "markdown",
   "id": "8a29a750",
   "metadata": {},
   "source": [
    "With these lines, you just created a linear code, congratulations! Note\n",
    "that if you pass a matrix which is not full rank, Sage will turn it into\n",
    "a full-rank matrix before building the code, as illustrated in the\n",
    "following example:"
   ]
  },
  {
   "cell_type": "code",
   "execution_count": null,
   "id": "2eb10579",
   "metadata": {},
   "outputs": [
    {
     "data": {
      "text/plain": [
       "[1 0 0 0 1 2 1]\n",
       "[0 1 0 0 2 1 0]\n",
       "[0 0 1 2 2 2 2]"
      ]
     },
     "execution_count": 1,
     "metadata": {},
     "output_type": "execute_result"
    }
   ],
   "source": [
    "G = matrix(GF(3), [[1, 0, 0, 0, 1, 2, 1],\n",
    "                   [0, 1, 0, 0, 2, 1, 0],\n",
    "                   [0, 0, 1, 2, 2, 2, 2],\n",
    "                   [1, 0, 1, 2, 0, 1, 0]]) #r3 = r0 + r2\n",
    "C = LinearCode(G)\n",
    "C.generator_matrix()"
   ]
  },
  {
   "cell_type": "markdown",
   "id": "1f641df4",
   "metadata": {},
   "source": [
    "We now have a linear code... What can we do with it? As we can a lot of\n",
    "things, let us start with the basic functionalities.\n",
    "\n",
    "In the example just above, we already asked for the code's generator\n",
    "matrix. It is also possible to ask the code for its basic parameters:\n",
    "its *length* and *dimension* as illustrated thereafter:"
   ]
  },
  {
   "cell_type": "code",
   "execution_count": null,
   "id": "0a38f48e",
   "metadata": {},
   "outputs": [
    {
     "data": {
      "text/plain": [
       "7"
      ]
     },
     "execution_count": 1,
     "metadata": {},
     "output_type": "execute_result"
    }
   ],
   "source": [
    "C.length()"
   ]
  },
  {
   "cell_type": "code",
   "execution_count": null,
   "id": "093bd7d0",
   "metadata": {},
   "outputs": [
    {
     "data": {
      "text/plain": [
       "3"
      ]
     },
     "execution_count": 1,
     "metadata": {},
     "output_type": "execute_result"
    }
   ],
   "source": [
    "C.dimension()"
   ]
  },
  {
   "cell_type": "markdown",
   "id": "682b1fdf",
   "metadata": {},
   "source": [
    "It is also possible to ask for our code's minimum distance:"
   ]
  },
  {
   "cell_type": "code",
   "execution_count": null,
   "id": "f6ead22c",
   "metadata": {},
   "outputs": [
    {
     "data": {
      "text/plain": [
       "3"
      ]
     },
     "execution_count": 1,
     "metadata": {},
     "output_type": "execute_result"
    }
   ],
   "source": [
    "C.minimum_distance()"
   ]
  },
  {
   "cell_type": "markdown",
   "id": "8fd03928",
   "metadata": {},
   "source": [
    "Of course, as `C` is a generic linear code, an exhaustive search\n",
    "algorithm is run to find the minimum distance, which will be slower and\n",
    "slower as the code grows.\n",
    "\n",
    "By just typing the name of our code, we get a sentence which briefly\n",
    "describes it and gives its parameters:"
   ]
  },
  {
   "cell_type": "code",
   "execution_count": null,
   "id": "de680fcd",
   "metadata": {},
   "outputs": [
    {
     "data": {
      "text/plain": [
       "[7, 3] linear code over GF(3)"
      ]
     },
     "execution_count": 1,
     "metadata": {},
     "output_type": "execute_result"
    }
   ],
   "source": [
    "C"
   ]
  },
  {
   "cell_type": "markdown",
   "id": "8677c2f7",
   "metadata": {},
   "source": [
    "As the aim of this tutorial is not to give a comprehensive view of the\n",
    "methods, we won't describe any other methods.\n",
    "\n",
    "If one wants to get all methods that can be run on a linear code, one\n",
    "can:\n",
    "\n",
    "-   either check the manual page of the file `sage.coding.linear_code`\n",
    "\n",
    "-   or type:"
   ]
  },
  {
   "cell_type": "code",
   "execution_count": null,
   "id": "6d88972a",
   "metadata": {},
   "outputs": [],
   "source": [
    "    C.<tab>"
   ]
  },
  {
   "cell_type": "markdown",
   "id": "1a29d0f8",
   "metadata": {},
   "source": [
    "\n",
    "    in Sage to get a list of all available methods for `C`. Afterwards,\n",
    "    typing:\n",
    "```{.python .input}\n",
    "    C.method?\n",
    "```\n",
    "\n",
    "    will show the manual page for `method`.\n"
   ]
  },
  {
   "cell_type": "markdown",
   "id": "409da022",
   "metadata": {},
   "source": [
    "Note\n",
    "\n",
    "Some generic methods require the installation of the optional package\n",
    "Guava for Gap. While some work is done to always propose a default\n",
    "implementation which *does not* require an optional package, there exist\n",
    "some methods which are not up to date - yet. If you're receiving an\n",
    "error message related to Gap, please check the documentation of the\n",
    "method to verify if Guava has to be installed.\n",
    "\n",
    "## II. Structured code families and an overview of the encoding and decoding system\n",
    "\n",
    "### II.1 Create specific codes in Sage\n",
    "\n",
    "Now that we know how to create generic codes, we want to go deeper and\n",
    "create specific code families. In Sage, all codes families can be\n",
    "accessed by typing:"
   ]
  },
  {
   "cell_type": "code",
   "execution_count": null,
   "id": "43dab237",
   "metadata": {},
   "outputs": [],
   "source": [
    "codes.<tab>"
   ]
  },
  {
   "cell_type": "markdown",
   "id": "6fe40f74",
   "metadata": {},
   "source": [
    "Doing so, you will get the comprehensive list of all code families Sage\n",
    "can build.\n",
    "\n",
    "For the rest of this section, we will illustrate specific\n",
    "functionalities of these code families by manipulating\n",
    "`sage.coding.grs_code.GeneralizedReedSolomonCode`.\n",
    "\n",
    "So, for starters, we want to create a Generalized Reed-Solomon (GRS)\n",
    "code.\n",
    "\n",
    "By clicking on the link provided above, or typing:"
   ]
  },
  {
   "cell_type": "code",
   "execution_count": null,
   "id": "2dd7640a",
   "metadata": {},
   "outputs": [],
   "source": [
    "codes.GeneralizedReedSolomonCode?"
   ]
  },
  {
   "cell_type": "markdown",
   "id": "4d90c172",
   "metadata": {},
   "source": [
    "one can access the documentation page for GRS codes, find a definition\n",
    "of these and learn what is needed to build one in Sage.\n",
    "\n",
    "Here we choose to build a \\[12, 6\\] GRS code over $\\GF{13}$. To do this,\n",
    "we need up to three elements:\n",
    "\n",
    "-   The **list of evaluation points**,\n",
    "-   the **dimension of the code**, and\n",
    "-   optionally, the **list of column multipliers**.\n",
    "\n",
    "We build our code as follows:"
   ]
  },
  {
   "cell_type": "code",
   "execution_count": null,
   "id": "af0634d5",
   "metadata": {},
   "outputs": [],
   "source": [
    "F = GF(13)\n",
    "length, dimension = 12, 6\n",
    "evaluation_pts = F.list()[:length]\n",
    "column_mults = F.list()[1:length+1]\n",
    "C = codes.GeneralizedReedSolomonCode(evaluation_pts, dimension, column_mults)"
   ]
  },
  {
   "cell_type": "markdown",
   "id": "56de0e00",
   "metadata": {},
   "source": [
    "Our GRS code is now created. We can ask for its parameters, as we did in\n",
    "the previous section:"
   ]
  },
  {
   "cell_type": "code",
   "execution_count": null,
   "id": "1f164852",
   "metadata": {},
   "outputs": [
    {
     "data": {
      "text/plain": [
       "12"
      ]
     },
     "execution_count": 1,
     "metadata": {},
     "output_type": "execute_result"
    }
   ],
   "source": [
    "C.length()"
   ]
  },
  {
   "cell_type": "code",
   "execution_count": null,
   "id": "fc86bd93",
   "metadata": {},
   "outputs": [
    {
     "data": {
      "text/plain": [
       "6"
      ]
     },
     "execution_count": 1,
     "metadata": {},
     "output_type": "execute_result"
    }
   ],
   "source": [
    "C.dimension()"
   ]
  },
  {
   "cell_type": "code",
   "execution_count": null,
   "id": "5b59a57c",
   "metadata": {},
   "outputs": [
    {
     "data": {
      "text/plain": [
       "Finite Field of size 13"
      ]
     },
     "execution_count": 1,
     "metadata": {},
     "output_type": "execute_result"
    }
   ],
   "source": [
    "C.base_ring()"
   ]
  },
  {
   "cell_type": "markdown",
   "id": "7abb45ae",
   "metadata": {},
   "source": [
    "It is also possible to ask for the evaluation points and the column\n",
    "multipliers by calling\n",
    "`sage.coding.grs_code.GeneralizedReedSolomonCode.evaluation_points` and\n",
    "`sage.coding.grs_code.GeneralizedReedSolomonCode.column_multipliers`.\n",
    "\n",
    "Now, if you know some theory for GRS codes, you know that it's\n",
    "especially easy to compute their minimum distance, which is:\n",
    "$d = n - k + 1$, where $n$ is the length of the code and $k$ is the\n",
    "dimension of the code.\n",
    "\n",
    "Because Sage knows `C` is a GRS code, it will not run the exhaustive\n",
    "search algorithm presented in section I to find `C`'s minimum distance\n",
    "but use the operation introduced above. And you instantly get:"
   ]
  },
  {
   "cell_type": "code",
   "execution_count": null,
   "id": "1918a7f8",
   "metadata": {},
   "outputs": [
    {
     "data": {
      "text/plain": [
       "7"
      ]
     },
     "execution_count": 1,
     "metadata": {},
     "output_type": "execute_result"
    }
   ],
   "source": [
    "C.minimum_distance()"
   ]
  },
  {
   "cell_type": "markdown",
   "id": "ed16583f",
   "metadata": {},
   "source": [
    "All these parameters are summarized inside the string representation of\n",
    "our code:"
   ]
  },
  {
   "cell_type": "code",
   "execution_count": null,
   "id": "4d7177d9",
   "metadata": {},
   "outputs": [
    {
     "data": {
      "text/plain": [
       "[12, 6, 7] Generalized Reed-Solomon Code over GF(13)"
      ]
     },
     "execution_count": 1,
     "metadata": {},
     "output_type": "execute_result"
    }
   ],
   "source": [
    "C"
   ]
  },
  {
   "cell_type": "markdown",
   "id": "6dd5f382",
   "metadata": {},
   "source": [
    "Note\n",
    "\n",
    "Writing proper classes for code families is a work in progress. Some\n",
    "constructions under `codes.<tab>` might thus be functions which build a\n",
    "generic linear code, and in that case are only able to use generic\n",
    "algorithms. Please refer to the documentation of a construction to check\n",
    "if it is a function or a class.\n",
    "\n",
    "### II.2 Encode and decode in Sage\n",
    "\n",
    "In the previous part, we learnt how to find specific code families in\n",
    "Sage and create instances of these families.\n",
    "\n",
    "In this part, we will learn how to encode and decode.\n",
    "\n",
    "First of all, we want to generate a codeword to play with. There is two\n",
    "different ways to do that:\n",
    "\n",
    "-   It is possible to just generate a random element of our code, as\n",
    "    follows:"
   ]
  },
  {
   "cell_type": "code",
   "execution_count": null,
   "id": "66d98f9b",
   "metadata": {},
   "outputs": [
    {
     "data": {
      "text/plain": [
       "True"
      ]
     },
     "execution_count": 1,
     "metadata": {},
     "output_type": "execute_result"
    }
   ],
   "source": [
    "    c = C.random_element()\n",
    "    c in C"
   ]
  },
  {
   "cell_type": "markdown",
   "id": "e1e0137b",
   "metadata": {},
   "source": [
    "-   Alternatively, we can create a message and then encode it into a\n",
    "    codeword:"
   ]
  },
  {
   "cell_type": "code",
   "execution_count": null,
   "id": "bf6b5801",
   "metadata": {},
   "outputs": [
    {
     "data": {
      "text/plain": [
       "True"
      ]
     },
     "execution_count": 1,
     "metadata": {},
     "output_type": "execute_result"
    }
   ],
   "source": [
    "    msg = random_vector(C.base_field(), C.dimension())\n",
    "    c = C.encode(msg)\n",
    "    c in C"
   ]
  },
  {
   "cell_type": "markdown",
   "id": "47e33a17",
   "metadata": {},
   "source": [
    "Either way, we obtained a codeword. So, we might want to put some errors\n",
    "in it, and try to correct these errors afterwards. We can obviously do\n",
    "it by changing the values at some random positions of our codeword, but\n",
    "we propose here something more general: communication channels.\n",
    "`sage.coding.channel.Channel` objects are meant as abstractions for\n",
    "communication channels and for manipulation of data representation. In\n",
    "this case, we want to emulate a communication channel which adds some,\n",
    "but not too many, errors to a transmitted word:"
   ]
  },
  {
   "cell_type": "code",
   "execution_count": null,
   "id": "72402ef3",
   "metadata": {},
   "outputs": [
    {
     "data": {
      "text/plain": [
       "Static error rate channel creating 3 errors, of input and output space Vector space of dimension 12 over Finite Field of size 13"
      ]
     },
     "execution_count": 1,
     "metadata": {},
     "output_type": "execute_result"
    }
   ],
   "source": [
    "err = 3\n",
    "Chan = channels.StaticErrorRateChannel(C.ambient_space(), err)\n",
    "Chan"
   ]
  },
  {
   "cell_type": "code",
   "execution_count": null,
   "id": "c4177ba6",
   "metadata": {},
   "outputs": [
    {
     "data": {
      "text/plain": [
       "3"
      ]
     },
     "execution_count": 1,
     "metadata": {},
     "output_type": "execute_result"
    }
   ],
   "source": [
    "r = Chan.transmit(c)\n",
    "len((c-r).nonzero_positions())"
   ]
  },
  {
   "cell_type": "markdown",
   "id": "150db0d8",
   "metadata": {},
   "source": [
    "If you want to learn more on Channels, please refer to section IV of\n",
    "this tutorial.\n",
    "\n",
    "Thanks to our channel, we got a \"received word\\`, `r`, as a codeword\n",
    "with errors on it. We can try to correct the errors and recover the\n",
    "original codeword:"
   ]
  },
  {
   "cell_type": "code",
   "execution_count": null,
   "id": "acfe2b7b",
   "metadata": {},
   "outputs": [
    {
     "data": {
      "text/plain": [
       "True"
      ]
     },
     "execution_count": 1,
     "metadata": {},
     "output_type": "execute_result"
    }
   ],
   "source": [
    "c_dec = C.decode_to_code(r)\n",
    "c_dec == c"
   ]
  },
  {
   "cell_type": "markdown",
   "id": "2e43a219",
   "metadata": {},
   "source": [
    "Perhaps we want the original *message* back rather than the codeword.\n",
    "All we have to do then is to *unencode* it back to the message space:"
   ]
  },
  {
   "cell_type": "code",
   "execution_count": null,
   "id": "ab28a0cc",
   "metadata": {},
   "outputs": [
    {
     "data": {
      "text/plain": [
       "True"
      ]
     },
     "execution_count": 1,
     "metadata": {},
     "output_type": "execute_result"
    }
   ],
   "source": [
    "m_unenc = C.unencode(c_dec)\n",
    "m_unenc == msg"
   ]
  },
  {
   "cell_type": "markdown",
   "id": "77249034",
   "metadata": {},
   "source": [
    "It is also possible to perform the two previous operations (correct the\n",
    "errors and recover the original message) in one line, as illustrated\n",
    "below:"
   ]
  },
  {
   "cell_type": "code",
   "execution_count": null,
   "id": "03a2656b",
   "metadata": {},
   "outputs": [
    {
     "data": {
      "text/plain": [
       "True"
      ]
     },
     "execution_count": 1,
     "metadata": {},
     "output_type": "execute_result"
    }
   ],
   "source": [
    "m_unenc2 = C.decode_to_message(r)\n",
    "m_unenc2 == msg"
   ]
  },
  {
   "cell_type": "markdown",
   "id": "da2267ce",
   "metadata": {},
   "source": [
    "## III. A deeper view of the Encoder and Decoder structure\n",
    "\n",
    "In the previous section, we saw that encoding, decoding and unencoding a\n",
    "vector can be easily done using methods directly on the code object.\n",
    "These methods are actually shortcuts, added for usability, for when one\n",
    "does not care more specifically about how encoding and decoding takes\n",
    "place. At some point, however, one might need more control.\n",
    "\n",
    "This section will thus go into details on the mechanism of Encoders and\n",
    "Decoders.\n",
    "\n",
    "At the core, the three mentioned operations are handled by\n",
    "`sage.coding.encoder.Encoder` and `sage.coding.decoder.Decoder`. These\n",
    "objects possess their own methods to operate on words. When one calls\n",
    "(as seen above):"
   ]
  },
  {
   "cell_type": "code",
   "execution_count": null,
   "id": "5194298e",
   "metadata": {},
   "outputs": [],
   "source": [
    "C.encode(msg)"
   ]
  },
  {
   "cell_type": "markdown",
   "id": "15b38eae",
   "metadata": {},
   "source": [
    "one actually calls the method `sage.coding.encoder.Encoder.encode` on\n",
    "the default encoder of `C`. Every code object possess a list of encoders\n",
    "and decoders it can use. Let us see how one can explore this:"
   ]
  },
  {
   "cell_type": "code",
   "execution_count": null,
   "id": "2b2f8179",
   "metadata": {},
   "outputs": [
    {
     "data": {
      "text/plain": [
       "['EvaluationPolynomial', 'EvaluationVector', 'Systematic']"
      ]
     },
     "execution_count": 1,
     "metadata": {},
     "output_type": "execute_result"
    }
   ],
   "source": [
    "C = codes.GeneralizedReedSolomonCode(GF(59).list()[:40], 12, GF(59).list()[1:41])\n",
    "C.encoders_available()"
   ]
  },
  {
   "cell_type": "code",
   "execution_count": null,
   "id": "788f78dd",
   "metadata": {},
   "outputs": [
    {
     "data": {
      "text/plain": [
       "['BerlekampWelch',\n",
       " 'ErrorErasure',\n",
       " 'Gao',\n",
       " 'GuruswamiSudan',\n",
       " 'InformationSet',\n",
       " 'KeyEquationSyndrome',\n",
       " 'NearestNeighbor',\n",
       " 'Syndrome']"
      ]
     },
     "execution_count": 1,
     "metadata": {},
     "output_type": "execute_result"
    }
   ],
   "source": [
    "C.decoders_available()"
   ]
  },
  {
   "cell_type": "markdown",
   "id": "9b14a1c6",
   "metadata": {},
   "source": [
    "We got a list of the available encoders and decoders for our GRS code.\n",
    "Rather than using the default ones as we did before, we can now ask for\n",
    "specific encoder and decoder:"
   ]
  },
  {
   "cell_type": "code",
   "execution_count": null,
   "id": "206506f9",
   "metadata": {},
   "outputs": [
    {
     "data": {
      "text/plain": [
       "Evaluation vector-style encoder for [40, 12, 29] Generalized Reed-Solomon Code over GF(59)"
      ]
     },
     "execution_count": 1,
     "metadata": {},
     "output_type": "execute_result"
    }
   ],
   "source": [
    "Evect = C.encoder(\"EvaluationVector\")\n",
    "Evect"
   ]
  },
  {
   "cell_type": "code",
   "execution_count": null,
   "id": "2e6a83b5",
   "metadata": {},
   "outputs": [
    {
     "data": {
      "text/plain": [
       "<class 'sage.coding.grs_code.GRSEvaluationVectorEncoder'>"
      ]
     },
     "execution_count": 1,
     "metadata": {},
     "output_type": "execute_result"
    }
   ],
   "source": [
    "type(Evect)"
   ]
  },
  {
   "cell_type": "code",
   "execution_count": null,
   "id": "0d351d96",
   "metadata": {},
   "outputs": [
    {
     "data": {
      "text/plain": [
       "Nearest neighbor decoder for [40, 12, 29] Generalized Reed-Solomon Code over GF(59)"
      ]
     },
     "execution_count": 1,
     "metadata": {},
     "output_type": "execute_result"
    }
   ],
   "source": [
    "msg = random_vector(GF(59), C.dimension()) #random\n",
    "c = Evect.encode(msg)\n",
    "NN = C.decoder(\"NearestNeighbor\")\n",
    "NN"
   ]
  },
  {
   "cell_type": "markdown",
   "id": "1120e11b",
   "metadata": {},
   "source": [
    "Calling:"
   ]
  },
  {
   "cell_type": "code",
   "execution_count": null,
   "id": "a3eb851e",
   "metadata": {},
   "outputs": [],
   "source": [
    "C.encoder(encoder_name)"
   ]
  },
  {
   "cell_type": "markdown",
   "id": "1680739c",
   "metadata": {},
   "source": [
    "is actually a short-hand for constructing the encoder manually, by\n",
    "calling the constructor for\n",
    "`sage.coding.grs_code.EncoderGRSEvaluationVector` yourself. If you don't\n",
    "supply `encoder_name` to\n",
    "`sage.coding.linear_code.AbstractLinearCode.encoder` you get the default\n",
    "encoder for the code.\n",
    "`sage.coding.linear_code.AbstractLinearCode.encoder` also has an\n",
    "important side-effect: **it caches the constructed encoder** before\n",
    "returning it. This means that each time one will access the same\n",
    "`EvaluationVector` encoder for `C`, which saves construction time.\n",
    "\n",
    "All the above things are similar for Decoders. This reinforces that\n",
    "Encoders and Decoders are rarely constructed but used many times, which\n",
    "allows them to perform expensive precomputation at construction or first\n",
    "use, for the benefit of future use.\n",
    "\n",
    "This gives a good idea of how the elements work internally. Let us now\n",
    "go a bit more into details on specific points.\n",
    "\n",
    "### III.1 Message spaces\n",
    "\n",
    "The point of an Encoder is to encode messages into the code. These\n",
    "messages are often just vectors over the base field of the code and\n",
    "whose length matches the code's dimension. But it could be anything:\n",
    "vectors over other fields, polynomials, or even something quite\n",
    "different. Therefore, each Encoder has a\n",
    "`sage.coding.encoder.Encoder.message_space`. For instance, we saw\n",
    "earlier that our GRS code has two possible encoders; let us investigate\n",
    "the one we left behind in the part just before:"
   ]
  },
  {
   "cell_type": "code",
   "execution_count": null,
   "id": "31d834c0",
   "metadata": {},
   "outputs": [
    {
     "data": {
      "text/plain": [
       "Evaluation polynomial-style encoder for [40, 12, 29] Generalized Reed-Solomon Code over GF(59)"
      ]
     },
     "execution_count": 1,
     "metadata": {},
     "output_type": "execute_result"
    }
   ],
   "source": [
    "Epoly = C.encoder(\"EvaluationPolynomial\")\n",
    "Epoly"
   ]
  },
  {
   "cell_type": "code",
   "execution_count": null,
   "id": "23b5ead5",
   "metadata": {},
   "outputs": [
    {
     "data": {
      "text/plain": [
       "Univariate Polynomial Ring in x over Finite Field of size 59"
      ]
     },
     "execution_count": 1,
     "metadata": {},
     "output_type": "execute_result"
    }
   ],
   "source": [
    "Epoly.message_space()"
   ]
  },
  {
   "cell_type": "code",
   "execution_count": null,
   "id": "cfcc88d3",
   "metadata": {},
   "outputs": [
    {
     "data": {
      "text/plain": [
       "31*x^11 + 49*x^10 + 56*x^9 + 31*x^8 + 36*x^6 + 58*x^5 + 9*x^4 + 17*x^3 + 29*x^2 + 50*x + 46"
      ]
     },
     "execution_count": 1,
     "metadata": {},
     "output_type": "execute_result"
    }
   ],
   "source": [
    "msg_p = Epoly.message_space().random_element(degree=C.dimension()-1); msg_p #random"
   ]
  },
  {
   "cell_type": "markdown",
   "id": "ab523129",
   "metadata": {},
   "source": [
    "`Epoly` reflects that GRS codes are often constructed as evaluations of\n",
    "polynomials, and that a natural way to consider their messages is as\n",
    "polynomials of degree at most $k-1$, where $k$ is the dimension of the\n",
    "code. Notice that the message space of `Epoly` is all univariate\n",
    "polynomials: `message_space` is the ambient space of the messages, and\n",
    "sometimes an Encoder demands that the messages are actually picked from\n",
    "a subspace hereof.\n",
    "\n",
    "The default encoder of a code always has a vector space as message\n",
    "space, so when we call\n",
    "`sage.coding.linear_code.AbstractLinearCode.decode_to_message` or\n",
    "`sage.coding.linear_code.AbstractLinearCode.unencode` on the code\n",
    "itself, as illustrated on the first example, this will always return\n",
    "vectors whose length is the dimension of the code.\n",
    "\n",
    "### III.2 Generator matrices\n",
    "\n",
    "Whenever the message space of an Encoder is a vector space and it\n",
    "encodes using a linear map, the Encoder will possess a generator matrix\n",
    "(note that this notion does not make sense for other types of encoders),\n",
    "which specifies that linear map.\n",
    "\n",
    "Generator matrices have been placed on Encoder objects since a code has\n",
    "many generator matrices, and each of these will encode messages\n",
    "differently. One will also find\n",
    "`sage.coding.linear_code.AbstractLinearCode.generator_matrix` on code\n",
    "objects, but this is again simply a convenience method which forwards\n",
    "the query to the default encoder.\n",
    "\n",
    "Let us see this in Sage, using the first encoder we constructed:"
   ]
  },
  {
   "cell_type": "code",
   "execution_count": null,
   "id": "969cbd2a",
   "metadata": {},
   "outputs": [
    {
     "data": {
      "text/plain": [
       "Vector space of dimension 12 over Finite Field of size 59"
      ]
     },
     "execution_count": 1,
     "metadata": {},
     "output_type": "execute_result"
    }
   ],
   "source": [
    "Evect.message_space()"
   ]
  },
  {
   "cell_type": "code",
   "execution_count": null,
   "id": "2ada3854",
   "metadata": {},
   "outputs": [
    {
     "data": {
      "text/plain": [
       "True"
      ]
     },
     "execution_count": 1,
     "metadata": {},
     "output_type": "execute_result"
    }
   ],
   "source": [
    "G = Evect.generator_matrix()\n",
    "G == C.generator_matrix()"
   ]
  },
  {
   "cell_type": "markdown",
   "id": "11697d92",
   "metadata": {},
   "source": [
    "### III.3 Decoders and messages\n",
    "\n",
    "As we saw before, any code has two generic methods for decoding, called\n",
    "`decode_to_codeword` and `decode_to_message`. Every Decoder also has\n",
    "these two methods, and the methods on the code simply forward the calls\n",
    "to the default decoder of this code.\n",
    "\n",
    "There are two reasons for having these two methods: convenience and\n",
    "speed. Convenience is clear: having both methods provides a useful\n",
    "shortcut depending on the user's needs. Concerning speed, some decoders\n",
    "naturally decode directly to a codeword, while others directly to a\n",
    "message space. Supporting both methods therefore avoids unnecessary work\n",
    "in encoding and unencoding.\n",
    "\n",
    "However, `decode_to_message` implies that there is a message space and\n",
    "an encoding from that space to the code behind the scenes. A Decoder has\n",
    "methods `message_space` and `connected_encoder` to inform the user about\n",
    "this. Let us illustrate that by a long example:"
   ]
  },
  {
   "cell_type": "code",
   "execution_count": null,
   "id": "bba610db",
   "metadata": {},
   "outputs": [
    {
     "data": {
      "text/plain": [
       "True\n",
       "\n",
       "#Create two decoders: Syndrome and Gao"
      ]
     },
     "execution_count": 1,
     "metadata": {},
     "output_type": "execute_result"
    }
   ],
   "source": [
    "C = codes.GeneralizedReedSolomonCode(GF(59).list()[1:41], 3, GF(59).list()[1:41])\n",
    "c = C.random_element()\n",
    "c in C"
   ]
  },
  {
   "cell_type": "code",
   "execution_count": null,
   "id": "1354a1b5",
   "metadata": {},
   "outputs": [],
   "source": [
    "Syn = C.decoder(\"KeyEquationSyndrome\")\n",
    "Gao = C.decoder(\"Gao\")"
   ]
  },
  {
   "cell_type": "code",
   "execution_count": null,
   "id": "1652f39e",
   "metadata": {},
   "outputs": [],
   "source": [
    "#Check their message spaces"
   ]
  },
  {
   "cell_type": "code",
   "execution_count": null,
   "id": "c067afa2",
   "metadata": {},
   "outputs": [
    {
     "data": {
      "text/plain": [
       "Vector space of dimension 3 over Finite Field of size 59"
      ]
     },
     "execution_count": 1,
     "metadata": {},
     "output_type": "execute_result"
    }
   ],
   "source": [
    "Syn.message_space()"
   ]
  },
  {
   "cell_type": "code",
   "execution_count": null,
   "id": "e2a0534d",
   "metadata": {},
   "outputs": [
    {
     "data": {
      "text/plain": [
       "Univariate Polynomial Ring in x over Finite Field of size 59\n",
       "\n",
       "#and now we unencode"
      ]
     },
     "execution_count": 1,
     "metadata": {},
     "output_type": "execute_result"
    }
   ],
   "source": [
    "Gao.message_space()"
   ]
  },
  {
   "cell_type": "code",
   "execution_count": null,
   "id": "d39cb4d0",
   "metadata": {},
   "outputs": [
    {
     "data": {
      "text/plain": [
       "(55,9,43)\n"
      ]
     },
     "execution_count": 1,
     "metadata": {},
     "output_type": "execute_result"
    }
   ],
   "source": [
    "Syn.decode_to_message(c) #random"
   ]
  },
  {
   "cell_type": "code",
   "execution_count": null,
   "id": "15d5405f",
   "metadata": {},
   "outputs": [
    {
     "data": {
      "text/plain": [
       "43*x^2 + 9*x + 55"
      ]
     },
     "execution_count": 1,
     "metadata": {},
     "output_type": "execute_result"
    }
   ],
   "source": [
    "Gao.decode_to_message(c) #random"
   ]
  },
  {
   "cell_type": "markdown",
   "id": "1d0f0aa9",
   "metadata": {},
   "source": [
    "## IV. A deeper look at channels\n",
    "\n",
    "In Section II, we briefly introduced the Channel objects as a way to put\n",
    "errors in a word. In this section, we will look deeper at their\n",
    "functionality and introduce a second Channel.\n",
    "\n",
    "> Note\n",
    ">\n",
    "> Once again, we chose a specific class as a running example through all\n",
    "> this section, as we do not want to make an exhaustive catalog of all\n",
    "> channels. If one wants to get this list, one can access it by typing:\n",
    ">\n",
    "> ```{.python .input}\n",
    "> channels.<tab>\n",
    "> ```\n",
    ">\n",
    "> in Sage.\n",
    "\n",
    "Consider again the `sage.coding.channel.ChannelStaticErrorRate` from\n",
    "before. This is a channel that places errors in the transmitted vector\n",
    "but within controlled boundaries. We can describe these boundaries in\n",
    "two ways:\n",
    "\n",
    "-   The first one was illustrated in Section II and consists in passing\n",
    "    an integer, as shown below:"
   ]
  },
  {
   "cell_type": "code",
   "execution_count": null,
   "id": "4241210a",
   "metadata": {},
   "outputs": [
    {
     "data": {
      "text/plain": [
       "Static error rate channel creating 14 errors, of input and output space Vector space of dimension 40 over Finite Field of size 59"
      ]
     },
     "execution_count": 1,
     "metadata": {},
     "output_type": "execute_result"
    }
   ],
   "source": [
    "    C = codes.GeneralizedReedSolomonCode(GF(59).list()[:40], 12)\n",
    "    t = 14\n",
    "    Chan = channels.StaticErrorRateChannel(C.ambient_space(), t)\n",
    "    Chan"
   ]
  },
  {
   "cell_type": "markdown",
   "id": "0d01f09a",
   "metadata": {},
   "source": [
    "-   We can also pass a tuple of two integers, the first smaller than the\n",
    "    second. Then each time a word is transmitted, a random number of\n",
    "    errors between these two integers will be added:"
   ]
  },
  {
   "cell_type": "code",
   "execution_count": null,
   "id": "98debc1d",
   "metadata": {},
   "outputs": [
    {
     "data": {
      "text/plain": [
       "Static error rate channel creating between 1 and 14 errors, of input and output space Vector space of dimension 40 over Finite Field of size 59"
      ]
     },
     "execution_count": 1,
     "metadata": {},
     "output_type": "execute_result"
    }
   ],
   "source": [
    "    t = (1, 14)\n",
    "    Chan = channels.StaticErrorRateChannel(C.ambient_space(), t)\n",
    "    Chan"
   ]
  },
  {
   "cell_type": "markdown",
   "id": "e5ccff7d",
   "metadata": {},
   "source": [
    "We already know that a channel has a\n",
    "`sage.coding.channel.Channel.transmit` method which will perform\n",
    "transmission over the channel; in this case it will return the\n",
    "transmitted word with some errors in it. This method will always check\n",
    "if the provided word belongs to the input space of the channel. In a\n",
    "case one is absolutely certain that one's word is in the input space,\n",
    "one might want to avoid this check, which is time consuming - especially\n",
    "if one is simulating millions of transmissions. For this usage there is\n",
    "`sage.coding.channel.Channel.transmit_unsafe` which does the same as\n",
    "`sage.coding.channel.Channel.transmit` but without checking the input,\n",
    "as illustrated thereafter:"
   ]
  },
  {
   "cell_type": "code",
   "execution_count": null,
   "id": "ee9c4609",
   "metadata": {},
   "outputs": [
    {
     "data": {
      "text/plain": [
       "True"
      ]
     },
     "execution_count": 1,
     "metadata": {},
     "output_type": "execute_result"
    }
   ],
   "source": [
    "c = C.random_element()\n",
    "c in C"
   ]
  },
  {
   "cell_type": "code",
   "execution_count": null,
   "id": "087b12ec",
   "metadata": {},
   "outputs": [
    {
     "data": {
      "text/plain": [
       "False"
      ]
     },
     "execution_count": 1,
     "metadata": {},
     "output_type": "execute_result"
    }
   ],
   "source": [
    "c_trans = Chan.transmit_unsafe(c)\n",
    "c_trans in C"
   ]
  },
  {
   "cell_type": "markdown",
   "id": "2ed553bf",
   "metadata": {},
   "source": [
    "Note there exists a useful shortcut for\n",
    "`sage.coding.channel.Channel.transmit` :"
   ]
  },
  {
   "cell_type": "code",
   "execution_count": null,
   "id": "247eaaba",
   "metadata": {},
   "outputs": [
    {
     "data": {
      "text/plain": [
       "False"
      ]
     },
     "execution_count": 1,
     "metadata": {},
     "output_type": "execute_result"
    }
   ],
   "source": [
    "r = Chan(c)\n",
    "r in C"
   ]
  },
  {
   "cell_type": "markdown",
   "id": "b30fed07",
   "metadata": {},
   "source": [
    "### A channel for errors and erasures\n",
    "\n",
    "Let us introduce a new Channel object which adds errors and erasures.\n",
    "When it transmits a word, it both adds some errors as well as it erases\n",
    "some positions:"
   ]
  },
  {
   "cell_type": "code",
   "execution_count": null,
   "id": "aaf19da9",
   "metadata": {},
   "outputs": [
    {
     "data": {
      "text/plain": [
       "Error-and-erasure channel creating 3 errors and 4 erasures of input space Vector space of dimension 40 over Finite Field of size 59 and output space The Cartesian product of (Vector space of dimension 40 over Finite Field of size 59, Vector space of dimension 40 over Finite Field of size 2)"
      ]
     },
     "execution_count": 1,
     "metadata": {},
     "output_type": "execute_result"
    }
   ],
   "source": [
    "Chan = channels.ErrorErasureChannel(C.ambient_space(), 3, 4)\n",
    "Chan"
   ]
  },
  {
   "cell_type": "markdown",
   "id": "6bb3a75e",
   "metadata": {},
   "source": [
    "The first parameter is the input space of the channel. The next two are\n",
    "(respectively) the number of errors and the number or erasures. Each of\n",
    "these can be tuples too, just as it was with\n",
    "`sage.coding.channel.StaticErrorRateChannel`. As opposed to this channel\n",
    "though, the output of `sage.coding.channel.ErrorErasureChannel` is not\n",
    "the same as its input space, i.e. the ambient space of C. Rather, it\n",
    "will return two vectors: the first is the transmitted word with the\n",
    "errors added and erased positions set to 0. The second one is the\n",
    "erasure vector whose erased positions contain ones. This is reflected in\n",
    "`sage.coding.channel.output_space` :"
   ]
  },
  {
   "cell_type": "code",
   "execution_count": null,
   "id": "15e046c2",
   "metadata": {},
   "outputs": [
    {
     "data": {
      "text/plain": [
       "The Cartesian product of (Vector space of dimension 40 over Finite Field of size 59, Vector space of dimension 40 over Finite Field of size 2)"
      ]
     },
     "execution_count": 1,
     "metadata": {},
     "output_type": "execute_result"
    }
   ],
   "source": [
    "C = codes.random_linear_code(GF(7), 10, 5)\n",
    "Chan.output_space()"
   ]
  },
  {
   "cell_type": "code",
   "execution_count": null,
   "id": "9ac9b236",
   "metadata": {},
   "outputs": [
    {
     "data": {
      "text/plain": [
       "((0, 3, 6, 4, 4, 0, 1, 0, 0, 1),\n",
       " (1, 0, 0, 0, 0, 1, 0, 0, 1, 0))"
      ]
     },
     "execution_count": 1,
     "metadata": {},
     "output_type": "execute_result"
    }
   ],
   "source": [
    "Chan(c) # random"
   ]
  },
  {
   "cell_type": "markdown",
   "id": "1baae24d",
   "metadata": {},
   "source": [
    "Note it is guaranteed by construction that errors and erasures will\n",
    "never overlap, so when you ask for `e` errors and `t` erasures, you will\n",
    "always receive a vector with `e` errors and `t` erased positions.\n",
    "\n",
    "## V. Codes in General\n",
    "\n",
    "So far we have talked only about codes which are linear and over the\n",
    "Hamming metric. Sage also supports codes which are non-linear and/or\n",
    "over a different metric. Since working with these usually involves\n",
    "creating new classes, they are covered in detail in\n",
    "[structures\\_in\\_coding\\_theory](structures_in_coding_theory.ipynb).\n",
    "\n",
    "For this tutorial, we include a small example of a linear code over the\n",
    "rank metric. Unlike the Hamming metric, where the distance between two\n",
    "words is the number of positions in which their differ, rank metric\n",
    "takes distance to be the rank of the difference of two codewords, which\n",
    "are represented as matrices.\n",
    "\n",
    "We are going to create a generic linear code over the rank metric\n",
    "without any additional structure. To build such a code, we only need a\n",
    "generator matrix:"
   ]
  },
  {
   "cell_type": "code",
   "execution_count": null,
   "id": "0ff4d760",
   "metadata": {},
   "outputs": [],
   "source": [
    "G = Matrix(GF(4), [[1,1,0], [0,0,1]])\n",
    "C = codes.LinearRankMetricCode(G)"
   ]
  },
  {
   "cell_type": "markdown",
   "id": "43a574f8",
   "metadata": {},
   "source": [
    "We can do all the things that we did with our example of a linear code\n",
    "over the Hamming metric. Therefore we are going to focus on the\n",
    "different metric.\n",
    "\n",
    "Take a word in our code:"
   ]
  },
  {
   "cell_type": "code",
   "execution_count": null,
   "id": "95df6d03",
   "metadata": {},
   "outputs": [
    {
     "data": {
      "text/plain": [
       "(1, 1, 0)"
      ]
     },
     "execution_count": 1,
     "metadata": {},
     "output_type": "execute_result"
    }
   ],
   "source": [
    "c = C[1]\n",
    "c"
   ]
  },
  {
   "cell_type": "markdown",
   "id": "0d1cfe5c",
   "metadata": {},
   "source": [
    "Over the usual Hamming metric, the weight of this word would be $2$.\n",
    "However, over the rank metric, we get a different result:"
   ]
  },
  {
   "cell_type": "code",
   "execution_count": null,
   "id": "b2cdbb3a",
   "metadata": {},
   "outputs": [
    {
     "data": {
      "text/plain": [
       "1"
      ]
     },
     "execution_count": 1,
     "metadata": {},
     "output_type": "execute_result"
    }
   ],
   "source": [
    "C.rank_weight_of_vector(c)"
   ]
  },
  {
   "cell_type": "markdown",
   "id": "9701a9b2",
   "metadata": {},
   "source": [
    "The weight of a word in the rank metric is simply the rank of the matrix\n",
    "form of the word:"
   ]
  },
  {
   "cell_type": "code",
   "execution_count": null,
   "id": "3148a1ec",
   "metadata": {},
   "outputs": [
    {
     "data": {
      "text/plain": [
       "[1 1 0]\n",
       "[0 0 0]"
      ]
     },
     "execution_count": 1,
     "metadata": {},
     "output_type": "execute_result"
    }
   ],
   "source": [
    "C.matrix_form_of_vector(c)"
   ]
  },
  {
   "cell_type": "markdown",
   "id": "f506efaa",
   "metadata": {},
   "source": [
    "As we said before, the distance between two words is the rank of their\n",
    "difference:"
   ]
  },
  {
   "cell_type": "code",
   "execution_count": null,
   "id": "ef9638d7",
   "metadata": {},
   "outputs": [
    {
     "data": {
      "text/plain": [
       "(z2, z2, 0)"
      ]
     },
     "execution_count": 1,
     "metadata": {},
     "output_type": "execute_result"
    }
   ],
   "source": [
    "d = C[2]\n",
    "d"
   ]
  },
  {
   "cell_type": "code",
   "execution_count": null,
   "id": "db09f904",
   "metadata": {},
   "outputs": [
    {
     "data": {
      "text/plain": [
       "1"
      ]
     },
     "execution_count": 1,
     "metadata": {},
     "output_type": "execute_result"
    }
   ],
   "source": [
    "C.rank_distance_between_vectors(c, d)"
   ]
  },
  {
   "cell_type": "markdown",
   "id": "2a307c65",
   "metadata": {},
   "source": [
    "Even though the words $c$ and $d$ differ in two positions, their\n",
    "distance over the rank metric is $1$ :"
   ]
  },
  {
   "cell_type": "code",
   "execution_count": null,
   "id": "c5f06a06",
   "metadata": {},
   "outputs": [
    {
     "data": {
      "text/plain": [
       "[1 1 0]\n",
       "[1 1 0]"
      ]
     },
     "execution_count": 1,
     "metadata": {},
     "output_type": "execute_result"
    }
   ],
   "source": [
    "C.matrix_form_of_vector(c - d)"
   ]
  },
  {
   "cell_type": "markdown",
   "id": "1617cc39",
   "metadata": {},
   "source": [
    "For more details on the linear rank metric code, see\n",
    "`sage.coding.linear_rank_metric`.\n",
    "\n",
    "## VI. Conclusion - Afterword\n",
    "\n",
    "This last section concludes our tutorial on coding theory.\n",
    "\n",
    "After reading this, you should know enough to create and manipulate\n",
    "codes in Sage!\n",
    "\n",
    "We did not illustrate all the content of the library in this tutorial.\n",
    "For instance, we did not mention how Sage manages bounds on codes.\n",
    "\n",
    "All objects, constructions and methods related to coding theory are\n",
    "hidden under the prefix `codes` in Sage.\n",
    "\n",
    "For instance, it is possible to find all encoders you can build by\n",
    "typing:"
   ]
  },
  {
   "cell_type": "code",
   "execution_count": null,
   "id": "9ac377f1",
   "metadata": {},
   "outputs": [],
   "source": [
    "codes.encoders.<tab>"
   ]
  },
  {
   "cell_type": "markdown",
   "id": "a98c9239",
   "metadata": {},
   "source": [
    "So, if you are looking for a specific object related to code, you should\n",
    "always type:"
   ]
  },
  {
   "cell_type": "code",
   "execution_count": null,
   "id": "c5cd3879",
   "metadata": {},
   "outputs": [],
   "source": [
    "codes.<tab>"
   ]
  },
  {
   "cell_type": "markdown",
   "id": "ed935aee",
   "metadata": {},
   "source": [
    "and check if there's a subcategory which matches your needs.\n",
    "\n",
    "Despite all the hard work we put on it, there's always much to do!\n",
    "\n",
    "Maybe at some point you might want to create your own codes for Sage. If\n",
    "it's the case and if you don't know how to do that, don't panic! We also\n",
    "wrote a tutorial for this specific case, which you can find here:\n",
    "[structures\\_in\\_coding\\_theory](structures_in_coding_theory.ipynb)."
   ]
  }
 ],
 "metadata": {},
 "nbformat": 4,
 "nbformat_minor": 5
}
