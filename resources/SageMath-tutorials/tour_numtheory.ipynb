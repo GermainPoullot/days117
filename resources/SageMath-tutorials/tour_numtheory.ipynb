{
 "cells": [
  {
   "cell_type": "markdown",
   "id": "2de7dddf",
   "metadata": {},
   "source": [
    "$$\n",
    "\\def\\CC{\\bf C}\n",
    "\\def\\QQ{\\bf Q}\n",
    "\\def\\RR{\\bf R}\n",
    "\\def\\ZZ{\\bf Z}\n",
    "\\def\\NN{\\bf N}\n",
    "$$\n",
    "# Number Theory\n",
    "\n",
    "Sage has extensive functionality for number theory. For example, we can\n",
    "do arithmetic in $\\ZZ/N\\ZZ$ as follows:"
   ]
  },
  {
   "cell_type": "code",
   "execution_count": null,
   "id": "3296750b",
   "metadata": {},
   "outputs": [
    {
     "data": {
      "text/plain": [
       "33"
      ]
     },
     "execution_count": 1,
     "metadata": {},
     "output_type": "execute_result"
    }
   ],
   "source": [
    "R = IntegerModRing(97)\n",
    "a = R(2) / R(3)\n",
    "a"
   ]
  },
  {
   "cell_type": "code",
   "execution_count": null,
   "id": "7e889e3e",
   "metadata": {},
   "outputs": [
    {
     "data": {
      "text/plain": [
       "2/3"
      ]
     },
     "execution_count": 1,
     "metadata": {},
     "output_type": "execute_result"
    }
   ],
   "source": [
    "a.rational_reconstruction()"
   ]
  },
  {
   "cell_type": "code",
   "execution_count": null,
   "id": "956e4edd",
   "metadata": {},
   "outputs": [
    {
     "data": {
      "text/plain": [
       "50"
      ]
     },
     "execution_count": 1,
     "metadata": {},
     "output_type": "execute_result"
    }
   ],
   "source": [
    "b = R(47)\n",
    "b^20052005"
   ]
  },
  {
   "cell_type": "code",
   "execution_count": null,
   "id": "fd10709d",
   "metadata": {},
   "outputs": [
    {
     "data": {
      "text/plain": [
       "97"
      ]
     },
     "execution_count": 1,
     "metadata": {},
     "output_type": "execute_result"
    }
   ],
   "source": [
    "b.modulus()"
   ]
  },
  {
   "cell_type": "code",
   "execution_count": null,
   "id": "51053b0f",
   "metadata": {},
   "outputs": [
    {
     "data": {
      "text/plain": [
       "True"
      ]
     },
     "execution_count": 1,
     "metadata": {},
     "output_type": "execute_result"
    }
   ],
   "source": [
    "b.is_square()"
   ]
  },
  {
   "cell_type": "markdown",
   "id": "88ab1c40",
   "metadata": {},
   "source": [
    "Sage contains standard number theoretic functions. For example,"
   ]
  },
  {
   "cell_type": "code",
   "execution_count": null,
   "id": "75ee7926",
   "metadata": {},
   "outputs": [
    {
     "data": {
      "text/plain": [
       "5"
      ]
     },
     "execution_count": 1,
     "metadata": {},
     "output_type": "execute_result"
    }
   ],
   "source": [
    "gcd(515,2005)"
   ]
  },
  {
   "cell_type": "code",
   "execution_count": null,
   "id": "c8ed2434",
   "metadata": {},
   "outputs": [
    {
     "data": {
      "text/plain": [
       "5 * 401"
      ]
     },
     "execution_count": 1,
     "metadata": {},
     "output_type": "execute_result"
    }
   ],
   "source": [
    "factor(2005)"
   ]
  },
  {
   "cell_type": "code",
   "execution_count": null,
   "id": "8f21c1ef",
   "metadata": {},
   "outputs": [
    {
     "data": {
      "text/plain": [
       "15511210043330985984000000"
      ]
     },
     "execution_count": 1,
     "metadata": {},
     "output_type": "execute_result"
    }
   ],
   "source": [
    "c = factorial(25); c"
   ]
  },
  {
   "cell_type": "code",
   "execution_count": null,
   "id": "fc9f5f57",
   "metadata": {},
   "outputs": [
    {
     "data": {
      "text/plain": [
       "[22, 10, 6, 3, 2, 1, 1, 1]"
      ]
     },
     "execution_count": 1,
     "metadata": {},
     "output_type": "execute_result"
    }
   ],
   "source": [
    "[valuation(c,p) for p in prime_range(2,23)]"
   ]
  },
  {
   "cell_type": "code",
   "execution_count": null,
   "id": "48763310",
   "metadata": {},
   "outputs": [
    {
     "data": {
      "text/plain": [
       "2011"
      ]
     },
     "execution_count": 1,
     "metadata": {},
     "output_type": "execute_result"
    }
   ],
   "source": [
    "next_prime(2005)"
   ]
  },
  {
   "cell_type": "code",
   "execution_count": null,
   "id": "5eda6cf7",
   "metadata": {},
   "outputs": [
    {
     "data": {
      "text/plain": [
       "2003"
      ]
     },
     "execution_count": 1,
     "metadata": {},
     "output_type": "execute_result"
    }
   ],
   "source": [
    "previous_prime(2005)"
   ]
  },
  {
   "cell_type": "code",
   "execution_count": null,
   "id": "282d63e5",
   "metadata": {},
   "outputs": [
    {
     "data": {
      "text/plain": [
       "[1, 2, 4, 7, 14, 28]\n",
       "56\n",
       "56"
      ]
     },
     "execution_count": 1,
     "metadata": {},
     "output_type": "execute_result"
    }
   ],
   "source": [
    "divisors(28); sum(divisors(28)); 2*28"
   ]
  },
  {
   "cell_type": "markdown",
   "id": "ae93e6cd",
   "metadata": {},
   "source": [
    "Perfect!\n",
    "\n",
    "Sage's `sigma(n,k)` function adds up the $k^{th}$ powers of the divisors\n",
    "of `n` :"
   ]
  },
  {
   "cell_type": "code",
   "execution_count": null,
   "id": "2b04338c",
   "metadata": {},
   "outputs": [
    {
     "data": {
      "text/plain": [
       "6\n",
       "56\n",
       "1050"
      ]
     },
     "execution_count": 1,
     "metadata": {},
     "output_type": "execute_result"
    }
   ],
   "source": [
    "sigma(28,0); sigma(28,1); sigma(28,2)"
   ]
  },
  {
   "cell_type": "markdown",
   "id": "079b7f62",
   "metadata": {},
   "source": [
    "We next illustrate the extended Euclidean algorithm, Euler's\n",
    "$\\phi$-function, and the Chinese remainder theorem:"
   ]
  },
  {
   "cell_type": "code",
   "execution_count": null,
   "id": "bb8bed35",
   "metadata": {},
   "outputs": [
    {
     "data": {
      "text/plain": [
       "True"
      ]
     },
     "execution_count": 1,
     "metadata": {},
     "output_type": "execute_result"
    }
   ],
   "source": [
    "d,u,v = xgcd(12,15)\n",
    "d == u*12 + v*15"
   ]
  },
  {
   "cell_type": "code",
   "execution_count": null,
   "id": "b0a2b508",
   "metadata": {},
   "outputs": [
    {
     "data": {
      "text/plain": [
       "1337"
      ]
     },
     "execution_count": 1,
     "metadata": {},
     "output_type": "execute_result"
    }
   ],
   "source": [
    "n = 2005\n",
    "inverse_mod(3,n)"
   ]
  },
  {
   "cell_type": "code",
   "execution_count": null,
   "id": "de0aeebe",
   "metadata": {},
   "outputs": [
    {
     "data": {
      "text/plain": [
       "4011"
      ]
     },
     "execution_count": 1,
     "metadata": {},
     "output_type": "execute_result"
    }
   ],
   "source": [
    "3 * 1337"
   ]
  },
  {
   "cell_type": "code",
   "execution_count": null,
   "id": "d12033c5",
   "metadata": {},
   "outputs": [
    {
     "data": {
      "text/plain": [
       "[5, 401]"
      ]
     },
     "execution_count": 1,
     "metadata": {},
     "output_type": "execute_result"
    }
   ],
   "source": [
    "prime_divisors(n)"
   ]
  },
  {
   "cell_type": "code",
   "execution_count": null,
   "id": "3b9864cd",
   "metadata": {},
   "outputs": [
    {
     "data": {
      "text/plain": [
       "1600"
      ]
     },
     "execution_count": 1,
     "metadata": {},
     "output_type": "execute_result"
    }
   ],
   "source": [
    "phi = n*prod([1 - 1/p for p in prime_divisors(n)]); phi"
   ]
  },
  {
   "cell_type": "code",
   "execution_count": null,
   "id": "46984efd",
   "metadata": {},
   "outputs": [
    {
     "data": {
      "text/plain": [
       "1600"
      ]
     },
     "execution_count": 1,
     "metadata": {},
     "output_type": "execute_result"
    }
   ],
   "source": [
    "euler_phi(n)"
   ]
  },
  {
   "cell_type": "code",
   "execution_count": null,
   "id": "ca1137e9",
   "metadata": {},
   "outputs": [
    {
     "data": {
      "text/plain": [
       "401"
      ]
     },
     "execution_count": 1,
     "metadata": {},
     "output_type": "execute_result"
    }
   ],
   "source": [
    "prime_to_m_part(n, 5)"
   ]
  },
  {
   "cell_type": "markdown",
   "id": "479cba87",
   "metadata": {},
   "source": [
    "We next verify something about the $3n+1$ problem."
   ]
  },
  {
   "cell_type": "code",
   "execution_count": null,
   "id": "74d28da5",
   "metadata": {},
   "outputs": [
    {
     "data": {
      "text/plain": [
       "38"
      ]
     },
     "execution_count": 1,
     "metadata": {},
     "output_type": "execute_result"
    }
   ],
   "source": [
    "n = 2005\n",
    "for i in range(1000):\n",
    "    n = 3*odd_part(n) + 1\n",
    "    if odd_part(n)==1:\n",
    "        print(i)\n",
    "        break"
   ]
  },
  {
   "cell_type": "markdown",
   "id": "5801d599",
   "metadata": {},
   "source": [
    "Finally we illustrate the Chinese remainder theorem."
   ]
  },
  {
   "cell_type": "code",
   "execution_count": null,
   "id": "eacfb9b0",
   "metadata": {},
   "outputs": [
    {
     "data": {
      "text/plain": [
       "11"
      ]
     },
     "execution_count": 1,
     "metadata": {},
     "output_type": "execute_result"
    }
   ],
   "source": [
    "x = crt(2, 1, 3, 5); x"
   ]
  },
  {
   "cell_type": "code",
   "execution_count": null,
   "id": "ec71ae54",
   "metadata": {},
   "outputs": [
    {
     "data": {
      "text/plain": [
       "2"
      ]
     },
     "execution_count": 1,
     "metadata": {},
     "output_type": "execute_result"
    }
   ],
   "source": [
    "x % 3  # x mod 3 = 2"
   ]
  },
  {
   "cell_type": "code",
   "execution_count": null,
   "id": "26904542",
   "metadata": {},
   "outputs": [
    {
     "data": {
      "text/plain": [
       "1"
      ]
     },
     "execution_count": 1,
     "metadata": {},
     "output_type": "execute_result"
    }
   ],
   "source": [
    "x % 5  # x mod 5 = 1"
   ]
  },
  {
   "cell_type": "code",
   "execution_count": null,
   "id": "cf0f0a93",
   "metadata": {},
   "outputs": [
    {
     "data": {
      "text/plain": [
       "[1, 13, 78, 286, 715, 1287, 1716, 1716, 1287, 715, 286, 78, 13, 1]"
      ]
     },
     "execution_count": 1,
     "metadata": {},
     "output_type": "execute_result"
    }
   ],
   "source": [
    "[binomial(13,m) for m in range(14)]"
   ]
  },
  {
   "cell_type": "code",
   "execution_count": null,
   "id": "189272a2",
   "metadata": {},
   "outputs": [
    {
     "data": {
      "text/plain": [
       "[1, 1, 0, 0, 1, 1, 0, 0, 1, 1, 0, 0, 1, 1]"
      ]
     },
     "execution_count": 1,
     "metadata": {},
     "output_type": "execute_result"
    }
   ],
   "source": [
    "[binomial(13,m)%2 for m in range(14)]"
   ]
  },
  {
   "cell_type": "code",
   "execution_count": null,
   "id": "c3242716",
   "metadata": {},
   "outputs": [
    {
     "data": {
      "text/plain": [
       "[1, -1, 1, 1, -1, -1, -1, -1, 1, 1, -1, 1]"
      ]
     },
     "execution_count": 1,
     "metadata": {},
     "output_type": "execute_result"
    }
   ],
   "source": [
    "[kronecker(m,13) for m in range(1,13)]"
   ]
  },
  {
   "cell_type": "code",
   "execution_count": null,
   "id": "f4f95567",
   "metadata": {},
   "outputs": [
    {
     "data": {
      "text/plain": [
       "-23"
      ]
     },
     "execution_count": 1,
     "metadata": {},
     "output_type": "execute_result"
    }
   ],
   "source": [
    "n = 10000; sum([moebius(m) for m in range(1,n)])"
   ]
  },
  {
   "cell_type": "code",
   "execution_count": null,
   "id": "0a25f240",
   "metadata": {},
   "outputs": [
    {
     "data": {
      "text/plain": [
       "[[4], [3, 1], [2, 2], [2, 1, 1], [1, 1, 1, 1]]"
      ]
     },
     "execution_count": 1,
     "metadata": {},
     "output_type": "execute_result"
    }
   ],
   "source": [
    "Partitions(4).list()"
   ]
  },
  {
   "cell_type": "markdown",
   "id": "61ee72b4",
   "metadata": {},
   "source": [
    "## $p$-adic Numbers\n",
    "\n",
    "The field of $p$-adic numbers is implemented in Sage. Note that once a\n",
    "$p$-adic field is created, you cannot change its precision."
   ]
  },
  {
   "cell_type": "code",
   "execution_count": null,
   "id": "b46854e9",
   "metadata": {},
   "outputs": [
    {
     "data": {
      "text/plain": [
       "11-adic Field with capped relative precision 20"
      ]
     },
     "execution_count": 1,
     "metadata": {},
     "output_type": "execute_result"
    }
   ],
   "source": [
    "K = Qp(11); K"
   ]
  },
  {
   "cell_type": "code",
   "execution_count": null,
   "id": "b1f1b511",
   "metadata": {},
   "outputs": [
    {
     "data": {
      "text/plain": [
       "4 + 4*11 + 11^2 + 7*11^3 + 9*11^5 + 5*11^6 + 4*11^7 + 8*11^8 + 7*11^9\n",
       "  + 9*11^10 + 3*11^11 + 10*11^12 + 11^13 + 5*11^14 + 6*11^15 + 2*11^16\n",
       "  + 3*11^17 + 11^18 + 7*11^19 + O(11^20)"
      ]
     },
     "execution_count": 1,
     "metadata": {},
     "output_type": "execute_result"
    }
   ],
   "source": [
    "a = K(211/17); a"
   ]
  },
  {
   "cell_type": "code",
   "execution_count": null,
   "id": "1abfc69b",
   "metadata": {},
   "outputs": [
    {
     "data": {
      "text/plain": [
       "10*11^-2 + 5*11^-1 + 4 + 2*11 + O(11^18)"
      ]
     },
     "execution_count": 1,
     "metadata": {},
     "output_type": "execute_result"
    }
   ],
   "source": [
    "b = K(3211/11^2); b"
   ]
  },
  {
   "cell_type": "markdown",
   "id": "cfa444f5",
   "metadata": {},
   "source": [
    "Much work has been done implementing rings of integers in $p$-adic\n",
    "fields and number fields. The interested reader is invited to read\n",
    "`sage.rings.padics.tutorial` and ask the experts on the `sage-support`\n",
    "Google group for further details.\n",
    "\n",
    "A number of related methods are already implemented in the NumberField\n",
    "class."
   ]
  },
  {
   "cell_type": "code",
   "execution_count": null,
   "id": "72bfcdbc",
   "metadata": {},
   "outputs": [
    {
     "data": {
      "text/plain": [
       "[1, 1/2*a^2 + 1/2*a, a^2]"
      ]
     },
     "execution_count": 1,
     "metadata": {},
     "output_type": "execute_result"
    }
   ],
   "source": [
    "R.<x> = PolynomialRing(QQ)\n",
    "K = NumberField(x^3 + x^2 - 2*x + 8, 'a')\n",
    "K.integral_basis()"
   ]
  },
  {
   "cell_type": "code",
   "execution_count": null,
   "id": "1c02e4b2",
   "metadata": {},
   "outputs": [
    {
     "data": {
      "text/plain": [
       "Galois group 3T2 (S3) with order 6 of x^3 + x^2 - 2*x + 8"
      ]
     },
     "execution_count": 1,
     "metadata": {},
     "output_type": "execute_result"
    }
   ],
   "source": [
    "K.galois_group()"
   ]
  },
  {
   "cell_type": "code",
   "execution_count": null,
   "id": "7bd41c0a",
   "metadata": {},
   "outputs": [
    {
     "data": {
      "text/plain": [
       "Univariate Quotient Polynomial Ring in a over Rational Field with modulus\n",
       "x^3 + x^2 - 2*x + 8"
      ]
     },
     "execution_count": 1,
     "metadata": {},
     "output_type": "execute_result"
    }
   ],
   "source": [
    "K.polynomial_quotient_ring()"
   ]
  },
  {
   "cell_type": "code",
   "execution_count": null,
   "id": "12210edd",
   "metadata": {},
   "outputs": [
    {
     "data": {
      "text/plain": [
       "(3*a^2 + 13*a + 13,)"
      ]
     },
     "execution_count": 1,
     "metadata": {},
     "output_type": "execute_result"
    }
   ],
   "source": [
    "K.units()"
   ]
  },
  {
   "cell_type": "code",
   "execution_count": null,
   "id": "02b31038",
   "metadata": {},
   "outputs": [
    {
     "data": {
      "text/plain": [
       "-503"
      ]
     },
     "execution_count": 1,
     "metadata": {},
     "output_type": "execute_result"
    }
   ],
   "source": [
    "K.discriminant()"
   ]
  },
  {
   "cell_type": "code",
   "execution_count": null,
   "id": "2a4618ec",
   "metadata": {},
   "outputs": [
    {
     "data": {
      "text/plain": [
       "Class group of order 1 of Number Field in a with\n",
       "defining polynomial x^3 + x^2 - 2*x + 8"
      ]
     },
     "execution_count": 1,
     "metadata": {},
     "output_type": "execute_result"
    }
   ],
   "source": [
    "K.class_group()"
   ]
  },
  {
   "cell_type": "code",
   "execution_count": null,
   "id": "0b2a8f41",
   "metadata": {},
   "outputs": [
    {
     "data": {
      "text/plain": [
       "1"
      ]
     },
     "execution_count": 1,
     "metadata": {},
     "output_type": "execute_result"
    }
   ],
   "source": [
    "K.class_number()"
   ]
  }
 ],
 "metadata": {},
 "nbformat": 4,
 "nbformat_minor": 5
}
