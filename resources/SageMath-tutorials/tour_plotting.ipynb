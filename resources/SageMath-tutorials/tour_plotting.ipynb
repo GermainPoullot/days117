{
 "cells": [
  {
   "cell_type": "markdown",
   "id": "46a8c274",
   "metadata": {},
   "source": [
    "$$\n",
    "\\def\\CC{\\bf C}\n",
    "\\def\\QQ{\\bf Q}\n",
    "\\def\\RR{\\bf R}\n",
    "\\def\\ZZ{\\bf Z}\n",
    "\\def\\NN{\\bf N}\n",
    "$$\n",
    "# Plotting\n",
    "\n",
    "Sage can produce two-dimensional and three-dimensional plots.\n",
    "\n",
    "## Two-dimensional Plots\n",
    "\n",
    "In two dimensions, Sage can draw circles, lines, and polygons; plots of\n",
    "functions in rectangular coordinates; and also polar plots, contour\n",
    "plots and vector field plots. We present examples of some of these here.\n",
    "For more examples of plotting with Sage, see\n",
    "[section-systems](section-systems.ipynb) and\n",
    "[section-maxima](section-maxima.ipynb), and also the [Sage\n",
    "Constructions](http://doc.sagemath.org/html/en/constructions/)\n",
    "documentation.\n",
    "\n",
    "This command produces a yellow circle of radius 1, centered at the\n",
    "origin:"
   ]
  },
  {
   "cell_type": "code",
   "execution_count": null,
   "id": "4b028848",
   "metadata": {},
   "outputs": [
    {
     "data": {
      "text/plain": [
       "Graphics object consisting of 1 graphics primitive"
      ]
     },
     "execution_count": 1,
     "metadata": {},
     "output_type": "execute_result"
    }
   ],
   "source": [
    "circle((0,0), 1, rgbcolor=(1,1,0))"
   ]
  },
  {
   "cell_type": "markdown",
   "id": "d72958ee",
   "metadata": {},
   "source": [
    "You can also produce a filled circle:"
   ]
  },
  {
   "cell_type": "code",
   "execution_count": null,
   "id": "d24c78b9",
   "metadata": {},
   "outputs": [
    {
     "data": {
      "text/plain": [
       "Graphics object consisting of 1 graphics primitive"
      ]
     },
     "execution_count": 1,
     "metadata": {},
     "output_type": "execute_result"
    }
   ],
   "source": [
    "circle((0,0), 1, rgbcolor=(1,1,0), fill=True)"
   ]
  },
  {
   "cell_type": "markdown",
   "id": "dfb4bceb",
   "metadata": {},
   "source": [
    "You can also create a circle by assigning it to a variable; this does\n",
    "not plot it:"
   ]
  },
  {
   "cell_type": "code",
   "execution_count": null,
   "id": "ef2a7172",
   "metadata": {},
   "outputs": [],
   "source": [
    "c = circle((0,0), 1, rgbcolor=(1,1,0))"
   ]
  },
  {
   "cell_type": "markdown",
   "id": "0235b765",
   "metadata": {},
   "source": [
    "To plot it, use `c.show()` or `show(c)`, as follows:"
   ]
  },
  {
   "cell_type": "code",
   "execution_count": null,
   "id": "9fca3e26",
   "metadata": {},
   "outputs": [],
   "source": [
    "c.show()"
   ]
  },
  {
   "cell_type": "markdown",
   "id": "f5021464",
   "metadata": {},
   "source": [
    "Alternatively, evaluating `c.save('filename.png')` will save the plot to\n",
    "the given file.\n",
    "\n",
    "Now, these 'circles' look more like ellipses because the axes are scaled\n",
    "differently. You can fix this:"
   ]
  },
  {
   "cell_type": "code",
   "execution_count": null,
   "id": "26ed0f5d",
   "metadata": {},
   "outputs": [],
   "source": [
    "c.show(aspect_ratio=1)"
   ]
  },
  {
   "cell_type": "markdown",
   "id": "9ff17c60",
   "metadata": {},
   "source": [
    "The command `show(c, aspect_ratio=1)` accomplishes the same thing, or\n",
    "you can save the picture using `c.save('filename.png', aspect_ratio=1)`.\n",
    "\n",
    "It's easy to plot basic functions:"
   ]
  },
  {
   "cell_type": "code",
   "execution_count": null,
   "id": "1da0cf2e",
   "metadata": {},
   "outputs": [
    {
     "data": {
      "text/plain": [
       "Graphics object consisting of 1 graphics primitive"
      ]
     },
     "execution_count": 1,
     "metadata": {},
     "output_type": "execute_result"
    }
   ],
   "source": [
    "plot(cos, (-5,5))"
   ]
  },
  {
   "cell_type": "markdown",
   "id": "4766f41e",
   "metadata": {},
   "source": [
    "Once you specify a variable name, you can create parametric plots also:"
   ]
  },
  {
   "cell_type": "code",
   "execution_count": null,
   "id": "312a670e",
   "metadata": {},
   "outputs": [
    {
     "data": {
      "text/plain": [
       "Graphics object consisting of 1 graphics primitive"
      ]
     },
     "execution_count": 1,
     "metadata": {},
     "output_type": "execute_result"
    }
   ],
   "source": [
    "x = var('x')\n",
    "parametric_plot((cos(x),sin(x)^3),(x,0,2*pi),rgbcolor=hue(0.6))"
   ]
  },
  {
   "cell_type": "markdown",
   "id": "5db036f6",
   "metadata": {},
   "source": [
    "It's important to notice that the axes of the plots will only intersect\n",
    "if the origin is in the viewing range of the graph, and that with\n",
    "sufficiently large values scientific notation may be used:"
   ]
  },
  {
   "cell_type": "code",
   "execution_count": null,
   "id": "e1301dce",
   "metadata": {},
   "outputs": [
    {
     "data": {
      "text/plain": [
       "Graphics object consisting of 1 graphics primitive"
      ]
     },
     "execution_count": 1,
     "metadata": {},
     "output_type": "execute_result"
    }
   ],
   "source": [
    "plot(x^2,(x,300,500))"
   ]
  },
  {
   "cell_type": "markdown",
   "id": "5c438747",
   "metadata": {},
   "source": [
    "You can combine several plots by adding them:"
   ]
  },
  {
   "cell_type": "code",
   "execution_count": null,
   "id": "0229312f",
   "metadata": {},
   "outputs": [],
   "source": [
    "x = var('x')\n",
    "p1 = parametric_plot((cos(x),sin(x)),(x,0,2*pi),rgbcolor=hue(0.2))\n",
    "p2 = parametric_plot((cos(x),sin(x)^2),(x,0,2*pi),rgbcolor=hue(0.4))\n",
    "p3 = parametric_plot((cos(x),sin(x)^3),(x,0,2*pi),rgbcolor=hue(0.6))\n",
    "show(p1+p2+p3, axes=false)"
   ]
  },
  {
   "cell_type": "markdown",
   "id": "22ea87f7",
   "metadata": {},
   "source": [
    "A good way to produce filled-in shapes is to produce a list of points\n",
    "(`L` in the example below) and then use the `polygon` command to plot\n",
    "the shape with boundary formed by those points. For example, here is a\n",
    "green deltoid:"
   ]
  },
  {
   "cell_type": "code",
   "execution_count": null,
   "id": "3ac34d26",
   "metadata": {},
   "outputs": [
    {
     "data": {
      "text/plain": [
       "Graphics object consisting of 1 graphics primitive"
      ]
     },
     "execution_count": 1,
     "metadata": {},
     "output_type": "execute_result"
    }
   ],
   "source": [
    "L = [[-1+cos(pi*i/100)*(1+cos(pi*i/100)),\n",
    "    2*sin(pi*i/100)*(1-cos(pi*i/100))] for i in range(200)]\n",
    "p = polygon(L, rgbcolor=(1/8,3/4,1/2))\n",
    "p"
   ]
  },
  {
   "cell_type": "markdown",
   "id": "8294c444",
   "metadata": {},
   "source": [
    "Type `show(p, axes=false)` to see this without any axes.\n",
    "\n",
    "You can add text to a plot:"
   ]
  },
  {
   "cell_type": "code",
   "execution_count": null,
   "id": "188c5cc5",
   "metadata": {},
   "outputs": [],
   "source": [
    "L = [[6*cos(pi*i/100)+5*cos((6/2)*pi*i/100),\n",
    "    6*sin(pi*i/100)-5*sin((6/2)*pi*i/100)] for i in range(200)]\n",
    "p = polygon(L, rgbcolor=(1/8,1/4,1/2))\n",
    "t = text(\"hypotrochoid\", (5,4), rgbcolor=(1,0,0))\n",
    "show(p+t)"
   ]
  },
  {
   "cell_type": "markdown",
   "id": "c6dc830d",
   "metadata": {},
   "source": [
    "Calculus teachers draw the following plot frequently on the board: not\n",
    "just one branch of arcsin but rather several of them: i.e., the plot of\n",
    "$y=\\sin(x)$ for $x$ between $-2\\pi$ and $2\\pi$, flipped about the 45\n",
    "degree line. The following Sage commands construct this:"
   ]
  },
  {
   "cell_type": "code",
   "execution_count": null,
   "id": "c87892b6",
   "metadata": {},
   "outputs": [
    {
     "data": {
      "text/plain": [
       "Graphics object consisting of 1 graphics primitive"
      ]
     },
     "execution_count": 1,
     "metadata": {},
     "output_type": "execute_result"
    }
   ],
   "source": [
    "v = [(sin(x),x) for x in srange(-2*float(pi),2*float(pi),0.1)]\n",
    "line(v)"
   ]
  },
  {
   "cell_type": "markdown",
   "id": "83bd7236",
   "metadata": {},
   "source": [
    "Since the tangent function has a larger range than sine, if you use the\n",
    "same trick to plot the inverse tangent, you should change the minimum\n",
    "and maximum coordinates for the *x*-axis:"
   ]
  },
  {
   "cell_type": "code",
   "execution_count": null,
   "id": "18a8f5c0",
   "metadata": {},
   "outputs": [],
   "source": [
    "v = [(tan(x),x) for x in srange(-2*float(pi),2*float(pi),0.01)]\n",
    "show(line(v), xmin=-20, xmax=20)"
   ]
  },
  {
   "cell_type": "markdown",
   "id": "1b76e55e",
   "metadata": {},
   "source": [
    "Sage also computes polar plots, contour plots and vector field plots\n",
    "(for special types of functions). Here is an example of a contour plot:"
   ]
  },
  {
   "cell_type": "code",
   "execution_count": null,
   "id": "0df5286f",
   "metadata": {},
   "outputs": [
    {
     "data": {
      "text/plain": [
       "Graphics object consisting of 1 graphics primitive"
      ]
     },
     "execution_count": 1,
     "metadata": {},
     "output_type": "execute_result"
    }
   ],
   "source": [
    "f = lambda x,y: cos(x*y)\n",
    "contour_plot(f, (-4, 4), (-4, 4))"
   ]
  },
  {
   "cell_type": "markdown",
   "id": "072d78e7",
   "metadata": {},
   "source": [
    "## Three-Dimensional Plots\n",
    "\n",
    "Sage can also be used to create three-dimensional plots. In both the\n",
    "notebook and the REPL, these plots will be displayed by default using\n",
    "the open source package [\\[ThreeJS\\]](), which supports interactively\n",
    "rotating and zooming the figure with the mouse.\n",
    "\n",
    "Use `plot3d` to graph a function of the form $f(x, y) = z$ :"
   ]
  },
  {
   "cell_type": "code",
   "execution_count": null,
   "id": "e8bd7a74",
   "metadata": {},
   "outputs": [
    {
     "data": {
      "text/plain": [
       "Graphics3d Object"
      ]
     },
     "execution_count": 1,
     "metadata": {},
     "output_type": "execute_result"
    }
   ],
   "source": [
    "x, y = var('x,y')\n",
    "plot3d(x^2 + y^2, (x,-2,2), (y,-2,2))"
   ]
  },
  {
   "cell_type": "markdown",
   "id": "0d537314",
   "metadata": {},
   "source": [
    "Alternatively, you can use `parametric_plot3d` to graph a parametric\n",
    "surface where each of $x, y, z$ is determined by a function of one or\n",
    "two variables (the parameters, typically $u$ and $v$). The previous plot\n",
    "can be expressed parametrically as follows:"
   ]
  },
  {
   "cell_type": "code",
   "execution_count": null,
   "id": "f7123824",
   "metadata": {},
   "outputs": [
    {
     "data": {
      "text/plain": [
       "Graphics3d Object"
      ]
     },
     "execution_count": 1,
     "metadata": {},
     "output_type": "execute_result"
    }
   ],
   "source": [
    "u, v = var('u, v')\n",
    "f_x(u, v) = u\n",
    "f_y(u, v) = v\n",
    "f_z(u, v) = u^2 + v^2\n",
    "parametric_plot3d([f_x, f_y, f_z], (u, -2, 2), (v, -2, 2))"
   ]
  },
  {
   "cell_type": "markdown",
   "id": "f8ed31c6",
   "metadata": {},
   "source": [
    "The third way to plot a 3D surface in Sage is `implicit_plot3d`, which\n",
    "graphs a contour of a function like $f(x, y, z) = 0$ (this defines a set\n",
    "of points). We graph a sphere using the classical formula:"
   ]
  },
  {
   "cell_type": "code",
   "execution_count": null,
   "id": "86176aa4",
   "metadata": {},
   "outputs": [
    {
     "data": {
      "text/plain": [
       "Graphics3d Object"
      ]
     },
     "execution_count": 1,
     "metadata": {},
     "output_type": "execute_result"
    }
   ],
   "source": [
    "x, y, z = var('x, y, z')\n",
    "implicit_plot3d(x^2 + y^2 + z^2 - 4, (x,-2, 2), (y,-2, 2), (z,-2, 2))"
   ]
  },
  {
   "cell_type": "markdown",
   "id": "2fc37d10",
   "metadata": {},
   "source": [
    "Here are some more examples:\n",
    "\n",
    "[Yellow Whitney's\n",
    "umbrella](http://en.wikipedia.org/wiki/Whitney_umbrella):"
   ]
  },
  {
   "cell_type": "code",
   "execution_count": null,
   "id": "29f97ab6",
   "metadata": {},
   "outputs": [
    {
     "data": {
      "text/plain": [
       "Graphics3d Object"
      ]
     },
     "execution_count": 1,
     "metadata": {},
     "output_type": "execute_result"
    }
   ],
   "source": [
    "u, v = var('u,v')\n",
    "fx = u*v\n",
    "fy = u\n",
    "fz = v^2\n",
    "parametric_plot3d([fx, fy, fz], (u, -1, 1), (v, -1, 1),\n",
    "  frame=False, color=\"yellow\")"
   ]
  },
  {
   "cell_type": "markdown",
   "id": "7dfdb42f",
   "metadata": {},
   "source": [
    "[Cross cap](http://en.wikipedia.org/wiki/Cross-cap):"
   ]
  },
  {
   "cell_type": "code",
   "execution_count": null,
   "id": "4cbe792c",
   "metadata": {},
   "outputs": [
    {
     "data": {
      "text/plain": [
       "Graphics3d Object"
      ]
     },
     "execution_count": 1,
     "metadata": {},
     "output_type": "execute_result"
    }
   ],
   "source": [
    "u, v = var('u,v')\n",
    "fx = (1+cos(v))*cos(u)\n",
    "fy = (1+cos(v))*sin(u)\n",
    "fz = -tanh((2/3)*(u-pi))*sin(v)\n",
    "parametric_plot3d([fx, fy, fz], (u, 0, 2*pi), (v, 0, 2*pi),\n",
    "  frame=False, color=\"red\")"
   ]
  },
  {
   "cell_type": "markdown",
   "id": "fb30ac27",
   "metadata": {},
   "source": [
    "Twisted torus:"
   ]
  },
  {
   "cell_type": "code",
   "execution_count": null,
   "id": "a9ab1404",
   "metadata": {},
   "outputs": [
    {
     "data": {
      "text/plain": [
       "Graphics3d Object"
      ]
     },
     "execution_count": 1,
     "metadata": {},
     "output_type": "execute_result"
    }
   ],
   "source": [
    "u, v = var('u,v')\n",
    "fx = (3+sin(v)+cos(u))*cos(2*v)\n",
    "fy = (3+sin(v)+cos(u))*sin(2*v)\n",
    "fz = sin(u)+2*cos(v)\n",
    "parametric_plot3d([fx, fy, fz], (u, 0, 2*pi), (v, 0, 2*pi),\n",
    "  frame=False, color=\"red\")"
   ]
  },
  {
   "cell_type": "markdown",
   "id": "7252eb3b",
   "metadata": {},
   "source": [
    "Lemniscate:"
   ]
  },
  {
   "cell_type": "code",
   "execution_count": null,
   "id": "7bab43cf",
   "metadata": {},
   "outputs": [
    {
     "data": {
      "text/plain": [
       "Graphics3d Object"
      ]
     },
     "execution_count": 1,
     "metadata": {},
     "output_type": "execute_result"
    }
   ],
   "source": [
    "x, y, z = var('x,y,z')\n",
    "f(x, y, z) = 4*x^2 * (x^2 + y^2 + z^2 + z) + y^2 * (y^2 + z^2 - 1)\n",
    "implicit_plot3d(f, (x, -0.5, 0.5), (y, -1, 1), (z, -1, 1))"
   ]
  }
 ],
 "metadata": {},
 "nbformat": 4,
 "nbformat_minor": 5
}
