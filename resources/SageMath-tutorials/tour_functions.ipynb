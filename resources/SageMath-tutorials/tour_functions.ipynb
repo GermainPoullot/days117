{
 "cells": [
  {
   "cell_type": "markdown",
   "id": "dedd3dad",
   "metadata": {},
   "source": [
    "$$\n",
    "\\def\\CC{\\bf C}\n",
    "\\def\\QQ{\\bf Q}\n",
    "\\def\\RR{\\bf R}\n",
    "\\def\\ZZ{\\bf Z}\n",
    "\\def\\NN{\\bf N}\n",
    "$$\n",
    "# Some Common Issues with Functions\n",
    "\n",
    "Some aspects of defining functions (e.g., for differentiation or\n",
    "plotting) can be confusing. In this section we try to address some of\n",
    "the relevant issues.\n",
    "\n",
    "Here are several ways to define things which might deserve to be called\n",
    "\"functions\":\n",
    "\n",
    "1\\. Define a Python function, as described in\n",
    "[section-functions](section-functions.ipynb). These functions can be\n",
    "plotted, but not differentiated or integrated."
   ]
  },
  {
   "cell_type": "code",
   "execution_count": null,
   "id": "59c41b9c",
   "metadata": {},
   "outputs": [
    {
     "data": {
      "text/plain": [
       "<... 'function'>"
      ]
     },
     "execution_count": 1,
     "metadata": {},
     "output_type": "execute_result"
    }
   ],
   "source": [
    "def f(z): return z^2\n",
    "type(f)"
   ]
  },
  {
   "cell_type": "code",
   "execution_count": null,
   "id": "768de7fb",
   "metadata": {},
   "outputs": [
    {
     "data": {
      "text/plain": [
       "9"
      ]
     },
     "execution_count": 1,
     "metadata": {},
     "output_type": "execute_result"
    }
   ],
   "source": [
    "f(3)"
   ]
  },
  {
   "cell_type": "code",
   "execution_count": null,
   "id": "a6a535c1",
   "metadata": {},
   "outputs": [
    {
     "data": {
      "text/plain": [
       "Graphics object consisting of 1 graphics primitive"
      ]
     },
     "execution_count": 1,
     "metadata": {},
     "output_type": "execute_result"
    }
   ],
   "source": [
    "plot(f, 0, 2)"
   ]
  },
  {
   "cell_type": "markdown",
   "id": "9e085023",
   "metadata": {},
   "source": [
    "In the last line, note the syntax. Using `plot(f(z), 0, 2)` instead will\n",
    "give a `NameError`, because `z` is a dummy variable in the definition of\n",
    "`f` and is not defined outside of that definition. In order to be able\n",
    "to use `f(z)` in the plot command, `z` (or whatever is desired) needs to\n",
    "be defined as a variable. We can use the syntax below, or in the next\n",
    "item in our list."
   ]
  },
  {
   "cell_type": "code",
   "execution_count": null,
   "id": "d5b26799",
   "metadata": {},
   "outputs": [
    {
     "data": {
      "text/plain": [
       "z"
      ]
     },
     "execution_count": 1,
     "metadata": {},
     "output_type": "execute_result"
    }
   ],
   "source": [
    "var('z')   # define z to be a variable"
   ]
  },
  {
   "cell_type": "code",
   "execution_count": null,
   "id": "54d8a55d",
   "metadata": {},
   "outputs": [
    {
     "data": {
      "text/plain": [
       "z^2"
      ]
     },
     "execution_count": 1,
     "metadata": {},
     "output_type": "execute_result"
    }
   ],
   "source": [
    "f(z)"
   ]
  },
  {
   "cell_type": "code",
   "execution_count": null,
   "id": "a2b9b7e2",
   "metadata": {},
   "outputs": [
    {
     "data": {
      "text/plain": [
       "Graphics object consisting of 1 graphics primitive"
      ]
     },
     "execution_count": 1,
     "metadata": {},
     "output_type": "execute_result"
    }
   ],
   "source": [
    "plot(f(z), 0, 2)"
   ]
  },
  {
   "cell_type": "markdown",
   "id": "9ae51f84",
   "metadata": {},
   "source": [
    "At this point, `f(z)` is a symbolic expression, the next item in our\n",
    "list.\n",
    "\n",
    "2\\. Define a \"callable symbolic expression\". These can be plotted,\n",
    "differentiated, and integrated."
   ]
  },
  {
   "cell_type": "code",
   "execution_count": null,
   "id": "052a814b",
   "metadata": {},
   "outputs": [
    {
     "data": {
      "text/plain": [
       "x |--> x^2"
      ]
     },
     "execution_count": 1,
     "metadata": {},
     "output_type": "execute_result"
    }
   ],
   "source": [
    "g(x) = x^2\n",
    "g        # g sends x to x^2"
   ]
  },
  {
   "cell_type": "code",
   "execution_count": null,
   "id": "6529f96e",
   "metadata": {},
   "outputs": [
    {
     "data": {
      "text/plain": [
       "9"
      ]
     },
     "execution_count": 1,
     "metadata": {},
     "output_type": "execute_result"
    }
   ],
   "source": [
    "g(3)"
   ]
  },
  {
   "cell_type": "code",
   "execution_count": null,
   "id": "e417088d",
   "metadata": {},
   "outputs": [
    {
     "data": {
      "text/plain": [
       "x |--> 2*x"
      ]
     },
     "execution_count": 1,
     "metadata": {},
     "output_type": "execute_result"
    }
   ],
   "source": [
    "Dg = g.derivative(); Dg"
   ]
  },
  {
   "cell_type": "code",
   "execution_count": null,
   "id": "87e11d18",
   "metadata": {},
   "outputs": [
    {
     "data": {
      "text/plain": [
       "6"
      ]
     },
     "execution_count": 1,
     "metadata": {},
     "output_type": "execute_result"
    }
   ],
   "source": [
    "Dg(3)"
   ]
  },
  {
   "cell_type": "code",
   "execution_count": null,
   "id": "310af499",
   "metadata": {},
   "outputs": [
    {
     "data": {
      "text/plain": [
       "<class 'sage.symbolic.expression.Expression'>"
      ]
     },
     "execution_count": 1,
     "metadata": {},
     "output_type": "execute_result"
    }
   ],
   "source": [
    "type(g)"
   ]
  },
  {
   "cell_type": "code",
   "execution_count": null,
   "id": "f21553ca",
   "metadata": {},
   "outputs": [
    {
     "data": {
      "text/plain": [
       "Graphics object consisting of 1 graphics primitive"
      ]
     },
     "execution_count": 1,
     "metadata": {},
     "output_type": "execute_result"
    }
   ],
   "source": [
    "plot(g, 0, 2)"
   ]
  },
  {
   "cell_type": "markdown",
   "id": "9c0fee1c",
   "metadata": {},
   "source": [
    "Note that while `g` is a callable symbolic expression, `g(x)` is a\n",
    "related, but different sort of object, which can also be plotted,\n",
    "differentated, etc., albeit with some issues: see item 5 below for an\n",
    "illustration."
   ]
  },
  {
   "cell_type": "code",
   "execution_count": null,
   "id": "ab7dbdd4",
   "metadata": {},
   "outputs": [
    {
     "data": {
      "text/plain": [
       "x^2"
      ]
     },
     "execution_count": 1,
     "metadata": {},
     "output_type": "execute_result"
    }
   ],
   "source": [
    "g(x)"
   ]
  },
  {
   "cell_type": "code",
   "execution_count": null,
   "id": "1fefc139",
   "metadata": {},
   "outputs": [
    {
     "data": {
      "text/plain": [
       "<class 'sage.symbolic.expression.Expression'>"
      ]
     },
     "execution_count": 1,
     "metadata": {},
     "output_type": "execute_result"
    }
   ],
   "source": [
    "type(g(x))"
   ]
  },
  {
   "cell_type": "code",
   "execution_count": null,
   "id": "358ad9d3",
   "metadata": {},
   "outputs": [
    {
     "data": {
      "text/plain": [
       "2*x"
      ]
     },
     "execution_count": 1,
     "metadata": {},
     "output_type": "execute_result"
    }
   ],
   "source": [
    "g(x).derivative()"
   ]
  },
  {
   "cell_type": "code",
   "execution_count": null,
   "id": "2ec618eb",
   "metadata": {},
   "outputs": [
    {
     "data": {
      "text/plain": [
       "Graphics object consisting of 1 graphics primitive"
      ]
     },
     "execution_count": 1,
     "metadata": {},
     "output_type": "execute_result"
    }
   ],
   "source": [
    "plot(g(x), 0, 2)"
   ]
  },
  {
   "cell_type": "markdown",
   "id": "41d4a5e1",
   "metadata": {},
   "source": [
    "3\\. Use a pre-defined Sage 'calculus function'. These can be plotted,\n",
    "and with a little help, differentiated, and integrated."
   ]
  },
  {
   "cell_type": "code",
   "execution_count": null,
   "id": "4c3159ba",
   "metadata": {},
   "outputs": [
    {
     "data": {
      "text/plain": [
       "<class 'sage.functions.trig.Function_sin'>"
      ]
     },
     "execution_count": 1,
     "metadata": {},
     "output_type": "execute_result"
    }
   ],
   "source": [
    "type(sin)"
   ]
  },
  {
   "cell_type": "code",
   "execution_count": null,
   "id": "86dffd5a",
   "metadata": {},
   "outputs": [
    {
     "data": {
      "text/plain": [
       "Graphics object consisting of 1 graphics primitive"
      ]
     },
     "execution_count": 1,
     "metadata": {},
     "output_type": "execute_result"
    }
   ],
   "source": [
    "plot(sin, 0, 2)"
   ]
  },
  {
   "cell_type": "code",
   "execution_count": null,
   "id": "6265c1ce",
   "metadata": {},
   "outputs": [
    {
     "data": {
      "text/plain": [
       "<class 'sage.symbolic.expression.Expression'>"
      ]
     },
     "execution_count": 1,
     "metadata": {},
     "output_type": "execute_result"
    }
   ],
   "source": [
    "type(sin(x))"
   ]
  },
  {
   "cell_type": "code",
   "execution_count": null,
   "id": "516bc14f",
   "metadata": {},
   "outputs": [
    {
     "data": {
      "text/plain": [
       "Graphics object consisting of 1 graphics primitive"
      ]
     },
     "execution_count": 1,
     "metadata": {},
     "output_type": "execute_result"
    }
   ],
   "source": [
    "plot(sin(x), 0, 2)"
   ]
  },
  {
   "cell_type": "markdown",
   "id": "52915062",
   "metadata": {},
   "source": [
    "By itself, `sin` cannot be differentiated, at least not to produce\n",
    "`cos`."
   ]
  },
  {
   "cell_type": "code",
   "execution_count": null,
   "id": "779675d0",
   "metadata": {},
   "outputs": [
    {
     "data": {
      "text/plain": [
       "Traceback (most recent call last):\n",
       "...\n",
       "AttributeError: ..."
      ]
     },
     "execution_count": 1,
     "metadata": {},
     "output_type": "execute_result"
    }
   ],
   "source": [
    "f = sin\n",
    "f.derivative()"
   ]
  },
  {
   "cell_type": "markdown",
   "id": "a62392ab",
   "metadata": {},
   "source": [
    "Using `f = sin(x)` instead of `sin` works, but it is probably even\n",
    "better to use `f(x) = sin(x)` to define a callable symbolic expression."
   ]
  },
  {
   "cell_type": "code",
   "execution_count": null,
   "id": "5165c65b",
   "metadata": {},
   "outputs": [
    {
     "data": {
      "text/plain": [
       "x |--> cos(x)"
      ]
     },
     "execution_count": 1,
     "metadata": {},
     "output_type": "execute_result"
    }
   ],
   "source": [
    "S(x) = sin(x)\n",
    "S.derivative()"
   ]
  },
  {
   "cell_type": "markdown",
   "id": "6884e4fb",
   "metadata": {},
   "source": [
    "Here are some common problems, with explanations:\n",
    "\n",
    "4\\. Accidental evaluation."
   ]
  },
  {
   "cell_type": "code",
   "execution_count": null,
   "id": "25b8d240",
   "metadata": {},
   "outputs": [],
   "source": [
    "def h(x):\n",
    "    if x<2:\n",
    "        return 0\n",
    "    else:\n",
    "        return x-2"
   ]
  },
  {
   "cell_type": "markdown",
   "id": "3c652dc9",
   "metadata": {},
   "source": [
    "The issue: `plot(h(x), 0, 4)` plots the line $y=x-2$, not the multi-line\n",
    "function defined by `h`. The reason? In the command `plot(h(x), 0, 4)`,\n",
    "first `h(x)` is evaluated: this means plugging the symbolic variable `x`\n",
    "into the function `h`. So, the inequality `x < 2` evaluates to `False`\n",
    "first, and hence `h(x)` evaluates to `x - 2`. This can be seen with"
   ]
  },
  {
   "cell_type": "code",
   "execution_count": null,
   "id": "b22936ea",
   "metadata": {},
   "outputs": [
    {
     "data": {
      "text/plain": [
       "False"
      ]
     },
     "execution_count": 1,
     "metadata": {},
     "output_type": "execute_result"
    }
   ],
   "source": [
    "bool(x < 2)"
   ]
  },
  {
   "cell_type": "code",
   "execution_count": null,
   "id": "ff9ff107",
   "metadata": {},
   "outputs": [
    {
     "data": {
      "text/plain": [
       "x - 2"
      ]
     },
     "execution_count": 1,
     "metadata": {},
     "output_type": "execute_result"
    }
   ],
   "source": [
    "h(x)"
   ]
  },
  {
   "cell_type": "markdown",
   "id": "cf0ae0c2",
   "metadata": {},
   "source": [
    "Note that here there are two different `x` : the Python variable used to\n",
    "define the function `h` (which is local to its definition) and the\n",
    "symbolic variable `x` which is available on startup in Sage.\n",
    "\n",
    "The solution: don't use `plot(h(x), 0, 4)`; instead, use"
   ]
  },
  {
   "cell_type": "code",
   "execution_count": null,
   "id": "02b8f5ae",
   "metadata": {},
   "outputs": [
    {
     "data": {
      "text/plain": [
       "Graphics object consisting of 1 graphics primitive"
      ]
     },
     "execution_count": 1,
     "metadata": {},
     "output_type": "execute_result"
    }
   ],
   "source": [
    "plot(h, 0, 4)"
   ]
  },
  {
   "cell_type": "markdown",
   "id": "74a02561",
   "metadata": {},
   "source": [
    "5\\. Accidentally producing a constant instead of a function."
   ]
  },
  {
   "cell_type": "code",
   "execution_count": null,
   "id": "dc6d66eb",
   "metadata": {},
   "outputs": [
    {
     "data": {
      "text/plain": [
       "1"
      ]
     },
     "execution_count": 1,
     "metadata": {},
     "output_type": "execute_result"
    }
   ],
   "source": [
    "f = x\n",
    "g = f.derivative()\n",
    "g"
   ]
  },
  {
   "cell_type": "markdown",
   "id": "d5a10666",
   "metadata": {},
   "source": [
    "The problem: `g(3)`, for example, returns an error, saying \"ValueError:\n",
    "the number of arguments must be less than or equal to 0.\""
   ]
  },
  {
   "cell_type": "code",
   "execution_count": null,
   "id": "8aac26c4",
   "metadata": {},
   "outputs": [
    {
     "data": {
      "text/plain": [
       "<class 'sage.symbolic.expression.Expression'>"
      ]
     },
     "execution_count": 1,
     "metadata": {},
     "output_type": "execute_result"
    }
   ],
   "source": [
    "type(f)"
   ]
  },
  {
   "cell_type": "code",
   "execution_count": null,
   "id": "b604202e",
   "metadata": {},
   "outputs": [
    {
     "data": {
      "text/plain": [
       "<class 'sage.symbolic.expression.Expression'>"
      ]
     },
     "execution_count": 1,
     "metadata": {},
     "output_type": "execute_result"
    }
   ],
   "source": [
    "type(g)"
   ]
  },
  {
   "cell_type": "markdown",
   "id": "0926654c",
   "metadata": {},
   "source": [
    "`g` is not a function, it's a constant, so it has no variables\n",
    "associated to it, and you can't plug anything into it.\n",
    "\n",
    "The solution: there are several options.\n",
    "\n",
    "-   Define `f` initially to be a symbolic expression."
   ]
  },
  {
   "cell_type": "code",
   "execution_count": null,
   "id": "5247110c",
   "metadata": {},
   "outputs": [
    {
     "data": {
      "text/plain": [
       "x |--> 1"
      ]
     },
     "execution_count": 1,
     "metadata": {},
     "output_type": "execute_result"
    }
   ],
   "source": [
    "f(x) = x        # instead of 'f = x'\n",
    "g = f.derivative()\n",
    "g"
   ]
  },
  {
   "cell_type": "code",
   "execution_count": null,
   "id": "532059f8",
   "metadata": {},
   "outputs": [
    {
     "data": {
      "text/plain": [
       "1"
      ]
     },
     "execution_count": 1,
     "metadata": {},
     "output_type": "execute_result"
    }
   ],
   "source": [
    "g(3)"
   ]
  },
  {
   "cell_type": "code",
   "execution_count": null,
   "id": "5afe3bee",
   "metadata": {},
   "outputs": [
    {
     "data": {
      "text/plain": [
       "<class 'sage.symbolic.expression.Expression'>"
      ]
     },
     "execution_count": 1,
     "metadata": {},
     "output_type": "execute_result"
    }
   ],
   "source": [
    "type(g)"
   ]
  },
  {
   "cell_type": "markdown",
   "id": "7853c148",
   "metadata": {},
   "source": [
    "-   Or with `f` as defined originally, define `g` to be a symbolic\n",
    "    expression."
   ]
  },
  {
   "cell_type": "code",
   "execution_count": null,
   "id": "24922aa1",
   "metadata": {},
   "outputs": [
    {
     "data": {
      "text/plain": [
       "x |--> 1"
      ]
     },
     "execution_count": 1,
     "metadata": {},
     "output_type": "execute_result"
    }
   ],
   "source": [
    "f = x\n",
    "g(x) = f.derivative()  # instead of 'g = f.derivative()'\n",
    "g"
   ]
  },
  {
   "cell_type": "code",
   "execution_count": null,
   "id": "d3846bd1",
   "metadata": {},
   "outputs": [
    {
     "data": {
      "text/plain": [
       "1"
      ]
     },
     "execution_count": 1,
     "metadata": {},
     "output_type": "execute_result"
    }
   ],
   "source": [
    "g(3)"
   ]
  },
  {
   "cell_type": "code",
   "execution_count": null,
   "id": "42ba705e",
   "metadata": {},
   "outputs": [
    {
     "data": {
      "text/plain": [
       "<class 'sage.symbolic.expression.Expression'>"
      ]
     },
     "execution_count": 1,
     "metadata": {},
     "output_type": "execute_result"
    }
   ],
   "source": [
    "type(g)"
   ]
  },
  {
   "cell_type": "markdown",
   "id": "231561a8",
   "metadata": {},
   "source": [
    "-   Or with `f` and `g` as defined originally, specify the variable for\n",
    "    which you are substituting."
   ]
  },
  {
   "cell_type": "code",
   "execution_count": null,
   "id": "ec6abf4d",
   "metadata": {},
   "outputs": [
    {
     "data": {
      "text/plain": [
       "1"
      ]
     },
     "execution_count": 1,
     "metadata": {},
     "output_type": "execute_result"
    }
   ],
   "source": [
    "f = x\n",
    "g = f.derivative()\n",
    "g"
   ]
  },
  {
   "cell_type": "code",
   "execution_count": null,
   "id": "3d33320d",
   "metadata": {},
   "outputs": [
    {
     "data": {
      "text/plain": [
       "1"
      ]
     },
     "execution_count": 1,
     "metadata": {},
     "output_type": "execute_result"
    }
   ],
   "source": [
    "g(x=3)    # instead of 'g(3)'"
   ]
  },
  {
   "cell_type": "markdown",
   "id": "9b000d91",
   "metadata": {},
   "source": [
    "Finally, here's one more way to tell the difference between the\n",
    "derivatives of `f = x` and `f(x) = x`"
   ]
  },
  {
   "cell_type": "code",
   "execution_count": null,
   "id": "6847c5a8",
   "metadata": {},
   "outputs": [
    {
     "data": {
      "text/plain": [
       "()"
      ]
     },
     "execution_count": 1,
     "metadata": {},
     "output_type": "execute_result"
    }
   ],
   "source": [
    "f(x) = x\n",
    "g = f.derivative()\n",
    "g.variables()  # the variables present in g"
   ]
  },
  {
   "cell_type": "code",
   "execution_count": null,
   "id": "844660a6",
   "metadata": {},
   "outputs": [
    {
     "data": {
      "text/plain": [
       "(x,)"
      ]
     },
     "execution_count": 1,
     "metadata": {},
     "output_type": "execute_result"
    }
   ],
   "source": [
    "g.arguments()  # the arguments which can be plugged into g"
   ]
  },
  {
   "cell_type": "code",
   "execution_count": null,
   "id": "4e747a48",
   "metadata": {},
   "outputs": [
    {
     "data": {
      "text/plain": [
       "()"
      ]
     },
     "execution_count": 1,
     "metadata": {},
     "output_type": "execute_result"
    }
   ],
   "source": [
    "f = x\n",
    "h = f.derivative()\n",
    "h.variables()"
   ]
  },
  {
   "cell_type": "code",
   "execution_count": null,
   "id": "7df66ec0",
   "metadata": {},
   "outputs": [
    {
     "data": {
      "text/plain": [
       "()"
      ]
     },
     "execution_count": 1,
     "metadata": {},
     "output_type": "execute_result"
    }
   ],
   "source": [
    "h.arguments()"
   ]
  },
  {
   "cell_type": "markdown",
   "id": "1caef4c3",
   "metadata": {},
   "source": [
    "As this example has been trying to illustrate, `h` accepts no arguments,\n",
    "and this is why `h(3)` returns an error."
   ]
  }
 ],
 "metadata": {},
 "nbformat": 4,
 "nbformat_minor": 5
}
